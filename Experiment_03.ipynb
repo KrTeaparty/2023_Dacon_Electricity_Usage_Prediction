{
 "cells": [
  {
   "cell_type": "code",
   "execution_count": 30,
   "id": "c74e9ac3-3b15-4937-80e4-cc337d827caa",
   "metadata": {},
   "outputs": [],
   "source": [
    "import pandas as pd\n",
    "from xgboost import XGBRegressor\n",
    "from sklearn.ensemble import RandomForestRegressor, ExtraTreesRegressor\n",
    "import copy\n",
    "from sklearn.model_selection import KFold\n",
    "from sklearn.metrics import mean_absolute_error, mean_squared_error\n",
    "import numpy as np\n",
    "from sklearn.feature_selection import RFE\n",
    "from sklearn.model_selection import GridSearchCV"
   ]
  },
  {
   "cell_type": "code",
   "execution_count": 2,
   "id": "96c06120-523a-44a7-b9f8-58d0bd79d82e",
   "metadata": {},
   "outputs": [],
   "source": [
    "pd.set_option('display.max_columns', None)"
   ]
  },
  {
   "cell_type": "code",
   "execution_count": 3,
   "id": "305c2c59-80b2-441c-9175-f0d8c394c6ce",
   "metadata": {},
   "outputs": [],
   "source": [
    "def smape(true, pred):\n",
    "    v = 2 * abs(pred - true) / (abs(pred) + abs(true))\n",
    "    output = np.mean(v) * 100\n",
    "    return output"
   ]
  },
  {
   "cell_type": "code",
   "execution_count": 4,
   "id": "a6b65e3c-22f1-4d93-b880-754214133b38",
   "metadata": {},
   "outputs": [],
   "source": [
    "bi = pd.read_csv('building_info.csv')\n",
    "train = pd.read_csv('train.csv')\n",
    "test = pd.read_csv('test.csv')"
   ]
  },
  {
   "cell_type": "code",
   "execution_count": 5,
   "id": "e213916d-90dc-4971-bfec-88ef690df172",
   "metadata": {},
   "outputs": [],
   "source": [
    "bi = bi.rename(columns={\n",
    "    '건물번호': 'building_number',\n",
    "    '건물유형': 'building_type',\n",
    "    '연면적(m2)': 'total_area',\n",
    "    '냉방면적(m2)': 'cooling_area',\n",
    "    '태양광용량(kW)': 'solar_power',\n",
    "    'ESS저장용량(kWh)': 'ess',\n",
    "    'PCS용량(kW)': 'pcs'\n",
    "})"
   ]
  },
  {
   "cell_type": "code",
   "execution_count": 6,
   "id": "b0709ae3-5898-4697-83fc-21d5f1dbb143",
   "metadata": {},
   "outputs": [],
   "source": [
    "replace_dict = {\n",
    "    '건물기타': 'Other',\n",
    "    '공공': 'Public',\n",
    "    '대학교': 'University',\n",
    "    '데이터센터': 'Data_Center',\n",
    "    '백화점및아울렛': 'Department_Store_and_Outlet',\n",
    "    '병원': 'Hospital',\n",
    "    '상용': 'Commercial',\n",
    "    '아파트': 'Apartment',\n",
    "    '연구소': 'Laboratory',\n",
    "    '지식산업센터': 'Knowledge_Industry_Center',\n",
    "    '할인마트': 'Discount_Mart',\n",
    "    '호텔및리조트': 'Hotel_and_Resort'\n",
    "}\n",
    "\n",
    "bi['building_type'] = bi['building_type'].replace(replace_dict)"
   ]
  },
  {
   "cell_type": "code",
   "execution_count": 7,
   "id": "6eac74f4-b797-4258-8386-4d8b0d16e356",
   "metadata": {},
   "outputs": [],
   "source": [
    "train = train.rename(columns={\n",
    "    '건물번호': 'building_number',\n",
    "    '일시': 'date_time',\n",
    "    '기온(C)': 'temperature',\n",
    "    '강수량(mm)': 'precipitation',\n",
    "    '풍속(m/s)': 'windspeed',\n",
    "    '습도(%)': 'humidity',\n",
    "    '일조(hr)': 'sunshine',\n",
    "    '일사(MJ/m2)': 'solar_radiation',\n",
    "    '전력소비량(kWh)': 'power_consumption'\n",
    "})"
   ]
  },
  {
   "cell_type": "code",
   "execution_count": 8,
   "id": "ed856fba-0bd1-4ad2-b7c9-77ef014139df",
   "metadata": {},
   "outputs": [],
   "source": [
    "test = test.rename(columns={\n",
    "    '건물번호': 'building_number',\n",
    "    '일시': 'date_time',\n",
    "    '기온(C)': 'temperature',\n",
    "    '강수량(mm)': 'precipitation',\n",
    "    '풍속(m/s)': 'windspeed',\n",
    "    '습도(%)': 'humidity'\n",
    "})"
   ]
  },
  {
   "cell_type": "code",
   "execution_count": 9,
   "id": "4b083aa5-5d88-4859-a378-17d62f4a9763",
   "metadata": {},
   "outputs": [],
   "source": [
    "train.drop(['num_date_time', 'sunshine', 'solar_radiation'], axis=1, inplace=True)\n",
    "test.drop('num_date_time', axis=1, inplace=True)"
   ]
  },
  {
   "cell_type": "code",
   "execution_count": 10,
   "id": "d0c367a9-5bcf-48bc-84f6-f0dcc915bb6f",
   "metadata": {},
   "outputs": [],
   "source": [
    "train['date_time'] = pd.to_datetime(train['date_time'], format='%Y%m%d %H')\n",
    "\n",
    "train['month'] = train['date_time'].dt.month\n",
    "train['day'] = train['date_time'].dt.day\n",
    "train['hour'] = train['date_time'].dt.hour"
   ]
  },
  {
   "cell_type": "code",
   "execution_count": 11,
   "id": "40c342db-6e04-400e-adfe-1525dc189061",
   "metadata": {},
   "outputs": [],
   "source": [
    "test['date_time'] = pd.to_datetime(test['date_time'], format='%Y%m%d %H')\n",
    "\n",
    "test['month'] = test['date_time'].dt.month\n",
    "test['day'] = test['date_time'].dt.day\n",
    "test['hour'] = test['date_time'].dt.hour"
   ]
  },
  {
   "cell_type": "code",
   "execution_count": 12,
   "id": "3ed1a819-fc0b-4840-9278-059d84cbc4db",
   "metadata": {},
   "outputs": [],
   "source": [
    "train = pd.merge(train, bi, on='building_number', how='left')\n",
    "test = pd.merge(test, bi, on='building_number', how='left')"
   ]
  },
  {
   "cell_type": "code",
   "execution_count": 13,
   "id": "0842ace5-45ee-44c3-9d6c-c142ddebc8a7",
   "metadata": {},
   "outputs": [],
   "source": [
    "train['day_of_year'] = train['date_time'].dt.dayofyear\n",
    "train['day_of_week'] = train['date_time'].dt.dayofweek\n",
    "\n",
    "train.replace('-', 0, inplace=True)\n",
    "train = train.astype({'solar_power':'float', 'ess':'float', 'pcs':'float'})\n",
    "train = train.astype({'solar_power':'int', 'ess':'int', 'pcs':'int'})\n",
    "train.loc[train['solar_power'] > 0, 'solar_power'] = 1\n",
    "train.loc[train['ess'] > 0, 'ess'] = 1\n",
    "train.loc[train['pcs'] > 0, 'pcs'] = 1"
   ]
  },
  {
   "cell_type": "code",
   "execution_count": 14,
   "id": "fee40992-ff45-4df8-8d80-c27b36aec16c",
   "metadata": {},
   "outputs": [],
   "source": [
    "test['day_of_year'] = test['date_time'].dt.dayofyear\n",
    "test['day_of_week'] = test['date_time'].dt.dayofweek\n",
    "\n",
    "test.replace('-', 0, inplace=True)\n",
    "test = test.astype({'solar_power':'float', 'ess':'float', 'pcs':'float'})\n",
    "test = test.astype({'solar_power':'int', 'ess':'int', 'pcs':'int'})\n",
    "test.loc[test['solar_power'] > 0, 'solar_power'] = 1\n",
    "test.loc[test['ess'] > 0, 'ess'] = 1\n",
    "test.loc[test['pcs'] > 0, 'pcs'] = 1"
   ]
  },
  {
   "cell_type": "code",
   "execution_count": 15,
   "id": "7dc1d75f-f1f7-4bfa-a2c0-413b382538c5",
   "metadata": {},
   "outputs": [],
   "source": [
    "train.drop(['date_time', 'precipitation', 'total_area','cooling_area'], axis=1, inplace=True)"
   ]
  },
  {
   "cell_type": "code",
   "execution_count": 16,
   "id": "43a8ff10-0539-4e23-9c41-0766c66e172e",
   "metadata": {},
   "outputs": [],
   "source": [
    "test.drop(['date_time', 'precipitation', 'total_area','cooling_area'], axis=1, inplace=True)"
   ]
  },
  {
   "cell_type": "markdown",
   "id": "5f9f61ab-5ea4-45ae-9fd6-2362f46f8546",
   "metadata": {},
   "source": [
    "### 건물 유형 별 모델 생성"
   ]
  },
  {
   "cell_type": "code",
   "execution_count": 17,
   "id": "e8c988d0-a7a6-4fb4-91ea-76eabee713fd",
   "metadata": {},
   "outputs": [],
   "source": [
    "train_bt = train.copy()\n",
    "train_bt['day_of_week'] = pd.cut(train_bt.day_of_week, bins=[0,4,6], labels=[0,1], include_lowest=True)\n",
    "train_bt['day_of_week'] = train_bt['day_of_week'].astype('int')"
   ]
  },
  {
   "cell_type": "code",
   "execution_count": 18,
   "id": "f0cc417d-ca75-49c4-8c1c-f0d563b0aebe",
   "metadata": {},
   "outputs": [],
   "source": [
    "test_bt = test.copy()\n",
    "test_bt['day_of_week'] = pd.cut(test_bt.day_of_week, bins=[0,4,6], labels=[0,1], include_lowest=True)\n",
    "test_bt['day_of_week'] = test_bt['day_of_week'].astype('int')"
   ]
  },
  {
   "cell_type": "code",
   "execution_count": 19,
   "id": "b843a26b-7fd3-46ad-88c0-cb212fb62fcb",
   "metadata": {},
   "outputs": [],
   "source": [
    "train_bt.dropna(inplace=True)"
   ]
  },
  {
   "cell_type": "code",
   "execution_count": 20,
   "id": "af8e0bc6-9acc-4894-a537-01400ba2b961",
   "metadata": {},
   "outputs": [],
   "source": [
    "train_tmp = train_bt.copy()\n",
    "test_tmp = test_bt.copy()"
   ]
  },
  {
   "cell_type": "code",
   "execution_count": 21,
   "id": "6ab49944-7ea5-470d-863f-0039f965e1c0",
   "metadata": {},
   "outputs": [],
   "source": [
    "replace_dict = {\n",
    "    'Other': 0,\n",
    "    'Public': 1,\n",
    "    'University': 2,\n",
    "    'Data_Center': 3,\n",
    "    'Department_Store_and_Outlet': 4,\n",
    "    'Hospital': 5,\n",
    "    'Commercial': 6,\n",
    "    'Apartment': 7,\n",
    "    'Laboratory': 8,\n",
    "    'Knowledge_Industry_Center': 9,\n",
    "    'Discount_Mart': 10,\n",
    "    'Hotel_and_Resort': 11\n",
    "}\n",
    "\n",
    "train_tmp['building_type'] = train_bt['building_type'].replace(replace_dict)"
   ]
  },
  {
   "cell_type": "code",
   "execution_count": 22,
   "id": "4be8b511-8478-4cae-aa0c-7d8144476887",
   "metadata": {},
   "outputs": [],
   "source": [
    "replace_dict = {\n",
    "    'Other': 0,\n",
    "    'Public': 1,\n",
    "    'University': 2,\n",
    "    'Data_Center': 3,\n",
    "    'Department_Store_and_Outlet': 4,\n",
    "    'Hospital': 5,\n",
    "    'Commercial': 6,\n",
    "    'Apartment': 7,\n",
    "    'Laboratory': 8,\n",
    "    'Knowledge_Industry_Center': 9,\n",
    "    'Discount_Mart': 10,\n",
    "    'Hotel_and_Resort': 11\n",
    "}\n",
    "\n",
    "test_tmp['building_type'] = test_bt['building_type'].replace(replace_dict)"
   ]
  },
  {
   "cell_type": "code",
   "execution_count": 23,
   "id": "1d6556ee-b8de-403a-b0a4-c9caf726f4be",
   "metadata": {},
   "outputs": [],
   "source": [
    "train_tmp = pd.get_dummies(train_tmp, columns=['building_type', 'building_number'])\n",
    "test_tmp = pd.get_dummies(test_tmp, columns=['building_type', 'building_number'])"
   ]
  },
  {
   "cell_type": "code",
   "execution_count": 24,
   "id": "b9c03876-97f6-4efe-9a2b-5a4c24d1a493",
   "metadata": {},
   "outputs": [],
   "source": [
    "X = train_tmp.drop(['power_consumption'], axis=1)\n",
    "y = train_tmp['power_consumption']"
   ]
  },
  {
   "cell_type": "markdown",
   "id": "8b48b9d6-fb07-4010-a48e-8ab361691faa",
   "metadata": {},
   "source": [
    "### Grid Search"
   ]
  },
  {
   "cell_type": "code",
   "execution_count": 25,
   "id": "6cd9a98d-8e3f-4032-9021-7b9b5a981916",
   "metadata": {},
   "outputs": [
    {
     "data": {
      "text/html": [
       "<style>#sk-container-id-1 {color: black;background-color: white;}#sk-container-id-1 pre{padding: 0;}#sk-container-id-1 div.sk-toggleable {background-color: white;}#sk-container-id-1 label.sk-toggleable__label {cursor: pointer;display: block;width: 100%;margin-bottom: 0;padding: 0.3em;box-sizing: border-box;text-align: center;}#sk-container-id-1 label.sk-toggleable__label-arrow:before {content: \"▸\";float: left;margin-right: 0.25em;color: #696969;}#sk-container-id-1 label.sk-toggleable__label-arrow:hover:before {color: black;}#sk-container-id-1 div.sk-estimator:hover label.sk-toggleable__label-arrow:before {color: black;}#sk-container-id-1 div.sk-toggleable__content {max-height: 0;max-width: 0;overflow: hidden;text-align: left;background-color: #f0f8ff;}#sk-container-id-1 div.sk-toggleable__content pre {margin: 0.2em;color: black;border-radius: 0.25em;background-color: #f0f8ff;}#sk-container-id-1 input.sk-toggleable__control:checked~div.sk-toggleable__content {max-height: 200px;max-width: 100%;overflow: auto;}#sk-container-id-1 input.sk-toggleable__control:checked~label.sk-toggleable__label-arrow:before {content: \"▾\";}#sk-container-id-1 div.sk-estimator input.sk-toggleable__control:checked~label.sk-toggleable__label {background-color: #d4ebff;}#sk-container-id-1 div.sk-label input.sk-toggleable__control:checked~label.sk-toggleable__label {background-color: #d4ebff;}#sk-container-id-1 input.sk-hidden--visually {border: 0;clip: rect(1px 1px 1px 1px);clip: rect(1px, 1px, 1px, 1px);height: 1px;margin: -1px;overflow: hidden;padding: 0;position: absolute;width: 1px;}#sk-container-id-1 div.sk-estimator {font-family: monospace;background-color: #f0f8ff;border: 1px dotted black;border-radius: 0.25em;box-sizing: border-box;margin-bottom: 0.5em;}#sk-container-id-1 div.sk-estimator:hover {background-color: #d4ebff;}#sk-container-id-1 div.sk-parallel-item::after {content: \"\";width: 100%;border-bottom: 1px solid gray;flex-grow: 1;}#sk-container-id-1 div.sk-label:hover label.sk-toggleable__label {background-color: #d4ebff;}#sk-container-id-1 div.sk-serial::before {content: \"\";position: absolute;border-left: 1px solid gray;box-sizing: border-box;top: 0;bottom: 0;left: 50%;z-index: 0;}#sk-container-id-1 div.sk-serial {display: flex;flex-direction: column;align-items: center;background-color: white;padding-right: 0.2em;padding-left: 0.2em;position: relative;}#sk-container-id-1 div.sk-item {position: relative;z-index: 1;}#sk-container-id-1 div.sk-parallel {display: flex;align-items: stretch;justify-content: center;background-color: white;position: relative;}#sk-container-id-1 div.sk-item::before, #sk-container-id-1 div.sk-parallel-item::before {content: \"\";position: absolute;border-left: 1px solid gray;box-sizing: border-box;top: 0;bottom: 0;left: 50%;z-index: -1;}#sk-container-id-1 div.sk-parallel-item {display: flex;flex-direction: column;z-index: 1;position: relative;background-color: white;}#sk-container-id-1 div.sk-parallel-item:first-child::after {align-self: flex-end;width: 50%;}#sk-container-id-1 div.sk-parallel-item:last-child::after {align-self: flex-start;width: 50%;}#sk-container-id-1 div.sk-parallel-item:only-child::after {width: 0;}#sk-container-id-1 div.sk-dashed-wrapped {border: 1px dashed gray;margin: 0 0.4em 0.5em 0.4em;box-sizing: border-box;padding-bottom: 0.4em;background-color: white;}#sk-container-id-1 div.sk-label label {font-family: monospace;font-weight: bold;display: inline-block;line-height: 1.2em;}#sk-container-id-1 div.sk-label-container {text-align: center;}#sk-container-id-1 div.sk-container {/* jupyter's `normalize.less` sets `[hidden] { display: none; }` but bootstrap.min.css set `[hidden] { display: none !important; }` so we also need the `!important` here to be able to override the default hidden behavior on the sphinx rendered scikit-learn.org. See: https://github.com/scikit-learn/scikit-learn/issues/21755 */display: inline-block !important;position: relative;}#sk-container-id-1 div.sk-text-repr-fallback {display: none;}</style><div id=\"sk-container-id-1\" class=\"sk-top-container\"><div class=\"sk-text-repr-fallback\"><pre>RandomForestRegressor(max_depth=80, max_features=30, min_samples_leaf=10,\n",
       "                      random_state=41)</pre><b>In a Jupyter environment, please rerun this cell to show the HTML representation or trust the notebook. <br />On GitHub, the HTML representation is unable to render, please try loading this page with nbviewer.org.</b></div><div class=\"sk-container\" hidden><div class=\"sk-item\"><div class=\"sk-estimator sk-toggleable\"><input class=\"sk-toggleable__control sk-hidden--visually\" id=\"sk-estimator-id-1\" type=\"checkbox\" checked><label for=\"sk-estimator-id-1\" class=\"sk-toggleable__label sk-toggleable__label-arrow\">RandomForestRegressor</label><div class=\"sk-toggleable__content\"><pre>RandomForestRegressor(max_depth=80, max_features=30, min_samples_leaf=10,\n",
       "                      random_state=41)</pre></div></div></div></div></div>"
      ],
      "text/plain": [
       "RandomForestRegressor(max_depth=80, max_features=30, min_samples_leaf=10,\n",
       "                      random_state=41)"
      ]
     },
     "execution_count": 25,
     "metadata": {},
     "output_type": "execute_result"
    }
   ],
   "source": [
    "model = RandomForestRegressor(\n",
    "    max_depth=80,\n",
    "    max_features=30,\n",
    "    min_samples_leaf=10,\n",
    "    min_samples_split=2,\n",
    "    n_estimators=100,\n",
    "    random_state=41)\n",
    "model.fit(X,y)"
   ]
  },
  {
   "cell_type": "code",
   "execution_count": 27,
   "id": "c23b5867-74c4-40c8-9fe9-c4118f8f8578",
   "metadata": {},
   "outputs": [],
   "source": [
    "sub = pd.read_csv('sample_submission.csv')"
   ]
  },
  {
   "cell_type": "code",
   "execution_count": 28,
   "id": "d0a0e573-8dcd-4fe6-a023-c2fcb6741c35",
   "metadata": {},
   "outputs": [],
   "source": [
    "X_test = test_tmp\n",
    "pred = model.predict(X_test)\n",
    "sub['answer'] = pred\n",
    "sub.to_csv('rf_sub_11.csv', index=False)"
   ]
  },
  {
   "cell_type": "code",
   "execution_count": 43,
   "id": "3017098e-1127-48b2-b162-5c5df712f73a",
   "metadata": {},
   "outputs": [
    {
     "data": {
      "text/html": [
       "<style>#sk-container-id-3 {color: black;background-color: white;}#sk-container-id-3 pre{padding: 0;}#sk-container-id-3 div.sk-toggleable {background-color: white;}#sk-container-id-3 label.sk-toggleable__label {cursor: pointer;display: block;width: 100%;margin-bottom: 0;padding: 0.3em;box-sizing: border-box;text-align: center;}#sk-container-id-3 label.sk-toggleable__label-arrow:before {content: \"▸\";float: left;margin-right: 0.25em;color: #696969;}#sk-container-id-3 label.sk-toggleable__label-arrow:hover:before {color: black;}#sk-container-id-3 div.sk-estimator:hover label.sk-toggleable__label-arrow:before {color: black;}#sk-container-id-3 div.sk-toggleable__content {max-height: 0;max-width: 0;overflow: hidden;text-align: left;background-color: #f0f8ff;}#sk-container-id-3 div.sk-toggleable__content pre {margin: 0.2em;color: black;border-radius: 0.25em;background-color: #f0f8ff;}#sk-container-id-3 input.sk-toggleable__control:checked~div.sk-toggleable__content {max-height: 200px;max-width: 100%;overflow: auto;}#sk-container-id-3 input.sk-toggleable__control:checked~label.sk-toggleable__label-arrow:before {content: \"▾\";}#sk-container-id-3 div.sk-estimator input.sk-toggleable__control:checked~label.sk-toggleable__label {background-color: #d4ebff;}#sk-container-id-3 div.sk-label input.sk-toggleable__control:checked~label.sk-toggleable__label {background-color: #d4ebff;}#sk-container-id-3 input.sk-hidden--visually {border: 0;clip: rect(1px 1px 1px 1px);clip: rect(1px, 1px, 1px, 1px);height: 1px;margin: -1px;overflow: hidden;padding: 0;position: absolute;width: 1px;}#sk-container-id-3 div.sk-estimator {font-family: monospace;background-color: #f0f8ff;border: 1px dotted black;border-radius: 0.25em;box-sizing: border-box;margin-bottom: 0.5em;}#sk-container-id-3 div.sk-estimator:hover {background-color: #d4ebff;}#sk-container-id-3 div.sk-parallel-item::after {content: \"\";width: 100%;border-bottom: 1px solid gray;flex-grow: 1;}#sk-container-id-3 div.sk-label:hover label.sk-toggleable__label {background-color: #d4ebff;}#sk-container-id-3 div.sk-serial::before {content: \"\";position: absolute;border-left: 1px solid gray;box-sizing: border-box;top: 0;bottom: 0;left: 50%;z-index: 0;}#sk-container-id-3 div.sk-serial {display: flex;flex-direction: column;align-items: center;background-color: white;padding-right: 0.2em;padding-left: 0.2em;position: relative;}#sk-container-id-3 div.sk-item {position: relative;z-index: 1;}#sk-container-id-3 div.sk-parallel {display: flex;align-items: stretch;justify-content: center;background-color: white;position: relative;}#sk-container-id-3 div.sk-item::before, #sk-container-id-3 div.sk-parallel-item::before {content: \"\";position: absolute;border-left: 1px solid gray;box-sizing: border-box;top: 0;bottom: 0;left: 50%;z-index: -1;}#sk-container-id-3 div.sk-parallel-item {display: flex;flex-direction: column;z-index: 1;position: relative;background-color: white;}#sk-container-id-3 div.sk-parallel-item:first-child::after {align-self: flex-end;width: 50%;}#sk-container-id-3 div.sk-parallel-item:last-child::after {align-self: flex-start;width: 50%;}#sk-container-id-3 div.sk-parallel-item:only-child::after {width: 0;}#sk-container-id-3 div.sk-dashed-wrapped {border: 1px dashed gray;margin: 0 0.4em 0.5em 0.4em;box-sizing: border-box;padding-bottom: 0.4em;background-color: white;}#sk-container-id-3 div.sk-label label {font-family: monospace;font-weight: bold;display: inline-block;line-height: 1.2em;}#sk-container-id-3 div.sk-label-container {text-align: center;}#sk-container-id-3 div.sk-container {/* jupyter's `normalize.less` sets `[hidden] { display: none; }` but bootstrap.min.css set `[hidden] { display: none !important; }` so we also need the `!important` here to be able to override the default hidden behavior on the sphinx rendered scikit-learn.org. See: https://github.com/scikit-learn/scikit-learn/issues/21755 */display: inline-block !important;position: relative;}#sk-container-id-3 div.sk-text-repr-fallback {display: none;}</style><div id=\"sk-container-id-3\" class=\"sk-top-container\"><div class=\"sk-text-repr-fallback\"><pre>ExtraTreesRegressor(random_state=41)</pre><b>In a Jupyter environment, please rerun this cell to show the HTML representation or trust the notebook. <br />On GitHub, the HTML representation is unable to render, please try loading this page with nbviewer.org.</b></div><div class=\"sk-container\" hidden><div class=\"sk-item\"><div class=\"sk-estimator sk-toggleable\"><input class=\"sk-toggleable__control sk-hidden--visually\" id=\"sk-estimator-id-3\" type=\"checkbox\" checked><label for=\"sk-estimator-id-3\" class=\"sk-toggleable__label sk-toggleable__label-arrow\">ExtraTreesRegressor</label><div class=\"sk-toggleable__content\"><pre>ExtraTreesRegressor(random_state=41)</pre></div></div></div></div></div>"
      ],
      "text/plain": [
       "ExtraTreesRegressor(random_state=41)"
      ]
     },
     "execution_count": 43,
     "metadata": {},
     "output_type": "execute_result"
    }
   ],
   "source": [
    "model = ExtraTreesRegressor(random_state=41)\n",
    "model.fit(X, y)"
   ]
  },
  {
   "cell_type": "code",
   "execution_count": 44,
   "id": "8f0f4cea-a331-4f89-b299-99a3deee2a96",
   "metadata": {},
   "outputs": [
    {
     "data": {
      "text/plain": [
       "66.04642559896669"
      ]
     },
     "execution_count": 44,
     "metadata": {},
     "output_type": "execute_result"
    }
   ],
   "source": [
    "pred = model.predict(X_test)\n",
    "sub['answer'] = pred\n",
    "mean_absolute_error(best['answer'], sub['answer'])"
   ]
  },
  {
   "cell_type": "code",
   "execution_count": 45,
   "id": "477b00b1-6c48-4aa3-a565-0d7d220a504a",
   "metadata": {},
   "outputs": [],
   "source": [
    "sub.to_csv('ex_sub_12.csv', index=False)"
   ]
  },
  {
   "cell_type": "code",
   "execution_count": null,
   "id": "04998270-03ce-4b97-a2c7-87a09fa85df5",
   "metadata": {},
   "outputs": [],
   "source": []
  }
 ],
 "metadata": {
  "kernelspec": {
   "display_name": "Python 3 (ipykernel)",
   "language": "python",
   "name": "python3"
  },
  "language_info": {
   "codemirror_mode": {
    "name": "ipython",
    "version": 3
   },
   "file_extension": ".py",
   "mimetype": "text/x-python",
   "name": "python",
   "nbconvert_exporter": "python",
   "pygments_lexer": "ipython3",
   "version": "3.10.8"
  }
 },
 "nbformat": 4,
 "nbformat_minor": 5
}
