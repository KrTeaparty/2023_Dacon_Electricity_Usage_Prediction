{
 "cells": [
  {
   "cell_type": "code",
   "execution_count": 69,
   "id": "eee281c2-960f-47f0-b8c7-596f2cc7c8ce",
   "metadata": {},
   "outputs": [],
   "source": [
    "import xgboost as xgb\n",
    "import tqdm as tq\n",
    "import matplotlib.pyplot as plt\n",
    "import seaborn as sns\n",
    "import sklearn\n",
    "import pandas as pd\n",
    "from tqdm import tqdm\n",
    "from xgboost import XGBRegressor\n",
    "from sklearn.ensemble import RandomForestRegressor\n",
    "import numpy as np"
   ]
  },
  {
   "cell_type": "markdown",
   "id": "be889fcb-95a8-40b4-b6a1-83183b4acce0",
   "metadata": {},
   "source": [
    "### Train Data Preprocessing"
   ]
  },
  {
   "cell_type": "code",
   "execution_count": 59,
   "id": "7f61b5e7-8f27-48a6-8cee-7d2ef8ef6bb5",
   "metadata": {},
   "outputs": [],
   "source": [
    "train = pd.read_csv('train.csv')"
   ]
  },
  {
   "cell_type": "code",
   "execution_count": 69,
   "id": "1cdf8a36-28d1-48cb-9d43-2016e6e84909",
   "metadata": {},
   "outputs": [
    {
     "data": {
      "text/html": [
       "<div>\n",
       "<style scoped>\n",
       "    .dataframe tbody tr th:only-of-type {\n",
       "        vertical-align: middle;\n",
       "    }\n",
       "\n",
       "    .dataframe tbody tr th {\n",
       "        vertical-align: top;\n",
       "    }\n",
       "\n",
       "    .dataframe thead th {\n",
       "        text-align: right;\n",
       "    }\n",
       "</style>\n",
       "<table border=\"1\" class=\"dataframe\">\n",
       "  <thead>\n",
       "    <tr style=\"text-align: right;\">\n",
       "      <th></th>\n",
       "      <th>num_date_time</th>\n",
       "      <th>건물번호</th>\n",
       "      <th>일시</th>\n",
       "      <th>기온(C)</th>\n",
       "      <th>강수량(mm)</th>\n",
       "      <th>풍속(m/s)</th>\n",
       "      <th>습도(%)</th>\n",
       "      <th>일조(hr)</th>\n",
       "      <th>일사(MJ/m2)</th>\n",
       "      <th>전력소비량(kWh)</th>\n",
       "    </tr>\n",
       "  </thead>\n",
       "  <tbody>\n",
       "    <tr>\n",
       "      <th>0</th>\n",
       "      <td>1_20220601 00</td>\n",
       "      <td>1</td>\n",
       "      <td>20220601 00</td>\n",
       "      <td>18.6</td>\n",
       "      <td>NaN</td>\n",
       "      <td>0.9</td>\n",
       "      <td>42.0</td>\n",
       "      <td>NaN</td>\n",
       "      <td>NaN</td>\n",
       "      <td>1085.28</td>\n",
       "    </tr>\n",
       "    <tr>\n",
       "      <th>1</th>\n",
       "      <td>1_20220601 01</td>\n",
       "      <td>1</td>\n",
       "      <td>20220601 01</td>\n",
       "      <td>18.0</td>\n",
       "      <td>NaN</td>\n",
       "      <td>1.1</td>\n",
       "      <td>45.0</td>\n",
       "      <td>NaN</td>\n",
       "      <td>NaN</td>\n",
       "      <td>1047.36</td>\n",
       "    </tr>\n",
       "    <tr>\n",
       "      <th>2</th>\n",
       "      <td>1_20220601 02</td>\n",
       "      <td>1</td>\n",
       "      <td>20220601 02</td>\n",
       "      <td>17.7</td>\n",
       "      <td>NaN</td>\n",
       "      <td>1.5</td>\n",
       "      <td>45.0</td>\n",
       "      <td>NaN</td>\n",
       "      <td>NaN</td>\n",
       "      <td>974.88</td>\n",
       "    </tr>\n",
       "    <tr>\n",
       "      <th>3</th>\n",
       "      <td>1_20220601 03</td>\n",
       "      <td>1</td>\n",
       "      <td>20220601 03</td>\n",
       "      <td>16.7</td>\n",
       "      <td>NaN</td>\n",
       "      <td>1.4</td>\n",
       "      <td>48.0</td>\n",
       "      <td>NaN</td>\n",
       "      <td>NaN</td>\n",
       "      <td>953.76</td>\n",
       "    </tr>\n",
       "    <tr>\n",
       "      <th>4</th>\n",
       "      <td>1_20220601 04</td>\n",
       "      <td>1</td>\n",
       "      <td>20220601 04</td>\n",
       "      <td>18.4</td>\n",
       "      <td>NaN</td>\n",
       "      <td>2.8</td>\n",
       "      <td>43.0</td>\n",
       "      <td>NaN</td>\n",
       "      <td>NaN</td>\n",
       "      <td>986.40</td>\n",
       "    </tr>\n",
       "  </tbody>\n",
       "</table>\n",
       "</div>"
      ],
      "text/plain": [
       "   num_date_time  건물번호           일시  기온(C)  강수량(mm)  풍속(m/s)  습도(%)  일조(hr)  \\\n",
       "0  1_20220601 00     1  20220601 00   18.6      NaN      0.9   42.0     NaN   \n",
       "1  1_20220601 01     1  20220601 01   18.0      NaN      1.1   45.0     NaN   \n",
       "2  1_20220601 02     1  20220601 02   17.7      NaN      1.5   45.0     NaN   \n",
       "3  1_20220601 03     1  20220601 03   16.7      NaN      1.4   48.0     NaN   \n",
       "4  1_20220601 04     1  20220601 04   18.4      NaN      2.8   43.0     NaN   \n",
       "\n",
       "   일사(MJ/m2)  전력소비량(kWh)  \n",
       "0        NaN     1085.28  \n",
       "1        NaN     1047.36  \n",
       "2        NaN      974.88  \n",
       "3        NaN      953.76  \n",
       "4        NaN      986.40  "
      ]
     },
     "execution_count": 69,
     "metadata": {},
     "output_type": "execute_result"
    }
   ],
   "source": [
    "train.head()"
   ]
  },
  {
   "cell_type": "code",
   "execution_count": 60,
   "id": "59de0470-210e-4c17-ba7d-434f9b126c1d",
   "metadata": {},
   "outputs": [],
   "source": [
    "train.pop('일조(hr)')\n",
    "train.pop('일사(MJ/m2)')\n",
    "\n",
    "train['일시'] = pd.to_datetime(train['일시'], format='%Y%m%d %H')\n",
    "train['month'] = train['일시'].dt.month\n",
    "train['day'] = train['일시'].dt.weekday\n",
    "train['hour'] = train['일시'].dt.hour\n",
    "train['holiday'] = train.apply(lambda x: 0 if x['day']<5 else 1, axis=1)\n",
    "train['sin_time'] = np.sin(2*np.pi*train.hour/24) # cyclical encoding\n",
    "train['cos_time'] = np.cos(2*np.pi*train.hour/24)\n",
    "train['DI'] = 1.8*train['기온(C)'] - 0.55*(1-train['습도(%)'])*(1.8*train['기온(C)']-26) + 32 # 불쾌지수\n",
    "\n",
    "train.pop('num_date_time')\n",
    "train.pop('일시')\n",
    "train.pop('hour')\n",
    "train['power'] = train['전력소비량(kWh)']\n",
    "train.pop('전력소비량(kWh)')\n",
    "train['강수량(mm)'] = train['강수량(mm)'].fillna(0)\n",
    "train['풍속(m/s)'] = train['풍속(m/s)'].fillna(0)\n",
    "train['습도(%)'] = train['습도(%)'].fillna(0)"
   ]
  },
  {
   "cell_type": "code",
   "execution_count": 71,
   "id": "1a8002f6-4dd7-4ba1-8b62-969ef3a3c198",
   "metadata": {},
   "outputs": [],
   "source": [
    "train.to_csv('train_preprocessed.csv', index=False)"
   ]
  },
  {
   "cell_type": "code",
   "execution_count": 72,
   "id": "a31c380d-3dd0-475f-bca0-80c0573d6b4e",
   "metadata": {},
   "outputs": [
    {
     "data": {
      "text/html": [
       "<div>\n",
       "<style scoped>\n",
       "    .dataframe tbody tr th:only-of-type {\n",
       "        vertical-align: middle;\n",
       "    }\n",
       "\n",
       "    .dataframe tbody tr th {\n",
       "        vertical-align: top;\n",
       "    }\n",
       "\n",
       "    .dataframe thead th {\n",
       "        text-align: right;\n",
       "    }\n",
       "</style>\n",
       "<table border=\"1\" class=\"dataframe\">\n",
       "  <thead>\n",
       "    <tr style=\"text-align: right;\">\n",
       "      <th></th>\n",
       "      <th>건물번호</th>\n",
       "      <th>기온(C)</th>\n",
       "      <th>강수량(mm)</th>\n",
       "      <th>풍속(m/s)</th>\n",
       "      <th>습도(%)</th>\n",
       "      <th>month</th>\n",
       "      <th>day</th>\n",
       "      <th>holiday</th>\n",
       "      <th>sin_time</th>\n",
       "      <th>cos_time</th>\n",
       "      <th>DI</th>\n",
       "      <th>power</th>\n",
       "    </tr>\n",
       "  </thead>\n",
       "  <tbody>\n",
       "    <tr>\n",
       "      <th>0</th>\n",
       "      <td>1</td>\n",
       "      <td>18.6</td>\n",
       "      <td>0.0</td>\n",
       "      <td>0.9</td>\n",
       "      <td>42.0</td>\n",
       "      <td>6</td>\n",
       "      <td>2</td>\n",
       "      <td>0</td>\n",
       "      <td>0.000000</td>\n",
       "      <td>1.000000</td>\n",
       "      <td>234.154</td>\n",
       "      <td>1085.28</td>\n",
       "    </tr>\n",
       "    <tr>\n",
       "      <th>1</th>\n",
       "      <td>1</td>\n",
       "      <td>18.0</td>\n",
       "      <td>0.0</td>\n",
       "      <td>1.1</td>\n",
       "      <td>45.0</td>\n",
       "      <td>6</td>\n",
       "      <td>2</td>\n",
       "      <td>0</td>\n",
       "      <td>0.258819</td>\n",
       "      <td>0.965926</td>\n",
       "      <td>219.280</td>\n",
       "      <td>1047.36</td>\n",
       "    </tr>\n",
       "    <tr>\n",
       "      <th>2</th>\n",
       "      <td>1</td>\n",
       "      <td>17.7</td>\n",
       "      <td>0.0</td>\n",
       "      <td>1.5</td>\n",
       "      <td>45.0</td>\n",
       "      <td>6</td>\n",
       "      <td>2</td>\n",
       "      <td>0</td>\n",
       "      <td>0.500000</td>\n",
       "      <td>0.866025</td>\n",
       "      <td>205.672</td>\n",
       "      <td>974.88</td>\n",
       "    </tr>\n",
       "    <tr>\n",
       "      <th>3</th>\n",
       "      <td>1</td>\n",
       "      <td>16.7</td>\n",
       "      <td>0.0</td>\n",
       "      <td>1.4</td>\n",
       "      <td>48.0</td>\n",
       "      <td>6</td>\n",
       "      <td>2</td>\n",
       "      <td>0</td>\n",
       "      <td>0.707107</td>\n",
       "      <td>0.707107</td>\n",
       "      <td>167.011</td>\n",
       "      <td>953.76</td>\n",
       "    </tr>\n",
       "    <tr>\n",
       "      <th>4</th>\n",
       "      <td>1</td>\n",
       "      <td>18.4</td>\n",
       "      <td>0.0</td>\n",
       "      <td>2.8</td>\n",
       "      <td>43.0</td>\n",
       "      <td>6</td>\n",
       "      <td>2</td>\n",
       "      <td>0</td>\n",
       "      <td>0.866025</td>\n",
       "      <td>0.500000</td>\n",
       "      <td>229.592</td>\n",
       "      <td>986.40</td>\n",
       "    </tr>\n",
       "  </tbody>\n",
       "</table>\n",
       "</div>"
      ],
      "text/plain": [
       "   건물번호  기온(C)  강수량(mm)  풍속(m/s)  습도(%)  month  day  holiday  sin_time  \\\n",
       "0     1   18.6      0.0      0.9   42.0      6    2        0  0.000000   \n",
       "1     1   18.0      0.0      1.1   45.0      6    2        0  0.258819   \n",
       "2     1   17.7      0.0      1.5   45.0      6    2        0  0.500000   \n",
       "3     1   16.7      0.0      1.4   48.0      6    2        0  0.707107   \n",
       "4     1   18.4      0.0      2.8   43.0      6    2        0  0.866025   \n",
       "\n",
       "   cos_time       DI    power  \n",
       "0  1.000000  234.154  1085.28  \n",
       "1  0.965926  219.280  1047.36  \n",
       "2  0.866025  205.672   974.88  \n",
       "3  0.707107  167.011   953.76  \n",
       "4  0.500000  229.592   986.40  "
      ]
     },
     "execution_count": 72,
     "metadata": {},
     "output_type": "execute_result"
    }
   ],
   "source": [
    "train.head()"
   ]
  },
  {
   "cell_type": "markdown",
   "id": "29f5e3d3-d033-4c9e-a57d-5db4b884662d",
   "metadata": {},
   "source": [
    "### Test Data Preprocessing"
   ]
  },
  {
   "cell_type": "code",
   "execution_count": 61,
   "id": "1bea4453-24e0-416d-a845-b5e7544362bb",
   "metadata": {},
   "outputs": [],
   "source": [
    "test = pd.read_csv('test.csv')"
   ]
  },
  {
   "cell_type": "code",
   "execution_count": 62,
   "id": "74e0fb28-df5b-4251-9d6a-f8aa511e4e77",
   "metadata": {},
   "outputs": [
    {
     "data": {
      "text/plain": [
       "0         0\n",
       "1         1\n",
       "2         2\n",
       "3         3\n",
       "4         4\n",
       "         ..\n",
       "16795    19\n",
       "16796    20\n",
       "16797    21\n",
       "16798    22\n",
       "16799    23\n",
       "Name: hour, Length: 16800, dtype: int64"
      ]
     },
     "execution_count": 62,
     "metadata": {},
     "output_type": "execute_result"
    }
   ],
   "source": [
    "test['일시'] = pd.to_datetime(test['일시'], format='%Y%m%d %H')\n",
    "test['month'] = test['일시'].dt.month\n",
    "test['day'] = test['일시'].dt.weekday\n",
    "test['hour'] = test['일시'].dt.hour\n",
    "test['holiday'] = test.apply(lambda x: 0 if x['day']<5 else 1, axis=1)\n",
    "test['sin_time'] = np.sin(2*np.pi*test.hour/24)\n",
    "test['cos_time'] = np.cos(2*np.pi*test.hour/24)\n",
    "test['DI'] = 1.8*test['기온(C)'] - 0.55*(1-test['습도(%)'])*(1.8*test['기온(C)']-26) + 32\n",
    "\n",
    "test.pop('num_date_time')\n",
    "test.pop('일시')\n",
    "test.pop('hour')"
   ]
  },
  {
   "cell_type": "code",
   "execution_count": 75,
   "id": "f8fdff53-b31c-4f97-9ea1-56cec17dfbb5",
   "metadata": {},
   "outputs": [],
   "source": [
    "test.to_csv('test_preprocessed.csv', index=False)"
   ]
  },
  {
   "cell_type": "code",
   "execution_count": 14,
   "id": "71d805d7-7688-4321-914f-d2f7cc149acb",
   "metadata": {},
   "outputs": [
    {
     "data": {
      "text/html": [
       "<div>\n",
       "<style scoped>\n",
       "    .dataframe tbody tr th:only-of-type {\n",
       "        vertical-align: middle;\n",
       "    }\n",
       "\n",
       "    .dataframe tbody tr th {\n",
       "        vertical-align: top;\n",
       "    }\n",
       "\n",
       "    .dataframe thead th {\n",
       "        text-align: right;\n",
       "    }\n",
       "</style>\n",
       "<table border=\"1\" class=\"dataframe\">\n",
       "  <thead>\n",
       "    <tr style=\"text-align: right;\">\n",
       "      <th></th>\n",
       "      <th>건물번호</th>\n",
       "      <th>기온(C)</th>\n",
       "      <th>강수량(mm)</th>\n",
       "      <th>풍속(m/s)</th>\n",
       "      <th>습도(%)</th>\n",
       "      <th>month</th>\n",
       "      <th>day</th>\n",
       "      <th>holiday</th>\n",
       "      <th>sin_time</th>\n",
       "      <th>cos_time</th>\n",
       "      <th>DI</th>\n",
       "    </tr>\n",
       "  </thead>\n",
       "  <tbody>\n",
       "    <tr>\n",
       "      <th>0</th>\n",
       "      <td>1</td>\n",
       "      <td>23.5</td>\n",
       "      <td>0.0</td>\n",
       "      <td>2.2</td>\n",
       "      <td>72</td>\n",
       "      <td>8</td>\n",
       "      <td>3</td>\n",
       "      <td>0</td>\n",
       "      <td>0.000000</td>\n",
       "      <td>1.000000</td>\n",
       "      <td>710.815</td>\n",
       "    </tr>\n",
       "    <tr>\n",
       "      <th>1</th>\n",
       "      <td>1</td>\n",
       "      <td>23.0</td>\n",
       "      <td>0.0</td>\n",
       "      <td>0.9</td>\n",
       "      <td>72</td>\n",
       "      <td>8</td>\n",
       "      <td>3</td>\n",
       "      <td>0</td>\n",
       "      <td>0.258819</td>\n",
       "      <td>0.965926</td>\n",
       "      <td>674.770</td>\n",
       "    </tr>\n",
       "    <tr>\n",
       "      <th>2</th>\n",
       "      <td>1</td>\n",
       "      <td>22.7</td>\n",
       "      <td>0.0</td>\n",
       "      <td>1.5</td>\n",
       "      <td>75</td>\n",
       "      <td>8</td>\n",
       "      <td>3</td>\n",
       "      <td>0</td>\n",
       "      <td>0.500000</td>\n",
       "      <td>0.866025</td>\n",
       "      <td>677.662</td>\n",
       "    </tr>\n",
       "    <tr>\n",
       "      <th>3</th>\n",
       "      <td>1</td>\n",
       "      <td>22.1</td>\n",
       "      <td>0.0</td>\n",
       "      <td>1.3</td>\n",
       "      <td>78</td>\n",
       "      <td>8</td>\n",
       "      <td>3</td>\n",
       "      <td>0</td>\n",
       "      <td>0.707107</td>\n",
       "      <td>0.707107</td>\n",
       "      <td>655.363</td>\n",
       "    </tr>\n",
       "    <tr>\n",
       "      <th>4</th>\n",
       "      <td>1</td>\n",
       "      <td>21.8</td>\n",
       "      <td>0.0</td>\n",
       "      <td>1.0</td>\n",
       "      <td>77</td>\n",
       "      <td>8</td>\n",
       "      <td>3</td>\n",
       "      <td>0</td>\n",
       "      <td>0.866025</td>\n",
       "      <td>0.500000</td>\n",
       "      <td>624.672</td>\n",
       "    </tr>\n",
       "  </tbody>\n",
       "</table>\n",
       "</div>"
      ],
      "text/plain": [
       "   건물번호  기온(C)  강수량(mm)  풍속(m/s)  습도(%)  month  day  holiday  sin_time  \\\n",
       "0     1   23.5      0.0      2.2     72      8    3        0  0.000000   \n",
       "1     1   23.0      0.0      0.9     72      8    3        0  0.258819   \n",
       "2     1   22.7      0.0      1.5     75      8    3        0  0.500000   \n",
       "3     1   22.1      0.0      1.3     78      8    3        0  0.707107   \n",
       "4     1   21.8      0.0      1.0     77      8    3        0  0.866025   \n",
       "\n",
       "   cos_time       DI  \n",
       "0  1.000000  710.815  \n",
       "1  0.965926  674.770  \n",
       "2  0.866025  677.662  \n",
       "3  0.707107  655.363  \n",
       "4  0.500000  624.672  "
      ]
     },
     "execution_count": 14,
     "metadata": {},
     "output_type": "execute_result"
    }
   ],
   "source": [
    "test.head()"
   ]
  },
  {
   "cell_type": "markdown",
   "id": "e2f9c074-d55a-4a36-9461-40139033a011",
   "metadata": {},
   "source": [
    "### Training"
   ]
  },
  {
   "cell_type": "code",
   "execution_count": 63,
   "id": "fab3d84e-949e-4b73-b830-09283bc10667",
   "metadata": {},
   "outputs": [],
   "source": [
    "import os\n",
    "from sklearn.metrics import make_scorer\n",
    "from sklearn.model_selection import GridSearchCV, train_test_split"
   ]
  },
  {
   "cell_type": "code",
   "execution_count": 64,
   "id": "6c71b83a-4ce1-4b65-9c31-a0e501f0201b",
   "metadata": {},
   "outputs": [],
   "source": [
    "def SMAPE(true, pred):\n",
    "    return np.mean((np.abs(true - pred))/(np.abs(true) + np.abs(pred))) * 100    "
   ]
  },
  {
   "cell_type": "code",
   "execution_count": 20,
   "id": "a68b9d34-0df2-4774-b766-09577950fb3f",
   "metadata": {},
   "outputs": [
    {
     "data": {
      "text/html": [
       "<div>\n",
       "<style scoped>\n",
       "    .dataframe tbody tr th:only-of-type {\n",
       "        vertical-align: middle;\n",
       "    }\n",
       "\n",
       "    .dataframe tbody tr th {\n",
       "        vertical-align: top;\n",
       "    }\n",
       "\n",
       "    .dataframe thead th {\n",
       "        text-align: right;\n",
       "    }\n",
       "</style>\n",
       "<table border=\"1\" class=\"dataframe\">\n",
       "  <thead>\n",
       "    <tr style=\"text-align: right;\">\n",
       "      <th></th>\n",
       "      <th>건물번호</th>\n",
       "      <th>기온(C)</th>\n",
       "      <th>강수량(mm)</th>\n",
       "      <th>풍속(m/s)</th>\n",
       "      <th>습도(%)</th>\n",
       "      <th>month</th>\n",
       "      <th>day</th>\n",
       "      <th>week</th>\n",
       "      <th>holiday</th>\n",
       "      <th>sin_time</th>\n",
       "      <th>cos_time</th>\n",
       "      <th>DI</th>\n",
       "      <th>power</th>\n",
       "    </tr>\n",
       "  </thead>\n",
       "  <tbody>\n",
       "    <tr>\n",
       "      <th>0</th>\n",
       "      <td>1</td>\n",
       "      <td>18.6</td>\n",
       "      <td>0.0</td>\n",
       "      <td>0.9</td>\n",
       "      <td>42.0</td>\n",
       "      <td>6</td>\n",
       "      <td>2</td>\n",
       "      <td>22</td>\n",
       "      <td>0</td>\n",
       "      <td>0.000000</td>\n",
       "      <td>1.000000</td>\n",
       "      <td>234.154</td>\n",
       "      <td>1085.28</td>\n",
       "    </tr>\n",
       "    <tr>\n",
       "      <th>1</th>\n",
       "      <td>1</td>\n",
       "      <td>18.0</td>\n",
       "      <td>0.0</td>\n",
       "      <td>1.1</td>\n",
       "      <td>45.0</td>\n",
       "      <td>6</td>\n",
       "      <td>2</td>\n",
       "      <td>22</td>\n",
       "      <td>0</td>\n",
       "      <td>0.258819</td>\n",
       "      <td>0.965926</td>\n",
       "      <td>219.280</td>\n",
       "      <td>1047.36</td>\n",
       "    </tr>\n",
       "    <tr>\n",
       "      <th>2</th>\n",
       "      <td>1</td>\n",
       "      <td>17.7</td>\n",
       "      <td>0.0</td>\n",
       "      <td>1.5</td>\n",
       "      <td>45.0</td>\n",
       "      <td>6</td>\n",
       "      <td>2</td>\n",
       "      <td>22</td>\n",
       "      <td>0</td>\n",
       "      <td>0.500000</td>\n",
       "      <td>0.866025</td>\n",
       "      <td>205.672</td>\n",
       "      <td>974.88</td>\n",
       "    </tr>\n",
       "    <tr>\n",
       "      <th>3</th>\n",
       "      <td>1</td>\n",
       "      <td>16.7</td>\n",
       "      <td>0.0</td>\n",
       "      <td>1.4</td>\n",
       "      <td>48.0</td>\n",
       "      <td>6</td>\n",
       "      <td>2</td>\n",
       "      <td>22</td>\n",
       "      <td>0</td>\n",
       "      <td>0.707107</td>\n",
       "      <td>0.707107</td>\n",
       "      <td>167.011</td>\n",
       "      <td>953.76</td>\n",
       "    </tr>\n",
       "    <tr>\n",
       "      <th>4</th>\n",
       "      <td>1</td>\n",
       "      <td>18.4</td>\n",
       "      <td>0.0</td>\n",
       "      <td>2.8</td>\n",
       "      <td>43.0</td>\n",
       "      <td>6</td>\n",
       "      <td>2</td>\n",
       "      <td>22</td>\n",
       "      <td>0</td>\n",
       "      <td>0.866025</td>\n",
       "      <td>0.500000</td>\n",
       "      <td>229.592</td>\n",
       "      <td>986.40</td>\n",
       "    </tr>\n",
       "  </tbody>\n",
       "</table>\n",
       "</div>"
      ],
      "text/plain": [
       "   건물번호  기온(C)  강수량(mm)  풍속(m/s)  ...  sin_time  cos_time       DI    power\n",
       "0     1   18.6      0.0      0.9  ...  0.000000  1.000000  234.154  1085.28\n",
       "1     1   18.0      0.0      1.1  ...  0.258819  0.965926  219.280  1047.36\n",
       "2     1   17.7      0.0      1.5  ...  0.500000  0.866025  205.672   974.88\n",
       "3     1   16.7      0.0      1.4  ...  0.707107  0.707107  167.011   953.76\n",
       "4     1   18.4      0.0      2.8  ...  0.866025  0.500000  229.592   986.40\n",
       "\n",
       "[5 rows x 13 columns]"
      ]
     },
     "execution_count": 20,
     "metadata": {},
     "output_type": "execute_result"
    }
   ],
   "source": [
    "train.head()"
   ]
  },
  {
   "cell_type": "code",
   "execution_count": 65,
   "id": "bb9bc997-ae40-4cad-87af-2447d5f1f426",
   "metadata": {},
   "outputs": [],
   "source": [
    "def tr_ts_split(train, test, number, val_hour):\n",
    "    x = train.loc[train['건물번호']==number].drop(['건물번호','power'], axis=1)\n",
    "    y = train.loc[train['건물번호']==number, 'power']\n",
    "\n",
    "    #if number == 54:\n",
    "    x = pd.concat([x[:601], x[700:]], axis=0).reset_index(drop=True)\n",
    "    y = pd.concat([y[:601], y[700:]]).reset_index(drop=True)\n",
    "\n",
    "    if val_hour == 0:\n",
    "        return x, None, y, None\n",
    "    else:\n",
    "        x_train, x_valid, y_train, y_valid = x[:-val_hour], x[-val_hour:], y[:-val_hour], y[-val_hour:]\n",
    "        return x_train, x_valid.reset_index(drop=True), y_train, y_valid.reset_index(drop=True)"
   ]
  },
  {
   "cell_type": "code",
   "execution_count": 66,
   "id": "1c799848-e452-487e-977b-17c3a381e72a",
   "metadata": {},
   "outputs": [],
   "source": [
    "def fit_and_pred_XGB(train, test, number, seed=0):\n",
    "    x_train, x_valid, y_train, y_valid = tr_ts_split(train, test, number, 7*24)\n",
    "\n",
    "    xgb_reg = XGBRegressor(n_estimators=10000, eta=0.01, seed=seed,\n",
    "                            gpu_id=0, tree_method='gpu_hist', predictor='gpu_predictor')\n",
    "    xgb_reg.fit(x_train, y_train, eval_set=[(x_train, y_train), (x_valid, y_valid)],\n",
    "                early_stopping_rounds=300, verbose=False)\n",
    "    pred = xgb_reg.predict(x_valid)\n",
    "    pred = pd.Series(pred)\n",
    "    \n",
    "    x_test = test[test['건물번호']==number]\n",
    "    y_test_pred = xgb_reg.predict(x_test.drop('건물번호', axis=1))\n",
    "\n",
    "    smape_val = SMAPE(y_valid, pred)\n",
    "    r2_val = sklearn.metrics.r2_score(y_valid, pred)\n",
    "    print(f'SMAPE: {smape_val}')\n",
    "    print(f'R2: {r2_val}')\n",
    "    return smape_val, r2_val, y_valid, pred, y_test_pred"
   ]
  },
  {
   "cell_type": "code",
   "execution_count": 74,
   "id": "9a4e3ba2-d9fa-4900-996e-acc8d6606c21",
   "metadata": {},
   "outputs": [],
   "source": [
    "def fit_and_pred_RF(train, test, number, seed=0):\n",
    "    x_train, x_valid, y_train, y_valid = tr_ts_split(train.dropna(), test, number, 7*24)\n",
    "    \n",
    "    rf_reg = RandomForestRegressor(random_state=seed)\n",
    "    rf_reg.fit(x_train, y_train)\n",
    "    pred = rf_reg.predict(x_valid)\n",
    "    pred = pd.Series(pred)\n",
    "\n",
    "    x_test = test[test['건물번호']==number]\n",
    "    y_test_pred = rf_reg.predict(x_test.drop('건물번호', axis=1))\n",
    "\n",
    "    smape_val = SMAPE(y_valid, pred)\n",
    "    r2_val = sklearn.metrics.r2_score(y_valid, pred)\n",
    "    print(f'SMAPE: {smape_val}')\n",
    "    print(f'R2: {r2_val}')\n",
    "    return smape_val, r2_val, y_valid, pred, y_test_pred                                    "
   ]
  },
  {
   "cell_type": "code",
   "execution_count": 75,
   "id": "698f6eb4-0afc-4254-a703-087aa8966d45",
   "metadata": {
    "scrolled": true
   },
   "outputs": [
    {
     "name": "stderr",
     "output_type": "stream",
     "text": [
      "  0%|          | 0/100 [00:00<?, ?it/s]"
     ]
    },
    {
     "name": "stdout",
     "output_type": "stream",
     "text": [
      "===== < BUILDING NO.1 > =====\n"
     ]
    },
    {
     "name": "stderr",
     "output_type": "stream",
     "text": [
      "  1%|          | 1/100 [00:00<00:47,  2.10it/s]"
     ]
    },
    {
     "name": "stdout",
     "output_type": "stream",
     "text": [
      "SMAPE: 3.81607975204115\n",
      "R2: 0.9382542184288511\n",
      "===== < BUILDING NO.2 > =====\n"
     ]
    },
    {
     "name": "stderr",
     "output_type": "stream",
     "text": [
      "  2%|▏         | 2/100 [00:00<00:46,  2.09it/s]"
     ]
    },
    {
     "name": "stdout",
     "output_type": "stream",
     "text": [
      "SMAPE: 4.867200648713607\n",
      "R2: 0.7763007096473291\n",
      "===== < BUILDING NO.3 > =====\n"
     ]
    },
    {
     "name": "stderr",
     "output_type": "stream",
     "text": [
      "  3%|▎         | 3/100 [00:01<00:46,  2.09it/s]"
     ]
    },
    {
     "name": "stdout",
     "output_type": "stream",
     "text": [
      "SMAPE: 7.7069141261757705\n",
      "R2: 0.7044058382387558\n",
      "===== < BUILDING NO.4 > =====\n"
     ]
    },
    {
     "name": "stderr",
     "output_type": "stream",
     "text": [
      "  4%|▍         | 4/100 [00:01<00:45,  2.09it/s]"
     ]
    },
    {
     "name": "stdout",
     "output_type": "stream",
     "text": [
      "SMAPE: 2.6295317324970036\n",
      "R2: 0.9541398097540355\n",
      "===== < BUILDING NO.5 > =====\n"
     ]
    },
    {
     "name": "stderr",
     "output_type": "stream",
     "text": [
      "  5%|▌         | 5/100 [00:02<00:44,  2.14it/s]"
     ]
    },
    {
     "name": "stdout",
     "output_type": "stream",
     "text": [
      "SMAPE: 2.6806479501464584\n",
      "R2: 0.9727180063840729\n",
      "===== < BUILDING NO.6 > =====\n"
     ]
    },
    {
     "name": "stderr",
     "output_type": "stream",
     "text": [
      "  6%|▌         | 6/100 [00:02<00:43,  2.14it/s]"
     ]
    },
    {
     "name": "stdout",
     "output_type": "stream",
     "text": [
      "SMAPE: 2.16355388770827\n",
      "R2: 0.9704339792850838\n",
      "===== < BUILDING NO.7 > =====\n"
     ]
    },
    {
     "name": "stderr",
     "output_type": "stream",
     "text": [
      "  7%|▋         | 7/100 [00:03<00:43,  2.13it/s]"
     ]
    },
    {
     "name": "stdout",
     "output_type": "stream",
     "text": [
      "SMAPE: 4.631251200590728\n",
      "R2: 0.8938503046146825\n",
      "===== < BUILDING NO.8 > =====\n"
     ]
    },
    {
     "name": "stderr",
     "output_type": "stream",
     "text": [
      "  8%|▊         | 8/100 [00:03<00:43,  2.13it/s]"
     ]
    },
    {
     "name": "stdout",
     "output_type": "stream",
     "text": [
      "SMAPE: 2.6015812045585722\n",
      "R2: 0.7028133728965408\n",
      "===== < BUILDING NO.9 > =====\n"
     ]
    },
    {
     "name": "stderr",
     "output_type": "stream",
     "text": [
      "  9%|▉         | 9/100 [00:04<00:42,  2.13it/s]"
     ]
    },
    {
     "name": "stdout",
     "output_type": "stream",
     "text": [
      "SMAPE: 2.1283778181013053\n",
      "R2: 0.9665456168458111\n",
      "===== < BUILDING NO.10 > =====\n"
     ]
    },
    {
     "name": "stderr",
     "output_type": "stream",
     "text": [
      " 10%|█         | 10/100 [00:04<00:42,  2.13it/s]"
     ]
    },
    {
     "name": "stdout",
     "output_type": "stream",
     "text": [
      "SMAPE: 4.690170995407238\n",
      "R2: 0.06500874864653094\n",
      "===== < BUILDING NO.11 > =====\n"
     ]
    },
    {
     "name": "stderr",
     "output_type": "stream",
     "text": [
      " 11%|█         | 11/100 [00:05<00:41,  2.14it/s]"
     ]
    },
    {
     "name": "stdout",
     "output_type": "stream",
     "text": [
      "SMAPE: 1.9116744901547011\n",
      "R2: 0.8832901180685022\n",
      "===== < BUILDING NO.12 > =====\n"
     ]
    },
    {
     "name": "stderr",
     "output_type": "stream",
     "text": [
      " 12%|█▏        | 12/100 [00:05<00:41,  2.15it/s]"
     ]
    },
    {
     "name": "stdout",
     "output_type": "stream",
     "text": [
      "SMAPE: 2.4815619328076512\n",
      "R2: 0.8664673302670154\n",
      "===== < BUILDING NO.13 > =====\n"
     ]
    },
    {
     "name": "stderr",
     "output_type": "stream",
     "text": [
      " 13%|█▎        | 13/100 [00:06<00:40,  2.14it/s]"
     ]
    },
    {
     "name": "stdout",
     "output_type": "stream",
     "text": [
      "SMAPE: 3.2920364666488298\n",
      "R2: 0.28128614925023554\n",
      "===== < BUILDING NO.14 > =====\n"
     ]
    },
    {
     "name": "stderr",
     "output_type": "stream",
     "text": [
      " 14%|█▍        | 14/100 [00:06<00:41,  2.10it/s]"
     ]
    },
    {
     "name": "stdout",
     "output_type": "stream",
     "text": [
      "SMAPE: 8.470760739573072\n",
      "R2: 0.22610613234099208\n",
      "===== < BUILDING NO.15 > =====\n"
     ]
    },
    {
     "name": "stderr",
     "output_type": "stream",
     "text": [
      " 15%|█▌        | 15/100 [00:07<00:40,  2.12it/s]"
     ]
    },
    {
     "name": "stdout",
     "output_type": "stream",
     "text": [
      "SMAPE: 1.4439752293057564\n",
      "R2: 0.9140344005337818\n",
      "===== < BUILDING NO.16 > =====\n"
     ]
    },
    {
     "name": "stderr",
     "output_type": "stream",
     "text": [
      " 16%|█▌        | 16/100 [00:07<00:39,  2.14it/s]"
     ]
    },
    {
     "name": "stdout",
     "output_type": "stream",
     "text": [
      "SMAPE: 2.548924377334314\n",
      "R2: 0.9744329763755644\n",
      "===== < BUILDING NO.17 > =====\n"
     ]
    },
    {
     "name": "stderr",
     "output_type": "stream",
     "text": [
      " 17%|█▋        | 17/100 [00:08<00:38,  2.13it/s]"
     ]
    },
    {
     "name": "stdout",
     "output_type": "stream",
     "text": [
      "SMAPE: 2.7838239506088778\n",
      "R2: 0.9454634355214464\n",
      "===== < BUILDING NO.18 > =====\n"
     ]
    },
    {
     "name": "stderr",
     "output_type": "stream",
     "text": [
      " 18%|█▊        | 18/100 [00:08<00:38,  2.12it/s]"
     ]
    },
    {
     "name": "stdout",
     "output_type": "stream",
     "text": [
      "SMAPE: 3.7694009492810294\n",
      "R2: 0.9181599146592628\n",
      "===== < BUILDING NO.19 > =====\n"
     ]
    },
    {
     "name": "stderr",
     "output_type": "stream",
     "text": [
      " 19%|█▉        | 19/100 [00:08<00:38,  2.12it/s]"
     ]
    },
    {
     "name": "stdout",
     "output_type": "stream",
     "text": [
      "SMAPE: 4.265690928934783\n",
      "R2: 0.9277149053981694\n",
      "===== < BUILDING NO.20 > =====\n"
     ]
    },
    {
     "name": "stderr",
     "output_type": "stream",
     "text": [
      " 20%|██        | 20/100 [00:09<00:37,  2.13it/s]"
     ]
    },
    {
     "name": "stdout",
     "output_type": "stream",
     "text": [
      "SMAPE: 2.4292519802640933\n",
      "R2: 0.9747302167892041\n",
      "===== < BUILDING NO.21 > =====\n"
     ]
    },
    {
     "name": "stderr",
     "output_type": "stream",
     "text": [
      " 21%|██        | 21/100 [00:09<00:37,  2.13it/s]"
     ]
    },
    {
     "name": "stdout",
     "output_type": "stream",
     "text": [
      "SMAPE: 3.806566532597179\n",
      "R2: 0.9315238956209586\n",
      "===== < BUILDING NO.22 > =====\n"
     ]
    },
    {
     "name": "stderr",
     "output_type": "stream",
     "text": [
      " 22%|██▏       | 22/100 [00:10<00:36,  2.15it/s]"
     ]
    },
    {
     "name": "stdout",
     "output_type": "stream",
     "text": [
      "SMAPE: 1.8305577295731381\n",
      "R2: 0.9381958643202355\n",
      "===== < BUILDING NO.23 > =====\n"
     ]
    },
    {
     "name": "stderr",
     "output_type": "stream",
     "text": [
      " 23%|██▎       | 23/100 [00:10<00:35,  2.15it/s]"
     ]
    },
    {
     "name": "stdout",
     "output_type": "stream",
     "text": [
      "SMAPE: 0.9269066816452773\n",
      "R2: 0.9669231469014048\n",
      "===== < BUILDING NO.24 > =====\n"
     ]
    },
    {
     "name": "stderr",
     "output_type": "stream",
     "text": [
      " 24%|██▍       | 24/100 [00:11<00:35,  2.16it/s]"
     ]
    },
    {
     "name": "stdout",
     "output_type": "stream",
     "text": [
      "SMAPE: 1.3153918643755969\n",
      "R2: 0.9829084967645222\n",
      "===== < BUILDING NO.25 > =====\n"
     ]
    },
    {
     "name": "stderr",
     "output_type": "stream",
     "text": [
      " 25%|██▌       | 25/100 [00:11<00:34,  2.16it/s]"
     ]
    },
    {
     "name": "stdout",
     "output_type": "stream",
     "text": [
      "SMAPE: 1.2790723456912096\n",
      "R2: 0.9832323720232548\n",
      "===== < BUILDING NO.26 > =====\n"
     ]
    },
    {
     "name": "stderr",
     "output_type": "stream",
     "text": [
      " 26%|██▌       | 26/100 [00:12<00:33,  2.18it/s]"
     ]
    },
    {
     "name": "stdout",
     "output_type": "stream",
     "text": [
      "SMAPE: 1.2183526106766307\n",
      "R2: 0.9814403485805724\n",
      "===== < BUILDING NO.27 > =====\n"
     ]
    },
    {
     "name": "stderr",
     "output_type": "stream",
     "text": [
      " 27%|██▋       | 27/100 [00:12<00:33,  2.19it/s]"
     ]
    },
    {
     "name": "stdout",
     "output_type": "stream",
     "text": [
      "SMAPE: 0.980770415430509\n",
      "R2: 0.9690667456063947\n",
      "===== < BUILDING NO.28 > =====\n"
     ]
    },
    {
     "name": "stderr",
     "output_type": "stream",
     "text": [
      " 28%|██▊       | 28/100 [00:13<00:32,  2.20it/s]"
     ]
    },
    {
     "name": "stdout",
     "output_type": "stream",
     "text": [
      "SMAPE: 3.019988143000832\n",
      "R2: 0.893443550502151\n",
      "===== < BUILDING NO.29 > =====\n"
     ]
    },
    {
     "name": "stderr",
     "output_type": "stream",
     "text": [
      " 29%|██▉       | 29/100 [00:13<00:32,  2.20it/s]"
     ]
    },
    {
     "name": "stdout",
     "output_type": "stream",
     "text": [
      "SMAPE: 2.3423030277280814\n",
      "R2: 0.9234394754036023\n",
      "===== < BUILDING NO.30 > =====\n"
     ]
    },
    {
     "name": "stderr",
     "output_type": "stream",
     "text": [
      " 30%|███       | 30/100 [00:13<00:31,  2.19it/s]"
     ]
    },
    {
     "name": "stdout",
     "output_type": "stream",
     "text": [
      "SMAPE: 3.1247811497535194\n",
      "R2: 0.8909177684595639\n",
      "===== < BUILDING NO.31 > =====\n"
     ]
    },
    {
     "name": "stderr",
     "output_type": "stream",
     "text": [
      " 31%|███       | 31/100 [00:14<00:31,  2.20it/s]"
     ]
    },
    {
     "name": "stdout",
     "output_type": "stream",
     "text": [
      "SMAPE: 3.1006594741064135\n",
      "R2: 0.9005565126109285\n",
      "===== < BUILDING NO.32 > =====\n"
     ]
    },
    {
     "name": "stderr",
     "output_type": "stream",
     "text": [
      " 32%|███▏      | 32/100 [00:14<00:31,  2.18it/s]"
     ]
    },
    {
     "name": "stdout",
     "output_type": "stream",
     "text": [
      "SMAPE: 0.20204890416909288\n",
      "R2: 0.8552501903782831\n",
      "===== < BUILDING NO.33 > =====\n"
     ]
    },
    {
     "name": "stderr",
     "output_type": "stream",
     "text": [
      " 33%|███▎      | 33/100 [00:15<00:30,  2.17it/s]"
     ]
    },
    {
     "name": "stdout",
     "output_type": "stream",
     "text": [
      "SMAPE: 0.2684752281375804\n",
      "R2: 0.4577168446596839\n",
      "===== < BUILDING NO.34 > =====\n"
     ]
    },
    {
     "name": "stderr",
     "output_type": "stream",
     "text": [
      " 34%|███▍      | 34/100 [00:15<00:30,  2.17it/s]"
     ]
    },
    {
     "name": "stdout",
     "output_type": "stream",
     "text": [
      "SMAPE: 0.3858832314158362\n",
      "R2: 0.8508291507197276\n",
      "===== < BUILDING NO.35 > =====\n"
     ]
    },
    {
     "name": "stderr",
     "output_type": "stream",
     "text": [
      " 35%|███▌      | 35/100 [00:16<00:30,  2.17it/s]"
     ]
    },
    {
     "name": "stdout",
     "output_type": "stream",
     "text": [
      "SMAPE: 0.21359921098445012\n",
      "R2: 0.8877497765916647\n",
      "===== < BUILDING NO.36 > =====\n"
     ]
    },
    {
     "name": "stderr",
     "output_type": "stream",
     "text": [
      " 36%|███▌      | 36/100 [00:16<00:29,  2.17it/s]"
     ]
    },
    {
     "name": "stdout",
     "output_type": "stream",
     "text": [
      "SMAPE: 0.3343134947781449\n",
      "R2: 0.5961038758043062\n",
      "===== < BUILDING NO.37 > =====\n"
     ]
    },
    {
     "name": "stderr",
     "output_type": "stream",
     "text": [
      " 37%|███▋      | 37/100 [00:17<00:29,  2.13it/s]"
     ]
    },
    {
     "name": "stdout",
     "output_type": "stream",
     "text": [
      "SMAPE: 2.7891843870317863\n",
      "R2: 0.9717759420917264\n",
      "===== < BUILDING NO.38 > =====\n"
     ]
    },
    {
     "name": "stderr",
     "output_type": "stream",
     "text": [
      " 38%|███▊      | 38/100 [00:17<00:29,  2.11it/s]"
     ]
    },
    {
     "name": "stdout",
     "output_type": "stream",
     "text": [
      "SMAPE: 2.2341777474739506\n",
      "R2: 0.9854370280219107\n",
      "===== < BUILDING NO.39 > =====\n"
     ]
    },
    {
     "name": "stderr",
     "output_type": "stream",
     "text": [
      " 39%|███▉      | 39/100 [00:18<00:28,  2.12it/s]"
     ]
    },
    {
     "name": "stdout",
     "output_type": "stream",
     "text": [
      "SMAPE: 2.6730025807419264\n",
      "R2: 0.9703409295932119\n",
      "===== < BUILDING NO.40 > =====\n"
     ]
    },
    {
     "name": "stderr",
     "output_type": "stream",
     "text": [
      " 40%|████      | 40/100 [00:18<00:28,  2.13it/s]"
     ]
    },
    {
     "name": "stdout",
     "output_type": "stream",
     "text": [
      "SMAPE: 5.75368382606543\n",
      "R2: 0.887933518636843\n",
      "===== < BUILDING NO.41 > =====\n"
     ]
    },
    {
     "name": "stderr",
     "output_type": "stream",
     "text": [
      " 41%|████      | 41/100 [00:19<00:27,  2.12it/s]"
     ]
    },
    {
     "name": "stdout",
     "output_type": "stream",
     "text": [
      "SMAPE: 2.2563804647610746\n",
      "R2: 0.9905204343201396\n",
      "===== < BUILDING NO.42 > =====\n"
     ]
    },
    {
     "name": "stderr",
     "output_type": "stream",
     "text": [
      " 42%|████▏     | 42/100 [00:19<00:27,  2.13it/s]"
     ]
    },
    {
     "name": "stdout",
     "output_type": "stream",
     "text": [
      "SMAPE: 5.764268600047815\n",
      "R2: 0.7906010839588729\n",
      "===== < BUILDING NO.43 > =====\n"
     ]
    },
    {
     "name": "stderr",
     "output_type": "stream",
     "text": [
      " 43%|████▎     | 43/100 [00:20<00:26,  2.13it/s]"
     ]
    },
    {
     "name": "stdout",
     "output_type": "stream",
     "text": [
      "SMAPE: 3.01051394988604\n",
      "R2: 0.9936727508985866\n",
      "===== < BUILDING NO.44 > =====\n"
     ]
    },
    {
     "name": "stderr",
     "output_type": "stream",
     "text": [
      " 44%|████▍     | 44/100 [00:20<00:26,  2.13it/s]"
     ]
    },
    {
     "name": "stdout",
     "output_type": "stream",
     "text": [
      "SMAPE: 2.310154668327256\n",
      "R2: 0.9937892305609368\n",
      "===== < BUILDING NO.45 > =====\n"
     ]
    },
    {
     "name": "stderr",
     "output_type": "stream",
     "text": [
      " 45%|████▌     | 45/100 [00:21<00:25,  2.14it/s]"
     ]
    },
    {
     "name": "stdout",
     "output_type": "stream",
     "text": [
      "SMAPE: 1.5009182843603501\n",
      "R2: 0.9400363536980346\n",
      "===== < BUILDING NO.46 > =====\n"
     ]
    },
    {
     "name": "stderr",
     "output_type": "stream",
     "text": [
      " 46%|████▌     | 46/100 [00:21<00:25,  2.15it/s]"
     ]
    },
    {
     "name": "stdout",
     "output_type": "stream",
     "text": [
      "SMAPE: 2.268407254510354\n",
      "R2: 0.9432954224273304\n",
      "===== < BUILDING NO.47 > =====\n"
     ]
    },
    {
     "name": "stderr",
     "output_type": "stream",
     "text": [
      " 47%|████▋     | 47/100 [00:21<00:24,  2.15it/s]"
     ]
    },
    {
     "name": "stdout",
     "output_type": "stream",
     "text": [
      "SMAPE: 2.226009553336245\n",
      "R2: 0.9333594493941354\n",
      "===== < BUILDING NO.48 > =====\n"
     ]
    },
    {
     "name": "stderr",
     "output_type": "stream",
     "text": [
      " 48%|████▊     | 48/100 [00:22<00:23,  2.18it/s]"
     ]
    },
    {
     "name": "stdout",
     "output_type": "stream",
     "text": [
      "SMAPE: 1.1214533211000972\n",
      "R2: 0.9833635549126017\n",
      "===== < BUILDING NO.49 > =====\n"
     ]
    },
    {
     "name": "stderr",
     "output_type": "stream",
     "text": [
      " 49%|████▉     | 49/100 [00:22<00:23,  2.20it/s]"
     ]
    },
    {
     "name": "stdout",
     "output_type": "stream",
     "text": [
      "SMAPE: 1.59441018145801\n",
      "R2: 0.9229431390943257\n",
      "===== < BUILDING NO.50 > =====\n"
     ]
    },
    {
     "name": "stderr",
     "output_type": "stream",
     "text": [
      " 50%|█████     | 50/100 [00:23<00:22,  2.21it/s]"
     ]
    },
    {
     "name": "stdout",
     "output_type": "stream",
     "text": [
      "SMAPE: 1.3602567913085193\n",
      "R2: 0.9204864108512055\n",
      "===== < BUILDING NO.51 > =====\n"
     ]
    },
    {
     "name": "stderr",
     "output_type": "stream",
     "text": [
      " 51%|█████     | 51/100 [00:23<00:22,  2.18it/s]"
     ]
    },
    {
     "name": "stdout",
     "output_type": "stream",
     "text": [
      "SMAPE: 1.9180676119485909\n",
      "R2: 0.9311832356778328\n",
      "===== < BUILDING NO.52 > =====\n"
     ]
    },
    {
     "name": "stderr",
     "output_type": "stream",
     "text": [
      " 52%|█████▏    | 52/100 [00:24<00:22,  2.17it/s]"
     ]
    },
    {
     "name": "stdout",
     "output_type": "stream",
     "text": [
      "SMAPE: 2.0935757482095503\n",
      "R2: 0.9465409017335444\n",
      "===== < BUILDING NO.53 > =====\n"
     ]
    },
    {
     "name": "stderr",
     "output_type": "stream",
     "text": [
      " 53%|█████▎    | 53/100 [00:24<00:21,  2.16it/s]"
     ]
    },
    {
     "name": "stdout",
     "output_type": "stream",
     "text": [
      "SMAPE: 5.58696122514135\n",
      "R2: 0.9592604199331006\n",
      "===== < BUILDING NO.54 > =====\n"
     ]
    },
    {
     "name": "stderr",
     "output_type": "stream",
     "text": [
      " 54%|█████▍    | 54/100 [00:25<00:21,  2.16it/s]"
     ]
    },
    {
     "name": "stdout",
     "output_type": "stream",
     "text": [
      "SMAPE: 9.222910057851367\n",
      "R2: 0.7931655129605127\n",
      "===== < BUILDING NO.55 > =====\n"
     ]
    },
    {
     "name": "stderr",
     "output_type": "stream",
     "text": [
      " 55%|█████▌    | 55/100 [00:25<00:20,  2.17it/s]"
     ]
    },
    {
     "name": "stdout",
     "output_type": "stream",
     "text": [
      "SMAPE: 0.7760442907770205\n",
      "R2: 0.9234005961821116\n",
      "===== < BUILDING NO.56 > =====\n"
     ]
    },
    {
     "name": "stderr",
     "output_type": "stream",
     "text": [
      " 56%|█████▌    | 56/100 [00:26<00:20,  2.16it/s]"
     ]
    },
    {
     "name": "stdout",
     "output_type": "stream",
     "text": [
      "SMAPE: 0.4135204293848765\n",
      "R2: 0.9244514395741013\n",
      "===== < BUILDING NO.57 > =====\n"
     ]
    },
    {
     "name": "stderr",
     "output_type": "stream",
     "text": [
      " 57%|█████▋    | 57/100 [00:26<00:19,  2.16it/s]"
     ]
    },
    {
     "name": "stdout",
     "output_type": "stream",
     "text": [
      "SMAPE: 2.6554535201281757\n",
      "R2: 0.9809909252915219\n",
      "===== < BUILDING NO.58 > =====\n"
     ]
    },
    {
     "name": "stderr",
     "output_type": "stream",
     "text": [
      " 58%|█████▊    | 58/100 [00:26<00:19,  2.15it/s]"
     ]
    },
    {
     "name": "stdout",
     "output_type": "stream",
     "text": [
      "SMAPE: 0.23670892141224703\n",
      "R2: 0.920833939381469\n",
      "===== < BUILDING NO.59 > =====\n"
     ]
    },
    {
     "name": "stderr",
     "output_type": "stream",
     "text": [
      " 59%|█████▉    | 59/100 [00:27<00:19,  2.13it/s]"
     ]
    },
    {
     "name": "stdout",
     "output_type": "stream",
     "text": [
      "SMAPE: 2.7308138201117464\n",
      "R2: 0.9799158507617827\n",
      "===== < BUILDING NO.60 > =====\n"
     ]
    },
    {
     "name": "stderr",
     "output_type": "stream",
     "text": [
      " 60%|██████    | 60/100 [00:27<00:18,  2.12it/s]"
     ]
    },
    {
     "name": "stdout",
     "output_type": "stream",
     "text": [
      "SMAPE: 3.332501927803592\n",
      "R2: 0.9350027868731436\n",
      "===== < BUILDING NO.61 > =====\n"
     ]
    },
    {
     "name": "stderr",
     "output_type": "stream",
     "text": [
      " 61%|██████    | 61/100 [00:28<00:18,  2.14it/s]"
     ]
    },
    {
     "name": "stdout",
     "output_type": "stream",
     "text": [
      "SMAPE: 2.4290931986130837\n",
      "R2: 0.9270876663943561\n",
      "===== < BUILDING NO.62 > =====\n"
     ]
    },
    {
     "name": "stderr",
     "output_type": "stream",
     "text": [
      " 62%|██████▏   | 62/100 [00:28<00:17,  2.15it/s]"
     ]
    },
    {
     "name": "stdout",
     "output_type": "stream",
     "text": [
      "SMAPE: 2.882217165357329\n",
      "R2: 0.9125645284829034\n",
      "===== < BUILDING NO.63 > =====\n"
     ]
    },
    {
     "name": "stderr",
     "output_type": "stream",
     "text": [
      " 63%|██████▎   | 63/100 [00:29<00:17,  2.17it/s]"
     ]
    },
    {
     "name": "stdout",
     "output_type": "stream",
     "text": [
      "SMAPE: 3.4149037565694553\n",
      "R2: 0.8949602368003133\n",
      "===== < BUILDING NO.64 > =====\n"
     ]
    },
    {
     "name": "stderr",
     "output_type": "stream",
     "text": [
      " 64%|██████▍   | 64/100 [00:29<00:16,  2.19it/s]"
     ]
    },
    {
     "name": "stdout",
     "output_type": "stream",
     "text": [
      "SMAPE: 2.192605547310273\n",
      "R2: 0.932467352366322\n",
      "===== < BUILDING NO.65 > =====\n"
     ]
    },
    {
     "name": "stderr",
     "output_type": "stream",
     "text": [
      " 65%|██████▌   | 65/100 [00:30<00:15,  2.21it/s]"
     ]
    },
    {
     "name": "stdout",
     "output_type": "stream",
     "text": [
      "SMAPE: 4.564329757053826\n",
      "R2: 0.8739320769441087\n",
      "===== < BUILDING NO.66 > =====\n"
     ]
    },
    {
     "name": "stderr",
     "output_type": "stream",
     "text": [
      " 66%|██████▌   | 66/100 [00:30<00:15,  2.22it/s]"
     ]
    },
    {
     "name": "stdout",
     "output_type": "stream",
     "text": [
      "SMAPE: 2.4244998024443847\n",
      "R2: 0.8265624115134869\n",
      "===== < BUILDING NO.67 > =====\n"
     ]
    },
    {
     "name": "stderr",
     "output_type": "stream",
     "text": [
      " 67%|██████▋   | 67/100 [00:31<00:14,  2.23it/s]"
     ]
    },
    {
     "name": "stdout",
     "output_type": "stream",
     "text": [
      "SMAPE: 3.332442030185826\n",
      "R2: 0.8322504730913509\n",
      "===== < BUILDING NO.68 > =====\n"
     ]
    },
    {
     "name": "stderr",
     "output_type": "stream",
     "text": [
      " 68%|██████▊   | 68/100 [00:31<00:14,  2.23it/s]"
     ]
    },
    {
     "name": "stdout",
     "output_type": "stream",
     "text": [
      "SMAPE: 2.4661242270411563\n",
      "R2: 0.9259756065643394\n",
      "===== < BUILDING NO.69 > =====\n"
     ]
    },
    {
     "name": "stderr",
     "output_type": "stream",
     "text": [
      " 69%|██████▉   | 69/100 [00:32<00:14,  2.21it/s]"
     ]
    },
    {
     "name": "stdout",
     "output_type": "stream",
     "text": [
      "SMAPE: 1.2378588567640767\n",
      "R2: 0.9731007487803348\n",
      "===== < BUILDING NO.70 > =====\n"
     ]
    },
    {
     "name": "stderr",
     "output_type": "stream",
     "text": [
      " 70%|███████   | 70/100 [00:32<00:13,  2.18it/s]"
     ]
    },
    {
     "name": "stdout",
     "output_type": "stream",
     "text": [
      "SMAPE: 2.9242912012858864\n",
      "R2: 0.9353082335484849\n",
      "===== < BUILDING NO.71 > =====\n"
     ]
    },
    {
     "name": "stderr",
     "output_type": "stream",
     "text": [
      " 71%|███████   | 71/100 [00:32<00:13,  2.18it/s]"
     ]
    },
    {
     "name": "stdout",
     "output_type": "stream",
     "text": [
      "SMAPE: 2.4507192180919257\n",
      "R2: 0.8340617821952501\n",
      "===== < BUILDING NO.72 > =====\n"
     ]
    },
    {
     "name": "stderr",
     "output_type": "stream",
     "text": [
      " 72%|███████▏  | 72/100 [00:33<00:12,  2.20it/s]"
     ]
    },
    {
     "name": "stdout",
     "output_type": "stream",
     "text": [
      "SMAPE: 2.7733701831279545\n",
      "R2: 0.7555292420116023\n",
      "===== < BUILDING NO.73 > =====\n"
     ]
    },
    {
     "name": "stderr",
     "output_type": "stream",
     "text": [
      " 73%|███████▎  | 73/100 [00:33<00:12,  2.19it/s]"
     ]
    },
    {
     "name": "stdout",
     "output_type": "stream",
     "text": [
      "SMAPE: 1.8094169744102617\n",
      "R2: 0.7870499450423885\n",
      "===== < BUILDING NO.74 > =====\n"
     ]
    },
    {
     "name": "stderr",
     "output_type": "stream",
     "text": [
      " 74%|███████▍  | 74/100 [00:34<00:12,  2.17it/s]"
     ]
    },
    {
     "name": "stdout",
     "output_type": "stream",
     "text": [
      "SMAPE: 3.227206744145175\n",
      "R2: 0.915656762699637\n",
      "===== < BUILDING NO.75 > =====\n"
     ]
    },
    {
     "name": "stderr",
     "output_type": "stream",
     "text": [
      " 75%|███████▌  | 75/100 [00:34<00:11,  2.18it/s]"
     ]
    },
    {
     "name": "stdout",
     "output_type": "stream",
     "text": [
      "SMAPE: 1.795155687007019\n",
      "R2: 0.9244839068695585\n",
      "===== < BUILDING NO.76 > =====\n"
     ]
    },
    {
     "name": "stderr",
     "output_type": "stream",
     "text": [
      " 76%|███████▌  | 76/100 [00:35<00:10,  2.19it/s]"
     ]
    },
    {
     "name": "stdout",
     "output_type": "stream",
     "text": [
      "SMAPE: 2.6644569317697706\n",
      "R2: 0.7380537078138328\n",
      "===== < BUILDING NO.77 > =====\n"
     ]
    },
    {
     "name": "stderr",
     "output_type": "stream",
     "text": [
      " 77%|███████▋  | 77/100 [00:35<00:10,  2.18it/s]"
     ]
    },
    {
     "name": "stdout",
     "output_type": "stream",
     "text": [
      "SMAPE: 1.2645450120717565\n",
      "R2: 0.9929984811307015\n",
      "===== < BUILDING NO.78 > =====\n"
     ]
    },
    {
     "name": "stderr",
     "output_type": "stream",
     "text": [
      " 78%|███████▊  | 78/100 [00:36<00:10,  2.17it/s]"
     ]
    },
    {
     "name": "stdout",
     "output_type": "stream",
     "text": [
      "SMAPE: 1.775172305388308\n",
      "R2: 0.9924433940189776\n",
      "===== < BUILDING NO.79 > =====\n"
     ]
    },
    {
     "name": "stderr",
     "output_type": "stream",
     "text": [
      " 79%|███████▉  | 79/100 [00:36<00:09,  2.16it/s]"
     ]
    },
    {
     "name": "stdout",
     "output_type": "stream",
     "text": [
      "SMAPE: 1.2026472327547444\n",
      "R2: 0.987467573474717\n",
      "===== < BUILDING NO.80 > =====\n"
     ]
    },
    {
     "name": "stderr",
     "output_type": "stream",
     "text": [
      " 80%|████████  | 80/100 [00:37<00:09,  2.16it/s]"
     ]
    },
    {
     "name": "stdout",
     "output_type": "stream",
     "text": [
      "SMAPE: 2.1932373322995904\n",
      "R2: 0.9904666887899196\n",
      "===== < BUILDING NO.81 > =====\n"
     ]
    },
    {
     "name": "stderr",
     "output_type": "stream",
     "text": [
      " 81%|████████  | 81/100 [00:37<00:08,  2.15it/s]"
     ]
    },
    {
     "name": "stdout",
     "output_type": "stream",
     "text": [
      "SMAPE: 1.8181520011197698\n",
      "R2: 0.9914942169679944\n",
      "===== < BUILDING NO.82 > =====\n"
     ]
    },
    {
     "name": "stderr",
     "output_type": "stream",
     "text": [
      " 82%|████████▏ | 82/100 [00:38<00:08,  2.16it/s]"
     ]
    },
    {
     "name": "stdout",
     "output_type": "stream",
     "text": [
      "SMAPE: 2.1799013680169064\n",
      "R2: 0.9803570411343799\n",
      "===== < BUILDING NO.83 > =====\n"
     ]
    },
    {
     "name": "stderr",
     "output_type": "stream",
     "text": [
      " 83%|████████▎ | 83/100 [00:38<00:07,  2.16it/s]"
     ]
    },
    {
     "name": "stdout",
     "output_type": "stream",
     "text": [
      "SMAPE: 1.4762290220884111\n",
      "R2: 0.9938377574748046\n",
      "===== < BUILDING NO.84 > =====\n"
     ]
    },
    {
     "name": "stderr",
     "output_type": "stream",
     "text": [
      " 84%|████████▍ | 84/100 [00:38<00:07,  2.18it/s]"
     ]
    },
    {
     "name": "stdout",
     "output_type": "stream",
     "text": [
      "SMAPE: 1.5863766283209517\n",
      "R2: 0.989003395116982\n",
      "===== < BUILDING NO.85 > =====\n"
     ]
    },
    {
     "name": "stderr",
     "output_type": "stream",
     "text": [
      " 85%|████████▌ | 85/100 [00:39<00:06,  2.17it/s]"
     ]
    },
    {
     "name": "stdout",
     "output_type": "stream",
     "text": [
      "SMAPE: 2.110631507340148\n",
      "R2: 0.9304924946109449\n",
      "===== < BUILDING NO.86 > =====\n"
     ]
    },
    {
     "name": "stderr",
     "output_type": "stream",
     "text": [
      " 86%|████████▌ | 86/100 [00:39<00:06,  2.14it/s]"
     ]
    },
    {
     "name": "stdout",
     "output_type": "stream",
     "text": [
      "SMAPE: 4.6735207190526875\n",
      "R2: 0.8042585156894867\n",
      "===== < BUILDING NO.87 > =====\n"
     ]
    },
    {
     "name": "stderr",
     "output_type": "stream",
     "text": [
      " 87%|████████▋ | 87/100 [00:40<00:06,  2.14it/s]"
     ]
    },
    {
     "name": "stdout",
     "output_type": "stream",
     "text": [
      "SMAPE: 5.475569058822784\n",
      "R2: 0.8311518019327729\n",
      "===== < BUILDING NO.88 > =====\n"
     ]
    },
    {
     "name": "stderr",
     "output_type": "stream",
     "text": [
      " 88%|████████▊ | 88/100 [00:40<00:05,  2.13it/s]"
     ]
    },
    {
     "name": "stdout",
     "output_type": "stream",
     "text": [
      "SMAPE: 3.485550047859166\n",
      "R2: 0.8699239231961176\n",
      "===== < BUILDING NO.89 > =====\n"
     ]
    },
    {
     "name": "stderr",
     "output_type": "stream",
     "text": [
      " 89%|████████▉ | 89/100 [00:41<00:05,  2.13it/s]"
     ]
    },
    {
     "name": "stdout",
     "output_type": "stream",
     "text": [
      "SMAPE: 4.481320288664517\n",
      "R2: 0.8187637258583744\n",
      "===== < BUILDING NO.90 > =====\n"
     ]
    },
    {
     "name": "stderr",
     "output_type": "stream",
     "text": [
      " 90%|█████████ | 90/100 [00:41<00:04,  2.12it/s]"
     ]
    },
    {
     "name": "stdout",
     "output_type": "stream",
     "text": [
      "SMAPE: 4.090439826961783\n",
      "R2: 0.9185593630504253\n",
      "===== < BUILDING NO.91 > =====\n"
     ]
    },
    {
     "name": "stderr",
     "output_type": "stream",
     "text": [
      " 91%|█████████ | 91/100 [00:42<00:04,  2.10it/s]"
     ]
    },
    {
     "name": "stdout",
     "output_type": "stream",
     "text": [
      "SMAPE: 6.321587710752557\n",
      "R2: 0.9335721185128683\n",
      "===== < BUILDING NO.92 > =====\n"
     ]
    },
    {
     "name": "stderr",
     "output_type": "stream",
     "text": [
      " 92%|█████████▏| 92/100 [00:42<00:03,  2.08it/s]"
     ]
    },
    {
     "name": "stdout",
     "output_type": "stream",
     "text": [
      "SMAPE: 3.6227618514306217\n",
      "R2: 0.8661026418947262\n",
      "===== < BUILDING NO.93 > =====\n"
     ]
    },
    {
     "name": "stderr",
     "output_type": "stream",
     "text": [
      " 93%|█████████▎| 93/100 [00:43<00:03,  2.10it/s]"
     ]
    },
    {
     "name": "stdout",
     "output_type": "stream",
     "text": [
      "SMAPE: 3.1402163139316612\n",
      "R2: 0.8803611282961165\n",
      "===== < BUILDING NO.94 > =====\n"
     ]
    },
    {
     "name": "stderr",
     "output_type": "stream",
     "text": [
      " 94%|█████████▍| 94/100 [00:43<00:02,  2.12it/s]"
     ]
    },
    {
     "name": "stdout",
     "output_type": "stream",
     "text": [
      "SMAPE: 3.138765680342527\n",
      "R2: 0.903475505279252\n",
      "===== < BUILDING NO.95 > =====\n"
     ]
    },
    {
     "name": "stderr",
     "output_type": "stream",
     "text": [
      " 95%|█████████▌| 95/100 [00:44<00:02,  2.11it/s]"
     ]
    },
    {
     "name": "stdout",
     "output_type": "stream",
     "text": [
      "SMAPE: 7.843140324549508\n",
      "R2: 0.6047171618588155\n",
      "===== < BUILDING NO.96 > =====\n"
     ]
    },
    {
     "name": "stderr",
     "output_type": "stream",
     "text": [
      " 96%|█████████▌| 96/100 [00:44<00:01,  2.13it/s]"
     ]
    },
    {
     "name": "stdout",
     "output_type": "stream",
     "text": [
      "SMAPE: 1.8025855377558582\n",
      "R2: 0.9547015010652354\n",
      "===== < BUILDING NO.97 > =====\n"
     ]
    },
    {
     "name": "stderr",
     "output_type": "stream",
     "text": [
      " 97%|█████████▋| 97/100 [00:45<00:01,  2.14it/s]"
     ]
    },
    {
     "name": "stdout",
     "output_type": "stream",
     "text": [
      "SMAPE: 3.153051745809262\n",
      "R2: 0.8982265079464286\n",
      "===== < BUILDING NO.98 > =====\n"
     ]
    },
    {
     "name": "stderr",
     "output_type": "stream",
     "text": [
      " 98%|█████████▊| 98/100 [00:45<00:00,  2.14it/s]"
     ]
    },
    {
     "name": "stdout",
     "output_type": "stream",
     "text": [
      "SMAPE: 7.076964088552592\n",
      "R2: 0.8518380869876305\n",
      "===== < BUILDING NO.99 > =====\n"
     ]
    },
    {
     "name": "stderr",
     "output_type": "stream",
     "text": [
      " 99%|█████████▉| 99/100 [00:45<00:00,  2.17it/s]"
     ]
    },
    {
     "name": "stdout",
     "output_type": "stream",
     "text": [
      "SMAPE: 1.6628715344759977\n",
      "R2: 0.978905208400493\n",
      "===== < BUILDING NO.100 > =====\n"
     ]
    },
    {
     "name": "stderr",
     "output_type": "stream",
     "text": [
      "100%|██████████| 100/100 [00:46<00:00,  2.15it/s]"
     ]
    },
    {
     "name": "stdout",
     "output_type": "stream",
     "text": [
      "SMAPE: 2.9758569305188023\n",
      "R2: 0.958168573833171\n"
     ]
    },
    {
     "name": "stderr",
     "output_type": "stream",
     "text": [
      "\n"
     ]
    }
   ],
   "source": [
    "pred_val_ens= []\n",
    "test_ens = []\n",
    "\n",
    "summary_list = []\n",
    "ans_val_list = []\n",
    "pred_val_list = []\n",
    "pred_test_list = []\n",
    "\n",
    "for i in tqdm(range(100)):\n",
    "    print(f\"===== < BUILDING NO.{i+1} > =====\")\n",
    "    summary_dict = {}\n",
    "\n",
    "    smape_val, r2_val, ans_val, pred_val, pred_test = fit_and_pred_RF(train, test, i+1, seed=0)\n",
    "\n",
    "    summary_dict['건물번호'] = i+1\n",
    "    summary_dict['SMAPE'] = smape_val\n",
    "    summary_dict['R2'] = r2_val\n",
    "    summary_list.append(summary_dict)\n",
    "    ans_val_list.append(ans_val)\n",
    "    pred_val_list.append(pred_val)\n",
    "    pred_test_list.append(pred_test)\n",
    "\n",
    "ans_val_whole = np.concatenate(ans_val_list)\n",
    "pred_val_whole = np.concatenate(pred_val_list)\n",
    "pred_test_whole = np.concatenate(pred_test_list)\n",
    "smape_val =SMAPE(ans_val_whole, pred_val_whole)"
   ]
  },
  {
   "cell_type": "code",
   "execution_count": 76,
   "id": "c2f36727-3c6e-47bb-9308-6f4ab54b016d",
   "metadata": {
    "scrolled": true
   },
   "outputs": [
    {
     "data": {
      "text/plain": [
       "[{'건물번호': 1, 'SMAPE': 3.81607975204115, 'R2': 0.9382542184288511},\n",
       " {'건물번호': 2, 'SMAPE': 4.867200648713607, 'R2': 0.7763007096473291},\n",
       " {'건물번호': 3, 'SMAPE': 7.7069141261757705, 'R2': 0.7044058382387558},\n",
       " {'건물번호': 4, 'SMAPE': 2.6295317324970036, 'R2': 0.9541398097540355},\n",
       " {'건물번호': 5, 'SMAPE': 2.6806479501464584, 'R2': 0.9727180063840729},\n",
       " {'건물번호': 6, 'SMAPE': 2.16355388770827, 'R2': 0.9704339792850838},\n",
       " {'건물번호': 7, 'SMAPE': 4.631251200590728, 'R2': 0.8938503046146825},\n",
       " {'건물번호': 8, 'SMAPE': 2.6015812045585722, 'R2': 0.7028133728965408},\n",
       " {'건물번호': 9, 'SMAPE': 2.1283778181013053, 'R2': 0.9665456168458111},\n",
       " {'건물번호': 10, 'SMAPE': 4.690170995407238, 'R2': 0.06500874864653094},\n",
       " {'건물번호': 11, 'SMAPE': 1.9116744901547011, 'R2': 0.8832901180685022},\n",
       " {'건물번호': 12, 'SMAPE': 2.4815619328076512, 'R2': 0.8664673302670154},\n",
       " {'건물번호': 13, 'SMAPE': 3.2920364666488298, 'R2': 0.28128614925023554},\n",
       " {'건물번호': 14, 'SMAPE': 8.470760739573072, 'R2': 0.22610613234099208},\n",
       " {'건물번호': 15, 'SMAPE': 1.4439752293057564, 'R2': 0.9140344005337818},\n",
       " {'건물번호': 16, 'SMAPE': 2.548924377334314, 'R2': 0.9744329763755644},\n",
       " {'건물번호': 17, 'SMAPE': 2.7838239506088778, 'R2': 0.9454634355214464},\n",
       " {'건물번호': 18, 'SMAPE': 3.7694009492810294, 'R2': 0.9181599146592628},\n",
       " {'건물번호': 19, 'SMAPE': 4.265690928934783, 'R2': 0.9277149053981694},\n",
       " {'건물번호': 20, 'SMAPE': 2.4292519802640933, 'R2': 0.9747302167892041},\n",
       " {'건물번호': 21, 'SMAPE': 3.806566532597179, 'R2': 0.9315238956209586},\n",
       " {'건물번호': 22, 'SMAPE': 1.8305577295731381, 'R2': 0.9381958643202355},\n",
       " {'건물번호': 23, 'SMAPE': 0.9269066816452773, 'R2': 0.9669231469014048},\n",
       " {'건물번호': 24, 'SMAPE': 1.3153918643755969, 'R2': 0.9829084967645222},\n",
       " {'건물번호': 25, 'SMAPE': 1.2790723456912096, 'R2': 0.9832323720232548},\n",
       " {'건물번호': 26, 'SMAPE': 1.2183526106766307, 'R2': 0.9814403485805724},\n",
       " {'건물번호': 27, 'SMAPE': 0.980770415430509, 'R2': 0.9690667456063947},\n",
       " {'건물번호': 28, 'SMAPE': 3.019988143000832, 'R2': 0.893443550502151},\n",
       " {'건물번호': 29, 'SMAPE': 2.3423030277280814, 'R2': 0.9234394754036023},\n",
       " {'건물번호': 30, 'SMAPE': 3.1247811497535194, 'R2': 0.8909177684595639},\n",
       " {'건물번호': 31, 'SMAPE': 3.1006594741064135, 'R2': 0.9005565126109285},\n",
       " {'건물번호': 32, 'SMAPE': 0.20204890416909288, 'R2': 0.8552501903782831},\n",
       " {'건물번호': 33, 'SMAPE': 0.2684752281375804, 'R2': 0.4577168446596839},\n",
       " {'건물번호': 34, 'SMAPE': 0.3858832314158362, 'R2': 0.8508291507197276},\n",
       " {'건물번호': 35, 'SMAPE': 0.21359921098445012, 'R2': 0.8877497765916647},\n",
       " {'건물번호': 36, 'SMAPE': 0.3343134947781449, 'R2': 0.5961038758043062},\n",
       " {'건물번호': 37, 'SMAPE': 2.7891843870317863, 'R2': 0.9717759420917264},\n",
       " {'건물번호': 38, 'SMAPE': 2.2341777474739506, 'R2': 0.9854370280219107},\n",
       " {'건물번호': 39, 'SMAPE': 2.6730025807419264, 'R2': 0.9703409295932119},\n",
       " {'건물번호': 40, 'SMAPE': 5.75368382606543, 'R2': 0.887933518636843},\n",
       " {'건물번호': 41, 'SMAPE': 2.2563804647610746, 'R2': 0.9905204343201396},\n",
       " {'건물번호': 42, 'SMAPE': 5.764268600047815, 'R2': 0.7906010839588729},\n",
       " {'건물번호': 43, 'SMAPE': 3.01051394988604, 'R2': 0.9936727508985866},\n",
       " {'건물번호': 44, 'SMAPE': 2.310154668327256, 'R2': 0.9937892305609368},\n",
       " {'건물번호': 45, 'SMAPE': 1.5009182843603501, 'R2': 0.9400363536980346},\n",
       " {'건물번호': 46, 'SMAPE': 2.268407254510354, 'R2': 0.9432954224273304},\n",
       " {'건물번호': 47, 'SMAPE': 2.226009553336245, 'R2': 0.9333594493941354},\n",
       " {'건물번호': 48, 'SMAPE': 1.1214533211000972, 'R2': 0.9833635549126017},\n",
       " {'건물번호': 49, 'SMAPE': 1.59441018145801, 'R2': 0.9229431390943257},\n",
       " {'건물번호': 50, 'SMAPE': 1.3602567913085193, 'R2': 0.9204864108512055},\n",
       " {'건물번호': 51, 'SMAPE': 1.9180676119485909, 'R2': 0.9311832356778328},\n",
       " {'건물번호': 52, 'SMAPE': 2.0935757482095503, 'R2': 0.9465409017335444},\n",
       " {'건물번호': 53, 'SMAPE': 5.58696122514135, 'R2': 0.9592604199331006},\n",
       " {'건물번호': 54, 'SMAPE': 9.222910057851367, 'R2': 0.7931655129605127},\n",
       " {'건물번호': 55, 'SMAPE': 0.7760442907770205, 'R2': 0.9234005961821116},\n",
       " {'건물번호': 56, 'SMAPE': 0.4135204293848765, 'R2': 0.9244514395741013},\n",
       " {'건물번호': 57, 'SMAPE': 2.6554535201281757, 'R2': 0.9809909252915219},\n",
       " {'건물번호': 58, 'SMAPE': 0.23670892141224703, 'R2': 0.920833939381469},\n",
       " {'건물번호': 59, 'SMAPE': 2.7308138201117464, 'R2': 0.9799158507617827},\n",
       " {'건물번호': 60, 'SMAPE': 3.332501927803592, 'R2': 0.9350027868731436},\n",
       " {'건물번호': 61, 'SMAPE': 2.4290931986130837, 'R2': 0.9270876663943561},\n",
       " {'건물번호': 62, 'SMAPE': 2.882217165357329, 'R2': 0.9125645284829034},\n",
       " {'건물번호': 63, 'SMAPE': 3.4149037565694553, 'R2': 0.8949602368003133},\n",
       " {'건물번호': 64, 'SMAPE': 2.192605547310273, 'R2': 0.932467352366322},\n",
       " {'건물번호': 65, 'SMAPE': 4.564329757053826, 'R2': 0.8739320769441087},\n",
       " {'건물번호': 66, 'SMAPE': 2.4244998024443847, 'R2': 0.8265624115134869},\n",
       " {'건물번호': 67, 'SMAPE': 3.332442030185826, 'R2': 0.8322504730913509},\n",
       " {'건물번호': 68, 'SMAPE': 2.4661242270411563, 'R2': 0.9259756065643394},\n",
       " {'건물번호': 69, 'SMAPE': 1.2378588567640767, 'R2': 0.9731007487803348},\n",
       " {'건물번호': 70, 'SMAPE': 2.9242912012858864, 'R2': 0.9353082335484849},\n",
       " {'건물번호': 71, 'SMAPE': 2.4507192180919257, 'R2': 0.8340617821952501},\n",
       " {'건물번호': 72, 'SMAPE': 2.7733701831279545, 'R2': 0.7555292420116023},\n",
       " {'건물번호': 73, 'SMAPE': 1.8094169744102617, 'R2': 0.7870499450423885},\n",
       " {'건물번호': 74, 'SMAPE': 3.227206744145175, 'R2': 0.915656762699637},\n",
       " {'건물번호': 75, 'SMAPE': 1.795155687007019, 'R2': 0.9244839068695585},\n",
       " {'건물번호': 76, 'SMAPE': 2.6644569317697706, 'R2': 0.7380537078138328},\n",
       " {'건물번호': 77, 'SMAPE': 1.2645450120717565, 'R2': 0.9929984811307015},\n",
       " {'건물번호': 78, 'SMAPE': 1.775172305388308, 'R2': 0.9924433940189776},\n",
       " {'건물번호': 79, 'SMAPE': 1.2026472327547444, 'R2': 0.987467573474717},\n",
       " {'건물번호': 80, 'SMAPE': 2.1932373322995904, 'R2': 0.9904666887899196},\n",
       " {'건물번호': 81, 'SMAPE': 1.8181520011197698, 'R2': 0.9914942169679944},\n",
       " {'건물번호': 82, 'SMAPE': 2.1799013680169064, 'R2': 0.9803570411343799},\n",
       " {'건물번호': 83, 'SMAPE': 1.4762290220884111, 'R2': 0.9938377574748046},\n",
       " {'건물번호': 84, 'SMAPE': 1.5863766283209517, 'R2': 0.989003395116982},\n",
       " {'건물번호': 85, 'SMAPE': 2.110631507340148, 'R2': 0.9304924946109449},\n",
       " {'건물번호': 86, 'SMAPE': 4.6735207190526875, 'R2': 0.8042585156894867},\n",
       " {'건물번호': 87, 'SMAPE': 5.475569058822784, 'R2': 0.8311518019327729},\n",
       " {'건물번호': 88, 'SMAPE': 3.485550047859166, 'R2': 0.8699239231961176},\n",
       " {'건물번호': 89, 'SMAPE': 4.481320288664517, 'R2': 0.8187637258583744},\n",
       " {'건물번호': 90, 'SMAPE': 4.090439826961783, 'R2': 0.9185593630504253},\n",
       " {'건물번호': 91, 'SMAPE': 6.321587710752557, 'R2': 0.9335721185128683},\n",
       " {'건물번호': 92, 'SMAPE': 3.6227618514306217, 'R2': 0.8661026418947262},\n",
       " {'건물번호': 93, 'SMAPE': 3.1402163139316612, 'R2': 0.8803611282961165},\n",
       " {'건물번호': 94, 'SMAPE': 3.138765680342527, 'R2': 0.903475505279252},\n",
       " {'건물번호': 95, 'SMAPE': 7.843140324549508, 'R2': 0.6047171618588155},\n",
       " {'건물번호': 96, 'SMAPE': 1.8025855377558582, 'R2': 0.9547015010652354},\n",
       " {'건물번호': 97, 'SMAPE': 3.153051745809262, 'R2': 0.8982265079464286},\n",
       " {'건물번호': 98, 'SMAPE': 7.076964088552592, 'R2': 0.8518380869876305},\n",
       " {'건물번호': 99, 'SMAPE': 1.6628715344759977, 'R2': 0.978905208400493},\n",
       " {'건물번호': 100, 'SMAPE': 2.9758569305188023, 'R2': 0.958168573833171}]"
      ]
     },
     "execution_count": 76,
     "metadata": {},
     "output_type": "execute_result"
    }
   ],
   "source": [
    "summary_list"
   ]
  },
  {
   "cell_type": "code",
   "execution_count": 77,
   "id": "9acb0323-98e5-46f1-9376-c42f45301037",
   "metadata": {},
   "outputs": [
    {
     "data": {
      "text/plain": [
       "2.8263124491815237"
      ]
     },
     "execution_count": 77,
     "metadata": {},
     "output_type": "execute_result"
    }
   ],
   "source": [
    "smape_val"
   ]
  },
  {
   "cell_type": "code",
   "execution_count": 78,
   "id": "6b4a9857-1140-42b3-9816-cf476903ad72",
   "metadata": {},
   "outputs": [],
   "source": [
    "sub = pd.read_csv('sample_submission.csv')\n",
    "sub['answer'] = pred_test_whole\n",
    "sub.to_csv('rf_sub_23.csv', index=False)"
   ]
  },
  {
   "cell_type": "markdown",
   "id": "5364f5ef-42ce-4735-84eb-2bda4490e530",
   "metadata": {},
   "source": [
    "### Improvement"
   ]
  },
  {
   "cell_type": "code",
   "execution_count": 67,
   "id": "9322016f-b3d8-4efe-b92b-ca65bfd6fdea",
   "metadata": {},
   "outputs": [],
   "source": [
    "train['적정온도차이'] = train['기온(C)'] - 26"
   ]
  },
  {
   "cell_type": "code",
   "execution_count": 68,
   "id": "ae38640c-64c3-4b3b-82fa-f944ae094edd",
   "metadata": {},
   "outputs": [],
   "source": [
    "test['적정온도차이'] = test['기온(C)'] - 26"
   ]
  },
  {
   "cell_type": "code",
   "execution_count": 34,
   "id": "dd2200c1-342a-4409-ab51-3b7f3b0cfb34",
   "metadata": {},
   "outputs": [
    {
     "data": {
      "text/html": [
       "<div>\n",
       "<style scoped>\n",
       "    .dataframe tbody tr th:only-of-type {\n",
       "        vertical-align: middle;\n",
       "    }\n",
       "\n",
       "    .dataframe tbody tr th {\n",
       "        vertical-align: top;\n",
       "    }\n",
       "\n",
       "    .dataframe thead th {\n",
       "        text-align: right;\n",
       "    }\n",
       "</style>\n",
       "<table border=\"1\" class=\"dataframe\">\n",
       "  <thead>\n",
       "    <tr style=\"text-align: right;\">\n",
       "      <th></th>\n",
       "      <th>건물번호</th>\n",
       "      <th>기온(C)</th>\n",
       "      <th>강수량(mm)</th>\n",
       "      <th>풍속(m/s)</th>\n",
       "      <th>습도(%)</th>\n",
       "      <th>month</th>\n",
       "      <th>day</th>\n",
       "      <th>holiday</th>\n",
       "      <th>sin_time</th>\n",
       "      <th>cos_time</th>\n",
       "      <th>DI</th>\n",
       "      <th>power</th>\n",
       "      <th>적정온도차이</th>\n",
       "    </tr>\n",
       "  </thead>\n",
       "  <tbody>\n",
       "    <tr>\n",
       "      <th>0</th>\n",
       "      <td>1</td>\n",
       "      <td>18.6</td>\n",
       "      <td>0.0</td>\n",
       "      <td>0.9</td>\n",
       "      <td>42.0</td>\n",
       "      <td>6</td>\n",
       "      <td>2</td>\n",
       "      <td>0</td>\n",
       "      <td>0.000000</td>\n",
       "      <td>1.000000</td>\n",
       "      <td>234.154</td>\n",
       "      <td>1085.28</td>\n",
       "      <td>-7.4</td>\n",
       "    </tr>\n",
       "    <tr>\n",
       "      <th>1</th>\n",
       "      <td>1</td>\n",
       "      <td>18.0</td>\n",
       "      <td>0.0</td>\n",
       "      <td>1.1</td>\n",
       "      <td>45.0</td>\n",
       "      <td>6</td>\n",
       "      <td>2</td>\n",
       "      <td>0</td>\n",
       "      <td>0.258819</td>\n",
       "      <td>0.965926</td>\n",
       "      <td>219.280</td>\n",
       "      <td>1047.36</td>\n",
       "      <td>-8.0</td>\n",
       "    </tr>\n",
       "    <tr>\n",
       "      <th>2</th>\n",
       "      <td>1</td>\n",
       "      <td>17.7</td>\n",
       "      <td>0.0</td>\n",
       "      <td>1.5</td>\n",
       "      <td>45.0</td>\n",
       "      <td>6</td>\n",
       "      <td>2</td>\n",
       "      <td>0</td>\n",
       "      <td>0.500000</td>\n",
       "      <td>0.866025</td>\n",
       "      <td>205.672</td>\n",
       "      <td>974.88</td>\n",
       "      <td>-8.3</td>\n",
       "    </tr>\n",
       "    <tr>\n",
       "      <th>3</th>\n",
       "      <td>1</td>\n",
       "      <td>16.7</td>\n",
       "      <td>0.0</td>\n",
       "      <td>1.4</td>\n",
       "      <td>48.0</td>\n",
       "      <td>6</td>\n",
       "      <td>2</td>\n",
       "      <td>0</td>\n",
       "      <td>0.707107</td>\n",
       "      <td>0.707107</td>\n",
       "      <td>167.011</td>\n",
       "      <td>953.76</td>\n",
       "      <td>-9.3</td>\n",
       "    </tr>\n",
       "    <tr>\n",
       "      <th>4</th>\n",
       "      <td>1</td>\n",
       "      <td>18.4</td>\n",
       "      <td>0.0</td>\n",
       "      <td>2.8</td>\n",
       "      <td>43.0</td>\n",
       "      <td>6</td>\n",
       "      <td>2</td>\n",
       "      <td>0</td>\n",
       "      <td>0.866025</td>\n",
       "      <td>0.500000</td>\n",
       "      <td>229.592</td>\n",
       "      <td>986.40</td>\n",
       "      <td>-7.6</td>\n",
       "    </tr>\n",
       "  </tbody>\n",
       "</table>\n",
       "</div>"
      ],
      "text/plain": [
       "   건물번호  기온(C)  강수량(mm)  풍속(m/s)  습도(%)  month  day  holiday  sin_time  \\\n",
       "0     1   18.6      0.0      0.9   42.0      6    2        0  0.000000   \n",
       "1     1   18.0      0.0      1.1   45.0      6    2        0  0.258819   \n",
       "2     1   17.7      0.0      1.5   45.0      6    2        0  0.500000   \n",
       "3     1   16.7      0.0      1.4   48.0      6    2        0  0.707107   \n",
       "4     1   18.4      0.0      2.8   43.0      6    2        0  0.866025   \n",
       "\n",
       "   cos_time       DI    power  적정온도차이  \n",
       "0  1.000000  234.154  1085.28    -7.4  \n",
       "1  0.965926  219.280  1047.36    -8.0  \n",
       "2  0.866025  205.672   974.88    -8.3  \n",
       "3  0.707107  167.011   953.76    -9.3  \n",
       "4  0.500000  229.592   986.40    -7.6  "
      ]
     },
     "execution_count": 34,
     "metadata": {},
     "output_type": "execute_result"
    }
   ],
   "source": [
    "train.head()"
   ]
  },
  {
   "cell_type": "code",
   "execution_count": 37,
   "id": "2018f85a-5c5f-4cb0-9506-f616f962d16a",
   "metadata": {},
   "outputs": [],
   "source": [
    "def weighted_mse(alpha = 1):\n",
    "    def weighted_mse_fixed(label, pred):\n",
    "        residual = (label - pred).astype(\"float\")\n",
    "        grad = np.where(residual>0, -2*alpha*residual, -2*residual)\n",
    "        hess = np.where(residual>0, 2*alpha, 2.0)\n",
    "        return grad, hess\n",
    "    return weighted_mse_fixed"
   ]
  },
  {
   "cell_type": "code",
   "execution_count": 38,
   "id": "b060a2f4-0bce-434c-96a8-b40f6b6058ff",
   "metadata": {},
   "outputs": [],
   "source": [
    "def fit_and_pred_XGB_with_weight(train, test, number, weight, seed=0):\n",
    "    x_train, x_valid, y_train, y_valid = tr_ts_split(train, test, number, 7*24)\n",
    "\n",
    "    xgb_reg = XGBRegressor(n_estimators=10000, eta=0.01, seed=seed,\n",
    "                            gpu_id=0, tree_method='gpu_hist', predictor='gpu_predictor')\n",
    "    xgb_reg.set_params(**{'objective':weighted_mse(weight)})\n",
    "    xgb_reg.fit(x_train, y_train, eval_set=[(x_train, y_train), (x_valid, y_valid)],\n",
    "                early_stopping_rounds=300, verbose=False)\n",
    "    pred = xgb_reg.predict(x_valid)\n",
    "    pred = pd.Series(pred)\n",
    "    \n",
    "    x_test = test[test['건물번호']==number]\n",
    "    y_test_pred = xgb_reg.predict(x_test.drop('건물번호', axis=1))\n",
    "\n",
    "    smape_val = SMAPE(y_valid, pred)\n",
    "    r2_val = sklearn.metrics.r2_score(y_valid, pred)\n",
    "    print(f'SMAPE: {smape_val}')\n",
    "    print(f'R2: {r2_val}')\n",
    "    return smape_val, r2_val, y_valid, pred, y_test_pred"
   ]
  },
  {
   "cell_type": "code",
   "execution_count": 44,
   "id": "a5c5d280-1e96-469e-8f6d-7133e8c4aa95",
   "metadata": {
    "scrolled": true
   },
   "outputs": [
    {
     "name": "stderr",
     "output_type": "stream",
     "text": [
      "  0%|          | 0/100 [00:00<?, ?it/s]/opt/conda/lib/python3.10/site-packages/xgboost/sklearn.py:835: UserWarning: `early_stopping_rounds` in `fit` method is deprecated for better compatibility with scikit-learn, use `early_stopping_rounds` in constructor or`set_params` instead.\n",
      "  warnings.warn(\n"
     ]
    },
    {
     "name": "stdout",
     "output_type": "stream",
     "text": [
      "===== < BUILDING NO.1 > =====\n"
     ]
    },
    {
     "name": "stderr",
     "output_type": "stream",
     "text": [
      "  1%|          | 1/100 [00:01<02:57,  1.80s/it]"
     ]
    },
    {
     "name": "stdout",
     "output_type": "stream",
     "text": [
      "SMAPE: 3.883634407146668\n",
      "R2: 0.9428148434678705\n",
      "===== < BUILDING NO.2 > =====\n"
     ]
    },
    {
     "name": "stderr",
     "output_type": "stream",
     "text": [
      "/opt/conda/lib/python3.10/site-packages/xgboost/sklearn.py:835: UserWarning: `early_stopping_rounds` in `fit` method is deprecated for better compatibility with scikit-learn, use `early_stopping_rounds` in constructor or`set_params` instead.\n",
      "  warnings.warn(\n",
      "  2%|▏         | 2/100 [00:03<02:26,  1.50s/it]"
     ]
    },
    {
     "name": "stdout",
     "output_type": "stream",
     "text": [
      "SMAPE: 5.256542311528698\n",
      "R2: 0.8268383595313882\n",
      "===== < BUILDING NO.3 > =====\n"
     ]
    },
    {
     "name": "stderr",
     "output_type": "stream",
     "text": [
      "/opt/conda/lib/python3.10/site-packages/xgboost/sklearn.py:835: UserWarning: `early_stopping_rounds` in `fit` method is deprecated for better compatibility with scikit-learn, use `early_stopping_rounds` in constructor or`set_params` instead.\n",
      "  warnings.warn(\n",
      "  3%|▎         | 3/100 [00:04<02:11,  1.35s/it]"
     ]
    },
    {
     "name": "stdout",
     "output_type": "stream",
     "text": [
      "SMAPE: 5.545908115619256\n",
      "R2: 0.8225081381620768\n",
      "===== < BUILDING NO.4 > =====\n"
     ]
    },
    {
     "name": "stderr",
     "output_type": "stream",
     "text": [
      "/opt/conda/lib/python3.10/site-packages/xgboost/sklearn.py:835: UserWarning: `early_stopping_rounds` in `fit` method is deprecated for better compatibility with scikit-learn, use `early_stopping_rounds` in constructor or`set_params` instead.\n",
      "  warnings.warn(\n",
      "  4%|▍         | 4/100 [00:05<02:12,  1.39s/it]"
     ]
    },
    {
     "name": "stdout",
     "output_type": "stream",
     "text": [
      "SMAPE: 2.0216084532929974\n",
      "R2: 0.9738995748382593\n",
      "===== < BUILDING NO.5 > =====\n"
     ]
    },
    {
     "name": "stderr",
     "output_type": "stream",
     "text": [
      "/opt/conda/lib/python3.10/site-packages/xgboost/sklearn.py:835: UserWarning: `early_stopping_rounds` in `fit` method is deprecated for better compatibility with scikit-learn, use `early_stopping_rounds` in constructor or`set_params` instead.\n",
      "  warnings.warn(\n",
      "  5%|▌         | 5/100 [00:07<02:42,  1.71s/it]"
     ]
    },
    {
     "name": "stdout",
     "output_type": "stream",
     "text": [
      "SMAPE: 2.8028523787496087\n",
      "R2: 0.9733667899879699\n",
      "===== < BUILDING NO.6 > =====\n"
     ]
    },
    {
     "name": "stderr",
     "output_type": "stream",
     "text": [
      "/opt/conda/lib/python3.10/site-packages/xgboost/sklearn.py:835: UserWarning: `early_stopping_rounds` in `fit` method is deprecated for better compatibility with scikit-learn, use `early_stopping_rounds` in constructor or`set_params` instead.\n",
      "  warnings.warn(\n",
      "  6%|▌         | 6/100 [00:09<02:47,  1.78s/it]"
     ]
    },
    {
     "name": "stdout",
     "output_type": "stream",
     "text": [
      "SMAPE: 1.861585193427125\n",
      "R2: 0.981714605738076\n",
      "===== < BUILDING NO.7 > =====\n"
     ]
    },
    {
     "name": "stderr",
     "output_type": "stream",
     "text": [
      "/opt/conda/lib/python3.10/site-packages/xgboost/sklearn.py:835: UserWarning: `early_stopping_rounds` in `fit` method is deprecated for better compatibility with scikit-learn, use `early_stopping_rounds` in constructor or`set_params` instead.\n",
      "  warnings.warn(\n",
      "  7%|▋         | 7/100 [00:11<02:33,  1.65s/it]"
     ]
    },
    {
     "name": "stdout",
     "output_type": "stream",
     "text": [
      "SMAPE: 5.0474765252492375\n",
      "R2: 0.8962074296471658\n",
      "===== < BUILDING NO.8 > =====\n"
     ]
    },
    {
     "name": "stderr",
     "output_type": "stream",
     "text": [
      "/opt/conda/lib/python3.10/site-packages/xgboost/sklearn.py:835: UserWarning: `early_stopping_rounds` in `fit` method is deprecated for better compatibility with scikit-learn, use `early_stopping_rounds` in constructor or`set_params` instead.\n",
      "  warnings.warn(\n",
      "  8%|▊         | 8/100 [00:12<02:30,  1.63s/it]"
     ]
    },
    {
     "name": "stdout",
     "output_type": "stream",
     "text": [
      "SMAPE: 2.5489555005401963\n",
      "R2: 0.7355127209176974\n",
      "===== < BUILDING NO.9 > =====\n"
     ]
    },
    {
     "name": "stderr",
     "output_type": "stream",
     "text": [
      "/opt/conda/lib/python3.10/site-packages/xgboost/sklearn.py:835: UserWarning: `early_stopping_rounds` in `fit` method is deprecated for better compatibility with scikit-learn, use `early_stopping_rounds` in constructor or`set_params` instead.\n",
      "  warnings.warn(\n",
      "  9%|▉         | 9/100 [00:14<02:33,  1.69s/it]"
     ]
    },
    {
     "name": "stdout",
     "output_type": "stream",
     "text": [
      "SMAPE: 2.0478630548996173\n",
      "R2: 0.975397976943655\n",
      "===== < BUILDING NO.10 > =====\n"
     ]
    },
    {
     "name": "stderr",
     "output_type": "stream",
     "text": [
      "/opt/conda/lib/python3.10/site-packages/xgboost/sklearn.py:835: UserWarning: `early_stopping_rounds` in `fit` method is deprecated for better compatibility with scikit-learn, use `early_stopping_rounds` in constructor or`set_params` instead.\n",
      "  warnings.warn(\n",
      " 10%|█         | 10/100 [00:16<02:21,  1.57s/it]"
     ]
    },
    {
     "name": "stdout",
     "output_type": "stream",
     "text": [
      "SMAPE: 3.907172078032968\n",
      "R2: 0.32611646656584903\n",
      "===== < BUILDING NO.11 > =====\n"
     ]
    },
    {
     "name": "stderr",
     "output_type": "stream",
     "text": [
      "/opt/conda/lib/python3.10/site-packages/xgboost/sklearn.py:835: UserWarning: `early_stopping_rounds` in `fit` method is deprecated for better compatibility with scikit-learn, use `early_stopping_rounds` in constructor or`set_params` instead.\n",
      "  warnings.warn(\n",
      " 11%|█         | 11/100 [00:17<02:23,  1.62s/it]"
     ]
    },
    {
     "name": "stdout",
     "output_type": "stream",
     "text": [
      "SMAPE: 1.676392266013526\n",
      "R2: 0.9014899611347567\n",
      "===== < BUILDING NO.12 > =====\n"
     ]
    },
    {
     "name": "stderr",
     "output_type": "stream",
     "text": [
      "/opt/conda/lib/python3.10/site-packages/xgboost/sklearn.py:835: UserWarning: `early_stopping_rounds` in `fit` method is deprecated for better compatibility with scikit-learn, use `early_stopping_rounds` in constructor or`set_params` instead.\n",
      "  warnings.warn(\n",
      " 12%|█▏        | 12/100 [00:20<02:56,  2.00s/it]"
     ]
    },
    {
     "name": "stdout",
     "output_type": "stream",
     "text": [
      "SMAPE: 1.8723574629050932\n",
      "R2: 0.9008362680544917\n",
      "===== < BUILDING NO.13 > =====\n"
     ]
    },
    {
     "name": "stderr",
     "output_type": "stream",
     "text": [
      "/opt/conda/lib/python3.10/site-packages/xgboost/sklearn.py:835: UserWarning: `early_stopping_rounds` in `fit` method is deprecated for better compatibility with scikit-learn, use `early_stopping_rounds` in constructor or`set_params` instead.\n",
      "  warnings.warn(\n",
      " 13%|█▎        | 13/100 [00:22<02:48,  1.93s/it]"
     ]
    },
    {
     "name": "stdout",
     "output_type": "stream",
     "text": [
      "SMAPE: 3.0274657714415754\n",
      "R2: 0.3797024654736437\n",
      "===== < BUILDING NO.14 > =====\n"
     ]
    },
    {
     "name": "stderr",
     "output_type": "stream",
     "text": [
      "/opt/conda/lib/python3.10/site-packages/xgboost/sklearn.py:835: UserWarning: `early_stopping_rounds` in `fit` method is deprecated for better compatibility with scikit-learn, use `early_stopping_rounds` in constructor or`set_params` instead.\n",
      "  warnings.warn(\n",
      " 14%|█▍        | 14/100 [00:23<02:28,  1.73s/it]"
     ]
    },
    {
     "name": "stdout",
     "output_type": "stream",
     "text": [
      "SMAPE: 8.411099584140395\n",
      "R2: 0.2536910586619444\n",
      "===== < BUILDING NO.15 > =====\n"
     ]
    },
    {
     "name": "stderr",
     "output_type": "stream",
     "text": [
      "/opt/conda/lib/python3.10/site-packages/xgboost/sklearn.py:835: UserWarning: `early_stopping_rounds` in `fit` method is deprecated for better compatibility with scikit-learn, use `early_stopping_rounds` in constructor or`set_params` instead.\n",
      "  warnings.warn(\n",
      " 15%|█▌        | 15/100 [00:25<02:24,  1.70s/it]"
     ]
    },
    {
     "name": "stdout",
     "output_type": "stream",
     "text": [
      "SMAPE: 1.2548517916499227\n",
      "R2: 0.9371161321264849\n",
      "===== < BUILDING NO.16 > =====\n"
     ]
    },
    {
     "name": "stderr",
     "output_type": "stream",
     "text": [
      "/opt/conda/lib/python3.10/site-packages/xgboost/sklearn.py:835: UserWarning: `early_stopping_rounds` in `fit` method is deprecated for better compatibility with scikit-learn, use `early_stopping_rounds` in constructor or`set_params` instead.\n",
      "  warnings.warn(\n",
      " 16%|█▌        | 16/100 [00:26<02:16,  1.63s/it]"
     ]
    },
    {
     "name": "stdout",
     "output_type": "stream",
     "text": [
      "SMAPE: 2.2092638330705237\n",
      "R2: 0.9848943403666937\n",
      "===== < BUILDING NO.17 > =====\n"
     ]
    },
    {
     "name": "stderr",
     "output_type": "stream",
     "text": [
      "/opt/conda/lib/python3.10/site-packages/xgboost/sklearn.py:835: UserWarning: `early_stopping_rounds` in `fit` method is deprecated for better compatibility with scikit-learn, use `early_stopping_rounds` in constructor or`set_params` instead.\n",
      "  warnings.warn(\n",
      " 17%|█▋        | 17/100 [00:28<02:23,  1.72s/it]"
     ]
    },
    {
     "name": "stdout",
     "output_type": "stream",
     "text": [
      "SMAPE: 2.9155781243960273\n",
      "R2: 0.9459348281219652\n",
      "===== < BUILDING NO.18 > =====\n"
     ]
    },
    {
     "name": "stderr",
     "output_type": "stream",
     "text": [
      "/opt/conda/lib/python3.10/site-packages/xgboost/sklearn.py:835: UserWarning: `early_stopping_rounds` in `fit` method is deprecated for better compatibility with scikit-learn, use `early_stopping_rounds` in constructor or`set_params` instead.\n",
      "  warnings.warn(\n",
      " 18%|█▊        | 18/100 [00:30<02:28,  1.81s/it]"
     ]
    },
    {
     "name": "stdout",
     "output_type": "stream",
     "text": [
      "SMAPE: 3.3829864057136083\n",
      "R2: 0.9332030692073239\n",
      "===== < BUILDING NO.19 > =====\n"
     ]
    },
    {
     "name": "stderr",
     "output_type": "stream",
     "text": [
      "/opt/conda/lib/python3.10/site-packages/xgboost/sklearn.py:835: UserWarning: `early_stopping_rounds` in `fit` method is deprecated for better compatibility with scikit-learn, use `early_stopping_rounds` in constructor or`set_params` instead.\n",
      "  warnings.warn(\n",
      " 19%|█▉        | 19/100 [00:33<02:43,  2.02s/it]"
     ]
    },
    {
     "name": "stdout",
     "output_type": "stream",
     "text": [
      "SMAPE: 4.304075013735136\n",
      "R2: 0.9364720115975896\n",
      "===== < BUILDING NO.20 > =====\n"
     ]
    },
    {
     "name": "stderr",
     "output_type": "stream",
     "text": [
      "/opt/conda/lib/python3.10/site-packages/xgboost/sklearn.py:835: UserWarning: `early_stopping_rounds` in `fit` method is deprecated for better compatibility with scikit-learn, use `early_stopping_rounds` in constructor or`set_params` instead.\n",
      "  warnings.warn(\n",
      " 20%|██        | 20/100 [00:35<02:37,  1.97s/it]"
     ]
    },
    {
     "name": "stdout",
     "output_type": "stream",
     "text": [
      "SMAPE: 2.378545266421429\n",
      "R2: 0.9764064401504943\n",
      "===== < BUILDING NO.21 > =====\n"
     ]
    },
    {
     "name": "stderr",
     "output_type": "stream",
     "text": [
      "/opt/conda/lib/python3.10/site-packages/xgboost/sklearn.py:835: UserWarning: `early_stopping_rounds` in `fit` method is deprecated for better compatibility with scikit-learn, use `early_stopping_rounds` in constructor or`set_params` instead.\n",
      "  warnings.warn(\n",
      " 21%|██        | 21/100 [00:36<02:31,  1.92s/it]"
     ]
    },
    {
     "name": "stdout",
     "output_type": "stream",
     "text": [
      "SMAPE: 3.9669116215508895\n",
      "R2: 0.933790666753363\n",
      "===== < BUILDING NO.22 > =====\n"
     ]
    },
    {
     "name": "stderr",
     "output_type": "stream",
     "text": [
      "/opt/conda/lib/python3.10/site-packages/xgboost/sklearn.py:835: UserWarning: `early_stopping_rounds` in `fit` method is deprecated for better compatibility with scikit-learn, use `early_stopping_rounds` in constructor or`set_params` instead.\n",
      "  warnings.warn(\n",
      " 22%|██▏       | 22/100 [00:38<02:26,  1.87s/it]"
     ]
    },
    {
     "name": "stdout",
     "output_type": "stream",
     "text": [
      "SMAPE: 1.8200203037843907\n",
      "R2: 0.9429240295041776\n",
      "===== < BUILDING NO.23 > =====\n"
     ]
    },
    {
     "name": "stderr",
     "output_type": "stream",
     "text": [
      "/opt/conda/lib/python3.10/site-packages/xgboost/sklearn.py:835: UserWarning: `early_stopping_rounds` in `fit` method is deprecated for better compatibility with scikit-learn, use `early_stopping_rounds` in constructor or`set_params` instead.\n",
      "  warnings.warn(\n",
      " 23%|██▎       | 23/100 [00:40<02:35,  2.02s/it]"
     ]
    },
    {
     "name": "stdout",
     "output_type": "stream",
     "text": [
      "SMAPE: 0.9373158040898235\n",
      "R2: 0.966113940778409\n",
      "===== < BUILDING NO.24 > =====\n"
     ]
    },
    {
     "name": "stderr",
     "output_type": "stream",
     "text": [
      "/opt/conda/lib/python3.10/site-packages/xgboost/sklearn.py:835: UserWarning: `early_stopping_rounds` in `fit` method is deprecated for better compatibility with scikit-learn, use `early_stopping_rounds` in constructor or`set_params` instead.\n",
      "  warnings.warn(\n",
      " 24%|██▍       | 24/100 [00:43<02:40,  2.11s/it]"
     ]
    },
    {
     "name": "stdout",
     "output_type": "stream",
     "text": [
      "SMAPE: 1.288296737357208\n",
      "R2: 0.9864269965196982\n",
      "===== < BUILDING NO.25 > =====\n"
     ]
    },
    {
     "name": "stderr",
     "output_type": "stream",
     "text": [
      "/opt/conda/lib/python3.10/site-packages/xgboost/sklearn.py:835: UserWarning: `early_stopping_rounds` in `fit` method is deprecated for better compatibility with scikit-learn, use `early_stopping_rounds` in constructor or`set_params` instead.\n",
      "  warnings.warn(\n",
      " 25%|██▌       | 25/100 [00:45<02:44,  2.20s/it]"
     ]
    },
    {
     "name": "stdout",
     "output_type": "stream",
     "text": [
      "SMAPE: 1.0654398164794496\n",
      "R2: 0.9887994766418751\n",
      "===== < BUILDING NO.26 > =====\n"
     ]
    },
    {
     "name": "stderr",
     "output_type": "stream",
     "text": [
      "/opt/conda/lib/python3.10/site-packages/xgboost/sklearn.py:835: UserWarning: `early_stopping_rounds` in `fit` method is deprecated for better compatibility with scikit-learn, use `early_stopping_rounds` in constructor or`set_params` instead.\n",
      "  warnings.warn(\n",
      " 26%|██▌       | 26/100 [00:47<02:31,  2.05s/it]"
     ]
    },
    {
     "name": "stdout",
     "output_type": "stream",
     "text": [
      "SMAPE: 0.9936471600354451\n",
      "R2: 0.9862221989284544\n",
      "===== < BUILDING NO.27 > =====\n"
     ]
    },
    {
     "name": "stderr",
     "output_type": "stream",
     "text": [
      "/opt/conda/lib/python3.10/site-packages/xgboost/sklearn.py:835: UserWarning: `early_stopping_rounds` in `fit` method is deprecated for better compatibility with scikit-learn, use `early_stopping_rounds` in constructor or`set_params` instead.\n",
      "  warnings.warn(\n",
      " 27%|██▋       | 27/100 [00:49<02:22,  1.95s/it]"
     ]
    },
    {
     "name": "stdout",
     "output_type": "stream",
     "text": [
      "SMAPE: 0.8588802301263323\n",
      "R2: 0.9817016980675318\n",
      "===== < BUILDING NO.28 > =====\n"
     ]
    },
    {
     "name": "stderr",
     "output_type": "stream",
     "text": [
      "/opt/conda/lib/python3.10/site-packages/xgboost/sklearn.py:835: UserWarning: `early_stopping_rounds` in `fit` method is deprecated for better compatibility with scikit-learn, use `early_stopping_rounds` in constructor or`set_params` instead.\n",
      "  warnings.warn(\n",
      " 28%|██▊       | 28/100 [00:50<02:06,  1.76s/it]"
     ]
    },
    {
     "name": "stdout",
     "output_type": "stream",
     "text": [
      "SMAPE: 2.695373169555824\n",
      "R2: 0.9583253430170969\n",
      "===== < BUILDING NO.29 > =====\n"
     ]
    },
    {
     "name": "stderr",
     "output_type": "stream",
     "text": [
      "/opt/conda/lib/python3.10/site-packages/xgboost/sklearn.py:835: UserWarning: `early_stopping_rounds` in `fit` method is deprecated for better compatibility with scikit-learn, use `early_stopping_rounds` in constructor or`set_params` instead.\n",
      "  warnings.warn(\n",
      " 29%|██▉       | 29/100 [00:51<01:59,  1.68s/it]"
     ]
    },
    {
     "name": "stdout",
     "output_type": "stream",
     "text": [
      "SMAPE: 1.976031642209499\n",
      "R2: 0.9524808637651322\n",
      "===== < BUILDING NO.30 > =====\n"
     ]
    },
    {
     "name": "stderr",
     "output_type": "stream",
     "text": [
      "/opt/conda/lib/python3.10/site-packages/xgboost/sklearn.py:835: UserWarning: `early_stopping_rounds` in `fit` method is deprecated for better compatibility with scikit-learn, use `early_stopping_rounds` in constructor or`set_params` instead.\n",
      "  warnings.warn(\n",
      " 30%|███       | 30/100 [00:53<01:55,  1.65s/it]"
     ]
    },
    {
     "name": "stdout",
     "output_type": "stream",
     "text": [
      "SMAPE: 3.5546984752156083\n",
      "R2: 0.8875174353264503\n",
      "===== < BUILDING NO.31 > =====\n"
     ]
    },
    {
     "name": "stderr",
     "output_type": "stream",
     "text": [
      "/opt/conda/lib/python3.10/site-packages/xgboost/sklearn.py:835: UserWarning: `early_stopping_rounds` in `fit` method is deprecated for better compatibility with scikit-learn, use `early_stopping_rounds` in constructor or`set_params` instead.\n",
      "  warnings.warn(\n",
      " 31%|███       | 31/100 [00:54<01:48,  1.57s/it]"
     ]
    },
    {
     "name": "stdout",
     "output_type": "stream",
     "text": [
      "SMAPE: 2.56804945577574\n",
      "R2: 0.9430689817703377\n",
      "===== < BUILDING NO.32 > =====\n"
     ]
    },
    {
     "name": "stderr",
     "output_type": "stream",
     "text": [
      "/opt/conda/lib/python3.10/site-packages/xgboost/sklearn.py:835: UserWarning: `early_stopping_rounds` in `fit` method is deprecated for better compatibility with scikit-learn, use `early_stopping_rounds` in constructor or`set_params` instead.\n",
      "  warnings.warn(\n",
      " 32%|███▏      | 32/100 [00:57<01:59,  1.75s/it]"
     ]
    },
    {
     "name": "stdout",
     "output_type": "stream",
     "text": [
      "SMAPE: 0.19702161248468097\n",
      "R2: 0.8575105699889993\n",
      "===== < BUILDING NO.33 > =====\n"
     ]
    },
    {
     "name": "stderr",
     "output_type": "stream",
     "text": [
      "/opt/conda/lib/python3.10/site-packages/xgboost/sklearn.py:835: UserWarning: `early_stopping_rounds` in `fit` method is deprecated for better compatibility with scikit-learn, use `early_stopping_rounds` in constructor or`set_params` instead.\n",
      "  warnings.warn(\n",
      " 33%|███▎      | 33/100 [00:59<02:16,  2.03s/it]"
     ]
    },
    {
     "name": "stdout",
     "output_type": "stream",
     "text": [
      "SMAPE: 0.22625441905510688\n",
      "R2: 0.664683287931862\n",
      "===== < BUILDING NO.34 > =====\n"
     ]
    },
    {
     "name": "stderr",
     "output_type": "stream",
     "text": [
      "/opt/conda/lib/python3.10/site-packages/xgboost/sklearn.py:835: UserWarning: `early_stopping_rounds` in `fit` method is deprecated for better compatibility with scikit-learn, use `early_stopping_rounds` in constructor or`set_params` instead.\n",
      "  warnings.warn(\n",
      " 34%|███▍      | 34/100 [01:02<02:31,  2.29s/it]"
     ]
    },
    {
     "name": "stdout",
     "output_type": "stream",
     "text": [
      "SMAPE: 0.3245615439520965\n",
      "R2: 0.8743641573149044\n",
      "===== < BUILDING NO.35 > =====\n"
     ]
    },
    {
     "name": "stderr",
     "output_type": "stream",
     "text": [
      "/opt/conda/lib/python3.10/site-packages/xgboost/sklearn.py:835: UserWarning: `early_stopping_rounds` in `fit` method is deprecated for better compatibility with scikit-learn, use `early_stopping_rounds` in constructor or`set_params` instead.\n",
      "  warnings.warn(\n",
      " 35%|███▌      | 35/100 [01:05<02:31,  2.33s/it]"
     ]
    },
    {
     "name": "stdout",
     "output_type": "stream",
     "text": [
      "SMAPE: 0.1725662905282774\n",
      "R2: 0.9231181475717967\n",
      "===== < BUILDING NO.36 > =====\n"
     ]
    },
    {
     "name": "stderr",
     "output_type": "stream",
     "text": [
      "/opt/conda/lib/python3.10/site-packages/xgboost/sklearn.py:835: UserWarning: `early_stopping_rounds` in `fit` method is deprecated for better compatibility with scikit-learn, use `early_stopping_rounds` in constructor or`set_params` instead.\n",
      "  warnings.warn(\n",
      " 36%|███▌      | 36/100 [01:07<02:37,  2.46s/it]"
     ]
    },
    {
     "name": "stdout",
     "output_type": "stream",
     "text": [
      "SMAPE: 0.3293354963327888\n",
      "R2: 0.6086908187486058\n",
      "===== < BUILDING NO.37 > =====\n"
     ]
    },
    {
     "name": "stderr",
     "output_type": "stream",
     "text": [
      "/opt/conda/lib/python3.10/site-packages/xgboost/sklearn.py:835: UserWarning: `early_stopping_rounds` in `fit` method is deprecated for better compatibility with scikit-learn, use `early_stopping_rounds` in constructor or`set_params` instead.\n",
      "  warnings.warn(\n",
      " 37%|███▋      | 37/100 [01:09<02:23,  2.29s/it]"
     ]
    },
    {
     "name": "stdout",
     "output_type": "stream",
     "text": [
      "SMAPE: 2.156013386887052\n",
      "R2: 0.9834896887299619\n",
      "===== < BUILDING NO.38 > =====\n"
     ]
    },
    {
     "name": "stderr",
     "output_type": "stream",
     "text": [
      "/opt/conda/lib/python3.10/site-packages/xgboost/sklearn.py:835: UserWarning: `early_stopping_rounds` in `fit` method is deprecated for better compatibility with scikit-learn, use `early_stopping_rounds` in constructor or`set_params` instead.\n",
      "  warnings.warn(\n",
      " 38%|███▊      | 38/100 [01:11<02:10,  2.11s/it]"
     ]
    },
    {
     "name": "stdout",
     "output_type": "stream",
     "text": [
      "SMAPE: 1.79901744109431\n",
      "R2: 0.997437075975758\n",
      "===== < BUILDING NO.39 > =====\n"
     ]
    },
    {
     "name": "stderr",
     "output_type": "stream",
     "text": [
      "/opt/conda/lib/python3.10/site-packages/xgboost/sklearn.py:835: UserWarning: `early_stopping_rounds` in `fit` method is deprecated for better compatibility with scikit-learn, use `early_stopping_rounds` in constructor or`set_params` instead.\n",
      "  warnings.warn(\n",
      " 39%|███▉      | 39/100 [01:13<02:00,  1.97s/it]"
     ]
    },
    {
     "name": "stdout",
     "output_type": "stream",
     "text": [
      "SMAPE: 2.6661003736987903\n",
      "R2: 0.9789087896318968\n",
      "===== < BUILDING NO.40 > =====\n"
     ]
    },
    {
     "name": "stderr",
     "output_type": "stream",
     "text": [
      "/opt/conda/lib/python3.10/site-packages/xgboost/sklearn.py:835: UserWarning: `early_stopping_rounds` in `fit` method is deprecated for better compatibility with scikit-learn, use `early_stopping_rounds` in constructor or`set_params` instead.\n",
      "  warnings.warn(\n",
      " 40%|████      | 40/100 [01:14<01:47,  1.80s/it]"
     ]
    },
    {
     "name": "stdout",
     "output_type": "stream",
     "text": [
      "SMAPE: 4.45893690485189\n",
      "R2: 0.9573252573751764\n",
      "===== < BUILDING NO.41 > =====\n"
     ]
    },
    {
     "name": "stderr",
     "output_type": "stream",
     "text": [
      "/opt/conda/lib/python3.10/site-packages/xgboost/sklearn.py:835: UserWarning: `early_stopping_rounds` in `fit` method is deprecated for better compatibility with scikit-learn, use `early_stopping_rounds` in constructor or`set_params` instead.\n",
      "  warnings.warn(\n",
      " 41%|████      | 41/100 [01:16<01:55,  1.96s/it]"
     ]
    },
    {
     "name": "stdout",
     "output_type": "stream",
     "text": [
      "SMAPE: 2.5510663147591073\n",
      "R2: 0.9930563582771769\n",
      "===== < BUILDING NO.42 > =====\n"
     ]
    },
    {
     "name": "stderr",
     "output_type": "stream",
     "text": [
      "/opt/conda/lib/python3.10/site-packages/xgboost/sklearn.py:835: UserWarning: `early_stopping_rounds` in `fit` method is deprecated for better compatibility with scikit-learn, use `early_stopping_rounds` in constructor or`set_params` instead.\n",
      "  warnings.warn(\n",
      " 42%|████▏     | 42/100 [01:18<01:41,  1.74s/it]"
     ]
    },
    {
     "name": "stdout",
     "output_type": "stream",
     "text": [
      "SMAPE: 8.887439371539775\n",
      "R2: 0.8210955033826771\n",
      "===== < BUILDING NO.43 > =====\n"
     ]
    },
    {
     "name": "stderr",
     "output_type": "stream",
     "text": [
      "/opt/conda/lib/python3.10/site-packages/xgboost/sklearn.py:835: UserWarning: `early_stopping_rounds` in `fit` method is deprecated for better compatibility with scikit-learn, use `early_stopping_rounds` in constructor or`set_params` instead.\n",
      "  warnings.warn(\n",
      " 43%|████▎     | 43/100 [01:19<01:40,  1.76s/it]"
     ]
    },
    {
     "name": "stdout",
     "output_type": "stream",
     "text": [
      "SMAPE: 3.2731321691803545\n",
      "R2: 0.9935898557260004\n",
      "===== < BUILDING NO.44 > =====\n"
     ]
    },
    {
     "name": "stderr",
     "output_type": "stream",
     "text": [
      "/opt/conda/lib/python3.10/site-packages/xgboost/sklearn.py:835: UserWarning: `early_stopping_rounds` in `fit` method is deprecated for better compatibility with scikit-learn, use `early_stopping_rounds` in constructor or`set_params` instead.\n",
      "  warnings.warn(\n",
      " 44%|████▍     | 44/100 [01:21<01:34,  1.69s/it]"
     ]
    },
    {
     "name": "stdout",
     "output_type": "stream",
     "text": [
      "SMAPE: 2.0138184178735856\n",
      "R2: 0.9963370546141956\n",
      "===== < BUILDING NO.45 > =====\n"
     ]
    },
    {
     "name": "stderr",
     "output_type": "stream",
     "text": [
      "/opt/conda/lib/python3.10/site-packages/xgboost/sklearn.py:835: UserWarning: `early_stopping_rounds` in `fit` method is deprecated for better compatibility with scikit-learn, use `early_stopping_rounds` in constructor or`set_params` instead.\n",
      "  warnings.warn(\n",
      " 45%|████▌     | 45/100 [01:23<01:37,  1.77s/it]"
     ]
    },
    {
     "name": "stdout",
     "output_type": "stream",
     "text": [
      "SMAPE: 1.2292015666710925\n",
      "R2: 0.9618127671900834\n",
      "===== < BUILDING NO.46 > =====\n"
     ]
    },
    {
     "name": "stderr",
     "output_type": "stream",
     "text": [
      "/opt/conda/lib/python3.10/site-packages/xgboost/sklearn.py:835: UserWarning: `early_stopping_rounds` in `fit` method is deprecated for better compatibility with scikit-learn, use `early_stopping_rounds` in constructor or`set_params` instead.\n",
      "  warnings.warn(\n",
      " 46%|████▌     | 46/100 [01:25<01:34,  1.75s/it]"
     ]
    },
    {
     "name": "stdout",
     "output_type": "stream",
     "text": [
      "SMAPE: 2.262918598327897\n",
      "R2: 0.9497221063116454\n",
      "===== < BUILDING NO.47 > =====\n"
     ]
    },
    {
     "name": "stderr",
     "output_type": "stream",
     "text": [
      "/opt/conda/lib/python3.10/site-packages/xgboost/sklearn.py:835: UserWarning: `early_stopping_rounds` in `fit` method is deprecated for better compatibility with scikit-learn, use `early_stopping_rounds` in constructor or`set_params` instead.\n",
      "  warnings.warn(\n",
      " 47%|████▋     | 47/100 [01:26<01:30,  1.70s/it]"
     ]
    },
    {
     "name": "stdout",
     "output_type": "stream",
     "text": [
      "SMAPE: 2.163123832268895\n",
      "R2: 0.9368352656382489\n",
      "===== < BUILDING NO.48 > =====\n"
     ]
    },
    {
     "name": "stderr",
     "output_type": "stream",
     "text": [
      "/opt/conda/lib/python3.10/site-packages/xgboost/sklearn.py:835: UserWarning: `early_stopping_rounds` in `fit` method is deprecated for better compatibility with scikit-learn, use `early_stopping_rounds` in constructor or`set_params` instead.\n",
      "  warnings.warn(\n",
      " 48%|████▊     | 48/100 [01:28<01:29,  1.73s/it]"
     ]
    },
    {
     "name": "stdout",
     "output_type": "stream",
     "text": [
      "SMAPE: 1.0124164128796722\n",
      "R2: 0.9867960252855252\n",
      "===== < BUILDING NO.49 > =====\n"
     ]
    },
    {
     "name": "stderr",
     "output_type": "stream",
     "text": [
      "/opt/conda/lib/python3.10/site-packages/xgboost/sklearn.py:835: UserWarning: `early_stopping_rounds` in `fit` method is deprecated for better compatibility with scikit-learn, use `early_stopping_rounds` in constructor or`set_params` instead.\n",
      "  warnings.warn(\n",
      " 49%|████▉     | 49/100 [01:30<01:37,  1.91s/it]"
     ]
    },
    {
     "name": "stdout",
     "output_type": "stream",
     "text": [
      "SMAPE: 1.231602471054904\n",
      "R2: 0.9518363003022309\n",
      "===== < BUILDING NO.50 > =====\n"
     ]
    },
    {
     "name": "stderr",
     "output_type": "stream",
     "text": [
      "/opt/conda/lib/python3.10/site-packages/xgboost/sklearn.py:835: UserWarning: `early_stopping_rounds` in `fit` method is deprecated for better compatibility with scikit-learn, use `early_stopping_rounds` in constructor or`set_params` instead.\n",
      "  warnings.warn(\n",
      " 50%|█████     | 50/100 [01:32<01:32,  1.84s/it]"
     ]
    },
    {
     "name": "stdout",
     "output_type": "stream",
     "text": [
      "SMAPE: 1.149476273028294\n",
      "R2: 0.9402324357123669\n",
      "===== < BUILDING NO.51 > =====\n"
     ]
    },
    {
     "name": "stderr",
     "output_type": "stream",
     "text": [
      "/opt/conda/lib/python3.10/site-packages/xgboost/sklearn.py:835: UserWarning: `early_stopping_rounds` in `fit` method is deprecated for better compatibility with scikit-learn, use `early_stopping_rounds` in constructor or`set_params` instead.\n",
      "  warnings.warn(\n",
      " 51%|█████     | 51/100 [01:34<01:31,  1.86s/it]"
     ]
    },
    {
     "name": "stdout",
     "output_type": "stream",
     "text": [
      "SMAPE: 1.7940870821424981\n",
      "R2: 0.9374935367784654\n",
      "===== < BUILDING NO.52 > =====\n"
     ]
    },
    {
     "name": "stderr",
     "output_type": "stream",
     "text": [
      "/opt/conda/lib/python3.10/site-packages/xgboost/sklearn.py:835: UserWarning: `early_stopping_rounds` in `fit` method is deprecated for better compatibility with scikit-learn, use `early_stopping_rounds` in constructor or`set_params` instead.\n",
      "  warnings.warn(\n",
      " 52%|█████▏    | 52/100 [01:36<01:33,  1.95s/it]"
     ]
    },
    {
     "name": "stdout",
     "output_type": "stream",
     "text": [
      "SMAPE: 1.7134989361480766\n",
      "R2: 0.969279720743553\n",
      "===== < BUILDING NO.53 > =====\n"
     ]
    },
    {
     "name": "stderr",
     "output_type": "stream",
     "text": [
      "/opt/conda/lib/python3.10/site-packages/xgboost/sklearn.py:835: UserWarning: `early_stopping_rounds` in `fit` method is deprecated for better compatibility with scikit-learn, use `early_stopping_rounds` in constructor or`set_params` instead.\n",
      "  warnings.warn(\n",
      " 53%|█████▎    | 53/100 [01:37<01:23,  1.78s/it]"
     ]
    },
    {
     "name": "stdout",
     "output_type": "stream",
     "text": [
      "SMAPE: 5.7870331403832855\n",
      "R2: 0.9500465530970634\n",
      "===== < BUILDING NO.54 > =====\n"
     ]
    },
    {
     "name": "stderr",
     "output_type": "stream",
     "text": [
      "/opt/conda/lib/python3.10/site-packages/xgboost/sklearn.py:835: UserWarning: `early_stopping_rounds` in `fit` method is deprecated for better compatibility with scikit-learn, use `early_stopping_rounds` in constructor or`set_params` instead.\n",
      "  warnings.warn(\n",
      " 54%|█████▍    | 54/100 [01:39<01:19,  1.73s/it]"
     ]
    },
    {
     "name": "stdout",
     "output_type": "stream",
     "text": [
      "SMAPE: 9.343993649103458\n",
      "R2: 0.8290382764818288\n",
      "===== < BUILDING NO.55 > =====\n"
     ]
    },
    {
     "name": "stderr",
     "output_type": "stream",
     "text": [
      "/opt/conda/lib/python3.10/site-packages/xgboost/sklearn.py:835: UserWarning: `early_stopping_rounds` in `fit` method is deprecated for better compatibility with scikit-learn, use `early_stopping_rounds` in constructor or`set_params` instead.\n",
      "  warnings.warn(\n",
      " 55%|█████▌    | 55/100 [01:41<01:18,  1.74s/it]"
     ]
    },
    {
     "name": "stdout",
     "output_type": "stream",
     "text": [
      "SMAPE: 0.8002626858072206\n",
      "R2: 0.9195686449786508\n",
      "===== < BUILDING NO.56 > =====\n"
     ]
    },
    {
     "name": "stderr",
     "output_type": "stream",
     "text": [
      "/opt/conda/lib/python3.10/site-packages/xgboost/sklearn.py:835: UserWarning: `early_stopping_rounds` in `fit` method is deprecated for better compatibility with scikit-learn, use `early_stopping_rounds` in constructor or`set_params` instead.\n",
      "  warnings.warn(\n",
      " 56%|█████▌    | 56/100 [01:43<01:23,  1.91s/it]"
     ]
    },
    {
     "name": "stdout",
     "output_type": "stream",
     "text": [
      "SMAPE: 0.372070315733699\n",
      "R2: 0.9577856450595469\n",
      "===== < BUILDING NO.57 > =====\n"
     ]
    },
    {
     "name": "stderr",
     "output_type": "stream",
     "text": [
      "/opt/conda/lib/python3.10/site-packages/xgboost/sklearn.py:835: UserWarning: `early_stopping_rounds` in `fit` method is deprecated for better compatibility with scikit-learn, use `early_stopping_rounds` in constructor or`set_params` instead.\n",
      "  warnings.warn(\n",
      " 57%|█████▋    | 57/100 [01:45<01:18,  1.83s/it]"
     ]
    },
    {
     "name": "stdout",
     "output_type": "stream",
     "text": [
      "SMAPE: 2.582743473340681\n",
      "R2: 0.9855450716287837\n",
      "===== < BUILDING NO.58 > =====\n"
     ]
    },
    {
     "name": "stderr",
     "output_type": "stream",
     "text": [
      "/opt/conda/lib/python3.10/site-packages/xgboost/sklearn.py:835: UserWarning: `early_stopping_rounds` in `fit` method is deprecated for better compatibility with scikit-learn, use `early_stopping_rounds` in constructor or`set_params` instead.\n",
      "  warnings.warn(\n",
      " 58%|█████▊    | 58/100 [01:47<01:20,  1.91s/it]"
     ]
    },
    {
     "name": "stdout",
     "output_type": "stream",
     "text": [
      "SMAPE: 0.2109516149812387\n",
      "R2: 0.9415446081549514\n",
      "===== < BUILDING NO.59 > =====\n"
     ]
    },
    {
     "name": "stderr",
     "output_type": "stream",
     "text": [
      "/opt/conda/lib/python3.10/site-packages/xgboost/sklearn.py:835: UserWarning: `early_stopping_rounds` in `fit` method is deprecated for better compatibility with scikit-learn, use `early_stopping_rounds` in constructor or`set_params` instead.\n",
      "  warnings.warn(\n",
      " 59%|█████▉    | 59/100 [01:48<01:15,  1.83s/it]"
     ]
    },
    {
     "name": "stdout",
     "output_type": "stream",
     "text": [
      "SMAPE: 2.727613907355983\n",
      "R2: 0.9804815904020056\n",
      "===== < BUILDING NO.60 > =====\n"
     ]
    },
    {
     "name": "stderr",
     "output_type": "stream",
     "text": [
      "/opt/conda/lib/python3.10/site-packages/xgboost/sklearn.py:835: UserWarning: `early_stopping_rounds` in `fit` method is deprecated for better compatibility with scikit-learn, use `early_stopping_rounds` in constructor or`set_params` instead.\n",
      "  warnings.warn(\n",
      " 60%|██████    | 60/100 [01:50<01:09,  1.74s/it]"
     ]
    },
    {
     "name": "stdout",
     "output_type": "stream",
     "text": [
      "SMAPE: 3.128806069117498\n",
      "R2: 0.9440451782825701\n",
      "===== < BUILDING NO.61 > =====\n"
     ]
    },
    {
     "name": "stderr",
     "output_type": "stream",
     "text": [
      "/opt/conda/lib/python3.10/site-packages/xgboost/sklearn.py:835: UserWarning: `early_stopping_rounds` in `fit` method is deprecated for better compatibility with scikit-learn, use `early_stopping_rounds` in constructor or`set_params` instead.\n",
      "  warnings.warn(\n",
      " 61%|██████    | 61/100 [01:52<01:05,  1.68s/it]"
     ]
    },
    {
     "name": "stdout",
     "output_type": "stream",
     "text": [
      "SMAPE: 2.4695452930152224\n",
      "R2: 0.9320376576270133\n",
      "===== < BUILDING NO.62 > =====\n"
     ]
    },
    {
     "name": "stderr",
     "output_type": "stream",
     "text": [
      "/opt/conda/lib/python3.10/site-packages/xgboost/sklearn.py:835: UserWarning: `early_stopping_rounds` in `fit` method is deprecated for better compatibility with scikit-learn, use `early_stopping_rounds` in constructor or`set_params` instead.\n",
      "  warnings.warn(\n",
      " 62%|██████▏   | 62/100 [01:53<01:02,  1.63s/it]"
     ]
    },
    {
     "name": "stdout",
     "output_type": "stream",
     "text": [
      "SMAPE: 2.800901630300211\n",
      "R2: 0.9255194239196292\n",
      "===== < BUILDING NO.63 > =====\n"
     ]
    },
    {
     "name": "stderr",
     "output_type": "stream",
     "text": [
      "/opt/conda/lib/python3.10/site-packages/xgboost/sklearn.py:835: UserWarning: `early_stopping_rounds` in `fit` method is deprecated for better compatibility with scikit-learn, use `early_stopping_rounds` in constructor or`set_params` instead.\n",
      "  warnings.warn(\n",
      " 63%|██████▎   | 63/100 [01:55<00:58,  1.59s/it]"
     ]
    },
    {
     "name": "stdout",
     "output_type": "stream",
     "text": [
      "SMAPE: 3.237423712443478\n",
      "R2: 0.9093444882521864\n",
      "===== < BUILDING NO.64 > =====\n"
     ]
    },
    {
     "name": "stderr",
     "output_type": "stream",
     "text": [
      "/opt/conda/lib/python3.10/site-packages/xgboost/sklearn.py:835: UserWarning: `early_stopping_rounds` in `fit` method is deprecated for better compatibility with scikit-learn, use `early_stopping_rounds` in constructor or`set_params` instead.\n",
      "  warnings.warn(\n",
      " 64%|██████▍   | 64/100 [01:56<00:56,  1.57s/it]"
     ]
    },
    {
     "name": "stdout",
     "output_type": "stream",
     "text": [
      "SMAPE: 1.983562546595305\n",
      "R2: 0.9449119561229407\n",
      "===== < BUILDING NO.65 > =====\n"
     ]
    },
    {
     "name": "stderr",
     "output_type": "stream",
     "text": [
      "/opt/conda/lib/python3.10/site-packages/xgboost/sklearn.py:835: UserWarning: `early_stopping_rounds` in `fit` method is deprecated for better compatibility with scikit-learn, use `early_stopping_rounds` in constructor or`set_params` instead.\n",
      "  warnings.warn(\n",
      " 65%|██████▌   | 65/100 [01:57<00:53,  1.52s/it]"
     ]
    },
    {
     "name": "stdout",
     "output_type": "stream",
     "text": [
      "SMAPE: 4.087620852650325\n",
      "R2: 0.8779487186996391\n",
      "===== < BUILDING NO.66 > =====\n"
     ]
    },
    {
     "name": "stderr",
     "output_type": "stream",
     "text": [
      "/opt/conda/lib/python3.10/site-packages/xgboost/sklearn.py:835: UserWarning: `early_stopping_rounds` in `fit` method is deprecated for better compatibility with scikit-learn, use `early_stopping_rounds` in constructor or`set_params` instead.\n",
      "  warnings.warn(\n",
      " 66%|██████▌   | 66/100 [01:59<00:52,  1.55s/it]"
     ]
    },
    {
     "name": "stdout",
     "output_type": "stream",
     "text": [
      "SMAPE: 2.1400472638820167\n",
      "R2: 0.8596778515618013\n",
      "===== < BUILDING NO.67 > =====\n"
     ]
    },
    {
     "name": "stderr",
     "output_type": "stream",
     "text": [
      "/opt/conda/lib/python3.10/site-packages/xgboost/sklearn.py:835: UserWarning: `early_stopping_rounds` in `fit` method is deprecated for better compatibility with scikit-learn, use `early_stopping_rounds` in constructor or`set_params` instead.\n",
      "  warnings.warn(\n",
      " 67%|██████▋   | 67/100 [02:00<00:49,  1.50s/it]"
     ]
    },
    {
     "name": "stdout",
     "output_type": "stream",
     "text": [
      "SMAPE: 2.7280610479038323\n",
      "R2: 0.8819381309576115\n",
      "===== < BUILDING NO.68 > =====\n"
     ]
    },
    {
     "name": "stderr",
     "output_type": "stream",
     "text": [
      "/opt/conda/lib/python3.10/site-packages/xgboost/sklearn.py:835: UserWarning: `early_stopping_rounds` in `fit` method is deprecated for better compatibility with scikit-learn, use `early_stopping_rounds` in constructor or`set_params` instead.\n",
      "  warnings.warn(\n",
      " 68%|██████▊   | 68/100 [02:02<00:47,  1.49s/it]"
     ]
    },
    {
     "name": "stdout",
     "output_type": "stream",
     "text": [
      "SMAPE: 2.4629394121129358\n",
      "R2: 0.9323077167946682\n",
      "===== < BUILDING NO.69 > =====\n"
     ]
    },
    {
     "name": "stderr",
     "output_type": "stream",
     "text": [
      "/opt/conda/lib/python3.10/site-packages/xgboost/sklearn.py:835: UserWarning: `early_stopping_rounds` in `fit` method is deprecated for better compatibility with scikit-learn, use `early_stopping_rounds` in constructor or`set_params` instead.\n",
      "  warnings.warn(\n",
      " 69%|██████▉   | 69/100 [02:04<00:47,  1.54s/it]"
     ]
    },
    {
     "name": "stdout",
     "output_type": "stream",
     "text": [
      "SMAPE: 1.1647349083922025\n",
      "R2: 0.9778160470628237\n",
      "===== < BUILDING NO.70 > =====\n"
     ]
    },
    {
     "name": "stderr",
     "output_type": "stream",
     "text": [
      "/opt/conda/lib/python3.10/site-packages/xgboost/sklearn.py:835: UserWarning: `early_stopping_rounds` in `fit` method is deprecated for better compatibility with scikit-learn, use `early_stopping_rounds` in constructor or`set_params` instead.\n",
      "  warnings.warn(\n",
      " 70%|███████   | 70/100 [02:06<00:49,  1.66s/it]"
     ]
    },
    {
     "name": "stdout",
     "output_type": "stream",
     "text": [
      "SMAPE: 2.7534337821495734\n",
      "R2: 0.9469181421177187\n",
      "===== < BUILDING NO.71 > =====\n"
     ]
    },
    {
     "name": "stderr",
     "output_type": "stream",
     "text": [
      "/opt/conda/lib/python3.10/site-packages/xgboost/sklearn.py:835: UserWarning: `early_stopping_rounds` in `fit` method is deprecated for better compatibility with scikit-learn, use `early_stopping_rounds` in constructor or`set_params` instead.\n",
      "  warnings.warn(\n",
      " 71%|███████   | 71/100 [02:07<00:48,  1.67s/it]"
     ]
    },
    {
     "name": "stdout",
     "output_type": "stream",
     "text": [
      "SMAPE: 2.19866582767245\n",
      "R2: 0.8921923890792537\n",
      "===== < BUILDING NO.72 > =====\n"
     ]
    },
    {
     "name": "stderr",
     "output_type": "stream",
     "text": [
      "/opt/conda/lib/python3.10/site-packages/xgboost/sklearn.py:835: UserWarning: `early_stopping_rounds` in `fit` method is deprecated for better compatibility with scikit-learn, use `early_stopping_rounds` in constructor or`set_params` instead.\n",
      "  warnings.warn(\n",
      " 72%|███████▏  | 72/100 [02:10<00:51,  1.86s/it]"
     ]
    },
    {
     "name": "stdout",
     "output_type": "stream",
     "text": [
      "SMAPE: 2.3547259883621723\n",
      "R2: 0.788860197681444\n",
      "===== < BUILDING NO.73 > =====\n"
     ]
    },
    {
     "name": "stderr",
     "output_type": "stream",
     "text": [
      "/opt/conda/lib/python3.10/site-packages/xgboost/sklearn.py:835: UserWarning: `early_stopping_rounds` in `fit` method is deprecated for better compatibility with scikit-learn, use `early_stopping_rounds` in constructor or`set_params` instead.\n",
      "  warnings.warn(\n",
      " 73%|███████▎  | 73/100 [02:11<00:48,  1.80s/it]"
     ]
    },
    {
     "name": "stdout",
     "output_type": "stream",
     "text": [
      "SMAPE: 1.6954986887964207\n",
      "R2: 0.8131771834720108\n",
      "===== < BUILDING NO.74 > =====\n"
     ]
    },
    {
     "name": "stderr",
     "output_type": "stream",
     "text": [
      "/opt/conda/lib/python3.10/site-packages/xgboost/sklearn.py:835: UserWarning: `early_stopping_rounds` in `fit` method is deprecated for better compatibility with scikit-learn, use `early_stopping_rounds` in constructor or`set_params` instead.\n",
      "  warnings.warn(\n",
      " 74%|███████▍  | 74/100 [02:13<00:49,  1.89s/it]"
     ]
    },
    {
     "name": "stdout",
     "output_type": "stream",
     "text": [
      "SMAPE: 3.181952948728036\n",
      "R2: 0.9189238392978\n",
      "===== < BUILDING NO.75 > =====\n"
     ]
    },
    {
     "name": "stderr",
     "output_type": "stream",
     "text": [
      "/opt/conda/lib/python3.10/site-packages/xgboost/sklearn.py:835: UserWarning: `early_stopping_rounds` in `fit` method is deprecated for better compatibility with scikit-learn, use `early_stopping_rounds` in constructor or`set_params` instead.\n",
      "  warnings.warn(\n",
      " 75%|███████▌  | 75/100 [02:15<00:44,  1.79s/it]"
     ]
    },
    {
     "name": "stdout",
     "output_type": "stream",
     "text": [
      "SMAPE: 1.7656772240774978\n",
      "R2: 0.9381620469863149\n",
      "===== < BUILDING NO.76 > =====\n"
     ]
    },
    {
     "name": "stderr",
     "output_type": "stream",
     "text": [
      "/opt/conda/lib/python3.10/site-packages/xgboost/sklearn.py:835: UserWarning: `early_stopping_rounds` in `fit` method is deprecated for better compatibility with scikit-learn, use `early_stopping_rounds` in constructor or`set_params` instead.\n",
      "  warnings.warn(\n",
      " 76%|███████▌  | 76/100 [02:16<00:41,  1.72s/it]"
     ]
    },
    {
     "name": "stdout",
     "output_type": "stream",
     "text": [
      "SMAPE: 2.4709027490552686\n",
      "R2: 0.7829026370287808\n",
      "===== < BUILDING NO.77 > =====\n"
     ]
    },
    {
     "name": "stderr",
     "output_type": "stream",
     "text": [
      "/opt/conda/lib/python3.10/site-packages/xgboost/sklearn.py:835: UserWarning: `early_stopping_rounds` in `fit` method is deprecated for better compatibility with scikit-learn, use `early_stopping_rounds` in constructor or`set_params` instead.\n",
      "  warnings.warn(\n",
      " 77%|███████▋  | 77/100 [02:18<00:39,  1.72s/it]"
     ]
    },
    {
     "name": "stdout",
     "output_type": "stream",
     "text": [
      "SMAPE: 1.2620726817927796\n",
      "R2: 0.9920637841574659\n",
      "===== < BUILDING NO.78 > =====\n"
     ]
    },
    {
     "name": "stderr",
     "output_type": "stream",
     "text": [
      "/opt/conda/lib/python3.10/site-packages/xgboost/sklearn.py:835: UserWarning: `early_stopping_rounds` in `fit` method is deprecated for better compatibility with scikit-learn, use `early_stopping_rounds` in constructor or`set_params` instead.\n",
      "  warnings.warn(\n",
      " 78%|███████▊  | 78/100 [02:20<00:40,  1.82s/it]"
     ]
    },
    {
     "name": "stdout",
     "output_type": "stream",
     "text": [
      "SMAPE: 1.5501687975698433\n",
      "R2: 0.993533370338121\n",
      "===== < BUILDING NO.79 > =====\n"
     ]
    },
    {
     "name": "stderr",
     "output_type": "stream",
     "text": [
      "/opt/conda/lib/python3.10/site-packages/xgboost/sklearn.py:835: UserWarning: `early_stopping_rounds` in `fit` method is deprecated for better compatibility with scikit-learn, use `early_stopping_rounds` in constructor or`set_params` instead.\n",
      "  warnings.warn(\n",
      " 79%|███████▉  | 79/100 [02:22<00:41,  1.96s/it]"
     ]
    },
    {
     "name": "stdout",
     "output_type": "stream",
     "text": [
      "SMAPE: 1.0436883340074417\n",
      "R2: 0.9911248490291023\n",
      "===== < BUILDING NO.80 > =====\n"
     ]
    },
    {
     "name": "stderr",
     "output_type": "stream",
     "text": [
      "/opt/conda/lib/python3.10/site-packages/xgboost/sklearn.py:835: UserWarning: `early_stopping_rounds` in `fit` method is deprecated for better compatibility with scikit-learn, use `early_stopping_rounds` in constructor or`set_params` instead.\n",
      "  warnings.warn(\n",
      " 80%|████████  | 80/100 [02:24<00:39,  1.98s/it]"
     ]
    },
    {
     "name": "stdout",
     "output_type": "stream",
     "text": [
      "SMAPE: 1.6852099716763582\n",
      "R2: 0.9945649161319271\n",
      "===== < BUILDING NO.81 > =====\n"
     ]
    },
    {
     "name": "stderr",
     "output_type": "stream",
     "text": [
      "/opt/conda/lib/python3.10/site-packages/xgboost/sklearn.py:835: UserWarning: `early_stopping_rounds` in `fit` method is deprecated for better compatibility with scikit-learn, use `early_stopping_rounds` in constructor or`set_params` instead.\n",
      "  warnings.warn(\n",
      " 81%|████████  | 81/100 [02:26<00:36,  1.94s/it]"
     ]
    },
    {
     "name": "stdout",
     "output_type": "stream",
     "text": [
      "SMAPE: 1.8448466598461641\n",
      "R2: 0.9912631340286862\n",
      "===== < BUILDING NO.82 > =====\n"
     ]
    },
    {
     "name": "stderr",
     "output_type": "stream",
     "text": [
      "/opt/conda/lib/python3.10/site-packages/xgboost/sklearn.py:835: UserWarning: `early_stopping_rounds` in `fit` method is deprecated for better compatibility with scikit-learn, use `early_stopping_rounds` in constructor or`set_params` instead.\n",
      "  warnings.warn(\n",
      " 82%|████████▏ | 82/100 [02:28<00:34,  1.90s/it]"
     ]
    },
    {
     "name": "stdout",
     "output_type": "stream",
     "text": [
      "SMAPE: 2.1228550962234487\n",
      "R2: 0.9920777946017227\n",
      "===== < BUILDING NO.83 > =====\n"
     ]
    },
    {
     "name": "stderr",
     "output_type": "stream",
     "text": [
      "/opt/conda/lib/python3.10/site-packages/xgboost/sklearn.py:835: UserWarning: `early_stopping_rounds` in `fit` method is deprecated for better compatibility with scikit-learn, use `early_stopping_rounds` in constructor or`set_params` instead.\n",
      "  warnings.warn(\n",
      " 83%|████████▎ | 83/100 [02:30<00:31,  1.86s/it]"
     ]
    },
    {
     "name": "stdout",
     "output_type": "stream",
     "text": [
      "SMAPE: 1.4764124214173946\n",
      "R2: 0.9935302051646853\n",
      "===== < BUILDING NO.84 > =====\n"
     ]
    },
    {
     "name": "stderr",
     "output_type": "stream",
     "text": [
      "/opt/conda/lib/python3.10/site-packages/xgboost/sklearn.py:835: UserWarning: `early_stopping_rounds` in `fit` method is deprecated for better compatibility with scikit-learn, use `early_stopping_rounds` in constructor or`set_params` instead.\n",
      "  warnings.warn(\n",
      " 84%|████████▍ | 84/100 [02:32<00:29,  1.83s/it]"
     ]
    },
    {
     "name": "stdout",
     "output_type": "stream",
     "text": [
      "SMAPE: 1.4184075224078103\n",
      "R2: 0.9911678050073048\n",
      "===== < BUILDING NO.85 > =====\n"
     ]
    },
    {
     "name": "stderr",
     "output_type": "stream",
     "text": [
      "/opt/conda/lib/python3.10/site-packages/xgboost/sklearn.py:835: UserWarning: `early_stopping_rounds` in `fit` method is deprecated for better compatibility with scikit-learn, use `early_stopping_rounds` in constructor or`set_params` instead.\n",
      "  warnings.warn(\n",
      " 85%|████████▌ | 85/100 [02:35<00:36,  2.41s/it]"
     ]
    },
    {
     "name": "stdout",
     "output_type": "stream",
     "text": [
      "SMAPE: 1.7766891378931844\n",
      "R2: 0.9554452075929176\n",
      "===== < BUILDING NO.86 > =====\n"
     ]
    },
    {
     "name": "stderr",
     "output_type": "stream",
     "text": [
      "/opt/conda/lib/python3.10/site-packages/xgboost/sklearn.py:835: UserWarning: `early_stopping_rounds` in `fit` method is deprecated for better compatibility with scikit-learn, use `early_stopping_rounds` in constructor or`set_params` instead.\n",
      "  warnings.warn(\n",
      " 86%|████████▌ | 86/100 [02:38<00:32,  2.34s/it]"
     ]
    },
    {
     "name": "stdout",
     "output_type": "stream",
     "text": [
      "SMAPE: 3.8742220810478485\n",
      "R2: 0.8744989436601363\n",
      "===== < BUILDING NO.87 > =====\n"
     ]
    },
    {
     "name": "stderr",
     "output_type": "stream",
     "text": [
      "/opt/conda/lib/python3.10/site-packages/xgboost/sklearn.py:835: UserWarning: `early_stopping_rounds` in `fit` method is deprecated for better compatibility with scikit-learn, use `early_stopping_rounds` in constructor or`set_params` instead.\n",
      "  warnings.warn(\n",
      " 87%|████████▋ | 87/100 [02:40<00:28,  2.22s/it]"
     ]
    },
    {
     "name": "stdout",
     "output_type": "stream",
     "text": [
      "SMAPE: 4.984363164766773\n",
      "R2: 0.8799899192668625\n",
      "===== < BUILDING NO.88 > =====\n"
     ]
    },
    {
     "name": "stderr",
     "output_type": "stream",
     "text": [
      "/opt/conda/lib/python3.10/site-packages/xgboost/sklearn.py:835: UserWarning: `early_stopping_rounds` in `fit` method is deprecated for better compatibility with scikit-learn, use `early_stopping_rounds` in constructor or`set_params` instead.\n",
      "  warnings.warn(\n",
      " 88%|████████▊ | 88/100 [02:41<00:25,  2.09s/it]"
     ]
    },
    {
     "name": "stdout",
     "output_type": "stream",
     "text": [
      "SMAPE: 2.891185437185699\n",
      "R2: 0.9259233720667035\n",
      "===== < BUILDING NO.89 > =====\n"
     ]
    },
    {
     "name": "stderr",
     "output_type": "stream",
     "text": [
      "/opt/conda/lib/python3.10/site-packages/xgboost/sklearn.py:835: UserWarning: `early_stopping_rounds` in `fit` method is deprecated for better compatibility with scikit-learn, use `early_stopping_rounds` in constructor or`set_params` instead.\n",
      "  warnings.warn(\n",
      " 89%|████████▉ | 89/100 [02:43<00:21,  1.93s/it]"
     ]
    },
    {
     "name": "stdout",
     "output_type": "stream",
     "text": [
      "SMAPE: 2.586491535349424\n",
      "R2: 0.9507338522500512\n",
      "===== < BUILDING NO.90 > =====\n"
     ]
    },
    {
     "name": "stderr",
     "output_type": "stream",
     "text": [
      "/opt/conda/lib/python3.10/site-packages/xgboost/sklearn.py:835: UserWarning: `early_stopping_rounds` in `fit` method is deprecated for better compatibility with scikit-learn, use `early_stopping_rounds` in constructor or`set_params` instead.\n",
      "  warnings.warn(\n",
      " 90%|█████████ | 90/100 [02:45<00:18,  1.87s/it]"
     ]
    },
    {
     "name": "stdout",
     "output_type": "stream",
     "text": [
      "SMAPE: 2.9521107797127164\n",
      "R2: 0.9701321600674983\n",
      "===== < BUILDING NO.91 > =====\n"
     ]
    },
    {
     "name": "stderr",
     "output_type": "stream",
     "text": [
      "/opt/conda/lib/python3.10/site-packages/xgboost/sklearn.py:835: UserWarning: `early_stopping_rounds` in `fit` method is deprecated for better compatibility with scikit-learn, use `early_stopping_rounds` in constructor or`set_params` instead.\n",
      "  warnings.warn(\n",
      " 91%|█████████ | 91/100 [02:46<00:16,  1.86s/it]"
     ]
    },
    {
     "name": "stdout",
     "output_type": "stream",
     "text": [
      "SMAPE: 6.481577375826742\n",
      "R2: 0.9529123507180252\n",
      "===== < BUILDING NO.92 > =====\n"
     ]
    },
    {
     "name": "stderr",
     "output_type": "stream",
     "text": [
      "/opt/conda/lib/python3.10/site-packages/xgboost/sklearn.py:835: UserWarning: `early_stopping_rounds` in `fit` method is deprecated for better compatibility with scikit-learn, use `early_stopping_rounds` in constructor or`set_params` instead.\n",
      "  warnings.warn(\n",
      " 92%|█████████▏| 92/100 [02:48<00:14,  1.82s/it]"
     ]
    },
    {
     "name": "stdout",
     "output_type": "stream",
     "text": [
      "SMAPE: 2.862682784417281\n",
      "R2: 0.9385937785090032\n",
      "===== < BUILDING NO.93 > =====\n"
     ]
    },
    {
     "name": "stderr",
     "output_type": "stream",
     "text": [
      "/opt/conda/lib/python3.10/site-packages/xgboost/sklearn.py:835: UserWarning: `early_stopping_rounds` in `fit` method is deprecated for better compatibility with scikit-learn, use `early_stopping_rounds` in constructor or`set_params` instead.\n",
      "  warnings.warn(\n",
      " 93%|█████████▎| 93/100 [02:50<00:12,  1.79s/it]"
     ]
    },
    {
     "name": "stdout",
     "output_type": "stream",
     "text": [
      "SMAPE: 3.373833828234354\n",
      "R2: 0.8689785795761118\n",
      "===== < BUILDING NO.94 > =====\n"
     ]
    },
    {
     "name": "stderr",
     "output_type": "stream",
     "text": [
      "/opt/conda/lib/python3.10/site-packages/xgboost/sklearn.py:835: UserWarning: `early_stopping_rounds` in `fit` method is deprecated for better compatibility with scikit-learn, use `early_stopping_rounds` in constructor or`set_params` instead.\n",
      "  warnings.warn(\n",
      " 94%|█████████▍| 94/100 [02:52<00:10,  1.79s/it]"
     ]
    },
    {
     "name": "stdout",
     "output_type": "stream",
     "text": [
      "SMAPE: 2.9929373345061463\n",
      "R2: 0.9160657067346847\n",
      "===== < BUILDING NO.95 > =====\n"
     ]
    },
    {
     "name": "stderr",
     "output_type": "stream",
     "text": [
      "/opt/conda/lib/python3.10/site-packages/xgboost/sklearn.py:835: UserWarning: `early_stopping_rounds` in `fit` method is deprecated for better compatibility with scikit-learn, use `early_stopping_rounds` in constructor or`set_params` instead.\n",
      "  warnings.warn(\n",
      " 95%|█████████▌| 95/100 [02:53<00:08,  1.62s/it]"
     ]
    },
    {
     "name": "stdout",
     "output_type": "stream",
     "text": [
      "SMAPE: 7.258248738455955\n",
      "R2: 0.6312822310967584\n",
      "===== < BUILDING NO.96 > =====\n"
     ]
    },
    {
     "name": "stderr",
     "output_type": "stream",
     "text": [
      "/opt/conda/lib/python3.10/site-packages/xgboost/sklearn.py:835: UserWarning: `early_stopping_rounds` in `fit` method is deprecated for better compatibility with scikit-learn, use `early_stopping_rounds` in constructor or`set_params` instead.\n",
      "  warnings.warn(\n",
      " 96%|█████████▌| 96/100 [02:55<00:06,  1.61s/it]"
     ]
    },
    {
     "name": "stdout",
     "output_type": "stream",
     "text": [
      "SMAPE: 1.491430100787991\n",
      "R2: 0.9651313111504027\n",
      "===== < BUILDING NO.97 > =====\n"
     ]
    },
    {
     "name": "stderr",
     "output_type": "stream",
     "text": [
      "/opt/conda/lib/python3.10/site-packages/xgboost/sklearn.py:835: UserWarning: `early_stopping_rounds` in `fit` method is deprecated for better compatibility with scikit-learn, use `early_stopping_rounds` in constructor or`set_params` instead.\n",
      "  warnings.warn(\n",
      " 97%|█████████▋| 97/100 [02:57<00:05,  1.82s/it]"
     ]
    },
    {
     "name": "stdout",
     "output_type": "stream",
     "text": [
      "SMAPE: 2.4080386121744386\n",
      "R2: 0.9334937482771224\n",
      "===== < BUILDING NO.98 > =====\n"
     ]
    },
    {
     "name": "stderr",
     "output_type": "stream",
     "text": [
      "/opt/conda/lib/python3.10/site-packages/xgboost/sklearn.py:835: UserWarning: `early_stopping_rounds` in `fit` method is deprecated for better compatibility with scikit-learn, use `early_stopping_rounds` in constructor or`set_params` instead.\n",
      "  warnings.warn(\n",
      " 98%|█████████▊| 98/100 [02:58<00:03,  1.70s/it]"
     ]
    },
    {
     "name": "stdout",
     "output_type": "stream",
     "text": [
      "SMAPE: 7.038908245544515\n",
      "R2: 0.8492584312608136\n",
      "===== < BUILDING NO.99 > =====\n"
     ]
    },
    {
     "name": "stderr",
     "output_type": "stream",
     "text": [
      "/opt/conda/lib/python3.10/site-packages/xgboost/sklearn.py:835: UserWarning: `early_stopping_rounds` in `fit` method is deprecated for better compatibility with scikit-learn, use `early_stopping_rounds` in constructor or`set_params` instead.\n",
      "  warnings.warn(\n",
      " 99%|█████████▉| 99/100 [03:00<00:01,  1.69s/it]"
     ]
    },
    {
     "name": "stdout",
     "output_type": "stream",
     "text": [
      "SMAPE: 1.6848495597962838\n",
      "R2: 0.9786802231329808\n",
      "===== < BUILDING NO.100 > =====\n"
     ]
    },
    {
     "name": "stderr",
     "output_type": "stream",
     "text": [
      "/opt/conda/lib/python3.10/site-packages/xgboost/sklearn.py:835: UserWarning: `early_stopping_rounds` in `fit` method is deprecated for better compatibility with scikit-learn, use `early_stopping_rounds` in constructor or`set_params` instead.\n",
      "  warnings.warn(\n",
      "100%|██████████| 100/100 [03:02<00:00,  1.82s/it]"
     ]
    },
    {
     "name": "stdout",
     "output_type": "stream",
     "text": [
      "SMAPE: 2.642659282172129\n",
      "R2: 0.9674120094300811\n"
     ]
    },
    {
     "name": "stderr",
     "output_type": "stream",
     "text": [
      "\n"
     ]
    }
   ],
   "source": [
    "pred_val_ens= []\n",
    "test_ens = []\n",
    "\n",
    "summary_list = []\n",
    "ans_val_list = []\n",
    "pred_val_list = []\n",
    "pred_test_list = []\n",
    "\n",
    "for i in tqdm(range(100)):\n",
    "    print(f\"===== < BUILDING NO.{i+1} > =====\")\n",
    "    summary_dict = {}\n",
    "\n",
    "    smape_val, r2_val, ans_val, pred_val, pred_test = fit_and_pred_XGB_with_weight(train, test, i+1, 100, seed=0)\n",
    "\n",
    "    summary_dict['건물번호'] = i+1\n",
    "    summary_dict['SMAPE'] = smape_val\n",
    "    summary_dict['R2'] = r2_val\n",
    "    summary_list.append(summary_dict)\n",
    "    ans_val_list.append(ans_val)\n",
    "    pred_val_list.append(pred_val)\n",
    "    pred_test_list.append(pred_test)\n",
    "\n",
    "ans_val_whole = np.concatenate(ans_val_list)\n",
    "pred_val_whole = np.concatenate(pred_val_list)\n",
    "pred_test_whole = np.concatenate(pred_test_list)\n",
    "smape_val =SMAPE(ans_val_whole, pred_val_whole)"
   ]
  },
  {
   "cell_type": "code",
   "execution_count": 45,
   "id": "632fcc91-0a4c-4937-aa2d-dbbb00b548bc",
   "metadata": {
    "scrolled": true
   },
   "outputs": [
    {
     "data": {
      "text/plain": [
       "[{'건물번호': 1, 'SMAPE': 3.883634407146668, 'R2': 0.9428148434678705},\n",
       " {'건물번호': 2, 'SMAPE': 5.256542311528698, 'R2': 0.8268383595313882},\n",
       " {'건물번호': 3, 'SMAPE': 5.545908115619256, 'R2': 0.8225081381620768},\n",
       " {'건물번호': 4, 'SMAPE': 2.0216084532929974, 'R2': 0.9738995748382593},\n",
       " {'건물번호': 5, 'SMAPE': 2.8028523787496087, 'R2': 0.9733667899879699},\n",
       " {'건물번호': 6, 'SMAPE': 1.861585193427125, 'R2': 0.981714605738076},\n",
       " {'건물번호': 7, 'SMAPE': 5.0474765252492375, 'R2': 0.8962074296471658},\n",
       " {'건물번호': 8, 'SMAPE': 2.5489555005401963, 'R2': 0.7355127209176974},\n",
       " {'건물번호': 9, 'SMAPE': 2.0478630548996173, 'R2': 0.975397976943655},\n",
       " {'건물번호': 10, 'SMAPE': 3.907172078032968, 'R2': 0.32611646656584903},\n",
       " {'건물번호': 11, 'SMAPE': 1.676392266013526, 'R2': 0.9014899611347567},\n",
       " {'건물번호': 12, 'SMAPE': 1.8723574629050932, 'R2': 0.9008362680544917},\n",
       " {'건물번호': 13, 'SMAPE': 3.0274657714415754, 'R2': 0.3797024654736437},\n",
       " {'건물번호': 14, 'SMAPE': 8.411099584140395, 'R2': 0.2536910586619444},\n",
       " {'건물번호': 15, 'SMAPE': 1.2548517916499227, 'R2': 0.9371161321264849},\n",
       " {'건물번호': 16, 'SMAPE': 2.2092638330705237, 'R2': 0.9848943403666937},\n",
       " {'건물번호': 17, 'SMAPE': 2.9155781243960273, 'R2': 0.9459348281219652},\n",
       " {'건물번호': 18, 'SMAPE': 3.3829864057136083, 'R2': 0.9332030692073239},\n",
       " {'건물번호': 19, 'SMAPE': 4.304075013735136, 'R2': 0.9364720115975896},\n",
       " {'건물번호': 20, 'SMAPE': 2.378545266421429, 'R2': 0.9764064401504943},\n",
       " {'건물번호': 21, 'SMAPE': 3.9669116215508895, 'R2': 0.933790666753363},\n",
       " {'건물번호': 22, 'SMAPE': 1.8200203037843907, 'R2': 0.9429240295041776},\n",
       " {'건물번호': 23, 'SMAPE': 0.9373158040898235, 'R2': 0.966113940778409},\n",
       " {'건물번호': 24, 'SMAPE': 1.288296737357208, 'R2': 0.9864269965196982},\n",
       " {'건물번호': 25, 'SMAPE': 1.0654398164794496, 'R2': 0.9887994766418751},\n",
       " {'건물번호': 26, 'SMAPE': 0.9936471600354451, 'R2': 0.9862221989284544},\n",
       " {'건물번호': 27, 'SMAPE': 0.8588802301263323, 'R2': 0.9817016980675318},\n",
       " {'건물번호': 28, 'SMAPE': 2.695373169555824, 'R2': 0.9583253430170969},\n",
       " {'건물번호': 29, 'SMAPE': 1.976031642209499, 'R2': 0.9524808637651322},\n",
       " {'건물번호': 30, 'SMAPE': 3.5546984752156083, 'R2': 0.8875174353264503},\n",
       " {'건물번호': 31, 'SMAPE': 2.56804945577574, 'R2': 0.9430689817703377},\n",
       " {'건물번호': 32, 'SMAPE': 0.19702161248468097, 'R2': 0.8575105699889993},\n",
       " {'건물번호': 33, 'SMAPE': 0.22625441905510688, 'R2': 0.664683287931862},\n",
       " {'건물번호': 34, 'SMAPE': 0.3245615439520965, 'R2': 0.8743641573149044},\n",
       " {'건물번호': 35, 'SMAPE': 0.1725662905282774, 'R2': 0.9231181475717967},\n",
       " {'건물번호': 36, 'SMAPE': 0.3293354963327888, 'R2': 0.6086908187486058},\n",
       " {'건물번호': 37, 'SMAPE': 2.156013386887052, 'R2': 0.9834896887299619},\n",
       " {'건물번호': 38, 'SMAPE': 1.79901744109431, 'R2': 0.997437075975758},\n",
       " {'건물번호': 39, 'SMAPE': 2.6661003736987903, 'R2': 0.9789087896318968},\n",
       " {'건물번호': 40, 'SMAPE': 4.45893690485189, 'R2': 0.9573252573751764},\n",
       " {'건물번호': 41, 'SMAPE': 2.5510663147591073, 'R2': 0.9930563582771769},\n",
       " {'건물번호': 42, 'SMAPE': 8.887439371539775, 'R2': 0.8210955033826771},\n",
       " {'건물번호': 43, 'SMAPE': 3.2731321691803545, 'R2': 0.9935898557260004},\n",
       " {'건물번호': 44, 'SMAPE': 2.0138184178735856, 'R2': 0.9963370546141956},\n",
       " {'건물번호': 45, 'SMAPE': 1.2292015666710925, 'R2': 0.9618127671900834},\n",
       " {'건물번호': 46, 'SMAPE': 2.262918598327897, 'R2': 0.9497221063116454},\n",
       " {'건물번호': 47, 'SMAPE': 2.163123832268895, 'R2': 0.9368352656382489},\n",
       " {'건물번호': 48, 'SMAPE': 1.0124164128796722, 'R2': 0.9867960252855252},\n",
       " {'건물번호': 49, 'SMAPE': 1.231602471054904, 'R2': 0.9518363003022309},\n",
       " {'건물번호': 50, 'SMAPE': 1.149476273028294, 'R2': 0.9402324357123669},\n",
       " {'건물번호': 51, 'SMAPE': 1.7940870821424981, 'R2': 0.9374935367784654},\n",
       " {'건물번호': 52, 'SMAPE': 1.7134989361480766, 'R2': 0.969279720743553},\n",
       " {'건물번호': 53, 'SMAPE': 5.7870331403832855, 'R2': 0.9500465530970634},\n",
       " {'건물번호': 54, 'SMAPE': 9.343993649103458, 'R2': 0.8290382764818288},\n",
       " {'건물번호': 55, 'SMAPE': 0.8002626858072206, 'R2': 0.9195686449786508},\n",
       " {'건물번호': 56, 'SMAPE': 0.372070315733699, 'R2': 0.9577856450595469},\n",
       " {'건물번호': 57, 'SMAPE': 2.582743473340681, 'R2': 0.9855450716287837},\n",
       " {'건물번호': 58, 'SMAPE': 0.2109516149812387, 'R2': 0.9415446081549514},\n",
       " {'건물번호': 59, 'SMAPE': 2.727613907355983, 'R2': 0.9804815904020056},\n",
       " {'건물번호': 60, 'SMAPE': 3.128806069117498, 'R2': 0.9440451782825701},\n",
       " {'건물번호': 61, 'SMAPE': 2.4695452930152224, 'R2': 0.9320376576270133},\n",
       " {'건물번호': 62, 'SMAPE': 2.800901630300211, 'R2': 0.9255194239196292},\n",
       " {'건물번호': 63, 'SMAPE': 3.237423712443478, 'R2': 0.9093444882521864},\n",
       " {'건물번호': 64, 'SMAPE': 1.983562546595305, 'R2': 0.9449119561229407},\n",
       " {'건물번호': 65, 'SMAPE': 4.087620852650325, 'R2': 0.8779487186996391},\n",
       " {'건물번호': 66, 'SMAPE': 2.1400472638820167, 'R2': 0.8596778515618013},\n",
       " {'건물번호': 67, 'SMAPE': 2.7280610479038323, 'R2': 0.8819381309576115},\n",
       " {'건물번호': 68, 'SMAPE': 2.4629394121129358, 'R2': 0.9323077167946682},\n",
       " {'건물번호': 69, 'SMAPE': 1.1647349083922025, 'R2': 0.9778160470628237},\n",
       " {'건물번호': 70, 'SMAPE': 2.7534337821495734, 'R2': 0.9469181421177187},\n",
       " {'건물번호': 71, 'SMAPE': 2.19866582767245, 'R2': 0.8921923890792537},\n",
       " {'건물번호': 72, 'SMAPE': 2.3547259883621723, 'R2': 0.788860197681444},\n",
       " {'건물번호': 73, 'SMAPE': 1.6954986887964207, 'R2': 0.8131771834720108},\n",
       " {'건물번호': 74, 'SMAPE': 3.181952948728036, 'R2': 0.9189238392978},\n",
       " {'건물번호': 75, 'SMAPE': 1.7656772240774978, 'R2': 0.9381620469863149},\n",
       " {'건물번호': 76, 'SMAPE': 2.4709027490552686, 'R2': 0.7829026370287808},\n",
       " {'건물번호': 77, 'SMAPE': 1.2620726817927796, 'R2': 0.9920637841574659},\n",
       " {'건물번호': 78, 'SMAPE': 1.5501687975698433, 'R2': 0.993533370338121},\n",
       " {'건물번호': 79, 'SMAPE': 1.0436883340074417, 'R2': 0.9911248490291023},\n",
       " {'건물번호': 80, 'SMAPE': 1.6852099716763582, 'R2': 0.9945649161319271},\n",
       " {'건물번호': 81, 'SMAPE': 1.8448466598461641, 'R2': 0.9912631340286862},\n",
       " {'건물번호': 82, 'SMAPE': 2.1228550962234487, 'R2': 0.9920777946017227},\n",
       " {'건물번호': 83, 'SMAPE': 1.4764124214173946, 'R2': 0.9935302051646853},\n",
       " {'건물번호': 84, 'SMAPE': 1.4184075224078103, 'R2': 0.9911678050073048},\n",
       " {'건물번호': 85, 'SMAPE': 1.7766891378931844, 'R2': 0.9554452075929176},\n",
       " {'건물번호': 86, 'SMAPE': 3.8742220810478485, 'R2': 0.8744989436601363},\n",
       " {'건물번호': 87, 'SMAPE': 4.984363164766773, 'R2': 0.8799899192668625},\n",
       " {'건물번호': 88, 'SMAPE': 2.891185437185699, 'R2': 0.9259233720667035},\n",
       " {'건물번호': 89, 'SMAPE': 2.586491535349424, 'R2': 0.9507338522500512},\n",
       " {'건물번호': 90, 'SMAPE': 2.9521107797127164, 'R2': 0.9701321600674983},\n",
       " {'건물번호': 91, 'SMAPE': 6.481577375826742, 'R2': 0.9529123507180252},\n",
       " {'건물번호': 92, 'SMAPE': 2.862682784417281, 'R2': 0.9385937785090032},\n",
       " {'건물번호': 93, 'SMAPE': 3.373833828234354, 'R2': 0.8689785795761118},\n",
       " {'건물번호': 94, 'SMAPE': 2.9929373345061463, 'R2': 0.9160657067346847},\n",
       " {'건물번호': 95, 'SMAPE': 7.258248738455955, 'R2': 0.6312822310967584},\n",
       " {'건물번호': 96, 'SMAPE': 1.491430100787991, 'R2': 0.9651313111504027},\n",
       " {'건물번호': 97, 'SMAPE': 2.4080386121744386, 'R2': 0.9334937482771224},\n",
       " {'건물번호': 98, 'SMAPE': 7.038908245544515, 'R2': 0.8492584312608136},\n",
       " {'건물번호': 99, 'SMAPE': 1.6848495597962838, 'R2': 0.9786802231329808},\n",
       " {'건물번호': 100, 'SMAPE': 2.642659282172129, 'R2': 0.9674120094300811}]"
      ]
     },
     "execution_count": 45,
     "metadata": {},
     "output_type": "execute_result"
    }
   ],
   "source": [
    "summary_list"
   ]
  },
  {
   "cell_type": "code",
   "execution_count": 46,
   "id": "272ad73a-3338-44ea-b329-c9e357ac58ed",
   "metadata": {},
   "outputs": [
    {
     "data": {
      "text/plain": [
       "2.638455250836857"
      ]
     },
     "execution_count": 46,
     "metadata": {},
     "output_type": "execute_result"
    }
   ],
   "source": [
    "smape_val"
   ]
  },
  {
   "cell_type": "code",
   "execution_count": 47,
   "id": "914acd66-3226-4d88-a34e-e6451210c58e",
   "metadata": {},
   "outputs": [],
   "source": [
    "sub = pd.read_csv('sample_submission.csv')\n",
    "sub['answer'] = pred_test_whole\n",
    "sub.to_csv('xgb_sub_21.csv', index=False)"
   ]
  },
  {
   "cell_type": "markdown",
   "id": "df52f9b6-013e-414f-9cf2-68916ee6a694",
   "metadata": {},
   "source": [
    "### Parameter Tuning - Grid Search CV"
   ]
  },
  {
   "cell_type": "code",
   "execution_count": 48,
   "id": "2d660703-78a6-4f60-b9e2-0665396be485",
   "metadata": {},
   "outputs": [],
   "source": [
    "from sklearn.model_selection import GridSearchCV, PredefinedSplit"
   ]
  },
  {
   "cell_type": "code",
   "execution_count": null,
   "id": "6270ac25-6235-41c2-9a79-69654c011c1f",
   "metadata": {
    "scrolled": true
   },
   "outputs": [
    {
     "name": "stderr",
     "output_type": "stream",
     "text": [
      "  0%|          | 0/100 [00:00<?, ?it/s]"
     ]
    },
    {
     "name": "stdout",
     "output_type": "stream",
     "text": [
      "===== < BUILDING NO.1 > =====\n",
      "Fitting 5 folds for each of 180 candidates, totalling 900 fits\n"
     ]
    },
    {
     "name": "stderr",
     "output_type": "stream",
     "text": [
      "  1%|          | 1/100 [02:30<4:08:37, 150.69s/it]"
     ]
    },
    {
     "name": "stdout",
     "output_type": "stream",
     "text": [
      "{'max_depth': 8, 'min_samples_leaf': 8, 'min_samples_split': 8, 'n_estimators': 150}\n",
      "SMAPE: 4.2450750272584745\n",
      "===== < BUILDING NO.2 > =====\n",
      "Fitting 5 folds for each of 180 candidates, totalling 900 fits\n"
     ]
    },
    {
     "name": "stderr",
     "output_type": "stream",
     "text": [
      "  2%|▏         | 2/100 [05:03<4:08:03, 151.87s/it]"
     ]
    },
    {
     "name": "stdout",
     "output_type": "stream",
     "text": [
      "{'max_depth': 8, 'min_samples_leaf': 8, 'min_samples_split': 8, 'n_estimators': 100}\n",
      "SMAPE: 4.606879783491006\n",
      "===== < BUILDING NO.3 > =====\n",
      "Fitting 5 folds for each of 180 candidates, totalling 900 fits\n"
     ]
    },
    {
     "name": "stderr",
     "output_type": "stream",
     "text": [
      "  3%|▎         | 3/100 [07:34<4:05:19, 151.74s/it]"
     ]
    },
    {
     "name": "stdout",
     "output_type": "stream",
     "text": [
      "{'max_depth': 6, 'min_samples_leaf': 8, 'min_samples_split': 8, 'n_estimators': 30}\n",
      "SMAPE: 6.901413792231853\n",
      "===== < BUILDING NO.4 > =====\n",
      "Fitting 5 folds for each of 180 candidates, totalling 900 fits\n"
     ]
    },
    {
     "name": "stderr",
     "output_type": "stream",
     "text": [
      "  4%|▍         | 4/100 [10:06<4:02:44, 151.71s/it]"
     ]
    },
    {
     "name": "stdout",
     "output_type": "stream",
     "text": [
      "{'max_depth': 8, 'min_samples_leaf': 8, 'min_samples_split': 8, 'n_estimators': 100}\n",
      "SMAPE: 2.3104972169087916\n",
      "===== < BUILDING NO.5 > =====\n",
      "Fitting 5 folds for each of 180 candidates, totalling 900 fits\n"
     ]
    },
    {
     "name": "stderr",
     "output_type": "stream",
     "text": [
      "  5%|▌         | 5/100 [12:33<3:57:29, 150.00s/it]"
     ]
    },
    {
     "name": "stdout",
     "output_type": "stream",
     "text": [
      "{'max_depth': 10, 'min_samples_leaf': 8, 'min_samples_split': 8, 'n_estimators': 50}\n",
      "SMAPE: 3.5431336086062513\n",
      "===== < BUILDING NO.6 > =====\n",
      "Fitting 5 folds for each of 180 candidates, totalling 900 fits\n"
     ]
    },
    {
     "name": "stderr",
     "output_type": "stream",
     "text": [
      "  6%|▌         | 6/100 [15:03<3:54:42, 149.82s/it]"
     ]
    },
    {
     "name": "stdout",
     "output_type": "stream",
     "text": [
      "{'max_depth': 8, 'min_samples_leaf': 8, 'min_samples_split': 8, 'n_estimators': 150}\n",
      "SMAPE: 2.1525433639483067\n",
      "===== < BUILDING NO.7 > =====\n",
      "Fitting 5 folds for each of 180 candidates, totalling 900 fits\n"
     ]
    },
    {
     "name": "stderr",
     "output_type": "stream",
     "text": [
      "  7%|▋         | 7/100 [17:34<3:52:55, 150.27s/it]"
     ]
    },
    {
     "name": "stdout",
     "output_type": "stream",
     "text": [
      "{'max_depth': 10, 'min_samples_leaf': 8, 'min_samples_split': 8, 'n_estimators': 150}\n",
      "SMAPE: 4.584170104036619\n",
      "===== < BUILDING NO.8 > =====\n",
      "Fitting 5 folds for each of 180 candidates, totalling 900 fits\n"
     ]
    },
    {
     "name": "stderr",
     "output_type": "stream",
     "text": [
      "  8%|▊         | 8/100 [20:04<3:50:16, 150.18s/it]"
     ]
    },
    {
     "name": "stdout",
     "output_type": "stream",
     "text": [
      "{'max_depth': 10, 'min_samples_leaf': 8, 'min_samples_split': 8, 'n_estimators': 150}\n",
      "SMAPE: 2.7756611912898315\n",
      "===== < BUILDING NO.9 > =====\n",
      "Fitting 5 folds for each of 180 candidates, totalling 900 fits\n"
     ]
    },
    {
     "name": "stderr",
     "output_type": "stream",
     "text": [
      "  9%|▉         | 9/100 [22:34<3:47:40, 150.11s/it]"
     ]
    },
    {
     "name": "stdout",
     "output_type": "stream",
     "text": [
      "{'max_depth': 12, 'min_samples_leaf': 8, 'min_samples_split': 8, 'n_estimators': 100}\n",
      "SMAPE: 2.153085818675606\n",
      "===== < BUILDING NO.10 > =====\n",
      "Fitting 5 folds for each of 180 candidates, totalling 900 fits\n"
     ]
    },
    {
     "name": "stderr",
     "output_type": "stream",
     "text": [
      " 10%|█         | 10/100 [25:03<3:44:50, 149.89s/it]"
     ]
    },
    {
     "name": "stdout",
     "output_type": "stream",
     "text": [
      "{'max_depth': 12, 'min_samples_leaf': 8, 'min_samples_split': 8, 'n_estimators': 150}\n",
      "SMAPE: 4.737131652042914\n",
      "===== < BUILDING NO.11 > =====\n",
      "Fitting 5 folds for each of 180 candidates, totalling 900 fits\n"
     ]
    },
    {
     "name": "stderr",
     "output_type": "stream",
     "text": [
      " 11%|█         | 11/100 [27:29<3:40:36, 148.72s/it]"
     ]
    },
    {
     "name": "stdout",
     "output_type": "stream",
     "text": [
      "{'max_depth': 12, 'min_samples_leaf': 8, 'min_samples_split': 8, 'n_estimators': 150}\n",
      "SMAPE: 1.8379435373737165\n",
      "===== < BUILDING NO.12 > =====\n",
      "Fitting 5 folds for each of 180 candidates, totalling 900 fits\n"
     ]
    },
    {
     "name": "stderr",
     "output_type": "stream",
     "text": [
      " 12%|█▏        | 12/100 [29:58<3:38:09, 148.74s/it]"
     ]
    },
    {
     "name": "stdout",
     "output_type": "stream",
     "text": [
      "{'max_depth': 8, 'min_samples_leaf': 8, 'min_samples_split': 8, 'n_estimators': 30}\n",
      "SMAPE: 2.545882237654428\n",
      "===== < BUILDING NO.13 > =====\n",
      "Fitting 5 folds for each of 180 candidates, totalling 900 fits\n"
     ]
    },
    {
     "name": "stderr",
     "output_type": "stream",
     "text": [
      " 13%|█▎        | 13/100 [32:24<3:34:41, 148.07s/it]"
     ]
    },
    {
     "name": "stdout",
     "output_type": "stream",
     "text": [
      "{'max_depth': 6, 'min_samples_leaf': 18, 'min_samples_split': 8, 'n_estimators': 30}\n",
      "SMAPE: 2.468547481887228\n",
      "===== < BUILDING NO.14 > =====\n",
      "Fitting 5 folds for each of 180 candidates, totalling 900 fits\n"
     ]
    },
    {
     "name": "stderr",
     "output_type": "stream",
     "text": [
      " 14%|█▍        | 14/100 [35:00<3:35:34, 150.41s/it]"
     ]
    },
    {
     "name": "stdout",
     "output_type": "stream",
     "text": [
      "{'max_depth': 6, 'min_samples_leaf': 8, 'min_samples_split': 20, 'n_estimators': 150}\n",
      "SMAPE: 8.017304879677667\n",
      "===== < BUILDING NO.15 > =====\n",
      "Fitting 5 folds for each of 180 candidates, totalling 900 fits\n"
     ]
    },
    {
     "name": "stderr",
     "output_type": "stream",
     "text": [
      " 15%|█▌        | 15/100 [37:31<3:32:59, 150.34s/it]"
     ]
    },
    {
     "name": "stdout",
     "output_type": "stream",
     "text": [
      "{'max_depth': 12, 'min_samples_leaf': 8, 'min_samples_split': 8, 'n_estimators': 150}\n",
      "SMAPE: 1.5403942468722513\n",
      "===== < BUILDING NO.16 > =====\n",
      "Fitting 5 folds for each of 180 candidates, totalling 900 fits\n"
     ]
    },
    {
     "name": "stderr",
     "output_type": "stream",
     "text": [
      " 16%|█▌        | 16/100 [39:59<3:29:47, 149.85s/it]"
     ]
    },
    {
     "name": "stdout",
     "output_type": "stream",
     "text": [
      "{'max_depth': 10, 'min_samples_leaf': 8, 'min_samples_split': 8, 'n_estimators': 50}\n",
      "SMAPE: 2.9457975499779487\n",
      "===== < BUILDING NO.17 > =====\n",
      "Fitting 5 folds for each of 180 candidates, totalling 900 fits\n"
     ]
    },
    {
     "name": "stderr",
     "output_type": "stream",
     "text": [
      " 17%|█▋        | 17/100 [42:30<3:27:46, 150.20s/it]"
     ]
    },
    {
     "name": "stdout",
     "output_type": "stream",
     "text": [
      "{'max_depth': 12, 'min_samples_leaf': 12, 'min_samples_split': 8, 'n_estimators': 70}\n",
      "SMAPE: 3.0844313149016407\n",
      "===== < BUILDING NO.18 > =====\n",
      "Fitting 5 folds for each of 180 candidates, totalling 900 fits\n"
     ]
    },
    {
     "name": "stderr",
     "output_type": "stream",
     "text": [
      " 18%|█▊        | 18/100 [45:01<3:25:34, 150.42s/it]"
     ]
    },
    {
     "name": "stdout",
     "output_type": "stream",
     "text": [
      "{'max_depth': 12, 'min_samples_leaf': 8, 'min_samples_split': 8, 'n_estimators': 50}\n",
      "SMAPE: 3.7054978754893817\n",
      "===== < BUILDING NO.19 > =====\n",
      "Fitting 5 folds for each of 180 candidates, totalling 900 fits\n"
     ]
    },
    {
     "name": "stderr",
     "output_type": "stream",
     "text": [
      " 19%|█▉        | 19/100 [47:33<3:23:39, 150.85s/it]"
     ]
    },
    {
     "name": "stdout",
     "output_type": "stream",
     "text": [
      "{'max_depth': 12, 'min_samples_leaf': 8, 'min_samples_split': 8, 'n_estimators': 70}\n",
      "SMAPE: 4.584096907639814\n",
      "===== < BUILDING NO.20 > =====\n",
      "Fitting 5 folds for each of 180 candidates, totalling 900 fits\n"
     ]
    },
    {
     "name": "stderr",
     "output_type": "stream",
     "text": [
      " 20%|██        | 20/100 [50:02<3:20:31, 150.40s/it]"
     ]
    },
    {
     "name": "stdout",
     "output_type": "stream",
     "text": [
      "{'max_depth': 10, 'min_samples_leaf': 8, 'min_samples_split': 8, 'n_estimators': 50}\n",
      "SMAPE: 2.4948251097543577\n",
      "===== < BUILDING NO.21 > =====\n",
      "Fitting 5 folds for each of 180 candidates, totalling 900 fits\n"
     ]
    },
    {
     "name": "stderr",
     "output_type": "stream",
     "text": [
      " 21%|██        | 21/100 [52:32<3:17:45, 150.19s/it]"
     ]
    },
    {
     "name": "stdout",
     "output_type": "stream",
     "text": [
      "{'max_depth': 12, 'min_samples_leaf': 8, 'min_samples_split': 8, 'n_estimators': 100}\n",
      "SMAPE: 3.7770231167626913\n",
      "===== < BUILDING NO.22 > =====\n",
      "Fitting 5 folds for each of 180 candidates, totalling 900 fits\n"
     ]
    },
    {
     "name": "stderr",
     "output_type": "stream",
     "text": [
      " 22%|██▏       | 22/100 [54:57<3:13:12, 148.63s/it]"
     ]
    },
    {
     "name": "stdout",
     "output_type": "stream",
     "text": [
      "{'max_depth': 12, 'min_samples_leaf': 8, 'min_samples_split': 8, 'n_estimators': 30}\n",
      "SMAPE: 1.8519215911386815\n",
      "===== < BUILDING NO.23 > =====\n",
      "Fitting 5 folds for each of 180 candidates, totalling 900 fits\n"
     ]
    },
    {
     "name": "stderr",
     "output_type": "stream",
     "text": [
      " 23%|██▎       | 23/100 [57:26<3:10:43, 148.62s/it]"
     ]
    },
    {
     "name": "stdout",
     "output_type": "stream",
     "text": [
      "{'max_depth': 10, 'min_samples_leaf': 8, 'min_samples_split': 8, 'n_estimators': 150}\n",
      "SMAPE: 1.0228960728580836\n",
      "===== < BUILDING NO.24 > =====\n",
      "Fitting 5 folds for each of 180 candidates, totalling 900 fits\n"
     ]
    },
    {
     "name": "stderr",
     "output_type": "stream",
     "text": [
      " 24%|██▍       | 24/100 [59:54<3:08:17, 148.66s/it]"
     ]
    },
    {
     "name": "stdout",
     "output_type": "stream",
     "text": [
      "{'max_depth': 12, 'min_samples_leaf': 8, 'min_samples_split': 8, 'n_estimators': 100}\n",
      "SMAPE: 1.5245797018558418\n",
      "===== < BUILDING NO.25 > =====\n",
      "Fitting 5 folds for each of 180 candidates, totalling 900 fits\n"
     ]
    },
    {
     "name": "stderr",
     "output_type": "stream",
     "text": [
      " 25%|██▌       | 25/100 [1:02:24<3:06:07, 148.90s/it]"
     ]
    },
    {
     "name": "stdout",
     "output_type": "stream",
     "text": [
      "{'max_depth': 10, 'min_samples_leaf': 8, 'min_samples_split': 8, 'n_estimators': 100}\n",
      "SMAPE: 1.5371383746649314\n",
      "===== < BUILDING NO.26 > =====\n",
      "Fitting 5 folds for each of 180 candidates, totalling 900 fits\n"
     ]
    },
    {
     "name": "stderr",
     "output_type": "stream",
     "text": [
      " 26%|██▌       | 26/100 [1:04:51<3:02:50, 148.25s/it]"
     ]
    },
    {
     "name": "stdout",
     "output_type": "stream",
     "text": [
      "{'max_depth': 10, 'min_samples_leaf': 8, 'min_samples_split': 8, 'n_estimators': 150}\n",
      "SMAPE: 1.2733564218872049\n",
      "===== < BUILDING NO.27 > =====\n",
      "Fitting 5 folds for each of 180 candidates, totalling 900 fits\n"
     ]
    },
    {
     "name": "stderr",
     "output_type": "stream",
     "text": [
      " 27%|██▋       | 27/100 [1:07:18<2:59:53, 147.86s/it]"
     ]
    },
    {
     "name": "stdout",
     "output_type": "stream",
     "text": [
      "{'max_depth': 10, 'min_samples_leaf': 8, 'min_samples_split': 8, 'n_estimators': 50}\n",
      "SMAPE: 1.1312716144222752\n",
      "===== < BUILDING NO.28 > =====\n",
      "Fitting 5 folds for each of 180 candidates, totalling 900 fits\n"
     ]
    },
    {
     "name": "stderr",
     "output_type": "stream",
     "text": [
      " 28%|██▊       | 28/100 [1:09:44<2:56:59, 147.50s/it]"
     ]
    },
    {
     "name": "stdout",
     "output_type": "stream",
     "text": [
      "{'max_depth': 12, 'min_samples_leaf': 12, 'min_samples_split': 8, 'n_estimators': 100}\n",
      "SMAPE: 2.9704688716009056\n",
      "===== < BUILDING NO.29 > =====\n",
      "Fitting 5 folds for each of 180 candidates, totalling 900 fits\n"
     ]
    },
    {
     "name": "stderr",
     "output_type": "stream",
     "text": [
      " 29%|██▉       | 29/100 [1:12:11<2:54:08, 147.16s/it]"
     ]
    },
    {
     "name": "stdout",
     "output_type": "stream",
     "text": [
      "{'max_depth': 8, 'min_samples_leaf': 8, 'min_samples_split': 8, 'n_estimators': 30}\n",
      "SMAPE: 2.3970199283914186\n",
      "===== < BUILDING NO.30 > =====\n",
      "Fitting 5 folds for each of 180 candidates, totalling 900 fits\n"
     ]
    },
    {
     "name": "stderr",
     "output_type": "stream",
     "text": [
      " 30%|███       | 30/100 [1:14:38<2:51:45, 147.22s/it]"
     ]
    },
    {
     "name": "stdout",
     "output_type": "stream",
     "text": [
      "{'max_depth': 12, 'min_samples_leaf': 8, 'min_samples_split': 20, 'n_estimators': 150}\n",
      "SMAPE: 3.0909902457545346\n",
      "===== < BUILDING NO.31 > =====\n",
      "Fitting 5 folds for each of 180 candidates, totalling 900 fits\n"
     ]
    },
    {
     "name": "stderr",
     "output_type": "stream",
     "text": [
      " 31%|███       | 31/100 [1:17:05<2:49:21, 147.27s/it]"
     ]
    },
    {
     "name": "stdout",
     "output_type": "stream",
     "text": [
      "{'max_depth': 12, 'min_samples_leaf': 8, 'min_samples_split': 8, 'n_estimators': 150}\n",
      "SMAPE: 2.9627464298636106\n",
      "===== < BUILDING NO.32 > =====\n",
      "Fitting 5 folds for each of 180 candidates, totalling 900 fits\n"
     ]
    },
    {
     "name": "stderr",
     "output_type": "stream",
     "text": [
      " 32%|███▏      | 32/100 [1:19:35<2:47:38, 147.92s/it]"
     ]
    },
    {
     "name": "stdout",
     "output_type": "stream",
     "text": [
      "{'max_depth': 12, 'min_samples_leaf': 18, 'min_samples_split': 8, 'n_estimators': 150}\n",
      "SMAPE: 0.20532342906465303\n",
      "===== < BUILDING NO.33 > =====\n",
      "Fitting 5 folds for each of 180 candidates, totalling 900 fits\n"
     ]
    },
    {
     "name": "stderr",
     "output_type": "stream",
     "text": [
      " 33%|███▎      | 33/100 [1:22:03<2:45:20, 148.07s/it]"
     ]
    },
    {
     "name": "stdout",
     "output_type": "stream",
     "text": [
      "{'max_depth': 12, 'min_samples_leaf': 12, 'min_samples_split': 8, 'n_estimators': 50}\n",
      "SMAPE: 0.3388465443985801\n",
      "===== < BUILDING NO.34 > =====\n",
      "Fitting 5 folds for each of 180 candidates, totalling 900 fits\n"
     ]
    },
    {
     "name": "stderr",
     "output_type": "stream",
     "text": [
      " 34%|███▍      | 34/100 [1:24:30<2:42:24, 147.64s/it]"
     ]
    },
    {
     "name": "stdout",
     "output_type": "stream",
     "text": [
      "{'max_depth': 10, 'min_samples_leaf': 12, 'min_samples_split': 8, 'n_estimators': 150}\n",
      "SMAPE: 0.36810875070587307\n",
      "===== < BUILDING NO.35 > =====\n",
      "Fitting 5 folds for each of 180 candidates, totalling 900 fits\n"
     ]
    },
    {
     "name": "stderr",
     "output_type": "stream",
     "text": [
      " 35%|███▌      | 35/100 [1:26:56<2:39:26, 147.18s/it]"
     ]
    },
    {
     "name": "stdout",
     "output_type": "stream",
     "text": [
      "{'max_depth': 10, 'min_samples_leaf': 12, 'min_samples_split': 8, 'n_estimators': 30}\n",
      "SMAPE: 0.19411472432418916\n",
      "===== < BUILDING NO.36 > =====\n",
      "Fitting 5 folds for each of 180 candidates, totalling 900 fits\n"
     ]
    },
    {
     "name": "stderr",
     "output_type": "stream",
     "text": [
      " 36%|███▌      | 36/100 [1:29:23<2:37:05, 147.27s/it]"
     ]
    },
    {
     "name": "stdout",
     "output_type": "stream",
     "text": [
      "{'max_depth': 12, 'min_samples_leaf': 8, 'min_samples_split': 20, 'n_estimators': 150}\n",
      "SMAPE: 0.33078483325625113\n",
      "===== < BUILDING NO.37 > =====\n",
      "Fitting 5 folds for each of 180 candidates, totalling 900 fits\n"
     ]
    },
    {
     "name": "stderr",
     "output_type": "stream",
     "text": [
      " 37%|███▋      | 37/100 [1:31:57<2:36:30, 149.05s/it]"
     ]
    },
    {
     "name": "stdout",
     "output_type": "stream",
     "text": [
      "{'max_depth': 12, 'min_samples_leaf': 8, 'min_samples_split': 8, 'n_estimators': 30}\n",
      "SMAPE: 2.5325161323873324\n",
      "===== < BUILDING NO.38 > =====\n",
      "Fitting 5 folds for each of 180 candidates, totalling 900 fits\n"
     ]
    },
    {
     "name": "stderr",
     "output_type": "stream",
     "text": [
      " 38%|███▊      | 38/100 [1:34:30<2:35:17, 150.28s/it]"
     ]
    },
    {
     "name": "stdout",
     "output_type": "stream",
     "text": [
      "{'max_depth': 10, 'min_samples_leaf': 12, 'min_samples_split': 8, 'n_estimators': 70}\n",
      "SMAPE: 2.3022906165666663\n",
      "===== < BUILDING NO.39 > =====\n",
      "Fitting 5 folds for each of 180 candidates, totalling 900 fits\n"
     ]
    },
    {
     "name": "stderr",
     "output_type": "stream",
     "text": [
      " 39%|███▉      | 39/100 [1:37:01<2:33:05, 150.59s/it]"
     ]
    },
    {
     "name": "stdout",
     "output_type": "stream",
     "text": [
      "{'max_depth': 10, 'min_samples_leaf': 12, 'min_samples_split': 8, 'n_estimators': 70}\n",
      "SMAPE: 2.4612325926852425\n",
      "===== < BUILDING NO.40 > =====\n",
      "Fitting 5 folds for each of 180 candidates, totalling 900 fits\n"
     ]
    },
    {
     "name": "stderr",
     "output_type": "stream",
     "text": [
      " 40%|████      | 40/100 [1:39:29<2:29:47, 149.80s/it]"
     ]
    },
    {
     "name": "stdout",
     "output_type": "stream",
     "text": [
      "{'max_depth': 10, 'min_samples_leaf': 12, 'min_samples_split': 8, 'n_estimators': 70}\n",
      "SMAPE: 5.789401204125523\n",
      "===== < BUILDING NO.41 > =====\n",
      "Fitting 5 folds for each of 180 candidates, totalling 900 fits\n"
     ]
    },
    {
     "name": "stderr",
     "output_type": "stream",
     "text": [
      " 41%|████      | 41/100 [1:42:01<2:28:04, 150.59s/it]"
     ]
    },
    {
     "name": "stdout",
     "output_type": "stream",
     "text": [
      "{'max_depth': 12, 'min_samples_leaf': 8, 'min_samples_split': 20, 'n_estimators': 70}\n",
      "SMAPE: 2.3700680299076198\n",
      "===== < BUILDING NO.42 > =====\n",
      "Fitting 5 folds for each of 180 candidates, totalling 900 fits\n"
     ]
    },
    {
     "name": "stderr",
     "output_type": "stream",
     "text": [
      " 42%|████▏     | 42/100 [1:44:32<2:25:26, 150.45s/it]"
     ]
    },
    {
     "name": "stdout",
     "output_type": "stream",
     "text": [
      "{'max_depth': 10, 'min_samples_leaf': 8, 'min_samples_split': 20, 'n_estimators': 150}\n",
      "SMAPE: 5.850944937098804\n",
      "===== < BUILDING NO.43 > =====\n",
      "Fitting 5 folds for each of 180 candidates, totalling 900 fits\n"
     ]
    },
    {
     "name": "stderr",
     "output_type": "stream",
     "text": [
      " 43%|████▎     | 43/100 [1:47:01<2:22:38, 150.15s/it]"
     ]
    },
    {
     "name": "stdout",
     "output_type": "stream",
     "text": [
      "{'max_depth': 10, 'min_samples_leaf': 8, 'min_samples_split': 8, 'n_estimators': 50}\n",
      "SMAPE: 3.1565088238707752\n",
      "===== < BUILDING NO.44 > =====\n",
      "Fitting 5 folds for each of 180 candidates, totalling 900 fits\n"
     ]
    },
    {
     "name": "stderr",
     "output_type": "stream",
     "text": [
      " 44%|████▍     | 44/100 [1:49:30<2:19:53, 149.88s/it]"
     ]
    },
    {
     "name": "stdout",
     "output_type": "stream",
     "text": [
      "{'max_depth': 12, 'min_samples_leaf': 8, 'min_samples_split': 8, 'n_estimators': 50}\n",
      "SMAPE: 2.350829009069913\n",
      "===== < BUILDING NO.45 > =====\n",
      "Fitting 5 folds for each of 180 candidates, totalling 900 fits\n"
     ]
    },
    {
     "name": "stderr",
     "output_type": "stream",
     "text": [
      " 45%|████▌     | 45/100 [1:51:59<2:17:07, 149.59s/it]"
     ]
    },
    {
     "name": "stdout",
     "output_type": "stream",
     "text": [
      "{'max_depth': 12, 'min_samples_leaf': 8, 'min_samples_split': 8, 'n_estimators': 50}\n",
      "SMAPE: 1.680819579060943\n",
      "===== < BUILDING NO.46 > =====\n",
      "Fitting 5 folds for each of 180 candidates, totalling 900 fits\n"
     ]
    },
    {
     "name": "stderr",
     "output_type": "stream",
     "text": [
      " 46%|████▌     | 46/100 [1:54:27<2:14:13, 149.14s/it]"
     ]
    },
    {
     "name": "stdout",
     "output_type": "stream",
     "text": [
      "{'max_depth': 8, 'min_samples_leaf': 8, 'min_samples_split': 8, 'n_estimators': 150}\n",
      "SMAPE: 2.4162409238163574\n",
      "===== < BUILDING NO.47 > =====\n",
      "Fitting 5 folds for each of 180 candidates, totalling 900 fits\n"
     ]
    },
    {
     "name": "stderr",
     "output_type": "stream",
     "text": [
      " 47%|████▋     | 47/100 [1:56:56<2:11:40, 149.06s/it]"
     ]
    },
    {
     "name": "stdout",
     "output_type": "stream",
     "text": [
      "{'max_depth': 12, 'min_samples_leaf': 8, 'min_samples_split': 8, 'n_estimators': 150}\n",
      "SMAPE: 2.222375832826479\n",
      "===== < BUILDING NO.48 > =====\n",
      "Fitting 5 folds for each of 180 candidates, totalling 900 fits\n"
     ]
    },
    {
     "name": "stderr",
     "output_type": "stream",
     "text": [
      " 48%|████▊     | 48/100 [1:59:19<2:07:37, 147.25s/it]"
     ]
    },
    {
     "name": "stdout",
     "output_type": "stream",
     "text": [
      "{'max_depth': 12, 'min_samples_leaf': 8, 'min_samples_split': 8, 'n_estimators': 150}\n",
      "SMAPE: 1.252752796783368\n",
      "===== < BUILDING NO.49 > =====\n",
      "Fitting 5 folds for each of 180 candidates, totalling 900 fits\n"
     ]
    },
    {
     "name": "stderr",
     "output_type": "stream",
     "text": [
      " 49%|████▉     | 49/100 [2:01:42<2:04:08, 146.04s/it]"
     ]
    },
    {
     "name": "stdout",
     "output_type": "stream",
     "text": [
      "{'max_depth': 12, 'min_samples_leaf': 8, 'min_samples_split': 8, 'n_estimators': 150}\n",
      "SMAPE: 1.7991857408869918\n",
      "===== < BUILDING NO.50 > =====\n",
      "Fitting 5 folds for each of 180 candidates, totalling 900 fits\n"
     ]
    },
    {
     "name": "stderr",
     "output_type": "stream",
     "text": [
      " 50%|█████     | 50/100 [2:04:08<2:01:36, 145.93s/it]"
     ]
    },
    {
     "name": "stdout",
     "output_type": "stream",
     "text": [
      "{'max_depth': 12, 'min_samples_leaf': 8, 'min_samples_split': 8, 'n_estimators': 150}\n",
      "SMAPE: 1.3538847987770846\n",
      "===== < BUILDING NO.51 > =====\n",
      "Fitting 5 folds for each of 180 candidates, totalling 900 fits\n"
     ]
    },
    {
     "name": "stderr",
     "output_type": "stream",
     "text": [
      " 51%|█████     | 51/100 [2:06:38<2:00:06, 147.07s/it]"
     ]
    },
    {
     "name": "stdout",
     "output_type": "stream",
     "text": [
      "{'max_depth': 10, 'min_samples_leaf': 8, 'min_samples_split': 8, 'n_estimators': 100}\n",
      "SMAPE: 2.1487065045158653\n",
      "===== < BUILDING NO.52 > =====\n",
      "Fitting 5 folds for each of 180 candidates, totalling 900 fits\n"
     ]
    },
    {
     "name": "stderr",
     "output_type": "stream",
     "text": [
      " 52%|█████▏    | 52/100 [2:09:06<1:57:58, 147.46s/it]"
     ]
    },
    {
     "name": "stdout",
     "output_type": "stream",
     "text": [
      "{'max_depth': 8, 'min_samples_leaf': 8, 'min_samples_split': 8, 'n_estimators': 100}\n",
      "SMAPE: 2.0408157640229225\n",
      "===== < BUILDING NO.53 > =====\n",
      "Fitting 5 folds for each of 180 candidates, totalling 900 fits\n"
     ]
    },
    {
     "name": "stderr",
     "output_type": "stream",
     "text": [
      " 53%|█████▎    | 53/100 [2:11:37<1:56:12, 148.36s/it]"
     ]
    },
    {
     "name": "stdout",
     "output_type": "stream",
     "text": [
      "{'max_depth': 10, 'min_samples_leaf': 8, 'min_samples_split': 8, 'n_estimators': 100}\n",
      "SMAPE: 5.619958627328167\n",
      "===== < BUILDING NO.54 > =====\n",
      "Fitting 5 folds for each of 180 candidates, totalling 900 fits\n"
     ]
    },
    {
     "name": "stderr",
     "output_type": "stream",
     "text": [
      " 54%|█████▍    | 54/100 [2:14:06<1:53:56, 148.62s/it]"
     ]
    },
    {
     "name": "stdout",
     "output_type": "stream",
     "text": [
      "{'max_depth': 6, 'min_samples_leaf': 8, 'min_samples_split': 8, 'n_estimators': 100}\n",
      "SMAPE: 9.512157776450604\n",
      "===== < BUILDING NO.55 > =====\n",
      "Fitting 5 folds for each of 180 candidates, totalling 900 fits\n"
     ]
    },
    {
     "name": "stderr",
     "output_type": "stream",
     "text": [
      " 55%|█████▌    | 55/100 [2:16:30<1:50:27, 147.28s/it]"
     ]
    },
    {
     "name": "stdout",
     "output_type": "stream",
     "text": [
      "{'max_depth': 12, 'min_samples_leaf': 8, 'min_samples_split': 8, 'n_estimators': 150}\n",
      "SMAPE: 0.7903171536781615\n",
      "===== < BUILDING NO.56 > =====\n",
      "Fitting 5 folds for each of 180 candidates, totalling 900 fits\n"
     ]
    },
    {
     "name": "stderr",
     "output_type": "stream",
     "text": [
      " 56%|█████▌    | 56/100 [2:19:00<1:48:41, 148.21s/it]"
     ]
    },
    {
     "name": "stdout",
     "output_type": "stream",
     "text": [
      "{'max_depth': 12, 'min_samples_leaf': 8, 'min_samples_split': 8, 'n_estimators': 70}\n",
      "SMAPE: 0.4034406317630422\n",
      "===== < BUILDING NO.57 > =====\n",
      "Fitting 5 folds for each of 180 candidates, totalling 900 fits\n"
     ]
    },
    {
     "name": "stderr",
     "output_type": "stream",
     "text": [
      " 57%|█████▋    | 57/100 [2:21:29<1:46:18, 148.35s/it]"
     ]
    },
    {
     "name": "stdout",
     "output_type": "stream",
     "text": [
      "{'max_depth': 8, 'min_samples_leaf': 8, 'min_samples_split': 8, 'n_estimators': 50}\n",
      "SMAPE: 2.3408428318273358\n",
      "===== < BUILDING NO.58 > =====\n",
      "Fitting 5 folds for each of 180 candidates, totalling 900 fits\n"
     ]
    },
    {
     "name": "stderr",
     "output_type": "stream",
     "text": [
      " 58%|█████▊    | 58/100 [2:23:57<1:43:50, 148.33s/it]"
     ]
    },
    {
     "name": "stdout",
     "output_type": "stream",
     "text": [
      "{'max_depth': 8, 'min_samples_leaf': 8, 'min_samples_split': 8, 'n_estimators': 30}\n",
      "SMAPE: 0.2861360028584648\n",
      "===== < BUILDING NO.59 > =====\n",
      "Fitting 5 folds for each of 180 candidates, totalling 900 fits\n"
     ]
    },
    {
     "name": "stderr",
     "output_type": "stream",
     "text": [
      " 59%|█████▉    | 59/100 [2:26:30<1:42:17, 149.70s/it]"
     ]
    },
    {
     "name": "stdout",
     "output_type": "stream",
     "text": [
      "{'max_depth': 10, 'min_samples_leaf': 8, 'min_samples_split': 8, 'n_estimators': 70}\n",
      "SMAPE: 2.8412030924813805\n",
      "===== < BUILDING NO.60 > =====\n",
      "Fitting 5 folds for each of 180 candidates, totalling 900 fits\n"
     ]
    },
    {
     "name": "stderr",
     "output_type": "stream",
     "text": [
      " 60%|██████    | 60/100 [2:29:02<1:40:15, 150.39s/it]"
     ]
    },
    {
     "name": "stdout",
     "output_type": "stream",
     "text": [
      "{'max_depth': 10, 'min_samples_leaf': 8, 'min_samples_split': 8, 'n_estimators': 150}\n",
      "SMAPE: 3.4471212007760275\n",
      "===== < BUILDING NO.61 > =====\n",
      "Fitting 5 folds for each of 180 candidates, totalling 900 fits\n"
     ]
    },
    {
     "name": "stderr",
     "output_type": "stream",
     "text": [
      " 61%|██████    | 61/100 [2:31:29<1:37:07, 149.43s/it]"
     ]
    },
    {
     "name": "stdout",
     "output_type": "stream",
     "text": [
      "{'max_depth': 12, 'min_samples_leaf': 8, 'min_samples_split': 8, 'n_estimators': 100}\n",
      "SMAPE: 2.6694640249424926\n",
      "===== < BUILDING NO.62 > =====\n",
      "Fitting 5 folds for each of 180 candidates, totalling 900 fits\n"
     ]
    },
    {
     "name": "stderr",
     "output_type": "stream",
     "text": [
      " 62%|██████▏   | 62/100 [2:33:56<1:34:05, 148.55s/it]"
     ]
    },
    {
     "name": "stdout",
     "output_type": "stream",
     "text": [
      "{'max_depth': 10, 'min_samples_leaf': 8, 'min_samples_split': 8, 'n_estimators': 70}\n",
      "SMAPE: 2.9761009640182317\n",
      "===== < BUILDING NO.63 > =====\n",
      "Fitting 5 folds for each of 180 candidates, totalling 900 fits\n"
     ]
    },
    {
     "name": "stderr",
     "output_type": "stream",
     "text": [
      " 63%|██████▎   | 63/100 [2:36:23<1:31:17, 148.05s/it]"
     ]
    },
    {
     "name": "stdout",
     "output_type": "stream",
     "text": [
      "{'max_depth': 12, 'min_samples_leaf': 8, 'min_samples_split': 8, 'n_estimators': 100}\n",
      "SMAPE: 3.503682144904453\n",
      "===== < BUILDING NO.64 > =====\n",
      "Fitting 5 folds for each of 180 candidates, totalling 900 fits\n"
     ]
    },
    {
     "name": "stderr",
     "output_type": "stream",
     "text": [
      " 64%|██████▍   | 64/100 [2:38:48<1:28:19, 147.20s/it]"
     ]
    },
    {
     "name": "stdout",
     "output_type": "stream",
     "text": [
      "{'max_depth': 10, 'min_samples_leaf': 8, 'min_samples_split': 8, 'n_estimators': 100}\n",
      "SMAPE: 2.4709048613822553\n",
      "===== < BUILDING NO.65 > =====\n",
      "Fitting 5 folds for each of 180 candidates, totalling 900 fits\n"
     ]
    },
    {
     "name": "stderr",
     "output_type": "stream",
     "text": [
      " 65%|██████▌   | 65/100 [2:41:10<1:24:55, 145.58s/it]"
     ]
    },
    {
     "name": "stdout",
     "output_type": "stream",
     "text": [
      "{'max_depth': 12, 'min_samples_leaf': 8, 'min_samples_split': 8, 'n_estimators': 70}\n",
      "SMAPE: 5.000456045615479\n",
      "===== < BUILDING NO.66 > =====\n",
      "Fitting 5 folds for each of 180 candidates, totalling 900 fits\n"
     ]
    },
    {
     "name": "stderr",
     "output_type": "stream",
     "text": [
      " 66%|██████▌   | 66/100 [2:43:34<1:22:20, 145.30s/it]"
     ]
    },
    {
     "name": "stdout",
     "output_type": "stream",
     "text": [
      "{'max_depth': 12, 'min_samples_leaf': 8, 'min_samples_split': 8, 'n_estimators': 100}\n",
      "SMAPE: 2.5415428013389474\n",
      "===== < BUILDING NO.67 > =====\n",
      "Fitting 5 folds for each of 180 candidates, totalling 900 fits\n"
     ]
    },
    {
     "name": "stderr",
     "output_type": "stream",
     "text": [
      " 67%|██████▋   | 67/100 [2:45:59<1:19:50, 145.15s/it]"
     ]
    },
    {
     "name": "stdout",
     "output_type": "stream",
     "text": [
      "{'max_depth': 12, 'min_samples_leaf': 8, 'min_samples_split': 8, 'n_estimators': 150}\n",
      "SMAPE: 3.392291631802414\n",
      "===== < BUILDING NO.68 > =====\n",
      "Fitting 5 folds for each of 180 candidates, totalling 900 fits\n"
     ]
    },
    {
     "name": "stderr",
     "output_type": "stream",
     "text": [
      " 68%|██████▊   | 68/100 [2:48:26<1:17:36, 145.52s/it]"
     ]
    },
    {
     "name": "stdout",
     "output_type": "stream",
     "text": [
      "{'max_depth': 12, 'min_samples_leaf': 8, 'min_samples_split': 8, 'n_estimators': 70}\n",
      "SMAPE: 2.927633462787152\n",
      "===== < BUILDING NO.69 > =====\n",
      "Fitting 5 folds for each of 180 candidates, totalling 900 fits\n"
     ]
    },
    {
     "name": "stderr",
     "output_type": "stream",
     "text": [
      " 69%|██████▉   | 69/100 [2:50:55<1:15:49, 146.77s/it]"
     ]
    },
    {
     "name": "stdout",
     "output_type": "stream",
     "text": [
      "{'max_depth': 12, 'min_samples_leaf': 8, 'min_samples_split': 8, 'n_estimators': 150}\n",
      "SMAPE: 1.3872379222731837\n",
      "===== < BUILDING NO.70 > =====\n",
      "Fitting 5 folds for each of 180 candidates, totalling 900 fits\n"
     ]
    },
    {
     "name": "stderr",
     "output_type": "stream",
     "text": [
      " 70%|███████   | 70/100 [2:53:28<1:14:14, 148.49s/it]"
     ]
    },
    {
     "name": "stdout",
     "output_type": "stream",
     "text": [
      "{'max_depth': 10, 'min_samples_leaf': 18, 'min_samples_split': 8, 'n_estimators': 150}\n",
      "SMAPE: 3.4329948365959693\n",
      "===== < BUILDING NO.71 > =====\n",
      "Fitting 5 folds for each of 180 candidates, totalling 900 fits\n"
     ]
    },
    {
     "name": "stderr",
     "output_type": "stream",
     "text": [
      " 71%|███████   | 71/100 [2:55:57<1:11:49, 148.61s/it]"
     ]
    },
    {
     "name": "stdout",
     "output_type": "stream",
     "text": [
      "{'max_depth': 12, 'min_samples_leaf': 8, 'min_samples_split': 8, 'n_estimators': 150}\n",
      "SMAPE: 2.6365946851364144\n",
      "===== < BUILDING NO.72 > =====\n",
      "Fitting 5 folds for each of 180 candidates, totalling 900 fits\n"
     ]
    },
    {
     "name": "stderr",
     "output_type": "stream",
     "text": [
      " 72%|███████▏  | 72/100 [2:58:19<1:08:31, 146.85s/it]"
     ]
    },
    {
     "name": "stdout",
     "output_type": "stream",
     "text": [
      "{'max_depth': 10, 'min_samples_leaf': 8, 'min_samples_split': 8, 'n_estimators': 50}\n",
      "SMAPE: 2.913706685466235\n",
      "===== < BUILDING NO.73 > =====\n",
      "Fitting 5 folds for each of 180 candidates, totalling 900 fits\n"
     ]
    },
    {
     "name": "stderr",
     "output_type": "stream",
     "text": [
      " 73%|███████▎  | 73/100 [3:00:47<1:06:07, 146.93s/it]"
     ]
    },
    {
     "name": "stdout",
     "output_type": "stream",
     "text": [
      "{'max_depth': 12, 'min_samples_leaf': 8, 'min_samples_split': 8, 'n_estimators': 150}\n",
      "SMAPE: 1.7781505101405435\n",
      "===== < BUILDING NO.74 > =====\n",
      "Fitting 5 folds for each of 180 candidates, totalling 900 fits\n"
     ]
    },
    {
     "name": "stderr",
     "output_type": "stream",
     "text": [
      " 74%|███████▍  | 74/100 [3:03:17<1:04:05, 147.92s/it]"
     ]
    },
    {
     "name": "stdout",
     "output_type": "stream",
     "text": [
      "{'max_depth': 12, 'min_samples_leaf': 8, 'min_samples_split': 8, 'n_estimators': 150}\n",
      "SMAPE: 3.2626865403394114\n",
      "===== < BUILDING NO.75 > =====\n",
      "Fitting 5 folds for each of 180 candidates, totalling 900 fits\n"
     ]
    },
    {
     "name": "stderr",
     "output_type": "stream",
     "text": [
      " 75%|███████▌  | 75/100 [3:05:42<1:01:20, 147.24s/it]"
     ]
    },
    {
     "name": "stdout",
     "output_type": "stream",
     "text": [
      "{'max_depth': 10, 'min_samples_leaf': 18, 'min_samples_split': 8, 'n_estimators': 30}\n",
      "SMAPE: 1.905127897972115\n",
      "===== < BUILDING NO.76 > =====\n",
      "Fitting 5 folds for each of 180 candidates, totalling 900 fits\n"
     ]
    },
    {
     "name": "stderr",
     "output_type": "stream",
     "text": [
      " 76%|███████▌  | 76/100 [3:08:09<58:45, 146.89s/it]  "
     ]
    },
    {
     "name": "stdout",
     "output_type": "stream",
     "text": [
      "{'max_depth': 12, 'min_samples_leaf': 8, 'min_samples_split': 20, 'n_estimators': 150}\n",
      "SMAPE: 2.7341281581910777\n",
      "===== < BUILDING NO.77 > =====\n",
      "Fitting 5 folds for each of 180 candidates, totalling 900 fits\n"
     ]
    },
    {
     "name": "stderr",
     "output_type": "stream",
     "text": [
      " 77%|███████▋  | 77/100 [3:10:38<56:38, 147.75s/it]"
     ]
    },
    {
     "name": "stdout",
     "output_type": "stream",
     "text": [
      "{'max_depth': 10, 'min_samples_leaf': 8, 'min_samples_split': 8, 'n_estimators': 150}\n",
      "SMAPE: 1.3804718073399467\n",
      "===== < BUILDING NO.78 > =====\n",
      "Fitting 5 folds for each of 180 candidates, totalling 900 fits\n"
     ]
    },
    {
     "name": "stderr",
     "output_type": "stream",
     "text": [
      " 78%|███████▊  | 78/100 [3:13:10<54:33, 148.80s/it]"
     ]
    },
    {
     "name": "stdout",
     "output_type": "stream",
     "text": [
      "{'max_depth': 12, 'min_samples_leaf': 8, 'min_samples_split': 8, 'n_estimators': 150}\n",
      "SMAPE: 1.8588523943087272\n",
      "===== < BUILDING NO.79 > =====\n",
      "Fitting 5 folds for each of 180 candidates, totalling 900 fits\n"
     ]
    },
    {
     "name": "stderr",
     "output_type": "stream",
     "text": [
      " 79%|███████▉  | 79/100 [3:15:40<52:14, 149.24s/it]"
     ]
    },
    {
     "name": "stdout",
     "output_type": "stream",
     "text": [
      "{'max_depth': 12, 'min_samples_leaf': 8, 'min_samples_split': 8, 'n_estimators': 70}\n",
      "SMAPE: 1.3397163491545003\n",
      "===== < BUILDING NO.80 > =====\n",
      "Fitting 5 folds for each of 180 candidates, totalling 900 fits\n"
     ]
    },
    {
     "name": "stderr",
     "output_type": "stream",
     "text": [
      " 80%|████████  | 80/100 [3:18:11<49:59, 149.95s/it]"
     ]
    },
    {
     "name": "stdout",
     "output_type": "stream",
     "text": [
      "{'max_depth': 12, 'min_samples_leaf': 8, 'min_samples_split': 8, 'n_estimators': 150}\n",
      "SMAPE: 2.513995230916446\n",
      "===== < BUILDING NO.81 > =====\n",
      "Fitting 5 folds for each of 180 candidates, totalling 900 fits\n"
     ]
    },
    {
     "name": "stderr",
     "output_type": "stream",
     "text": [
      " 81%|████████  | 81/100 [3:20:43<47:38, 150.44s/it]"
     ]
    },
    {
     "name": "stdout",
     "output_type": "stream",
     "text": [
      "{'max_depth': 10, 'min_samples_leaf': 8, 'min_samples_split': 8, 'n_estimators': 150}\n",
      "SMAPE: 1.6631727160230574\n",
      "===== < BUILDING NO.82 > =====\n",
      "Fitting 5 folds for each of 180 candidates, totalling 900 fits\n"
     ]
    },
    {
     "name": "stderr",
     "output_type": "stream",
     "text": [
      " 82%|████████▏ | 82/100 [3:23:12<44:58, 149.90s/it]"
     ]
    },
    {
     "name": "stdout",
     "output_type": "stream",
     "text": [
      "{'max_depth': 10, 'min_samples_leaf': 8, 'min_samples_split': 8, 'n_estimators': 150}\n",
      "SMAPE: 2.4241549745579833\n",
      "===== < BUILDING NO.83 > =====\n",
      "Fitting 5 folds for each of 180 candidates, totalling 900 fits\n"
     ]
    },
    {
     "name": "stderr",
     "output_type": "stream",
     "text": [
      " 83%|████████▎ | 83/100 [3:25:42<42:32, 150.14s/it]"
     ]
    },
    {
     "name": "stdout",
     "output_type": "stream",
     "text": [
      "{'max_depth': 12, 'min_samples_leaf': 8, 'min_samples_split': 8, 'n_estimators': 150}\n",
      "SMAPE: 1.7105807265322521\n",
      "===== < BUILDING NO.84 > =====\n",
      "Fitting 5 folds for each of 180 candidates, totalling 900 fits\n"
     ]
    },
    {
     "name": "stderr",
     "output_type": "stream",
     "text": [
      " 84%|████████▍ | 84/100 [3:28:11<39:55, 149.72s/it]"
     ]
    },
    {
     "name": "stdout",
     "output_type": "stream",
     "text": [
      "{'max_depth': 12, 'min_samples_leaf': 8, 'min_samples_split': 8, 'n_estimators': 150}\n",
      "SMAPE: 1.7844378031919506\n",
      "===== < BUILDING NO.85 > =====\n",
      "Fitting 5 folds for each of 180 candidates, totalling 900 fits\n"
     ]
    },
    {
     "name": "stderr",
     "output_type": "stream",
     "text": [
      " 85%|████████▌ | 85/100 [3:30:40<37:22, 149.51s/it]"
     ]
    },
    {
     "name": "stdout",
     "output_type": "stream",
     "text": [
      "{'max_depth': 12, 'min_samples_leaf': 8, 'min_samples_split': 8, 'n_estimators': 50}\n",
      "SMAPE: 2.3432714422991068\n",
      "===== < BUILDING NO.86 > =====\n",
      "Fitting 5 folds for each of 180 candidates, totalling 900 fits\n"
     ]
    },
    {
     "name": "stderr",
     "output_type": "stream",
     "text": [
      " 86%|████████▌ | 86/100 [3:33:11<34:59, 149.93s/it]"
     ]
    },
    {
     "name": "stdout",
     "output_type": "stream",
     "text": [
      "{'max_depth': 12, 'min_samples_leaf': 8, 'min_samples_split': 20, 'n_estimators': 100}\n",
      "SMAPE: 3.622456418850993\n",
      "===== < BUILDING NO.87 > =====\n",
      "Fitting 5 folds for each of 180 candidates, totalling 900 fits\n"
     ]
    },
    {
     "name": "stderr",
     "output_type": "stream",
     "text": [
      " 87%|████████▋ | 87/100 [3:35:40<32:24, 149.54s/it]"
     ]
    },
    {
     "name": "stdout",
     "output_type": "stream",
     "text": [
      "{'max_depth': 12, 'min_samples_leaf': 8, 'min_samples_split': 8, 'n_estimators': 70}\n",
      "SMAPE: 5.400051846923385\n",
      "===== < BUILDING NO.88 > =====\n",
      "Fitting 5 folds for each of 180 candidates, totalling 900 fits\n"
     ]
    },
    {
     "name": "stderr",
     "output_type": "stream",
     "text": [
      " 88%|████████▊ | 88/100 [3:38:12<30:05, 150.46s/it]"
     ]
    },
    {
     "name": "stdout",
     "output_type": "stream",
     "text": [
      "{'max_depth': 12, 'min_samples_leaf': 8, 'min_samples_split': 20, 'n_estimators': 30}\n",
      "SMAPE: 3.102512091345232\n",
      "===== < BUILDING NO.89 > =====\n",
      "Fitting 5 folds for each of 180 candidates, totalling 900 fits\n"
     ]
    },
    {
     "name": "stderr",
     "output_type": "stream",
     "text": [
      " 89%|████████▉ | 89/100 [3:40:42<27:34, 150.39s/it]"
     ]
    },
    {
     "name": "stdout",
     "output_type": "stream",
     "text": [
      "{'max_depth': 10, 'min_samples_leaf': 8, 'min_samples_split': 8, 'n_estimators': 100}\n",
      "SMAPE: 3.661464699562691\n",
      "===== < BUILDING NO.90 > =====\n",
      "Fitting 5 folds for each of 180 candidates, totalling 900 fits\n"
     ]
    },
    {
     "name": "stderr",
     "output_type": "stream",
     "text": [
      " 90%|█████████ | 90/100 [3:43:16<25:11, 151.19s/it]"
     ]
    },
    {
     "name": "stdout",
     "output_type": "stream",
     "text": [
      "{'max_depth': 10, 'min_samples_leaf': 8, 'min_samples_split': 8, 'n_estimators': 100}\n",
      "SMAPE: 3.5033587778450004\n",
      "===== < BUILDING NO.91 > =====\n",
      "Fitting 5 folds for each of 180 candidates, totalling 900 fits\n"
     ]
    },
    {
     "name": "stderr",
     "output_type": "stream",
     "text": [
      " 91%|█████████ | 91/100 [3:45:46<22:37, 150.83s/it]"
     ]
    },
    {
     "name": "stdout",
     "output_type": "stream",
     "text": [
      "{'max_depth': 10, 'min_samples_leaf': 8, 'min_samples_split': 8, 'n_estimators': 150}\n",
      "SMAPE: 6.211673265338521\n",
      "===== < BUILDING NO.92 > =====\n",
      "Fitting 5 folds for each of 180 candidates, totalling 900 fits\n"
     ]
    },
    {
     "name": "stderr",
     "output_type": "stream",
     "text": [
      " 92%|█████████▏| 92/100 [3:48:18<20:11, 151.44s/it]"
     ]
    },
    {
     "name": "stdout",
     "output_type": "stream",
     "text": [
      "{'max_depth': 10, 'min_samples_leaf': 8, 'min_samples_split': 20, 'n_estimators': 70}\n",
      "SMAPE: 3.1944882260505283\n",
      "===== < BUILDING NO.93 > =====\n",
      "Fitting 5 folds for each of 180 candidates, totalling 900 fits\n"
     ]
    },
    {
     "name": "stderr",
     "output_type": "stream",
     "text": [
      " 93%|█████████▎| 93/100 [3:50:48<17:37, 151.02s/it]"
     ]
    },
    {
     "name": "stdout",
     "output_type": "stream",
     "text": [
      "{'max_depth': 12, 'min_samples_leaf': 8, 'min_samples_split': 8, 'n_estimators': 50}\n",
      "SMAPE: 3.3251798994406743\n",
      "===== < BUILDING NO.94 > =====\n",
      "Fitting 5 folds for each of 180 candidates, totalling 900 fits\n"
     ]
    },
    {
     "name": "stderr",
     "output_type": "stream",
     "text": [
      " 94%|█████████▍| 94/100 [3:53:17<15:01, 150.33s/it]"
     ]
    },
    {
     "name": "stdout",
     "output_type": "stream",
     "text": [
      "{'max_depth': 10, 'min_samples_leaf': 8, 'min_samples_split': 8, 'n_estimators': 150}\n",
      "SMAPE: 3.0058307993349924\n",
      "===== < BUILDING NO.95 > =====\n",
      "Fitting 5 folds for each of 180 candidates, totalling 900 fits\n"
     ]
    }
   ],
   "source": [
    "df = pd.DataFrame(columns = ['n_estimators', 'max_depth', 'min_samples_leaf', 'min_samples_split'])\n",
    "preds = np.array([])\n",
    "grid = {\n",
    "    'n_estimators': [30, 50, 70, 100, 150],\n",
    "    'max_depth': [6, 8, 10, 12],\n",
    "    'min_samples_leaf': [8, 12, 18],\n",
    "    'min_samples_split': [8, 16, 20]\n",
    "}\n",
    "\n",
    "for i in tqdm(range(100)):\n",
    "    print(f\"===== < BUILDING NO.{i+1} > =====\")\n",
    "    x_train, x_valid, y_train, y_valid = tr_ts_split(train.dropna(), test, i+1, 7*24)\n",
    "    gcv = GridSearchCV(estimator=RandomForestRegressor(random_state=0),\n",
    "                       param_grid=grid,\n",
    "                       scoring=make_scorer(SMAPE, greater_is_better=False),\n",
    "                       cv=5,\n",
    "                       refit=True,\n",
    "                       verbose=True)\n",
    "    gcv.fit(x_train, y_train)\n",
    "    best = gcv.best_estimator_\n",
    "    params = gcv.best_params_\n",
    "    print(params)\n",
    "    pred = best.predict(x_valid)\n",
    "    print(f'SMAPE: {SMAPE(y_valid, pred)}')\n",
    "    preds = np.append(preds, pred)\n",
    "    df = pd.concat([df, pd.DataFrame(params, index=[0])], axis=0)"
   ]
  },
  {
   "cell_type": "code",
   "execution_count": 133,
   "id": "67198aea-4e7f-4e7a-8686-33f0b0723132",
   "metadata": {},
   "outputs": [],
   "source": [
    "df.to_csv('hyperparameter_xgb.csv', index=False)"
   ]
  },
  {
   "cell_type": "code",
   "execution_count": 84,
   "id": "e42b8fd9-72c4-4c3b-9982-d6ce8995e37c",
   "metadata": {},
   "outputs": [],
   "source": [
    "rf_params = df"
   ]
  },
  {
   "cell_type": "code",
   "execution_count": 85,
   "id": "9da35a00-398a-4045-a7f6-203b00aac8e0",
   "metadata": {},
   "outputs": [
    {
     "data": {
      "text/html": [
       "<div>\n",
       "<style scoped>\n",
       "    .dataframe tbody tr th:only-of-type {\n",
       "        vertical-align: middle;\n",
       "    }\n",
       "\n",
       "    .dataframe tbody tr th {\n",
       "        vertical-align: top;\n",
       "    }\n",
       "\n",
       "    .dataframe thead th {\n",
       "        text-align: right;\n",
       "    }\n",
       "</style>\n",
       "<table border=\"1\" class=\"dataframe\">\n",
       "  <thead>\n",
       "    <tr style=\"text-align: right;\">\n",
       "      <th></th>\n",
       "      <th>n_estimators</th>\n",
       "      <th>max_depth</th>\n",
       "      <th>min_samples_leaf</th>\n",
       "      <th>min_samples_split</th>\n",
       "    </tr>\n",
       "  </thead>\n",
       "  <tbody>\n",
       "    <tr>\n",
       "      <th>0</th>\n",
       "      <td>150</td>\n",
       "      <td>8</td>\n",
       "      <td>8</td>\n",
       "      <td>8</td>\n",
       "    </tr>\n",
       "    <tr>\n",
       "      <th>0</th>\n",
       "      <td>100</td>\n",
       "      <td>8</td>\n",
       "      <td>8</td>\n",
       "      <td>8</td>\n",
       "    </tr>\n",
       "    <tr>\n",
       "      <th>0</th>\n",
       "      <td>30</td>\n",
       "      <td>6</td>\n",
       "      <td>8</td>\n",
       "      <td>8</td>\n",
       "    </tr>\n",
       "    <tr>\n",
       "      <th>0</th>\n",
       "      <td>100</td>\n",
       "      <td>8</td>\n",
       "      <td>8</td>\n",
       "      <td>8</td>\n",
       "    </tr>\n",
       "    <tr>\n",
       "      <th>0</th>\n",
       "      <td>50</td>\n",
       "      <td>10</td>\n",
       "      <td>8</td>\n",
       "      <td>8</td>\n",
       "    </tr>\n",
       "  </tbody>\n",
       "</table>\n",
       "</div>"
      ],
      "text/plain": [
       "  n_estimators max_depth min_samples_leaf min_samples_split\n",
       "0          150         8                8                 8\n",
       "0          100         8                8                 8\n",
       "0           30         6                8                 8\n",
       "0          100         8                8                 8\n",
       "0           50        10                8                 8"
      ]
     },
     "execution_count": 85,
     "metadata": {},
     "output_type": "execute_result"
    }
   ],
   "source": [
    "rf_params.head()"
   ]
  },
  {
   "cell_type": "code",
   "execution_count": 90,
   "id": "b90b0332-ebf7-43f7-a234-cd2b66b8de50",
   "metadata": {},
   "outputs": [
    {
     "name": "stderr",
     "output_type": "stream",
     "text": [
      "  8%|▊         | 8/100 [00:15<03:02,  1.98s/it]\n"
     ]
    },
    {
     "ename": "IndexError",
     "evalue": "index 8 is out of bounds for axis 0 with size 8",
     "output_type": "error",
     "traceback": [
      "\u001b[0;31m---------------------------------------------------------------------------\u001b[0m",
      "\u001b[0;31mIndexError\u001b[0m                                Traceback (most recent call last)",
      "Cell \u001b[0;32mIn[90], line 9\u001b[0m\n\u001b[1;32m      6\u001b[0m y_train \u001b[38;5;241m=\u001b[39m train\u001b[38;5;241m.\u001b[39mloc[train[\u001b[38;5;124m'\u001b[39m\u001b[38;5;124m건물번호\u001b[39m\u001b[38;5;124m'\u001b[39m]\u001b[38;5;241m==\u001b[39mi\u001b[38;5;241m+\u001b[39m\u001b[38;5;241m1\u001b[39m, \u001b[38;5;124m'\u001b[39m\u001b[38;5;124mpower\u001b[39m\u001b[38;5;124m'\u001b[39m]\n\u001b[1;32m      7\u001b[0m x_test \u001b[38;5;241m=\u001b[39m test\u001b[38;5;241m.\u001b[39mloc[test[\u001b[38;5;124m'\u001b[39m\u001b[38;5;124m건물번호\u001b[39m\u001b[38;5;124m'\u001b[39m]\u001b[38;5;241m==\u001b[39mi\u001b[38;5;241m+\u001b[39m\u001b[38;5;241m1\u001b[39m,]\u001b[38;5;241m.\u001b[39mdrop(\u001b[38;5;124m'\u001b[39m\u001b[38;5;124m건물번호\u001b[39m\u001b[38;5;124m'\u001b[39m, axis\u001b[38;5;241m=\u001b[39m\u001b[38;5;241m1\u001b[39m)\n\u001b[0;32m----> 9\u001b[0m rf \u001b[38;5;241m=\u001b[39m RandomForestRegressor(random_state\u001b[38;5;241m=\u001b[39mseed, n_estimators\u001b[38;5;241m=\u001b[39m\u001b[43mrf_params\u001b[49m\u001b[38;5;241;43m.\u001b[39;49m\u001b[43miloc\u001b[49m\u001b[43m[\u001b[49m\u001b[43mi\u001b[49m\u001b[43m,\u001b[49m\u001b[43m \u001b[49m\u001b[38;5;241;43m0\u001b[39;49m\u001b[43m]\u001b[49m,\n\u001b[1;32m     10\u001b[0m                            max_depth\u001b[38;5;241m=\u001b[39mrf_params\u001b[38;5;241m.\u001b[39miloc[i, \u001b[38;5;241m1\u001b[39m],\n\u001b[1;32m     11\u001b[0m                            min_samples_leaf\u001b[38;5;241m=\u001b[39mrf_params\u001b[38;5;241m.\u001b[39miloc[i, \u001b[38;5;241m2\u001b[39m],\n\u001b[1;32m     12\u001b[0m                            min_samples_split\u001b[38;5;241m=\u001b[39mrf_params\u001b[38;5;241m.\u001b[39miloc[i, \u001b[38;5;241m3\u001b[39m])\n\u001b[1;32m     14\u001b[0m rf\u001b[38;5;241m.\u001b[39mfit(x_train, y_train)\n\u001b[1;32m     15\u001b[0m y_pred \u001b[38;5;241m=\u001b[39m rf\u001b[38;5;241m.\u001b[39mpredict(x_test)\n",
      "File \u001b[0;32m/opt/conda/lib/python3.10/site-packages/pandas/core/indexing.py:1066\u001b[0m, in \u001b[0;36m_LocationIndexer.__getitem__\u001b[0;34m(self, key)\u001b[0m\n\u001b[1;32m   1064\u001b[0m     key \u001b[38;5;241m=\u001b[39m \u001b[38;5;28mtuple\u001b[39m(com\u001b[38;5;241m.\u001b[39mapply_if_callable(x, \u001b[38;5;28mself\u001b[39m\u001b[38;5;241m.\u001b[39mobj) \u001b[38;5;28;01mfor\u001b[39;00m x \u001b[38;5;129;01min\u001b[39;00m key)\n\u001b[1;32m   1065\u001b[0m     \u001b[38;5;28;01mif\u001b[39;00m \u001b[38;5;28mself\u001b[39m\u001b[38;5;241m.\u001b[39m_is_scalar_access(key):\n\u001b[0;32m-> 1066\u001b[0m         \u001b[38;5;28;01mreturn\u001b[39;00m \u001b[38;5;28;43mself\u001b[39;49m\u001b[38;5;241;43m.\u001b[39;49m\u001b[43mobj\u001b[49m\u001b[38;5;241;43m.\u001b[39;49m\u001b[43m_get_value\u001b[49m\u001b[43m(\u001b[49m\u001b[38;5;241;43m*\u001b[39;49m\u001b[43mkey\u001b[49m\u001b[43m,\u001b[49m\u001b[43m \u001b[49m\u001b[43mtakeable\u001b[49m\u001b[38;5;241;43m=\u001b[39;49m\u001b[38;5;28;43mself\u001b[39;49m\u001b[38;5;241;43m.\u001b[39;49m\u001b[43m_takeable\u001b[49m\u001b[43m)\u001b[49m\n\u001b[1;32m   1067\u001b[0m     \u001b[38;5;28;01mreturn\u001b[39;00m \u001b[38;5;28mself\u001b[39m\u001b[38;5;241m.\u001b[39m_getitem_tuple(key)\n\u001b[1;32m   1068\u001b[0m \u001b[38;5;28;01melse\u001b[39;00m:\n\u001b[1;32m   1069\u001b[0m     \u001b[38;5;66;03m# we by definition only have the 0th axis\u001b[39;00m\n",
      "File \u001b[0;32m/opt/conda/lib/python3.10/site-packages/pandas/core/frame.py:3915\u001b[0m, in \u001b[0;36mDataFrame._get_value\u001b[0;34m(self, index, col, takeable)\u001b[0m\n\u001b[1;32m   3913\u001b[0m \u001b[38;5;28;01mif\u001b[39;00m takeable:\n\u001b[1;32m   3914\u001b[0m     series \u001b[38;5;241m=\u001b[39m \u001b[38;5;28mself\u001b[39m\u001b[38;5;241m.\u001b[39m_ixs(col, axis\u001b[38;5;241m=\u001b[39m\u001b[38;5;241m1\u001b[39m)\n\u001b[0;32m-> 3915\u001b[0m     \u001b[38;5;28;01mreturn\u001b[39;00m \u001b[43mseries\u001b[49m\u001b[38;5;241;43m.\u001b[39;49m\u001b[43m_values\u001b[49m\u001b[43m[\u001b[49m\u001b[43mindex\u001b[49m\u001b[43m]\u001b[49m\n\u001b[1;32m   3917\u001b[0m series \u001b[38;5;241m=\u001b[39m \u001b[38;5;28mself\u001b[39m\u001b[38;5;241m.\u001b[39m_get_item_cache(col)\n\u001b[1;32m   3918\u001b[0m engine \u001b[38;5;241m=\u001b[39m \u001b[38;5;28mself\u001b[39m\u001b[38;5;241m.\u001b[39mindex\u001b[38;5;241m.\u001b[39m_engine\n",
      "\u001b[0;31mIndexError\u001b[0m: index 8 is out of bounds for axis 0 with size 8"
     ]
    }
   ],
   "source": [
    "preds = np.array([])\n",
    "for i in tqdm(range(100)):\n",
    "    pred_df = pd.DataFrame()\n",
    "    for seed in range(0, 6):\n",
    "        x_train = train.dropna().loc[train['건물번호']==i+1,].drop(['건물번호', 'power'], axis=1)\n",
    "        y_train = train.dropna().loc[train['건물번호']==i+1, 'power']\n",
    "        x_test = test.loc[test['건물번호']==i+1,].drop('건물번호', axis=1)\n",
    "\n",
    "        rf = RandomForestRegressor(random_state=seed, n_estimators=rf_params.iloc[i, 0],\n",
    "                                   max_depth=rf_params.iloc[i, 1],\n",
    "                                   min_samples_leaf=rf_params.iloc[i, 2],\n",
    "                                   min_samples_split=rf_params.iloc[i, 3])\n",
    "\n",
    "        rf.fit(x_train, y_train)\n",
    "        y_pred = rf.predict(x_test)\n",
    "        pred_df.loc[:, seed] = y_pred\n",
    "\n",
    "    pred = pred_df.mean(axis=1)\n",
    "    preds = np.append(preds, pred)"
   ]
  },
  {
   "cell_type": "code",
   "execution_count": null,
   "id": "8a94279f-8196-42ef-b232-04b14d3f9418",
   "metadata": {},
   "outputs": [],
   "source": [
    "sub = pd.read_csv('sample_submission.csv')\n",
    "sub['answer'] = preds\n",
    "sub.to_csv('rf_sub_24.csv', index=False)"
   ]
  },
  {
   "cell_type": "code",
   "execution_count": null,
   "id": "e8012194-9890-40f6-b8a3-ddbdc3b3e842",
   "metadata": {},
   "outputs": [],
   "source": []
  }
 ],
 "metadata": {
  "kernelspec": {
   "display_name": "Python 3 (ipykernel)",
   "language": "python",
   "name": "python3"
  },
  "language_info": {
   "codemirror_mode": {
    "name": "ipython",
    "version": 3
   },
   "file_extension": ".py",
   "mimetype": "text/x-python",
   "name": "python",
   "nbconvert_exporter": "python",
   "pygments_lexer": "ipython3",
   "version": "3.10.8"
  }
 },
 "nbformat": 4,
 "nbformat_minor": 5
}
