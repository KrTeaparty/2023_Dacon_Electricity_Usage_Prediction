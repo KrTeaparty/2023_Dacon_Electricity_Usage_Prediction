{
 "cells": [
  {
   "cell_type": "code",
   "execution_count": 1,
   "id": "eee281c2-960f-47f0-b8c7-596f2cc7c8ce",
   "metadata": {},
   "outputs": [],
   "source": [
    "import xgboost as xgb\n",
    "import tqdm as tq\n",
    "import matplotlib.pyplot as plt\n",
    "import seaborn as sns\n",
    "import sklearn\n",
    "import pandas as pd\n",
    "from tqdm import tqdm\n",
    "from xgboost import XGBRegressor\n",
    "import numpy as np"
   ]
  },
  {
   "cell_type": "markdown",
   "id": "be889fcb-95a8-40b4-b6a1-83183b4acce0",
   "metadata": {},
   "source": [
    "### Train Data Preprocessing"
   ]
  },
  {
   "cell_type": "code",
   "execution_count": 5,
   "id": "7f61b5e7-8f27-48a6-8cee-7d2ef8ef6bb5",
   "metadata": {},
   "outputs": [],
   "source": [
    "train = pd.read_csv('train.csv')"
   ]
  },
  {
   "cell_type": "code",
   "execution_count": 69,
   "id": "1cdf8a36-28d1-48cb-9d43-2016e6e84909",
   "metadata": {},
   "outputs": [
    {
     "data": {
      "text/html": [
       "<div>\n",
       "<style scoped>\n",
       "    .dataframe tbody tr th:only-of-type {\n",
       "        vertical-align: middle;\n",
       "    }\n",
       "\n",
       "    .dataframe tbody tr th {\n",
       "        vertical-align: top;\n",
       "    }\n",
       "\n",
       "    .dataframe thead th {\n",
       "        text-align: right;\n",
       "    }\n",
       "</style>\n",
       "<table border=\"1\" class=\"dataframe\">\n",
       "  <thead>\n",
       "    <tr style=\"text-align: right;\">\n",
       "      <th></th>\n",
       "      <th>num_date_time</th>\n",
       "      <th>건물번호</th>\n",
       "      <th>일시</th>\n",
       "      <th>기온(C)</th>\n",
       "      <th>강수량(mm)</th>\n",
       "      <th>풍속(m/s)</th>\n",
       "      <th>습도(%)</th>\n",
       "      <th>일조(hr)</th>\n",
       "      <th>일사(MJ/m2)</th>\n",
       "      <th>전력소비량(kWh)</th>\n",
       "    </tr>\n",
       "  </thead>\n",
       "  <tbody>\n",
       "    <tr>\n",
       "      <th>0</th>\n",
       "      <td>1_20220601 00</td>\n",
       "      <td>1</td>\n",
       "      <td>20220601 00</td>\n",
       "      <td>18.6</td>\n",
       "      <td>NaN</td>\n",
       "      <td>0.9</td>\n",
       "      <td>42.0</td>\n",
       "      <td>NaN</td>\n",
       "      <td>NaN</td>\n",
       "      <td>1085.28</td>\n",
       "    </tr>\n",
       "    <tr>\n",
       "      <th>1</th>\n",
       "      <td>1_20220601 01</td>\n",
       "      <td>1</td>\n",
       "      <td>20220601 01</td>\n",
       "      <td>18.0</td>\n",
       "      <td>NaN</td>\n",
       "      <td>1.1</td>\n",
       "      <td>45.0</td>\n",
       "      <td>NaN</td>\n",
       "      <td>NaN</td>\n",
       "      <td>1047.36</td>\n",
       "    </tr>\n",
       "    <tr>\n",
       "      <th>2</th>\n",
       "      <td>1_20220601 02</td>\n",
       "      <td>1</td>\n",
       "      <td>20220601 02</td>\n",
       "      <td>17.7</td>\n",
       "      <td>NaN</td>\n",
       "      <td>1.5</td>\n",
       "      <td>45.0</td>\n",
       "      <td>NaN</td>\n",
       "      <td>NaN</td>\n",
       "      <td>974.88</td>\n",
       "    </tr>\n",
       "    <tr>\n",
       "      <th>3</th>\n",
       "      <td>1_20220601 03</td>\n",
       "      <td>1</td>\n",
       "      <td>20220601 03</td>\n",
       "      <td>16.7</td>\n",
       "      <td>NaN</td>\n",
       "      <td>1.4</td>\n",
       "      <td>48.0</td>\n",
       "      <td>NaN</td>\n",
       "      <td>NaN</td>\n",
       "      <td>953.76</td>\n",
       "    </tr>\n",
       "    <tr>\n",
       "      <th>4</th>\n",
       "      <td>1_20220601 04</td>\n",
       "      <td>1</td>\n",
       "      <td>20220601 04</td>\n",
       "      <td>18.4</td>\n",
       "      <td>NaN</td>\n",
       "      <td>2.8</td>\n",
       "      <td>43.0</td>\n",
       "      <td>NaN</td>\n",
       "      <td>NaN</td>\n",
       "      <td>986.40</td>\n",
       "    </tr>\n",
       "  </tbody>\n",
       "</table>\n",
       "</div>"
      ],
      "text/plain": [
       "   num_date_time  건물번호           일시  기온(C)  강수량(mm)  풍속(m/s)  습도(%)  일조(hr)  \\\n",
       "0  1_20220601 00     1  20220601 00   18.6      NaN      0.9   42.0     NaN   \n",
       "1  1_20220601 01     1  20220601 01   18.0      NaN      1.1   45.0     NaN   \n",
       "2  1_20220601 02     1  20220601 02   17.7      NaN      1.5   45.0     NaN   \n",
       "3  1_20220601 03     1  20220601 03   16.7      NaN      1.4   48.0     NaN   \n",
       "4  1_20220601 04     1  20220601 04   18.4      NaN      2.8   43.0     NaN   \n",
       "\n",
       "   일사(MJ/m2)  전력소비량(kWh)  \n",
       "0        NaN     1085.28  \n",
       "1        NaN     1047.36  \n",
       "2        NaN      974.88  \n",
       "3        NaN      953.76  \n",
       "4        NaN      986.40  "
      ]
     },
     "execution_count": 69,
     "metadata": {},
     "output_type": "execute_result"
    }
   ],
   "source": [
    "train.head()"
   ]
  },
  {
   "cell_type": "code",
   "execution_count": 6,
   "id": "59de0470-210e-4c17-ba7d-434f9b126c1d",
   "metadata": {},
   "outputs": [],
   "source": [
    "train.pop('일조(hr)')\n",
    "train.pop('일사(MJ/m2)')\n",
    "\n",
    "train['일시'] = pd.to_datetime(train['일시'], format='%Y%m%d %H')\n",
    "train['month'] = train['일시'].dt.month\n",
    "train['day'] = train['일시'].dt.weekday\n",
    "train['hour'] = train['일시'].dt.hour\n",
    "train['holiday'] = train.apply(lambda x: 0 if x['day']<5 else 1, axis=1)\n",
    "train['quarter'] = train.apply(lambda x: 2 if x['month']<7 else 3, axis=1)\n",
    "train['sin_time'] = np.sin(2*np.pi*train.hour/24) # cyclical encoding\n",
    "train['cos_time'] = np.cos(2*np.pi*train.hour/24)\n",
    "train['DI'] = 1.8*train['기온(C)'] - 0.55*(1-train['습도(%)'])*(1.8*train['기온(C)']-26) + 32 # 불쾌지수\n",
    "\n",
    "train.pop('num_date_time')\n",
    "train.pop('일시')\n",
    "train.pop('hour')\n",
    "train['power'] = train['전력소비량(kWh)']\n",
    "train.pop('전력소비량(kWh)')\n",
    "train.pop('강수량(mm)')\n",
    "train['풍속(m/s)'] = train['풍속(m/s)'].fillna(0)\n",
    "train['습도(%)'] = train['습도(%)'].fillna(0)"
   ]
  },
  {
   "cell_type": "code",
   "execution_count": 71,
   "id": "1a8002f6-4dd7-4ba1-8b62-969ef3a3c198",
   "metadata": {},
   "outputs": [],
   "source": [
    "train.to_csv('train_preprocessed.csv', index=False)"
   ]
  },
  {
   "cell_type": "code",
   "execution_count": 7,
   "id": "a31c380d-3dd0-475f-bca0-80c0573d6b4e",
   "metadata": {},
   "outputs": [
    {
     "data": {
      "text/html": [
       "<div>\n",
       "<style scoped>\n",
       "    .dataframe tbody tr th:only-of-type {\n",
       "        vertical-align: middle;\n",
       "    }\n",
       "\n",
       "    .dataframe tbody tr th {\n",
       "        vertical-align: top;\n",
       "    }\n",
       "\n",
       "    .dataframe thead th {\n",
       "        text-align: right;\n",
       "    }\n",
       "</style>\n",
       "<table border=\"1\" class=\"dataframe\">\n",
       "  <thead>\n",
       "    <tr style=\"text-align: right;\">\n",
       "      <th></th>\n",
       "      <th>건물번호</th>\n",
       "      <th>기온(C)</th>\n",
       "      <th>풍속(m/s)</th>\n",
       "      <th>습도(%)</th>\n",
       "      <th>month</th>\n",
       "      <th>day</th>\n",
       "      <th>holiday</th>\n",
       "      <th>quarter</th>\n",
       "      <th>sin_time</th>\n",
       "      <th>cos_time</th>\n",
       "      <th>DI</th>\n",
       "      <th>power</th>\n",
       "    </tr>\n",
       "  </thead>\n",
       "  <tbody>\n",
       "    <tr>\n",
       "      <th>0</th>\n",
       "      <td>1</td>\n",
       "      <td>18.6</td>\n",
       "      <td>0.9</td>\n",
       "      <td>42.0</td>\n",
       "      <td>6</td>\n",
       "      <td>2</td>\n",
       "      <td>0</td>\n",
       "      <td>2</td>\n",
       "      <td>0.000000</td>\n",
       "      <td>1.000000</td>\n",
       "      <td>234.154</td>\n",
       "      <td>1085.28</td>\n",
       "    </tr>\n",
       "    <tr>\n",
       "      <th>1</th>\n",
       "      <td>1</td>\n",
       "      <td>18.0</td>\n",
       "      <td>1.1</td>\n",
       "      <td>45.0</td>\n",
       "      <td>6</td>\n",
       "      <td>2</td>\n",
       "      <td>0</td>\n",
       "      <td>2</td>\n",
       "      <td>0.258819</td>\n",
       "      <td>0.965926</td>\n",
       "      <td>219.280</td>\n",
       "      <td>1047.36</td>\n",
       "    </tr>\n",
       "    <tr>\n",
       "      <th>2</th>\n",
       "      <td>1</td>\n",
       "      <td>17.7</td>\n",
       "      <td>1.5</td>\n",
       "      <td>45.0</td>\n",
       "      <td>6</td>\n",
       "      <td>2</td>\n",
       "      <td>0</td>\n",
       "      <td>2</td>\n",
       "      <td>0.500000</td>\n",
       "      <td>0.866025</td>\n",
       "      <td>205.672</td>\n",
       "      <td>974.88</td>\n",
       "    </tr>\n",
       "    <tr>\n",
       "      <th>3</th>\n",
       "      <td>1</td>\n",
       "      <td>16.7</td>\n",
       "      <td>1.4</td>\n",
       "      <td>48.0</td>\n",
       "      <td>6</td>\n",
       "      <td>2</td>\n",
       "      <td>0</td>\n",
       "      <td>2</td>\n",
       "      <td>0.707107</td>\n",
       "      <td>0.707107</td>\n",
       "      <td>167.011</td>\n",
       "      <td>953.76</td>\n",
       "    </tr>\n",
       "    <tr>\n",
       "      <th>4</th>\n",
       "      <td>1</td>\n",
       "      <td>18.4</td>\n",
       "      <td>2.8</td>\n",
       "      <td>43.0</td>\n",
       "      <td>6</td>\n",
       "      <td>2</td>\n",
       "      <td>0</td>\n",
       "      <td>2</td>\n",
       "      <td>0.866025</td>\n",
       "      <td>0.500000</td>\n",
       "      <td>229.592</td>\n",
       "      <td>986.40</td>\n",
       "    </tr>\n",
       "  </tbody>\n",
       "</table>\n",
       "</div>"
      ],
      "text/plain": [
       "   건물번호  기온(C)  풍속(m/s)  습도(%)  month  day  holiday  quarter  sin_time  \\\n",
       "0     1   18.6      0.9   42.0      6    2        0        2  0.000000   \n",
       "1     1   18.0      1.1   45.0      6    2        0        2  0.258819   \n",
       "2     1   17.7      1.5   45.0      6    2        0        2  0.500000   \n",
       "3     1   16.7      1.4   48.0      6    2        0        2  0.707107   \n",
       "4     1   18.4      2.8   43.0      6    2        0        2  0.866025   \n",
       "\n",
       "   cos_time       DI    power  \n",
       "0  1.000000  234.154  1085.28  \n",
       "1  0.965926  219.280  1047.36  \n",
       "2  0.866025  205.672   974.88  \n",
       "3  0.707107  167.011   953.76  \n",
       "4  0.500000  229.592   986.40  "
      ]
     },
     "execution_count": 7,
     "metadata": {},
     "output_type": "execute_result"
    }
   ],
   "source": [
    "train.head()"
   ]
  },
  {
   "cell_type": "markdown",
   "id": "29f5e3d3-d033-4c9e-a57d-5db4b884662d",
   "metadata": {},
   "source": [
    "### Test Data Preprocessing"
   ]
  },
  {
   "cell_type": "code",
   "execution_count": 16,
   "id": "1bea4453-24e0-416d-a845-b5e7544362bb",
   "metadata": {},
   "outputs": [],
   "source": [
    "test = pd.read_csv('test.csv')"
   ]
  },
  {
   "cell_type": "code",
   "execution_count": 17,
   "id": "74e0fb28-df5b-4251-9d6a-f8aa511e4e77",
   "metadata": {},
   "outputs": [
    {
     "data": {
      "text/plain": [
       "0        0.0\n",
       "1        0.0\n",
       "2        0.0\n",
       "3        0.0\n",
       "4        0.0\n",
       "        ... \n",
       "16795    0.0\n",
       "16796    0.0\n",
       "16797    0.0\n",
       "16798    0.0\n",
       "16799    0.0\n",
       "Name: 강수량(mm), Length: 16800, dtype: float64"
      ]
     },
     "execution_count": 17,
     "metadata": {},
     "output_type": "execute_result"
    }
   ],
   "source": [
    "test['일시'] = pd.to_datetime(test['일시'], format='%Y%m%d %H')\n",
    "test['month'] = test['일시'].dt.month\n",
    "test['day'] = test['일시'].dt.weekday\n",
    "test['hour'] = test['일시'].dt.hour\n",
    "test['holiday'] = test.apply(lambda x: 0 if x['day']<5 else 1, axis=1)\n",
    "test['quarter'] = test.apply(lambda x: 2 if x['month']<7 else 3, axis=1)\n",
    "test['sin_time'] = np.sin(2*np.pi*test.hour/24)\n",
    "test['cos_time'] = np.cos(2*np.pi*test.hour/24)\n",
    "test['DI'] = 1.8*test['기온(C)'] - 0.55*(1-test['습도(%)'])*(1.8*test['기온(C)']-26) + 32\n",
    "\n",
    "test.pop('num_date_time')\n",
    "test.pop('일시')\n",
    "test.pop('hour')\n",
    "test.pop('강수량(mm)')"
   ]
  },
  {
   "cell_type": "code",
   "execution_count": 75,
   "id": "f8fdff53-b31c-4f97-9ea1-56cec17dfbb5",
   "metadata": {},
   "outputs": [],
   "source": [
    "test.to_csv('test_preprocessed.csv', index=False)"
   ]
  },
  {
   "cell_type": "code",
   "execution_count": 18,
   "id": "71d805d7-7688-4321-914f-d2f7cc149acb",
   "metadata": {},
   "outputs": [
    {
     "data": {
      "text/html": [
       "<div>\n",
       "<style scoped>\n",
       "    .dataframe tbody tr th:only-of-type {\n",
       "        vertical-align: middle;\n",
       "    }\n",
       "\n",
       "    .dataframe tbody tr th {\n",
       "        vertical-align: top;\n",
       "    }\n",
       "\n",
       "    .dataframe thead th {\n",
       "        text-align: right;\n",
       "    }\n",
       "</style>\n",
       "<table border=\"1\" class=\"dataframe\">\n",
       "  <thead>\n",
       "    <tr style=\"text-align: right;\">\n",
       "      <th></th>\n",
       "      <th>건물번호</th>\n",
       "      <th>기온(C)</th>\n",
       "      <th>풍속(m/s)</th>\n",
       "      <th>습도(%)</th>\n",
       "      <th>month</th>\n",
       "      <th>day</th>\n",
       "      <th>holiday</th>\n",
       "      <th>quarter</th>\n",
       "      <th>sin_time</th>\n",
       "      <th>cos_time</th>\n",
       "      <th>DI</th>\n",
       "    </tr>\n",
       "  </thead>\n",
       "  <tbody>\n",
       "    <tr>\n",
       "      <th>0</th>\n",
       "      <td>1</td>\n",
       "      <td>23.5</td>\n",
       "      <td>2.2</td>\n",
       "      <td>72</td>\n",
       "      <td>8</td>\n",
       "      <td>3</td>\n",
       "      <td>0</td>\n",
       "      <td>3</td>\n",
       "      <td>0.000000</td>\n",
       "      <td>1.000000</td>\n",
       "      <td>710.815</td>\n",
       "    </tr>\n",
       "    <tr>\n",
       "      <th>1</th>\n",
       "      <td>1</td>\n",
       "      <td>23.0</td>\n",
       "      <td>0.9</td>\n",
       "      <td>72</td>\n",
       "      <td>8</td>\n",
       "      <td>3</td>\n",
       "      <td>0</td>\n",
       "      <td>3</td>\n",
       "      <td>0.258819</td>\n",
       "      <td>0.965926</td>\n",
       "      <td>674.770</td>\n",
       "    </tr>\n",
       "    <tr>\n",
       "      <th>2</th>\n",
       "      <td>1</td>\n",
       "      <td>22.7</td>\n",
       "      <td>1.5</td>\n",
       "      <td>75</td>\n",
       "      <td>8</td>\n",
       "      <td>3</td>\n",
       "      <td>0</td>\n",
       "      <td>3</td>\n",
       "      <td>0.500000</td>\n",
       "      <td>0.866025</td>\n",
       "      <td>677.662</td>\n",
       "    </tr>\n",
       "    <tr>\n",
       "      <th>3</th>\n",
       "      <td>1</td>\n",
       "      <td>22.1</td>\n",
       "      <td>1.3</td>\n",
       "      <td>78</td>\n",
       "      <td>8</td>\n",
       "      <td>3</td>\n",
       "      <td>0</td>\n",
       "      <td>3</td>\n",
       "      <td>0.707107</td>\n",
       "      <td>0.707107</td>\n",
       "      <td>655.363</td>\n",
       "    </tr>\n",
       "    <tr>\n",
       "      <th>4</th>\n",
       "      <td>1</td>\n",
       "      <td>21.8</td>\n",
       "      <td>1.0</td>\n",
       "      <td>77</td>\n",
       "      <td>8</td>\n",
       "      <td>3</td>\n",
       "      <td>0</td>\n",
       "      <td>3</td>\n",
       "      <td>0.866025</td>\n",
       "      <td>0.500000</td>\n",
       "      <td>624.672</td>\n",
       "    </tr>\n",
       "  </tbody>\n",
       "</table>\n",
       "</div>"
      ],
      "text/plain": [
       "   건물번호  기온(C)  풍속(m/s)  습도(%)  month  day  holiday  quarter  sin_time  \\\n",
       "0     1   23.5      2.2     72      8    3        0        3  0.000000   \n",
       "1     1   23.0      0.9     72      8    3        0        3  0.258819   \n",
       "2     1   22.7      1.5     75      8    3        0        3  0.500000   \n",
       "3     1   22.1      1.3     78      8    3        0        3  0.707107   \n",
       "4     1   21.8      1.0     77      8    3        0        3  0.866025   \n",
       "\n",
       "   cos_time       DI  \n",
       "0  1.000000  710.815  \n",
       "1  0.965926  674.770  \n",
       "2  0.866025  677.662  \n",
       "3  0.707107  655.363  \n",
       "4  0.500000  624.672  "
      ]
     },
     "execution_count": 18,
     "metadata": {},
     "output_type": "execute_result"
    }
   ],
   "source": [
    "test.head()"
   ]
  },
  {
   "cell_type": "markdown",
   "id": "e2f9c074-d55a-4a36-9461-40139033a011",
   "metadata": {},
   "source": [
    "### Training"
   ]
  },
  {
   "cell_type": "code",
   "execution_count": 11,
   "id": "fab3d84e-949e-4b73-b830-09283bc10667",
   "metadata": {},
   "outputs": [],
   "source": [
    "import os\n",
    "from sklearn.metrics import make_scorer\n",
    "from sklearn.model_selection import GridSearchCV, train_test_split"
   ]
  },
  {
   "cell_type": "code",
   "execution_count": 12,
   "id": "6c71b83a-4ce1-4b65-9c31-a0e501f0201b",
   "metadata": {},
   "outputs": [],
   "source": [
    "def SMAPE(true, pred):\n",
    "    return np.mean((np.abs(true - pred))/(np.abs(true) + np.abs(pred))) * 100    "
   ]
  },
  {
   "cell_type": "code",
   "execution_count": 20,
   "id": "a68b9d34-0df2-4774-b766-09577950fb3f",
   "metadata": {},
   "outputs": [
    {
     "data": {
      "text/html": [
       "<div>\n",
       "<style scoped>\n",
       "    .dataframe tbody tr th:only-of-type {\n",
       "        vertical-align: middle;\n",
       "    }\n",
       "\n",
       "    .dataframe tbody tr th {\n",
       "        vertical-align: top;\n",
       "    }\n",
       "\n",
       "    .dataframe thead th {\n",
       "        text-align: right;\n",
       "    }\n",
       "</style>\n",
       "<table border=\"1\" class=\"dataframe\">\n",
       "  <thead>\n",
       "    <tr style=\"text-align: right;\">\n",
       "      <th></th>\n",
       "      <th>건물번호</th>\n",
       "      <th>기온(C)</th>\n",
       "      <th>강수량(mm)</th>\n",
       "      <th>풍속(m/s)</th>\n",
       "      <th>습도(%)</th>\n",
       "      <th>month</th>\n",
       "      <th>day</th>\n",
       "      <th>week</th>\n",
       "      <th>holiday</th>\n",
       "      <th>sin_time</th>\n",
       "      <th>cos_time</th>\n",
       "      <th>DI</th>\n",
       "      <th>power</th>\n",
       "    </tr>\n",
       "  </thead>\n",
       "  <tbody>\n",
       "    <tr>\n",
       "      <th>0</th>\n",
       "      <td>1</td>\n",
       "      <td>18.6</td>\n",
       "      <td>0.0</td>\n",
       "      <td>0.9</td>\n",
       "      <td>42.0</td>\n",
       "      <td>6</td>\n",
       "      <td>2</td>\n",
       "      <td>22</td>\n",
       "      <td>0</td>\n",
       "      <td>0.000000</td>\n",
       "      <td>1.000000</td>\n",
       "      <td>234.154</td>\n",
       "      <td>1085.28</td>\n",
       "    </tr>\n",
       "    <tr>\n",
       "      <th>1</th>\n",
       "      <td>1</td>\n",
       "      <td>18.0</td>\n",
       "      <td>0.0</td>\n",
       "      <td>1.1</td>\n",
       "      <td>45.0</td>\n",
       "      <td>6</td>\n",
       "      <td>2</td>\n",
       "      <td>22</td>\n",
       "      <td>0</td>\n",
       "      <td>0.258819</td>\n",
       "      <td>0.965926</td>\n",
       "      <td>219.280</td>\n",
       "      <td>1047.36</td>\n",
       "    </tr>\n",
       "    <tr>\n",
       "      <th>2</th>\n",
       "      <td>1</td>\n",
       "      <td>17.7</td>\n",
       "      <td>0.0</td>\n",
       "      <td>1.5</td>\n",
       "      <td>45.0</td>\n",
       "      <td>6</td>\n",
       "      <td>2</td>\n",
       "      <td>22</td>\n",
       "      <td>0</td>\n",
       "      <td>0.500000</td>\n",
       "      <td>0.866025</td>\n",
       "      <td>205.672</td>\n",
       "      <td>974.88</td>\n",
       "    </tr>\n",
       "    <tr>\n",
       "      <th>3</th>\n",
       "      <td>1</td>\n",
       "      <td>16.7</td>\n",
       "      <td>0.0</td>\n",
       "      <td>1.4</td>\n",
       "      <td>48.0</td>\n",
       "      <td>6</td>\n",
       "      <td>2</td>\n",
       "      <td>22</td>\n",
       "      <td>0</td>\n",
       "      <td>0.707107</td>\n",
       "      <td>0.707107</td>\n",
       "      <td>167.011</td>\n",
       "      <td>953.76</td>\n",
       "    </tr>\n",
       "    <tr>\n",
       "      <th>4</th>\n",
       "      <td>1</td>\n",
       "      <td>18.4</td>\n",
       "      <td>0.0</td>\n",
       "      <td>2.8</td>\n",
       "      <td>43.0</td>\n",
       "      <td>6</td>\n",
       "      <td>2</td>\n",
       "      <td>22</td>\n",
       "      <td>0</td>\n",
       "      <td>0.866025</td>\n",
       "      <td>0.500000</td>\n",
       "      <td>229.592</td>\n",
       "      <td>986.40</td>\n",
       "    </tr>\n",
       "  </tbody>\n",
       "</table>\n",
       "</div>"
      ],
      "text/plain": [
       "   건물번호  기온(C)  강수량(mm)  풍속(m/s)  ...  sin_time  cos_time       DI    power\n",
       "0     1   18.6      0.0      0.9  ...  0.000000  1.000000  234.154  1085.28\n",
       "1     1   18.0      0.0      1.1  ...  0.258819  0.965926  219.280  1047.36\n",
       "2     1   17.7      0.0      1.5  ...  0.500000  0.866025  205.672   974.88\n",
       "3     1   16.7      0.0      1.4  ...  0.707107  0.707107  167.011   953.76\n",
       "4     1   18.4      0.0      2.8  ...  0.866025  0.500000  229.592   986.40\n",
       "\n",
       "[5 rows x 13 columns]"
      ]
     },
     "execution_count": 20,
     "metadata": {},
     "output_type": "execute_result"
    }
   ],
   "source": [
    "train.head()"
   ]
  },
  {
   "cell_type": "code",
   "execution_count": 13,
   "id": "bb9bc997-ae40-4cad-87af-2447d5f1f426",
   "metadata": {},
   "outputs": [],
   "source": [
    "def tr_ts_split(train, test, number, val_hour):\n",
    "    x = train.loc[train['건물번호']==number].drop(['건물번호','power'], axis=1)\n",
    "    y = train.loc[train['건물번호']==number, 'power']\n",
    "\n",
    "    #if number == 54:\n",
    "    x = pd.concat([x[:601], x[700:]], axis=0).reset_index(drop=True)\n",
    "    y = pd.concat([y[:601], y[700:]]).reset_index(drop=True)\n",
    "\n",
    "    if val_hour == 0:\n",
    "        return x, None, y, None\n",
    "    else:\n",
    "        x_train, x_valid, y_train, y_valid = x[:-val_hour], x[-val_hour:], y[:-val_hour], y[-val_hour:]\n",
    "        return x_train, x_valid.reset_index(drop=True), y_train, y_valid.reset_index(drop=True)"
   ]
  },
  {
   "cell_type": "code",
   "execution_count": 14,
   "id": "1c799848-e452-487e-977b-17c3a381e72a",
   "metadata": {},
   "outputs": [],
   "source": [
    "def fit_and_pred_XGB(train, test, number, seed=0):\n",
    "    x_train, x_valid, y_train, y_valid = tr_ts_split(train, test, number, 7*24)\n",
    "\n",
    "    xgb_reg = XGBRegressor(n_estimators=10000, eta=0.01, seed=seed,\n",
    "                            gpu_id=0, tree_method='gpu_hist', predictor='gpu_predictor')\n",
    "    xgb_reg.fit(x_train, y_train, eval_set=[(x_train, y_train), (x_valid, y_valid)],\n",
    "                early_stopping_rounds=300, verbose=False)\n",
    "    pred = xgb_reg.predict(x_valid)\n",
    "    pred = pd.Series(pred)\n",
    "    \n",
    "    x_test = test[test['건물번호']==number]\n",
    "    y_test_pred = xgb_reg.predict(x_test.drop('건물번호', axis=1))\n",
    "\n",
    "    smape_val = SMAPE(y_valid, pred)\n",
    "    r2_val = sklearn.metrics.r2_score(y_valid, pred)\n",
    "    print(f'SMAPE: {smape_val}')\n",
    "    print(f'R2: {r2_val}')\n",
    "    return smape_val, r2_val, y_valid, pred, y_test_pred"
   ]
  },
  {
   "cell_type": "code",
   "execution_count": 19,
   "id": "38906c9e-e20c-41e4-b2d9-6db6ce363246",
   "metadata": {
    "scrolled": true
   },
   "outputs": [
    {
     "name": "stderr",
     "output_type": "stream",
     "text": [
      "  0%|          | 0/100 [00:00<?, ?it/s]/opt/conda/lib/python3.10/site-packages/xgboost/sklearn.py:835: UserWarning: `early_stopping_rounds` in `fit` method is deprecated for better compatibility with scikit-learn, use `early_stopping_rounds` in constructor or`set_params` instead.\n",
      "  warnings.warn(\n"
     ]
    },
    {
     "name": "stdout",
     "output_type": "stream",
     "text": [
      "===== < BUILDING NO.1 > =====\n"
     ]
    },
    {
     "name": "stderr",
     "output_type": "stream",
     "text": [
      "  1%|          | 1/100 [00:02<04:05,  2.48s/it]"
     ]
    },
    {
     "name": "stdout",
     "output_type": "stream",
     "text": [
      "SMAPE: 3.4496644441677238\n",
      "R2: 0.9501395854081043\n",
      "===== < BUILDING NO.2 > =====\n"
     ]
    },
    {
     "name": "stderr",
     "output_type": "stream",
     "text": [
      "/opt/conda/lib/python3.10/site-packages/xgboost/sklearn.py:835: UserWarning: `early_stopping_rounds` in `fit` method is deprecated for better compatibility with scikit-learn, use `early_stopping_rounds` in constructor or`set_params` instead.\n",
      "  warnings.warn(\n",
      "  2%|▏         | 2/100 [00:03<02:32,  1.55s/it]"
     ]
    },
    {
     "name": "stdout",
     "output_type": "stream",
     "text": [
      "SMAPE: 5.315951214428996\n",
      "R2: 0.8301183990220398\n",
      "===== < BUILDING NO.3 > =====\n"
     ]
    },
    {
     "name": "stderr",
     "output_type": "stream",
     "text": [
      "/opt/conda/lib/python3.10/site-packages/xgboost/sklearn.py:835: UserWarning: `early_stopping_rounds` in `fit` method is deprecated for better compatibility with scikit-learn, use `early_stopping_rounds` in constructor or`set_params` instead.\n",
      "  warnings.warn(\n",
      "  3%|▎         | 3/100 [00:04<01:59,  1.23s/it]"
     ]
    },
    {
     "name": "stdout",
     "output_type": "stream",
     "text": [
      "SMAPE: 5.271764315449672\n",
      "R2: 0.842398546048641\n",
      "===== < BUILDING NO.4 > =====\n"
     ]
    },
    {
     "name": "stderr",
     "output_type": "stream",
     "text": [
      "/opt/conda/lib/python3.10/site-packages/xgboost/sklearn.py:835: UserWarning: `early_stopping_rounds` in `fit` method is deprecated for better compatibility with scikit-learn, use `early_stopping_rounds` in constructor or`set_params` instead.\n",
      "  warnings.warn(\n",
      "  4%|▍         | 4/100 [00:05<01:47,  1.12s/it]"
     ]
    },
    {
     "name": "stdout",
     "output_type": "stream",
     "text": [
      "SMAPE: 1.9815124791238239\n",
      "R2: 0.9753420265350734\n",
      "===== < BUILDING NO.5 > =====\n"
     ]
    },
    {
     "name": "stderr",
     "output_type": "stream",
     "text": [
      "/opt/conda/lib/python3.10/site-packages/xgboost/sklearn.py:835: UserWarning: `early_stopping_rounds` in `fit` method is deprecated for better compatibility with scikit-learn, use `early_stopping_rounds` in constructor or`set_params` instead.\n",
      "  warnings.warn(\n",
      "  5%|▌         | 5/100 [00:06<01:52,  1.18s/it]"
     ]
    },
    {
     "name": "stdout",
     "output_type": "stream",
     "text": [
      "SMAPE: 3.507672159174944\n",
      "R2: 0.9642913768247501\n",
      "===== < BUILDING NO.6 > =====\n"
     ]
    },
    {
     "name": "stderr",
     "output_type": "stream",
     "text": [
      "/opt/conda/lib/python3.10/site-packages/xgboost/sklearn.py:835: UserWarning: `early_stopping_rounds` in `fit` method is deprecated for better compatibility with scikit-learn, use `early_stopping_rounds` in constructor or`set_params` instead.\n",
      "  warnings.warn(\n",
      "  6%|▌         | 6/100 [00:07<01:52,  1.20s/it]"
     ]
    },
    {
     "name": "stdout",
     "output_type": "stream",
     "text": [
      "SMAPE: 2.2468971392181447\n",
      "R2: 0.9689029577666786\n",
      "===== < BUILDING NO.7 > =====\n"
     ]
    },
    {
     "name": "stderr",
     "output_type": "stream",
     "text": [
      "/opt/conda/lib/python3.10/site-packages/xgboost/sklearn.py:835: UserWarning: `early_stopping_rounds` in `fit` method is deprecated for better compatibility with scikit-learn, use `early_stopping_rounds` in constructor or`set_params` instead.\n",
      "  warnings.warn(\n",
      "  7%|▋         | 7/100 [00:08<01:45,  1.14s/it]"
     ]
    },
    {
     "name": "stdout",
     "output_type": "stream",
     "text": [
      "SMAPE: 4.333272670925453\n",
      "R2: 0.9060958145060787\n",
      "===== < BUILDING NO.8 > =====\n"
     ]
    },
    {
     "name": "stderr",
     "output_type": "stream",
     "text": [
      "/opt/conda/lib/python3.10/site-packages/xgboost/sklearn.py:835: UserWarning: `early_stopping_rounds` in `fit` method is deprecated for better compatibility with scikit-learn, use `early_stopping_rounds` in constructor or`set_params` instead.\n",
      "  warnings.warn(\n",
      "  8%|▊         | 8/100 [00:10<01:56,  1.27s/it]"
     ]
    },
    {
     "name": "stdout",
     "output_type": "stream",
     "text": [
      "SMAPE: 2.44325686603149\n",
      "R2: 0.7351378479755595\n",
      "===== < BUILDING NO.9 > =====\n"
     ]
    },
    {
     "name": "stderr",
     "output_type": "stream",
     "text": [
      "/opt/conda/lib/python3.10/site-packages/xgboost/sklearn.py:835: UserWarning: `early_stopping_rounds` in `fit` method is deprecated for better compatibility with scikit-learn, use `early_stopping_rounds` in constructor or`set_params` instead.\n",
      "  warnings.warn(\n",
      "  9%|▉         | 9/100 [00:11<02:06,  1.39s/it]"
     ]
    },
    {
     "name": "stdout",
     "output_type": "stream",
     "text": [
      "SMAPE: 2.174352069842542\n",
      "R2: 0.9717021895248862\n",
      "===== < BUILDING NO.10 > =====\n"
     ]
    },
    {
     "name": "stderr",
     "output_type": "stream",
     "text": [
      "/opt/conda/lib/python3.10/site-packages/xgboost/sklearn.py:835: UserWarning: `early_stopping_rounds` in `fit` method is deprecated for better compatibility with scikit-learn, use `early_stopping_rounds` in constructor or`set_params` instead.\n",
      "  warnings.warn(\n",
      " 10%|█         | 10/100 [00:12<01:52,  1.25s/it]"
     ]
    },
    {
     "name": "stdout",
     "output_type": "stream",
     "text": [
      "SMAPE: 3.623798109635635\n",
      "R2: 0.44647936617082273\n",
      "===== < BUILDING NO.11 > =====\n"
     ]
    },
    {
     "name": "stderr",
     "output_type": "stream",
     "text": [
      "/opt/conda/lib/python3.10/site-packages/xgboost/sklearn.py:835: UserWarning: `early_stopping_rounds` in `fit` method is deprecated for better compatibility with scikit-learn, use `early_stopping_rounds` in constructor or`set_params` instead.\n",
      "  warnings.warn(\n",
      " 11%|█         | 11/100 [00:14<01:59,  1.34s/it]"
     ]
    },
    {
     "name": "stdout",
     "output_type": "stream",
     "text": [
      "SMAPE: 1.6545924034733546\n",
      "R2: 0.9039160007710692\n",
      "===== < BUILDING NO.12 > =====\n"
     ]
    },
    {
     "name": "stderr",
     "output_type": "stream",
     "text": [
      "/opt/conda/lib/python3.10/site-packages/xgboost/sklearn.py:835: UserWarning: `early_stopping_rounds` in `fit` method is deprecated for better compatibility with scikit-learn, use `early_stopping_rounds` in constructor or`set_params` instead.\n",
      "  warnings.warn(\n",
      " 12%|█▏        | 12/100 [00:16<02:06,  1.43s/it]"
     ]
    },
    {
     "name": "stdout",
     "output_type": "stream",
     "text": [
      "SMAPE: 2.5047585567034085\n",
      "R2: 0.8607990873955604\n",
      "===== < BUILDING NO.13 > =====\n"
     ]
    },
    {
     "name": "stderr",
     "output_type": "stream",
     "text": [
      "/opt/conda/lib/python3.10/site-packages/xgboost/sklearn.py:835: UserWarning: `early_stopping_rounds` in `fit` method is deprecated for better compatibility with scikit-learn, use `early_stopping_rounds` in constructor or`set_params` instead.\n",
      "  warnings.warn(\n",
      " 13%|█▎        | 13/100 [00:17<02:03,  1.42s/it]"
     ]
    },
    {
     "name": "stdout",
     "output_type": "stream",
     "text": [
      "SMAPE: 3.496462420044567\n",
      "R2: 0.19377698841111735\n",
      "===== < BUILDING NO.14 > =====\n"
     ]
    },
    {
     "name": "stderr",
     "output_type": "stream",
     "text": [
      "/opt/conda/lib/python3.10/site-packages/xgboost/sklearn.py:835: UserWarning: `early_stopping_rounds` in `fit` method is deprecated for better compatibility with scikit-learn, use `early_stopping_rounds` in constructor or`set_params` instead.\n",
      "  warnings.warn(\n",
      " 14%|█▍        | 14/100 [00:18<01:50,  1.28s/it]"
     ]
    },
    {
     "name": "stdout",
     "output_type": "stream",
     "text": [
      "SMAPE: 8.31562679276592\n",
      "R2: 0.27420760662127597\n",
      "===== < BUILDING NO.15 > =====\n"
     ]
    },
    {
     "name": "stderr",
     "output_type": "stream",
     "text": [
      "/opt/conda/lib/python3.10/site-packages/xgboost/sklearn.py:835: UserWarning: `early_stopping_rounds` in `fit` method is deprecated for better compatibility with scikit-learn, use `early_stopping_rounds` in constructor or`set_params` instead.\n",
      "  warnings.warn(\n",
      " 15%|█▌        | 15/100 [00:19<01:51,  1.31s/it]"
     ]
    },
    {
     "name": "stdout",
     "output_type": "stream",
     "text": [
      "SMAPE: 1.4217463752358752\n",
      "R2: 0.9168731456692368\n",
      "===== < BUILDING NO.16 > =====\n"
     ]
    },
    {
     "name": "stderr",
     "output_type": "stream",
     "text": [
      "/opt/conda/lib/python3.10/site-packages/xgboost/sklearn.py:835: UserWarning: `early_stopping_rounds` in `fit` method is deprecated for better compatibility with scikit-learn, use `early_stopping_rounds` in constructor or`set_params` instead.\n",
      "  warnings.warn(\n",
      " 16%|█▌        | 16/100 [00:20<01:42,  1.22s/it]"
     ]
    },
    {
     "name": "stdout",
     "output_type": "stream",
     "text": [
      "SMAPE: 2.368078610115772\n",
      "R2: 0.9806195227640377\n",
      "===== < BUILDING NO.17 > =====\n"
     ]
    },
    {
     "name": "stderr",
     "output_type": "stream",
     "text": [
      "/opt/conda/lib/python3.10/site-packages/xgboost/sklearn.py:835: UserWarning: `early_stopping_rounds` in `fit` method is deprecated for better compatibility with scikit-learn, use `early_stopping_rounds` in constructor or`set_params` instead.\n",
      "  warnings.warn(\n",
      " 17%|█▋        | 17/100 [00:22<02:04,  1.50s/it]"
     ]
    },
    {
     "name": "stdout",
     "output_type": "stream",
     "text": [
      "SMAPE: 2.9656508375499513\n",
      "R2: 0.9401083053890646\n",
      "===== < BUILDING NO.18 > =====\n"
     ]
    },
    {
     "name": "stderr",
     "output_type": "stream",
     "text": [
      "/opt/conda/lib/python3.10/site-packages/xgboost/sklearn.py:835: UserWarning: `early_stopping_rounds` in `fit` method is deprecated for better compatibility with scikit-learn, use `early_stopping_rounds` in constructor or`set_params` instead.\n",
      "  warnings.warn(\n",
      " 18%|█▊        | 18/100 [00:24<02:08,  1.57s/it]"
     ]
    },
    {
     "name": "stdout",
     "output_type": "stream",
     "text": [
      "SMAPE: 3.2311416309067997\n",
      "R2: 0.9371458479800351\n",
      "===== < BUILDING NO.19 > =====\n"
     ]
    },
    {
     "name": "stderr",
     "output_type": "stream",
     "text": [
      "/opt/conda/lib/python3.10/site-packages/xgboost/sklearn.py:835: UserWarning: `early_stopping_rounds` in `fit` method is deprecated for better compatibility with scikit-learn, use `early_stopping_rounds` in constructor or`set_params` instead.\n",
      "  warnings.warn(\n",
      " 19%|█▉        | 19/100 [00:26<02:11,  1.62s/it]"
     ]
    },
    {
     "name": "stdout",
     "output_type": "stream",
     "text": [
      "SMAPE: 4.231273640177277\n",
      "R2: 0.9280465130119451\n",
      "===== < BUILDING NO.20 > =====\n"
     ]
    },
    {
     "name": "stderr",
     "output_type": "stream",
     "text": [
      "/opt/conda/lib/python3.10/site-packages/xgboost/sklearn.py:835: UserWarning: `early_stopping_rounds` in `fit` method is deprecated for better compatibility with scikit-learn, use `early_stopping_rounds` in constructor or`set_params` instead.\n",
      "  warnings.warn(\n",
      " 20%|██        | 20/100 [00:28<02:13,  1.66s/it]"
     ]
    },
    {
     "name": "stdout",
     "output_type": "stream",
     "text": [
      "SMAPE: 2.4086710903905\n",
      "R2: 0.9804349245071076\n",
      "===== < BUILDING NO.21 > =====\n"
     ]
    },
    {
     "name": "stderr",
     "output_type": "stream",
     "text": [
      "/opt/conda/lib/python3.10/site-packages/xgboost/sklearn.py:835: UserWarning: `early_stopping_rounds` in `fit` method is deprecated for better compatibility with scikit-learn, use `early_stopping_rounds` in constructor or`set_params` instead.\n",
      "  warnings.warn(\n",
      " 21%|██        | 21/100 [00:30<02:29,  1.89s/it]"
     ]
    },
    {
     "name": "stdout",
     "output_type": "stream",
     "text": [
      "SMAPE: 3.3770193976002156\n",
      "R2: 0.9500470770330162\n",
      "===== < BUILDING NO.22 > =====\n"
     ]
    },
    {
     "name": "stderr",
     "output_type": "stream",
     "text": [
      "/opt/conda/lib/python3.10/site-packages/xgboost/sklearn.py:835: UserWarning: `early_stopping_rounds` in `fit` method is deprecated for better compatibility with scikit-learn, use `early_stopping_rounds` in constructor or`set_params` instead.\n",
      "  warnings.warn(\n",
      " 22%|██▏       | 22/100 [00:31<02:13,  1.71s/it]"
     ]
    },
    {
     "name": "stdout",
     "output_type": "stream",
     "text": [
      "SMAPE: 1.8336330993480217\n",
      "R2: 0.9382130094600518\n",
      "===== < BUILDING NO.23 > =====\n"
     ]
    },
    {
     "name": "stderr",
     "output_type": "stream",
     "text": [
      "/opt/conda/lib/python3.10/site-packages/xgboost/sklearn.py:835: UserWarning: `early_stopping_rounds` in `fit` method is deprecated for better compatibility with scikit-learn, use `early_stopping_rounds` in constructor or`set_params` instead.\n",
      "  warnings.warn(\n",
      " 23%|██▎       | 23/100 [00:33<01:58,  1.54s/it]"
     ]
    },
    {
     "name": "stdout",
     "output_type": "stream",
     "text": [
      "SMAPE: 1.0703881958253543\n",
      "R2: 0.9634547617119086\n",
      "===== < BUILDING NO.24 > =====\n"
     ]
    },
    {
     "name": "stderr",
     "output_type": "stream",
     "text": [
      "/opt/conda/lib/python3.10/site-packages/xgboost/sklearn.py:835: UserWarning: `early_stopping_rounds` in `fit` method is deprecated for better compatibility with scikit-learn, use `early_stopping_rounds` in constructor or`set_params` instead.\n",
      "  warnings.warn(\n",
      " 24%|██▍       | 24/100 [00:36<02:35,  2.04s/it]"
     ]
    },
    {
     "name": "stdout",
     "output_type": "stream",
     "text": [
      "SMAPE: 1.2727294301559726\n",
      "R2: 0.9852824313493417\n",
      "===== < BUILDING NO.25 > =====\n"
     ]
    },
    {
     "name": "stderr",
     "output_type": "stream",
     "text": [
      "/opt/conda/lib/python3.10/site-packages/xgboost/sklearn.py:835: UserWarning: `early_stopping_rounds` in `fit` method is deprecated for better compatibility with scikit-learn, use `early_stopping_rounds` in constructor or`set_params` instead.\n",
      "  warnings.warn(\n",
      " 25%|██▌       | 25/100 [00:38<02:38,  2.11s/it]"
     ]
    },
    {
     "name": "stdout",
     "output_type": "stream",
     "text": [
      "SMAPE: 1.1191880200013231\n",
      "R2: 0.9851900337636407\n",
      "===== < BUILDING NO.26 > =====\n"
     ]
    },
    {
     "name": "stderr",
     "output_type": "stream",
     "text": [
      "/opt/conda/lib/python3.10/site-packages/xgboost/sklearn.py:835: UserWarning: `early_stopping_rounds` in `fit` method is deprecated for better compatibility with scikit-learn, use `early_stopping_rounds` in constructor or`set_params` instead.\n",
      "  warnings.warn(\n",
      " 26%|██▌       | 26/100 [00:39<02:14,  1.82s/it]"
     ]
    },
    {
     "name": "stdout",
     "output_type": "stream",
     "text": [
      "SMAPE: 1.1276885328568866\n",
      "R2: 0.9827724606505066\n",
      "===== < BUILDING NO.27 > =====\n"
     ]
    },
    {
     "name": "stderr",
     "output_type": "stream",
     "text": [
      "/opt/conda/lib/python3.10/site-packages/xgboost/sklearn.py:835: UserWarning: `early_stopping_rounds` in `fit` method is deprecated for better compatibility with scikit-learn, use `early_stopping_rounds` in constructor or`set_params` instead.\n",
      "  warnings.warn(\n",
      " 27%|██▋       | 27/100 [00:40<01:59,  1.63s/it]"
     ]
    },
    {
     "name": "stdout",
     "output_type": "stream",
     "text": [
      "SMAPE: 0.8877781780437648\n",
      "R2: 0.9807261912170341\n",
      "===== < BUILDING NO.28 > =====\n"
     ]
    },
    {
     "name": "stderr",
     "output_type": "stream",
     "text": [
      "/opt/conda/lib/python3.10/site-packages/xgboost/sklearn.py:835: UserWarning: `early_stopping_rounds` in `fit` method is deprecated for better compatibility with scikit-learn, use `early_stopping_rounds` in constructor or`set_params` instead.\n",
      "  warnings.warn(\n",
      " 28%|██▊       | 28/100 [00:41<01:42,  1.42s/it]"
     ]
    },
    {
     "name": "stdout",
     "output_type": "stream",
     "text": [
      "SMAPE: 2.3221491879222964\n",
      "R2: 0.964697621385352\n",
      "===== < BUILDING NO.29 > =====\n"
     ]
    },
    {
     "name": "stderr",
     "output_type": "stream",
     "text": [
      "/opt/conda/lib/python3.10/site-packages/xgboost/sklearn.py:835: UserWarning: `early_stopping_rounds` in `fit` method is deprecated for better compatibility with scikit-learn, use `early_stopping_rounds` in constructor or`set_params` instead.\n",
      "  warnings.warn(\n",
      " 29%|██▉       | 29/100 [00:42<01:32,  1.30s/it]"
     ]
    },
    {
     "name": "stdout",
     "output_type": "stream",
     "text": [
      "SMAPE: 1.9497307397640093\n",
      "R2: 0.954499683269231\n",
      "===== < BUILDING NO.30 > =====\n"
     ]
    },
    {
     "name": "stderr",
     "output_type": "stream",
     "text": [
      "/opt/conda/lib/python3.10/site-packages/xgboost/sklearn.py:835: UserWarning: `early_stopping_rounds` in `fit` method is deprecated for better compatibility with scikit-learn, use `early_stopping_rounds` in constructor or`set_params` instead.\n",
      "  warnings.warn(\n",
      " 30%|███       | 30/100 [00:44<01:36,  1.37s/it]"
     ]
    },
    {
     "name": "stdout",
     "output_type": "stream",
     "text": [
      "SMAPE: 3.262110886983496\n",
      "R2: 0.8821343376374882\n",
      "===== < BUILDING NO.31 > =====\n"
     ]
    },
    {
     "name": "stderr",
     "output_type": "stream",
     "text": [
      "/opt/conda/lib/python3.10/site-packages/xgboost/sklearn.py:835: UserWarning: `early_stopping_rounds` in `fit` method is deprecated for better compatibility with scikit-learn, use `early_stopping_rounds` in constructor or`set_params` instead.\n",
      "  warnings.warn(\n",
      " 31%|███       | 31/100 [00:45<01:25,  1.24s/it]"
     ]
    },
    {
     "name": "stdout",
     "output_type": "stream",
     "text": [
      "SMAPE: 2.286222426678163\n",
      "R2: 0.9537938307836888\n",
      "===== < BUILDING NO.32 > =====\n"
     ]
    },
    {
     "name": "stderr",
     "output_type": "stream",
     "text": [
      "/opt/conda/lib/python3.10/site-packages/xgboost/sklearn.py:835: UserWarning: `early_stopping_rounds` in `fit` method is deprecated for better compatibility with scikit-learn, use `early_stopping_rounds` in constructor or`set_params` instead.\n",
      "  warnings.warn(\n",
      " 32%|███▏      | 32/100 [00:46<01:32,  1.36s/it]"
     ]
    },
    {
     "name": "stdout",
     "output_type": "stream",
     "text": [
      "SMAPE: 0.18562187252430876\n",
      "R2: 0.8664244717404739\n",
      "===== < BUILDING NO.33 > =====\n"
     ]
    },
    {
     "name": "stderr",
     "output_type": "stream",
     "text": [
      "/opt/conda/lib/python3.10/site-packages/xgboost/sklearn.py:835: UserWarning: `early_stopping_rounds` in `fit` method is deprecated for better compatibility with scikit-learn, use `early_stopping_rounds` in constructor or`set_params` instead.\n",
      "  warnings.warn(\n",
      " 33%|███▎      | 33/100 [00:49<01:47,  1.60s/it]"
     ]
    },
    {
     "name": "stdout",
     "output_type": "stream",
     "text": [
      "SMAPE: 0.19492700143852346\n",
      "R2: 0.7452709295693078\n",
      "===== < BUILDING NO.34 > =====\n"
     ]
    },
    {
     "name": "stderr",
     "output_type": "stream",
     "text": [
      "/opt/conda/lib/python3.10/site-packages/xgboost/sklearn.py:835: UserWarning: `early_stopping_rounds` in `fit` method is deprecated for better compatibility with scikit-learn, use `early_stopping_rounds` in constructor or`set_params` instead.\n",
      "  warnings.warn(\n",
      " 34%|███▍      | 34/100 [00:50<01:44,  1.58s/it]"
     ]
    },
    {
     "name": "stdout",
     "output_type": "stream",
     "text": [
      "SMAPE: 0.4069333175169637\n",
      "R2: 0.838951580419725\n",
      "===== < BUILDING NO.35 > =====\n"
     ]
    },
    {
     "name": "stderr",
     "output_type": "stream",
     "text": [
      "/opt/conda/lib/python3.10/site-packages/xgboost/sklearn.py:835: UserWarning: `early_stopping_rounds` in `fit` method is deprecated for better compatibility with scikit-learn, use `early_stopping_rounds` in constructor or`set_params` instead.\n",
      "  warnings.warn(\n",
      " 35%|███▌      | 35/100 [00:52<01:41,  1.56s/it]"
     ]
    },
    {
     "name": "stdout",
     "output_type": "stream",
     "text": [
      "SMAPE: 0.18111919632754162\n",
      "R2: 0.9143525264255867\n",
      "===== < BUILDING NO.36 > =====\n"
     ]
    },
    {
     "name": "stderr",
     "output_type": "stream",
     "text": [
      "/opt/conda/lib/python3.10/site-packages/xgboost/sklearn.py:835: UserWarning: `early_stopping_rounds` in `fit` method is deprecated for better compatibility with scikit-learn, use `early_stopping_rounds` in constructor or`set_params` instead.\n",
      "  warnings.warn(\n",
      " 36%|███▌      | 36/100 [00:53<01:41,  1.59s/it]"
     ]
    },
    {
     "name": "stdout",
     "output_type": "stream",
     "text": [
      "SMAPE: 0.3678864793522451\n",
      "R2: 0.55170142899718\n",
      "===== < BUILDING NO.37 > =====\n"
     ]
    },
    {
     "name": "stderr",
     "output_type": "stream",
     "text": [
      "/opt/conda/lib/python3.10/site-packages/xgboost/sklearn.py:835: UserWarning: `early_stopping_rounds` in `fit` method is deprecated for better compatibility with scikit-learn, use `early_stopping_rounds` in constructor or`set_params` instead.\n",
      "  warnings.warn(\n",
      " 37%|███▋      | 37/100 [00:55<01:43,  1.64s/it]"
     ]
    },
    {
     "name": "stdout",
     "output_type": "stream",
     "text": [
      "SMAPE: 2.5653169322017284\n",
      "R2: 0.9796371632028724\n",
      "===== < BUILDING NO.38 > =====\n"
     ]
    },
    {
     "name": "stderr",
     "output_type": "stream",
     "text": [
      "/opt/conda/lib/python3.10/site-packages/xgboost/sklearn.py:835: UserWarning: `early_stopping_rounds` in `fit` method is deprecated for better compatibility with scikit-learn, use `early_stopping_rounds` in constructor or`set_params` instead.\n",
      "  warnings.warn(\n",
      " 38%|███▊      | 38/100 [00:56<01:33,  1.51s/it]"
     ]
    },
    {
     "name": "stdout",
     "output_type": "stream",
     "text": [
      "SMAPE: 2.1611257163627924\n",
      "R2: 0.9872733081225288\n",
      "===== < BUILDING NO.39 > =====\n"
     ]
    },
    {
     "name": "stderr",
     "output_type": "stream",
     "text": [
      "/opt/conda/lib/python3.10/site-packages/xgboost/sklearn.py:835: UserWarning: `early_stopping_rounds` in `fit` method is deprecated for better compatibility with scikit-learn, use `early_stopping_rounds` in constructor or`set_params` instead.\n",
      "  warnings.warn(\n",
      " 39%|███▉      | 39/100 [00:58<01:45,  1.73s/it]"
     ]
    },
    {
     "name": "stdout",
     "output_type": "stream",
     "text": [
      "SMAPE: 2.833936725392279\n",
      "R2: 0.9714542022798921\n",
      "===== < BUILDING NO.40 > =====\n"
     ]
    },
    {
     "name": "stderr",
     "output_type": "stream",
     "text": [
      "/opt/conda/lib/python3.10/site-packages/xgboost/sklearn.py:835: UserWarning: `early_stopping_rounds` in `fit` method is deprecated for better compatibility with scikit-learn, use `early_stopping_rounds` in constructor or`set_params` instead.\n",
      "  warnings.warn(\n",
      " 40%|████      | 40/100 [00:59<01:29,  1.50s/it]"
     ]
    },
    {
     "name": "stdout",
     "output_type": "stream",
     "text": [
      "SMAPE: 6.205540735134859\n",
      "R2: 0.8886869490351152\n",
      "===== < BUILDING NO.41 > =====\n"
     ]
    },
    {
     "name": "stderr",
     "output_type": "stream",
     "text": [
      "/opt/conda/lib/python3.10/site-packages/xgboost/sklearn.py:835: UserWarning: `early_stopping_rounds` in `fit` method is deprecated for better compatibility with scikit-learn, use `early_stopping_rounds` in constructor or`set_params` instead.\n",
      "  warnings.warn(\n",
      " 41%|████      | 41/100 [01:01<01:25,  1.45s/it]"
     ]
    },
    {
     "name": "stdout",
     "output_type": "stream",
     "text": [
      "SMAPE: 2.2851644200225913\n",
      "R2: 0.9820318252619586\n",
      "===== < BUILDING NO.42 > =====\n"
     ]
    },
    {
     "name": "stderr",
     "output_type": "stream",
     "text": [
      "/opt/conda/lib/python3.10/site-packages/xgboost/sklearn.py:835: UserWarning: `early_stopping_rounds` in `fit` method is deprecated for better compatibility with scikit-learn, use `early_stopping_rounds` in constructor or`set_params` instead.\n",
      "  warnings.warn(\n",
      " 42%|████▏     | 42/100 [01:02<01:13,  1.27s/it]"
     ]
    },
    {
     "name": "stdout",
     "output_type": "stream",
     "text": [
      "SMAPE: 8.274269270613065\n",
      "R2: 0.8370584924174883\n",
      "===== < BUILDING NO.43 > =====\n"
     ]
    },
    {
     "name": "stderr",
     "output_type": "stream",
     "text": [
      "/opt/conda/lib/python3.10/site-packages/xgboost/sklearn.py:835: UserWarning: `early_stopping_rounds` in `fit` method is deprecated for better compatibility with scikit-learn, use `early_stopping_rounds` in constructor or`set_params` instead.\n",
      "  warnings.warn(\n",
      " 43%|████▎     | 43/100 [01:04<01:33,  1.65s/it]"
     ]
    },
    {
     "name": "stdout",
     "output_type": "stream",
     "text": [
      "SMAPE: 2.7285613825864723\n",
      "R2: 0.9954949495113152\n",
      "===== < BUILDING NO.44 > =====\n"
     ]
    },
    {
     "name": "stderr",
     "output_type": "stream",
     "text": [
      "/opt/conda/lib/python3.10/site-packages/xgboost/sklearn.py:835: UserWarning: `early_stopping_rounds` in `fit` method is deprecated for better compatibility with scikit-learn, use `early_stopping_rounds` in constructor or`set_params` instead.\n",
      "  warnings.warn(\n",
      " 44%|████▍     | 44/100 [01:05<01:22,  1.47s/it]"
     ]
    },
    {
     "name": "stdout",
     "output_type": "stream",
     "text": [
      "SMAPE: 2.0128495041002146\n",
      "R2: 0.9959666560246389\n",
      "===== < BUILDING NO.45 > =====\n"
     ]
    },
    {
     "name": "stderr",
     "output_type": "stream",
     "text": [
      "/opt/conda/lib/python3.10/site-packages/xgboost/sklearn.py:835: UserWarning: `early_stopping_rounds` in `fit` method is deprecated for better compatibility with scikit-learn, use `early_stopping_rounds` in constructor or`set_params` instead.\n",
      "  warnings.warn(\n",
      " 45%|████▌     | 45/100 [01:07<01:24,  1.53s/it]"
     ]
    },
    {
     "name": "stdout",
     "output_type": "stream",
     "text": [
      "SMAPE: 1.1556823449263338\n",
      "R2: 0.9682873546324493\n",
      "===== < BUILDING NO.46 > =====\n"
     ]
    },
    {
     "name": "stderr",
     "output_type": "stream",
     "text": [
      "/opt/conda/lib/python3.10/site-packages/xgboost/sklearn.py:835: UserWarning: `early_stopping_rounds` in `fit` method is deprecated for better compatibility with scikit-learn, use `early_stopping_rounds` in constructor or`set_params` instead.\n",
      "  warnings.warn(\n",
      " 46%|████▌     | 46/100 [01:08<01:21,  1.50s/it]"
     ]
    },
    {
     "name": "stdout",
     "output_type": "stream",
     "text": [
      "SMAPE: 2.1103256319582893\n",
      "R2: 0.9537200425099766\n",
      "===== < BUILDING NO.47 > =====\n"
     ]
    },
    {
     "name": "stderr",
     "output_type": "stream",
     "text": [
      "/opt/conda/lib/python3.10/site-packages/xgboost/sklearn.py:835: UserWarning: `early_stopping_rounds` in `fit` method is deprecated for better compatibility with scikit-learn, use `early_stopping_rounds` in constructor or`set_params` instead.\n",
      "  warnings.warn(\n",
      " 47%|████▋     | 47/100 [01:09<01:13,  1.38s/it]"
     ]
    },
    {
     "name": "stdout",
     "output_type": "stream",
     "text": [
      "SMAPE: 2.183424388301227\n",
      "R2: 0.933963695884009\n",
      "===== < BUILDING NO.48 > =====\n"
     ]
    },
    {
     "name": "stderr",
     "output_type": "stream",
     "text": [
      "/opt/conda/lib/python3.10/site-packages/xgboost/sklearn.py:835: UserWarning: `early_stopping_rounds` in `fit` method is deprecated for better compatibility with scikit-learn, use `early_stopping_rounds` in constructor or`set_params` instead.\n",
      "  warnings.warn(\n",
      " 48%|████▊     | 48/100 [01:11<01:15,  1.46s/it]"
     ]
    },
    {
     "name": "stdout",
     "output_type": "stream",
     "text": [
      "SMAPE: 0.9635361726167126\n",
      "R2: 0.9872958847230113\n",
      "===== < BUILDING NO.49 > =====\n"
     ]
    },
    {
     "name": "stderr",
     "output_type": "stream",
     "text": [
      "/opt/conda/lib/python3.10/site-packages/xgboost/sklearn.py:835: UserWarning: `early_stopping_rounds` in `fit` method is deprecated for better compatibility with scikit-learn, use `early_stopping_rounds` in constructor or`set_params` instead.\n",
      "  warnings.warn(\n",
      " 49%|████▉     | 49/100 [01:14<01:36,  1.89s/it]"
     ]
    },
    {
     "name": "stdout",
     "output_type": "stream",
     "text": [
      "SMAPE: 1.3878553800953894\n",
      "R2: 0.9435077218877712\n",
      "===== < BUILDING NO.50 > =====\n"
     ]
    },
    {
     "name": "stderr",
     "output_type": "stream",
     "text": [
      "/opt/conda/lib/python3.10/site-packages/xgboost/sklearn.py:835: UserWarning: `early_stopping_rounds` in `fit` method is deprecated for better compatibility with scikit-learn, use `early_stopping_rounds` in constructor or`set_params` instead.\n",
      "  warnings.warn(\n",
      " 50%|█████     | 50/100 [01:15<01:23,  1.68s/it]"
     ]
    },
    {
     "name": "stdout",
     "output_type": "stream",
     "text": [
      "SMAPE: 1.1352957116676459\n",
      "R2: 0.9542441233159059\n",
      "===== < BUILDING NO.51 > =====\n"
     ]
    },
    {
     "name": "stderr",
     "output_type": "stream",
     "text": [
      "/opt/conda/lib/python3.10/site-packages/xgboost/sklearn.py:835: UserWarning: `early_stopping_rounds` in `fit` method is deprecated for better compatibility with scikit-learn, use `early_stopping_rounds` in constructor or`set_params` instead.\n",
      "  warnings.warn(\n",
      " 51%|█████     | 51/100 [01:22<02:33,  3.13s/it]"
     ]
    },
    {
     "name": "stdout",
     "output_type": "stream",
     "text": [
      "SMAPE: 1.6720243090897469\n",
      "R2: 0.9425303753311524\n",
      "===== < BUILDING NO.52 > =====\n"
     ]
    },
    {
     "name": "stderr",
     "output_type": "stream",
     "text": [
      "/opt/conda/lib/python3.10/site-packages/xgboost/sklearn.py:835: UserWarning: `early_stopping_rounds` in `fit` method is deprecated for better compatibility with scikit-learn, use `early_stopping_rounds` in constructor or`set_params` instead.\n",
      "  warnings.warn(\n",
      " 52%|█████▏    | 52/100 [01:24<02:16,  2.85s/it]"
     ]
    },
    {
     "name": "stdout",
     "output_type": "stream",
     "text": [
      "SMAPE: 2.029422786075006\n",
      "R2: 0.955202437894411\n",
      "===== < BUILDING NO.53 > =====\n"
     ]
    },
    {
     "name": "stderr",
     "output_type": "stream",
     "text": [
      "/opt/conda/lib/python3.10/site-packages/xgboost/sklearn.py:835: UserWarning: `early_stopping_rounds` in `fit` method is deprecated for better compatibility with scikit-learn, use `early_stopping_rounds` in constructor or`set_params` instead.\n",
      "  warnings.warn(\n",
      " 53%|█████▎    | 53/100 [01:25<01:48,  2.31s/it]"
     ]
    },
    {
     "name": "stdout",
     "output_type": "stream",
     "text": [
      "SMAPE: 5.418691768799057\n",
      "R2: 0.9592015997990747\n",
      "===== < BUILDING NO.54 > =====\n"
     ]
    },
    {
     "name": "stderr",
     "output_type": "stream",
     "text": [
      "/opt/conda/lib/python3.10/site-packages/xgboost/sklearn.py:835: UserWarning: `early_stopping_rounds` in `fit` method is deprecated for better compatibility with scikit-learn, use `early_stopping_rounds` in constructor or`set_params` instead.\n",
      "  warnings.warn(\n",
      " 54%|█████▍    | 54/100 [01:26<01:33,  2.02s/it]"
     ]
    },
    {
     "name": "stdout",
     "output_type": "stream",
     "text": [
      "SMAPE: 10.717394325203726\n",
      "R2: 0.729673047953564\n",
      "===== < BUILDING NO.55 > =====\n"
     ]
    },
    {
     "name": "stderr",
     "output_type": "stream",
     "text": [
      "/opt/conda/lib/python3.10/site-packages/xgboost/sklearn.py:835: UserWarning: `early_stopping_rounds` in `fit` method is deprecated for better compatibility with scikit-learn, use `early_stopping_rounds` in constructor or`set_params` instead.\n",
      "  warnings.warn(\n",
      " 55%|█████▌    | 55/100 [01:28<01:20,  1.79s/it]"
     ]
    },
    {
     "name": "stdout",
     "output_type": "stream",
     "text": [
      "SMAPE: 0.8438725449484686\n",
      "R2: 0.9036370495906844\n",
      "===== < BUILDING NO.56 > =====\n"
     ]
    },
    {
     "name": "stderr",
     "output_type": "stream",
     "text": [
      "/opt/conda/lib/python3.10/site-packages/xgboost/sklearn.py:835: UserWarning: `early_stopping_rounds` in `fit` method is deprecated for better compatibility with scikit-learn, use `early_stopping_rounds` in constructor or`set_params` instead.\n",
      "  warnings.warn(\n",
      " 56%|█████▌    | 56/100 [01:29<01:15,  1.71s/it]"
     ]
    },
    {
     "name": "stdout",
     "output_type": "stream",
     "text": [
      "SMAPE: 0.4494700932292596\n",
      "R2: 0.9300431730445985\n",
      "===== < BUILDING NO.57 > =====\n"
     ]
    },
    {
     "name": "stderr",
     "output_type": "stream",
     "text": [
      "/opt/conda/lib/python3.10/site-packages/xgboost/sklearn.py:835: UserWarning: `early_stopping_rounds` in `fit` method is deprecated for better compatibility with scikit-learn, use `early_stopping_rounds` in constructor or`set_params` instead.\n",
      "  warnings.warn(\n",
      " 57%|█████▋    | 57/100 [01:30<01:07,  1.56s/it]"
     ]
    },
    {
     "name": "stdout",
     "output_type": "stream",
     "text": [
      "SMAPE: 2.280541294700845\n",
      "R2: 0.986512489034662\n",
      "===== < BUILDING NO.58 > =====\n"
     ]
    },
    {
     "name": "stderr",
     "output_type": "stream",
     "text": [
      "/opt/conda/lib/python3.10/site-packages/xgboost/sklearn.py:835: UserWarning: `early_stopping_rounds` in `fit` method is deprecated for better compatibility with scikit-learn, use `early_stopping_rounds` in constructor or`set_params` instead.\n",
      "  warnings.warn(\n",
      " 58%|█████▊    | 58/100 [01:32<01:11,  1.69s/it]"
     ]
    },
    {
     "name": "stdout",
     "output_type": "stream",
     "text": [
      "SMAPE: 0.2231532094551641\n",
      "R2: 0.9332565943360288\n",
      "===== < BUILDING NO.59 > =====\n"
     ]
    },
    {
     "name": "stderr",
     "output_type": "stream",
     "text": [
      "/opt/conda/lib/python3.10/site-packages/xgboost/sklearn.py:835: UserWarning: `early_stopping_rounds` in `fit` method is deprecated for better compatibility with scikit-learn, use `early_stopping_rounds` in constructor or`set_params` instead.\n",
      "  warnings.warn(\n",
      " 59%|█████▉    | 59/100 [01:34<01:07,  1.64s/it]"
     ]
    },
    {
     "name": "stdout",
     "output_type": "stream",
     "text": [
      "SMAPE: 2.716717274982718\n",
      "R2: 0.9823230600779824\n",
      "===== < BUILDING NO.60 > =====\n"
     ]
    },
    {
     "name": "stderr",
     "output_type": "stream",
     "text": [
      "/opt/conda/lib/python3.10/site-packages/xgboost/sklearn.py:835: UserWarning: `early_stopping_rounds` in `fit` method is deprecated for better compatibility with scikit-learn, use `early_stopping_rounds` in constructor or`set_params` instead.\n",
      "  warnings.warn(\n",
      " 60%|██████    | 60/100 [01:35<00:58,  1.46s/it]"
     ]
    },
    {
     "name": "stdout",
     "output_type": "stream",
     "text": [
      "SMAPE: 2.8301305277752804\n",
      "R2: 0.9525928926692715\n",
      "===== < BUILDING NO.61 > =====\n"
     ]
    },
    {
     "name": "stderr",
     "output_type": "stream",
     "text": [
      "/opt/conda/lib/python3.10/site-packages/xgboost/sklearn.py:835: UserWarning: `early_stopping_rounds` in `fit` method is deprecated for better compatibility with scikit-learn, use `early_stopping_rounds` in constructor or`set_params` instead.\n",
      "  warnings.warn(\n",
      " 61%|██████    | 61/100 [01:36<00:54,  1.40s/it]"
     ]
    },
    {
     "name": "stdout",
     "output_type": "stream",
     "text": [
      "SMAPE: 2.217522669031493\n",
      "R2: 0.945431302748056\n",
      "===== < BUILDING NO.62 > =====\n"
     ]
    },
    {
     "name": "stderr",
     "output_type": "stream",
     "text": [
      "/opt/conda/lib/python3.10/site-packages/xgboost/sklearn.py:835: UserWarning: `early_stopping_rounds` in `fit` method is deprecated for better compatibility with scikit-learn, use `early_stopping_rounds` in constructor or`set_params` instead.\n",
      "  warnings.warn(\n",
      " 62%|██████▏   | 62/100 [01:38<00:59,  1.57s/it]"
     ]
    },
    {
     "name": "stdout",
     "output_type": "stream",
     "text": [
      "SMAPE: 2.6267121119783226\n",
      "R2: 0.9295213255792831\n",
      "===== < BUILDING NO.63 > =====\n"
     ]
    },
    {
     "name": "stderr",
     "output_type": "stream",
     "text": [
      "/opt/conda/lib/python3.10/site-packages/xgboost/sklearn.py:835: UserWarning: `early_stopping_rounds` in `fit` method is deprecated for better compatibility with scikit-learn, use `early_stopping_rounds` in constructor or`set_params` instead.\n",
      "  warnings.warn(\n",
      " 63%|██████▎   | 63/100 [01:39<00:52,  1.43s/it]"
     ]
    },
    {
     "name": "stdout",
     "output_type": "stream",
     "text": [
      "SMAPE: 3.119175823218651\n",
      "R2: 0.9091582193462128\n",
      "===== < BUILDING NO.64 > =====\n"
     ]
    },
    {
     "name": "stderr",
     "output_type": "stream",
     "text": [
      "/opt/conda/lib/python3.10/site-packages/xgboost/sklearn.py:835: UserWarning: `early_stopping_rounds` in `fit` method is deprecated for better compatibility with scikit-learn, use `early_stopping_rounds` in constructor or`set_params` instead.\n",
      "  warnings.warn(\n",
      " 64%|██████▍   | 64/100 [01:40<00:48,  1.35s/it]"
     ]
    },
    {
     "name": "stdout",
     "output_type": "stream",
     "text": [
      "SMAPE: 1.8126262818318826\n",
      "R2: 0.9566443026254512\n",
      "===== < BUILDING NO.65 > =====\n"
     ]
    },
    {
     "name": "stderr",
     "output_type": "stream",
     "text": [
      "/opt/conda/lib/python3.10/site-packages/xgboost/sklearn.py:835: UserWarning: `early_stopping_rounds` in `fit` method is deprecated for better compatibility with scikit-learn, use `early_stopping_rounds` in constructor or`set_params` instead.\n",
      "  warnings.warn(\n",
      " 65%|██████▌   | 65/100 [01:41<00:44,  1.28s/it]"
     ]
    },
    {
     "name": "stdout",
     "output_type": "stream",
     "text": [
      "SMAPE: 3.8942080695919925\n",
      "R2: 0.8859604310625422\n",
      "===== < BUILDING NO.66 > =====\n"
     ]
    },
    {
     "name": "stderr",
     "output_type": "stream",
     "text": [
      "/opt/conda/lib/python3.10/site-packages/xgboost/sklearn.py:835: UserWarning: `early_stopping_rounds` in `fit` method is deprecated for better compatibility with scikit-learn, use `early_stopping_rounds` in constructor or`set_params` instead.\n",
      "  warnings.warn(\n",
      " 66%|██████▌   | 66/100 [01:43<00:43,  1.28s/it]"
     ]
    },
    {
     "name": "stdout",
     "output_type": "stream",
     "text": [
      "SMAPE: 2.2314658496501774\n",
      "R2: 0.8368733267893029\n",
      "===== < BUILDING NO.67 > =====\n"
     ]
    },
    {
     "name": "stderr",
     "output_type": "stream",
     "text": [
      "/opt/conda/lib/python3.10/site-packages/xgboost/sklearn.py:835: UserWarning: `early_stopping_rounds` in `fit` method is deprecated for better compatibility with scikit-learn, use `early_stopping_rounds` in constructor or`set_params` instead.\n",
      "  warnings.warn(\n",
      " 67%|██████▋   | 67/100 [01:44<00:38,  1.17s/it]"
     ]
    },
    {
     "name": "stdout",
     "output_type": "stream",
     "text": [
      "SMAPE: 2.6466432039482766\n",
      "R2: 0.8900485133477126\n",
      "===== < BUILDING NO.68 > =====\n"
     ]
    },
    {
     "name": "stderr",
     "output_type": "stream",
     "text": [
      "/opt/conda/lib/python3.10/site-packages/xgboost/sklearn.py:835: UserWarning: `early_stopping_rounds` in `fit` method is deprecated for better compatibility with scikit-learn, use `early_stopping_rounds` in constructor or`set_params` instead.\n",
      "  warnings.warn(\n",
      " 68%|██████▊   | 68/100 [01:45<00:36,  1.14s/it]"
     ]
    },
    {
     "name": "stdout",
     "output_type": "stream",
     "text": [
      "SMAPE: 2.3423114989020446\n",
      "R2: 0.9436158431874874\n",
      "===== < BUILDING NO.69 > =====\n"
     ]
    },
    {
     "name": "stderr",
     "output_type": "stream",
     "text": [
      "/opt/conda/lib/python3.10/site-packages/xgboost/sklearn.py:835: UserWarning: `early_stopping_rounds` in `fit` method is deprecated for better compatibility with scikit-learn, use `early_stopping_rounds` in constructor or`set_params` instead.\n",
      "  warnings.warn(\n",
      " 69%|██████▉   | 69/100 [01:46<00:36,  1.16s/it]"
     ]
    },
    {
     "name": "stdout",
     "output_type": "stream",
     "text": [
      "SMAPE: 1.1916606092058235\n",
      "R2: 0.9780297421467358\n",
      "===== < BUILDING NO.70 > =====\n"
     ]
    },
    {
     "name": "stderr",
     "output_type": "stream",
     "text": [
      "/opt/conda/lib/python3.10/site-packages/xgboost/sklearn.py:835: UserWarning: `early_stopping_rounds` in `fit` method is deprecated for better compatibility with scikit-learn, use `early_stopping_rounds` in constructor or`set_params` instead.\n",
      "  warnings.warn(\n",
      " 70%|███████   | 70/100 [01:47<00:37,  1.26s/it]"
     ]
    },
    {
     "name": "stdout",
     "output_type": "stream",
     "text": [
      "SMAPE: 3.518972472970827\n",
      "R2: 0.899156993488081\n",
      "===== < BUILDING NO.71 > =====\n"
     ]
    },
    {
     "name": "stderr",
     "output_type": "stream",
     "text": [
      "/opt/conda/lib/python3.10/site-packages/xgboost/sklearn.py:835: UserWarning: `early_stopping_rounds` in `fit` method is deprecated for better compatibility with scikit-learn, use `early_stopping_rounds` in constructor or`set_params` instead.\n",
      "  warnings.warn(\n",
      " 71%|███████   | 71/100 [01:49<00:38,  1.33s/it]"
     ]
    },
    {
     "name": "stdout",
     "output_type": "stream",
     "text": [
      "SMAPE: 2.2935611681258927\n",
      "R2: 0.8729146225976727\n",
      "===== < BUILDING NO.72 > =====\n"
     ]
    },
    {
     "name": "stderr",
     "output_type": "stream",
     "text": [
      "/opt/conda/lib/python3.10/site-packages/xgboost/sklearn.py:835: UserWarning: `early_stopping_rounds` in `fit` method is deprecated for better compatibility with scikit-learn, use `early_stopping_rounds` in constructor or`set_params` instead.\n",
      "  warnings.warn(\n",
      " 72%|███████▏  | 72/100 [01:51<00:40,  1.45s/it]"
     ]
    },
    {
     "name": "stdout",
     "output_type": "stream",
     "text": [
      "SMAPE: 3.132578670834011\n",
      "R2: 0.6931869283567429\n",
      "===== < BUILDING NO.73 > =====\n"
     ]
    },
    {
     "name": "stderr",
     "output_type": "stream",
     "text": [
      "/opt/conda/lib/python3.10/site-packages/xgboost/sklearn.py:835: UserWarning: `early_stopping_rounds` in `fit` method is deprecated for better compatibility with scikit-learn, use `early_stopping_rounds` in constructor or`set_params` instead.\n",
      "  warnings.warn(\n",
      " 73%|███████▎  | 73/100 [01:52<00:36,  1.35s/it]"
     ]
    },
    {
     "name": "stdout",
     "output_type": "stream",
     "text": [
      "SMAPE: 1.6448922618236341\n",
      "R2: 0.8215476849745222\n",
      "===== < BUILDING NO.74 > =====\n"
     ]
    },
    {
     "name": "stderr",
     "output_type": "stream",
     "text": [
      "/opt/conda/lib/python3.10/site-packages/xgboost/sklearn.py:835: UserWarning: `early_stopping_rounds` in `fit` method is deprecated for better compatibility with scikit-learn, use `early_stopping_rounds` in constructor or`set_params` instead.\n",
      "  warnings.warn(\n",
      " 74%|███████▍  | 74/100 [01:54<00:46,  1.78s/it]"
     ]
    },
    {
     "name": "stdout",
     "output_type": "stream",
     "text": [
      "SMAPE: 3.091829198821974\n",
      "R2: 0.9234302367764158\n",
      "===== < BUILDING NO.75 > =====\n"
     ]
    },
    {
     "name": "stderr",
     "output_type": "stream",
     "text": [
      "/opt/conda/lib/python3.10/site-packages/xgboost/sklearn.py:835: UserWarning: `early_stopping_rounds` in `fit` method is deprecated for better compatibility with scikit-learn, use `early_stopping_rounds` in constructor or`set_params` instead.\n",
      "  warnings.warn(\n",
      " 75%|███████▌  | 75/100 [01:56<00:41,  1.64s/it]"
     ]
    },
    {
     "name": "stdout",
     "output_type": "stream",
     "text": [
      "SMAPE: 1.8271382699356329\n",
      "R2: 0.9342804871260818\n",
      "===== < BUILDING NO.76 > =====\n"
     ]
    },
    {
     "name": "stderr",
     "output_type": "stream",
     "text": [
      "/opt/conda/lib/python3.10/site-packages/xgboost/sklearn.py:835: UserWarning: `early_stopping_rounds` in `fit` method is deprecated for better compatibility with scikit-learn, use `early_stopping_rounds` in constructor or`set_params` instead.\n",
      "  warnings.warn(\n",
      " 76%|███████▌  | 76/100 [01:58<00:42,  1.76s/it]"
     ]
    },
    {
     "name": "stdout",
     "output_type": "stream",
     "text": [
      "SMAPE: 2.299507078023605\n",
      "R2: 0.8133723398619432\n",
      "===== < BUILDING NO.77 > =====\n"
     ]
    },
    {
     "name": "stderr",
     "output_type": "stream",
     "text": [
      "/opt/conda/lib/python3.10/site-packages/xgboost/sklearn.py:835: UserWarning: `early_stopping_rounds` in `fit` method is deprecated for better compatibility with scikit-learn, use `early_stopping_rounds` in constructor or`set_params` instead.\n",
      "  warnings.warn(\n",
      " 77%|███████▋  | 77/100 [01:59<00:37,  1.62s/it]"
     ]
    },
    {
     "name": "stdout",
     "output_type": "stream",
     "text": [
      "SMAPE: 1.1345072461189332\n",
      "R2: 0.99401497907423\n",
      "===== < BUILDING NO.78 > =====\n"
     ]
    },
    {
     "name": "stderr",
     "output_type": "stream",
     "text": [
      "/opt/conda/lib/python3.10/site-packages/xgboost/sklearn.py:835: UserWarning: `early_stopping_rounds` in `fit` method is deprecated for better compatibility with scikit-learn, use `early_stopping_rounds` in constructor or`set_params` instead.\n",
      "  warnings.warn(\n",
      " 78%|███████▊  | 78/100 [02:01<00:34,  1.56s/it]"
     ]
    },
    {
     "name": "stdout",
     "output_type": "stream",
     "text": [
      "SMAPE: 1.4418873861859003\n",
      "R2: 0.9944477972580092\n",
      "===== < BUILDING NO.79 > =====\n"
     ]
    },
    {
     "name": "stderr",
     "output_type": "stream",
     "text": [
      "/opt/conda/lib/python3.10/site-packages/xgboost/sklearn.py:835: UserWarning: `early_stopping_rounds` in `fit` method is deprecated for better compatibility with scikit-learn, use `early_stopping_rounds` in constructor or`set_params` instead.\n",
      "  warnings.warn(\n",
      " 79%|███████▉  | 79/100 [02:02<00:32,  1.53s/it]"
     ]
    },
    {
     "name": "stdout",
     "output_type": "stream",
     "text": [
      "SMAPE: 1.4466214044738257\n",
      "R2: 0.9816634154542934\n",
      "===== < BUILDING NO.80 > =====\n"
     ]
    },
    {
     "name": "stderr",
     "output_type": "stream",
     "text": [
      "/opt/conda/lib/python3.10/site-packages/xgboost/sklearn.py:835: UserWarning: `early_stopping_rounds` in `fit` method is deprecated for better compatibility with scikit-learn, use `early_stopping_rounds` in constructor or`set_params` instead.\n",
      "  warnings.warn(\n",
      " 80%|████████  | 80/100 [02:06<00:44,  2.23s/it]"
     ]
    },
    {
     "name": "stdout",
     "output_type": "stream",
     "text": [
      "SMAPE: 1.9760167512334421\n",
      "R2: 0.9922143774479174\n",
      "===== < BUILDING NO.81 > =====\n"
     ]
    },
    {
     "name": "stderr",
     "output_type": "stream",
     "text": [
      "/opt/conda/lib/python3.10/site-packages/xgboost/sklearn.py:835: UserWarning: `early_stopping_rounds` in `fit` method is deprecated for better compatibility with scikit-learn, use `early_stopping_rounds` in constructor or`set_params` instead.\n",
      "  warnings.warn(\n",
      " 81%|████████  | 81/100 [02:07<00:38,  2.01s/it]"
     ]
    },
    {
     "name": "stdout",
     "output_type": "stream",
     "text": [
      "SMAPE: 1.7646858407413388\n",
      "R2: 0.9922195906969818\n",
      "===== < BUILDING NO.82 > =====\n"
     ]
    },
    {
     "name": "stderr",
     "output_type": "stream",
     "text": [
      "/opt/conda/lib/python3.10/site-packages/xgboost/sklearn.py:835: UserWarning: `early_stopping_rounds` in `fit` method is deprecated for better compatibility with scikit-learn, use `early_stopping_rounds` in constructor or`set_params` instead.\n",
      "  warnings.warn(\n",
      " 82%|████████▏ | 82/100 [02:12<00:48,  2.72s/it]"
     ]
    },
    {
     "name": "stdout",
     "output_type": "stream",
     "text": [
      "SMAPE: 1.9888818168387685\n",
      "R2: 0.9879553922374126\n",
      "===== < BUILDING NO.83 > =====\n"
     ]
    },
    {
     "name": "stderr",
     "output_type": "stream",
     "text": [
      "/opt/conda/lib/python3.10/site-packages/xgboost/sklearn.py:835: UserWarning: `early_stopping_rounds` in `fit` method is deprecated for better compatibility with scikit-learn, use `early_stopping_rounds` in constructor or`set_params` instead.\n",
      "  warnings.warn(\n",
      " 83%|████████▎ | 83/100 [02:14<00:46,  2.71s/it]"
     ]
    },
    {
     "name": "stdout",
     "output_type": "stream",
     "text": [
      "SMAPE: 1.3944012311351168\n",
      "R2: 0.994556179585811\n",
      "===== < BUILDING NO.84 > =====\n"
     ]
    },
    {
     "name": "stderr",
     "output_type": "stream",
     "text": [
      "/opt/conda/lib/python3.10/site-packages/xgboost/sklearn.py:835: UserWarning: `early_stopping_rounds` in `fit` method is deprecated for better compatibility with scikit-learn, use `early_stopping_rounds` in constructor or`set_params` instead.\n",
      "  warnings.warn(\n",
      " 84%|████████▍ | 84/100 [02:16<00:37,  2.37s/it]"
     ]
    },
    {
     "name": "stdout",
     "output_type": "stream",
     "text": [
      "SMAPE: 1.3363913975891015\n",
      "R2: 0.9926394219017667\n",
      "===== < BUILDING NO.85 > =====\n"
     ]
    },
    {
     "name": "stderr",
     "output_type": "stream",
     "text": [
      "/opt/conda/lib/python3.10/site-packages/xgboost/sklearn.py:835: UserWarning: `early_stopping_rounds` in `fit` method is deprecated for better compatibility with scikit-learn, use `early_stopping_rounds` in constructor or`set_params` instead.\n",
      "  warnings.warn(\n",
      " 85%|████████▌ | 85/100 [02:19<00:38,  2.53s/it]"
     ]
    },
    {
     "name": "stdout",
     "output_type": "stream",
     "text": [
      "SMAPE: 1.8625679140677809\n",
      "R2: 0.945239565956517\n",
      "===== < BUILDING NO.86 > =====\n"
     ]
    },
    {
     "name": "stderr",
     "output_type": "stream",
     "text": [
      "/opt/conda/lib/python3.10/site-packages/xgboost/sklearn.py:835: UserWarning: `early_stopping_rounds` in `fit` method is deprecated for better compatibility with scikit-learn, use `early_stopping_rounds` in constructor or`set_params` instead.\n",
      "  warnings.warn(\n",
      " 86%|████████▌ | 86/100 [02:20<00:29,  2.12s/it]"
     ]
    },
    {
     "name": "stdout",
     "output_type": "stream",
     "text": [
      "SMAPE: 4.749316983745702\n",
      "R2: 0.7956339411254415\n",
      "===== < BUILDING NO.87 > =====\n"
     ]
    },
    {
     "name": "stderr",
     "output_type": "stream",
     "text": [
      "/opt/conda/lib/python3.10/site-packages/xgboost/sklearn.py:835: UserWarning: `early_stopping_rounds` in `fit` method is deprecated for better compatibility with scikit-learn, use `early_stopping_rounds` in constructor or`set_params` instead.\n",
      "  warnings.warn(\n",
      " 87%|████████▋ | 87/100 [02:21<00:24,  1.89s/it]"
     ]
    },
    {
     "name": "stdout",
     "output_type": "stream",
     "text": [
      "SMAPE: 5.609202664308991\n",
      "R2: 0.8158968817766145\n",
      "===== < BUILDING NO.88 > =====\n"
     ]
    },
    {
     "name": "stderr",
     "output_type": "stream",
     "text": [
      "/opt/conda/lib/python3.10/site-packages/xgboost/sklearn.py:835: UserWarning: `early_stopping_rounds` in `fit` method is deprecated for better compatibility with scikit-learn, use `early_stopping_rounds` in constructor or`set_params` instead.\n",
      "  warnings.warn(\n",
      " 88%|████████▊ | 88/100 [02:23<00:19,  1.65s/it]"
     ]
    },
    {
     "name": "stdout",
     "output_type": "stream",
     "text": [
      "SMAPE: 3.855480515976241\n",
      "R2: 0.8521635191811439\n",
      "===== < BUILDING NO.89 > =====\n"
     ]
    },
    {
     "name": "stderr",
     "output_type": "stream",
     "text": [
      "/opt/conda/lib/python3.10/site-packages/xgboost/sklearn.py:835: UserWarning: `early_stopping_rounds` in `fit` method is deprecated for better compatibility with scikit-learn, use `early_stopping_rounds` in constructor or`set_params` instead.\n",
      "  warnings.warn(\n",
      " 89%|████████▉ | 89/100 [02:24<00:16,  1.48s/it]"
     ]
    },
    {
     "name": "stdout",
     "output_type": "stream",
     "text": [
      "SMAPE: 4.142865825370621\n",
      "R2: 0.8239519064064422\n",
      "===== < BUILDING NO.90 > =====\n"
     ]
    },
    {
     "name": "stderr",
     "output_type": "stream",
     "text": [
      "/opt/conda/lib/python3.10/site-packages/xgboost/sklearn.py:835: UserWarning: `early_stopping_rounds` in `fit` method is deprecated for better compatibility with scikit-learn, use `early_stopping_rounds` in constructor or`set_params` instead.\n",
      "  warnings.warn(\n",
      " 90%|█████████ | 90/100 [02:29<00:26,  2.68s/it]"
     ]
    },
    {
     "name": "stdout",
     "output_type": "stream",
     "text": [
      "SMAPE: 5.151294921599458\n",
      "R2: 0.9046872170380107\n",
      "===== < BUILDING NO.91 > =====\n"
     ]
    },
    {
     "name": "stderr",
     "output_type": "stream",
     "text": [
      "/opt/conda/lib/python3.10/site-packages/xgboost/sklearn.py:835: UserWarning: `early_stopping_rounds` in `fit` method is deprecated for better compatibility with scikit-learn, use `early_stopping_rounds` in constructor or`set_params` instead.\n",
      "  warnings.warn(\n",
      " 91%|█████████ | 91/100 [02:31<00:22,  2.53s/it]"
     ]
    },
    {
     "name": "stdout",
     "output_type": "stream",
     "text": [
      "SMAPE: 6.464254457518306\n",
      "R2: 0.9303448825494138\n",
      "===== < BUILDING NO.92 > =====\n"
     ]
    },
    {
     "name": "stderr",
     "output_type": "stream",
     "text": [
      "/opt/conda/lib/python3.10/site-packages/xgboost/sklearn.py:835: UserWarning: `early_stopping_rounds` in `fit` method is deprecated for better compatibility with scikit-learn, use `early_stopping_rounds` in constructor or`set_params` instead.\n",
      "  warnings.warn(\n",
      " 92%|█████████▏| 92/100 [02:32<00:16,  2.11s/it]"
     ]
    },
    {
     "name": "stdout",
     "output_type": "stream",
     "text": [
      "SMAPE: 3.6917956015973634\n",
      "R2: 0.8615719597936767\n",
      "===== < BUILDING NO.93 > =====\n"
     ]
    },
    {
     "name": "stderr",
     "output_type": "stream",
     "text": [
      "/opt/conda/lib/python3.10/site-packages/xgboost/sklearn.py:835: UserWarning: `early_stopping_rounds` in `fit` method is deprecated for better compatibility with scikit-learn, use `early_stopping_rounds` in constructor or`set_params` instead.\n",
      "  warnings.warn(\n",
      " 93%|█████████▎| 93/100 [02:35<00:15,  2.21s/it]"
     ]
    },
    {
     "name": "stdout",
     "output_type": "stream",
     "text": [
      "SMAPE: 3.1400777522395535\n",
      "R2: 0.8844389286474241\n",
      "===== < BUILDING NO.94 > =====\n"
     ]
    },
    {
     "name": "stderr",
     "output_type": "stream",
     "text": [
      "/opt/conda/lib/python3.10/site-packages/xgboost/sklearn.py:835: UserWarning: `early_stopping_rounds` in `fit` method is deprecated for better compatibility with scikit-learn, use `early_stopping_rounds` in constructor or`set_params` instead.\n",
      "  warnings.warn(\n",
      " 94%|█████████▍| 94/100 [02:37<00:12,  2.15s/it]"
     ]
    },
    {
     "name": "stdout",
     "output_type": "stream",
     "text": [
      "SMAPE: 3.0649084158631332\n",
      "R2: 0.9027884792613087\n",
      "===== < BUILDING NO.95 > =====\n"
     ]
    },
    {
     "name": "stderr",
     "output_type": "stream",
     "text": [
      "/opt/conda/lib/python3.10/site-packages/xgboost/sklearn.py:835: UserWarning: `early_stopping_rounds` in `fit` method is deprecated for better compatibility with scikit-learn, use `early_stopping_rounds` in constructor or`set_params` instead.\n",
      "  warnings.warn(\n",
      " 95%|█████████▌| 95/100 [02:38<00:08,  1.78s/it]"
     ]
    },
    {
     "name": "stdout",
     "output_type": "stream",
     "text": [
      "SMAPE: 7.239464462398352\n",
      "R2: 0.6414458667877924\n",
      "===== < BUILDING NO.96 > =====\n"
     ]
    },
    {
     "name": "stderr",
     "output_type": "stream",
     "text": [
      "/opt/conda/lib/python3.10/site-packages/xgboost/sklearn.py:835: UserWarning: `early_stopping_rounds` in `fit` method is deprecated for better compatibility with scikit-learn, use `early_stopping_rounds` in constructor or`set_params` instead.\n",
      "  warnings.warn(\n",
      " 96%|█████████▌| 96/100 [02:39<00:06,  1.65s/it]"
     ]
    },
    {
     "name": "stdout",
     "output_type": "stream",
     "text": [
      "SMAPE: 1.444567119181047\n",
      "R2: 0.968459567188151\n",
      "===== < BUILDING NO.97 > =====\n"
     ]
    },
    {
     "name": "stderr",
     "output_type": "stream",
     "text": [
      "/opt/conda/lib/python3.10/site-packages/xgboost/sklearn.py:835: UserWarning: `early_stopping_rounds` in `fit` method is deprecated for better compatibility with scikit-learn, use `early_stopping_rounds` in constructor or`set_params` instead.\n",
      "  warnings.warn(\n",
      " 97%|█████████▋| 97/100 [02:42<00:06,  2.01s/it]"
     ]
    },
    {
     "name": "stdout",
     "output_type": "stream",
     "text": [
      "SMAPE: 2.7115380111705054\n",
      "R2: 0.9245893832209086\n",
      "===== < BUILDING NO.98 > =====\n"
     ]
    },
    {
     "name": "stderr",
     "output_type": "stream",
     "text": [
      "/opt/conda/lib/python3.10/site-packages/xgboost/sklearn.py:835: UserWarning: `early_stopping_rounds` in `fit` method is deprecated for better compatibility with scikit-learn, use `early_stopping_rounds` in constructor or`set_params` instead.\n",
      "  warnings.warn(\n",
      " 98%|█████████▊| 98/100 [02:43<00:03,  1.75s/it]"
     ]
    },
    {
     "name": "stdout",
     "output_type": "stream",
     "text": [
      "SMAPE: 6.409336428334088\n",
      "R2: 0.8718903608935654\n",
      "===== < BUILDING NO.99 > =====\n"
     ]
    },
    {
     "name": "stderr",
     "output_type": "stream",
     "text": [
      "/opt/conda/lib/python3.10/site-packages/xgboost/sklearn.py:835: UserWarning: `early_stopping_rounds` in `fit` method is deprecated for better compatibility with scikit-learn, use `early_stopping_rounds` in constructor or`set_params` instead.\n",
      "  warnings.warn(\n",
      " 99%|█████████▉| 99/100 [02:44<00:01,  1.60s/it]"
     ]
    },
    {
     "name": "stdout",
     "output_type": "stream",
     "text": [
      "SMAPE: 1.7027544934580474\n",
      "R2: 0.9782284798595801\n",
      "===== < BUILDING NO.100 > =====\n"
     ]
    },
    {
     "name": "stderr",
     "output_type": "stream",
     "text": [
      "/opt/conda/lib/python3.10/site-packages/xgboost/sklearn.py:835: UserWarning: `early_stopping_rounds` in `fit` method is deprecated for better compatibility with scikit-learn, use `early_stopping_rounds` in constructor or`set_params` instead.\n",
      "  warnings.warn(\n",
      "100%|██████████| 100/100 [02:46<00:00,  1.66s/it]"
     ]
    },
    {
     "name": "stdout",
     "output_type": "stream",
     "text": [
      "SMAPE: 2.6883008831880297\n",
      "R2: 0.9617914179577062\n"
     ]
    },
    {
     "name": "stderr",
     "output_type": "stream",
     "text": [
      "\n"
     ]
    }
   ],
   "source": [
    "pred_val_ens= []\n",
    "test_ens = []\n",
    "\n",
    "summary_list = []\n",
    "ans_val_list = []\n",
    "pred_val_list = []\n",
    "pred_test_list = []\n",
    "\n",
    "for i in tqdm(range(100)):\n",
    "    print(f\"===== < BUILDING NO.{i+1} > =====\")\n",
    "    summary_dict = {}\n",
    "\n",
    "    smape_val, r2_val, ans_val, pred_val, pred_test = fit_and_pred_XGB(train, test, i+1, seed=0)\n",
    "\n",
    "    summary_dict['건물번호'] = i+1\n",
    "    summary_dict['SMAPE'] = smape_val\n",
    "    summary_dict['R2'] = r2_val\n",
    "    summary_list.append(summary_dict)\n",
    "    ans_val_list.append(ans_val)\n",
    "    pred_val_list.append(pred_val)\n",
    "    pred_test_list.append(pred_test)\n",
    "\n",
    "ans_val_whole = np.concatenate(ans_val_list)\n",
    "pred_val_whole = np.concatenate(pred_val_list)\n",
    "pred_test_whole = np.concatenate(pred_test_list)\n",
    "smape_val =SMAPE(ans_val_whole, pred_val_whole)"
   ]
  },
  {
   "cell_type": "code",
   "execution_count": 20,
   "id": "c2f36727-3c6e-47bb-9308-6f4ab54b016d",
   "metadata": {
    "scrolled": true
   },
   "outputs": [
    {
     "data": {
      "text/plain": [
       "[{'건물번호': 1, 'SMAPE': 3.4496644441677238, 'R2': 0.9501395854081043},\n",
       " {'건물번호': 2, 'SMAPE': 5.315951214428996, 'R2': 0.8301183990220398},\n",
       " {'건물번호': 3, 'SMAPE': 5.271764315449672, 'R2': 0.842398546048641},\n",
       " {'건물번호': 4, 'SMAPE': 1.9815124791238239, 'R2': 0.9753420265350734},\n",
       " {'건물번호': 5, 'SMAPE': 3.507672159174944, 'R2': 0.9642913768247501},\n",
       " {'건물번호': 6, 'SMAPE': 2.2468971392181447, 'R2': 0.9689029577666786},\n",
       " {'건물번호': 7, 'SMAPE': 4.333272670925453, 'R2': 0.9060958145060787},\n",
       " {'건물번호': 8, 'SMAPE': 2.44325686603149, 'R2': 0.7351378479755595},\n",
       " {'건물번호': 9, 'SMAPE': 2.174352069842542, 'R2': 0.9717021895248862},\n",
       " {'건물번호': 10, 'SMAPE': 3.623798109635635, 'R2': 0.44647936617082273},\n",
       " {'건물번호': 11, 'SMAPE': 1.6545924034733546, 'R2': 0.9039160007710692},\n",
       " {'건물번호': 12, 'SMAPE': 2.5047585567034085, 'R2': 0.8607990873955604},\n",
       " {'건물번호': 13, 'SMAPE': 3.496462420044567, 'R2': 0.19377698841111735},\n",
       " {'건물번호': 14, 'SMAPE': 8.31562679276592, 'R2': 0.27420760662127597},\n",
       " {'건물번호': 15, 'SMAPE': 1.4217463752358752, 'R2': 0.9168731456692368},\n",
       " {'건물번호': 16, 'SMAPE': 2.368078610115772, 'R2': 0.9806195227640377},\n",
       " {'건물번호': 17, 'SMAPE': 2.9656508375499513, 'R2': 0.9401083053890646},\n",
       " {'건물번호': 18, 'SMAPE': 3.2311416309067997, 'R2': 0.9371458479800351},\n",
       " {'건물번호': 19, 'SMAPE': 4.231273640177277, 'R2': 0.9280465130119451},\n",
       " {'건물번호': 20, 'SMAPE': 2.4086710903905, 'R2': 0.9804349245071076},\n",
       " {'건물번호': 21, 'SMAPE': 3.3770193976002156, 'R2': 0.9500470770330162},\n",
       " {'건물번호': 22, 'SMAPE': 1.8336330993480217, 'R2': 0.9382130094600518},\n",
       " {'건물번호': 23, 'SMAPE': 1.0703881958253543, 'R2': 0.9634547617119086},\n",
       " {'건물번호': 24, 'SMAPE': 1.2727294301559726, 'R2': 0.9852824313493417},\n",
       " {'건물번호': 25, 'SMAPE': 1.1191880200013231, 'R2': 0.9851900337636407},\n",
       " {'건물번호': 26, 'SMAPE': 1.1276885328568866, 'R2': 0.9827724606505066},\n",
       " {'건물번호': 27, 'SMAPE': 0.8877781780437648, 'R2': 0.9807261912170341},\n",
       " {'건물번호': 28, 'SMAPE': 2.3221491879222964, 'R2': 0.964697621385352},\n",
       " {'건물번호': 29, 'SMAPE': 1.9497307397640093, 'R2': 0.954499683269231},\n",
       " {'건물번호': 30, 'SMAPE': 3.262110886983496, 'R2': 0.8821343376374882},\n",
       " {'건물번호': 31, 'SMAPE': 2.286222426678163, 'R2': 0.9537938307836888},\n",
       " {'건물번호': 32, 'SMAPE': 0.18562187252430876, 'R2': 0.8664244717404739},\n",
       " {'건물번호': 33, 'SMAPE': 0.19492700143852346, 'R2': 0.7452709295693078},\n",
       " {'건물번호': 34, 'SMAPE': 0.4069333175169637, 'R2': 0.838951580419725},\n",
       " {'건물번호': 35, 'SMAPE': 0.18111919632754162, 'R2': 0.9143525264255867},\n",
       " {'건물번호': 36, 'SMAPE': 0.3678864793522451, 'R2': 0.55170142899718},\n",
       " {'건물번호': 37, 'SMAPE': 2.5653169322017284, 'R2': 0.9796371632028724},\n",
       " {'건물번호': 38, 'SMAPE': 2.1611257163627924, 'R2': 0.9872733081225288},\n",
       " {'건물번호': 39, 'SMAPE': 2.833936725392279, 'R2': 0.9714542022798921},\n",
       " {'건물번호': 40, 'SMAPE': 6.205540735134859, 'R2': 0.8886869490351152},\n",
       " {'건물번호': 41, 'SMAPE': 2.2851644200225913, 'R2': 0.9820318252619586},\n",
       " {'건물번호': 42, 'SMAPE': 8.274269270613065, 'R2': 0.8370584924174883},\n",
       " {'건물번호': 43, 'SMAPE': 2.7285613825864723, 'R2': 0.9954949495113152},\n",
       " {'건물번호': 44, 'SMAPE': 2.0128495041002146, 'R2': 0.9959666560246389},\n",
       " {'건물번호': 45, 'SMAPE': 1.1556823449263338, 'R2': 0.9682873546324493},\n",
       " {'건물번호': 46, 'SMAPE': 2.1103256319582893, 'R2': 0.9537200425099766},\n",
       " {'건물번호': 47, 'SMAPE': 2.183424388301227, 'R2': 0.933963695884009},\n",
       " {'건물번호': 48, 'SMAPE': 0.9635361726167126, 'R2': 0.9872958847230113},\n",
       " {'건물번호': 49, 'SMAPE': 1.3878553800953894, 'R2': 0.9435077218877712},\n",
       " {'건물번호': 50, 'SMAPE': 1.1352957116676459, 'R2': 0.9542441233159059},\n",
       " {'건물번호': 51, 'SMAPE': 1.6720243090897469, 'R2': 0.9425303753311524},\n",
       " {'건물번호': 52, 'SMAPE': 2.029422786075006, 'R2': 0.955202437894411},\n",
       " {'건물번호': 53, 'SMAPE': 5.418691768799057, 'R2': 0.9592015997990747},\n",
       " {'건물번호': 54, 'SMAPE': 10.717394325203726, 'R2': 0.729673047953564},\n",
       " {'건물번호': 55, 'SMAPE': 0.8438725449484686, 'R2': 0.9036370495906844},\n",
       " {'건물번호': 56, 'SMAPE': 0.4494700932292596, 'R2': 0.9300431730445985},\n",
       " {'건물번호': 57, 'SMAPE': 2.280541294700845, 'R2': 0.986512489034662},\n",
       " {'건물번호': 58, 'SMAPE': 0.2231532094551641, 'R2': 0.9332565943360288},\n",
       " {'건물번호': 59, 'SMAPE': 2.716717274982718, 'R2': 0.9823230600779824},\n",
       " {'건물번호': 60, 'SMAPE': 2.8301305277752804, 'R2': 0.9525928926692715},\n",
       " {'건물번호': 61, 'SMAPE': 2.217522669031493, 'R2': 0.945431302748056},\n",
       " {'건물번호': 62, 'SMAPE': 2.6267121119783226, 'R2': 0.9295213255792831},\n",
       " {'건물번호': 63, 'SMAPE': 3.119175823218651, 'R2': 0.9091582193462128},\n",
       " {'건물번호': 64, 'SMAPE': 1.8126262818318826, 'R2': 0.9566443026254512},\n",
       " {'건물번호': 65, 'SMAPE': 3.8942080695919925, 'R2': 0.8859604310625422},\n",
       " {'건물번호': 66, 'SMAPE': 2.2314658496501774, 'R2': 0.8368733267893029},\n",
       " {'건물번호': 67, 'SMAPE': 2.6466432039482766, 'R2': 0.8900485133477126},\n",
       " {'건물번호': 68, 'SMAPE': 2.3423114989020446, 'R2': 0.9436158431874874},\n",
       " {'건물번호': 69, 'SMAPE': 1.1916606092058235, 'R2': 0.9780297421467358},\n",
       " {'건물번호': 70, 'SMAPE': 3.518972472970827, 'R2': 0.899156993488081},\n",
       " {'건물번호': 71, 'SMAPE': 2.2935611681258927, 'R2': 0.8729146225976727},\n",
       " {'건물번호': 72, 'SMAPE': 3.132578670834011, 'R2': 0.6931869283567429},\n",
       " {'건물번호': 73, 'SMAPE': 1.6448922618236341, 'R2': 0.8215476849745222},\n",
       " {'건물번호': 74, 'SMAPE': 3.091829198821974, 'R2': 0.9234302367764158},\n",
       " {'건물번호': 75, 'SMAPE': 1.8271382699356329, 'R2': 0.9342804871260818},\n",
       " {'건물번호': 76, 'SMAPE': 2.299507078023605, 'R2': 0.8133723398619432},\n",
       " {'건물번호': 77, 'SMAPE': 1.1345072461189332, 'R2': 0.99401497907423},\n",
       " {'건물번호': 78, 'SMAPE': 1.4418873861859003, 'R2': 0.9944477972580092},\n",
       " {'건물번호': 79, 'SMAPE': 1.4466214044738257, 'R2': 0.9816634154542934},\n",
       " {'건물번호': 80, 'SMAPE': 1.9760167512334421, 'R2': 0.9922143774479174},\n",
       " {'건물번호': 81, 'SMAPE': 1.7646858407413388, 'R2': 0.9922195906969818},\n",
       " {'건물번호': 82, 'SMAPE': 1.9888818168387685, 'R2': 0.9879553922374126},\n",
       " {'건물번호': 83, 'SMAPE': 1.3944012311351168, 'R2': 0.994556179585811},\n",
       " {'건물번호': 84, 'SMAPE': 1.3363913975891015, 'R2': 0.9926394219017667},\n",
       " {'건물번호': 85, 'SMAPE': 1.8625679140677809, 'R2': 0.945239565956517},\n",
       " {'건물번호': 86, 'SMAPE': 4.749316983745702, 'R2': 0.7956339411254415},\n",
       " {'건물번호': 87, 'SMAPE': 5.609202664308991, 'R2': 0.8158968817766145},\n",
       " {'건물번호': 88, 'SMAPE': 3.855480515976241, 'R2': 0.8521635191811439},\n",
       " {'건물번호': 89, 'SMAPE': 4.142865825370621, 'R2': 0.8239519064064422},\n",
       " {'건물번호': 90, 'SMAPE': 5.151294921599458, 'R2': 0.9046872170380107},\n",
       " {'건물번호': 91, 'SMAPE': 6.464254457518306, 'R2': 0.9303448825494138},\n",
       " {'건물번호': 92, 'SMAPE': 3.6917956015973634, 'R2': 0.8615719597936767},\n",
       " {'건물번호': 93, 'SMAPE': 3.1400777522395535, 'R2': 0.8844389286474241},\n",
       " {'건물번호': 94, 'SMAPE': 3.0649084158631332, 'R2': 0.9027884792613087},\n",
       " {'건물번호': 95, 'SMAPE': 7.239464462398352, 'R2': 0.6414458667877924},\n",
       " {'건물번호': 96, 'SMAPE': 1.444567119181047, 'R2': 0.968459567188151},\n",
       " {'건물번호': 97, 'SMAPE': 2.7115380111705054, 'R2': 0.9245893832209086},\n",
       " {'건물번호': 98, 'SMAPE': 6.409336428334088, 'R2': 0.8718903608935654},\n",
       " {'건물번호': 99, 'SMAPE': 1.7027544934580474, 'R2': 0.9782284798595801},\n",
       " {'건물번호': 100, 'SMAPE': 2.6883008831880297, 'R2': 0.9617914179577062}]"
      ]
     },
     "execution_count": 20,
     "metadata": {},
     "output_type": "execute_result"
    }
   ],
   "source": [
    "summary_list"
   ]
  },
  {
   "cell_type": "code",
   "execution_count": 21,
   "id": "9acb0323-98e5-46f1-9376-c42f45301037",
   "metadata": {},
   "outputs": [
    {
     "data": {
      "text/plain": [
       "2.7227749700016766"
      ]
     },
     "execution_count": 21,
     "metadata": {},
     "output_type": "execute_result"
    }
   ],
   "source": [
    "smape_val"
   ]
  },
  {
   "cell_type": "code",
   "execution_count": 71,
   "id": "6b4a9857-1140-42b3-9816-cf476903ad72",
   "metadata": {},
   "outputs": [],
   "source": [
    "sub = pd.read_csv('sample_submission.csv')\n",
    "sub['answer'] = pred_test_whole\n",
    "sub.to_csv('xgb_sub_15.csv', index=False)"
   ]
  },
  {
   "cell_type": "markdown",
   "id": "5364f5ef-42ce-4735-84eb-2bda4490e530",
   "metadata": {},
   "source": [
    "### Improvement"
   ]
  },
  {
   "cell_type": "code",
   "execution_count": 22,
   "id": "9322016f-b3d8-4efe-b92b-ca65bfd6fdea",
   "metadata": {},
   "outputs": [],
   "source": [
    "train['적정온도차이'] = train['기온(C)'] - 26"
   ]
  },
  {
   "cell_type": "code",
   "execution_count": 23,
   "id": "ae38640c-64c3-4b3b-82fa-f944ae094edd",
   "metadata": {},
   "outputs": [],
   "source": [
    "test['적정온도차이'] = test['기온(C)'] - 26"
   ]
  },
  {
   "cell_type": "code",
   "execution_count": 34,
   "id": "dd2200c1-342a-4409-ab51-3b7f3b0cfb34",
   "metadata": {},
   "outputs": [
    {
     "data": {
      "text/html": [
       "<div>\n",
       "<style scoped>\n",
       "    .dataframe tbody tr th:only-of-type {\n",
       "        vertical-align: middle;\n",
       "    }\n",
       "\n",
       "    .dataframe tbody tr th {\n",
       "        vertical-align: top;\n",
       "    }\n",
       "\n",
       "    .dataframe thead th {\n",
       "        text-align: right;\n",
       "    }\n",
       "</style>\n",
       "<table border=\"1\" class=\"dataframe\">\n",
       "  <thead>\n",
       "    <tr style=\"text-align: right;\">\n",
       "      <th></th>\n",
       "      <th>건물번호</th>\n",
       "      <th>기온(C)</th>\n",
       "      <th>강수량(mm)</th>\n",
       "      <th>풍속(m/s)</th>\n",
       "      <th>습도(%)</th>\n",
       "      <th>month</th>\n",
       "      <th>day</th>\n",
       "      <th>holiday</th>\n",
       "      <th>sin_time</th>\n",
       "      <th>cos_time</th>\n",
       "      <th>DI</th>\n",
       "      <th>power</th>\n",
       "      <th>적정온도차이</th>\n",
       "    </tr>\n",
       "  </thead>\n",
       "  <tbody>\n",
       "    <tr>\n",
       "      <th>0</th>\n",
       "      <td>1</td>\n",
       "      <td>18.6</td>\n",
       "      <td>0.0</td>\n",
       "      <td>0.9</td>\n",
       "      <td>42.0</td>\n",
       "      <td>6</td>\n",
       "      <td>2</td>\n",
       "      <td>0</td>\n",
       "      <td>0.000000</td>\n",
       "      <td>1.000000</td>\n",
       "      <td>234.154</td>\n",
       "      <td>1085.28</td>\n",
       "      <td>-7.4</td>\n",
       "    </tr>\n",
       "    <tr>\n",
       "      <th>1</th>\n",
       "      <td>1</td>\n",
       "      <td>18.0</td>\n",
       "      <td>0.0</td>\n",
       "      <td>1.1</td>\n",
       "      <td>45.0</td>\n",
       "      <td>6</td>\n",
       "      <td>2</td>\n",
       "      <td>0</td>\n",
       "      <td>0.258819</td>\n",
       "      <td>0.965926</td>\n",
       "      <td>219.280</td>\n",
       "      <td>1047.36</td>\n",
       "      <td>-8.0</td>\n",
       "    </tr>\n",
       "    <tr>\n",
       "      <th>2</th>\n",
       "      <td>1</td>\n",
       "      <td>17.7</td>\n",
       "      <td>0.0</td>\n",
       "      <td>1.5</td>\n",
       "      <td>45.0</td>\n",
       "      <td>6</td>\n",
       "      <td>2</td>\n",
       "      <td>0</td>\n",
       "      <td>0.500000</td>\n",
       "      <td>0.866025</td>\n",
       "      <td>205.672</td>\n",
       "      <td>974.88</td>\n",
       "      <td>-8.3</td>\n",
       "    </tr>\n",
       "    <tr>\n",
       "      <th>3</th>\n",
       "      <td>1</td>\n",
       "      <td>16.7</td>\n",
       "      <td>0.0</td>\n",
       "      <td>1.4</td>\n",
       "      <td>48.0</td>\n",
       "      <td>6</td>\n",
       "      <td>2</td>\n",
       "      <td>0</td>\n",
       "      <td>0.707107</td>\n",
       "      <td>0.707107</td>\n",
       "      <td>167.011</td>\n",
       "      <td>953.76</td>\n",
       "      <td>-9.3</td>\n",
       "    </tr>\n",
       "    <tr>\n",
       "      <th>4</th>\n",
       "      <td>1</td>\n",
       "      <td>18.4</td>\n",
       "      <td>0.0</td>\n",
       "      <td>2.8</td>\n",
       "      <td>43.0</td>\n",
       "      <td>6</td>\n",
       "      <td>2</td>\n",
       "      <td>0</td>\n",
       "      <td>0.866025</td>\n",
       "      <td>0.500000</td>\n",
       "      <td>229.592</td>\n",
       "      <td>986.40</td>\n",
       "      <td>-7.6</td>\n",
       "    </tr>\n",
       "  </tbody>\n",
       "</table>\n",
       "</div>"
      ],
      "text/plain": [
       "   건물번호  기온(C)  강수량(mm)  풍속(m/s)  습도(%)  month  day  holiday  sin_time  \\\n",
       "0     1   18.6      0.0      0.9   42.0      6    2        0  0.000000   \n",
       "1     1   18.0      0.0      1.1   45.0      6    2        0  0.258819   \n",
       "2     1   17.7      0.0      1.5   45.0      6    2        0  0.500000   \n",
       "3     1   16.7      0.0      1.4   48.0      6    2        0  0.707107   \n",
       "4     1   18.4      0.0      2.8   43.0      6    2        0  0.866025   \n",
       "\n",
       "   cos_time       DI    power  적정온도차이  \n",
       "0  1.000000  234.154  1085.28    -7.4  \n",
       "1  0.965926  219.280  1047.36    -8.0  \n",
       "2  0.866025  205.672   974.88    -8.3  \n",
       "3  0.707107  167.011   953.76    -9.3  \n",
       "4  0.500000  229.592   986.40    -7.6  "
      ]
     },
     "execution_count": 34,
     "metadata": {},
     "output_type": "execute_result"
    }
   ],
   "source": [
    "train.head()"
   ]
  },
  {
   "cell_type": "code",
   "execution_count": 24,
   "id": "2018f85a-5c5f-4cb0-9506-f616f962d16a",
   "metadata": {},
   "outputs": [],
   "source": [
    "def weighted_mse(alpha = 1):\n",
    "    def weighted_mse_fixed(label, pred):\n",
    "        residual = (label - pred).astype(\"float\")\n",
    "        grad = np.where(residual>0, -2*alpha*residual, -2*residual)\n",
    "        hess = np.where(residual>0, 2*alpha, 2.0)\n",
    "        return grad, hess\n",
    "    return weighted_mse_fixed"
   ]
  },
  {
   "cell_type": "code",
   "execution_count": 25,
   "id": "b060a2f4-0bce-434c-96a8-b40f6b6058ff",
   "metadata": {},
   "outputs": [],
   "source": [
    "def fit_and_pred_XGB_with_weight(train, test, number, weight, seed=0):\n",
    "    x_train, x_valid, y_train, y_valid = tr_ts_split(train, test, number, 7*24)\n",
    "\n",
    "    xgb_reg = XGBRegressor(n_estimators=10000, eta=0.01, seed=seed,\n",
    "                            gpu_id=0, tree_method='gpu_hist', predictor='gpu_predictor')\n",
    "    xgb_reg.set_params(**{'objective':weighted_mse(weight)})\n",
    "    xgb_reg.fit(x_train, y_train, eval_set=[(x_train, y_train), (x_valid, y_valid)],\n",
    "                early_stopping_rounds=300, verbose=False)\n",
    "    pred = xgb_reg.predict(x_valid)\n",
    "    pred = pd.Series(pred)\n",
    "    \n",
    "    x_test = test[test['건물번호']==number]\n",
    "    y_test_pred = xgb_reg.predict(x_test.drop('건물번호', axis=1))\n",
    "\n",
    "    smape_val = SMAPE(y_valid, pred)\n",
    "    r2_val = sklearn.metrics.r2_score(y_valid, pred)\n",
    "    print(f'SMAPE: {smape_val}')\n",
    "    print(f'R2: {r2_val}')\n",
    "    return smape_val, r2_val, y_valid, pred, y_test_pred"
   ]
  },
  {
   "cell_type": "code",
   "execution_count": 26,
   "id": "a5c5d280-1e96-469e-8f6d-7133e8c4aa95",
   "metadata": {
    "scrolled": true
   },
   "outputs": [
    {
     "name": "stderr",
     "output_type": "stream",
     "text": [
      "  0%|          | 0/100 [00:00<?, ?it/s]/opt/conda/lib/python3.10/site-packages/xgboost/sklearn.py:835: UserWarning: `early_stopping_rounds` in `fit` method is deprecated for better compatibility with scikit-learn, use `early_stopping_rounds` in constructor or`set_params` instead.\n",
      "  warnings.warn(\n"
     ]
    },
    {
     "name": "stdout",
     "output_type": "stream",
     "text": [
      "===== < BUILDING NO.1 > =====\n"
     ]
    },
    {
     "name": "stderr",
     "output_type": "stream",
     "text": [
      "  1%|          | 1/100 [00:01<03:09,  1.92s/it]"
     ]
    },
    {
     "name": "stdout",
     "output_type": "stream",
     "text": [
      "SMAPE: 3.958089806818016\n",
      "R2: 0.942688600343887\n",
      "===== < BUILDING NO.2 > =====\n"
     ]
    },
    {
     "name": "stderr",
     "output_type": "stream",
     "text": [
      "/opt/conda/lib/python3.10/site-packages/xgboost/sklearn.py:835: UserWarning: `early_stopping_rounds` in `fit` method is deprecated for better compatibility with scikit-learn, use `early_stopping_rounds` in constructor or`set_params` instead.\n",
      "  warnings.warn(\n",
      "  2%|▏         | 2/100 [00:03<02:30,  1.54s/it]"
     ]
    },
    {
     "name": "stdout",
     "output_type": "stream",
     "text": [
      "SMAPE: 5.423590043612395\n",
      "R2: 0.8202690087147659\n",
      "===== < BUILDING NO.3 > =====\n"
     ]
    },
    {
     "name": "stderr",
     "output_type": "stream",
     "text": [
      "/opt/conda/lib/python3.10/site-packages/xgboost/sklearn.py:835: UserWarning: `early_stopping_rounds` in `fit` method is deprecated for better compatibility with scikit-learn, use `early_stopping_rounds` in constructor or`set_params` instead.\n",
      "  warnings.warn(\n",
      "  3%|▎         | 3/100 [00:04<02:12,  1.37s/it]"
     ]
    },
    {
     "name": "stdout",
     "output_type": "stream",
     "text": [
      "SMAPE: 5.4817390200429115\n",
      "R2: 0.8344428371312368\n",
      "===== < BUILDING NO.4 > =====\n"
     ]
    },
    {
     "name": "stderr",
     "output_type": "stream",
     "text": [
      "/opt/conda/lib/python3.10/site-packages/xgboost/sklearn.py:835: UserWarning: `early_stopping_rounds` in `fit` method is deprecated for better compatibility with scikit-learn, use `early_stopping_rounds` in constructor or`set_params` instead.\n",
      "  warnings.warn(\n",
      "  4%|▍         | 4/100 [00:05<02:13,  1.39s/it]"
     ]
    },
    {
     "name": "stdout",
     "output_type": "stream",
     "text": [
      "SMAPE: 2.030205401726124\n",
      "R2: 0.9739141290440244\n",
      "===== < BUILDING NO.5 > =====\n"
     ]
    },
    {
     "name": "stderr",
     "output_type": "stream",
     "text": [
      "/opt/conda/lib/python3.10/site-packages/xgboost/sklearn.py:835: UserWarning: `early_stopping_rounds` in `fit` method is deprecated for better compatibility with scikit-learn, use `early_stopping_rounds` in constructor or`set_params` instead.\n",
      "  warnings.warn(\n",
      "  5%|▌         | 5/100 [00:08<02:42,  1.71s/it]"
     ]
    },
    {
     "name": "stdout",
     "output_type": "stream",
     "text": [
      "SMAPE: 2.827683287140875\n",
      "R2: 0.9722565011568478\n",
      "===== < BUILDING NO.6 > =====\n"
     ]
    },
    {
     "name": "stderr",
     "output_type": "stream",
     "text": [
      "/opt/conda/lib/python3.10/site-packages/xgboost/sklearn.py:835: UserWarning: `early_stopping_rounds` in `fit` method is deprecated for better compatibility with scikit-learn, use `early_stopping_rounds` in constructor or`set_params` instead.\n",
      "  warnings.warn(\n",
      "  6%|▌         | 6/100 [00:09<02:45,  1.76s/it]"
     ]
    },
    {
     "name": "stdout",
     "output_type": "stream",
     "text": [
      "SMAPE: 1.8545761225980184\n",
      "R2: 0.9814595210574545\n",
      "===== < BUILDING NO.7 > =====\n"
     ]
    },
    {
     "name": "stderr",
     "output_type": "stream",
     "text": [
      "/opt/conda/lib/python3.10/site-packages/xgboost/sklearn.py:835: UserWarning: `early_stopping_rounds` in `fit` method is deprecated for better compatibility with scikit-learn, use `early_stopping_rounds` in constructor or`set_params` instead.\n",
      "  warnings.warn(\n",
      "  7%|▋         | 7/100 [00:11<02:31,  1.63s/it]"
     ]
    },
    {
     "name": "stdout",
     "output_type": "stream",
     "text": [
      "SMAPE: 5.067414580170736\n",
      "R2: 0.8952315004993333\n",
      "===== < BUILDING NO.8 > =====\n"
     ]
    },
    {
     "name": "stderr",
     "output_type": "stream",
     "text": [
      "/opt/conda/lib/python3.10/site-packages/xgboost/sklearn.py:835: UserWarning: `early_stopping_rounds` in `fit` method is deprecated for better compatibility with scikit-learn, use `early_stopping_rounds` in constructor or`set_params` instead.\n",
      "  warnings.warn(\n",
      "  8%|▊         | 8/100 [00:12<02:28,  1.62s/it]"
     ]
    },
    {
     "name": "stdout",
     "output_type": "stream",
     "text": [
      "SMAPE: 2.5219085058843516\n",
      "R2: 0.7352700104528325\n",
      "===== < BUILDING NO.9 > =====\n"
     ]
    },
    {
     "name": "stderr",
     "output_type": "stream",
     "text": [
      "/opt/conda/lib/python3.10/site-packages/xgboost/sklearn.py:835: UserWarning: `early_stopping_rounds` in `fit` method is deprecated for better compatibility with scikit-learn, use `early_stopping_rounds` in constructor or`set_params` instead.\n",
      "  warnings.warn(\n",
      "  9%|▉         | 9/100 [00:14<02:33,  1.69s/it]"
     ]
    },
    {
     "name": "stdout",
     "output_type": "stream",
     "text": [
      "SMAPE: 2.138218998898596\n",
      "R2: 0.9743442644232198\n",
      "===== < BUILDING NO.10 > =====\n"
     ]
    },
    {
     "name": "stderr",
     "output_type": "stream",
     "text": [
      "/opt/conda/lib/python3.10/site-packages/xgboost/sklearn.py:835: UserWarning: `early_stopping_rounds` in `fit` method is deprecated for better compatibility with scikit-learn, use `early_stopping_rounds` in constructor or`set_params` instead.\n",
      "  warnings.warn(\n",
      " 10%|█         | 10/100 [00:16<02:21,  1.58s/it]"
     ]
    },
    {
     "name": "stdout",
     "output_type": "stream",
     "text": [
      "SMAPE: 3.8797821999979956\n",
      "R2: 0.33503565082129705\n",
      "===== < BUILDING NO.11 > =====\n"
     ]
    },
    {
     "name": "stderr",
     "output_type": "stream",
     "text": [
      "/opt/conda/lib/python3.10/site-packages/xgboost/sklearn.py:835: UserWarning: `early_stopping_rounds` in `fit` method is deprecated for better compatibility with scikit-learn, use `early_stopping_rounds` in constructor or`set_params` instead.\n",
      "  warnings.warn(\n",
      " 11%|█         | 11/100 [00:17<02:24,  1.62s/it]"
     ]
    },
    {
     "name": "stdout",
     "output_type": "stream",
     "text": [
      "SMAPE: 1.6987581798917475\n",
      "R2: 0.9046754964654331\n",
      "===== < BUILDING NO.12 > =====\n"
     ]
    },
    {
     "name": "stderr",
     "output_type": "stream",
     "text": [
      "/opt/conda/lib/python3.10/site-packages/xgboost/sklearn.py:835: UserWarning: `early_stopping_rounds` in `fit` method is deprecated for better compatibility with scikit-learn, use `early_stopping_rounds` in constructor or`set_params` instead.\n",
      "  warnings.warn(\n",
      " 12%|█▏        | 12/100 [00:21<03:08,  2.15s/it]"
     ]
    },
    {
     "name": "stdout",
     "output_type": "stream",
     "text": [
      "SMAPE: 1.9467450064152463\n",
      "R2: 0.8963663764505699\n",
      "===== < BUILDING NO.13 > =====\n"
     ]
    },
    {
     "name": "stderr",
     "output_type": "stream",
     "text": [
      "/opt/conda/lib/python3.10/site-packages/xgboost/sklearn.py:835: UserWarning: `early_stopping_rounds` in `fit` method is deprecated for better compatibility with scikit-learn, use `early_stopping_rounds` in constructor or`set_params` instead.\n",
      "  warnings.warn(\n",
      " 13%|█▎        | 13/100 [00:22<02:55,  2.02s/it]"
     ]
    },
    {
     "name": "stdout",
     "output_type": "stream",
     "text": [
      "SMAPE: 2.9932188552135015\n",
      "R2: 0.40865056641057806\n",
      "===== < BUILDING NO.14 > =====\n"
     ]
    },
    {
     "name": "stderr",
     "output_type": "stream",
     "text": [
      "/opt/conda/lib/python3.10/site-packages/xgboost/sklearn.py:835: UserWarning: `early_stopping_rounds` in `fit` method is deprecated for better compatibility with scikit-learn, use `early_stopping_rounds` in constructor or`set_params` instead.\n",
      "  warnings.warn(\n",
      " 14%|█▍        | 14/100 [00:24<02:33,  1.79s/it]"
     ]
    },
    {
     "name": "stdout",
     "output_type": "stream",
     "text": [
      "SMAPE: 8.26659468656458\n",
      "R2: 0.2823081380570013\n",
      "===== < BUILDING NO.15 > =====\n"
     ]
    },
    {
     "name": "stderr",
     "output_type": "stream",
     "text": [
      "/opt/conda/lib/python3.10/site-packages/xgboost/sklearn.py:835: UserWarning: `early_stopping_rounds` in `fit` method is deprecated for better compatibility with scikit-learn, use `early_stopping_rounds` in constructor or`set_params` instead.\n",
      "  warnings.warn(\n",
      " 15%|█▌        | 15/100 [00:25<02:27,  1.74s/it]"
     ]
    },
    {
     "name": "stdout",
     "output_type": "stream",
     "text": [
      "SMAPE: 1.2563441410179228\n",
      "R2: 0.9361501673771199\n",
      "===== < BUILDING NO.16 > =====\n"
     ]
    },
    {
     "name": "stderr",
     "output_type": "stream",
     "text": [
      "/opt/conda/lib/python3.10/site-packages/xgboost/sklearn.py:835: UserWarning: `early_stopping_rounds` in `fit` method is deprecated for better compatibility with scikit-learn, use `early_stopping_rounds` in constructor or`set_params` instead.\n",
      "  warnings.warn(\n",
      " 16%|█▌        | 16/100 [00:27<02:17,  1.64s/it]"
     ]
    },
    {
     "name": "stdout",
     "output_type": "stream",
     "text": [
      "SMAPE: 2.2470956034124576\n",
      "R2: 0.984438739447256\n",
      "===== < BUILDING NO.17 > =====\n"
     ]
    },
    {
     "name": "stderr",
     "output_type": "stream",
     "text": [
      "/opt/conda/lib/python3.10/site-packages/xgboost/sklearn.py:835: UserWarning: `early_stopping_rounds` in `fit` method is deprecated for better compatibility with scikit-learn, use `early_stopping_rounds` in constructor or`set_params` instead.\n",
      "  warnings.warn(\n",
      " 17%|█▋        | 17/100 [00:29<02:26,  1.76s/it]"
     ]
    },
    {
     "name": "stdout",
     "output_type": "stream",
     "text": [
      "SMAPE: 2.938767363334106\n",
      "R2: 0.9472182897600329\n",
      "===== < BUILDING NO.18 > =====\n"
     ]
    },
    {
     "name": "stderr",
     "output_type": "stream",
     "text": [
      "/opt/conda/lib/python3.10/site-packages/xgboost/sklearn.py:835: UserWarning: `early_stopping_rounds` in `fit` method is deprecated for better compatibility with scikit-learn, use `early_stopping_rounds` in constructor or`set_params` instead.\n",
      "  warnings.warn(\n",
      " 18%|█▊        | 18/100 [00:31<02:33,  1.87s/it]"
     ]
    },
    {
     "name": "stdout",
     "output_type": "stream",
     "text": [
      "SMAPE: 3.340749478564642\n",
      "R2: 0.9344259513596916\n",
      "===== < BUILDING NO.19 > =====\n"
     ]
    },
    {
     "name": "stderr",
     "output_type": "stream",
     "text": [
      "/opt/conda/lib/python3.10/site-packages/xgboost/sklearn.py:835: UserWarning: `early_stopping_rounds` in `fit` method is deprecated for better compatibility with scikit-learn, use `early_stopping_rounds` in constructor or`set_params` instead.\n",
      "  warnings.warn(\n",
      " 19%|█▉        | 19/100 [00:33<02:47,  2.06s/it]"
     ]
    },
    {
     "name": "stdout",
     "output_type": "stream",
     "text": [
      "SMAPE: 4.259865603359473\n",
      "R2: 0.9377093326699545\n",
      "===== < BUILDING NO.20 > =====\n"
     ]
    },
    {
     "name": "stderr",
     "output_type": "stream",
     "text": [
      "/opt/conda/lib/python3.10/site-packages/xgboost/sklearn.py:835: UserWarning: `early_stopping_rounds` in `fit` method is deprecated for better compatibility with scikit-learn, use `early_stopping_rounds` in constructor or`set_params` instead.\n",
      "  warnings.warn(\n",
      " 20%|██        | 20/100 [00:35<02:39,  2.00s/it]"
     ]
    },
    {
     "name": "stdout",
     "output_type": "stream",
     "text": [
      "SMAPE: 2.3293363509733234\n",
      "R2: 0.9763751637377249\n",
      "===== < BUILDING NO.21 > =====\n"
     ]
    },
    {
     "name": "stderr",
     "output_type": "stream",
     "text": [
      "/opt/conda/lib/python3.10/site-packages/xgboost/sklearn.py:835: UserWarning: `early_stopping_rounds` in `fit` method is deprecated for better compatibility with scikit-learn, use `early_stopping_rounds` in constructor or`set_params` instead.\n",
      "  warnings.warn(\n",
      " 21%|██        | 21/100 [00:37<02:31,  1.91s/it]"
     ]
    },
    {
     "name": "stdout",
     "output_type": "stream",
     "text": [
      "SMAPE: 3.9604546517618617\n",
      "R2: 0.9346681212737444\n",
      "===== < BUILDING NO.22 > =====\n"
     ]
    },
    {
     "name": "stderr",
     "output_type": "stream",
     "text": [
      "/opt/conda/lib/python3.10/site-packages/xgboost/sklearn.py:835: UserWarning: `early_stopping_rounds` in `fit` method is deprecated for better compatibility with scikit-learn, use `early_stopping_rounds` in constructor or`set_params` instead.\n",
      "  warnings.warn(\n",
      " 22%|██▏       | 22/100 [00:39<02:25,  1.86s/it]"
     ]
    },
    {
     "name": "stdout",
     "output_type": "stream",
     "text": [
      "SMAPE: 1.8407103321087341\n",
      "R2: 0.9416497903244264\n",
      "===== < BUILDING NO.23 > =====\n"
     ]
    },
    {
     "name": "stderr",
     "output_type": "stream",
     "text": [
      "/opt/conda/lib/python3.10/site-packages/xgboost/sklearn.py:835: UserWarning: `early_stopping_rounds` in `fit` method is deprecated for better compatibility with scikit-learn, use `early_stopping_rounds` in constructor or`set_params` instead.\n",
      "  warnings.warn(\n",
      " 23%|██▎       | 23/100 [00:41<02:38,  2.05s/it]"
     ]
    },
    {
     "name": "stdout",
     "output_type": "stream",
     "text": [
      "SMAPE: 0.9207817579819024\n",
      "R2: 0.9670461512892325\n",
      "===== < BUILDING NO.24 > =====\n"
     ]
    },
    {
     "name": "stderr",
     "output_type": "stream",
     "text": [
      "/opt/conda/lib/python3.10/site-packages/xgboost/sklearn.py:835: UserWarning: `early_stopping_rounds` in `fit` method is deprecated for better compatibility with scikit-learn, use `early_stopping_rounds` in constructor or`set_params` instead.\n",
      "  warnings.warn(\n",
      " 24%|██▍       | 24/100 [00:43<02:39,  2.09s/it]"
     ]
    },
    {
     "name": "stdout",
     "output_type": "stream",
     "text": [
      "SMAPE: 1.2691524328261534\n",
      "R2: 0.9860559928149585\n",
      "===== < BUILDING NO.25 > =====\n"
     ]
    },
    {
     "name": "stderr",
     "output_type": "stream",
     "text": [
      "/opt/conda/lib/python3.10/site-packages/xgboost/sklearn.py:835: UserWarning: `early_stopping_rounds` in `fit` method is deprecated for better compatibility with scikit-learn, use `early_stopping_rounds` in constructor or`set_params` instead.\n",
      "  warnings.warn(\n",
      " 25%|██▌       | 25/100 [00:46<02:40,  2.14s/it]"
     ]
    },
    {
     "name": "stdout",
     "output_type": "stream",
     "text": [
      "SMAPE: 1.049760042455599\n",
      "R2: 0.9888383987705014\n",
      "===== < BUILDING NO.26 > =====\n"
     ]
    },
    {
     "name": "stderr",
     "output_type": "stream",
     "text": [
      "/opt/conda/lib/python3.10/site-packages/xgboost/sklearn.py:835: UserWarning: `early_stopping_rounds` in `fit` method is deprecated for better compatibility with scikit-learn, use `early_stopping_rounds` in constructor or`set_params` instead.\n",
      "  warnings.warn(\n",
      " 26%|██▌       | 26/100 [00:47<02:27,  2.00s/it]"
     ]
    },
    {
     "name": "stdout",
     "output_type": "stream",
     "text": [
      "SMAPE: 0.9773173816754479\n",
      "R2: 0.9862398667859699\n",
      "===== < BUILDING NO.27 > =====\n"
     ]
    },
    {
     "name": "stderr",
     "output_type": "stream",
     "text": [
      "/opt/conda/lib/python3.10/site-packages/xgboost/sklearn.py:835: UserWarning: `early_stopping_rounds` in `fit` method is deprecated for better compatibility with scikit-learn, use `early_stopping_rounds` in constructor or`set_params` instead.\n",
      "  warnings.warn(\n",
      " 27%|██▋       | 27/100 [00:49<02:19,  1.91s/it]"
     ]
    },
    {
     "name": "stdout",
     "output_type": "stream",
     "text": [
      "SMAPE: 0.867737563148512\n",
      "R2: 0.981536154919862\n",
      "===== < BUILDING NO.28 > =====\n"
     ]
    },
    {
     "name": "stderr",
     "output_type": "stream",
     "text": [
      "/opt/conda/lib/python3.10/site-packages/xgboost/sklearn.py:835: UserWarning: `early_stopping_rounds` in `fit` method is deprecated for better compatibility with scikit-learn, use `early_stopping_rounds` in constructor or`set_params` instead.\n",
      "  warnings.warn(\n",
      " 28%|██▊       | 28/100 [00:50<02:04,  1.73s/it]"
     ]
    },
    {
     "name": "stdout",
     "output_type": "stream",
     "text": [
      "SMAPE: 2.704559082680852\n",
      "R2: 0.9587023328344311\n",
      "===== < BUILDING NO.29 > =====\n"
     ]
    },
    {
     "name": "stderr",
     "output_type": "stream",
     "text": [
      "/opt/conda/lib/python3.10/site-packages/xgboost/sklearn.py:835: UserWarning: `early_stopping_rounds` in `fit` method is deprecated for better compatibility with scikit-learn, use `early_stopping_rounds` in constructor or`set_params` instead.\n",
      "  warnings.warn(\n",
      " 29%|██▉       | 29/100 [00:52<01:57,  1.66s/it]"
     ]
    },
    {
     "name": "stdout",
     "output_type": "stream",
     "text": [
      "SMAPE: 1.9643587507454325\n",
      "R2: 0.9533188152654972\n",
      "===== < BUILDING NO.30 > =====\n"
     ]
    },
    {
     "name": "stderr",
     "output_type": "stream",
     "text": [
      "/opt/conda/lib/python3.10/site-packages/xgboost/sklearn.py:835: UserWarning: `early_stopping_rounds` in `fit` method is deprecated for better compatibility with scikit-learn, use `early_stopping_rounds` in constructor or`set_params` instead.\n",
      "  warnings.warn(\n",
      " 30%|███       | 30/100 [00:53<01:53,  1.62s/it]"
     ]
    },
    {
     "name": "stdout",
     "output_type": "stream",
     "text": [
      "SMAPE: 3.5481102890599323\n",
      "R2: 0.88620846508242\n",
      "===== < BUILDING NO.31 > =====\n"
     ]
    },
    {
     "name": "stderr",
     "output_type": "stream",
     "text": [
      "/opt/conda/lib/python3.10/site-packages/xgboost/sklearn.py:835: UserWarning: `early_stopping_rounds` in `fit` method is deprecated for better compatibility with scikit-learn, use `early_stopping_rounds` in constructor or`set_params` instead.\n",
      "  warnings.warn(\n",
      " 31%|███       | 31/100 [00:55<01:46,  1.54s/it]"
     ]
    },
    {
     "name": "stdout",
     "output_type": "stream",
     "text": [
      "SMAPE: 2.567334174154841\n",
      "R2: 0.94394935900536\n",
      "===== < BUILDING NO.32 > =====\n"
     ]
    },
    {
     "name": "stderr",
     "output_type": "stream",
     "text": [
      "/opt/conda/lib/python3.10/site-packages/xgboost/sklearn.py:835: UserWarning: `early_stopping_rounds` in `fit` method is deprecated for better compatibility with scikit-learn, use `early_stopping_rounds` in constructor or`set_params` instead.\n",
      "  warnings.warn(\n",
      " 32%|███▏      | 32/100 [00:57<01:57,  1.73s/it]"
     ]
    },
    {
     "name": "stdout",
     "output_type": "stream",
     "text": [
      "SMAPE: 0.19720914074014337\n",
      "R2: 0.8552045268656359\n",
      "===== < BUILDING NO.33 > =====\n"
     ]
    },
    {
     "name": "stderr",
     "output_type": "stream",
     "text": [
      "/opt/conda/lib/python3.10/site-packages/xgboost/sklearn.py:835: UserWarning: `early_stopping_rounds` in `fit` method is deprecated for better compatibility with scikit-learn, use `early_stopping_rounds` in constructor or`set_params` instead.\n",
      "  warnings.warn(\n",
      " 33%|███▎      | 33/100 [01:00<02:28,  2.22s/it]"
     ]
    },
    {
     "name": "stdout",
     "output_type": "stream",
     "text": [
      "SMAPE: 0.22694591032733172\n",
      "R2: 0.68446200136358\n",
      "===== < BUILDING NO.34 > =====\n"
     ]
    },
    {
     "name": "stderr",
     "output_type": "stream",
     "text": [
      "/opt/conda/lib/python3.10/site-packages/xgboost/sklearn.py:835: UserWarning: `early_stopping_rounds` in `fit` method is deprecated for better compatibility with scikit-learn, use `early_stopping_rounds` in constructor or`set_params` instead.\n",
      "  warnings.warn(\n",
      " 34%|███▍      | 34/100 [01:03<02:34,  2.35s/it]"
     ]
    },
    {
     "name": "stdout",
     "output_type": "stream",
     "text": [
      "SMAPE: 0.3387897476067479\n",
      "R2: 0.871465093870818\n",
      "===== < BUILDING NO.35 > =====\n"
     ]
    },
    {
     "name": "stderr",
     "output_type": "stream",
     "text": [
      "/opt/conda/lib/python3.10/site-packages/xgboost/sklearn.py:835: UserWarning: `early_stopping_rounds` in `fit` method is deprecated for better compatibility with scikit-learn, use `early_stopping_rounds` in constructor or`set_params` instead.\n",
      "  warnings.warn(\n",
      " 35%|███▌      | 35/100 [01:05<02:34,  2.37s/it]"
     ]
    },
    {
     "name": "stdout",
     "output_type": "stream",
     "text": [
      "SMAPE: 0.16554927907406108\n",
      "R2: 0.930644493744941\n",
      "===== < BUILDING NO.36 > =====\n"
     ]
    },
    {
     "name": "stderr",
     "output_type": "stream",
     "text": [
      "/opt/conda/lib/python3.10/site-packages/xgboost/sklearn.py:835: UserWarning: `early_stopping_rounds` in `fit` method is deprecated for better compatibility with scikit-learn, use `early_stopping_rounds` in constructor or`set_params` instead.\n",
      "  warnings.warn(\n",
      " 36%|███▌      | 36/100 [01:08<02:38,  2.48s/it]"
     ]
    },
    {
     "name": "stdout",
     "output_type": "stream",
     "text": [
      "SMAPE: 0.324572880762238\n",
      "R2: 0.6041902251379345\n",
      "===== < BUILDING NO.37 > =====\n"
     ]
    },
    {
     "name": "stderr",
     "output_type": "stream",
     "text": [
      "/opt/conda/lib/python3.10/site-packages/xgboost/sklearn.py:835: UserWarning: `early_stopping_rounds` in `fit` method is deprecated for better compatibility with scikit-learn, use `early_stopping_rounds` in constructor or`set_params` instead.\n",
      "  warnings.warn(\n",
      " 37%|███▋      | 37/100 [01:10<02:24,  2.29s/it]"
     ]
    },
    {
     "name": "stdout",
     "output_type": "stream",
     "text": [
      "SMAPE: 2.1960751465586466\n",
      "R2: 0.9806661021843802\n",
      "===== < BUILDING NO.38 > =====\n"
     ]
    },
    {
     "name": "stderr",
     "output_type": "stream",
     "text": [
      "/opt/conda/lib/python3.10/site-packages/xgboost/sklearn.py:835: UserWarning: `early_stopping_rounds` in `fit` method is deprecated for better compatibility with scikit-learn, use `early_stopping_rounds` in constructor or`set_params` instead.\n",
      "  warnings.warn(\n",
      " 38%|███▊      | 38/100 [01:12<02:13,  2.15s/it]"
     ]
    },
    {
     "name": "stdout",
     "output_type": "stream",
     "text": [
      "SMAPE: 1.9340681188414415\n",
      "R2: 0.9973945579051627\n",
      "===== < BUILDING NO.39 > =====\n"
     ]
    },
    {
     "name": "stderr",
     "output_type": "stream",
     "text": [
      "/opt/conda/lib/python3.10/site-packages/xgboost/sklearn.py:835: UserWarning: `early_stopping_rounds` in `fit` method is deprecated for better compatibility with scikit-learn, use `early_stopping_rounds` in constructor or`set_params` instead.\n",
      "  warnings.warn(\n",
      " 39%|███▉      | 39/100 [01:13<02:01,  1.99s/it]"
     ]
    },
    {
     "name": "stdout",
     "output_type": "stream",
     "text": [
      "SMAPE: 2.6959262786661693\n",
      "R2: 0.978623042488991\n",
      "===== < BUILDING NO.40 > =====\n"
     ]
    },
    {
     "name": "stderr",
     "output_type": "stream",
     "text": [
      "/opt/conda/lib/python3.10/site-packages/xgboost/sklearn.py:835: UserWarning: `early_stopping_rounds` in `fit` method is deprecated for better compatibility with scikit-learn, use `early_stopping_rounds` in constructor or`set_params` instead.\n",
      "  warnings.warn(\n",
      " 40%|████      | 40/100 [01:15<01:50,  1.84s/it]"
     ]
    },
    {
     "name": "stdout",
     "output_type": "stream",
     "text": [
      "SMAPE: 4.205767008048054\n",
      "R2: 0.9647470373154696\n",
      "===== < BUILDING NO.41 > =====\n"
     ]
    },
    {
     "name": "stderr",
     "output_type": "stream",
     "text": [
      "/opt/conda/lib/python3.10/site-packages/xgboost/sklearn.py:835: UserWarning: `early_stopping_rounds` in `fit` method is deprecated for better compatibility with scikit-learn, use `early_stopping_rounds` in constructor or`set_params` instead.\n",
      "  warnings.warn(\n",
      " 41%|████      | 41/100 [01:16<01:46,  1.80s/it]"
     ]
    },
    {
     "name": "stdout",
     "output_type": "stream",
     "text": [
      "SMAPE: 2.4855378207707686\n",
      "R2: 0.9900449752317494\n",
      "===== < BUILDING NO.42 > =====\n"
     ]
    },
    {
     "name": "stderr",
     "output_type": "stream",
     "text": [
      "/opt/conda/lib/python3.10/site-packages/xgboost/sklearn.py:835: UserWarning: `early_stopping_rounds` in `fit` method is deprecated for better compatibility with scikit-learn, use `early_stopping_rounds` in constructor or`set_params` instead.\n",
      "  warnings.warn(\n",
      " 42%|████▏     | 42/100 [01:18<01:34,  1.63s/it]"
     ]
    },
    {
     "name": "stdout",
     "output_type": "stream",
     "text": [
      "SMAPE: 8.886334639541975\n",
      "R2: 0.8211249543964603\n",
      "===== < BUILDING NO.43 > =====\n"
     ]
    },
    {
     "name": "stderr",
     "output_type": "stream",
     "text": [
      "/opt/conda/lib/python3.10/site-packages/xgboost/sklearn.py:835: UserWarning: `early_stopping_rounds` in `fit` method is deprecated for better compatibility with scikit-learn, use `early_stopping_rounds` in constructor or`set_params` instead.\n",
      "  warnings.warn(\n",
      " 43%|████▎     | 43/100 [01:19<01:34,  1.65s/it]"
     ]
    },
    {
     "name": "stdout",
     "output_type": "stream",
     "text": [
      "SMAPE: 3.142299275684015\n",
      "R2: 0.9935884405681805\n",
      "===== < BUILDING NO.44 > =====\n"
     ]
    },
    {
     "name": "stderr",
     "output_type": "stream",
     "text": [
      "/opt/conda/lib/python3.10/site-packages/xgboost/sklearn.py:835: UserWarning: `early_stopping_rounds` in `fit` method is deprecated for better compatibility with scikit-learn, use `early_stopping_rounds` in constructor or`set_params` instead.\n",
      "  warnings.warn(\n",
      " 44%|████▍     | 44/100 [01:21<01:30,  1.61s/it]"
     ]
    },
    {
     "name": "stdout",
     "output_type": "stream",
     "text": [
      "SMAPE: 2.017980540625075\n",
      "R2: 0.9963475195671331\n",
      "===== < BUILDING NO.45 > =====\n"
     ]
    },
    {
     "name": "stderr",
     "output_type": "stream",
     "text": [
      "/opt/conda/lib/python3.10/site-packages/xgboost/sklearn.py:835: UserWarning: `early_stopping_rounds` in `fit` method is deprecated for better compatibility with scikit-learn, use `early_stopping_rounds` in constructor or`set_params` instead.\n",
      "  warnings.warn(\n",
      " 45%|████▌     | 45/100 [01:23<01:34,  1.72s/it]"
     ]
    },
    {
     "name": "stdout",
     "output_type": "stream",
     "text": [
      "SMAPE: 1.2202206810559018\n",
      "R2: 0.9634003864073052\n",
      "===== < BUILDING NO.46 > =====\n"
     ]
    },
    {
     "name": "stderr",
     "output_type": "stream",
     "text": [
      "/opt/conda/lib/python3.10/site-packages/xgboost/sklearn.py:835: UserWarning: `early_stopping_rounds` in `fit` method is deprecated for better compatibility with scikit-learn, use `early_stopping_rounds` in constructor or`set_params` instead.\n",
      "  warnings.warn(\n",
      " 46%|████▌     | 46/100 [01:24<01:31,  1.69s/it]"
     ]
    },
    {
     "name": "stdout",
     "output_type": "stream",
     "text": [
      "SMAPE: 2.2453486787421926\n",
      "R2: 0.9497410894929194\n",
      "===== < BUILDING NO.47 > =====\n"
     ]
    },
    {
     "name": "stderr",
     "output_type": "stream",
     "text": [
      "/opt/conda/lib/python3.10/site-packages/xgboost/sklearn.py:835: UserWarning: `early_stopping_rounds` in `fit` method is deprecated for better compatibility with scikit-learn, use `early_stopping_rounds` in constructor or`set_params` instead.\n",
      "  warnings.warn(\n",
      " 47%|████▋     | 47/100 [01:26<01:28,  1.66s/it]"
     ]
    },
    {
     "name": "stdout",
     "output_type": "stream",
     "text": [
      "SMAPE: 2.1547084290582728\n",
      "R2: 0.9376816248035876\n",
      "===== < BUILDING NO.48 > =====\n"
     ]
    },
    {
     "name": "stderr",
     "output_type": "stream",
     "text": [
      "/opt/conda/lib/python3.10/site-packages/xgboost/sklearn.py:835: UserWarning: `early_stopping_rounds` in `fit` method is deprecated for better compatibility with scikit-learn, use `early_stopping_rounds` in constructor or`set_params` instead.\n",
      "  warnings.warn(\n",
      " 48%|████▊     | 48/100 [01:28<01:27,  1.69s/it]"
     ]
    },
    {
     "name": "stdout",
     "output_type": "stream",
     "text": [
      "SMAPE: 1.012755865008746\n",
      "R2: 0.9866580578024471\n",
      "===== < BUILDING NO.49 > =====\n"
     ]
    },
    {
     "name": "stderr",
     "output_type": "stream",
     "text": [
      "/opt/conda/lib/python3.10/site-packages/xgboost/sklearn.py:835: UserWarning: `early_stopping_rounds` in `fit` method is deprecated for better compatibility with scikit-learn, use `early_stopping_rounds` in constructor or`set_params` instead.\n",
      "  warnings.warn(\n",
      " 49%|████▉     | 49/100 [01:30<01:35,  1.88s/it]"
     ]
    },
    {
     "name": "stdout",
     "output_type": "stream",
     "text": [
      "SMAPE: 1.261882648770264\n",
      "R2: 0.9506944612100799\n",
      "===== < BUILDING NO.50 > =====\n"
     ]
    },
    {
     "name": "stderr",
     "output_type": "stream",
     "text": [
      "/opt/conda/lib/python3.10/site-packages/xgboost/sklearn.py:835: UserWarning: `early_stopping_rounds` in `fit` method is deprecated for better compatibility with scikit-learn, use `early_stopping_rounds` in constructor or`set_params` instead.\n",
      "  warnings.warn(\n",
      " 50%|█████     | 50/100 [01:32<01:30,  1.81s/it]"
     ]
    },
    {
     "name": "stdout",
     "output_type": "stream",
     "text": [
      "SMAPE: 1.1774256184351086\n",
      "R2: 0.9382771255971869\n",
      "===== < BUILDING NO.51 > =====\n"
     ]
    },
    {
     "name": "stderr",
     "output_type": "stream",
     "text": [
      "/opt/conda/lib/python3.10/site-packages/xgboost/sklearn.py:835: UserWarning: `early_stopping_rounds` in `fit` method is deprecated for better compatibility with scikit-learn, use `early_stopping_rounds` in constructor or`set_params` instead.\n",
      "  warnings.warn(\n",
      " 51%|█████     | 51/100 [01:34<01:29,  1.82s/it]"
     ]
    },
    {
     "name": "stdout",
     "output_type": "stream",
     "text": [
      "SMAPE: 1.76382256015568\n",
      "R2: 0.9380209906080006\n",
      "===== < BUILDING NO.52 > =====\n"
     ]
    },
    {
     "name": "stderr",
     "output_type": "stream",
     "text": [
      "/opt/conda/lib/python3.10/site-packages/xgboost/sklearn.py:835: UserWarning: `early_stopping_rounds` in `fit` method is deprecated for better compatibility with scikit-learn, use `early_stopping_rounds` in constructor or`set_params` instead.\n",
      "  warnings.warn(\n",
      " 52%|█████▏    | 52/100 [01:36<01:31,  1.90s/it]"
     ]
    },
    {
     "name": "stdout",
     "output_type": "stream",
     "text": [
      "SMAPE: 1.6804617829057673\n",
      "R2: 0.9701209576445452\n",
      "===== < BUILDING NO.53 > =====\n"
     ]
    },
    {
     "name": "stderr",
     "output_type": "stream",
     "text": [
      "/opt/conda/lib/python3.10/site-packages/xgboost/sklearn.py:835: UserWarning: `early_stopping_rounds` in `fit` method is deprecated for better compatibility with scikit-learn, use `early_stopping_rounds` in constructor or`set_params` instead.\n",
      "  warnings.warn(\n",
      " 53%|█████▎    | 53/100 [01:37<01:22,  1.75s/it]"
     ]
    },
    {
     "name": "stdout",
     "output_type": "stream",
     "text": [
      "SMAPE: 5.845478155723059\n",
      "R2: 0.9522922672614174\n",
      "===== < BUILDING NO.54 > =====\n"
     ]
    },
    {
     "name": "stderr",
     "output_type": "stream",
     "text": [
      "/opt/conda/lib/python3.10/site-packages/xgboost/sklearn.py:835: UserWarning: `early_stopping_rounds` in `fit` method is deprecated for better compatibility with scikit-learn, use `early_stopping_rounds` in constructor or`set_params` instead.\n",
      "  warnings.warn(\n",
      " 54%|█████▍    | 54/100 [01:39<01:19,  1.72s/it]"
     ]
    },
    {
     "name": "stdout",
     "output_type": "stream",
     "text": [
      "SMAPE: 10.349529164265277\n",
      "R2: 0.8227356252535516\n",
      "===== < BUILDING NO.55 > =====\n"
     ]
    },
    {
     "name": "stderr",
     "output_type": "stream",
     "text": [
      "/opt/conda/lib/python3.10/site-packages/xgboost/sklearn.py:835: UserWarning: `early_stopping_rounds` in `fit` method is deprecated for better compatibility with scikit-learn, use `early_stopping_rounds` in constructor or`set_params` instead.\n",
      "  warnings.warn(\n",
      " 55%|█████▌    | 55/100 [01:41<01:17,  1.73s/it]"
     ]
    },
    {
     "name": "stdout",
     "output_type": "stream",
     "text": [
      "SMAPE: 0.7954576733665512\n",
      "R2: 0.9207194335232134\n",
      "===== < BUILDING NO.56 > =====\n"
     ]
    },
    {
     "name": "stderr",
     "output_type": "stream",
     "text": [
      "/opt/conda/lib/python3.10/site-packages/xgboost/sklearn.py:835: UserWarning: `early_stopping_rounds` in `fit` method is deprecated for better compatibility with scikit-learn, use `early_stopping_rounds` in constructor or`set_params` instead.\n",
      "  warnings.warn(\n",
      " 56%|█████▌    | 56/100 [01:43<01:22,  1.87s/it]"
     ]
    },
    {
     "name": "stdout",
     "output_type": "stream",
     "text": [
      "SMAPE: 0.36454789539968774\n",
      "R2: 0.956043892706144\n",
      "===== < BUILDING NO.57 > =====\n"
     ]
    },
    {
     "name": "stderr",
     "output_type": "stream",
     "text": [
      "/opt/conda/lib/python3.10/site-packages/xgboost/sklearn.py:835: UserWarning: `early_stopping_rounds` in `fit` method is deprecated for better compatibility with scikit-learn, use `early_stopping_rounds` in constructor or`set_params` instead.\n",
      "  warnings.warn(\n",
      " 57%|█████▋    | 57/100 [01:44<01:17,  1.80s/it]"
     ]
    },
    {
     "name": "stdout",
     "output_type": "stream",
     "text": [
      "SMAPE: 2.602961978510018\n",
      "R2: 0.9852399391579665\n",
      "===== < BUILDING NO.58 > =====\n"
     ]
    },
    {
     "name": "stderr",
     "output_type": "stream",
     "text": [
      "/opt/conda/lib/python3.10/site-packages/xgboost/sklearn.py:835: UserWarning: `early_stopping_rounds` in `fit` method is deprecated for better compatibility with scikit-learn, use `early_stopping_rounds` in constructor or`set_params` instead.\n",
      "  warnings.warn(\n",
      " 58%|█████▊    | 58/100 [01:46<01:19,  1.88s/it]"
     ]
    },
    {
     "name": "stdout",
     "output_type": "stream",
     "text": [
      "SMAPE: 0.2140446799035083\n",
      "R2: 0.9417370926698515\n",
      "===== < BUILDING NO.59 > =====\n"
     ]
    },
    {
     "name": "stderr",
     "output_type": "stream",
     "text": [
      "/opt/conda/lib/python3.10/site-packages/xgboost/sklearn.py:835: UserWarning: `early_stopping_rounds` in `fit` method is deprecated for better compatibility with scikit-learn, use `early_stopping_rounds` in constructor or`set_params` instead.\n",
      "  warnings.warn(\n",
      " 59%|█████▉    | 59/100 [01:48<01:13,  1.80s/it]"
     ]
    },
    {
     "name": "stdout",
     "output_type": "stream",
     "text": [
      "SMAPE: 2.57593600262091\n",
      "R2: 0.9806958621949143\n",
      "===== < BUILDING NO.60 > =====\n"
     ]
    },
    {
     "name": "stderr",
     "output_type": "stream",
     "text": [
      "/opt/conda/lib/python3.10/site-packages/xgboost/sklearn.py:835: UserWarning: `early_stopping_rounds` in `fit` method is deprecated for better compatibility with scikit-learn, use `early_stopping_rounds` in constructor or`set_params` instead.\n",
      "  warnings.warn(\n",
      " 60%|██████    | 60/100 [01:50<01:08,  1.71s/it]"
     ]
    },
    {
     "name": "stdout",
     "output_type": "stream",
     "text": [
      "SMAPE: 3.1294851892009734\n",
      "R2: 0.943293418791736\n",
      "===== < BUILDING NO.61 > =====\n"
     ]
    },
    {
     "name": "stderr",
     "output_type": "stream",
     "text": [
      "/opt/conda/lib/python3.10/site-packages/xgboost/sklearn.py:835: UserWarning: `early_stopping_rounds` in `fit` method is deprecated for better compatibility with scikit-learn, use `early_stopping_rounds` in constructor or`set_params` instead.\n",
      "  warnings.warn(\n",
      " 61%|██████    | 61/100 [01:51<01:04,  1.66s/it]"
     ]
    },
    {
     "name": "stdout",
     "output_type": "stream",
     "text": [
      "SMAPE: 2.4241400697475286\n",
      "R2: 0.9329405959549734\n",
      "===== < BUILDING NO.62 > =====\n"
     ]
    },
    {
     "name": "stderr",
     "output_type": "stream",
     "text": [
      "/opt/conda/lib/python3.10/site-packages/xgboost/sklearn.py:835: UserWarning: `early_stopping_rounds` in `fit` method is deprecated for better compatibility with scikit-learn, use `early_stopping_rounds` in constructor or`set_params` instead.\n",
      "  warnings.warn(\n",
      " 62%|██████▏   | 62/100 [01:53<01:01,  1.61s/it]"
     ]
    },
    {
     "name": "stdout",
     "output_type": "stream",
     "text": [
      "SMAPE: 2.7296138619808215\n",
      "R2: 0.9264455657548724\n",
      "===== < BUILDING NO.63 > =====\n"
     ]
    },
    {
     "name": "stderr",
     "output_type": "stream",
     "text": [
      "/opt/conda/lib/python3.10/site-packages/xgboost/sklearn.py:835: UserWarning: `early_stopping_rounds` in `fit` method is deprecated for better compatibility with scikit-learn, use `early_stopping_rounds` in constructor or`set_params` instead.\n",
      "  warnings.warn(\n",
      " 63%|██████▎   | 63/100 [01:54<00:58,  1.58s/it]"
     ]
    },
    {
     "name": "stdout",
     "output_type": "stream",
     "text": [
      "SMAPE: 3.137687105059982\n",
      "R2: 0.9153071094077435\n",
      "===== < BUILDING NO.64 > =====\n"
     ]
    },
    {
     "name": "stderr",
     "output_type": "stream",
     "text": [
      "/opt/conda/lib/python3.10/site-packages/xgboost/sklearn.py:835: UserWarning: `early_stopping_rounds` in `fit` method is deprecated for better compatibility with scikit-learn, use `early_stopping_rounds` in constructor or`set_params` instead.\n",
      "  warnings.warn(\n",
      " 64%|██████▍   | 64/100 [01:56<00:55,  1.55s/it]"
     ]
    },
    {
     "name": "stdout",
     "output_type": "stream",
     "text": [
      "SMAPE: 1.9728113827839104\n",
      "R2: 0.9465342574200263\n",
      "===== < BUILDING NO.65 > =====\n"
     ]
    },
    {
     "name": "stderr",
     "output_type": "stream",
     "text": [
      "/opt/conda/lib/python3.10/site-packages/xgboost/sklearn.py:835: UserWarning: `early_stopping_rounds` in `fit` method is deprecated for better compatibility with scikit-learn, use `early_stopping_rounds` in constructor or`set_params` instead.\n",
      "  warnings.warn(\n",
      " 65%|██████▌   | 65/100 [01:57<00:52,  1.50s/it]"
     ]
    },
    {
     "name": "stdout",
     "output_type": "stream",
     "text": [
      "SMAPE: 4.299223299773507\n",
      "R2: 0.8762872841097383\n",
      "===== < BUILDING NO.66 > =====\n"
     ]
    },
    {
     "name": "stderr",
     "output_type": "stream",
     "text": [
      "/opt/conda/lib/python3.10/site-packages/xgboost/sklearn.py:835: UserWarning: `early_stopping_rounds` in `fit` method is deprecated for better compatibility with scikit-learn, use `early_stopping_rounds` in constructor or`set_params` instead.\n",
      "  warnings.warn(\n",
      " 66%|██████▌   | 66/100 [01:59<00:52,  1.53s/it]"
     ]
    },
    {
     "name": "stdout",
     "output_type": "stream",
     "text": [
      "SMAPE: 2.1522566600961635\n",
      "R2: 0.8571766754142797\n",
      "===== < BUILDING NO.67 > =====\n"
     ]
    },
    {
     "name": "stderr",
     "output_type": "stream",
     "text": [
      "/opt/conda/lib/python3.10/site-packages/xgboost/sklearn.py:835: UserWarning: `early_stopping_rounds` in `fit` method is deprecated for better compatibility with scikit-learn, use `early_stopping_rounds` in constructor or`set_params` instead.\n",
      "  warnings.warn(\n",
      " 67%|██████▋   | 67/100 [02:00<00:48,  1.48s/it]"
     ]
    },
    {
     "name": "stdout",
     "output_type": "stream",
     "text": [
      "SMAPE: 2.74384280272047\n",
      "R2: 0.8830061209811291\n",
      "===== < BUILDING NO.68 > =====\n"
     ]
    },
    {
     "name": "stderr",
     "output_type": "stream",
     "text": [
      "/opt/conda/lib/python3.10/site-packages/xgboost/sklearn.py:835: UserWarning: `early_stopping_rounds` in `fit` method is deprecated for better compatibility with scikit-learn, use `early_stopping_rounds` in constructor or`set_params` instead.\n",
      "  warnings.warn(\n",
      " 68%|██████▊   | 68/100 [02:01<00:47,  1.47s/it]"
     ]
    },
    {
     "name": "stdout",
     "output_type": "stream",
     "text": [
      "SMAPE: 2.4851979680719816\n",
      "R2: 0.9311362553108149\n",
      "===== < BUILDING NO.69 > =====\n"
     ]
    },
    {
     "name": "stderr",
     "output_type": "stream",
     "text": [
      "/opt/conda/lib/python3.10/site-packages/xgboost/sklearn.py:835: UserWarning: `early_stopping_rounds` in `fit` method is deprecated for better compatibility with scikit-learn, use `early_stopping_rounds` in constructor or`set_params` instead.\n",
      "  warnings.warn(\n",
      " 69%|██████▉   | 69/100 [02:03<00:47,  1.52s/it]"
     ]
    },
    {
     "name": "stdout",
     "output_type": "stream",
     "text": [
      "SMAPE: 1.1998130765926869\n",
      "R2: 0.977139652494653\n",
      "===== < BUILDING NO.70 > =====\n"
     ]
    },
    {
     "name": "stderr",
     "output_type": "stream",
     "text": [
      "/opt/conda/lib/python3.10/site-packages/xgboost/sklearn.py:835: UserWarning: `early_stopping_rounds` in `fit` method is deprecated for better compatibility with scikit-learn, use `early_stopping_rounds` in constructor or`set_params` instead.\n",
      "  warnings.warn(\n",
      " 70%|███████   | 70/100 [02:05<00:49,  1.66s/it]"
     ]
    },
    {
     "name": "stdout",
     "output_type": "stream",
     "text": [
      "SMAPE: 2.5906605631607684\n",
      "R2: 0.9505012664788661\n",
      "===== < BUILDING NO.71 > =====\n"
     ]
    },
    {
     "name": "stderr",
     "output_type": "stream",
     "text": [
      "/opt/conda/lib/python3.10/site-packages/xgboost/sklearn.py:835: UserWarning: `early_stopping_rounds` in `fit` method is deprecated for better compatibility with scikit-learn, use `early_stopping_rounds` in constructor or`set_params` instead.\n",
      "  warnings.warn(\n",
      " 71%|███████   | 71/100 [02:07<00:48,  1.66s/it]"
     ]
    },
    {
     "name": "stdout",
     "output_type": "stream",
     "text": [
      "SMAPE: 2.2288104240237754\n",
      "R2: 0.8905960554177875\n",
      "===== < BUILDING NO.72 > =====\n"
     ]
    },
    {
     "name": "stderr",
     "output_type": "stream",
     "text": [
      "/opt/conda/lib/python3.10/site-packages/xgboost/sklearn.py:835: UserWarning: `early_stopping_rounds` in `fit` method is deprecated for better compatibility with scikit-learn, use `early_stopping_rounds` in constructor or`set_params` instead.\n",
      "  warnings.warn(\n",
      " 72%|███████▏  | 72/100 [02:09<00:52,  1.86s/it]"
     ]
    },
    {
     "name": "stdout",
     "output_type": "stream",
     "text": [
      "SMAPE: 2.341936241720028\n",
      "R2: 0.788323527296303\n",
      "===== < BUILDING NO.73 > =====\n"
     ]
    },
    {
     "name": "stderr",
     "output_type": "stream",
     "text": [
      "/opt/conda/lib/python3.10/site-packages/xgboost/sklearn.py:835: UserWarning: `early_stopping_rounds` in `fit` method is deprecated for better compatibility with scikit-learn, use `early_stopping_rounds` in constructor or`set_params` instead.\n",
      "  warnings.warn(\n",
      " 73%|███████▎  | 73/100 [02:11<00:48,  1.81s/it]"
     ]
    },
    {
     "name": "stdout",
     "output_type": "stream",
     "text": [
      "SMAPE: 1.6812495884969443\n",
      "R2: 0.8191011477677099\n",
      "===== < BUILDING NO.74 > =====\n"
     ]
    },
    {
     "name": "stderr",
     "output_type": "stream",
     "text": [
      "/opt/conda/lib/python3.10/site-packages/xgboost/sklearn.py:835: UserWarning: `early_stopping_rounds` in `fit` method is deprecated for better compatibility with scikit-learn, use `early_stopping_rounds` in constructor or`set_params` instead.\n",
      "  warnings.warn(\n",
      " 74%|███████▍  | 74/100 [02:13<00:49,  1.89s/it]"
     ]
    },
    {
     "name": "stdout",
     "output_type": "stream",
     "text": [
      "SMAPE: 3.1590155267692923\n",
      "R2: 0.9215653654800202\n",
      "===== < BUILDING NO.75 > =====\n"
     ]
    },
    {
     "name": "stderr",
     "output_type": "stream",
     "text": [
      "/opt/conda/lib/python3.10/site-packages/xgboost/sklearn.py:835: UserWarning: `early_stopping_rounds` in `fit` method is deprecated for better compatibility with scikit-learn, use `early_stopping_rounds` in constructor or`set_params` instead.\n",
      "  warnings.warn(\n",
      " 75%|███████▌  | 75/100 [02:14<00:44,  1.78s/it]"
     ]
    },
    {
     "name": "stdout",
     "output_type": "stream",
     "text": [
      "SMAPE: 1.7684096629510642\n",
      "R2: 0.939415150609647\n",
      "===== < BUILDING NO.76 > =====\n"
     ]
    },
    {
     "name": "stderr",
     "output_type": "stream",
     "text": [
      "/opt/conda/lib/python3.10/site-packages/xgboost/sklearn.py:835: UserWarning: `early_stopping_rounds` in `fit` method is deprecated for better compatibility with scikit-learn, use `early_stopping_rounds` in constructor or`set_params` instead.\n",
      "  warnings.warn(\n",
      " 76%|███████▌  | 76/100 [02:16<00:41,  1.71s/it]"
     ]
    },
    {
     "name": "stdout",
     "output_type": "stream",
     "text": [
      "SMAPE: 2.4262653195951516\n",
      "R2: 0.7935494272807322\n",
      "===== < BUILDING NO.77 > =====\n"
     ]
    },
    {
     "name": "stderr",
     "output_type": "stream",
     "text": [
      "/opt/conda/lib/python3.10/site-packages/xgboost/sklearn.py:835: UserWarning: `early_stopping_rounds` in `fit` method is deprecated for better compatibility with scikit-learn, use `early_stopping_rounds` in constructor or`set_params` instead.\n",
      "  warnings.warn(\n",
      " 77%|███████▋  | 77/100 [02:18<00:39,  1.71s/it]"
     ]
    },
    {
     "name": "stdout",
     "output_type": "stream",
     "text": [
      "SMAPE: 1.2476837868169748\n",
      "R2: 0.9924322216808157\n",
      "===== < BUILDING NO.78 > =====\n"
     ]
    },
    {
     "name": "stderr",
     "output_type": "stream",
     "text": [
      "/opt/conda/lib/python3.10/site-packages/xgboost/sklearn.py:835: UserWarning: `early_stopping_rounds` in `fit` method is deprecated for better compatibility with scikit-learn, use `early_stopping_rounds` in constructor or`set_params` instead.\n",
      "  warnings.warn(\n",
      " 78%|███████▊  | 78/100 [02:19<00:38,  1.74s/it]"
     ]
    },
    {
     "name": "stdout",
     "output_type": "stream",
     "text": [
      "SMAPE: 1.5595962083409516\n",
      "R2: 0.9933560836140741\n",
      "===== < BUILDING NO.79 > =====\n"
     ]
    },
    {
     "name": "stderr",
     "output_type": "stream",
     "text": [
      "/opt/conda/lib/python3.10/site-packages/xgboost/sklearn.py:835: UserWarning: `early_stopping_rounds` in `fit` method is deprecated for better compatibility with scikit-learn, use `early_stopping_rounds` in constructor or`set_params` instead.\n",
      "  warnings.warn(\n",
      " 79%|███████▉  | 79/100 [02:21<00:38,  1.84s/it]"
     ]
    },
    {
     "name": "stdout",
     "output_type": "stream",
     "text": [
      "SMAPE: 1.0350976727996473\n",
      "R2: 0.9910165228236005\n",
      "===== < BUILDING NO.80 > =====\n"
     ]
    },
    {
     "name": "stderr",
     "output_type": "stream",
     "text": [
      "/opt/conda/lib/python3.10/site-packages/xgboost/sklearn.py:835: UserWarning: `early_stopping_rounds` in `fit` method is deprecated for better compatibility with scikit-learn, use `early_stopping_rounds` in constructor or`set_params` instead.\n",
      "  warnings.warn(\n",
      " 80%|████████  | 80/100 [02:23<00:38,  1.90s/it]"
     ]
    },
    {
     "name": "stdout",
     "output_type": "stream",
     "text": [
      "SMAPE: 1.6400788047320642\n",
      "R2: 0.9945570325609523\n",
      "===== < BUILDING NO.81 > =====\n"
     ]
    },
    {
     "name": "stderr",
     "output_type": "stream",
     "text": [
      "/opt/conda/lib/python3.10/site-packages/xgboost/sklearn.py:835: UserWarning: `early_stopping_rounds` in `fit` method is deprecated for better compatibility with scikit-learn, use `early_stopping_rounds` in constructor or`set_params` instead.\n",
      "  warnings.warn(\n",
      " 81%|████████  | 81/100 [02:25<00:35,  1.89s/it]"
     ]
    },
    {
     "name": "stdout",
     "output_type": "stream",
     "text": [
      "SMAPE: 1.8059067018017305\n",
      "R2: 0.9914125998742644\n",
      "===== < BUILDING NO.82 > =====\n"
     ]
    },
    {
     "name": "stderr",
     "output_type": "stream",
     "text": [
      "/opt/conda/lib/python3.10/site-packages/xgboost/sklearn.py:835: UserWarning: `early_stopping_rounds` in `fit` method is deprecated for better compatibility with scikit-learn, use `early_stopping_rounds` in constructor or`set_params` instead.\n",
      "  warnings.warn(\n",
      " 82%|████████▏ | 82/100 [02:27<00:33,  1.86s/it]"
     ]
    },
    {
     "name": "stdout",
     "output_type": "stream",
     "text": [
      "SMAPE: 2.100320803873537\n",
      "R2: 0.9917765402321854\n",
      "===== < BUILDING NO.83 > =====\n"
     ]
    },
    {
     "name": "stderr",
     "output_type": "stream",
     "text": [
      "/opt/conda/lib/python3.10/site-packages/xgboost/sklearn.py:835: UserWarning: `early_stopping_rounds` in `fit` method is deprecated for better compatibility with scikit-learn, use `early_stopping_rounds` in constructor or`set_params` instead.\n",
      "  warnings.warn(\n",
      " 83%|████████▎ | 83/100 [02:29<00:31,  1.82s/it]"
     ]
    },
    {
     "name": "stdout",
     "output_type": "stream",
     "text": [
      "SMAPE: 1.4810436987775253\n",
      "R2: 0.9933915973581001\n",
      "===== < BUILDING NO.84 > =====\n"
     ]
    },
    {
     "name": "stderr",
     "output_type": "stream",
     "text": [
      "/opt/conda/lib/python3.10/site-packages/xgboost/sklearn.py:835: UserWarning: `early_stopping_rounds` in `fit` method is deprecated for better compatibility with scikit-learn, use `early_stopping_rounds` in constructor or`set_params` instead.\n",
      "  warnings.warn(\n",
      " 84%|████████▍ | 84/100 [02:31<00:28,  1.79s/it]"
     ]
    },
    {
     "name": "stdout",
     "output_type": "stream",
     "text": [
      "SMAPE: 1.4418869799494027\n",
      "R2: 0.9909055342089284\n",
      "===== < BUILDING NO.85 > =====\n"
     ]
    },
    {
     "name": "stderr",
     "output_type": "stream",
     "text": [
      "/opt/conda/lib/python3.10/site-packages/xgboost/sklearn.py:835: UserWarning: `early_stopping_rounds` in `fit` method is deprecated for better compatibility with scikit-learn, use `early_stopping_rounds` in constructor or`set_params` instead.\n",
      "  warnings.warn(\n",
      " 85%|████████▌ | 85/100 [02:33<00:28,  1.91s/it]"
     ]
    },
    {
     "name": "stdout",
     "output_type": "stream",
     "text": [
      "SMAPE: 1.7826386026152627\n",
      "R2: 0.9535375682337994\n",
      "===== < BUILDING NO.86 > =====\n"
     ]
    },
    {
     "name": "stderr",
     "output_type": "stream",
     "text": [
      "/opt/conda/lib/python3.10/site-packages/xgboost/sklearn.py:835: UserWarning: `early_stopping_rounds` in `fit` method is deprecated for better compatibility with scikit-learn, use `early_stopping_rounds` in constructor or`set_params` instead.\n",
      "  warnings.warn(\n",
      " 86%|████████▌ | 86/100 [02:35<00:27,  1.95s/it]"
     ]
    },
    {
     "name": "stdout",
     "output_type": "stream",
     "text": [
      "SMAPE: 3.742093518187122\n",
      "R2: 0.8742573123270703\n",
      "===== < BUILDING NO.87 > =====\n"
     ]
    },
    {
     "name": "stderr",
     "output_type": "stream",
     "text": [
      "/opt/conda/lib/python3.10/site-packages/xgboost/sklearn.py:835: UserWarning: `early_stopping_rounds` in `fit` method is deprecated for better compatibility with scikit-learn, use `early_stopping_rounds` in constructor or`set_params` instead.\n",
      "  warnings.warn(\n",
      " 87%|████████▋ | 87/100 [02:36<00:24,  1.86s/it]"
     ]
    },
    {
     "name": "stdout",
     "output_type": "stream",
     "text": [
      "SMAPE: 4.890166003373403\n",
      "R2: 0.881452065133602\n",
      "===== < BUILDING NO.88 > =====\n"
     ]
    },
    {
     "name": "stderr",
     "output_type": "stream",
     "text": [
      "/opt/conda/lib/python3.10/site-packages/xgboost/sklearn.py:835: UserWarning: `early_stopping_rounds` in `fit` method is deprecated for better compatibility with scikit-learn, use `early_stopping_rounds` in constructor or`set_params` instead.\n",
      "  warnings.warn(\n",
      " 88%|████████▊ | 88/100 [02:38<00:21,  1.76s/it]"
     ]
    },
    {
     "name": "stdout",
     "output_type": "stream",
     "text": [
      "SMAPE: 2.9714834425101118\n",
      "R2: 0.943396775921006\n",
      "===== < BUILDING NO.89 > =====\n"
     ]
    },
    {
     "name": "stderr",
     "output_type": "stream",
     "text": [
      "/opt/conda/lib/python3.10/site-packages/xgboost/sklearn.py:835: UserWarning: `early_stopping_rounds` in `fit` method is deprecated for better compatibility with scikit-learn, use `early_stopping_rounds` in constructor or`set_params` instead.\n",
      "  warnings.warn(\n",
      " 89%|████████▉ | 89/100 [02:40<00:19,  1.73s/it]"
     ]
    },
    {
     "name": "stdout",
     "output_type": "stream",
     "text": [
      "SMAPE: 2.86748248519345\n",
      "R2: 0.9394340533397157\n",
      "===== < BUILDING NO.90 > =====\n"
     ]
    },
    {
     "name": "stderr",
     "output_type": "stream",
     "text": [
      "/opt/conda/lib/python3.10/site-packages/xgboost/sklearn.py:835: UserWarning: `early_stopping_rounds` in `fit` method is deprecated for better compatibility with scikit-learn, use `early_stopping_rounds` in constructor or`set_params` instead.\n",
      "  warnings.warn(\n",
      " 90%|█████████ | 90/100 [02:41<00:17,  1.76s/it]"
     ]
    },
    {
     "name": "stdout",
     "output_type": "stream",
     "text": [
      "SMAPE: 3.106183633377735\n",
      "R2: 0.9678364868124525\n",
      "===== < BUILDING NO.91 > =====\n"
     ]
    },
    {
     "name": "stderr",
     "output_type": "stream",
     "text": [
      "/opt/conda/lib/python3.10/site-packages/xgboost/sklearn.py:835: UserWarning: `early_stopping_rounds` in `fit` method is deprecated for better compatibility with scikit-learn, use `early_stopping_rounds` in constructor or`set_params` instead.\n",
      "  warnings.warn(\n",
      " 91%|█████████ | 91/100 [02:43<00:15,  1.76s/it]"
     ]
    },
    {
     "name": "stdout",
     "output_type": "stream",
     "text": [
      "SMAPE: 6.369985354698693\n",
      "R2: 0.9491040321602547\n",
      "===== < BUILDING NO.92 > =====\n"
     ]
    },
    {
     "name": "stderr",
     "output_type": "stream",
     "text": [
      "/opt/conda/lib/python3.10/site-packages/xgboost/sklearn.py:835: UserWarning: `early_stopping_rounds` in `fit` method is deprecated for better compatibility with scikit-learn, use `early_stopping_rounds` in constructor or`set_params` instead.\n",
      "  warnings.warn(\n",
      " 92%|█████████▏| 92/100 [02:45<00:14,  1.75s/it]"
     ]
    },
    {
     "name": "stdout",
     "output_type": "stream",
     "text": [
      "SMAPE: 2.8757107303313627\n",
      "R2: 0.9392718993007843\n",
      "===== < BUILDING NO.93 > =====\n"
     ]
    },
    {
     "name": "stderr",
     "output_type": "stream",
     "text": [
      "/opt/conda/lib/python3.10/site-packages/xgboost/sklearn.py:835: UserWarning: `early_stopping_rounds` in `fit` method is deprecated for better compatibility with scikit-learn, use `early_stopping_rounds` in constructor or`set_params` instead.\n",
      "  warnings.warn(\n",
      " 93%|█████████▎| 93/100 [02:47<00:12,  1.74s/it]"
     ]
    },
    {
     "name": "stdout",
     "output_type": "stream",
     "text": [
      "SMAPE: 3.3389358731016823\n",
      "R2: 0.8707269802560169\n",
      "===== < BUILDING NO.94 > =====\n"
     ]
    },
    {
     "name": "stderr",
     "output_type": "stream",
     "text": [
      "/opt/conda/lib/python3.10/site-packages/xgboost/sklearn.py:835: UserWarning: `early_stopping_rounds` in `fit` method is deprecated for better compatibility with scikit-learn, use `early_stopping_rounds` in constructor or`set_params` instead.\n",
      "  warnings.warn(\n",
      " 94%|█████████▍| 94/100 [02:49<00:10,  1.78s/it]"
     ]
    },
    {
     "name": "stdout",
     "output_type": "stream",
     "text": [
      "SMAPE: 2.9997516435458205\n",
      "R2: 0.9164332268349072\n",
      "===== < BUILDING NO.95 > =====\n"
     ]
    },
    {
     "name": "stderr",
     "output_type": "stream",
     "text": [
      "/opt/conda/lib/python3.10/site-packages/xgboost/sklearn.py:835: UserWarning: `early_stopping_rounds` in `fit` method is deprecated for better compatibility with scikit-learn, use `early_stopping_rounds` in constructor or`set_params` instead.\n",
      "  warnings.warn(\n",
      " 95%|█████████▌| 95/100 [02:50<00:08,  1.61s/it]"
     ]
    },
    {
     "name": "stdout",
     "output_type": "stream",
     "text": [
      "SMAPE: 7.379615894826802\n",
      "R2: 0.62629859743109\n",
      "===== < BUILDING NO.96 > =====\n"
     ]
    },
    {
     "name": "stderr",
     "output_type": "stream",
     "text": [
      "/opt/conda/lib/python3.10/site-packages/xgboost/sklearn.py:835: UserWarning: `early_stopping_rounds` in `fit` method is deprecated for better compatibility with scikit-learn, use `early_stopping_rounds` in constructor or`set_params` instead.\n",
      "  warnings.warn(\n",
      " 96%|█████████▌| 96/100 [02:51<00:06,  1.60s/it]"
     ]
    },
    {
     "name": "stdout",
     "output_type": "stream",
     "text": [
      "SMAPE: 1.4984665415299465\n",
      "R2: 0.9649112666172949\n",
      "===== < BUILDING NO.97 > =====\n"
     ]
    },
    {
     "name": "stderr",
     "output_type": "stream",
     "text": [
      "/opt/conda/lib/python3.10/site-packages/xgboost/sklearn.py:835: UserWarning: `early_stopping_rounds` in `fit` method is deprecated for better compatibility with scikit-learn, use `early_stopping_rounds` in constructor or`set_params` instead.\n",
      "  warnings.warn(\n",
      " 97%|█████████▋| 97/100 [02:54<00:05,  1.84s/it]"
     ]
    },
    {
     "name": "stdout",
     "output_type": "stream",
     "text": [
      "SMAPE: 2.4520487961565443\n",
      "R2: 0.9308615146938714\n",
      "===== < BUILDING NO.98 > =====\n"
     ]
    },
    {
     "name": "stderr",
     "output_type": "stream",
     "text": [
      "/opt/conda/lib/python3.10/site-packages/xgboost/sklearn.py:835: UserWarning: `early_stopping_rounds` in `fit` method is deprecated for better compatibility with scikit-learn, use `early_stopping_rounds` in constructor or`set_params` instead.\n",
      "  warnings.warn(\n",
      " 98%|█████████▊| 98/100 [02:55<00:03,  1.72s/it]"
     ]
    },
    {
     "name": "stdout",
     "output_type": "stream",
     "text": [
      "SMAPE: 6.996710563035973\n",
      "R2: 0.8523448293077341\n",
      "===== < BUILDING NO.99 > =====\n"
     ]
    },
    {
     "name": "stderr",
     "output_type": "stream",
     "text": [
      "/opt/conda/lib/python3.10/site-packages/xgboost/sklearn.py:835: UserWarning: `early_stopping_rounds` in `fit` method is deprecated for better compatibility with scikit-learn, use `early_stopping_rounds` in constructor or`set_params` instead.\n",
      "  warnings.warn(\n",
      " 99%|█████████▉| 99/100 [02:57<00:01,  1.70s/it]"
     ]
    },
    {
     "name": "stdout",
     "output_type": "stream",
     "text": [
      "SMAPE: 1.694317434400067\n",
      "R2: 0.9789202633621266\n",
      "===== < BUILDING NO.100 > =====\n"
     ]
    },
    {
     "name": "stderr",
     "output_type": "stream",
     "text": [
      "/opt/conda/lib/python3.10/site-packages/xgboost/sklearn.py:835: UserWarning: `early_stopping_rounds` in `fit` method is deprecated for better compatibility with scikit-learn, use `early_stopping_rounds` in constructor or`set_params` instead.\n",
      "  warnings.warn(\n",
      "100%|██████████| 100/100 [02:59<00:00,  1.79s/it]"
     ]
    },
    {
     "name": "stdout",
     "output_type": "stream",
     "text": [
      "SMAPE: 2.734539119499041\n",
      "R2: 0.9661826648531509\n"
     ]
    },
    {
     "name": "stderr",
     "output_type": "stream",
     "text": [
      "\n"
     ]
    }
   ],
   "source": [
    "pred_val_ens= []\n",
    "test_ens = []\n",
    "\n",
    "summary_list = []\n",
    "ans_val_list = []\n",
    "pred_val_list = []\n",
    "pred_test_list = []\n",
    "\n",
    "for i in tqdm(range(100)):\n",
    "    print(f\"===== < BUILDING NO.{i+1} > =====\")\n",
    "    summary_dict = {}\n",
    "\n",
    "    smape_val, r2_val, ans_val, pred_val, pred_test = fit_and_pred_XGB_with_weight(train, test, i+1, 100, seed=0)\n",
    "\n",
    "    summary_dict['건물번호'] = i+1\n",
    "    summary_dict['SMAPE'] = smape_val\n",
    "    summary_dict['R2'] = r2_val\n",
    "    summary_list.append(summary_dict)\n",
    "    ans_val_list.append(ans_val)\n",
    "    pred_val_list.append(pred_val)\n",
    "    pred_test_list.append(pred_test)\n",
    "\n",
    "ans_val_whole = np.concatenate(ans_val_list)\n",
    "pred_val_whole = np.concatenate(pred_val_list)\n",
    "pred_test_whole = np.concatenate(pred_test_list)\n",
    "smape_val =SMAPE(ans_val_whole, pred_val_whole)"
   ]
  },
  {
   "cell_type": "code",
   "execution_count": 27,
   "id": "632fcc91-0a4c-4937-aa2d-dbbb00b548bc",
   "metadata": {
    "scrolled": true
   },
   "outputs": [
    {
     "data": {
      "text/plain": [
       "[{'건물번호': 1, 'SMAPE': 3.958089806818016, 'R2': 0.942688600343887},\n",
       " {'건물번호': 2, 'SMAPE': 5.423590043612395, 'R2': 0.8202690087147659},\n",
       " {'건물번호': 3, 'SMAPE': 5.4817390200429115, 'R2': 0.8344428371312368},\n",
       " {'건물번호': 4, 'SMAPE': 2.030205401726124, 'R2': 0.9739141290440244},\n",
       " {'건물번호': 5, 'SMAPE': 2.827683287140875, 'R2': 0.9722565011568478},\n",
       " {'건물번호': 6, 'SMAPE': 1.8545761225980184, 'R2': 0.9814595210574545},\n",
       " {'건물번호': 7, 'SMAPE': 5.067414580170736, 'R2': 0.8952315004993333},\n",
       " {'건물번호': 8, 'SMAPE': 2.5219085058843516, 'R2': 0.7352700104528325},\n",
       " {'건물번호': 9, 'SMAPE': 2.138218998898596, 'R2': 0.9743442644232198},\n",
       " {'건물번호': 10, 'SMAPE': 3.8797821999979956, 'R2': 0.33503565082129705},\n",
       " {'건물번호': 11, 'SMAPE': 1.6987581798917475, 'R2': 0.9046754964654331},\n",
       " {'건물번호': 12, 'SMAPE': 1.9467450064152463, 'R2': 0.8963663764505699},\n",
       " {'건물번호': 13, 'SMAPE': 2.9932188552135015, 'R2': 0.40865056641057806},\n",
       " {'건물번호': 14, 'SMAPE': 8.26659468656458, 'R2': 0.2823081380570013},\n",
       " {'건물번호': 15, 'SMAPE': 1.2563441410179228, 'R2': 0.9361501673771199},\n",
       " {'건물번호': 16, 'SMAPE': 2.2470956034124576, 'R2': 0.984438739447256},\n",
       " {'건물번호': 17, 'SMAPE': 2.938767363334106, 'R2': 0.9472182897600329},\n",
       " {'건물번호': 18, 'SMAPE': 3.340749478564642, 'R2': 0.9344259513596916},\n",
       " {'건물번호': 19, 'SMAPE': 4.259865603359473, 'R2': 0.9377093326699545},\n",
       " {'건물번호': 20, 'SMAPE': 2.3293363509733234, 'R2': 0.9763751637377249},\n",
       " {'건물번호': 21, 'SMAPE': 3.9604546517618617, 'R2': 0.9346681212737444},\n",
       " {'건물번호': 22, 'SMAPE': 1.8407103321087341, 'R2': 0.9416497903244264},\n",
       " {'건물번호': 23, 'SMAPE': 0.9207817579819024, 'R2': 0.9670461512892325},\n",
       " {'건물번호': 24, 'SMAPE': 1.2691524328261534, 'R2': 0.9860559928149585},\n",
       " {'건물번호': 25, 'SMAPE': 1.049760042455599, 'R2': 0.9888383987705014},\n",
       " {'건물번호': 26, 'SMAPE': 0.9773173816754479, 'R2': 0.9862398667859699},\n",
       " {'건물번호': 27, 'SMAPE': 0.867737563148512, 'R2': 0.981536154919862},\n",
       " {'건물번호': 28, 'SMAPE': 2.704559082680852, 'R2': 0.9587023328344311},\n",
       " {'건물번호': 29, 'SMAPE': 1.9643587507454325, 'R2': 0.9533188152654972},\n",
       " {'건물번호': 30, 'SMAPE': 3.5481102890599323, 'R2': 0.88620846508242},\n",
       " {'건물번호': 31, 'SMAPE': 2.567334174154841, 'R2': 0.94394935900536},\n",
       " {'건물번호': 32, 'SMAPE': 0.19720914074014337, 'R2': 0.8552045268656359},\n",
       " {'건물번호': 33, 'SMAPE': 0.22694591032733172, 'R2': 0.68446200136358},\n",
       " {'건물번호': 34, 'SMAPE': 0.3387897476067479, 'R2': 0.871465093870818},\n",
       " {'건물번호': 35, 'SMAPE': 0.16554927907406108, 'R2': 0.930644493744941},\n",
       " {'건물번호': 36, 'SMAPE': 0.324572880762238, 'R2': 0.6041902251379345},\n",
       " {'건물번호': 37, 'SMAPE': 2.1960751465586466, 'R2': 0.9806661021843802},\n",
       " {'건물번호': 38, 'SMAPE': 1.9340681188414415, 'R2': 0.9973945579051627},\n",
       " {'건물번호': 39, 'SMAPE': 2.6959262786661693, 'R2': 0.978623042488991},\n",
       " {'건물번호': 40, 'SMAPE': 4.205767008048054, 'R2': 0.9647470373154696},\n",
       " {'건물번호': 41, 'SMAPE': 2.4855378207707686, 'R2': 0.9900449752317494},\n",
       " {'건물번호': 42, 'SMAPE': 8.886334639541975, 'R2': 0.8211249543964603},\n",
       " {'건물번호': 43, 'SMAPE': 3.142299275684015, 'R2': 0.9935884405681805},\n",
       " {'건물번호': 44, 'SMAPE': 2.017980540625075, 'R2': 0.9963475195671331},\n",
       " {'건물번호': 45, 'SMAPE': 1.2202206810559018, 'R2': 0.9634003864073052},\n",
       " {'건물번호': 46, 'SMAPE': 2.2453486787421926, 'R2': 0.9497410894929194},\n",
       " {'건물번호': 47, 'SMAPE': 2.1547084290582728, 'R2': 0.9376816248035876},\n",
       " {'건물번호': 48, 'SMAPE': 1.012755865008746, 'R2': 0.9866580578024471},\n",
       " {'건물번호': 49, 'SMAPE': 1.261882648770264, 'R2': 0.9506944612100799},\n",
       " {'건물번호': 50, 'SMAPE': 1.1774256184351086, 'R2': 0.9382771255971869},\n",
       " {'건물번호': 51, 'SMAPE': 1.76382256015568, 'R2': 0.9380209906080006},\n",
       " {'건물번호': 52, 'SMAPE': 1.6804617829057673, 'R2': 0.9701209576445452},\n",
       " {'건물번호': 53, 'SMAPE': 5.845478155723059, 'R2': 0.9522922672614174},\n",
       " {'건물번호': 54, 'SMAPE': 10.349529164265277, 'R2': 0.8227356252535516},\n",
       " {'건물번호': 55, 'SMAPE': 0.7954576733665512, 'R2': 0.9207194335232134},\n",
       " {'건물번호': 56, 'SMAPE': 0.36454789539968774, 'R2': 0.956043892706144},\n",
       " {'건물번호': 57, 'SMAPE': 2.602961978510018, 'R2': 0.9852399391579665},\n",
       " {'건물번호': 58, 'SMAPE': 0.2140446799035083, 'R2': 0.9417370926698515},\n",
       " {'건물번호': 59, 'SMAPE': 2.57593600262091, 'R2': 0.9806958621949143},\n",
       " {'건물번호': 60, 'SMAPE': 3.1294851892009734, 'R2': 0.943293418791736},\n",
       " {'건물번호': 61, 'SMAPE': 2.4241400697475286, 'R2': 0.9329405959549734},\n",
       " {'건물번호': 62, 'SMAPE': 2.7296138619808215, 'R2': 0.9264455657548724},\n",
       " {'건물번호': 63, 'SMAPE': 3.137687105059982, 'R2': 0.9153071094077435},\n",
       " {'건물번호': 64, 'SMAPE': 1.9728113827839104, 'R2': 0.9465342574200263},\n",
       " {'건물번호': 65, 'SMAPE': 4.299223299773507, 'R2': 0.8762872841097383},\n",
       " {'건물번호': 66, 'SMAPE': 2.1522566600961635, 'R2': 0.8571766754142797},\n",
       " {'건물번호': 67, 'SMAPE': 2.74384280272047, 'R2': 0.8830061209811291},\n",
       " {'건물번호': 68, 'SMAPE': 2.4851979680719816, 'R2': 0.9311362553108149},\n",
       " {'건물번호': 69, 'SMAPE': 1.1998130765926869, 'R2': 0.977139652494653},\n",
       " {'건물번호': 70, 'SMAPE': 2.5906605631607684, 'R2': 0.9505012664788661},\n",
       " {'건물번호': 71, 'SMAPE': 2.2288104240237754, 'R2': 0.8905960554177875},\n",
       " {'건물번호': 72, 'SMAPE': 2.341936241720028, 'R2': 0.788323527296303},\n",
       " {'건물번호': 73, 'SMAPE': 1.6812495884969443, 'R2': 0.8191011477677099},\n",
       " {'건물번호': 74, 'SMAPE': 3.1590155267692923, 'R2': 0.9215653654800202},\n",
       " {'건물번호': 75, 'SMAPE': 1.7684096629510642, 'R2': 0.939415150609647},\n",
       " {'건물번호': 76, 'SMAPE': 2.4262653195951516, 'R2': 0.7935494272807322},\n",
       " {'건물번호': 77, 'SMAPE': 1.2476837868169748, 'R2': 0.9924322216808157},\n",
       " {'건물번호': 78, 'SMAPE': 1.5595962083409516, 'R2': 0.9933560836140741},\n",
       " {'건물번호': 79, 'SMAPE': 1.0350976727996473, 'R2': 0.9910165228236005},\n",
       " {'건물번호': 80, 'SMAPE': 1.6400788047320642, 'R2': 0.9945570325609523},\n",
       " {'건물번호': 81, 'SMAPE': 1.8059067018017305, 'R2': 0.9914125998742644},\n",
       " {'건물번호': 82, 'SMAPE': 2.100320803873537, 'R2': 0.9917765402321854},\n",
       " {'건물번호': 83, 'SMAPE': 1.4810436987775253, 'R2': 0.9933915973581001},\n",
       " {'건물번호': 84, 'SMAPE': 1.4418869799494027, 'R2': 0.9909055342089284},\n",
       " {'건물번호': 85, 'SMAPE': 1.7826386026152627, 'R2': 0.9535375682337994},\n",
       " {'건물번호': 86, 'SMAPE': 3.742093518187122, 'R2': 0.8742573123270703},\n",
       " {'건물번호': 87, 'SMAPE': 4.890166003373403, 'R2': 0.881452065133602},\n",
       " {'건물번호': 88, 'SMAPE': 2.9714834425101118, 'R2': 0.943396775921006},\n",
       " {'건물번호': 89, 'SMAPE': 2.86748248519345, 'R2': 0.9394340533397157},\n",
       " {'건물번호': 90, 'SMAPE': 3.106183633377735, 'R2': 0.9678364868124525},\n",
       " {'건물번호': 91, 'SMAPE': 6.369985354698693, 'R2': 0.9491040321602547},\n",
       " {'건물번호': 92, 'SMAPE': 2.8757107303313627, 'R2': 0.9392718993007843},\n",
       " {'건물번호': 93, 'SMAPE': 3.3389358731016823, 'R2': 0.8707269802560169},\n",
       " {'건물번호': 94, 'SMAPE': 2.9997516435458205, 'R2': 0.9164332268349072},\n",
       " {'건물번호': 95, 'SMAPE': 7.379615894826802, 'R2': 0.62629859743109},\n",
       " {'건물번호': 96, 'SMAPE': 1.4984665415299465, 'R2': 0.9649112666172949},\n",
       " {'건물번호': 97, 'SMAPE': 2.4520487961565443, 'R2': 0.9308615146938714},\n",
       " {'건물번호': 98, 'SMAPE': 6.996710563035973, 'R2': 0.8523448293077341},\n",
       " {'건물번호': 99, 'SMAPE': 1.694317434400067, 'R2': 0.9789202633621266},\n",
       " {'건물번호': 100, 'SMAPE': 2.734539119499041, 'R2': 0.9661826648531509}]"
      ]
     },
     "execution_count": 27,
     "metadata": {},
     "output_type": "execute_result"
    }
   ],
   "source": [
    "summary_list"
   ]
  },
  {
   "cell_type": "code",
   "execution_count": 28,
   "id": "272ad73a-3338-44ea-b329-c9e357ac58ed",
   "metadata": {},
   "outputs": [
    {
     "data": {
      "text/plain": [
       "2.646947603316238"
      ]
     },
     "execution_count": 28,
     "metadata": {},
     "output_type": "execute_result"
    }
   ],
   "source": [
    "smape_val"
   ]
  },
  {
   "cell_type": "code",
   "execution_count": 29,
   "id": "914acd66-3226-4d88-a34e-e6451210c58e",
   "metadata": {},
   "outputs": [],
   "source": [
    "sub = pd.read_csv('sample_submission.csv')\n",
    "sub['answer'] = pred_test_whole\n",
    "sub.to_csv('xgb_sub_27.csv', index=False)"
   ]
  },
  {
   "cell_type": "markdown",
   "id": "df52f9b6-013e-414f-9cf2-68916ee6a694",
   "metadata": {},
   "source": [
    "### Parameter Tuning - Grid Search CV"
   ]
  },
  {
   "cell_type": "code",
   "execution_count": 48,
   "id": "2d660703-78a6-4f60-b9e2-0665396be485",
   "metadata": {},
   "outputs": [],
   "source": [
    "from sklearn.model_selection import GridSearchCV, PredefinedSplit"
   ]
  },
  {
   "cell_type": "code",
   "execution_count": null,
   "id": "c418f912-7d37-4fdd-a9d7-49ab754c3eeb",
   "metadata": {
    "scrolled": true
   },
   "outputs": [
    {
     "name": "stderr",
     "output_type": "stream",
     "text": [
      "  0%|          | 0/100 [00:00<?, ?it/s]"
     ]
    },
    {
     "name": "stdout",
     "output_type": "stream",
     "text": [
      "===== < BUILDING NO.1 > =====\n",
      "Fitting 5 folds for each of 672 candidates, totalling 3360 fits\n"
     ]
    }
   ],
   "source": [
    "df = pd.DataFrame(columns = ['n_estimators', 'eta', 'min_child_weight', 'max_depth', 'colsample_bytree', 'subsample'])\n",
    "preds = np.array([])\n",
    "grid = {\n",
    "    'n_estimators':     [30, 50, 70, 100],\n",
    "    'eta':              [0.01],\n",
    "    'min_child_weight': np.arange(1, 8, 1),\n",
    "    'max_depth':        np.arange(3, 9, 1),\n",
    "    'colsample_bytree': np.arange(0.8, 1.0, 0.1),\n",
    "    'subsample':        np.arange(0.8, 1.0, 0.1)\n",
    "}\n",
    "\n",
    "for i in tqdm(range(100)):\n",
    "    print(f\"===== < BUILDING NO.{i+1} > =====\")\n",
    "    x_train, x_valid, y_train, y_valid = tr_ts_split(train, test, i+1, 7*24)\n",
    "    gcv = GridSearchCV(estimator=XGBRegressor(seed=0, gpu_id=0,\n",
    "                                              tree_method='gpu_hist', predictor='gpu_predictor'),\n",
    "                       param_grid=grid,\n",
    "                       scoring=make_scorer(SMAPE, greater_is_better=False),\n",
    "                       cv=5,\n",
    "                       refit=True,\n",
    "                       verbose=True)\n",
    "    gcv.fit(x_train, y_train)\n",
    "    best = gcv.best_estimator_\n",
    "    params = gcv.best_params_\n",
    "    print(params)\n",
    "    pred = best.predict(x_valid)\n",
    "    print(f'SMAPE: {SMAPE(y_valid, pred)}')\n",
    "    preds = np.append(preds, pred)\n",
    "    df = pd.concat([df, pd.DataFrame(params, index=[0])], axis=0)"
   ]
  },
  {
   "cell_type": "code",
   "execution_count": 133,
   "id": "67198aea-4e7f-4e7a-8686-33f0b0723132",
   "metadata": {},
   "outputs": [],
   "source": [
    "df.to_csv('hyperparameter_xgb.csv', index=False)"
   ]
  },
  {
   "cell_type": "code",
   "execution_count": null,
   "id": "e42b8fd9-72c4-4c3b-9982-d6ce8995e37c",
   "metadata": {},
   "outputs": [],
   "source": [
    "xgb_params = df"
   ]
  },
  {
   "cell_type": "code",
   "execution_count": null,
   "id": "232d9bfe-b8f4-42d7-8d2d-506c5eb1eb7c",
   "metadata": {
    "scrolled": true
   },
   "outputs": [],
   "source": [
    "scores = []\n",
    "best_iter = []\n",
    "\n",
    "for i in tqdm(range(100)):\n",
    "    x_train, x_valid, y_train, y_valid = tr_ts_split(train, test, i+1, 7*24)\n",
    "    xgb_reg = XGBRegressor(n_estimators=10000, eta=0.01, min_child_weight=xgb_params.iloc[i, 2],\n",
    "                            max_depth=xgb_params.iloc[i, 3], colsample_bytree=xgb_params.iloc[i, 4],\n",
    "                            subsample=xgb_params.iloc[i, 5], seed=0)\n",
    "    xgb_reg.set_params(**{'objective':weighted_mse(100)})\n",
    "    xgb_reg.set_params(early_stopping_rounds=300)\n",
    "    xgb_reg.fit(x_train, y_train, eval_set=[(x_train, y_train), (x_valid, y_valid)], verbose=False)\n",
    "    y_pred = xgb_reg.predict(x_valid)\n",
    "    pred = pd.Series(y_pred)\n",
    "    sm = SMAPE(y_valid, y_pred)\n",
    "    scores.append(sm)\n",
    "    best_iter.append(xgb_reg.best_iteration) # 실제 best iteration은 이 값에 +1"
   ]
  },
  {
   "cell_type": "code",
   "execution_count": null,
   "id": "d7e3b993-ff02-42e6-8fec-e4ffbc9ce766",
   "metadata": {
    "scrolled": true
   },
   "outputs": [],
   "source": [
    "alpha_list = []\n",
    "smape_list = []\n",
    "\n",
    "for i in tqdm(range(100)):\n",
    "    x_train, x_valid, y_train, y_valid = tr_ts_split(train, test, i+1, 7*24)\n",
    "    xgb = XGBRegressor(seed=0,\n",
    "                        n_estimators=best_iter[i], eta=0.01, min_child_weight=xgb_params.iloc[i, 2],\n",
    "                        max_depth=xgb_params.iloc[i, 3], colsample_bytree=xgb_params.iloc[i, 4], subsample=xgb_params.iloc[i, 5])\n",
    "    xgb.fit(x_train, y_train)\n",
    "    pred0 = xgb.predict(x_valid)\n",
    "    best_alpha = 0\n",
    "    score0 = SMAPE(y_valid, pred0)\n",
    "\n",
    "    for j in [1, 2, 5, 7, 10, 25, 50, 75, 100]:\n",
    "        xgb = XGBRegressor(seed=0,\n",
    "                        n_estimators=best_iter[i], eta=0.01, min_child_weight=xgb_params.iloc[i, 2],\n",
    "                        max_depth=xgb_params.iloc[i, 3], colsample_bytree=xgb_params.iloc[i, 4], subsample=xgb_params.iloc[i, 5])\n",
    "        xgb.set_params(**{'objective': weighted_mse(j)})\n",
    "        xgb.fit(x_train, y_train)\n",
    "        pred1 = xgb.predict(x_valid)\n",
    "        score1 = SMAPE(y_valid, pred1)\n",
    "        if score1 < score0:\n",
    "            best_alpha = j\n",
    "            score0 = score1\n",
    "\n",
    "    alpha_list.append(best_alpha)\n",
    "    smape_list.append(score0)\n",
    "    print(f\"building {i+1} || best score: {score0} || alpha: {best_alpha}\")"
   ]
  },
  {
   "cell_type": "code",
   "execution_count": null,
   "id": "d429c5a0-5a53-44fd-8b47-af7fc4b9c58c",
   "metadata": {},
   "outputs": [],
   "source": [
    "xgb_params['alpha'] = alpha_list\n",
    "xgb_params['best_iter'] = best_iter\n",
    "xgb_params.head()"
   ]
  },
  {
   "cell_type": "code",
   "execution_count": null,
   "id": "273b3ba9-026e-4bbd-968f-2e961811de78",
   "metadata": {},
   "outputs": [],
   "source": [
    "xgb_params.to_csv('hyperparameter_xgb_real_last_testing.csv', index=False)"
   ]
  },
  {
   "cell_type": "code",
   "execution_count": null,
   "id": "93643492-df91-45a7-bc42-9ca7ab819f4f",
   "metadata": {},
   "outputs": [],
   "source": [
    "best_iter = xgb_params['best_iter'].to_list()\n",
    "best_iter[0]"
   ]
  },
  {
   "cell_type": "code",
   "execution_count": 212,
   "id": "44acfc0c-f774-4859-9448-71f034d355a3",
   "metadata": {},
   "outputs": [
    {
     "data": {
      "text/html": [
       "<div>\n",
       "<style scoped>\n",
       "    .dataframe tbody tr th:only-of-type {\n",
       "        vertical-align: middle;\n",
       "    }\n",
       "\n",
       "    .dataframe tbody tr th {\n",
       "        vertical-align: top;\n",
       "    }\n",
       "\n",
       "    .dataframe thead th {\n",
       "        text-align: right;\n",
       "    }\n",
       "</style>\n",
       "<table border=\"1\" class=\"dataframe\">\n",
       "  <thead>\n",
       "    <tr style=\"text-align: right;\">\n",
       "      <th></th>\n",
       "      <th>건물번호</th>\n",
       "      <th>기온(C)</th>\n",
       "      <th>강수량(mm)</th>\n",
       "      <th>풍속(m/s)</th>\n",
       "      <th>습도(%)</th>\n",
       "      <th>month</th>\n",
       "      <th>day</th>\n",
       "      <th>week</th>\n",
       "      <th>holiday</th>\n",
       "      <th>sin_time</th>\n",
       "      <th>cos_time</th>\n",
       "      <th>DI</th>\n",
       "      <th>power</th>\n",
       "      <th>연면적(m2)</th>\n",
       "      <th>냉방면적(m2)</th>\n",
       "      <th>태양광용량(kW)</th>\n",
       "      <th>ESS저장용량(kWh)</th>\n",
       "      <th>PCS용량(kW)</th>\n",
       "      <th>건물유형_건물기타</th>\n",
       "      <th>건물유형_공공</th>\n",
       "      <th>건물유형_대학교</th>\n",
       "      <th>건물유형_데이터센터</th>\n",
       "      <th>건물유형_백화점및아울렛</th>\n",
       "      <th>건물유형_병원</th>\n",
       "      <th>건물유형_상용</th>\n",
       "      <th>건물유형_아파트</th>\n",
       "      <th>건물유형_연구소</th>\n",
       "      <th>건물유형_지식산업센터</th>\n",
       "      <th>건물유형_할인마트</th>\n",
       "      <th>건물유형_호텔및리조트</th>\n",
       "      <th>CDH</th>\n",
       "    </tr>\n",
       "  </thead>\n",
       "  <tbody>\n",
       "    <tr>\n",
       "      <th>0</th>\n",
       "      <td>1</td>\n",
       "      <td>18.6</td>\n",
       "      <td>0.0</td>\n",
       "      <td>0.9</td>\n",
       "      <td>42.0</td>\n",
       "      <td>6</td>\n",
       "      <td>2</td>\n",
       "      <td>22</td>\n",
       "      <td>0</td>\n",
       "      <td>0.000000</td>\n",
       "      <td>1.000000</td>\n",
       "      <td>234.154</td>\n",
       "      <td>1085.28</td>\n",
       "      <td>110634.0</td>\n",
       "      <td>39570.0</td>\n",
       "      <td>0.0</td>\n",
       "      <td>0.0</td>\n",
       "      <td>0.0</td>\n",
       "      <td>1</td>\n",
       "      <td>0</td>\n",
       "      <td>0</td>\n",
       "      <td>0</td>\n",
       "      <td>0</td>\n",
       "      <td>0</td>\n",
       "      <td>0</td>\n",
       "      <td>0</td>\n",
       "      <td>0</td>\n",
       "      <td>0</td>\n",
       "      <td>0</td>\n",
       "      <td>0</td>\n",
       "      <td>-7.4</td>\n",
       "    </tr>\n",
       "    <tr>\n",
       "      <th>1</th>\n",
       "      <td>1</td>\n",
       "      <td>18.0</td>\n",
       "      <td>0.0</td>\n",
       "      <td>1.1</td>\n",
       "      <td>45.0</td>\n",
       "      <td>6</td>\n",
       "      <td>2</td>\n",
       "      <td>22</td>\n",
       "      <td>0</td>\n",
       "      <td>0.258819</td>\n",
       "      <td>0.965926</td>\n",
       "      <td>219.280</td>\n",
       "      <td>1047.36</td>\n",
       "      <td>110634.0</td>\n",
       "      <td>39570.0</td>\n",
       "      <td>0.0</td>\n",
       "      <td>0.0</td>\n",
       "      <td>0.0</td>\n",
       "      <td>1</td>\n",
       "      <td>0</td>\n",
       "      <td>0</td>\n",
       "      <td>0</td>\n",
       "      <td>0</td>\n",
       "      <td>0</td>\n",
       "      <td>0</td>\n",
       "      <td>0</td>\n",
       "      <td>0</td>\n",
       "      <td>0</td>\n",
       "      <td>0</td>\n",
       "      <td>0</td>\n",
       "      <td>-15.4</td>\n",
       "    </tr>\n",
       "    <tr>\n",
       "      <th>2</th>\n",
       "      <td>1</td>\n",
       "      <td>17.7</td>\n",
       "      <td>0.0</td>\n",
       "      <td>1.5</td>\n",
       "      <td>45.0</td>\n",
       "      <td>6</td>\n",
       "      <td>2</td>\n",
       "      <td>22</td>\n",
       "      <td>0</td>\n",
       "      <td>0.500000</td>\n",
       "      <td>0.866025</td>\n",
       "      <td>205.672</td>\n",
       "      <td>974.88</td>\n",
       "      <td>110634.0</td>\n",
       "      <td>39570.0</td>\n",
       "      <td>0.0</td>\n",
       "      <td>0.0</td>\n",
       "      <td>0.0</td>\n",
       "      <td>1</td>\n",
       "      <td>0</td>\n",
       "      <td>0</td>\n",
       "      <td>0</td>\n",
       "      <td>0</td>\n",
       "      <td>0</td>\n",
       "      <td>0</td>\n",
       "      <td>0</td>\n",
       "      <td>0</td>\n",
       "      <td>0</td>\n",
       "      <td>0</td>\n",
       "      <td>0</td>\n",
       "      <td>-23.7</td>\n",
       "    </tr>\n",
       "    <tr>\n",
       "      <th>3</th>\n",
       "      <td>1</td>\n",
       "      <td>16.7</td>\n",
       "      <td>0.0</td>\n",
       "      <td>1.4</td>\n",
       "      <td>48.0</td>\n",
       "      <td>6</td>\n",
       "      <td>2</td>\n",
       "      <td>22</td>\n",
       "      <td>0</td>\n",
       "      <td>0.707107</td>\n",
       "      <td>0.707107</td>\n",
       "      <td>167.011</td>\n",
       "      <td>953.76</td>\n",
       "      <td>110634.0</td>\n",
       "      <td>39570.0</td>\n",
       "      <td>0.0</td>\n",
       "      <td>0.0</td>\n",
       "      <td>0.0</td>\n",
       "      <td>1</td>\n",
       "      <td>0</td>\n",
       "      <td>0</td>\n",
       "      <td>0</td>\n",
       "      <td>0</td>\n",
       "      <td>0</td>\n",
       "      <td>0</td>\n",
       "      <td>0</td>\n",
       "      <td>0</td>\n",
       "      <td>0</td>\n",
       "      <td>0</td>\n",
       "      <td>0</td>\n",
       "      <td>-33.0</td>\n",
       "    </tr>\n",
       "    <tr>\n",
       "      <th>4</th>\n",
       "      <td>1</td>\n",
       "      <td>18.4</td>\n",
       "      <td>0.0</td>\n",
       "      <td>2.8</td>\n",
       "      <td>43.0</td>\n",
       "      <td>6</td>\n",
       "      <td>2</td>\n",
       "      <td>22</td>\n",
       "      <td>0</td>\n",
       "      <td>0.866025</td>\n",
       "      <td>0.500000</td>\n",
       "      <td>229.592</td>\n",
       "      <td>986.40</td>\n",
       "      <td>110634.0</td>\n",
       "      <td>39570.0</td>\n",
       "      <td>0.0</td>\n",
       "      <td>0.0</td>\n",
       "      <td>0.0</td>\n",
       "      <td>1</td>\n",
       "      <td>0</td>\n",
       "      <td>0</td>\n",
       "      <td>0</td>\n",
       "      <td>0</td>\n",
       "      <td>0</td>\n",
       "      <td>0</td>\n",
       "      <td>0</td>\n",
       "      <td>0</td>\n",
       "      <td>0</td>\n",
       "      <td>0</td>\n",
       "      <td>0</td>\n",
       "      <td>-40.6</td>\n",
       "    </tr>\n",
       "  </tbody>\n",
       "</table>\n",
       "</div>"
      ],
      "text/plain": [
       "   건물번호  기온(C)  강수량(mm)  풍속(m/s)  ...  건물유형_지식산업센터  건물유형_할인마트  건물유형_호텔및리조트   CDH\n",
       "0     1   18.6      0.0      0.9  ...            0          0            0  -7.4\n",
       "1     1   18.0      0.0      1.1  ...            0          0            0 -15.4\n",
       "2     1   17.7      0.0      1.5  ...            0          0            0 -23.7\n",
       "3     1   16.7      0.0      1.4  ...            0          0            0 -33.0\n",
       "4     1   18.4      0.0      2.8  ...            0          0            0 -40.6\n",
       "\n",
       "[5 rows x 31 columns]"
      ]
     },
     "execution_count": 212,
     "metadata": {},
     "output_type": "execute_result"
    }
   ],
   "source": [
    "train.head()"
   ]
  },
  {
   "cell_type": "code",
   "execution_count": null,
   "id": "999ed75d-ae3d-4bbe-9089-35b9c140905c",
   "metadata": {},
   "outputs": [],
   "source": [
    "preds = np.array([])\n",
    "for i in tqdm(range(100)):\n",
    "    pred_df = pd.DataFrame()\n",
    "    for seed in range(0, 6):\n",
    "        x_train = train.loc[train['건물번호']==i+1,].drop(['건물번호', 'power'], axis=1)\n",
    "        y_train = train.loc[train['건물번호']==i+1, 'power']\n",
    "        x_test = test.loc[test['건물번호']==i+1,].drop('건물번호', axis=1)\n",
    "\n",
    "        xgb = XGBRegressor(seed=seed, n_estimators=best_iter[i], eta=0.01,\n",
    "                            min_child_weight=xgb_params.iloc[i, 2], max_depth=xgb_params.iloc[i, 3],\n",
    "                            colsample_bytree=xgb_params.iloc[i, 4], subsample=xgb_params.iloc[i, 5])\n",
    "        if xgb_params.iloc[i, 6] != 0:\n",
    "            xgb.set_params(**{'objective':weighted_mse(xgb_params.iloc[i, 6])})\n",
    "\n",
    "        xgb.fit(x_train, y_train)\n",
    "        y_pred = xgb.predict(x_test)\n",
    "        pred_df.loc[:, seed] = y_pred\n",
    "\n",
    "    pred = pred_df.mean(axis=1)\n",
    "    preds = np.append(preds, pred)"
   ]
  },
  {
   "cell_type": "code",
   "execution_count": null,
   "id": "8a94279f-8196-42ef-b232-04b14d3f9418",
   "metadata": {},
   "outputs": [],
   "source": [
    "sub = pd.read_csv('sample_submission.csv')\n",
    "sub['answer'] = preds\n",
    "sub.to_csv('xgb_sub_22.csv', index=False)"
   ]
  },
  {
   "cell_type": "code",
   "execution_count": 215,
   "id": "350267e0-c3b5-4d66-93c5-e785f8e25f4c",
   "metadata": {
    "scrolled": true
   },
   "outputs": [
    {
     "data": {
      "text/plain": [
       "[{'건물번호': 1, 'SMAPE': 3.5419388838477404, 'R2': 0.9563832166343148},\n",
       " {'건물번호': 2, 'SMAPE': 4.295780152455329, 'R2': 0.8651174662607124},\n",
       " {'건물번호': 3, 'SMAPE': 4.976127431146375, 'R2': 0.8282886548210623},\n",
       " {'건물번호': 4, 'SMAPE': 1.916974758959043, 'R2': 0.9749491993399805},\n",
       " {'건물번호': 5, 'SMAPE': 2.8188883844313564, 'R2': 0.972446435735248},\n",
       " {'건물번호': 6, 'SMAPE': 1.8247299710309055, 'R2': 0.9802984729616211},\n",
       " {'건물번호': 7, 'SMAPE': 4.181533402777831, 'R2': 0.906970899840581},\n",
       " {'건물번호': 8, 'SMAPE': 2.8739138223687473, 'R2': 0.6702282399188223},\n",
       " {'건물번호': 9, 'SMAPE': 1.8549493161639723, 'R2': 0.984736771457575},\n",
       " {'건물번호': 10, 'SMAPE': 3.5416225095446876, 'R2': 0.4322418016566194},\n",
       " {'건물번호': 11, 'SMAPE': 1.686647477272509, 'R2': 0.8955227858960689},\n",
       " {'건물번호': 12, 'SMAPE': 1.9311341180054387, 'R2': 0.8995117473179703},\n",
       " {'건물번호': 13, 'SMAPE': 3.004711373509035, 'R2': 0.3961679661426334},\n",
       " {'건물번호': 14, 'SMAPE': 7.909728524427743, 'R2': 0.34326299780211256},\n",
       " {'건물번호': 15, 'SMAPE': 1.8971932943063454, 'R2': 0.8458132584564995},\n",
       " {'건물번호': 16, 'SMAPE': 2.020895267248837, 'R2': 0.9855279166437871},\n",
       " {'건물번호': 17, 'SMAPE': 3.0345161593836227, 'R2': 0.9455755730715113},\n",
       " {'건물번호': 18, 'SMAPE': 3.5805708796288402, 'R2': 0.9046722159410551},\n",
       " {'건물번호': 19, 'SMAPE': 3.926657594482213, 'R2': 0.939612714103329},\n",
       " {'건물번호': 20, 'SMAPE': 4.505567909655219, 'R2': 0.7790902289158669},\n",
       " {'건물번호': 21, 'SMAPE': 4.278992383451455, 'R2': 0.9122880595171534},\n",
       " {'건물번호': 22, 'SMAPE': 1.714605236128287, 'R2': 0.9462697614433282},\n",
       " {'건물번호': 23, 'SMAPE': 1.9977630506533826, 'R2': 0.7118909379916054},\n",
       " {'건물번호': 24, 'SMAPE': 1.2147046751398998, 'R2': 0.9876692285042109},\n",
       " {'건물번호': 25, 'SMAPE': 1.071914519547852, 'R2': 0.9838502476852887},\n",
       " {'건물번호': 26, 'SMAPE': 1.2754434182491863, 'R2': 0.9526249517572365},\n",
       " {'건물번호': 27, 'SMAPE': 1.2089446938323858, 'R2': 0.9196695823152246},\n",
       " {'건물번호': 28, 'SMAPE': 2.3315863766342164, 'R2': 0.9464801178483762},\n",
       " {'건물번호': 29, 'SMAPE': 2.6397465527714137, 'R2': 0.893935316935024},\n",
       " {'건물번호': 30, 'SMAPE': 3.9998166322091757, 'R2': 0.8506247677458555},\n",
       " {'건물번호': 31, 'SMAPE': 2.404524493769024, 'R2': 0.9470255358159374},\n",
       " {'건물번호': 32, 'SMAPE': 0.20167359555235026, 'R2': 0.8627698561039703},\n",
       " {'건물번호': 33, 'SMAPE': 0.17276764974408107, 'R2': 0.8229450580971566},\n",
       " {'건물번호': 34, 'SMAPE': 0.29083416300093756, 'R2': 0.8981595130056876},\n",
       " {'건물번호': 35, 'SMAPE': 0.20213486317948995, 'R2': 0.9010597272573889},\n",
       " {'건물번호': 36, 'SMAPE': 0.22888851855130976, 'R2': 0.8347444701991675},\n",
       " {'건물번호': 37, 'SMAPE': 1.9402276172887187, 'R2': 0.9851492380233352},\n",
       " {'건물번호': 38, 'SMAPE': 1.9617611605591168, 'R2': 0.9943749284020462},\n",
       " {'건물번호': 39, 'SMAPE': 2.728407977794472, 'R2': 0.9885208059263002},\n",
       " {'건물번호': 40, 'SMAPE': 4.546766536131502, 'R2': 0.9656154457447984},\n",
       " {'건물번호': 41, 'SMAPE': 2.6815394639501484, 'R2': 0.9838264802312887},\n",
       " {'건물번호': 42, 'SMAPE': 8.269081357655107, 'R2': 0.8281778457904116},\n",
       " {'건물번호': 43, 'SMAPE': 2.755572977719789, 'R2': 0.994723176597687},\n",
       " {'건물번호': 44, 'SMAPE': 1.8201344384866398, 'R2': 0.9967343309116449},\n",
       " {'건물번호': 45, 'SMAPE': 1.031363070076244, 'R2': 0.9737000429866236},\n",
       " {'건물번호': 46, 'SMAPE': 2.6331329043994436, 'R2': 0.92278881387551},\n",
       " {'건물번호': 47, 'SMAPE': 2.2539981932224626, 'R2': 0.9370271337273428},\n",
       " {'건물번호': 48, 'SMAPE': 1.1154793572288213, 'R2': 0.9814344911305359},\n",
       " {'건물번호': 49, 'SMAPE': 1.2120048314692171, 'R2': 0.9532919655392368},\n",
       " {'건물번호': 50, 'SMAPE': 1.0199365813115648, 'R2': 0.9601624825442548},\n",
       " {'건물번호': 51, 'SMAPE': 2.0669342021532136, 'R2': 0.8991889464170111},\n",
       " {'건물번호': 52, 'SMAPE': 2.6000342771919813, 'R2': 0.9036673759514853},\n",
       " {'건물번호': 53, 'SMAPE': 6.854501133324095, 'R2': 0.9364671663465698},\n",
       " {'건물번호': 54, 'SMAPE': 15.395086816186549, 'R2': 0.49099037535994716},\n",
       " {'건물번호': 55, 'SMAPE': 0.9133351004211036, 'R2': 0.8675089182357368},\n",
       " {'건물번호': 56, 'SMAPE': 0.5136544276081201, 'R2': 0.9081687822234766},\n",
       " {'건물번호': 57, 'SMAPE': 2.5555318460320944, 'R2': 0.9844644443151935},\n",
       " {'건물번호': 58, 'SMAPE': 0.25820350743212367, 'R2': 0.8921785168651243},\n",
       " {'건물번호': 59, 'SMAPE': 2.6890831895609573, 'R2': 0.9830364479014171},\n",
       " {'건물번호': 60, 'SMAPE': 3.108999755320832, 'R2': 0.9513218358851899},\n",
       " {'건물번호': 61, 'SMAPE': 2.098628213842975, 'R2': 0.9361982912678116},\n",
       " {'건물번호': 62, 'SMAPE': 2.578592625332191, 'R2': 0.9294393834986527},\n",
       " {'건물번호': 63, 'SMAPE': 2.971701521957132, 'R2': 0.9287959839133162},\n",
       " {'건물번호': 64, 'SMAPE': 1.985596970855797, 'R2': 0.9568742246611621},\n",
       " {'건물번호': 65, 'SMAPE': 4.477452022680745, 'R2': 0.8716774757272846},\n",
       " {'건물번호': 66, 'SMAPE': 1.8075105650528174, 'R2': 0.8956864249497588},\n",
       " {'건물번호': 67, 'SMAPE': 2.4244448231708127, 'R2': 0.9204433840320086},\n",
       " {'건물번호': 68, 'SMAPE': 2.0780954476198916, 'R2': 0.9457956065829916},\n",
       " {'건물번호': 69, 'SMAPE': 1.3608021628841247, 'R2': 0.9763652402810177},\n",
       " {'건물번호': 70, 'SMAPE': 2.1535704873595076, 'R2': 0.9490361026829824},\n",
       " {'건물번호': 71, 'SMAPE': 1.9380533494838634, 'R2': 0.8843182552902552},\n",
       " {'건물번호': 72, 'SMAPE': 3.11790978159792, 'R2': 0.6752659005529251},\n",
       " {'건물번호': 73, 'SMAPE': 1.894932481017263, 'R2': 0.7765012765933019},\n",
       " {'건물번호': 74, 'SMAPE': 2.9064913642972994, 'R2': 0.9340450887680255},\n",
       " {'건물번호': 75, 'SMAPE': 1.8454658791086458, 'R2': 0.9271562141468898},\n",
       " {'건물번호': 76, 'SMAPE': 2.6014692289978596, 'R2': 0.7430607283602755},\n",
       " {'건물번호': 77, 'SMAPE': 2.01922110911595, 'R2': 0.9243078132874606},\n",
       " {'건물번호': 78, 'SMAPE': 1.973855662055632, 'R2': 0.9842392917365872},\n",
       " {'건물번호': 79, 'SMAPE': 1.701066369657164, 'R2': 0.9559524985782594},\n",
       " {'건물번호': 80, 'SMAPE': 2.124459802533189, 'R2': 0.9855431738335988},\n",
       " {'건물번호': 81, 'SMAPE': 1.791810368984323, 'R2': 0.9921057077506286},\n",
       " {'건물번호': 82, 'SMAPE': 2.2331208822734103, 'R2': 0.9791614753485487},\n",
       " {'건물번호': 83, 'SMAPE': 2.0530122898435006, 'R2': 0.9689341497362238},\n",
       " {'건물번호': 84, 'SMAPE': 1.5542968158928958, 'R2': 0.9811956709238533},\n",
       " {'건물번호': 85, 'SMAPE': 1.8305992084508518, 'R2': 0.9525778546733997},\n",
       " {'건물번호': 86, 'SMAPE': 3.2313918652357763, 'R2': 0.9409824975851684},\n",
       " {'건물번호': 87, 'SMAPE': 5.291645176902233, 'R2': 0.8432895618265352},\n",
       " {'건물번호': 88, 'SMAPE': 3.7365340906742253, 'R2': 0.8688590929058374},\n",
       " {'건물번호': 89, 'SMAPE': 3.7449668254633037, 'R2': 0.8604168252423186},\n",
       " {'건물번호': 90, 'SMAPE': 4.34946441335132, 'R2': 0.945437045071281},\n",
       " {'건물번호': 91, 'SMAPE': 6.43265018021721, 'R2': 0.9286566290153027},\n",
       " {'건물번호': 92, 'SMAPE': 3.913048284116499, 'R2': 0.8626063819152766},\n",
       " {'건물번호': 93, 'SMAPE': 3.2880901234526063, 'R2': 0.8776833565580425},\n",
       " {'건물번호': 94, 'SMAPE': 2.938023570863095, 'R2': 0.9149138873111788},\n",
       " {'건물번호': 95, 'SMAPE': 7.873954719913101, 'R2': 0.5904394760729672},\n",
       " {'건물번호': 96, 'SMAPE': 1.4553180409335444, 'R2': 0.9685772721403265},\n",
       " {'건물번호': 97, 'SMAPE': 2.4088445027411467, 'R2': 0.9322687034662536},\n",
       " {'건물번호': 98, 'SMAPE': 7.2588277284224985, 'R2': 0.8560677105509416},\n",
       " {'건물번호': 99, 'SMAPE': 1.5314447971624443, 'R2': 0.9820596675396264},\n",
       " {'건물번호': 100, 'SMAPE': 2.597097674198934, 'R2': 0.967838655132623}]"
      ]
     },
     "execution_count": 215,
     "metadata": {},
     "output_type": "execute_result"
    }
   ],
   "source": [
    "summary_list"
   ]
  },
  {
   "cell_type": "code",
   "execution_count": 57,
   "id": "be23ef2c-f938-4ae5-9a1e-c0810792d77b",
   "metadata": {},
   "outputs": [
    {
     "data": {
      "text/html": [
       "<div>\n",
       "<style scoped>\n",
       "    .dataframe tbody tr th:only-of-type {\n",
       "        vertical-align: middle;\n",
       "    }\n",
       "\n",
       "    .dataframe tbody tr th {\n",
       "        vertical-align: top;\n",
       "    }\n",
       "\n",
       "    .dataframe thead th {\n",
       "        text-align: right;\n",
       "    }\n",
       "</style>\n",
       "<table border=\"1\" class=\"dataframe\">\n",
       "  <thead>\n",
       "    <tr style=\"text-align: right;\">\n",
       "      <th></th>\n",
       "      <th>num_date_time</th>\n",
       "      <th>건물번호</th>\n",
       "      <th>일시</th>\n",
       "      <th>기온(C)</th>\n",
       "      <th>강수량(mm)</th>\n",
       "      <th>풍속(m/s)</th>\n",
       "      <th>습도(%)</th>\n",
       "      <th>일조(hr)</th>\n",
       "      <th>일사(MJ/m2)</th>\n",
       "      <th>전력소비량(kWh)</th>\n",
       "    </tr>\n",
       "  </thead>\n",
       "  <tbody>\n",
       "    <tr>\n",
       "      <th>108120</th>\n",
       "      <td>54_20220601 00</td>\n",
       "      <td>54</td>\n",
       "      <td>20220601 00</td>\n",
       "      <td>18.6</td>\n",
       "      <td>NaN</td>\n",
       "      <td>2.6</td>\n",
       "      <td>62.0</td>\n",
       "      <td>NaN</td>\n",
       "      <td>NaN</td>\n",
       "      <td>578.16</td>\n",
       "    </tr>\n",
       "    <tr>\n",
       "      <th>108121</th>\n",
       "      <td>54_20220601 01</td>\n",
       "      <td>54</td>\n",
       "      <td>20220601 01</td>\n",
       "      <td>18.8</td>\n",
       "      <td>NaN</td>\n",
       "      <td>0.4</td>\n",
       "      <td>62.0</td>\n",
       "      <td>NaN</td>\n",
       "      <td>NaN</td>\n",
       "      <td>408.24</td>\n",
       "    </tr>\n",
       "    <tr>\n",
       "      <th>108122</th>\n",
       "      <td>54_20220601 02</td>\n",
       "      <td>54</td>\n",
       "      <td>20220601 02</td>\n",
       "      <td>18.9</td>\n",
       "      <td>NaN</td>\n",
       "      <td>0.0</td>\n",
       "      <td>52.0</td>\n",
       "      <td>NaN</td>\n",
       "      <td>NaN</td>\n",
       "      <td>398.16</td>\n",
       "    </tr>\n",
       "    <tr>\n",
       "      <th>108123</th>\n",
       "      <td>54_20220601 03</td>\n",
       "      <td>54</td>\n",
       "      <td>20220601 03</td>\n",
       "      <td>20.2</td>\n",
       "      <td>NaN</td>\n",
       "      <td>2.4</td>\n",
       "      <td>38.0</td>\n",
       "      <td>NaN</td>\n",
       "      <td>NaN</td>\n",
       "      <td>387.36</td>\n",
       "    </tr>\n",
       "    <tr>\n",
       "      <th>108124</th>\n",
       "      <td>54_20220601 04</td>\n",
       "      <td>54</td>\n",
       "      <td>20220601 04</td>\n",
       "      <td>20.4</td>\n",
       "      <td>NaN</td>\n",
       "      <td>2.8</td>\n",
       "      <td>40.0</td>\n",
       "      <td>NaN</td>\n",
       "      <td>NaN</td>\n",
       "      <td>387.36</td>\n",
       "    </tr>\n",
       "    <tr>\n",
       "      <th>108125</th>\n",
       "      <td>54_20220601 05</td>\n",
       "      <td>54</td>\n",
       "      <td>20220601 05</td>\n",
       "      <td>20.0</td>\n",
       "      <td>NaN</td>\n",
       "      <td>1.7</td>\n",
       "      <td>41.0</td>\n",
       "      <td>NaN</td>\n",
       "      <td>NaN</td>\n",
       "      <td>419.76</td>\n",
       "    </tr>\n",
       "    <tr>\n",
       "      <th>108126</th>\n",
       "      <td>54_20220601 06</td>\n",
       "      <td>54</td>\n",
       "      <td>20220601 06</td>\n",
       "      <td>19.6</td>\n",
       "      <td>NaN</td>\n",
       "      <td>0.0</td>\n",
       "      <td>47.0</td>\n",
       "      <td>0.0</td>\n",
       "      <td>0.04</td>\n",
       "      <td>612.72</td>\n",
       "    </tr>\n",
       "    <tr>\n",
       "      <th>108127</th>\n",
       "      <td>54_20220601 07</td>\n",
       "      <td>54</td>\n",
       "      <td>20220601 07</td>\n",
       "      <td>21.2</td>\n",
       "      <td>NaN</td>\n",
       "      <td>2.0</td>\n",
       "      <td>38.0</td>\n",
       "      <td>0.0</td>\n",
       "      <td>0.29</td>\n",
       "      <td>661.68</td>\n",
       "    </tr>\n",
       "    <tr>\n",
       "      <th>108128</th>\n",
       "      <td>54_20220601 08</td>\n",
       "      <td>54</td>\n",
       "      <td>20220601 08</td>\n",
       "      <td>22.9</td>\n",
       "      <td>NaN</td>\n",
       "      <td>1.3</td>\n",
       "      <td>36.0</td>\n",
       "      <td>0.0</td>\n",
       "      <td>0.69</td>\n",
       "      <td>1210.32</td>\n",
       "    </tr>\n",
       "    <tr>\n",
       "      <th>108129</th>\n",
       "      <td>54_20220601 09</td>\n",
       "      <td>54</td>\n",
       "      <td>20220601 09</td>\n",
       "      <td>25.6</td>\n",
       "      <td>NaN</td>\n",
       "      <td>0.3</td>\n",
       "      <td>32.0</td>\n",
       "      <td>0.8</td>\n",
       "      <td>1.43</td>\n",
       "      <td>1901.16</td>\n",
       "    </tr>\n",
       "    <tr>\n",
       "      <th>108130</th>\n",
       "      <td>54_20220601 10</td>\n",
       "      <td>54</td>\n",
       "      <td>20220601 10</td>\n",
       "      <td>22.8</td>\n",
       "      <td>NaN</td>\n",
       "      <td>4.1</td>\n",
       "      <td>60.0</td>\n",
       "      <td>1.0</td>\n",
       "      <td>2.37</td>\n",
       "      <td>2460.60</td>\n",
       "    </tr>\n",
       "    <tr>\n",
       "      <th>108131</th>\n",
       "      <td>54_20220601 11</td>\n",
       "      <td>54</td>\n",
       "      <td>20220601 11</td>\n",
       "      <td>24.4</td>\n",
       "      <td>NaN</td>\n",
       "      <td>2.7</td>\n",
       "      <td>46.0</td>\n",
       "      <td>1.0</td>\n",
       "      <td>2.65</td>\n",
       "      <td>2768.40</td>\n",
       "    </tr>\n",
       "    <tr>\n",
       "      <th>108132</th>\n",
       "      <td>54_20220601 12</td>\n",
       "      <td>54</td>\n",
       "      <td>20220601 12</td>\n",
       "      <td>23.8</td>\n",
       "      <td>NaN</td>\n",
       "      <td>2.6</td>\n",
       "      <td>43.0</td>\n",
       "      <td>1.0</td>\n",
       "      <td>3.12</td>\n",
       "      <td>2823.84</td>\n",
       "    </tr>\n",
       "    <tr>\n",
       "      <th>108133</th>\n",
       "      <td>54_20220601 13</td>\n",
       "      <td>54</td>\n",
       "      <td>20220601 13</td>\n",
       "      <td>24.7</td>\n",
       "      <td>NaN</td>\n",
       "      <td>4.1</td>\n",
       "      <td>38.0</td>\n",
       "      <td>1.0</td>\n",
       "      <td>3.42</td>\n",
       "      <td>3227.40</td>\n",
       "    </tr>\n",
       "    <tr>\n",
       "      <th>108134</th>\n",
       "      <td>54_20220601 14</td>\n",
       "      <td>54</td>\n",
       "      <td>20220601 14</td>\n",
       "      <td>25.1</td>\n",
       "      <td>NaN</td>\n",
       "      <td>3.3</td>\n",
       "      <td>35.0</td>\n",
       "      <td>1.0</td>\n",
       "      <td>3.08</td>\n",
       "      <td>3123.00</td>\n",
       "    </tr>\n",
       "    <tr>\n",
       "      <th>108135</th>\n",
       "      <td>54_20220601 15</td>\n",
       "      <td>54</td>\n",
       "      <td>20220601 15</td>\n",
       "      <td>25.5</td>\n",
       "      <td>NaN</td>\n",
       "      <td>3.2</td>\n",
       "      <td>33.0</td>\n",
       "      <td>1.0</td>\n",
       "      <td>3.12</td>\n",
       "      <td>3101.76</td>\n",
       "    </tr>\n",
       "    <tr>\n",
       "      <th>108136</th>\n",
       "      <td>54_20220601 16</td>\n",
       "      <td>54</td>\n",
       "      <td>20220601 16</td>\n",
       "      <td>23.9</td>\n",
       "      <td>NaN</td>\n",
       "      <td>4.7</td>\n",
       "      <td>46.0</td>\n",
       "      <td>1.0</td>\n",
       "      <td>2.62</td>\n",
       "      <td>2899.08</td>\n",
       "    </tr>\n",
       "    <tr>\n",
       "      <th>108137</th>\n",
       "      <td>54_20220601 17</td>\n",
       "      <td>54</td>\n",
       "      <td>20220601 17</td>\n",
       "      <td>23.7</td>\n",
       "      <td>NaN</td>\n",
       "      <td>3.2</td>\n",
       "      <td>63.0</td>\n",
       "      <td>1.0</td>\n",
       "      <td>2.03</td>\n",
       "      <td>2721.96</td>\n",
       "    </tr>\n",
       "    <tr>\n",
       "      <th>108138</th>\n",
       "      <td>54_20220601 18</td>\n",
       "      <td>54</td>\n",
       "      <td>20220601 18</td>\n",
       "      <td>22.4</td>\n",
       "      <td>NaN</td>\n",
       "      <td>3.4</td>\n",
       "      <td>70.0</td>\n",
       "      <td>1.0</td>\n",
       "      <td>1.28</td>\n",
       "      <td>2694.60</td>\n",
       "    </tr>\n",
       "    <tr>\n",
       "      <th>108139</th>\n",
       "      <td>54_20220601 19</td>\n",
       "      <td>54</td>\n",
       "      <td>20220601 19</td>\n",
       "      <td>21.4</td>\n",
       "      <td>NaN</td>\n",
       "      <td>3.0</td>\n",
       "      <td>65.0</td>\n",
       "      <td>0.8</td>\n",
       "      <td>0.50</td>\n",
       "      <td>2587.32</td>\n",
       "    </tr>\n",
       "    <tr>\n",
       "      <th>108140</th>\n",
       "      <td>54_20220601 20</td>\n",
       "      <td>54</td>\n",
       "      <td>20220601 20</td>\n",
       "      <td>21.5</td>\n",
       "      <td>NaN</td>\n",
       "      <td>4.3</td>\n",
       "      <td>54.0</td>\n",
       "      <td>0.0</td>\n",
       "      <td>0.03</td>\n",
       "      <td>1672.20</td>\n",
       "    </tr>\n",
       "    <tr>\n",
       "      <th>108141</th>\n",
       "      <td>54_20220601 21</td>\n",
       "      <td>54</td>\n",
       "      <td>20220601 21</td>\n",
       "      <td>21.5</td>\n",
       "      <td>NaN</td>\n",
       "      <td>4.8</td>\n",
       "      <td>45.0</td>\n",
       "      <td>NaN</td>\n",
       "      <td>NaN</td>\n",
       "      <td>851.40</td>\n",
       "    </tr>\n",
       "    <tr>\n",
       "      <th>108142</th>\n",
       "      <td>54_20220601 22</td>\n",
       "      <td>54</td>\n",
       "      <td>20220601 22</td>\n",
       "      <td>20.3</td>\n",
       "      <td>NaN</td>\n",
       "      <td>4.0</td>\n",
       "      <td>67.0</td>\n",
       "      <td>NaN</td>\n",
       "      <td>NaN</td>\n",
       "      <td>741.24</td>\n",
       "    </tr>\n",
       "    <tr>\n",
       "      <th>108143</th>\n",
       "      <td>54_20220601 23</td>\n",
       "      <td>54</td>\n",
       "      <td>20220601 23</td>\n",
       "      <td>19.9</td>\n",
       "      <td>NaN</td>\n",
       "      <td>5.0</td>\n",
       "      <td>68.0</td>\n",
       "      <td>NaN</td>\n",
       "      <td>NaN</td>\n",
       "      <td>692.28</td>\n",
       "    </tr>\n",
       "  </tbody>\n",
       "</table>\n",
       "</div>"
      ],
      "text/plain": [
       "         num_date_time  건물번호           일시  기온(C)  강수량(mm)  풍속(m/s)  습도(%)  \\\n",
       "108120  54_20220601 00    54  20220601 00   18.6      NaN      2.6   62.0   \n",
       "108121  54_20220601 01    54  20220601 01   18.8      NaN      0.4   62.0   \n",
       "108122  54_20220601 02    54  20220601 02   18.9      NaN      0.0   52.0   \n",
       "108123  54_20220601 03    54  20220601 03   20.2      NaN      2.4   38.0   \n",
       "108124  54_20220601 04    54  20220601 04   20.4      NaN      2.8   40.0   \n",
       "108125  54_20220601 05    54  20220601 05   20.0      NaN      1.7   41.0   \n",
       "108126  54_20220601 06    54  20220601 06   19.6      NaN      0.0   47.0   \n",
       "108127  54_20220601 07    54  20220601 07   21.2      NaN      2.0   38.0   \n",
       "108128  54_20220601 08    54  20220601 08   22.9      NaN      1.3   36.0   \n",
       "108129  54_20220601 09    54  20220601 09   25.6      NaN      0.3   32.0   \n",
       "108130  54_20220601 10    54  20220601 10   22.8      NaN      4.1   60.0   \n",
       "108131  54_20220601 11    54  20220601 11   24.4      NaN      2.7   46.0   \n",
       "108132  54_20220601 12    54  20220601 12   23.8      NaN      2.6   43.0   \n",
       "108133  54_20220601 13    54  20220601 13   24.7      NaN      4.1   38.0   \n",
       "108134  54_20220601 14    54  20220601 14   25.1      NaN      3.3   35.0   \n",
       "108135  54_20220601 15    54  20220601 15   25.5      NaN      3.2   33.0   \n",
       "108136  54_20220601 16    54  20220601 16   23.9      NaN      4.7   46.0   \n",
       "108137  54_20220601 17    54  20220601 17   23.7      NaN      3.2   63.0   \n",
       "108138  54_20220601 18    54  20220601 18   22.4      NaN      3.4   70.0   \n",
       "108139  54_20220601 19    54  20220601 19   21.4      NaN      3.0   65.0   \n",
       "108140  54_20220601 20    54  20220601 20   21.5      NaN      4.3   54.0   \n",
       "108141  54_20220601 21    54  20220601 21   21.5      NaN      4.8   45.0   \n",
       "108142  54_20220601 22    54  20220601 22   20.3      NaN      4.0   67.0   \n",
       "108143  54_20220601 23    54  20220601 23   19.9      NaN      5.0   68.0   \n",
       "\n",
       "        일조(hr)  일사(MJ/m2)  전력소비량(kWh)  \n",
       "108120     NaN        NaN      578.16  \n",
       "108121     NaN        NaN      408.24  \n",
       "108122     NaN        NaN      398.16  \n",
       "108123     NaN        NaN      387.36  \n",
       "108124     NaN        NaN      387.36  \n",
       "108125     NaN        NaN      419.76  \n",
       "108126     0.0       0.04      612.72  \n",
       "108127     0.0       0.29      661.68  \n",
       "108128     0.0       0.69     1210.32  \n",
       "108129     0.8       1.43     1901.16  \n",
       "108130     1.0       2.37     2460.60  \n",
       "108131     1.0       2.65     2768.40  \n",
       "108132     1.0       3.12     2823.84  \n",
       "108133     1.0       3.42     3227.40  \n",
       "108134     1.0       3.08     3123.00  \n",
       "108135     1.0       3.12     3101.76  \n",
       "108136     1.0       2.62     2899.08  \n",
       "108137     1.0       2.03     2721.96  \n",
       "108138     1.0       1.28     2694.60  \n",
       "108139     0.8       0.50     2587.32  \n",
       "108140     0.0       0.03     1672.20  \n",
       "108141     NaN        NaN      851.40  \n",
       "108142     NaN        NaN      741.24  \n",
       "108143     NaN        NaN      692.28  "
      ]
     },
     "execution_count": 57,
     "metadata": {},
     "output_type": "execute_result"
    }
   ],
   "source": [
    "train[train['건물번호']==54].head(24)"
   ]
  },
  {
   "cell_type": "code",
   "execution_count": 52,
   "id": "351c4d4f-8be3-4b88-8b73-d4ab11fb5b1f",
   "metadata": {},
   "outputs": [],
   "source": [
    "bi = pd.read_csv('building_info.csv')"
   ]
  },
  {
   "cell_type": "code",
   "execution_count": 54,
   "id": "f8706ef3-cad3-47a4-b24e-8049a90ee3a0",
   "metadata": {},
   "outputs": [
    {
     "data": {
      "text/html": [
       "<div>\n",
       "<style scoped>\n",
       "    .dataframe tbody tr th:only-of-type {\n",
       "        vertical-align: middle;\n",
       "    }\n",
       "\n",
       "    .dataframe tbody tr th {\n",
       "        vertical-align: top;\n",
       "    }\n",
       "\n",
       "    .dataframe thead th {\n",
       "        text-align: right;\n",
       "    }\n",
       "</style>\n",
       "<table border=\"1\" class=\"dataframe\">\n",
       "  <thead>\n",
       "    <tr style=\"text-align: right;\">\n",
       "      <th></th>\n",
       "      <th>건물번호</th>\n",
       "      <th>건물유형</th>\n",
       "      <th>연면적(m2)</th>\n",
       "      <th>냉방면적(m2)</th>\n",
       "      <th>태양광용량(kW)</th>\n",
       "      <th>ESS저장용량(kWh)</th>\n",
       "      <th>PCS용량(kW)</th>\n",
       "    </tr>\n",
       "  </thead>\n",
       "  <tbody>\n",
       "    <tr>\n",
       "      <th>53</th>\n",
       "      <td>54</td>\n",
       "      <td>상용</td>\n",
       "      <td>109400.2</td>\n",
       "      <td>65803.57</td>\n",
       "      <td>-</td>\n",
       "      <td>-</td>\n",
       "      <td>-</td>\n",
       "    </tr>\n",
       "  </tbody>\n",
       "</table>\n",
       "</div>"
      ],
      "text/plain": [
       "    건물번호 건물유형   연면적(m2)  냉방면적(m2) 태양광용량(kW) ESS저장용량(kWh) PCS용량(kW)\n",
       "53    54   상용  109400.2  65803.57         -            -         -"
      ]
     },
     "execution_count": 54,
     "metadata": {},
     "output_type": "execute_result"
    }
   ],
   "source": [
    "bi[bi['건물번호']==54]"
   ]
  },
  {
   "cell_type": "markdown",
   "id": "5c0cf122-9f49-493a-9b95-02af1805b780",
   "metadata": {},
   "source": [
    "test와 train의 분포 차이 확인\n",
    "random forest 모델 확인\n",
    "과대 예측 잡기\n",
    "54번 건물 주의(튀는 애 발견, outlier 제거 후 시도 예를 들면 뒤에서 1000개 빼서 수행)\n",
    "feature selection 요망"
   ]
  },
  {
   "cell_type": "code",
   "execution_count": null,
   "id": "e8012194-9890-40f6-b8a3-ddbdc3b3e842",
   "metadata": {},
   "outputs": [],
   "source": []
  }
 ],
 "metadata": {
  "kernelspec": {
   "display_name": "Python 3 (ipykernel)",
   "language": "python",
   "name": "python3"
  },
  "language_info": {
   "codemirror_mode": {
    "name": "ipython",
    "version": 3
   },
   "file_extension": ".py",
   "mimetype": "text/x-python",
   "name": "python",
   "nbconvert_exporter": "python",
   "pygments_lexer": "ipython3",
   "version": "3.10.8"
  }
 },
 "nbformat": 4,
 "nbformat_minor": 5
}
