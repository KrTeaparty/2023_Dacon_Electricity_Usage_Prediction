{
 "cells": [
  {
   "cell_type": "code",
   "execution_count": 1,
   "id": "eee281c2-960f-47f0-b8c7-596f2cc7c8ce",
   "metadata": {},
   "outputs": [],
   "source": [
    "import xgboost as xgb\n",
    "import tqdm as tq\n",
    "import matplotlib.pyplot as plt\n",
    "import seaborn as sns\n",
    "import sklearn\n",
    "import pandas as pd\n",
    "from tqdm import tqdm\n",
    "from xgboost import XGBRegressor\n",
    "import numpy as np"
   ]
  },
  {
   "cell_type": "markdown",
   "id": "be889fcb-95a8-40b4-b6a1-83183b4acce0",
   "metadata": {},
   "source": [
    "### Train Data Preprocessing"
   ]
  },
  {
   "cell_type": "code",
   "execution_count": 2,
   "id": "7f61b5e7-8f27-48a6-8cee-7d2ef8ef6bb5",
   "metadata": {},
   "outputs": [],
   "source": [
    "train = pd.read_csv('train.csv')"
   ]
  },
  {
   "cell_type": "code",
   "execution_count": 69,
   "id": "1cdf8a36-28d1-48cb-9d43-2016e6e84909",
   "metadata": {},
   "outputs": [
    {
     "data": {
      "text/html": [
       "<div>\n",
       "<style scoped>\n",
       "    .dataframe tbody tr th:only-of-type {\n",
       "        vertical-align: middle;\n",
       "    }\n",
       "\n",
       "    .dataframe tbody tr th {\n",
       "        vertical-align: top;\n",
       "    }\n",
       "\n",
       "    .dataframe thead th {\n",
       "        text-align: right;\n",
       "    }\n",
       "</style>\n",
       "<table border=\"1\" class=\"dataframe\">\n",
       "  <thead>\n",
       "    <tr style=\"text-align: right;\">\n",
       "      <th></th>\n",
       "      <th>num_date_time</th>\n",
       "      <th>건물번호</th>\n",
       "      <th>일시</th>\n",
       "      <th>기온(C)</th>\n",
       "      <th>강수량(mm)</th>\n",
       "      <th>풍속(m/s)</th>\n",
       "      <th>습도(%)</th>\n",
       "      <th>일조(hr)</th>\n",
       "      <th>일사(MJ/m2)</th>\n",
       "      <th>전력소비량(kWh)</th>\n",
       "    </tr>\n",
       "  </thead>\n",
       "  <tbody>\n",
       "    <tr>\n",
       "      <th>0</th>\n",
       "      <td>1_20220601 00</td>\n",
       "      <td>1</td>\n",
       "      <td>20220601 00</td>\n",
       "      <td>18.6</td>\n",
       "      <td>NaN</td>\n",
       "      <td>0.9</td>\n",
       "      <td>42.0</td>\n",
       "      <td>NaN</td>\n",
       "      <td>NaN</td>\n",
       "      <td>1085.28</td>\n",
       "    </tr>\n",
       "    <tr>\n",
       "      <th>1</th>\n",
       "      <td>1_20220601 01</td>\n",
       "      <td>1</td>\n",
       "      <td>20220601 01</td>\n",
       "      <td>18.0</td>\n",
       "      <td>NaN</td>\n",
       "      <td>1.1</td>\n",
       "      <td>45.0</td>\n",
       "      <td>NaN</td>\n",
       "      <td>NaN</td>\n",
       "      <td>1047.36</td>\n",
       "    </tr>\n",
       "    <tr>\n",
       "      <th>2</th>\n",
       "      <td>1_20220601 02</td>\n",
       "      <td>1</td>\n",
       "      <td>20220601 02</td>\n",
       "      <td>17.7</td>\n",
       "      <td>NaN</td>\n",
       "      <td>1.5</td>\n",
       "      <td>45.0</td>\n",
       "      <td>NaN</td>\n",
       "      <td>NaN</td>\n",
       "      <td>974.88</td>\n",
       "    </tr>\n",
       "    <tr>\n",
       "      <th>3</th>\n",
       "      <td>1_20220601 03</td>\n",
       "      <td>1</td>\n",
       "      <td>20220601 03</td>\n",
       "      <td>16.7</td>\n",
       "      <td>NaN</td>\n",
       "      <td>1.4</td>\n",
       "      <td>48.0</td>\n",
       "      <td>NaN</td>\n",
       "      <td>NaN</td>\n",
       "      <td>953.76</td>\n",
       "    </tr>\n",
       "    <tr>\n",
       "      <th>4</th>\n",
       "      <td>1_20220601 04</td>\n",
       "      <td>1</td>\n",
       "      <td>20220601 04</td>\n",
       "      <td>18.4</td>\n",
       "      <td>NaN</td>\n",
       "      <td>2.8</td>\n",
       "      <td>43.0</td>\n",
       "      <td>NaN</td>\n",
       "      <td>NaN</td>\n",
       "      <td>986.40</td>\n",
       "    </tr>\n",
       "  </tbody>\n",
       "</table>\n",
       "</div>"
      ],
      "text/plain": [
       "   num_date_time  건물번호           일시  기온(C)  강수량(mm)  풍속(m/s)  습도(%)  일조(hr)  \\\n",
       "0  1_20220601 00     1  20220601 00   18.6      NaN      0.9   42.0     NaN   \n",
       "1  1_20220601 01     1  20220601 01   18.0      NaN      1.1   45.0     NaN   \n",
       "2  1_20220601 02     1  20220601 02   17.7      NaN      1.5   45.0     NaN   \n",
       "3  1_20220601 03     1  20220601 03   16.7      NaN      1.4   48.0     NaN   \n",
       "4  1_20220601 04     1  20220601 04   18.4      NaN      2.8   43.0     NaN   \n",
       "\n",
       "   일사(MJ/m2)  전력소비량(kWh)  \n",
       "0        NaN     1085.28  \n",
       "1        NaN     1047.36  \n",
       "2        NaN      974.88  \n",
       "3        NaN      953.76  \n",
       "4        NaN      986.40  "
      ]
     },
     "execution_count": 69,
     "metadata": {},
     "output_type": "execute_result"
    }
   ],
   "source": [
    "train.head()"
   ]
  },
  {
   "cell_type": "code",
   "execution_count": 3,
   "id": "59de0470-210e-4c17-ba7d-434f9b126c1d",
   "metadata": {},
   "outputs": [],
   "source": [
    "train.pop('일조(hr)')\n",
    "train.pop('일사(MJ/m2)')\n",
    "\n",
    "train['일시'] = pd.to_datetime(train['일시'], format='%Y%m%d %H')\n",
    "train['month'] = train['일시'].dt.month\n",
    "train['day'] = train['일시'].dt.weekday\n",
    "train['hour'] = train['일시'].dt.hour\n",
    "train['holiday'] = train.apply(lambda x: 0 if x['day']<5 else 1, axis=1)\n",
    "train['sin_time'] = np.sin(2*np.pi*train.hour/24) # cyclical encoding\n",
    "train['cos_time'] = np.cos(2*np.pi*train.hour/24)\n",
    "train['DI'] = 1.8*train['기온(C)'] - 0.55*(1-train['습도(%)'])*(1.8*train['기온(C)']-26) + 32 # 불쾌지수\n",
    "\n",
    "train.pop('num_date_time')\n",
    "train.pop('일시')\n",
    "train.pop('hour')\n",
    "train['power'] = train['전력소비량(kWh)']\n",
    "train.pop('전력소비량(kWh)')\n",
    "train['강수량(mm)'] = train['강수량(mm)'].fillna(0)\n",
    "train['풍속(m/s)'] = train['풍속(m/s)'].fillna(0)\n",
    "train['습도(%)'] = train['습도(%)'].fillna(0)"
   ]
  },
  {
   "cell_type": "code",
   "execution_count": 71,
   "id": "1a8002f6-4dd7-4ba1-8b62-969ef3a3c198",
   "metadata": {},
   "outputs": [],
   "source": [
    "train.to_csv('train_preprocessed.csv', index=False)"
   ]
  },
  {
   "cell_type": "code",
   "execution_count": 72,
   "id": "a31c380d-3dd0-475f-bca0-80c0573d6b4e",
   "metadata": {},
   "outputs": [
    {
     "data": {
      "text/html": [
       "<div>\n",
       "<style scoped>\n",
       "    .dataframe tbody tr th:only-of-type {\n",
       "        vertical-align: middle;\n",
       "    }\n",
       "\n",
       "    .dataframe tbody tr th {\n",
       "        vertical-align: top;\n",
       "    }\n",
       "\n",
       "    .dataframe thead th {\n",
       "        text-align: right;\n",
       "    }\n",
       "</style>\n",
       "<table border=\"1\" class=\"dataframe\">\n",
       "  <thead>\n",
       "    <tr style=\"text-align: right;\">\n",
       "      <th></th>\n",
       "      <th>건물번호</th>\n",
       "      <th>기온(C)</th>\n",
       "      <th>강수량(mm)</th>\n",
       "      <th>풍속(m/s)</th>\n",
       "      <th>습도(%)</th>\n",
       "      <th>month</th>\n",
       "      <th>day</th>\n",
       "      <th>holiday</th>\n",
       "      <th>sin_time</th>\n",
       "      <th>cos_time</th>\n",
       "      <th>DI</th>\n",
       "      <th>power</th>\n",
       "    </tr>\n",
       "  </thead>\n",
       "  <tbody>\n",
       "    <tr>\n",
       "      <th>0</th>\n",
       "      <td>1</td>\n",
       "      <td>18.6</td>\n",
       "      <td>0.0</td>\n",
       "      <td>0.9</td>\n",
       "      <td>42.0</td>\n",
       "      <td>6</td>\n",
       "      <td>2</td>\n",
       "      <td>0</td>\n",
       "      <td>0.000000</td>\n",
       "      <td>1.000000</td>\n",
       "      <td>234.154</td>\n",
       "      <td>1085.28</td>\n",
       "    </tr>\n",
       "    <tr>\n",
       "      <th>1</th>\n",
       "      <td>1</td>\n",
       "      <td>18.0</td>\n",
       "      <td>0.0</td>\n",
       "      <td>1.1</td>\n",
       "      <td>45.0</td>\n",
       "      <td>6</td>\n",
       "      <td>2</td>\n",
       "      <td>0</td>\n",
       "      <td>0.258819</td>\n",
       "      <td>0.965926</td>\n",
       "      <td>219.280</td>\n",
       "      <td>1047.36</td>\n",
       "    </tr>\n",
       "    <tr>\n",
       "      <th>2</th>\n",
       "      <td>1</td>\n",
       "      <td>17.7</td>\n",
       "      <td>0.0</td>\n",
       "      <td>1.5</td>\n",
       "      <td>45.0</td>\n",
       "      <td>6</td>\n",
       "      <td>2</td>\n",
       "      <td>0</td>\n",
       "      <td>0.500000</td>\n",
       "      <td>0.866025</td>\n",
       "      <td>205.672</td>\n",
       "      <td>974.88</td>\n",
       "    </tr>\n",
       "    <tr>\n",
       "      <th>3</th>\n",
       "      <td>1</td>\n",
       "      <td>16.7</td>\n",
       "      <td>0.0</td>\n",
       "      <td>1.4</td>\n",
       "      <td>48.0</td>\n",
       "      <td>6</td>\n",
       "      <td>2</td>\n",
       "      <td>0</td>\n",
       "      <td>0.707107</td>\n",
       "      <td>0.707107</td>\n",
       "      <td>167.011</td>\n",
       "      <td>953.76</td>\n",
       "    </tr>\n",
       "    <tr>\n",
       "      <th>4</th>\n",
       "      <td>1</td>\n",
       "      <td>18.4</td>\n",
       "      <td>0.0</td>\n",
       "      <td>2.8</td>\n",
       "      <td>43.0</td>\n",
       "      <td>6</td>\n",
       "      <td>2</td>\n",
       "      <td>0</td>\n",
       "      <td>0.866025</td>\n",
       "      <td>0.500000</td>\n",
       "      <td>229.592</td>\n",
       "      <td>986.40</td>\n",
       "    </tr>\n",
       "  </tbody>\n",
       "</table>\n",
       "</div>"
      ],
      "text/plain": [
       "   건물번호  기온(C)  강수량(mm)  풍속(m/s)  습도(%)  month  day  holiday  sin_time  \\\n",
       "0     1   18.6      0.0      0.9   42.0      6    2        0  0.000000   \n",
       "1     1   18.0      0.0      1.1   45.0      6    2        0  0.258819   \n",
       "2     1   17.7      0.0      1.5   45.0      6    2        0  0.500000   \n",
       "3     1   16.7      0.0      1.4   48.0      6    2        0  0.707107   \n",
       "4     1   18.4      0.0      2.8   43.0      6    2        0  0.866025   \n",
       "\n",
       "   cos_time       DI    power  \n",
       "0  1.000000  234.154  1085.28  \n",
       "1  0.965926  219.280  1047.36  \n",
       "2  0.866025  205.672   974.88  \n",
       "3  0.707107  167.011   953.76  \n",
       "4  0.500000  229.592   986.40  "
      ]
     },
     "execution_count": 72,
     "metadata": {},
     "output_type": "execute_result"
    }
   ],
   "source": [
    "train.head()"
   ]
  },
  {
   "cell_type": "markdown",
   "id": "29f5e3d3-d033-4c9e-a57d-5db4b884662d",
   "metadata": {},
   "source": [
    "### Test Data Preprocessing"
   ]
  },
  {
   "cell_type": "code",
   "execution_count": 4,
   "id": "1bea4453-24e0-416d-a845-b5e7544362bb",
   "metadata": {},
   "outputs": [],
   "source": [
    "test = pd.read_csv('test.csv')"
   ]
  },
  {
   "cell_type": "code",
   "execution_count": 5,
   "id": "74e0fb28-df5b-4251-9d6a-f8aa511e4e77",
   "metadata": {},
   "outputs": [
    {
     "data": {
      "text/plain": [
       "0         0\n",
       "1         1\n",
       "2         2\n",
       "3         3\n",
       "4         4\n",
       "         ..\n",
       "16795    19\n",
       "16796    20\n",
       "16797    21\n",
       "16798    22\n",
       "16799    23\n",
       "Name: hour, Length: 16800, dtype: int64"
      ]
     },
     "execution_count": 5,
     "metadata": {},
     "output_type": "execute_result"
    }
   ],
   "source": [
    "test['일시'] = pd.to_datetime(test['일시'], format='%Y%m%d %H')\n",
    "test['month'] = test['일시'].dt.month\n",
    "test['day'] = test['일시'].dt.weekday\n",
    "test['hour'] = test['일시'].dt.hour\n",
    "test['holiday'] = test.apply(lambda x: 0 if x['day']<5 else 1, axis=1)\n",
    "test['sin_time'] = np.sin(2*np.pi*test.hour/24)\n",
    "test['cos_time'] = np.cos(2*np.pi*test.hour/24)\n",
    "test['DI'] = 1.8*test['기온(C)'] - 0.55*(1-test['습도(%)'])*(1.8*test['기온(C)']-26) + 32\n",
    "\n",
    "test.pop('num_date_time')\n",
    "test.pop('일시')\n",
    "test.pop('hour')"
   ]
  },
  {
   "cell_type": "code",
   "execution_count": 75,
   "id": "f8fdff53-b31c-4f97-9ea1-56cec17dfbb5",
   "metadata": {},
   "outputs": [],
   "source": [
    "test.to_csv('test_preprocessed.csv', index=False)"
   ]
  },
  {
   "cell_type": "code",
   "execution_count": 14,
   "id": "71d805d7-7688-4321-914f-d2f7cc149acb",
   "metadata": {},
   "outputs": [
    {
     "data": {
      "text/html": [
       "<div>\n",
       "<style scoped>\n",
       "    .dataframe tbody tr th:only-of-type {\n",
       "        vertical-align: middle;\n",
       "    }\n",
       "\n",
       "    .dataframe tbody tr th {\n",
       "        vertical-align: top;\n",
       "    }\n",
       "\n",
       "    .dataframe thead th {\n",
       "        text-align: right;\n",
       "    }\n",
       "</style>\n",
       "<table border=\"1\" class=\"dataframe\">\n",
       "  <thead>\n",
       "    <tr style=\"text-align: right;\">\n",
       "      <th></th>\n",
       "      <th>건물번호</th>\n",
       "      <th>기온(C)</th>\n",
       "      <th>강수량(mm)</th>\n",
       "      <th>풍속(m/s)</th>\n",
       "      <th>습도(%)</th>\n",
       "      <th>month</th>\n",
       "      <th>day</th>\n",
       "      <th>holiday</th>\n",
       "      <th>sin_time</th>\n",
       "      <th>cos_time</th>\n",
       "      <th>DI</th>\n",
       "    </tr>\n",
       "  </thead>\n",
       "  <tbody>\n",
       "    <tr>\n",
       "      <th>0</th>\n",
       "      <td>1</td>\n",
       "      <td>23.5</td>\n",
       "      <td>0.0</td>\n",
       "      <td>2.2</td>\n",
       "      <td>72</td>\n",
       "      <td>8</td>\n",
       "      <td>3</td>\n",
       "      <td>0</td>\n",
       "      <td>0.000000</td>\n",
       "      <td>1.000000</td>\n",
       "      <td>710.815</td>\n",
       "    </tr>\n",
       "    <tr>\n",
       "      <th>1</th>\n",
       "      <td>1</td>\n",
       "      <td>23.0</td>\n",
       "      <td>0.0</td>\n",
       "      <td>0.9</td>\n",
       "      <td>72</td>\n",
       "      <td>8</td>\n",
       "      <td>3</td>\n",
       "      <td>0</td>\n",
       "      <td>0.258819</td>\n",
       "      <td>0.965926</td>\n",
       "      <td>674.770</td>\n",
       "    </tr>\n",
       "    <tr>\n",
       "      <th>2</th>\n",
       "      <td>1</td>\n",
       "      <td>22.7</td>\n",
       "      <td>0.0</td>\n",
       "      <td>1.5</td>\n",
       "      <td>75</td>\n",
       "      <td>8</td>\n",
       "      <td>3</td>\n",
       "      <td>0</td>\n",
       "      <td>0.500000</td>\n",
       "      <td>0.866025</td>\n",
       "      <td>677.662</td>\n",
       "    </tr>\n",
       "    <tr>\n",
       "      <th>3</th>\n",
       "      <td>1</td>\n",
       "      <td>22.1</td>\n",
       "      <td>0.0</td>\n",
       "      <td>1.3</td>\n",
       "      <td>78</td>\n",
       "      <td>8</td>\n",
       "      <td>3</td>\n",
       "      <td>0</td>\n",
       "      <td>0.707107</td>\n",
       "      <td>0.707107</td>\n",
       "      <td>655.363</td>\n",
       "    </tr>\n",
       "    <tr>\n",
       "      <th>4</th>\n",
       "      <td>1</td>\n",
       "      <td>21.8</td>\n",
       "      <td>0.0</td>\n",
       "      <td>1.0</td>\n",
       "      <td>77</td>\n",
       "      <td>8</td>\n",
       "      <td>3</td>\n",
       "      <td>0</td>\n",
       "      <td>0.866025</td>\n",
       "      <td>0.500000</td>\n",
       "      <td>624.672</td>\n",
       "    </tr>\n",
       "  </tbody>\n",
       "</table>\n",
       "</div>"
      ],
      "text/plain": [
       "   건물번호  기온(C)  강수량(mm)  풍속(m/s)  습도(%)  month  day  holiday  sin_time  \\\n",
       "0     1   23.5      0.0      2.2     72      8    3        0  0.000000   \n",
       "1     1   23.0      0.0      0.9     72      8    3        0  0.258819   \n",
       "2     1   22.7      0.0      1.5     75      8    3        0  0.500000   \n",
       "3     1   22.1      0.0      1.3     78      8    3        0  0.707107   \n",
       "4     1   21.8      0.0      1.0     77      8    3        0  0.866025   \n",
       "\n",
       "   cos_time       DI  \n",
       "0  1.000000  710.815  \n",
       "1  0.965926  674.770  \n",
       "2  0.866025  677.662  \n",
       "3  0.707107  655.363  \n",
       "4  0.500000  624.672  "
      ]
     },
     "execution_count": 14,
     "metadata": {},
     "output_type": "execute_result"
    }
   ],
   "source": [
    "test.head()"
   ]
  },
  {
   "cell_type": "markdown",
   "id": "e2f9c074-d55a-4a36-9461-40139033a011",
   "metadata": {},
   "source": [
    "### Training"
   ]
  },
  {
   "cell_type": "code",
   "execution_count": 6,
   "id": "fab3d84e-949e-4b73-b830-09283bc10667",
   "metadata": {},
   "outputs": [],
   "source": [
    "import os\n",
    "from sklearn.metrics import make_scorer\n",
    "from sklearn.model_selection import GridSearchCV, train_test_split"
   ]
  },
  {
   "cell_type": "code",
   "execution_count": 7,
   "id": "6c71b83a-4ce1-4b65-9c31-a0e501f0201b",
   "metadata": {},
   "outputs": [],
   "source": [
    "def SMAPE(true, pred):\n",
    "    return np.mean((np.abs(true - pred))/(np.abs(true) + np.abs(pred))) * 100    "
   ]
  },
  {
   "cell_type": "code",
   "execution_count": 20,
   "id": "a68b9d34-0df2-4774-b766-09577950fb3f",
   "metadata": {},
   "outputs": [
    {
     "data": {
      "text/html": [
       "<div>\n",
       "<style scoped>\n",
       "    .dataframe tbody tr th:only-of-type {\n",
       "        vertical-align: middle;\n",
       "    }\n",
       "\n",
       "    .dataframe tbody tr th {\n",
       "        vertical-align: top;\n",
       "    }\n",
       "\n",
       "    .dataframe thead th {\n",
       "        text-align: right;\n",
       "    }\n",
       "</style>\n",
       "<table border=\"1\" class=\"dataframe\">\n",
       "  <thead>\n",
       "    <tr style=\"text-align: right;\">\n",
       "      <th></th>\n",
       "      <th>건물번호</th>\n",
       "      <th>기온(C)</th>\n",
       "      <th>강수량(mm)</th>\n",
       "      <th>풍속(m/s)</th>\n",
       "      <th>습도(%)</th>\n",
       "      <th>month</th>\n",
       "      <th>day</th>\n",
       "      <th>week</th>\n",
       "      <th>holiday</th>\n",
       "      <th>sin_time</th>\n",
       "      <th>cos_time</th>\n",
       "      <th>DI</th>\n",
       "      <th>power</th>\n",
       "    </tr>\n",
       "  </thead>\n",
       "  <tbody>\n",
       "    <tr>\n",
       "      <th>0</th>\n",
       "      <td>1</td>\n",
       "      <td>18.6</td>\n",
       "      <td>0.0</td>\n",
       "      <td>0.9</td>\n",
       "      <td>42.0</td>\n",
       "      <td>6</td>\n",
       "      <td>2</td>\n",
       "      <td>22</td>\n",
       "      <td>0</td>\n",
       "      <td>0.000000</td>\n",
       "      <td>1.000000</td>\n",
       "      <td>234.154</td>\n",
       "      <td>1085.28</td>\n",
       "    </tr>\n",
       "    <tr>\n",
       "      <th>1</th>\n",
       "      <td>1</td>\n",
       "      <td>18.0</td>\n",
       "      <td>0.0</td>\n",
       "      <td>1.1</td>\n",
       "      <td>45.0</td>\n",
       "      <td>6</td>\n",
       "      <td>2</td>\n",
       "      <td>22</td>\n",
       "      <td>0</td>\n",
       "      <td>0.258819</td>\n",
       "      <td>0.965926</td>\n",
       "      <td>219.280</td>\n",
       "      <td>1047.36</td>\n",
       "    </tr>\n",
       "    <tr>\n",
       "      <th>2</th>\n",
       "      <td>1</td>\n",
       "      <td>17.7</td>\n",
       "      <td>0.0</td>\n",
       "      <td>1.5</td>\n",
       "      <td>45.0</td>\n",
       "      <td>6</td>\n",
       "      <td>2</td>\n",
       "      <td>22</td>\n",
       "      <td>0</td>\n",
       "      <td>0.500000</td>\n",
       "      <td>0.866025</td>\n",
       "      <td>205.672</td>\n",
       "      <td>974.88</td>\n",
       "    </tr>\n",
       "    <tr>\n",
       "      <th>3</th>\n",
       "      <td>1</td>\n",
       "      <td>16.7</td>\n",
       "      <td>0.0</td>\n",
       "      <td>1.4</td>\n",
       "      <td>48.0</td>\n",
       "      <td>6</td>\n",
       "      <td>2</td>\n",
       "      <td>22</td>\n",
       "      <td>0</td>\n",
       "      <td>0.707107</td>\n",
       "      <td>0.707107</td>\n",
       "      <td>167.011</td>\n",
       "      <td>953.76</td>\n",
       "    </tr>\n",
       "    <tr>\n",
       "      <th>4</th>\n",
       "      <td>1</td>\n",
       "      <td>18.4</td>\n",
       "      <td>0.0</td>\n",
       "      <td>2.8</td>\n",
       "      <td>43.0</td>\n",
       "      <td>6</td>\n",
       "      <td>2</td>\n",
       "      <td>22</td>\n",
       "      <td>0</td>\n",
       "      <td>0.866025</td>\n",
       "      <td>0.500000</td>\n",
       "      <td>229.592</td>\n",
       "      <td>986.40</td>\n",
       "    </tr>\n",
       "  </tbody>\n",
       "</table>\n",
       "</div>"
      ],
      "text/plain": [
       "   건물번호  기온(C)  강수량(mm)  풍속(m/s)  ...  sin_time  cos_time       DI    power\n",
       "0     1   18.6      0.0      0.9  ...  0.000000  1.000000  234.154  1085.28\n",
       "1     1   18.0      0.0      1.1  ...  0.258819  0.965926  219.280  1047.36\n",
       "2     1   17.7      0.0      1.5  ...  0.500000  0.866025  205.672   974.88\n",
       "3     1   16.7      0.0      1.4  ...  0.707107  0.707107  167.011   953.76\n",
       "4     1   18.4      0.0      2.8  ...  0.866025  0.500000  229.592   986.40\n",
       "\n",
       "[5 rows x 13 columns]"
      ]
     },
     "execution_count": 20,
     "metadata": {},
     "output_type": "execute_result"
    }
   ],
   "source": [
    "train.head()"
   ]
  },
  {
   "cell_type": "code",
   "execution_count": 43,
   "id": "bb9bc997-ae40-4cad-87af-2447d5f1f426",
   "metadata": {},
   "outputs": [],
   "source": [
    "def tr_ts_split(train, test, number, val_hour):\n",
    "    x = train.loc[train['건물번호']==number].drop(['건물번호','power'], axis=1)\n",
    "    y = train.loc[train['건물번호']==number, 'power']\n",
    "\n",
    "    #if number == 54:\n",
    "    x = pd.concat([x[:601], x[700:]], axis=0).reset_index(drop=True)\n",
    "    y = pd.concat([y[:601], y[700:]]).reset_index(drop=True)\n",
    "\n",
    "    if val_hour == 0:\n",
    "        return x, None, y, None\n",
    "    else:\n",
    "        x_train, x_valid, y_train, y_valid = x[:-val_hour], x[-val_hour:], y[:-val_hour], y[-val_hour:]\n",
    "        return x_train, x_valid.reset_index(drop=True), y_train, y_valid.reset_index(drop=True)"
   ]
  },
  {
   "cell_type": "code",
   "execution_count": 31,
   "id": "1c799848-e452-487e-977b-17c3a381e72a",
   "metadata": {},
   "outputs": [],
   "source": [
    "def fit_and_pred_XGB(train, test, number, seed=0):\n",
    "    x_train, x_valid, y_train, y_valid = tr_ts_split(train, test, number, 7*24)\n",
    "\n",
    "    xgb_reg = XGBRegressor(n_estimators=10000, eta=0.01, seed=seed,\n",
    "                            gpu_id=0, tree_method='gpu_hist', predictor='gpu_predictor')\n",
    "    xgb_reg.fit(x_train, y_train, eval_set=[(x_train, y_train), (x_valid, y_valid)],\n",
    "                early_stopping_rounds=300, verbose=False)\n",
    "    pred = xgb_reg.predict(x_valid)\n",
    "    pred = pd.Series(pred)\n",
    "    \n",
    "    x_test = test[test['건물번호']==number]\n",
    "    y_test_pred = xgb_reg.predict(x_test.drop('건물번호', axis=1))\n",
    "\n",
    "    smape_val = SMAPE(y_valid, pred)\n",
    "    r2_val = sklearn.metrics.r2_score(y_valid, pred)\n",
    "    print(f'SMAPE: {smape_val}')\n",
    "    print(f'R2: {r2_val}')\n",
    "    return smape_val, r2_val, y_valid, pred, y_test_pred"
   ]
  },
  {
   "cell_type": "code",
   "execution_count": 32,
   "id": "38906c9e-e20c-41e4-b2d9-6db6ce363246",
   "metadata": {
    "scrolled": true
   },
   "outputs": [
    {
     "name": "stderr",
     "output_type": "stream",
     "text": [
      "  0%|          | 0/100 [00:00<?, ?it/s]/opt/conda/lib/python3.10/site-packages/xgboost/sklearn.py:835: UserWarning: `early_stopping_rounds` in `fit` method is deprecated for better compatibility with scikit-learn, use `early_stopping_rounds` in constructor or`set_params` instead.\n",
      "  warnings.warn(\n"
     ]
    },
    {
     "name": "stdout",
     "output_type": "stream",
     "text": [
      "===== < BUILDING NO.1 > =====\n"
     ]
    },
    {
     "name": "stderr",
     "output_type": "stream",
     "text": [
      "  1%|          | 1/100 [00:02<04:48,  2.92s/it]"
     ]
    },
    {
     "name": "stdout",
     "output_type": "stream",
     "text": [
      "SMAPE: 3.498611346685474\n",
      "R2: 0.9505132437893566\n",
      "===== < BUILDING NO.2 > =====\n"
     ]
    },
    {
     "name": "stderr",
     "output_type": "stream",
     "text": [
      "/opt/conda/lib/python3.10/site-packages/xgboost/sklearn.py:835: UserWarning: `early_stopping_rounds` in `fit` method is deprecated for better compatibility with scikit-learn, use `early_stopping_rounds` in constructor or`set_params` instead.\n",
      "  warnings.warn(\n",
      "  2%|▏         | 2/100 [00:03<02:48,  1.72s/it]"
     ]
    },
    {
     "name": "stdout",
     "output_type": "stream",
     "text": [
      "SMAPE: 5.293149692920055\n",
      "R2: 0.8348522802848739\n",
      "===== < BUILDING NO.3 > =====\n"
     ]
    },
    {
     "name": "stderr",
     "output_type": "stream",
     "text": [
      "/opt/conda/lib/python3.10/site-packages/xgboost/sklearn.py:835: UserWarning: `early_stopping_rounds` in `fit` method is deprecated for better compatibility with scikit-learn, use `early_stopping_rounds` in constructor or`set_params` instead.\n",
      "  warnings.warn(\n",
      "  3%|▎         | 3/100 [00:04<02:07,  1.32s/it]"
     ]
    },
    {
     "name": "stdout",
     "output_type": "stream",
     "text": [
      "SMAPE: 5.356015760282614\n",
      "R2: 0.8317239037502239\n",
      "===== < BUILDING NO.4 > =====\n"
     ]
    },
    {
     "name": "stderr",
     "output_type": "stream",
     "text": [
      "/opt/conda/lib/python3.10/site-packages/xgboost/sklearn.py:835: UserWarning: `early_stopping_rounds` in `fit` method is deprecated for better compatibility with scikit-learn, use `early_stopping_rounds` in constructor or`set_params` instead.\n",
      "  warnings.warn(\n",
      "  4%|▍         | 4/100 [00:05<01:52,  1.17s/it]"
     ]
    },
    {
     "name": "stdout",
     "output_type": "stream",
     "text": [
      "SMAPE: 1.9496199263359284\n",
      "R2: 0.9762195277260349\n",
      "===== < BUILDING NO.5 > =====\n"
     ]
    },
    {
     "name": "stderr",
     "output_type": "stream",
     "text": [
      "/opt/conda/lib/python3.10/site-packages/xgboost/sklearn.py:835: UserWarning: `early_stopping_rounds` in `fit` method is deprecated for better compatibility with scikit-learn, use `early_stopping_rounds` in constructor or`set_params` instead.\n",
      "  warnings.warn(\n",
      "  5%|▌         | 5/100 [00:06<01:53,  1.20s/it]"
     ]
    },
    {
     "name": "stdout",
     "output_type": "stream",
     "text": [
      "SMAPE: 3.7857848095046234\n",
      "R2: 0.9553275085539296\n",
      "===== < BUILDING NO.6 > =====\n"
     ]
    },
    {
     "name": "stderr",
     "output_type": "stream",
     "text": [
      "/opt/conda/lib/python3.10/site-packages/xgboost/sklearn.py:835: UserWarning: `early_stopping_rounds` in `fit` method is deprecated for better compatibility with scikit-learn, use `early_stopping_rounds` in constructor or`set_params` instead.\n",
      "  warnings.warn(\n",
      "  6%|▌         | 6/100 [00:08<02:02,  1.30s/it]"
     ]
    },
    {
     "name": "stdout",
     "output_type": "stream",
     "text": [
      "SMAPE: 2.1892490411326784\n",
      "R2: 0.967172993781067\n",
      "===== < BUILDING NO.7 > =====\n"
     ]
    },
    {
     "name": "stderr",
     "output_type": "stream",
     "text": [
      "/opt/conda/lib/python3.10/site-packages/xgboost/sklearn.py:835: UserWarning: `early_stopping_rounds` in `fit` method is deprecated for better compatibility with scikit-learn, use `early_stopping_rounds` in constructor or`set_params` instead.\n",
      "  warnings.warn(\n",
      "  7%|▋         | 7/100 [00:09<01:53,  1.22s/it]"
     ]
    },
    {
     "name": "stdout",
     "output_type": "stream",
     "text": [
      "SMAPE: 4.193700780841268\n",
      "R2: 0.9114530612447274\n",
      "===== < BUILDING NO.8 > =====\n"
     ]
    },
    {
     "name": "stderr",
     "output_type": "stream",
     "text": [
      "/opt/conda/lib/python3.10/site-packages/xgboost/sklearn.py:835: UserWarning: `early_stopping_rounds` in `fit` method is deprecated for better compatibility with scikit-learn, use `early_stopping_rounds` in constructor or`set_params` instead.\n",
      "  warnings.warn(\n",
      "  8%|▊         | 8/100 [00:10<01:54,  1.25s/it]"
     ]
    },
    {
     "name": "stdout",
     "output_type": "stream",
     "text": [
      "SMAPE: 2.3769706796950647\n",
      "R2: 0.738734383877521\n",
      "===== < BUILDING NO.9 > =====\n"
     ]
    },
    {
     "name": "stderr",
     "output_type": "stream",
     "text": [
      "/opt/conda/lib/python3.10/site-packages/xgboost/sklearn.py:835: UserWarning: `early_stopping_rounds` in `fit` method is deprecated for better compatibility with scikit-learn, use `early_stopping_rounds` in constructor or`set_params` instead.\n",
      "  warnings.warn(\n",
      "  9%|▉         | 9/100 [00:12<02:01,  1.33s/it]"
     ]
    },
    {
     "name": "stdout",
     "output_type": "stream",
     "text": [
      "SMAPE: 2.16289941970656\n",
      "R2: 0.967354544053431\n",
      "===== < BUILDING NO.10 > =====\n"
     ]
    },
    {
     "name": "stderr",
     "output_type": "stream",
     "text": [
      "/opt/conda/lib/python3.10/site-packages/xgboost/sklearn.py:835: UserWarning: `early_stopping_rounds` in `fit` method is deprecated for better compatibility with scikit-learn, use `early_stopping_rounds` in constructor or`set_params` instead.\n",
      "  warnings.warn(\n",
      " 10%|█         | 10/100 [00:13<01:48,  1.21s/it]"
     ]
    },
    {
     "name": "stdout",
     "output_type": "stream",
     "text": [
      "SMAPE: 3.544824546047977\n",
      "R2: 0.4787061091828202\n",
      "===== < BUILDING NO.11 > =====\n"
     ]
    },
    {
     "name": "stderr",
     "output_type": "stream",
     "text": [
      "/opt/conda/lib/python3.10/site-packages/xgboost/sklearn.py:835: UserWarning: `early_stopping_rounds` in `fit` method is deprecated for better compatibility with scikit-learn, use `early_stopping_rounds` in constructor or`set_params` instead.\n",
      "  warnings.warn(\n",
      " 11%|█         | 11/100 [00:14<01:53,  1.28s/it]"
     ]
    },
    {
     "name": "stdout",
     "output_type": "stream",
     "text": [
      "SMAPE: 1.7123269044155176\n",
      "R2: 0.8951795398298666\n",
      "===== < BUILDING NO.12 > =====\n"
     ]
    },
    {
     "name": "stderr",
     "output_type": "stream",
     "text": [
      "/opt/conda/lib/python3.10/site-packages/xgboost/sklearn.py:835: UserWarning: `early_stopping_rounds` in `fit` method is deprecated for better compatibility with scikit-learn, use `early_stopping_rounds` in constructor or`set_params` instead.\n",
      "  warnings.warn(\n",
      " 12%|█▏        | 12/100 [00:16<02:11,  1.49s/it]"
     ]
    },
    {
     "name": "stdout",
     "output_type": "stream",
     "text": [
      "SMAPE: 2.4624122023586574\n",
      "R2: 0.8611547191554905\n",
      "===== < BUILDING NO.13 > =====\n"
     ]
    },
    {
     "name": "stderr",
     "output_type": "stream",
     "text": [
      "/opt/conda/lib/python3.10/site-packages/xgboost/sklearn.py:835: UserWarning: `early_stopping_rounds` in `fit` method is deprecated for better compatibility with scikit-learn, use `early_stopping_rounds` in constructor or`set_params` instead.\n",
      "  warnings.warn(\n",
      " 13%|█▎        | 13/100 [00:18<02:14,  1.54s/it]"
     ]
    },
    {
     "name": "stdout",
     "output_type": "stream",
     "text": [
      "SMAPE: 3.8020252872378526\n",
      "R2: 0.06425205045303584\n",
      "===== < BUILDING NO.14 > =====\n"
     ]
    },
    {
     "name": "stderr",
     "output_type": "stream",
     "text": [
      "/opt/conda/lib/python3.10/site-packages/xgboost/sklearn.py:835: UserWarning: `early_stopping_rounds` in `fit` method is deprecated for better compatibility with scikit-learn, use `early_stopping_rounds` in constructor or`set_params` instead.\n",
      "  warnings.warn(\n",
      " 14%|█▍        | 14/100 [00:19<01:56,  1.36s/it]"
     ]
    },
    {
     "name": "stdout",
     "output_type": "stream",
     "text": [
      "SMAPE: 8.189375174857945\n",
      "R2: 0.3001255022595253\n",
      "===== < BUILDING NO.15 > =====\n"
     ]
    },
    {
     "name": "stderr",
     "output_type": "stream",
     "text": [
      "/opt/conda/lib/python3.10/site-packages/xgboost/sklearn.py:835: UserWarning: `early_stopping_rounds` in `fit` method is deprecated for better compatibility with scikit-learn, use `early_stopping_rounds` in constructor or`set_params` instead.\n",
      "  warnings.warn(\n",
      " 15%|█▌        | 15/100 [00:20<01:50,  1.30s/it]"
     ]
    },
    {
     "name": "stdout",
     "output_type": "stream",
     "text": [
      "SMAPE: 1.3960957705789798\n",
      "R2: 0.9228701003346914\n",
      "===== < BUILDING NO.16 > =====\n"
     ]
    },
    {
     "name": "stderr",
     "output_type": "stream",
     "text": [
      "/opt/conda/lib/python3.10/site-packages/xgboost/sklearn.py:835: UserWarning: `early_stopping_rounds` in `fit` method is deprecated for better compatibility with scikit-learn, use `early_stopping_rounds` in constructor or`set_params` instead.\n",
      "  warnings.warn(\n",
      " 16%|█▌        | 16/100 [00:21<01:42,  1.22s/it]"
     ]
    },
    {
     "name": "stdout",
     "output_type": "stream",
     "text": [
      "SMAPE: 2.37106666750909\n",
      "R2: 0.979179132078914\n",
      "===== < BUILDING NO.17 > =====\n"
     ]
    },
    {
     "name": "stderr",
     "output_type": "stream",
     "text": [
      "/opt/conda/lib/python3.10/site-packages/xgboost/sklearn.py:835: UserWarning: `early_stopping_rounds` in `fit` method is deprecated for better compatibility with scikit-learn, use `early_stopping_rounds` in constructor or`set_params` instead.\n",
      "  warnings.warn(\n",
      " 17%|█▋        | 17/100 [00:22<01:52,  1.35s/it]"
     ]
    },
    {
     "name": "stdout",
     "output_type": "stream",
     "text": [
      "SMAPE: 2.9756161842993314\n",
      "R2: 0.9385202744996135\n",
      "===== < BUILDING NO.18 > =====\n"
     ]
    },
    {
     "name": "stderr",
     "output_type": "stream",
     "text": [
      "/opt/conda/lib/python3.10/site-packages/xgboost/sklearn.py:835: UserWarning: `early_stopping_rounds` in `fit` method is deprecated for better compatibility with scikit-learn, use `early_stopping_rounds` in constructor or`set_params` instead.\n",
      "  warnings.warn(\n",
      " 18%|█▊        | 18/100 [00:24<02:04,  1.52s/it]"
     ]
    },
    {
     "name": "stdout",
     "output_type": "stream",
     "text": [
      "SMAPE: 3.165082367695018\n",
      "R2: 0.9375511870537827\n",
      "===== < BUILDING NO.19 > =====\n"
     ]
    },
    {
     "name": "stderr",
     "output_type": "stream",
     "text": [
      "/opt/conda/lib/python3.10/site-packages/xgboost/sklearn.py:835: UserWarning: `early_stopping_rounds` in `fit` method is deprecated for better compatibility with scikit-learn, use `early_stopping_rounds` in constructor or`set_params` instead.\n",
      "  warnings.warn(\n",
      " 19%|█▉        | 19/100 [00:27<02:20,  1.73s/it]"
     ]
    },
    {
     "name": "stdout",
     "output_type": "stream",
     "text": [
      "SMAPE: 4.358012297704934\n",
      "R2: 0.9230614953424408\n",
      "===== < BUILDING NO.20 > =====\n"
     ]
    },
    {
     "name": "stderr",
     "output_type": "stream",
     "text": [
      "/opt/conda/lib/python3.10/site-packages/xgboost/sklearn.py:835: UserWarning: `early_stopping_rounds` in `fit` method is deprecated for better compatibility with scikit-learn, use `early_stopping_rounds` in constructor or`set_params` instead.\n",
      "  warnings.warn(\n",
      " 20%|██        | 20/100 [00:29<02:35,  1.95s/it]"
     ]
    },
    {
     "name": "stdout",
     "output_type": "stream",
     "text": [
      "SMAPE: 2.5586305116839703\n",
      "R2: 0.9785709236531792\n",
      "===== < BUILDING NO.21 > =====\n"
     ]
    },
    {
     "name": "stderr",
     "output_type": "stream",
     "text": [
      "/opt/conda/lib/python3.10/site-packages/xgboost/sklearn.py:835: UserWarning: `early_stopping_rounds` in `fit` method is deprecated for better compatibility with scikit-learn, use `early_stopping_rounds` in constructor or`set_params` instead.\n",
      "  warnings.warn(\n",
      " 21%|██        | 21/100 [00:31<02:23,  1.81s/it]"
     ]
    },
    {
     "name": "stdout",
     "output_type": "stream",
     "text": [
      "SMAPE: 3.6659506192398292\n",
      "R2: 0.9428450509662992\n",
      "===== < BUILDING NO.22 > =====\n"
     ]
    },
    {
     "name": "stderr",
     "output_type": "stream",
     "text": [
      "/opt/conda/lib/python3.10/site-packages/xgboost/sklearn.py:835: UserWarning: `early_stopping_rounds` in `fit` method is deprecated for better compatibility with scikit-learn, use `early_stopping_rounds` in constructor or`set_params` instead.\n",
      "  warnings.warn(\n",
      " 22%|██▏       | 22/100 [00:33<02:23,  1.85s/it]"
     ]
    },
    {
     "name": "stdout",
     "output_type": "stream",
     "text": [
      "SMAPE: 1.902485722034615\n",
      "R2: 0.9367990805900666\n",
      "===== < BUILDING NO.23 > =====\n"
     ]
    },
    {
     "name": "stderr",
     "output_type": "stream",
     "text": [
      "/opt/conda/lib/python3.10/site-packages/xgboost/sklearn.py:835: UserWarning: `early_stopping_rounds` in `fit` method is deprecated for better compatibility with scikit-learn, use `early_stopping_rounds` in constructor or`set_params` instead.\n",
      "  warnings.warn(\n",
      " 23%|██▎       | 23/100 [00:34<02:13,  1.73s/it]"
     ]
    },
    {
     "name": "stdout",
     "output_type": "stream",
     "text": [
      "SMAPE: 0.9514831460618797\n",
      "R2: 0.9632550515558436\n",
      "===== < BUILDING NO.24 > =====\n"
     ]
    },
    {
     "name": "stderr",
     "output_type": "stream",
     "text": [
      "/opt/conda/lib/python3.10/site-packages/xgboost/sklearn.py:835: UserWarning: `early_stopping_rounds` in `fit` method is deprecated for better compatibility with scikit-learn, use `early_stopping_rounds` in constructor or`set_params` instead.\n",
      "  warnings.warn(\n",
      " 24%|██▍       | 24/100 [00:36<02:27,  1.94s/it]"
     ]
    },
    {
     "name": "stdout",
     "output_type": "stream",
     "text": [
      "SMAPE: 1.2794468921916642\n",
      "R2: 0.9853502403705504\n",
      "===== < BUILDING NO.25 > =====\n"
     ]
    },
    {
     "name": "stderr",
     "output_type": "stream",
     "text": [
      "/opt/conda/lib/python3.10/site-packages/xgboost/sklearn.py:835: UserWarning: `early_stopping_rounds` in `fit` method is deprecated for better compatibility with scikit-learn, use `early_stopping_rounds` in constructor or`set_params` instead.\n",
      "  warnings.warn(\n",
      " 25%|██▌       | 25/100 [00:39<02:36,  2.08s/it]"
     ]
    },
    {
     "name": "stdout",
     "output_type": "stream",
     "text": [
      "SMAPE: 1.1516069326919902\n",
      "R2: 0.9847659748838598\n",
      "===== < BUILDING NO.26 > =====\n"
     ]
    },
    {
     "name": "stderr",
     "output_type": "stream",
     "text": [
      "/opt/conda/lib/python3.10/site-packages/xgboost/sklearn.py:835: UserWarning: `early_stopping_rounds` in `fit` method is deprecated for better compatibility with scikit-learn, use `early_stopping_rounds` in constructor or`set_params` instead.\n",
      "  warnings.warn(\n",
      " 26%|██▌       | 26/100 [00:40<02:14,  1.82s/it]"
     ]
    },
    {
     "name": "stdout",
     "output_type": "stream",
     "text": [
      "SMAPE: 1.1736706196874707\n",
      "R2: 0.98175166017241\n",
      "===== < BUILDING NO.27 > =====\n"
     ]
    },
    {
     "name": "stderr",
     "output_type": "stream",
     "text": [
      "/opt/conda/lib/python3.10/site-packages/xgboost/sklearn.py:835: UserWarning: `early_stopping_rounds` in `fit` method is deprecated for better compatibility with scikit-learn, use `early_stopping_rounds` in constructor or`set_params` instead.\n",
      "  warnings.warn(\n",
      " 27%|██▋       | 27/100 [00:41<02:01,  1.67s/it]"
     ]
    },
    {
     "name": "stdout",
     "output_type": "stream",
     "text": [
      "SMAPE: 0.9084647467001031\n",
      "R2: 0.9775322852392823\n",
      "===== < BUILDING NO.28 > =====\n"
     ]
    },
    {
     "name": "stderr",
     "output_type": "stream",
     "text": [
      "/opt/conda/lib/python3.10/site-packages/xgboost/sklearn.py:835: UserWarning: `early_stopping_rounds` in `fit` method is deprecated for better compatibility with scikit-learn, use `early_stopping_rounds` in constructor or`set_params` instead.\n",
      "  warnings.warn(\n",
      " 28%|██▊       | 28/100 [00:42<01:44,  1.45s/it]"
     ]
    },
    {
     "name": "stdout",
     "output_type": "stream",
     "text": [
      "SMAPE: 2.3442610504342447\n",
      "R2: 0.9622112572638699\n",
      "===== < BUILDING NO.29 > =====\n"
     ]
    },
    {
     "name": "stderr",
     "output_type": "stream",
     "text": [
      "/opt/conda/lib/python3.10/site-packages/xgboost/sklearn.py:835: UserWarning: `early_stopping_rounds` in `fit` method is deprecated for better compatibility with scikit-learn, use `early_stopping_rounds` in constructor or`set_params` instead.\n",
      "  warnings.warn(\n",
      " 29%|██▉       | 29/100 [00:43<01:34,  1.34s/it]"
     ]
    },
    {
     "name": "stdout",
     "output_type": "stream",
     "text": [
      "SMAPE: 1.9620275137975263\n",
      "R2: 0.9534660818164693\n",
      "===== < BUILDING NO.30 > =====\n"
     ]
    },
    {
     "name": "stderr",
     "output_type": "stream",
     "text": [
      "/opt/conda/lib/python3.10/site-packages/xgboost/sklearn.py:835: UserWarning: `early_stopping_rounds` in `fit` method is deprecated for better compatibility with scikit-learn, use `early_stopping_rounds` in constructor or`set_params` instead.\n",
      "  warnings.warn(\n",
      " 30%|███       | 30/100 [00:45<01:35,  1.36s/it]"
     ]
    },
    {
     "name": "stdout",
     "output_type": "stream",
     "text": [
      "SMAPE: 3.3856411799114743\n",
      "R2: 0.8823913463829575\n",
      "===== < BUILDING NO.31 > =====\n"
     ]
    },
    {
     "name": "stderr",
     "output_type": "stream",
     "text": [
      "/opt/conda/lib/python3.10/site-packages/xgboost/sklearn.py:835: UserWarning: `early_stopping_rounds` in `fit` method is deprecated for better compatibility with scikit-learn, use `early_stopping_rounds` in constructor or`set_params` instead.\n",
      "  warnings.warn(\n",
      " 31%|███       | 31/100 [00:46<01:25,  1.24s/it]"
     ]
    },
    {
     "name": "stdout",
     "output_type": "stream",
     "text": [
      "SMAPE: 2.384384521486442\n",
      "R2: 0.94324772686843\n",
      "===== < BUILDING NO.32 > =====\n"
     ]
    },
    {
     "name": "stderr",
     "output_type": "stream",
     "text": [
      "/opt/conda/lib/python3.10/site-packages/xgboost/sklearn.py:835: UserWarning: `early_stopping_rounds` in `fit` method is deprecated for better compatibility with scikit-learn, use `early_stopping_rounds` in constructor or`set_params` instead.\n",
      "  warnings.warn(\n",
      " 32%|███▏      | 32/100 [00:48<01:37,  1.43s/it]"
     ]
    },
    {
     "name": "stdout",
     "output_type": "stream",
     "text": [
      "SMAPE: 0.18168687118474042\n",
      "R2: 0.8716500227384778\n",
      "===== < BUILDING NO.33 > =====\n"
     ]
    },
    {
     "name": "stderr",
     "output_type": "stream",
     "text": [
      "/opt/conda/lib/python3.10/site-packages/xgboost/sklearn.py:835: UserWarning: `early_stopping_rounds` in `fit` method is deprecated for better compatibility with scikit-learn, use `early_stopping_rounds` in constructor or`set_params` instead.\n",
      "  warnings.warn(\n",
      " 33%|███▎      | 33/100 [00:50<02:05,  1.87s/it]"
     ]
    },
    {
     "name": "stdout",
     "output_type": "stream",
     "text": [
      "SMAPE: 0.20891778105074252\n",
      "R2: 0.7054608729440801\n",
      "===== < BUILDING NO.34 > =====\n"
     ]
    },
    {
     "name": "stderr",
     "output_type": "stream",
     "text": [
      "/opt/conda/lib/python3.10/site-packages/xgboost/sklearn.py:835: UserWarning: `early_stopping_rounds` in `fit` method is deprecated for better compatibility with scikit-learn, use `early_stopping_rounds` in constructor or`set_params` instead.\n",
      "  warnings.warn(\n",
      " 34%|███▍      | 34/100 [00:52<01:52,  1.70s/it]"
     ]
    },
    {
     "name": "stdout",
     "output_type": "stream",
     "text": [
      "SMAPE: 0.4507656500730843\n",
      "R2: 0.7307975289905393\n",
      "===== < BUILDING NO.35 > =====\n"
     ]
    },
    {
     "name": "stderr",
     "output_type": "stream",
     "text": [
      "/opt/conda/lib/python3.10/site-packages/xgboost/sklearn.py:835: UserWarning: `early_stopping_rounds` in `fit` method is deprecated for better compatibility with scikit-learn, use `early_stopping_rounds` in constructor or`set_params` instead.\n",
      "  warnings.warn(\n",
      " 35%|███▌      | 35/100 [00:53<01:47,  1.65s/it]"
     ]
    },
    {
     "name": "stdout",
     "output_type": "stream",
     "text": [
      "SMAPE: 0.18468850679458235\n",
      "R2: 0.9115293692906026\n",
      "===== < BUILDING NO.36 > =====\n"
     ]
    },
    {
     "name": "stderr",
     "output_type": "stream",
     "text": [
      "/opt/conda/lib/python3.10/site-packages/xgboost/sklearn.py:835: UserWarning: `early_stopping_rounds` in `fit` method is deprecated for better compatibility with scikit-learn, use `early_stopping_rounds` in constructor or`set_params` instead.\n",
      "  warnings.warn(\n",
      " 36%|███▌      | 36/100 [00:55<01:43,  1.61s/it]"
     ]
    },
    {
     "name": "stdout",
     "output_type": "stream",
     "text": [
      "SMAPE: 0.3578870503331797\n",
      "R2: 0.574332776557588\n",
      "===== < BUILDING NO.37 > =====\n"
     ]
    },
    {
     "name": "stderr",
     "output_type": "stream",
     "text": [
      "/opt/conda/lib/python3.10/site-packages/xgboost/sklearn.py:835: UserWarning: `early_stopping_rounds` in `fit` method is deprecated for better compatibility with scikit-learn, use `early_stopping_rounds` in constructor or`set_params` instead.\n",
      "  warnings.warn(\n",
      " 37%|███▋      | 37/100 [00:56<01:37,  1.54s/it]"
     ]
    },
    {
     "name": "stdout",
     "output_type": "stream",
     "text": [
      "SMAPE: 2.660110985955761\n",
      "R2: 0.9695916360038769\n",
      "===== < BUILDING NO.38 > =====\n"
     ]
    },
    {
     "name": "stderr",
     "output_type": "stream",
     "text": [
      "/opt/conda/lib/python3.10/site-packages/xgboost/sklearn.py:835: UserWarning: `early_stopping_rounds` in `fit` method is deprecated for better compatibility with scikit-learn, use `early_stopping_rounds` in constructor or`set_params` instead.\n",
      "  warnings.warn(\n",
      " 38%|███▊      | 38/100 [00:57<01:30,  1.46s/it]"
     ]
    },
    {
     "name": "stdout",
     "output_type": "stream",
     "text": [
      "SMAPE: 2.2131404037796796\n",
      "R2: 0.9891327941919511\n",
      "===== < BUILDING NO.39 > =====\n"
     ]
    },
    {
     "name": "stderr",
     "output_type": "stream",
     "text": [
      "/opt/conda/lib/python3.10/site-packages/xgboost/sklearn.py:835: UserWarning: `early_stopping_rounds` in `fit` method is deprecated for better compatibility with scikit-learn, use `early_stopping_rounds` in constructor or`set_params` instead.\n",
      "  warnings.warn(\n",
      " 39%|███▉      | 39/100 [00:59<01:27,  1.43s/it]"
     ]
    },
    {
     "name": "stdout",
     "output_type": "stream",
     "text": [
      "SMAPE: 2.8645511876284258\n",
      "R2: 0.9666631614328486\n",
      "===== < BUILDING NO.40 > =====\n"
     ]
    },
    {
     "name": "stderr",
     "output_type": "stream",
     "text": [
      "/opt/conda/lib/python3.10/site-packages/xgboost/sklearn.py:835: UserWarning: `early_stopping_rounds` in `fit` method is deprecated for better compatibility with scikit-learn, use `early_stopping_rounds` in constructor or`set_params` instead.\n",
      "  warnings.warn(\n",
      " 40%|████      | 40/100 [01:00<01:17,  1.29s/it]"
     ]
    },
    {
     "name": "stdout",
     "output_type": "stream",
     "text": [
      "SMAPE: 6.643655640197986\n",
      "R2: 0.8709919208716461\n",
      "===== < BUILDING NO.41 > =====\n"
     ]
    },
    {
     "name": "stderr",
     "output_type": "stream",
     "text": [
      "/opt/conda/lib/python3.10/site-packages/xgboost/sklearn.py:835: UserWarning: `early_stopping_rounds` in `fit` method is deprecated for better compatibility with scikit-learn, use `early_stopping_rounds` in constructor or`set_params` instead.\n",
      "  warnings.warn(\n",
      " 41%|████      | 41/100 [01:01<01:15,  1.27s/it]"
     ]
    },
    {
     "name": "stdout",
     "output_type": "stream",
     "text": [
      "SMAPE: 2.2347387777521126\n",
      "R2: 0.9854015286589034\n",
      "===== < BUILDING NO.42 > =====\n"
     ]
    },
    {
     "name": "stderr",
     "output_type": "stream",
     "text": [
      "/opt/conda/lib/python3.10/site-packages/xgboost/sklearn.py:835: UserWarning: `early_stopping_rounds` in `fit` method is deprecated for better compatibility with scikit-learn, use `early_stopping_rounds` in constructor or`set_params` instead.\n",
      "  warnings.warn(\n",
      " 42%|████▏     | 42/100 [01:02<01:06,  1.15s/it]"
     ]
    },
    {
     "name": "stdout",
     "output_type": "stream",
     "text": [
      "SMAPE: 8.228826606906\n",
      "R2: 0.8357761373008403\n",
      "===== < BUILDING NO.43 > =====\n"
     ]
    },
    {
     "name": "stderr",
     "output_type": "stream",
     "text": [
      "/opt/conda/lib/python3.10/site-packages/xgboost/sklearn.py:835: UserWarning: `early_stopping_rounds` in `fit` method is deprecated for better compatibility with scikit-learn, use `early_stopping_rounds` in constructor or`set_params` instead.\n",
      "  warnings.warn(\n",
      " 43%|████▎     | 43/100 [01:04<01:26,  1.51s/it]"
     ]
    },
    {
     "name": "stdout",
     "output_type": "stream",
     "text": [
      "SMAPE: 2.9528802344260834\n",
      "R2: 0.9955083927006674\n",
      "===== < BUILDING NO.44 > =====\n"
     ]
    },
    {
     "name": "stderr",
     "output_type": "stream",
     "text": [
      "/opt/conda/lib/python3.10/site-packages/xgboost/sklearn.py:835: UserWarning: `early_stopping_rounds` in `fit` method is deprecated for better compatibility with scikit-learn, use `early_stopping_rounds` in constructor or`set_params` instead.\n",
      "  warnings.warn(\n",
      " 44%|████▍     | 44/100 [01:05<01:17,  1.38s/it]"
     ]
    },
    {
     "name": "stdout",
     "output_type": "stream",
     "text": [
      "SMAPE: 2.032185484045241\n",
      "R2: 0.995921105373115\n",
      "===== < BUILDING NO.45 > =====\n"
     ]
    },
    {
     "name": "stderr",
     "output_type": "stream",
     "text": [
      "/opt/conda/lib/python3.10/site-packages/xgboost/sklearn.py:835: UserWarning: `early_stopping_rounds` in `fit` method is deprecated for better compatibility with scikit-learn, use `early_stopping_rounds` in constructor or`set_params` instead.\n",
      "  warnings.warn(\n",
      " 45%|████▌     | 45/100 [01:07<01:20,  1.46s/it]"
     ]
    },
    {
     "name": "stdout",
     "output_type": "stream",
     "text": [
      "SMAPE: 1.1458782040514401\n",
      "R2: 0.96757679741029\n",
      "===== < BUILDING NO.46 > =====\n"
     ]
    },
    {
     "name": "stderr",
     "output_type": "stream",
     "text": [
      "/opt/conda/lib/python3.10/site-packages/xgboost/sklearn.py:835: UserWarning: `early_stopping_rounds` in `fit` method is deprecated for better compatibility with scikit-learn, use `early_stopping_rounds` in constructor or`set_params` instead.\n",
      "  warnings.warn(\n",
      " 46%|████▌     | 46/100 [01:08<01:18,  1.45s/it]"
     ]
    },
    {
     "name": "stdout",
     "output_type": "stream",
     "text": [
      "SMAPE: 2.3714425280938563\n",
      "R2: 0.9450029202995658\n",
      "===== < BUILDING NO.47 > =====\n"
     ]
    },
    {
     "name": "stderr",
     "output_type": "stream",
     "text": [
      "/opt/conda/lib/python3.10/site-packages/xgboost/sklearn.py:835: UserWarning: `early_stopping_rounds` in `fit` method is deprecated for better compatibility with scikit-learn, use `early_stopping_rounds` in constructor or`set_params` instead.\n",
      "  warnings.warn(\n",
      " 47%|████▋     | 47/100 [01:10<01:11,  1.35s/it]"
     ]
    },
    {
     "name": "stdout",
     "output_type": "stream",
     "text": [
      "SMAPE: 2.044764699812375\n",
      "R2: 0.9413476203084042\n",
      "===== < BUILDING NO.48 > =====\n"
     ]
    },
    {
     "name": "stderr",
     "output_type": "stream",
     "text": [
      "/opt/conda/lib/python3.10/site-packages/xgboost/sklearn.py:835: UserWarning: `early_stopping_rounds` in `fit` method is deprecated for better compatibility with scikit-learn, use `early_stopping_rounds` in constructor or`set_params` instead.\n",
      "  warnings.warn(\n",
      " 48%|████▊     | 48/100 [01:11<01:19,  1.53s/it]"
     ]
    },
    {
     "name": "stdout",
     "output_type": "stream",
     "text": [
      "SMAPE: 0.9768273462234967\n",
      "R2: 0.9874124206907716\n",
      "===== < BUILDING NO.49 > =====\n"
     ]
    },
    {
     "name": "stderr",
     "output_type": "stream",
     "text": [
      "/opt/conda/lib/python3.10/site-packages/xgboost/sklearn.py:835: UserWarning: `early_stopping_rounds` in `fit` method is deprecated for better compatibility with scikit-learn, use `early_stopping_rounds` in constructor or`set_params` instead.\n",
      "  warnings.warn(\n",
      " 49%|████▉     | 49/100 [01:15<01:51,  2.18s/it]"
     ]
    },
    {
     "name": "stdout",
     "output_type": "stream",
     "text": [
      "SMAPE: 1.3807927693226596\n",
      "R2: 0.9447582834230677\n",
      "===== < BUILDING NO.50 > =====\n"
     ]
    },
    {
     "name": "stderr",
     "output_type": "stream",
     "text": [
      "/opt/conda/lib/python3.10/site-packages/xgboost/sklearn.py:835: UserWarning: `early_stopping_rounds` in `fit` method is deprecated for better compatibility with scikit-learn, use `early_stopping_rounds` in constructor or`set_params` instead.\n",
      "  warnings.warn(\n",
      " 50%|█████     | 50/100 [01:16<01:32,  1.85s/it]"
     ]
    },
    {
     "name": "stdout",
     "output_type": "stream",
     "text": [
      "SMAPE: 1.2009932920678894\n",
      "R2: 0.9505989225566546\n",
      "===== < BUILDING NO.51 > =====\n"
     ]
    },
    {
     "name": "stderr",
     "output_type": "stream",
     "text": [
      "/opt/conda/lib/python3.10/site-packages/xgboost/sklearn.py:835: UserWarning: `early_stopping_rounds` in `fit` method is deprecated for better compatibility with scikit-learn, use `early_stopping_rounds` in constructor or`set_params` instead.\n",
      "  warnings.warn(\n",
      " 51%|█████     | 51/100 [01:19<01:38,  2.02s/it]"
     ]
    },
    {
     "name": "stdout",
     "output_type": "stream",
     "text": [
      "SMAPE: 2.0636869887810967\n",
      "R2: 0.9226817695294973\n",
      "===== < BUILDING NO.52 > =====\n"
     ]
    },
    {
     "name": "stderr",
     "output_type": "stream",
     "text": [
      "/opt/conda/lib/python3.10/site-packages/xgboost/sklearn.py:835: UserWarning: `early_stopping_rounds` in `fit` method is deprecated for better compatibility with scikit-learn, use `early_stopping_rounds` in constructor or`set_params` instead.\n",
      "  warnings.warn(\n",
      " 52%|█████▏    | 52/100 [01:20<01:32,  1.93s/it]"
     ]
    },
    {
     "name": "stdout",
     "output_type": "stream",
     "text": [
      "SMAPE: 2.0493298626705543\n",
      "R2: 0.9489697309683368\n",
      "===== < BUILDING NO.53 > =====\n"
     ]
    },
    {
     "name": "stderr",
     "output_type": "stream",
     "text": [
      "/opt/conda/lib/python3.10/site-packages/xgboost/sklearn.py:835: UserWarning: `early_stopping_rounds` in `fit` method is deprecated for better compatibility with scikit-learn, use `early_stopping_rounds` in constructor or`set_params` instead.\n",
      "  warnings.warn(\n",
      " 53%|█████▎    | 53/100 [01:21<01:18,  1.66s/it]"
     ]
    },
    {
     "name": "stdout",
     "output_type": "stream",
     "text": [
      "SMAPE: 5.340041274410151\n",
      "R2: 0.9583782816579087\n",
      "===== < BUILDING NO.54 > =====\n"
     ]
    },
    {
     "name": "stderr",
     "output_type": "stream",
     "text": [
      "/opt/conda/lib/python3.10/site-packages/xgboost/sklearn.py:835: UserWarning: `early_stopping_rounds` in `fit` method is deprecated for better compatibility with scikit-learn, use `early_stopping_rounds` in constructor or`set_params` instead.\n",
      "  warnings.warn(\n",
      " 54%|█████▍    | 54/100 [01:23<01:12,  1.57s/it]"
     ]
    },
    {
     "name": "stdout",
     "output_type": "stream",
     "text": [
      "SMAPE: 10.663077734269486\n",
      "R2: 0.7350227445210766\n",
      "===== < BUILDING NO.55 > =====\n"
     ]
    },
    {
     "name": "stderr",
     "output_type": "stream",
     "text": [
      "/opt/conda/lib/python3.10/site-packages/xgboost/sklearn.py:835: UserWarning: `early_stopping_rounds` in `fit` method is deprecated for better compatibility with scikit-learn, use `early_stopping_rounds` in constructor or`set_params` instead.\n",
      "  warnings.warn(\n",
      " 55%|█████▌    | 55/100 [01:24<01:06,  1.47s/it]"
     ]
    },
    {
     "name": "stdout",
     "output_type": "stream",
     "text": [
      "SMAPE: 0.8380785040874941\n",
      "R2: 0.9062577506522023\n",
      "===== < BUILDING NO.56 > =====\n"
     ]
    },
    {
     "name": "stderr",
     "output_type": "stream",
     "text": [
      "/opt/conda/lib/python3.10/site-packages/xgboost/sklearn.py:835: UserWarning: `early_stopping_rounds` in `fit` method is deprecated for better compatibility with scikit-learn, use `early_stopping_rounds` in constructor or`set_params` instead.\n",
      "  warnings.warn(\n",
      " 56%|█████▌    | 56/100 [01:26<01:05,  1.49s/it]"
     ]
    },
    {
     "name": "stdout",
     "output_type": "stream",
     "text": [
      "SMAPE: 0.436452167015171\n",
      "R2: 0.9264579482651879\n",
      "===== < BUILDING NO.57 > =====\n"
     ]
    },
    {
     "name": "stderr",
     "output_type": "stream",
     "text": [
      "/opt/conda/lib/python3.10/site-packages/xgboost/sklearn.py:835: UserWarning: `early_stopping_rounds` in `fit` method is deprecated for better compatibility with scikit-learn, use `early_stopping_rounds` in constructor or`set_params` instead.\n",
      "  warnings.warn(\n",
      " 57%|█████▋    | 57/100 [01:27<01:02,  1.45s/it]"
     ]
    },
    {
     "name": "stdout",
     "output_type": "stream",
     "text": [
      "SMAPE: 2.4157824816625957\n",
      "R2: 0.985868447747852\n",
      "===== < BUILDING NO.58 > =====\n"
     ]
    },
    {
     "name": "stderr",
     "output_type": "stream",
     "text": [
      "/opt/conda/lib/python3.10/site-packages/xgboost/sklearn.py:835: UserWarning: `early_stopping_rounds` in `fit` method is deprecated for better compatibility with scikit-learn, use `early_stopping_rounds` in constructor or`set_params` instead.\n",
      "  warnings.warn(\n",
      " 58%|█████▊    | 58/100 [01:28<01:01,  1.46s/it]"
     ]
    },
    {
     "name": "stdout",
     "output_type": "stream",
     "text": [
      "SMAPE: 0.21341890017288512\n",
      "R2: 0.9404798584567119\n",
      "===== < BUILDING NO.59 > =====\n"
     ]
    },
    {
     "name": "stderr",
     "output_type": "stream",
     "text": [
      "/opt/conda/lib/python3.10/site-packages/xgboost/sklearn.py:835: UserWarning: `early_stopping_rounds` in `fit` method is deprecated for better compatibility with scikit-learn, use `early_stopping_rounds` in constructor or`set_params` instead.\n",
      "  warnings.warn(\n",
      " 59%|█████▉    | 59/100 [01:30<00:59,  1.45s/it]"
     ]
    },
    {
     "name": "stdout",
     "output_type": "stream",
     "text": [
      "SMAPE: 2.7906883013793666\n",
      "R2: 0.9816288680993065\n",
      "===== < BUILDING NO.60 > =====\n"
     ]
    },
    {
     "name": "stderr",
     "output_type": "stream",
     "text": [
      "/opt/conda/lib/python3.10/site-packages/xgboost/sklearn.py:835: UserWarning: `early_stopping_rounds` in `fit` method is deprecated for better compatibility with scikit-learn, use `early_stopping_rounds` in constructor or`set_params` instead.\n",
      "  warnings.warn(\n",
      " 60%|██████    | 60/100 [01:31<00:53,  1.33s/it]"
     ]
    },
    {
     "name": "stdout",
     "output_type": "stream",
     "text": [
      "SMAPE: 2.9905881730765027\n",
      "R2: 0.9476653446138144\n",
      "===== < BUILDING NO.61 > =====\n"
     ]
    },
    {
     "name": "stderr",
     "output_type": "stream",
     "text": [
      "/opt/conda/lib/python3.10/site-packages/xgboost/sklearn.py:835: UserWarning: `early_stopping_rounds` in `fit` method is deprecated for better compatibility with scikit-learn, use `early_stopping_rounds` in constructor or`set_params` instead.\n",
      "  warnings.warn(\n",
      " 61%|██████    | 61/100 [01:33<00:56,  1.45s/it]"
     ]
    },
    {
     "name": "stdout",
     "output_type": "stream",
     "text": [
      "SMAPE: 2.3325793107355137\n",
      "R2: 0.9419311184660939\n",
      "===== < BUILDING NO.62 > =====\n"
     ]
    },
    {
     "name": "stderr",
     "output_type": "stream",
     "text": [
      "/opt/conda/lib/python3.10/site-packages/xgboost/sklearn.py:835: UserWarning: `early_stopping_rounds` in `fit` method is deprecated for better compatibility with scikit-learn, use `early_stopping_rounds` in constructor or`set_params` instead.\n",
      "  warnings.warn(\n",
      " 62%|██████▏   | 62/100 [01:34<00:53,  1.42s/it]"
     ]
    },
    {
     "name": "stdout",
     "output_type": "stream",
     "text": [
      "SMAPE: 2.726030019359426\n",
      "R2: 0.9200633805392667\n",
      "===== < BUILDING NO.63 > =====\n"
     ]
    },
    {
     "name": "stderr",
     "output_type": "stream",
     "text": [
      "/opt/conda/lib/python3.10/site-packages/xgboost/sklearn.py:835: UserWarning: `early_stopping_rounds` in `fit` method is deprecated for better compatibility with scikit-learn, use `early_stopping_rounds` in constructor or`set_params` instead.\n",
      "  warnings.warn(\n",
      " 63%|██████▎   | 63/100 [01:35<00:50,  1.36s/it]"
     ]
    },
    {
     "name": "stdout",
     "output_type": "stream",
     "text": [
      "SMAPE: 3.325040607868205\n",
      "R2: 0.9046751977295702\n",
      "===== < BUILDING NO.64 > =====\n"
     ]
    },
    {
     "name": "stderr",
     "output_type": "stream",
     "text": [
      "/opt/conda/lib/python3.10/site-packages/xgboost/sklearn.py:835: UserWarning: `early_stopping_rounds` in `fit` method is deprecated for better compatibility with scikit-learn, use `early_stopping_rounds` in constructor or`set_params` instead.\n",
      "  warnings.warn(\n",
      " 64%|██████▍   | 64/100 [01:36<00:47,  1.33s/it]"
     ]
    },
    {
     "name": "stdout",
     "output_type": "stream",
     "text": [
      "SMAPE: 1.958886127511314\n",
      "R2: 0.9553564388571527\n",
      "===== < BUILDING NO.65 > =====\n"
     ]
    },
    {
     "name": "stderr",
     "output_type": "stream",
     "text": [
      "/opt/conda/lib/python3.10/site-packages/xgboost/sklearn.py:835: UserWarning: `early_stopping_rounds` in `fit` method is deprecated for better compatibility with scikit-learn, use `early_stopping_rounds` in constructor or`set_params` instead.\n",
      "  warnings.warn(\n",
      " 65%|██████▌   | 65/100 [01:39<00:56,  1.61s/it]"
     ]
    },
    {
     "name": "stdout",
     "output_type": "stream",
     "text": [
      "SMAPE: 4.127504757150685\n",
      "R2: 0.8851226254850699\n",
      "===== < BUILDING NO.66 > =====\n"
     ]
    },
    {
     "name": "stderr",
     "output_type": "stream",
     "text": [
      "/opt/conda/lib/python3.10/site-packages/xgboost/sklearn.py:835: UserWarning: `early_stopping_rounds` in `fit` method is deprecated for better compatibility with scikit-learn, use `early_stopping_rounds` in constructor or`set_params` instead.\n",
      "  warnings.warn(\n",
      " 66%|██████▌   | 66/100 [01:40<00:51,  1.51s/it]"
     ]
    },
    {
     "name": "stdout",
     "output_type": "stream",
     "text": [
      "SMAPE: 2.1232509656724003\n",
      "R2: 0.8491745678471003\n",
      "===== < BUILDING NO.67 > =====\n"
     ]
    },
    {
     "name": "stderr",
     "output_type": "stream",
     "text": [
      "/opt/conda/lib/python3.10/site-packages/xgboost/sklearn.py:835: UserWarning: `early_stopping_rounds` in `fit` method is deprecated for better compatibility with scikit-learn, use `early_stopping_rounds` in constructor or`set_params` instead.\n",
      "  warnings.warn(\n",
      " 67%|██████▋   | 67/100 [01:41<00:43,  1.33s/it]"
     ]
    },
    {
     "name": "stdout",
     "output_type": "stream",
     "text": [
      "SMAPE: 2.70937445575454\n",
      "R2: 0.8970033666233985\n",
      "===== < BUILDING NO.68 > =====\n"
     ]
    },
    {
     "name": "stderr",
     "output_type": "stream",
     "text": [
      "/opt/conda/lib/python3.10/site-packages/xgboost/sklearn.py:835: UserWarning: `early_stopping_rounds` in `fit` method is deprecated for better compatibility with scikit-learn, use `early_stopping_rounds` in constructor or`set_params` instead.\n",
      "  warnings.warn(\n",
      " 68%|██████▊   | 68/100 [01:43<00:47,  1.50s/it]"
     ]
    },
    {
     "name": "stdout",
     "output_type": "stream",
     "text": [
      "SMAPE: 2.1886706022607543\n",
      "R2: 0.9487191283137584\n",
      "===== < BUILDING NO.69 > =====\n"
     ]
    },
    {
     "name": "stderr",
     "output_type": "stream",
     "text": [
      "/opt/conda/lib/python3.10/site-packages/xgboost/sklearn.py:835: UserWarning: `early_stopping_rounds` in `fit` method is deprecated for better compatibility with scikit-learn, use `early_stopping_rounds` in constructor or`set_params` instead.\n",
      "  warnings.warn(\n",
      " 69%|██████▉   | 69/100 [01:44<00:43,  1.40s/it]"
     ]
    },
    {
     "name": "stdout",
     "output_type": "stream",
     "text": [
      "SMAPE: 1.2091538313247658\n",
      "R2: 0.9776313760133133\n",
      "===== < BUILDING NO.70 > =====\n"
     ]
    },
    {
     "name": "stderr",
     "output_type": "stream",
     "text": [
      "/opt/conda/lib/python3.10/site-packages/xgboost/sklearn.py:835: UserWarning: `early_stopping_rounds` in `fit` method is deprecated for better compatibility with scikit-learn, use `early_stopping_rounds` in constructor or`set_params` instead.\n",
      "  warnings.warn(\n",
      " 70%|███████   | 70/100 [01:46<00:43,  1.45s/it]"
     ]
    },
    {
     "name": "stdout",
     "output_type": "stream",
     "text": [
      "SMAPE: 3.759346043562698\n",
      "R2: 0.8893023300973883\n",
      "===== < BUILDING NO.71 > =====\n"
     ]
    },
    {
     "name": "stderr",
     "output_type": "stream",
     "text": [
      "/opt/conda/lib/python3.10/site-packages/xgboost/sklearn.py:835: UserWarning: `early_stopping_rounds` in `fit` method is deprecated for better compatibility with scikit-learn, use `early_stopping_rounds` in constructor or`set_params` instead.\n",
      "  warnings.warn(\n",
      " 71%|███████   | 71/100 [01:47<00:42,  1.46s/it]"
     ]
    },
    {
     "name": "stdout",
     "output_type": "stream",
     "text": [
      "SMAPE: 2.2493401190950553\n",
      "R2: 0.8897731373450036\n",
      "===== < BUILDING NO.72 > =====\n"
     ]
    },
    {
     "name": "stderr",
     "output_type": "stream",
     "text": [
      "/opt/conda/lib/python3.10/site-packages/xgboost/sklearn.py:835: UserWarning: `early_stopping_rounds` in `fit` method is deprecated for better compatibility with scikit-learn, use `early_stopping_rounds` in constructor or`set_params` instead.\n",
      "  warnings.warn(\n",
      " 72%|███████▏  | 72/100 [01:49<00:41,  1.47s/it]"
     ]
    },
    {
     "name": "stdout",
     "output_type": "stream",
     "text": [
      "SMAPE: 3.185010208474607\n",
      "R2: 0.6825262184411249\n",
      "===== < BUILDING NO.73 > =====\n"
     ]
    },
    {
     "name": "stderr",
     "output_type": "stream",
     "text": [
      "/opt/conda/lib/python3.10/site-packages/xgboost/sklearn.py:835: UserWarning: `early_stopping_rounds` in `fit` method is deprecated for better compatibility with scikit-learn, use `early_stopping_rounds` in constructor or`set_params` instead.\n",
      "  warnings.warn(\n",
      " 73%|███████▎  | 73/100 [01:50<00:36,  1.37s/it]"
     ]
    },
    {
     "name": "stdout",
     "output_type": "stream",
     "text": [
      "SMAPE: 1.5649296968782316\n",
      "R2: 0.8350323078445261\n",
      "===== < BUILDING NO.74 > =====\n"
     ]
    },
    {
     "name": "stderr",
     "output_type": "stream",
     "text": [
      "/opt/conda/lib/python3.10/site-packages/xgboost/sklearn.py:835: UserWarning: `early_stopping_rounds` in `fit` method is deprecated for better compatibility with scikit-learn, use `early_stopping_rounds` in constructor or`set_params` instead.\n",
      "  warnings.warn(\n",
      " 74%|███████▍  | 74/100 [01:54<01:02,  2.41s/it]"
     ]
    },
    {
     "name": "stdout",
     "output_type": "stream",
     "text": [
      "SMAPE: 3.0884551216243783\n",
      "R2: 0.925112756541863\n",
      "===== < BUILDING NO.75 > =====\n"
     ]
    },
    {
     "name": "stderr",
     "output_type": "stream",
     "text": [
      "/opt/conda/lib/python3.10/site-packages/xgboost/sklearn.py:835: UserWarning: `early_stopping_rounds` in `fit` method is deprecated for better compatibility with scikit-learn, use `early_stopping_rounds` in constructor or`set_params` instead.\n",
      "  warnings.warn(\n",
      " 75%|███████▌  | 75/100 [01:56<00:51,  2.06s/it]"
     ]
    },
    {
     "name": "stdout",
     "output_type": "stream",
     "text": [
      "SMAPE: 1.9518594881003344\n",
      "R2: 0.9305276733980469\n",
      "===== < BUILDING NO.76 > =====\n"
     ]
    },
    {
     "name": "stderr",
     "output_type": "stream",
     "text": [
      "/opt/conda/lib/python3.10/site-packages/xgboost/sklearn.py:835: UserWarning: `early_stopping_rounds` in `fit` method is deprecated for better compatibility with scikit-learn, use `early_stopping_rounds` in constructor or`set_params` instead.\n",
      "  warnings.warn(\n",
      " 76%|███████▌  | 76/100 [01:58<00:50,  2.09s/it]"
     ]
    },
    {
     "name": "stdout",
     "output_type": "stream",
     "text": [
      "SMAPE: 2.378903798467285\n",
      "R2: 0.8056589748466432\n",
      "===== < BUILDING NO.77 > =====\n"
     ]
    },
    {
     "name": "stderr",
     "output_type": "stream",
     "text": [
      "/opt/conda/lib/python3.10/site-packages/xgboost/sklearn.py:835: UserWarning: `early_stopping_rounds` in `fit` method is deprecated for better compatibility with scikit-learn, use `early_stopping_rounds` in constructor or`set_params` instead.\n",
      "  warnings.warn(\n",
      " 77%|███████▋  | 77/100 [01:59<00:42,  1.86s/it]"
     ]
    },
    {
     "name": "stdout",
     "output_type": "stream",
     "text": [
      "SMAPE: 1.1479610035193055\n",
      "R2: 0.993420805667553\n",
      "===== < BUILDING NO.78 > =====\n"
     ]
    },
    {
     "name": "stderr",
     "output_type": "stream",
     "text": [
      "/opt/conda/lib/python3.10/site-packages/xgboost/sklearn.py:835: UserWarning: `early_stopping_rounds` in `fit` method is deprecated for better compatibility with scikit-learn, use `early_stopping_rounds` in constructor or`set_params` instead.\n",
      "  warnings.warn(\n",
      " 78%|███████▊  | 78/100 [02:01<00:38,  1.75s/it]"
     ]
    },
    {
     "name": "stdout",
     "output_type": "stream",
     "text": [
      "SMAPE: 1.4670866115977244\n",
      "R2: 0.9939958344760238\n",
      "===== < BUILDING NO.79 > =====\n"
     ]
    },
    {
     "name": "stderr",
     "output_type": "stream",
     "text": [
      "/opt/conda/lib/python3.10/site-packages/xgboost/sklearn.py:835: UserWarning: `early_stopping_rounds` in `fit` method is deprecated for better compatibility with scikit-learn, use `early_stopping_rounds` in constructor or`set_params` instead.\n",
      "  warnings.warn(\n",
      " 79%|███████▉  | 79/100 [02:02<00:34,  1.64s/it]"
     ]
    },
    {
     "name": "stdout",
     "output_type": "stream",
     "text": [
      "SMAPE: 1.4692884160996864\n",
      "R2: 0.9817841410210375\n",
      "===== < BUILDING NO.80 > =====\n"
     ]
    },
    {
     "name": "stderr",
     "output_type": "stream",
     "text": [
      "/opt/conda/lib/python3.10/site-packages/xgboost/sklearn.py:835: UserWarning: `early_stopping_rounds` in `fit` method is deprecated for better compatibility with scikit-learn, use `early_stopping_rounds` in constructor or`set_params` instead.\n",
      "  warnings.warn(\n",
      " 80%|████████  | 80/100 [02:06<00:43,  2.18s/it]"
     ]
    },
    {
     "name": "stdout",
     "output_type": "stream",
     "text": [
      "SMAPE: 2.171891235615472\n",
      "R2: 0.9895727614599519\n",
      "===== < BUILDING NO.81 > =====\n"
     ]
    },
    {
     "name": "stderr",
     "output_type": "stream",
     "text": [
      "/opt/conda/lib/python3.10/site-packages/xgboost/sklearn.py:835: UserWarning: `early_stopping_rounds` in `fit` method is deprecated for better compatibility with scikit-learn, use `early_stopping_rounds` in constructor or`set_params` instead.\n",
      "  warnings.warn(\n",
      " 81%|████████  | 81/100 [02:07<00:36,  1.95s/it]"
     ]
    },
    {
     "name": "stdout",
     "output_type": "stream",
     "text": [
      "SMAPE: 1.7450167297371562\n",
      "R2: 0.9918030115076087\n",
      "===== < BUILDING NO.82 > =====\n"
     ]
    },
    {
     "name": "stderr",
     "output_type": "stream",
     "text": [
      "/opt/conda/lib/python3.10/site-packages/xgboost/sklearn.py:835: UserWarning: `early_stopping_rounds` in `fit` method is deprecated for better compatibility with scikit-learn, use `early_stopping_rounds` in constructor or`set_params` instead.\n",
      "  warnings.warn(\n",
      " 82%|████████▏ | 82/100 [02:13<00:56,  3.16s/it]"
     ]
    },
    {
     "name": "stdout",
     "output_type": "stream",
     "text": [
      "SMAPE: 2.062635362144611\n",
      "R2: 0.9871176437793039\n",
      "===== < BUILDING NO.83 > =====\n"
     ]
    },
    {
     "name": "stderr",
     "output_type": "stream",
     "text": [
      "/opt/conda/lib/python3.10/site-packages/xgboost/sklearn.py:835: UserWarning: `early_stopping_rounds` in `fit` method is deprecated for better compatibility with scikit-learn, use `early_stopping_rounds` in constructor or`set_params` instead.\n",
      "  warnings.warn(\n",
      " 83%|████████▎ | 83/100 [02:14<00:43,  2.58s/it]"
     ]
    },
    {
     "name": "stdout",
     "output_type": "stream",
     "text": [
      "SMAPE: 1.497535147324334\n",
      "R2: 0.9943026934178416\n",
      "===== < BUILDING NO.84 > =====\n"
     ]
    },
    {
     "name": "stderr",
     "output_type": "stream",
     "text": [
      "/opt/conda/lib/python3.10/site-packages/xgboost/sklearn.py:835: UserWarning: `early_stopping_rounds` in `fit` method is deprecated for better compatibility with scikit-learn, use `early_stopping_rounds` in constructor or`set_params` instead.\n",
      "  warnings.warn(\n",
      " 84%|████████▍ | 84/100 [02:16<00:36,  2.25s/it]"
     ]
    },
    {
     "name": "stdout",
     "output_type": "stream",
     "text": [
      "SMAPE: 1.3276465432049291\n",
      "R2: 0.9925873429229188\n",
      "===== < BUILDING NO.85 > =====\n"
     ]
    },
    {
     "name": "stderr",
     "output_type": "stream",
     "text": [
      "/opt/conda/lib/python3.10/site-packages/xgboost/sklearn.py:835: UserWarning: `early_stopping_rounds` in `fit` method is deprecated for better compatibility with scikit-learn, use `early_stopping_rounds` in constructor or`set_params` instead.\n",
      "  warnings.warn(\n",
      " 85%|████████▌ | 85/100 [02:21<00:45,  3.06s/it]"
     ]
    },
    {
     "name": "stdout",
     "output_type": "stream",
     "text": [
      "SMAPE: 1.8373643714454613\n",
      "R2: 0.9456730970038871\n",
      "===== < BUILDING NO.86 > =====\n"
     ]
    },
    {
     "name": "stderr",
     "output_type": "stream",
     "text": [
      "/opt/conda/lib/python3.10/site-packages/xgboost/sklearn.py:835: UserWarning: `early_stopping_rounds` in `fit` method is deprecated for better compatibility with scikit-learn, use `early_stopping_rounds` in constructor or`set_params` instead.\n",
      "  warnings.warn(\n",
      " 86%|████████▌ | 86/100 [02:22<00:34,  2.49s/it]"
     ]
    },
    {
     "name": "stdout",
     "output_type": "stream",
     "text": [
      "SMAPE: 4.850684883845767\n",
      "R2: 0.775971950154437\n",
      "===== < BUILDING NO.87 > =====\n"
     ]
    },
    {
     "name": "stderr",
     "output_type": "stream",
     "text": [
      "/opt/conda/lib/python3.10/site-packages/xgboost/sklearn.py:835: UserWarning: `early_stopping_rounds` in `fit` method is deprecated for better compatibility with scikit-learn, use `early_stopping_rounds` in constructor or`set_params` instead.\n",
      "  warnings.warn(\n",
      " 87%|████████▋ | 87/100 [02:23<00:27,  2.12s/it]"
     ]
    },
    {
     "name": "stdout",
     "output_type": "stream",
     "text": [
      "SMAPE: 5.5841178904621875\n",
      "R2: 0.8225076428444532\n",
      "===== < BUILDING NO.88 > =====\n"
     ]
    },
    {
     "name": "stderr",
     "output_type": "stream",
     "text": [
      "/opt/conda/lib/python3.10/site-packages/xgboost/sklearn.py:835: UserWarning: `early_stopping_rounds` in `fit` method is deprecated for better compatibility with scikit-learn, use `early_stopping_rounds` in constructor or`set_params` instead.\n",
      "  warnings.warn(\n",
      " 88%|████████▊ | 88/100 [02:24<00:21,  1.81s/it]"
     ]
    },
    {
     "name": "stdout",
     "output_type": "stream",
     "text": [
      "SMAPE: 3.766632448166618\n",
      "R2: 0.8739348947397174\n",
      "===== < BUILDING NO.89 > =====\n"
     ]
    },
    {
     "name": "stderr",
     "output_type": "stream",
     "text": [
      "/opt/conda/lib/python3.10/site-packages/xgboost/sklearn.py:835: UserWarning: `early_stopping_rounds` in `fit` method is deprecated for better compatibility with scikit-learn, use `early_stopping_rounds` in constructor or`set_params` instead.\n",
      "  warnings.warn(\n",
      " 89%|████████▉ | 89/100 [02:25<00:17,  1.62s/it]"
     ]
    },
    {
     "name": "stdout",
     "output_type": "stream",
     "text": [
      "SMAPE: 4.236226554102335\n",
      "R2: 0.8199982629962352\n",
      "===== < BUILDING NO.90 > =====\n"
     ]
    },
    {
     "name": "stderr",
     "output_type": "stream",
     "text": [
      "/opt/conda/lib/python3.10/site-packages/xgboost/sklearn.py:835: UserWarning: `early_stopping_rounds` in `fit` method is deprecated for better compatibility with scikit-learn, use `early_stopping_rounds` in constructor or`set_params` instead.\n",
      "  warnings.warn(\n",
      " 90%|█████████ | 90/100 [02:28<00:19,  1.99s/it]"
     ]
    },
    {
     "name": "stdout",
     "output_type": "stream",
     "text": [
      "SMAPE: 4.331814576967058\n",
      "R2: 0.9212626381652762\n",
      "===== < BUILDING NO.91 > =====\n"
     ]
    },
    {
     "name": "stderr",
     "output_type": "stream",
     "text": [
      "/opt/conda/lib/python3.10/site-packages/xgboost/sklearn.py:835: UserWarning: `early_stopping_rounds` in `fit` method is deprecated for better compatibility with scikit-learn, use `early_stopping_rounds` in constructor or`set_params` instead.\n",
      "  warnings.warn(\n",
      " 91%|█████████ | 91/100 [02:30<00:16,  1.87s/it]"
     ]
    },
    {
     "name": "stdout",
     "output_type": "stream",
     "text": [
      "SMAPE: 6.458625793746524\n",
      "R2: 0.9280963286652838\n",
      "===== < BUILDING NO.92 > =====\n"
     ]
    },
    {
     "name": "stderr",
     "output_type": "stream",
     "text": [
      "/opt/conda/lib/python3.10/site-packages/xgboost/sklearn.py:835: UserWarning: `early_stopping_rounds` in `fit` method is deprecated for better compatibility with scikit-learn, use `early_stopping_rounds` in constructor or`set_params` instead.\n",
      "  warnings.warn(\n",
      " 92%|█████████▏| 92/100 [02:31<00:12,  1.59s/it]"
     ]
    },
    {
     "name": "stdout",
     "output_type": "stream",
     "text": [
      "SMAPE: 4.120474151511109\n",
      "R2: 0.8557563838597853\n",
      "===== < BUILDING NO.93 > =====\n"
     ]
    },
    {
     "name": "stderr",
     "output_type": "stream",
     "text": [
      "/opt/conda/lib/python3.10/site-packages/xgboost/sklearn.py:835: UserWarning: `early_stopping_rounds` in `fit` method is deprecated for better compatibility with scikit-learn, use `early_stopping_rounds` in constructor or`set_params` instead.\n",
      "  warnings.warn(\n",
      " 93%|█████████▎| 93/100 [02:33<00:13,  1.94s/it]"
     ]
    },
    {
     "name": "stdout",
     "output_type": "stream",
     "text": [
      "SMAPE: 3.040951808064286\n",
      "R2: 0.8896454501784379\n",
      "===== < BUILDING NO.94 > =====\n"
     ]
    },
    {
     "name": "stderr",
     "output_type": "stream",
     "text": [
      "/opt/conda/lib/python3.10/site-packages/xgboost/sklearn.py:835: UserWarning: `early_stopping_rounds` in `fit` method is deprecated for better compatibility with scikit-learn, use `early_stopping_rounds` in constructor or`set_params` instead.\n",
      "  warnings.warn(\n",
      " 94%|█████████▍| 94/100 [02:35<00:10,  1.78s/it]"
     ]
    },
    {
     "name": "stdout",
     "output_type": "stream",
     "text": [
      "SMAPE: 3.0860145602071376\n",
      "R2: 0.8985798264959164\n",
      "===== < BUILDING NO.95 > =====\n"
     ]
    },
    {
     "name": "stderr",
     "output_type": "stream",
     "text": [
      "/opt/conda/lib/python3.10/site-packages/xgboost/sklearn.py:835: UserWarning: `early_stopping_rounds` in `fit` method is deprecated for better compatibility with scikit-learn, use `early_stopping_rounds` in constructor or`set_params` instead.\n",
      "  warnings.warn(\n",
      " 95%|█████████▌| 95/100 [02:36<00:07,  1.52s/it]"
     ]
    },
    {
     "name": "stdout",
     "output_type": "stream",
     "text": [
      "SMAPE: 6.931617789405021\n",
      "R2: 0.6613899714805689\n",
      "===== < BUILDING NO.96 > =====\n"
     ]
    },
    {
     "name": "stderr",
     "output_type": "stream",
     "text": [
      "/opt/conda/lib/python3.10/site-packages/xgboost/sklearn.py:835: UserWarning: `early_stopping_rounds` in `fit` method is deprecated for better compatibility with scikit-learn, use `early_stopping_rounds` in constructor or`set_params` instead.\n",
      "  warnings.warn(\n",
      " 96%|█████████▌| 96/100 [02:37<00:05,  1.43s/it]"
     ]
    },
    {
     "name": "stdout",
     "output_type": "stream",
     "text": [
      "SMAPE: 1.3652719050666224\n",
      "R2: 0.9705848996133637\n",
      "===== < BUILDING NO.97 > =====\n"
     ]
    },
    {
     "name": "stderr",
     "output_type": "stream",
     "text": [
      "/opt/conda/lib/python3.10/site-packages/xgboost/sklearn.py:835: UserWarning: `early_stopping_rounds` in `fit` method is deprecated for better compatibility with scikit-learn, use `early_stopping_rounds` in constructor or`set_params` instead.\n",
      "  warnings.warn(\n",
      " 97%|█████████▋| 97/100 [02:38<00:04,  1.47s/it]"
     ]
    },
    {
     "name": "stdout",
     "output_type": "stream",
     "text": [
      "SMAPE: 2.90581804228281\n",
      "R2: 0.9110813920058481\n",
      "===== < BUILDING NO.98 > =====\n"
     ]
    },
    {
     "name": "stderr",
     "output_type": "stream",
     "text": [
      "/opt/conda/lib/python3.10/site-packages/xgboost/sklearn.py:835: UserWarning: `early_stopping_rounds` in `fit` method is deprecated for better compatibility with scikit-learn, use `early_stopping_rounds` in constructor or`set_params` instead.\n",
      "  warnings.warn(\n",
      " 98%|█████████▊| 98/100 [02:40<00:02,  1.37s/it]"
     ]
    },
    {
     "name": "stdout",
     "output_type": "stream",
     "text": [
      "SMAPE: 6.455782151672955\n",
      "R2: 0.8680712977269041\n",
      "===== < BUILDING NO.99 > =====\n"
     ]
    },
    {
     "name": "stderr",
     "output_type": "stream",
     "text": [
      "/opt/conda/lib/python3.10/site-packages/xgboost/sklearn.py:835: UserWarning: `early_stopping_rounds` in `fit` method is deprecated for better compatibility with scikit-learn, use `early_stopping_rounds` in constructor or`set_params` instead.\n",
      "  warnings.warn(\n",
      " 99%|█████████▉| 99/100 [02:41<00:01,  1.31s/it]"
     ]
    },
    {
     "name": "stdout",
     "output_type": "stream",
     "text": [
      "SMAPE: 1.714640903519672\n",
      "R2: 0.9770043906034206\n",
      "===== < BUILDING NO.100 > =====\n"
     ]
    },
    {
     "name": "stderr",
     "output_type": "stream",
     "text": [
      "/opt/conda/lib/python3.10/site-packages/xgboost/sklearn.py:835: UserWarning: `early_stopping_rounds` in `fit` method is deprecated for better compatibility with scikit-learn, use `early_stopping_rounds` in constructor or`set_params` instead.\n",
      "  warnings.warn(\n",
      "100%|██████████| 100/100 [02:42<00:00,  1.63s/it]"
     ]
    },
    {
     "name": "stdout",
     "output_type": "stream",
     "text": [
      "SMAPE: 2.7237784868028996\n",
      "R2: 0.9623124054018236\n"
     ]
    },
    {
     "name": "stderr",
     "output_type": "stream",
     "text": [
      "\n"
     ]
    }
   ],
   "source": [
    "pred_val_ens= []\n",
    "test_ens = []\n",
    "\n",
    "summary_list = []\n",
    "ans_val_list = []\n",
    "pred_val_list = []\n",
    "pred_test_list = []\n",
    "\n",
    "for i in tqdm(range(100)):\n",
    "    print(f\"===== < BUILDING NO.{i+1} > =====\")\n",
    "    summary_dict = {}\n",
    "\n",
    "    smape_val, r2_val, ans_val, pred_val, pred_test = fit_and_pred_XGB(train, test, i+1, seed=0)\n",
    "\n",
    "    summary_dict['건물번호'] = i+1\n",
    "    summary_dict['SMAPE'] = smape_val\n",
    "    summary_dict['R2'] = r2_val\n",
    "    summary_list.append(summary_dict)\n",
    "    ans_val_list.append(ans_val)\n",
    "    pred_val_list.append(pred_val)\n",
    "    pred_test_list.append(pred_test)\n",
    "\n",
    "ans_val_whole = np.concatenate(ans_val_list)\n",
    "pred_val_whole = np.concatenate(pred_val_list)\n",
    "pred_test_whole = np.concatenate(pred_test_list)\n",
    "smape_val =SMAPE(ans_val_whole, pred_val_whole)"
   ]
  },
  {
   "cell_type": "code",
   "execution_count": 33,
   "id": "c2f36727-3c6e-47bb-9308-6f4ab54b016d",
   "metadata": {
    "scrolled": true
   },
   "outputs": [
    {
     "data": {
      "text/plain": [
       "[{'건물번호': 1, 'SMAPE': 3.498611346685474, 'R2': 0.9505132437893566},\n",
       " {'건물번호': 2, 'SMAPE': 5.293149692920055, 'R2': 0.8348522802848739},\n",
       " {'건물번호': 3, 'SMAPE': 5.356015760282614, 'R2': 0.8317239037502239},\n",
       " {'건물번호': 4, 'SMAPE': 1.9496199263359284, 'R2': 0.9762195277260349},\n",
       " {'건물번호': 5, 'SMAPE': 3.7857848095046234, 'R2': 0.9553275085539296},\n",
       " {'건물번호': 6, 'SMAPE': 2.1892490411326784, 'R2': 0.967172993781067},\n",
       " {'건물번호': 7, 'SMAPE': 4.193700780841268, 'R2': 0.9114530612447274},\n",
       " {'건물번호': 8, 'SMAPE': 2.3769706796950647, 'R2': 0.738734383877521},\n",
       " {'건물번호': 9, 'SMAPE': 2.16289941970656, 'R2': 0.967354544053431},\n",
       " {'건물번호': 10, 'SMAPE': 3.544824546047977, 'R2': 0.4787061091828202},\n",
       " {'건물번호': 11, 'SMAPE': 1.7123269044155176, 'R2': 0.8951795398298666},\n",
       " {'건물번호': 12, 'SMAPE': 2.4624122023586574, 'R2': 0.8611547191554905},\n",
       " {'건물번호': 13, 'SMAPE': 3.8020252872378526, 'R2': 0.06425205045303584},\n",
       " {'건물번호': 14, 'SMAPE': 8.189375174857945, 'R2': 0.3001255022595253},\n",
       " {'건물번호': 15, 'SMAPE': 1.3960957705789798, 'R2': 0.9228701003346914},\n",
       " {'건물번호': 16, 'SMAPE': 2.37106666750909, 'R2': 0.979179132078914},\n",
       " {'건물번호': 17, 'SMAPE': 2.9756161842993314, 'R2': 0.9385202744996135},\n",
       " {'건물번호': 18, 'SMAPE': 3.165082367695018, 'R2': 0.9375511870537827},\n",
       " {'건물번호': 19, 'SMAPE': 4.358012297704934, 'R2': 0.9230614953424408},\n",
       " {'건물번호': 20, 'SMAPE': 2.5586305116839703, 'R2': 0.9785709236531792},\n",
       " {'건물번호': 21, 'SMAPE': 3.6659506192398292, 'R2': 0.9428450509662992},\n",
       " {'건물번호': 22, 'SMAPE': 1.902485722034615, 'R2': 0.9367990805900666},\n",
       " {'건물번호': 23, 'SMAPE': 0.9514831460618797, 'R2': 0.9632550515558436},\n",
       " {'건물번호': 24, 'SMAPE': 1.2794468921916642, 'R2': 0.9853502403705504},\n",
       " {'건물번호': 25, 'SMAPE': 1.1516069326919902, 'R2': 0.9847659748838598},\n",
       " {'건물번호': 26, 'SMAPE': 1.1736706196874707, 'R2': 0.98175166017241},\n",
       " {'건물번호': 27, 'SMAPE': 0.9084647467001031, 'R2': 0.9775322852392823},\n",
       " {'건물번호': 28, 'SMAPE': 2.3442610504342447, 'R2': 0.9622112572638699},\n",
       " {'건물번호': 29, 'SMAPE': 1.9620275137975263, 'R2': 0.9534660818164693},\n",
       " {'건물번호': 30, 'SMAPE': 3.3856411799114743, 'R2': 0.8823913463829575},\n",
       " {'건물번호': 31, 'SMAPE': 2.384384521486442, 'R2': 0.94324772686843},\n",
       " {'건물번호': 32, 'SMAPE': 0.18168687118474042, 'R2': 0.8716500227384778},\n",
       " {'건물번호': 33, 'SMAPE': 0.20891778105074252, 'R2': 0.7054608729440801},\n",
       " {'건물번호': 34, 'SMAPE': 0.4507656500730843, 'R2': 0.7307975289905393},\n",
       " {'건물번호': 35, 'SMAPE': 0.18468850679458235, 'R2': 0.9115293692906026},\n",
       " {'건물번호': 36, 'SMAPE': 0.3578870503331797, 'R2': 0.574332776557588},\n",
       " {'건물번호': 37, 'SMAPE': 2.660110985955761, 'R2': 0.9695916360038769},\n",
       " {'건물번호': 38, 'SMAPE': 2.2131404037796796, 'R2': 0.9891327941919511},\n",
       " {'건물번호': 39, 'SMAPE': 2.8645511876284258, 'R2': 0.9666631614328486},\n",
       " {'건물번호': 40, 'SMAPE': 6.643655640197986, 'R2': 0.8709919208716461},\n",
       " {'건물번호': 41, 'SMAPE': 2.2347387777521126, 'R2': 0.9854015286589034},\n",
       " {'건물번호': 42, 'SMAPE': 8.228826606906, 'R2': 0.8357761373008403},\n",
       " {'건물번호': 43, 'SMAPE': 2.9528802344260834, 'R2': 0.9955083927006674},\n",
       " {'건물번호': 44, 'SMAPE': 2.032185484045241, 'R2': 0.995921105373115},\n",
       " {'건물번호': 45, 'SMAPE': 1.1458782040514401, 'R2': 0.96757679741029},\n",
       " {'건물번호': 46, 'SMAPE': 2.3714425280938563, 'R2': 0.9450029202995658},\n",
       " {'건물번호': 47, 'SMAPE': 2.044764699812375, 'R2': 0.9413476203084042},\n",
       " {'건물번호': 48, 'SMAPE': 0.9768273462234967, 'R2': 0.9874124206907716},\n",
       " {'건물번호': 49, 'SMAPE': 1.3807927693226596, 'R2': 0.9447582834230677},\n",
       " {'건물번호': 50, 'SMAPE': 1.2009932920678894, 'R2': 0.9505989225566546},\n",
       " {'건물번호': 51, 'SMAPE': 2.0636869887810967, 'R2': 0.9226817695294973},\n",
       " {'건물번호': 52, 'SMAPE': 2.0493298626705543, 'R2': 0.9489697309683368},\n",
       " {'건물번호': 53, 'SMAPE': 5.340041274410151, 'R2': 0.9583782816579087},\n",
       " {'건물번호': 54, 'SMAPE': 10.663077734269486, 'R2': 0.7350227445210766},\n",
       " {'건물번호': 55, 'SMAPE': 0.8380785040874941, 'R2': 0.9062577506522023},\n",
       " {'건물번호': 56, 'SMAPE': 0.436452167015171, 'R2': 0.9264579482651879},\n",
       " {'건물번호': 57, 'SMAPE': 2.4157824816625957, 'R2': 0.985868447747852},\n",
       " {'건물번호': 58, 'SMAPE': 0.21341890017288512, 'R2': 0.9404798584567119},\n",
       " {'건물번호': 59, 'SMAPE': 2.7906883013793666, 'R2': 0.9816288680993065},\n",
       " {'건물번호': 60, 'SMAPE': 2.9905881730765027, 'R2': 0.9476653446138144},\n",
       " {'건물번호': 61, 'SMAPE': 2.3325793107355137, 'R2': 0.9419311184660939},\n",
       " {'건물번호': 62, 'SMAPE': 2.726030019359426, 'R2': 0.9200633805392667},\n",
       " {'건물번호': 63, 'SMAPE': 3.325040607868205, 'R2': 0.9046751977295702},\n",
       " {'건물번호': 64, 'SMAPE': 1.958886127511314, 'R2': 0.9553564388571527},\n",
       " {'건물번호': 65, 'SMAPE': 4.127504757150685, 'R2': 0.8851226254850699},\n",
       " {'건물번호': 66, 'SMAPE': 2.1232509656724003, 'R2': 0.8491745678471003},\n",
       " {'건물번호': 67, 'SMAPE': 2.70937445575454, 'R2': 0.8970033666233985},\n",
       " {'건물번호': 68, 'SMAPE': 2.1886706022607543, 'R2': 0.9487191283137584},\n",
       " {'건물번호': 69, 'SMAPE': 1.2091538313247658, 'R2': 0.9776313760133133},\n",
       " {'건물번호': 70, 'SMAPE': 3.759346043562698, 'R2': 0.8893023300973883},\n",
       " {'건물번호': 71, 'SMAPE': 2.2493401190950553, 'R2': 0.8897731373450036},\n",
       " {'건물번호': 72, 'SMAPE': 3.185010208474607, 'R2': 0.6825262184411249},\n",
       " {'건물번호': 73, 'SMAPE': 1.5649296968782316, 'R2': 0.8350323078445261},\n",
       " {'건물번호': 74, 'SMAPE': 3.0884551216243783, 'R2': 0.925112756541863},\n",
       " {'건물번호': 75, 'SMAPE': 1.9518594881003344, 'R2': 0.9305276733980469},\n",
       " {'건물번호': 76, 'SMAPE': 2.378903798467285, 'R2': 0.8056589748466432},\n",
       " {'건물번호': 77, 'SMAPE': 1.1479610035193055, 'R2': 0.993420805667553},\n",
       " {'건물번호': 78, 'SMAPE': 1.4670866115977244, 'R2': 0.9939958344760238},\n",
       " {'건물번호': 79, 'SMAPE': 1.4692884160996864, 'R2': 0.9817841410210375},\n",
       " {'건물번호': 80, 'SMAPE': 2.171891235615472, 'R2': 0.9895727614599519},\n",
       " {'건물번호': 81, 'SMAPE': 1.7450167297371562, 'R2': 0.9918030115076087},\n",
       " {'건물번호': 82, 'SMAPE': 2.062635362144611, 'R2': 0.9871176437793039},\n",
       " {'건물번호': 83, 'SMAPE': 1.497535147324334, 'R2': 0.9943026934178416},\n",
       " {'건물번호': 84, 'SMAPE': 1.3276465432049291, 'R2': 0.9925873429229188},\n",
       " {'건물번호': 85, 'SMAPE': 1.8373643714454613, 'R2': 0.9456730970038871},\n",
       " {'건물번호': 86, 'SMAPE': 4.850684883845767, 'R2': 0.775971950154437},\n",
       " {'건물번호': 87, 'SMAPE': 5.5841178904621875, 'R2': 0.8225076428444532},\n",
       " {'건물번호': 88, 'SMAPE': 3.766632448166618, 'R2': 0.8739348947397174},\n",
       " {'건물번호': 89, 'SMAPE': 4.236226554102335, 'R2': 0.8199982629962352},\n",
       " {'건물번호': 90, 'SMAPE': 4.331814576967058, 'R2': 0.9212626381652762},\n",
       " {'건물번호': 91, 'SMAPE': 6.458625793746524, 'R2': 0.9280963286652838},\n",
       " {'건물번호': 92, 'SMAPE': 4.120474151511109, 'R2': 0.8557563838597853},\n",
       " {'건물번호': 93, 'SMAPE': 3.040951808064286, 'R2': 0.8896454501784379},\n",
       " {'건물번호': 94, 'SMAPE': 3.0860145602071376, 'R2': 0.8985798264959164},\n",
       " {'건물번호': 95, 'SMAPE': 6.931617789405021, 'R2': 0.6613899714805689},\n",
       " {'건물번호': 96, 'SMAPE': 1.3652719050666224, 'R2': 0.9705848996133637},\n",
       " {'건물번호': 97, 'SMAPE': 2.90581804228281, 'R2': 0.9110813920058481},\n",
       " {'건물번호': 98, 'SMAPE': 6.455782151672955, 'R2': 0.8680712977269041},\n",
       " {'건물번호': 99, 'SMAPE': 1.714640903519672, 'R2': 0.9770043906034206},\n",
       " {'건물번호': 100, 'SMAPE': 2.7237784868028996, 'R2': 0.9623124054018236}]"
      ]
     },
     "execution_count": 33,
     "metadata": {},
     "output_type": "execute_result"
    }
   ],
   "source": [
    "summary_list"
   ]
  },
  {
   "cell_type": "code",
   "execution_count": 34,
   "id": "9acb0323-98e5-46f1-9376-c42f45301037",
   "metadata": {},
   "outputs": [
    {
     "data": {
      "text/plain": [
       "2.757639832433073"
      ]
     },
     "execution_count": 34,
     "metadata": {},
     "output_type": "execute_result"
    }
   ],
   "source": [
    "smape_val"
   ]
  },
  {
   "cell_type": "code",
   "execution_count": 71,
   "id": "6b4a9857-1140-42b3-9816-cf476903ad72",
   "metadata": {},
   "outputs": [],
   "source": [
    "sub = pd.read_csv('sample_submission.csv')\n",
    "sub['answer'] = pred_test_whole\n",
    "sub.to_csv('xgb_sub_15.csv', index=False)"
   ]
  },
  {
   "cell_type": "markdown",
   "id": "5364f5ef-42ce-4735-84eb-2bda4490e530",
   "metadata": {},
   "source": [
    "### Improvement"
   ]
  },
  {
   "cell_type": "code",
   "execution_count": 35,
   "id": "9322016f-b3d8-4efe-b92b-ca65bfd6fdea",
   "metadata": {},
   "outputs": [],
   "source": [
    "train['적정온도차이'] = train['기온(C)'] - 26"
   ]
  },
  {
   "cell_type": "code",
   "execution_count": 36,
   "id": "ae38640c-64c3-4b3b-82fa-f944ae094edd",
   "metadata": {},
   "outputs": [],
   "source": [
    "test['적정온도차이'] = test['기온(C)'] - 26"
   ]
  },
  {
   "cell_type": "code",
   "execution_count": 34,
   "id": "dd2200c1-342a-4409-ab51-3b7f3b0cfb34",
   "metadata": {},
   "outputs": [
    {
     "data": {
      "text/html": [
       "<div>\n",
       "<style scoped>\n",
       "    .dataframe tbody tr th:only-of-type {\n",
       "        vertical-align: middle;\n",
       "    }\n",
       "\n",
       "    .dataframe tbody tr th {\n",
       "        vertical-align: top;\n",
       "    }\n",
       "\n",
       "    .dataframe thead th {\n",
       "        text-align: right;\n",
       "    }\n",
       "</style>\n",
       "<table border=\"1\" class=\"dataframe\">\n",
       "  <thead>\n",
       "    <tr style=\"text-align: right;\">\n",
       "      <th></th>\n",
       "      <th>건물번호</th>\n",
       "      <th>기온(C)</th>\n",
       "      <th>강수량(mm)</th>\n",
       "      <th>풍속(m/s)</th>\n",
       "      <th>습도(%)</th>\n",
       "      <th>month</th>\n",
       "      <th>day</th>\n",
       "      <th>holiday</th>\n",
       "      <th>sin_time</th>\n",
       "      <th>cos_time</th>\n",
       "      <th>DI</th>\n",
       "      <th>power</th>\n",
       "      <th>적정온도차이</th>\n",
       "    </tr>\n",
       "  </thead>\n",
       "  <tbody>\n",
       "    <tr>\n",
       "      <th>0</th>\n",
       "      <td>1</td>\n",
       "      <td>18.6</td>\n",
       "      <td>0.0</td>\n",
       "      <td>0.9</td>\n",
       "      <td>42.0</td>\n",
       "      <td>6</td>\n",
       "      <td>2</td>\n",
       "      <td>0</td>\n",
       "      <td>0.000000</td>\n",
       "      <td>1.000000</td>\n",
       "      <td>234.154</td>\n",
       "      <td>1085.28</td>\n",
       "      <td>-7.4</td>\n",
       "    </tr>\n",
       "    <tr>\n",
       "      <th>1</th>\n",
       "      <td>1</td>\n",
       "      <td>18.0</td>\n",
       "      <td>0.0</td>\n",
       "      <td>1.1</td>\n",
       "      <td>45.0</td>\n",
       "      <td>6</td>\n",
       "      <td>2</td>\n",
       "      <td>0</td>\n",
       "      <td>0.258819</td>\n",
       "      <td>0.965926</td>\n",
       "      <td>219.280</td>\n",
       "      <td>1047.36</td>\n",
       "      <td>-8.0</td>\n",
       "    </tr>\n",
       "    <tr>\n",
       "      <th>2</th>\n",
       "      <td>1</td>\n",
       "      <td>17.7</td>\n",
       "      <td>0.0</td>\n",
       "      <td>1.5</td>\n",
       "      <td>45.0</td>\n",
       "      <td>6</td>\n",
       "      <td>2</td>\n",
       "      <td>0</td>\n",
       "      <td>0.500000</td>\n",
       "      <td>0.866025</td>\n",
       "      <td>205.672</td>\n",
       "      <td>974.88</td>\n",
       "      <td>-8.3</td>\n",
       "    </tr>\n",
       "    <tr>\n",
       "      <th>3</th>\n",
       "      <td>1</td>\n",
       "      <td>16.7</td>\n",
       "      <td>0.0</td>\n",
       "      <td>1.4</td>\n",
       "      <td>48.0</td>\n",
       "      <td>6</td>\n",
       "      <td>2</td>\n",
       "      <td>0</td>\n",
       "      <td>0.707107</td>\n",
       "      <td>0.707107</td>\n",
       "      <td>167.011</td>\n",
       "      <td>953.76</td>\n",
       "      <td>-9.3</td>\n",
       "    </tr>\n",
       "    <tr>\n",
       "      <th>4</th>\n",
       "      <td>1</td>\n",
       "      <td>18.4</td>\n",
       "      <td>0.0</td>\n",
       "      <td>2.8</td>\n",
       "      <td>43.0</td>\n",
       "      <td>6</td>\n",
       "      <td>2</td>\n",
       "      <td>0</td>\n",
       "      <td>0.866025</td>\n",
       "      <td>0.500000</td>\n",
       "      <td>229.592</td>\n",
       "      <td>986.40</td>\n",
       "      <td>-7.6</td>\n",
       "    </tr>\n",
       "  </tbody>\n",
       "</table>\n",
       "</div>"
      ],
      "text/plain": [
       "   건물번호  기온(C)  강수량(mm)  풍속(m/s)  습도(%)  month  day  holiday  sin_time  \\\n",
       "0     1   18.6      0.0      0.9   42.0      6    2        0  0.000000   \n",
       "1     1   18.0      0.0      1.1   45.0      6    2        0  0.258819   \n",
       "2     1   17.7      0.0      1.5   45.0      6    2        0  0.500000   \n",
       "3     1   16.7      0.0      1.4   48.0      6    2        0  0.707107   \n",
       "4     1   18.4      0.0      2.8   43.0      6    2        0  0.866025   \n",
       "\n",
       "   cos_time       DI    power  적정온도차이  \n",
       "0  1.000000  234.154  1085.28    -7.4  \n",
       "1  0.965926  219.280  1047.36    -8.0  \n",
       "2  0.866025  205.672   974.88    -8.3  \n",
       "3  0.707107  167.011   953.76    -9.3  \n",
       "4  0.500000  229.592   986.40    -7.6  "
      ]
     },
     "execution_count": 34,
     "metadata": {},
     "output_type": "execute_result"
    }
   ],
   "source": [
    "train.head()"
   ]
  },
  {
   "cell_type": "code",
   "execution_count": 37,
   "id": "2018f85a-5c5f-4cb0-9506-f616f962d16a",
   "metadata": {},
   "outputs": [],
   "source": [
    "def weighted_mse(alpha = 1):\n",
    "    def weighted_mse_fixed(label, pred):\n",
    "        residual = (label - pred).astype(\"float\")\n",
    "        grad = np.where(residual>0, -2*alpha*residual, -2*residual)\n",
    "        hess = np.where(residual>0, 2*alpha, 2.0)\n",
    "        return grad, hess\n",
    "    return weighted_mse_fixed"
   ]
  },
  {
   "cell_type": "code",
   "execution_count": 38,
   "id": "b060a2f4-0bce-434c-96a8-b40f6b6058ff",
   "metadata": {},
   "outputs": [],
   "source": [
    "def fit_and_pred_XGB_with_weight(train, test, number, weight, seed=0):\n",
    "    x_train, x_valid, y_train, y_valid = tr_ts_split(train, test, number, 7*24)\n",
    "\n",
    "    xgb_reg = XGBRegressor(n_estimators=10000, eta=0.01, seed=seed,\n",
    "                            gpu_id=0, tree_method='gpu_hist', predictor='gpu_predictor')\n",
    "    xgb_reg.set_params(**{'objective':weighted_mse(weight)})\n",
    "    xgb_reg.fit(x_train, y_train, eval_set=[(x_train, y_train), (x_valid, y_valid)],\n",
    "                early_stopping_rounds=300, verbose=False)\n",
    "    pred = xgb_reg.predict(x_valid)\n",
    "    pred = pd.Series(pred)\n",
    "    \n",
    "    x_test = test[test['건물번호']==number]\n",
    "    y_test_pred = xgb_reg.predict(x_test.drop('건물번호', axis=1))\n",
    "\n",
    "    smape_val = SMAPE(y_valid, pred)\n",
    "    r2_val = sklearn.metrics.r2_score(y_valid, pred)\n",
    "    print(f'SMAPE: {smape_val}')\n",
    "    print(f'R2: {r2_val}')\n",
    "    return smape_val, r2_val, y_valid, pred, y_test_pred"
   ]
  },
  {
   "cell_type": "code",
   "execution_count": 44,
   "id": "a5c5d280-1e96-469e-8f6d-7133e8c4aa95",
   "metadata": {
    "scrolled": true
   },
   "outputs": [
    {
     "name": "stderr",
     "output_type": "stream",
     "text": [
      "  0%|          | 0/100 [00:00<?, ?it/s]/opt/conda/lib/python3.10/site-packages/xgboost/sklearn.py:835: UserWarning: `early_stopping_rounds` in `fit` method is deprecated for better compatibility with scikit-learn, use `early_stopping_rounds` in constructor or`set_params` instead.\n",
      "  warnings.warn(\n"
     ]
    },
    {
     "name": "stdout",
     "output_type": "stream",
     "text": [
      "===== < BUILDING NO.1 > =====\n"
     ]
    },
    {
     "name": "stderr",
     "output_type": "stream",
     "text": [
      "  1%|          | 1/100 [00:01<02:57,  1.80s/it]"
     ]
    },
    {
     "name": "stdout",
     "output_type": "stream",
     "text": [
      "SMAPE: 3.883634407146668\n",
      "R2: 0.9428148434678705\n",
      "===== < BUILDING NO.2 > =====\n"
     ]
    },
    {
     "name": "stderr",
     "output_type": "stream",
     "text": [
      "/opt/conda/lib/python3.10/site-packages/xgboost/sklearn.py:835: UserWarning: `early_stopping_rounds` in `fit` method is deprecated for better compatibility with scikit-learn, use `early_stopping_rounds` in constructor or`set_params` instead.\n",
      "  warnings.warn(\n",
      "  2%|▏         | 2/100 [00:03<02:26,  1.50s/it]"
     ]
    },
    {
     "name": "stdout",
     "output_type": "stream",
     "text": [
      "SMAPE: 5.256542311528698\n",
      "R2: 0.8268383595313882\n",
      "===== < BUILDING NO.3 > =====\n"
     ]
    },
    {
     "name": "stderr",
     "output_type": "stream",
     "text": [
      "/opt/conda/lib/python3.10/site-packages/xgboost/sklearn.py:835: UserWarning: `early_stopping_rounds` in `fit` method is deprecated for better compatibility with scikit-learn, use `early_stopping_rounds` in constructor or`set_params` instead.\n",
      "  warnings.warn(\n",
      "  3%|▎         | 3/100 [00:04<02:11,  1.35s/it]"
     ]
    },
    {
     "name": "stdout",
     "output_type": "stream",
     "text": [
      "SMAPE: 5.545908115619256\n",
      "R2: 0.8225081381620768\n",
      "===== < BUILDING NO.4 > =====\n"
     ]
    },
    {
     "name": "stderr",
     "output_type": "stream",
     "text": [
      "/opt/conda/lib/python3.10/site-packages/xgboost/sklearn.py:835: UserWarning: `early_stopping_rounds` in `fit` method is deprecated for better compatibility with scikit-learn, use `early_stopping_rounds` in constructor or`set_params` instead.\n",
      "  warnings.warn(\n",
      "  4%|▍         | 4/100 [00:05<02:12,  1.39s/it]"
     ]
    },
    {
     "name": "stdout",
     "output_type": "stream",
     "text": [
      "SMAPE: 2.0216084532929974\n",
      "R2: 0.9738995748382593\n",
      "===== < BUILDING NO.5 > =====\n"
     ]
    },
    {
     "name": "stderr",
     "output_type": "stream",
     "text": [
      "/opt/conda/lib/python3.10/site-packages/xgboost/sklearn.py:835: UserWarning: `early_stopping_rounds` in `fit` method is deprecated for better compatibility with scikit-learn, use `early_stopping_rounds` in constructor or`set_params` instead.\n",
      "  warnings.warn(\n",
      "  5%|▌         | 5/100 [00:07<02:42,  1.71s/it]"
     ]
    },
    {
     "name": "stdout",
     "output_type": "stream",
     "text": [
      "SMAPE: 2.8028523787496087\n",
      "R2: 0.9733667899879699\n",
      "===== < BUILDING NO.6 > =====\n"
     ]
    },
    {
     "name": "stderr",
     "output_type": "stream",
     "text": [
      "/opt/conda/lib/python3.10/site-packages/xgboost/sklearn.py:835: UserWarning: `early_stopping_rounds` in `fit` method is deprecated for better compatibility with scikit-learn, use `early_stopping_rounds` in constructor or`set_params` instead.\n",
      "  warnings.warn(\n",
      "  6%|▌         | 6/100 [00:09<02:47,  1.78s/it]"
     ]
    },
    {
     "name": "stdout",
     "output_type": "stream",
     "text": [
      "SMAPE: 1.861585193427125\n",
      "R2: 0.981714605738076\n",
      "===== < BUILDING NO.7 > =====\n"
     ]
    },
    {
     "name": "stderr",
     "output_type": "stream",
     "text": [
      "/opt/conda/lib/python3.10/site-packages/xgboost/sklearn.py:835: UserWarning: `early_stopping_rounds` in `fit` method is deprecated for better compatibility with scikit-learn, use `early_stopping_rounds` in constructor or`set_params` instead.\n",
      "  warnings.warn(\n",
      "  7%|▋         | 7/100 [00:11<02:33,  1.65s/it]"
     ]
    },
    {
     "name": "stdout",
     "output_type": "stream",
     "text": [
      "SMAPE: 5.0474765252492375\n",
      "R2: 0.8962074296471658\n",
      "===== < BUILDING NO.8 > =====\n"
     ]
    },
    {
     "name": "stderr",
     "output_type": "stream",
     "text": [
      "/opt/conda/lib/python3.10/site-packages/xgboost/sklearn.py:835: UserWarning: `early_stopping_rounds` in `fit` method is deprecated for better compatibility with scikit-learn, use `early_stopping_rounds` in constructor or`set_params` instead.\n",
      "  warnings.warn(\n",
      "  8%|▊         | 8/100 [00:12<02:30,  1.63s/it]"
     ]
    },
    {
     "name": "stdout",
     "output_type": "stream",
     "text": [
      "SMAPE: 2.5489555005401963\n",
      "R2: 0.7355127209176974\n",
      "===== < BUILDING NO.9 > =====\n"
     ]
    },
    {
     "name": "stderr",
     "output_type": "stream",
     "text": [
      "/opt/conda/lib/python3.10/site-packages/xgboost/sklearn.py:835: UserWarning: `early_stopping_rounds` in `fit` method is deprecated for better compatibility with scikit-learn, use `early_stopping_rounds` in constructor or`set_params` instead.\n",
      "  warnings.warn(\n",
      "  9%|▉         | 9/100 [00:14<02:33,  1.69s/it]"
     ]
    },
    {
     "name": "stdout",
     "output_type": "stream",
     "text": [
      "SMAPE: 2.0478630548996173\n",
      "R2: 0.975397976943655\n",
      "===== < BUILDING NO.10 > =====\n"
     ]
    },
    {
     "name": "stderr",
     "output_type": "stream",
     "text": [
      "/opt/conda/lib/python3.10/site-packages/xgboost/sklearn.py:835: UserWarning: `early_stopping_rounds` in `fit` method is deprecated for better compatibility with scikit-learn, use `early_stopping_rounds` in constructor or`set_params` instead.\n",
      "  warnings.warn(\n",
      " 10%|█         | 10/100 [00:16<02:21,  1.57s/it]"
     ]
    },
    {
     "name": "stdout",
     "output_type": "stream",
     "text": [
      "SMAPE: 3.907172078032968\n",
      "R2: 0.32611646656584903\n",
      "===== < BUILDING NO.11 > =====\n"
     ]
    },
    {
     "name": "stderr",
     "output_type": "stream",
     "text": [
      "/opt/conda/lib/python3.10/site-packages/xgboost/sklearn.py:835: UserWarning: `early_stopping_rounds` in `fit` method is deprecated for better compatibility with scikit-learn, use `early_stopping_rounds` in constructor or`set_params` instead.\n",
      "  warnings.warn(\n",
      " 11%|█         | 11/100 [00:17<02:23,  1.62s/it]"
     ]
    },
    {
     "name": "stdout",
     "output_type": "stream",
     "text": [
      "SMAPE: 1.676392266013526\n",
      "R2: 0.9014899611347567\n",
      "===== < BUILDING NO.12 > =====\n"
     ]
    },
    {
     "name": "stderr",
     "output_type": "stream",
     "text": [
      "/opt/conda/lib/python3.10/site-packages/xgboost/sklearn.py:835: UserWarning: `early_stopping_rounds` in `fit` method is deprecated for better compatibility with scikit-learn, use `early_stopping_rounds` in constructor or`set_params` instead.\n",
      "  warnings.warn(\n",
      " 12%|█▏        | 12/100 [00:20<02:56,  2.00s/it]"
     ]
    },
    {
     "name": "stdout",
     "output_type": "stream",
     "text": [
      "SMAPE: 1.8723574629050932\n",
      "R2: 0.9008362680544917\n",
      "===== < BUILDING NO.13 > =====\n"
     ]
    },
    {
     "name": "stderr",
     "output_type": "stream",
     "text": [
      "/opt/conda/lib/python3.10/site-packages/xgboost/sklearn.py:835: UserWarning: `early_stopping_rounds` in `fit` method is deprecated for better compatibility with scikit-learn, use `early_stopping_rounds` in constructor or`set_params` instead.\n",
      "  warnings.warn(\n",
      " 13%|█▎        | 13/100 [00:22<02:48,  1.93s/it]"
     ]
    },
    {
     "name": "stdout",
     "output_type": "stream",
     "text": [
      "SMAPE: 3.0274657714415754\n",
      "R2: 0.3797024654736437\n",
      "===== < BUILDING NO.14 > =====\n"
     ]
    },
    {
     "name": "stderr",
     "output_type": "stream",
     "text": [
      "/opt/conda/lib/python3.10/site-packages/xgboost/sklearn.py:835: UserWarning: `early_stopping_rounds` in `fit` method is deprecated for better compatibility with scikit-learn, use `early_stopping_rounds` in constructor or`set_params` instead.\n",
      "  warnings.warn(\n",
      " 14%|█▍        | 14/100 [00:23<02:28,  1.73s/it]"
     ]
    },
    {
     "name": "stdout",
     "output_type": "stream",
     "text": [
      "SMAPE: 8.411099584140395\n",
      "R2: 0.2536910586619444\n",
      "===== < BUILDING NO.15 > =====\n"
     ]
    },
    {
     "name": "stderr",
     "output_type": "stream",
     "text": [
      "/opt/conda/lib/python3.10/site-packages/xgboost/sklearn.py:835: UserWarning: `early_stopping_rounds` in `fit` method is deprecated for better compatibility with scikit-learn, use `early_stopping_rounds` in constructor or`set_params` instead.\n",
      "  warnings.warn(\n",
      " 15%|█▌        | 15/100 [00:25<02:24,  1.70s/it]"
     ]
    },
    {
     "name": "stdout",
     "output_type": "stream",
     "text": [
      "SMAPE: 1.2548517916499227\n",
      "R2: 0.9371161321264849\n",
      "===== < BUILDING NO.16 > =====\n"
     ]
    },
    {
     "name": "stderr",
     "output_type": "stream",
     "text": [
      "/opt/conda/lib/python3.10/site-packages/xgboost/sklearn.py:835: UserWarning: `early_stopping_rounds` in `fit` method is deprecated for better compatibility with scikit-learn, use `early_stopping_rounds` in constructor or`set_params` instead.\n",
      "  warnings.warn(\n",
      " 16%|█▌        | 16/100 [00:26<02:16,  1.63s/it]"
     ]
    },
    {
     "name": "stdout",
     "output_type": "stream",
     "text": [
      "SMAPE: 2.2092638330705237\n",
      "R2: 0.9848943403666937\n",
      "===== < BUILDING NO.17 > =====\n"
     ]
    },
    {
     "name": "stderr",
     "output_type": "stream",
     "text": [
      "/opt/conda/lib/python3.10/site-packages/xgboost/sklearn.py:835: UserWarning: `early_stopping_rounds` in `fit` method is deprecated for better compatibility with scikit-learn, use `early_stopping_rounds` in constructor or`set_params` instead.\n",
      "  warnings.warn(\n",
      " 17%|█▋        | 17/100 [00:28<02:23,  1.72s/it]"
     ]
    },
    {
     "name": "stdout",
     "output_type": "stream",
     "text": [
      "SMAPE: 2.9155781243960273\n",
      "R2: 0.9459348281219652\n",
      "===== < BUILDING NO.18 > =====\n"
     ]
    },
    {
     "name": "stderr",
     "output_type": "stream",
     "text": [
      "/opt/conda/lib/python3.10/site-packages/xgboost/sklearn.py:835: UserWarning: `early_stopping_rounds` in `fit` method is deprecated for better compatibility with scikit-learn, use `early_stopping_rounds` in constructor or`set_params` instead.\n",
      "  warnings.warn(\n",
      " 18%|█▊        | 18/100 [00:30<02:28,  1.81s/it]"
     ]
    },
    {
     "name": "stdout",
     "output_type": "stream",
     "text": [
      "SMAPE: 3.3829864057136083\n",
      "R2: 0.9332030692073239\n",
      "===== < BUILDING NO.19 > =====\n"
     ]
    },
    {
     "name": "stderr",
     "output_type": "stream",
     "text": [
      "/opt/conda/lib/python3.10/site-packages/xgboost/sklearn.py:835: UserWarning: `early_stopping_rounds` in `fit` method is deprecated for better compatibility with scikit-learn, use `early_stopping_rounds` in constructor or`set_params` instead.\n",
      "  warnings.warn(\n",
      " 19%|█▉        | 19/100 [00:33<02:43,  2.02s/it]"
     ]
    },
    {
     "name": "stdout",
     "output_type": "stream",
     "text": [
      "SMAPE: 4.304075013735136\n",
      "R2: 0.9364720115975896\n",
      "===== < BUILDING NO.20 > =====\n"
     ]
    },
    {
     "name": "stderr",
     "output_type": "stream",
     "text": [
      "/opt/conda/lib/python3.10/site-packages/xgboost/sklearn.py:835: UserWarning: `early_stopping_rounds` in `fit` method is deprecated for better compatibility with scikit-learn, use `early_stopping_rounds` in constructor or`set_params` instead.\n",
      "  warnings.warn(\n",
      " 20%|██        | 20/100 [00:35<02:37,  1.97s/it]"
     ]
    },
    {
     "name": "stdout",
     "output_type": "stream",
     "text": [
      "SMAPE: 2.378545266421429\n",
      "R2: 0.9764064401504943\n",
      "===== < BUILDING NO.21 > =====\n"
     ]
    },
    {
     "name": "stderr",
     "output_type": "stream",
     "text": [
      "/opt/conda/lib/python3.10/site-packages/xgboost/sklearn.py:835: UserWarning: `early_stopping_rounds` in `fit` method is deprecated for better compatibility with scikit-learn, use `early_stopping_rounds` in constructor or`set_params` instead.\n",
      "  warnings.warn(\n",
      " 21%|██        | 21/100 [00:36<02:31,  1.92s/it]"
     ]
    },
    {
     "name": "stdout",
     "output_type": "stream",
     "text": [
      "SMAPE: 3.9669116215508895\n",
      "R2: 0.933790666753363\n",
      "===== < BUILDING NO.22 > =====\n"
     ]
    },
    {
     "name": "stderr",
     "output_type": "stream",
     "text": [
      "/opt/conda/lib/python3.10/site-packages/xgboost/sklearn.py:835: UserWarning: `early_stopping_rounds` in `fit` method is deprecated for better compatibility with scikit-learn, use `early_stopping_rounds` in constructor or`set_params` instead.\n",
      "  warnings.warn(\n",
      " 22%|██▏       | 22/100 [00:38<02:26,  1.87s/it]"
     ]
    },
    {
     "name": "stdout",
     "output_type": "stream",
     "text": [
      "SMAPE: 1.8200203037843907\n",
      "R2: 0.9429240295041776\n",
      "===== < BUILDING NO.23 > =====\n"
     ]
    },
    {
     "name": "stderr",
     "output_type": "stream",
     "text": [
      "/opt/conda/lib/python3.10/site-packages/xgboost/sklearn.py:835: UserWarning: `early_stopping_rounds` in `fit` method is deprecated for better compatibility with scikit-learn, use `early_stopping_rounds` in constructor or`set_params` instead.\n",
      "  warnings.warn(\n",
      " 23%|██▎       | 23/100 [00:40<02:35,  2.02s/it]"
     ]
    },
    {
     "name": "stdout",
     "output_type": "stream",
     "text": [
      "SMAPE: 0.9373158040898235\n",
      "R2: 0.966113940778409\n",
      "===== < BUILDING NO.24 > =====\n"
     ]
    },
    {
     "name": "stderr",
     "output_type": "stream",
     "text": [
      "/opt/conda/lib/python3.10/site-packages/xgboost/sklearn.py:835: UserWarning: `early_stopping_rounds` in `fit` method is deprecated for better compatibility with scikit-learn, use `early_stopping_rounds` in constructor or`set_params` instead.\n",
      "  warnings.warn(\n",
      " 24%|██▍       | 24/100 [00:43<02:40,  2.11s/it]"
     ]
    },
    {
     "name": "stdout",
     "output_type": "stream",
     "text": [
      "SMAPE: 1.288296737357208\n",
      "R2: 0.9864269965196982\n",
      "===== < BUILDING NO.25 > =====\n"
     ]
    },
    {
     "name": "stderr",
     "output_type": "stream",
     "text": [
      "/opt/conda/lib/python3.10/site-packages/xgboost/sklearn.py:835: UserWarning: `early_stopping_rounds` in `fit` method is deprecated for better compatibility with scikit-learn, use `early_stopping_rounds` in constructor or`set_params` instead.\n",
      "  warnings.warn(\n",
      " 25%|██▌       | 25/100 [00:45<02:44,  2.20s/it]"
     ]
    },
    {
     "name": "stdout",
     "output_type": "stream",
     "text": [
      "SMAPE: 1.0654398164794496\n",
      "R2: 0.9887994766418751\n",
      "===== < BUILDING NO.26 > =====\n"
     ]
    },
    {
     "name": "stderr",
     "output_type": "stream",
     "text": [
      "/opt/conda/lib/python3.10/site-packages/xgboost/sklearn.py:835: UserWarning: `early_stopping_rounds` in `fit` method is deprecated for better compatibility with scikit-learn, use `early_stopping_rounds` in constructor or`set_params` instead.\n",
      "  warnings.warn(\n",
      " 26%|██▌       | 26/100 [00:47<02:31,  2.05s/it]"
     ]
    },
    {
     "name": "stdout",
     "output_type": "stream",
     "text": [
      "SMAPE: 0.9936471600354451\n",
      "R2: 0.9862221989284544\n",
      "===== < BUILDING NO.27 > =====\n"
     ]
    },
    {
     "name": "stderr",
     "output_type": "stream",
     "text": [
      "/opt/conda/lib/python3.10/site-packages/xgboost/sklearn.py:835: UserWarning: `early_stopping_rounds` in `fit` method is deprecated for better compatibility with scikit-learn, use `early_stopping_rounds` in constructor or`set_params` instead.\n",
      "  warnings.warn(\n",
      " 27%|██▋       | 27/100 [00:49<02:22,  1.95s/it]"
     ]
    },
    {
     "name": "stdout",
     "output_type": "stream",
     "text": [
      "SMAPE: 0.8588802301263323\n",
      "R2: 0.9817016980675318\n",
      "===== < BUILDING NO.28 > =====\n"
     ]
    },
    {
     "name": "stderr",
     "output_type": "stream",
     "text": [
      "/opt/conda/lib/python3.10/site-packages/xgboost/sklearn.py:835: UserWarning: `early_stopping_rounds` in `fit` method is deprecated for better compatibility with scikit-learn, use `early_stopping_rounds` in constructor or`set_params` instead.\n",
      "  warnings.warn(\n",
      " 28%|██▊       | 28/100 [00:50<02:06,  1.76s/it]"
     ]
    },
    {
     "name": "stdout",
     "output_type": "stream",
     "text": [
      "SMAPE: 2.695373169555824\n",
      "R2: 0.9583253430170969\n",
      "===== < BUILDING NO.29 > =====\n"
     ]
    },
    {
     "name": "stderr",
     "output_type": "stream",
     "text": [
      "/opt/conda/lib/python3.10/site-packages/xgboost/sklearn.py:835: UserWarning: `early_stopping_rounds` in `fit` method is deprecated for better compatibility with scikit-learn, use `early_stopping_rounds` in constructor or`set_params` instead.\n",
      "  warnings.warn(\n",
      " 29%|██▉       | 29/100 [00:51<01:59,  1.68s/it]"
     ]
    },
    {
     "name": "stdout",
     "output_type": "stream",
     "text": [
      "SMAPE: 1.976031642209499\n",
      "R2: 0.9524808637651322\n",
      "===== < BUILDING NO.30 > =====\n"
     ]
    },
    {
     "name": "stderr",
     "output_type": "stream",
     "text": [
      "/opt/conda/lib/python3.10/site-packages/xgboost/sklearn.py:835: UserWarning: `early_stopping_rounds` in `fit` method is deprecated for better compatibility with scikit-learn, use `early_stopping_rounds` in constructor or`set_params` instead.\n",
      "  warnings.warn(\n",
      " 30%|███       | 30/100 [00:53<01:55,  1.65s/it]"
     ]
    },
    {
     "name": "stdout",
     "output_type": "stream",
     "text": [
      "SMAPE: 3.5546984752156083\n",
      "R2: 0.8875174353264503\n",
      "===== < BUILDING NO.31 > =====\n"
     ]
    },
    {
     "name": "stderr",
     "output_type": "stream",
     "text": [
      "/opt/conda/lib/python3.10/site-packages/xgboost/sklearn.py:835: UserWarning: `early_stopping_rounds` in `fit` method is deprecated for better compatibility with scikit-learn, use `early_stopping_rounds` in constructor or`set_params` instead.\n",
      "  warnings.warn(\n",
      " 31%|███       | 31/100 [00:54<01:48,  1.57s/it]"
     ]
    },
    {
     "name": "stdout",
     "output_type": "stream",
     "text": [
      "SMAPE: 2.56804945577574\n",
      "R2: 0.9430689817703377\n",
      "===== < BUILDING NO.32 > =====\n"
     ]
    },
    {
     "name": "stderr",
     "output_type": "stream",
     "text": [
      "/opt/conda/lib/python3.10/site-packages/xgboost/sklearn.py:835: UserWarning: `early_stopping_rounds` in `fit` method is deprecated for better compatibility with scikit-learn, use `early_stopping_rounds` in constructor or`set_params` instead.\n",
      "  warnings.warn(\n",
      " 32%|███▏      | 32/100 [00:57<01:59,  1.75s/it]"
     ]
    },
    {
     "name": "stdout",
     "output_type": "stream",
     "text": [
      "SMAPE: 0.19702161248468097\n",
      "R2: 0.8575105699889993\n",
      "===== < BUILDING NO.33 > =====\n"
     ]
    },
    {
     "name": "stderr",
     "output_type": "stream",
     "text": [
      "/opt/conda/lib/python3.10/site-packages/xgboost/sklearn.py:835: UserWarning: `early_stopping_rounds` in `fit` method is deprecated for better compatibility with scikit-learn, use `early_stopping_rounds` in constructor or`set_params` instead.\n",
      "  warnings.warn(\n",
      " 33%|███▎      | 33/100 [00:59<02:16,  2.03s/it]"
     ]
    },
    {
     "name": "stdout",
     "output_type": "stream",
     "text": [
      "SMAPE: 0.22625441905510688\n",
      "R2: 0.664683287931862\n",
      "===== < BUILDING NO.34 > =====\n"
     ]
    },
    {
     "name": "stderr",
     "output_type": "stream",
     "text": [
      "/opt/conda/lib/python3.10/site-packages/xgboost/sklearn.py:835: UserWarning: `early_stopping_rounds` in `fit` method is deprecated for better compatibility with scikit-learn, use `early_stopping_rounds` in constructor or`set_params` instead.\n",
      "  warnings.warn(\n",
      " 34%|███▍      | 34/100 [01:02<02:31,  2.29s/it]"
     ]
    },
    {
     "name": "stdout",
     "output_type": "stream",
     "text": [
      "SMAPE: 0.3245615439520965\n",
      "R2: 0.8743641573149044\n",
      "===== < BUILDING NO.35 > =====\n"
     ]
    },
    {
     "name": "stderr",
     "output_type": "stream",
     "text": [
      "/opt/conda/lib/python3.10/site-packages/xgboost/sklearn.py:835: UserWarning: `early_stopping_rounds` in `fit` method is deprecated for better compatibility with scikit-learn, use `early_stopping_rounds` in constructor or`set_params` instead.\n",
      "  warnings.warn(\n",
      " 35%|███▌      | 35/100 [01:05<02:31,  2.33s/it]"
     ]
    },
    {
     "name": "stdout",
     "output_type": "stream",
     "text": [
      "SMAPE: 0.1725662905282774\n",
      "R2: 0.9231181475717967\n",
      "===== < BUILDING NO.36 > =====\n"
     ]
    },
    {
     "name": "stderr",
     "output_type": "stream",
     "text": [
      "/opt/conda/lib/python3.10/site-packages/xgboost/sklearn.py:835: UserWarning: `early_stopping_rounds` in `fit` method is deprecated for better compatibility with scikit-learn, use `early_stopping_rounds` in constructor or`set_params` instead.\n",
      "  warnings.warn(\n",
      " 36%|███▌      | 36/100 [01:07<02:37,  2.46s/it]"
     ]
    },
    {
     "name": "stdout",
     "output_type": "stream",
     "text": [
      "SMAPE: 0.3293354963327888\n",
      "R2: 0.6086908187486058\n",
      "===== < BUILDING NO.37 > =====\n"
     ]
    },
    {
     "name": "stderr",
     "output_type": "stream",
     "text": [
      "/opt/conda/lib/python3.10/site-packages/xgboost/sklearn.py:835: UserWarning: `early_stopping_rounds` in `fit` method is deprecated for better compatibility with scikit-learn, use `early_stopping_rounds` in constructor or`set_params` instead.\n",
      "  warnings.warn(\n",
      " 37%|███▋      | 37/100 [01:09<02:23,  2.29s/it]"
     ]
    },
    {
     "name": "stdout",
     "output_type": "stream",
     "text": [
      "SMAPE: 2.156013386887052\n",
      "R2: 0.9834896887299619\n",
      "===== < BUILDING NO.38 > =====\n"
     ]
    },
    {
     "name": "stderr",
     "output_type": "stream",
     "text": [
      "/opt/conda/lib/python3.10/site-packages/xgboost/sklearn.py:835: UserWarning: `early_stopping_rounds` in `fit` method is deprecated for better compatibility with scikit-learn, use `early_stopping_rounds` in constructor or`set_params` instead.\n",
      "  warnings.warn(\n",
      " 38%|███▊      | 38/100 [01:11<02:10,  2.11s/it]"
     ]
    },
    {
     "name": "stdout",
     "output_type": "stream",
     "text": [
      "SMAPE: 1.79901744109431\n",
      "R2: 0.997437075975758\n",
      "===== < BUILDING NO.39 > =====\n"
     ]
    },
    {
     "name": "stderr",
     "output_type": "stream",
     "text": [
      "/opt/conda/lib/python3.10/site-packages/xgboost/sklearn.py:835: UserWarning: `early_stopping_rounds` in `fit` method is deprecated for better compatibility with scikit-learn, use `early_stopping_rounds` in constructor or`set_params` instead.\n",
      "  warnings.warn(\n",
      " 39%|███▉      | 39/100 [01:13<02:00,  1.97s/it]"
     ]
    },
    {
     "name": "stdout",
     "output_type": "stream",
     "text": [
      "SMAPE: 2.6661003736987903\n",
      "R2: 0.9789087896318968\n",
      "===== < BUILDING NO.40 > =====\n"
     ]
    },
    {
     "name": "stderr",
     "output_type": "stream",
     "text": [
      "/opt/conda/lib/python3.10/site-packages/xgboost/sklearn.py:835: UserWarning: `early_stopping_rounds` in `fit` method is deprecated for better compatibility with scikit-learn, use `early_stopping_rounds` in constructor or`set_params` instead.\n",
      "  warnings.warn(\n",
      " 40%|████      | 40/100 [01:14<01:47,  1.80s/it]"
     ]
    },
    {
     "name": "stdout",
     "output_type": "stream",
     "text": [
      "SMAPE: 4.45893690485189\n",
      "R2: 0.9573252573751764\n",
      "===== < BUILDING NO.41 > =====\n"
     ]
    },
    {
     "name": "stderr",
     "output_type": "stream",
     "text": [
      "/opt/conda/lib/python3.10/site-packages/xgboost/sklearn.py:835: UserWarning: `early_stopping_rounds` in `fit` method is deprecated for better compatibility with scikit-learn, use `early_stopping_rounds` in constructor or`set_params` instead.\n",
      "  warnings.warn(\n",
      " 41%|████      | 41/100 [01:16<01:55,  1.96s/it]"
     ]
    },
    {
     "name": "stdout",
     "output_type": "stream",
     "text": [
      "SMAPE: 2.5510663147591073\n",
      "R2: 0.9930563582771769\n",
      "===== < BUILDING NO.42 > =====\n"
     ]
    },
    {
     "name": "stderr",
     "output_type": "stream",
     "text": [
      "/opt/conda/lib/python3.10/site-packages/xgboost/sklearn.py:835: UserWarning: `early_stopping_rounds` in `fit` method is deprecated for better compatibility with scikit-learn, use `early_stopping_rounds` in constructor or`set_params` instead.\n",
      "  warnings.warn(\n",
      " 42%|████▏     | 42/100 [01:18<01:41,  1.74s/it]"
     ]
    },
    {
     "name": "stdout",
     "output_type": "stream",
     "text": [
      "SMAPE: 8.887439371539775\n",
      "R2: 0.8210955033826771\n",
      "===== < BUILDING NO.43 > =====\n"
     ]
    },
    {
     "name": "stderr",
     "output_type": "stream",
     "text": [
      "/opt/conda/lib/python3.10/site-packages/xgboost/sklearn.py:835: UserWarning: `early_stopping_rounds` in `fit` method is deprecated for better compatibility with scikit-learn, use `early_stopping_rounds` in constructor or`set_params` instead.\n",
      "  warnings.warn(\n",
      " 43%|████▎     | 43/100 [01:19<01:40,  1.76s/it]"
     ]
    },
    {
     "name": "stdout",
     "output_type": "stream",
     "text": [
      "SMAPE: 3.2731321691803545\n",
      "R2: 0.9935898557260004\n",
      "===== < BUILDING NO.44 > =====\n"
     ]
    },
    {
     "name": "stderr",
     "output_type": "stream",
     "text": [
      "/opt/conda/lib/python3.10/site-packages/xgboost/sklearn.py:835: UserWarning: `early_stopping_rounds` in `fit` method is deprecated for better compatibility with scikit-learn, use `early_stopping_rounds` in constructor or`set_params` instead.\n",
      "  warnings.warn(\n",
      " 44%|████▍     | 44/100 [01:21<01:34,  1.69s/it]"
     ]
    },
    {
     "name": "stdout",
     "output_type": "stream",
     "text": [
      "SMAPE: 2.0138184178735856\n",
      "R2: 0.9963370546141956\n",
      "===== < BUILDING NO.45 > =====\n"
     ]
    },
    {
     "name": "stderr",
     "output_type": "stream",
     "text": [
      "/opt/conda/lib/python3.10/site-packages/xgboost/sklearn.py:835: UserWarning: `early_stopping_rounds` in `fit` method is deprecated for better compatibility with scikit-learn, use `early_stopping_rounds` in constructor or`set_params` instead.\n",
      "  warnings.warn(\n",
      " 45%|████▌     | 45/100 [01:23<01:37,  1.77s/it]"
     ]
    },
    {
     "name": "stdout",
     "output_type": "stream",
     "text": [
      "SMAPE: 1.2292015666710925\n",
      "R2: 0.9618127671900834\n",
      "===== < BUILDING NO.46 > =====\n"
     ]
    },
    {
     "name": "stderr",
     "output_type": "stream",
     "text": [
      "/opt/conda/lib/python3.10/site-packages/xgboost/sklearn.py:835: UserWarning: `early_stopping_rounds` in `fit` method is deprecated for better compatibility with scikit-learn, use `early_stopping_rounds` in constructor or`set_params` instead.\n",
      "  warnings.warn(\n",
      " 46%|████▌     | 46/100 [01:25<01:34,  1.75s/it]"
     ]
    },
    {
     "name": "stdout",
     "output_type": "stream",
     "text": [
      "SMAPE: 2.262918598327897\n",
      "R2: 0.9497221063116454\n",
      "===== < BUILDING NO.47 > =====\n"
     ]
    },
    {
     "name": "stderr",
     "output_type": "stream",
     "text": [
      "/opt/conda/lib/python3.10/site-packages/xgboost/sklearn.py:835: UserWarning: `early_stopping_rounds` in `fit` method is deprecated for better compatibility with scikit-learn, use `early_stopping_rounds` in constructor or`set_params` instead.\n",
      "  warnings.warn(\n",
      " 47%|████▋     | 47/100 [01:26<01:30,  1.70s/it]"
     ]
    },
    {
     "name": "stdout",
     "output_type": "stream",
     "text": [
      "SMAPE: 2.163123832268895\n",
      "R2: 0.9368352656382489\n",
      "===== < BUILDING NO.48 > =====\n"
     ]
    },
    {
     "name": "stderr",
     "output_type": "stream",
     "text": [
      "/opt/conda/lib/python3.10/site-packages/xgboost/sklearn.py:835: UserWarning: `early_stopping_rounds` in `fit` method is deprecated for better compatibility with scikit-learn, use `early_stopping_rounds` in constructor or`set_params` instead.\n",
      "  warnings.warn(\n",
      " 48%|████▊     | 48/100 [01:28<01:29,  1.73s/it]"
     ]
    },
    {
     "name": "stdout",
     "output_type": "stream",
     "text": [
      "SMAPE: 1.0124164128796722\n",
      "R2: 0.9867960252855252\n",
      "===== < BUILDING NO.49 > =====\n"
     ]
    },
    {
     "name": "stderr",
     "output_type": "stream",
     "text": [
      "/opt/conda/lib/python3.10/site-packages/xgboost/sklearn.py:835: UserWarning: `early_stopping_rounds` in `fit` method is deprecated for better compatibility with scikit-learn, use `early_stopping_rounds` in constructor or`set_params` instead.\n",
      "  warnings.warn(\n",
      " 49%|████▉     | 49/100 [01:30<01:37,  1.91s/it]"
     ]
    },
    {
     "name": "stdout",
     "output_type": "stream",
     "text": [
      "SMAPE: 1.231602471054904\n",
      "R2: 0.9518363003022309\n",
      "===== < BUILDING NO.50 > =====\n"
     ]
    },
    {
     "name": "stderr",
     "output_type": "stream",
     "text": [
      "/opt/conda/lib/python3.10/site-packages/xgboost/sklearn.py:835: UserWarning: `early_stopping_rounds` in `fit` method is deprecated for better compatibility with scikit-learn, use `early_stopping_rounds` in constructor or`set_params` instead.\n",
      "  warnings.warn(\n",
      " 50%|█████     | 50/100 [01:32<01:32,  1.84s/it]"
     ]
    },
    {
     "name": "stdout",
     "output_type": "stream",
     "text": [
      "SMAPE: 1.149476273028294\n",
      "R2: 0.9402324357123669\n",
      "===== < BUILDING NO.51 > =====\n"
     ]
    },
    {
     "name": "stderr",
     "output_type": "stream",
     "text": [
      "/opt/conda/lib/python3.10/site-packages/xgboost/sklearn.py:835: UserWarning: `early_stopping_rounds` in `fit` method is deprecated for better compatibility with scikit-learn, use `early_stopping_rounds` in constructor or`set_params` instead.\n",
      "  warnings.warn(\n",
      " 51%|█████     | 51/100 [01:34<01:31,  1.86s/it]"
     ]
    },
    {
     "name": "stdout",
     "output_type": "stream",
     "text": [
      "SMAPE: 1.7940870821424981\n",
      "R2: 0.9374935367784654\n",
      "===== < BUILDING NO.52 > =====\n"
     ]
    },
    {
     "name": "stderr",
     "output_type": "stream",
     "text": [
      "/opt/conda/lib/python3.10/site-packages/xgboost/sklearn.py:835: UserWarning: `early_stopping_rounds` in `fit` method is deprecated for better compatibility with scikit-learn, use `early_stopping_rounds` in constructor or`set_params` instead.\n",
      "  warnings.warn(\n",
      " 52%|█████▏    | 52/100 [01:36<01:33,  1.95s/it]"
     ]
    },
    {
     "name": "stdout",
     "output_type": "stream",
     "text": [
      "SMAPE: 1.7134989361480766\n",
      "R2: 0.969279720743553\n",
      "===== < BUILDING NO.53 > =====\n"
     ]
    },
    {
     "name": "stderr",
     "output_type": "stream",
     "text": [
      "/opt/conda/lib/python3.10/site-packages/xgboost/sklearn.py:835: UserWarning: `early_stopping_rounds` in `fit` method is deprecated for better compatibility with scikit-learn, use `early_stopping_rounds` in constructor or`set_params` instead.\n",
      "  warnings.warn(\n",
      " 53%|█████▎    | 53/100 [01:37<01:23,  1.78s/it]"
     ]
    },
    {
     "name": "stdout",
     "output_type": "stream",
     "text": [
      "SMAPE: 5.7870331403832855\n",
      "R2: 0.9500465530970634\n",
      "===== < BUILDING NO.54 > =====\n"
     ]
    },
    {
     "name": "stderr",
     "output_type": "stream",
     "text": [
      "/opt/conda/lib/python3.10/site-packages/xgboost/sklearn.py:835: UserWarning: `early_stopping_rounds` in `fit` method is deprecated for better compatibility with scikit-learn, use `early_stopping_rounds` in constructor or`set_params` instead.\n",
      "  warnings.warn(\n",
      " 54%|█████▍    | 54/100 [01:39<01:19,  1.73s/it]"
     ]
    },
    {
     "name": "stdout",
     "output_type": "stream",
     "text": [
      "SMAPE: 9.343993649103458\n",
      "R2: 0.8290382764818288\n",
      "===== < BUILDING NO.55 > =====\n"
     ]
    },
    {
     "name": "stderr",
     "output_type": "stream",
     "text": [
      "/opt/conda/lib/python3.10/site-packages/xgboost/sklearn.py:835: UserWarning: `early_stopping_rounds` in `fit` method is deprecated for better compatibility with scikit-learn, use `early_stopping_rounds` in constructor or`set_params` instead.\n",
      "  warnings.warn(\n",
      " 55%|█████▌    | 55/100 [01:41<01:18,  1.74s/it]"
     ]
    },
    {
     "name": "stdout",
     "output_type": "stream",
     "text": [
      "SMAPE: 0.8002626858072206\n",
      "R2: 0.9195686449786508\n",
      "===== < BUILDING NO.56 > =====\n"
     ]
    },
    {
     "name": "stderr",
     "output_type": "stream",
     "text": [
      "/opt/conda/lib/python3.10/site-packages/xgboost/sklearn.py:835: UserWarning: `early_stopping_rounds` in `fit` method is deprecated for better compatibility with scikit-learn, use `early_stopping_rounds` in constructor or`set_params` instead.\n",
      "  warnings.warn(\n",
      " 56%|█████▌    | 56/100 [01:43<01:23,  1.91s/it]"
     ]
    },
    {
     "name": "stdout",
     "output_type": "stream",
     "text": [
      "SMAPE: 0.372070315733699\n",
      "R2: 0.9577856450595469\n",
      "===== < BUILDING NO.57 > =====\n"
     ]
    },
    {
     "name": "stderr",
     "output_type": "stream",
     "text": [
      "/opt/conda/lib/python3.10/site-packages/xgboost/sklearn.py:835: UserWarning: `early_stopping_rounds` in `fit` method is deprecated for better compatibility with scikit-learn, use `early_stopping_rounds` in constructor or`set_params` instead.\n",
      "  warnings.warn(\n",
      " 57%|█████▋    | 57/100 [01:45<01:18,  1.83s/it]"
     ]
    },
    {
     "name": "stdout",
     "output_type": "stream",
     "text": [
      "SMAPE: 2.582743473340681\n",
      "R2: 0.9855450716287837\n",
      "===== < BUILDING NO.58 > =====\n"
     ]
    },
    {
     "name": "stderr",
     "output_type": "stream",
     "text": [
      "/opt/conda/lib/python3.10/site-packages/xgboost/sklearn.py:835: UserWarning: `early_stopping_rounds` in `fit` method is deprecated for better compatibility with scikit-learn, use `early_stopping_rounds` in constructor or`set_params` instead.\n",
      "  warnings.warn(\n",
      " 58%|█████▊    | 58/100 [01:47<01:20,  1.91s/it]"
     ]
    },
    {
     "name": "stdout",
     "output_type": "stream",
     "text": [
      "SMAPE: 0.2109516149812387\n",
      "R2: 0.9415446081549514\n",
      "===== < BUILDING NO.59 > =====\n"
     ]
    },
    {
     "name": "stderr",
     "output_type": "stream",
     "text": [
      "/opt/conda/lib/python3.10/site-packages/xgboost/sklearn.py:835: UserWarning: `early_stopping_rounds` in `fit` method is deprecated for better compatibility with scikit-learn, use `early_stopping_rounds` in constructor or`set_params` instead.\n",
      "  warnings.warn(\n",
      " 59%|█████▉    | 59/100 [01:48<01:15,  1.83s/it]"
     ]
    },
    {
     "name": "stdout",
     "output_type": "stream",
     "text": [
      "SMAPE: 2.727613907355983\n",
      "R2: 0.9804815904020056\n",
      "===== < BUILDING NO.60 > =====\n"
     ]
    },
    {
     "name": "stderr",
     "output_type": "stream",
     "text": [
      "/opt/conda/lib/python3.10/site-packages/xgboost/sklearn.py:835: UserWarning: `early_stopping_rounds` in `fit` method is deprecated for better compatibility with scikit-learn, use `early_stopping_rounds` in constructor or`set_params` instead.\n",
      "  warnings.warn(\n",
      " 60%|██████    | 60/100 [01:50<01:09,  1.74s/it]"
     ]
    },
    {
     "name": "stdout",
     "output_type": "stream",
     "text": [
      "SMAPE: 3.128806069117498\n",
      "R2: 0.9440451782825701\n",
      "===== < BUILDING NO.61 > =====\n"
     ]
    },
    {
     "name": "stderr",
     "output_type": "stream",
     "text": [
      "/opt/conda/lib/python3.10/site-packages/xgboost/sklearn.py:835: UserWarning: `early_stopping_rounds` in `fit` method is deprecated for better compatibility with scikit-learn, use `early_stopping_rounds` in constructor or`set_params` instead.\n",
      "  warnings.warn(\n",
      " 61%|██████    | 61/100 [01:52<01:05,  1.68s/it]"
     ]
    },
    {
     "name": "stdout",
     "output_type": "stream",
     "text": [
      "SMAPE: 2.4695452930152224\n",
      "R2: 0.9320376576270133\n",
      "===== < BUILDING NO.62 > =====\n"
     ]
    },
    {
     "name": "stderr",
     "output_type": "stream",
     "text": [
      "/opt/conda/lib/python3.10/site-packages/xgboost/sklearn.py:835: UserWarning: `early_stopping_rounds` in `fit` method is deprecated for better compatibility with scikit-learn, use `early_stopping_rounds` in constructor or`set_params` instead.\n",
      "  warnings.warn(\n",
      " 62%|██████▏   | 62/100 [01:53<01:02,  1.63s/it]"
     ]
    },
    {
     "name": "stdout",
     "output_type": "stream",
     "text": [
      "SMAPE: 2.800901630300211\n",
      "R2: 0.9255194239196292\n",
      "===== < BUILDING NO.63 > =====\n"
     ]
    },
    {
     "name": "stderr",
     "output_type": "stream",
     "text": [
      "/opt/conda/lib/python3.10/site-packages/xgboost/sklearn.py:835: UserWarning: `early_stopping_rounds` in `fit` method is deprecated for better compatibility with scikit-learn, use `early_stopping_rounds` in constructor or`set_params` instead.\n",
      "  warnings.warn(\n",
      " 63%|██████▎   | 63/100 [01:55<00:58,  1.59s/it]"
     ]
    },
    {
     "name": "stdout",
     "output_type": "stream",
     "text": [
      "SMAPE: 3.237423712443478\n",
      "R2: 0.9093444882521864\n",
      "===== < BUILDING NO.64 > =====\n"
     ]
    },
    {
     "name": "stderr",
     "output_type": "stream",
     "text": [
      "/opt/conda/lib/python3.10/site-packages/xgboost/sklearn.py:835: UserWarning: `early_stopping_rounds` in `fit` method is deprecated for better compatibility with scikit-learn, use `early_stopping_rounds` in constructor or`set_params` instead.\n",
      "  warnings.warn(\n",
      " 64%|██████▍   | 64/100 [01:56<00:56,  1.57s/it]"
     ]
    },
    {
     "name": "stdout",
     "output_type": "stream",
     "text": [
      "SMAPE: 1.983562546595305\n",
      "R2: 0.9449119561229407\n",
      "===== < BUILDING NO.65 > =====\n"
     ]
    },
    {
     "name": "stderr",
     "output_type": "stream",
     "text": [
      "/opt/conda/lib/python3.10/site-packages/xgboost/sklearn.py:835: UserWarning: `early_stopping_rounds` in `fit` method is deprecated for better compatibility with scikit-learn, use `early_stopping_rounds` in constructor or`set_params` instead.\n",
      "  warnings.warn(\n",
      " 65%|██████▌   | 65/100 [01:57<00:53,  1.52s/it]"
     ]
    },
    {
     "name": "stdout",
     "output_type": "stream",
     "text": [
      "SMAPE: 4.087620852650325\n",
      "R2: 0.8779487186996391\n",
      "===== < BUILDING NO.66 > =====\n"
     ]
    },
    {
     "name": "stderr",
     "output_type": "stream",
     "text": [
      "/opt/conda/lib/python3.10/site-packages/xgboost/sklearn.py:835: UserWarning: `early_stopping_rounds` in `fit` method is deprecated for better compatibility with scikit-learn, use `early_stopping_rounds` in constructor or`set_params` instead.\n",
      "  warnings.warn(\n",
      " 66%|██████▌   | 66/100 [01:59<00:52,  1.55s/it]"
     ]
    },
    {
     "name": "stdout",
     "output_type": "stream",
     "text": [
      "SMAPE: 2.1400472638820167\n",
      "R2: 0.8596778515618013\n",
      "===== < BUILDING NO.67 > =====\n"
     ]
    },
    {
     "name": "stderr",
     "output_type": "stream",
     "text": [
      "/opt/conda/lib/python3.10/site-packages/xgboost/sklearn.py:835: UserWarning: `early_stopping_rounds` in `fit` method is deprecated for better compatibility with scikit-learn, use `early_stopping_rounds` in constructor or`set_params` instead.\n",
      "  warnings.warn(\n",
      " 67%|██████▋   | 67/100 [02:00<00:49,  1.50s/it]"
     ]
    },
    {
     "name": "stdout",
     "output_type": "stream",
     "text": [
      "SMAPE: 2.7280610479038323\n",
      "R2: 0.8819381309576115\n",
      "===== < BUILDING NO.68 > =====\n"
     ]
    },
    {
     "name": "stderr",
     "output_type": "stream",
     "text": [
      "/opt/conda/lib/python3.10/site-packages/xgboost/sklearn.py:835: UserWarning: `early_stopping_rounds` in `fit` method is deprecated for better compatibility with scikit-learn, use `early_stopping_rounds` in constructor or`set_params` instead.\n",
      "  warnings.warn(\n",
      " 68%|██████▊   | 68/100 [02:02<00:47,  1.49s/it]"
     ]
    },
    {
     "name": "stdout",
     "output_type": "stream",
     "text": [
      "SMAPE: 2.4629394121129358\n",
      "R2: 0.9323077167946682\n",
      "===== < BUILDING NO.69 > =====\n"
     ]
    },
    {
     "name": "stderr",
     "output_type": "stream",
     "text": [
      "/opt/conda/lib/python3.10/site-packages/xgboost/sklearn.py:835: UserWarning: `early_stopping_rounds` in `fit` method is deprecated for better compatibility with scikit-learn, use `early_stopping_rounds` in constructor or`set_params` instead.\n",
      "  warnings.warn(\n",
      " 69%|██████▉   | 69/100 [02:04<00:47,  1.54s/it]"
     ]
    },
    {
     "name": "stdout",
     "output_type": "stream",
     "text": [
      "SMAPE: 1.1647349083922025\n",
      "R2: 0.9778160470628237\n",
      "===== < BUILDING NO.70 > =====\n"
     ]
    },
    {
     "name": "stderr",
     "output_type": "stream",
     "text": [
      "/opt/conda/lib/python3.10/site-packages/xgboost/sklearn.py:835: UserWarning: `early_stopping_rounds` in `fit` method is deprecated for better compatibility with scikit-learn, use `early_stopping_rounds` in constructor or`set_params` instead.\n",
      "  warnings.warn(\n",
      " 70%|███████   | 70/100 [02:06<00:49,  1.66s/it]"
     ]
    },
    {
     "name": "stdout",
     "output_type": "stream",
     "text": [
      "SMAPE: 2.7534337821495734\n",
      "R2: 0.9469181421177187\n",
      "===== < BUILDING NO.71 > =====\n"
     ]
    },
    {
     "name": "stderr",
     "output_type": "stream",
     "text": [
      "/opt/conda/lib/python3.10/site-packages/xgboost/sklearn.py:835: UserWarning: `early_stopping_rounds` in `fit` method is deprecated for better compatibility with scikit-learn, use `early_stopping_rounds` in constructor or`set_params` instead.\n",
      "  warnings.warn(\n",
      " 71%|███████   | 71/100 [02:07<00:48,  1.67s/it]"
     ]
    },
    {
     "name": "stdout",
     "output_type": "stream",
     "text": [
      "SMAPE: 2.19866582767245\n",
      "R2: 0.8921923890792537\n",
      "===== < BUILDING NO.72 > =====\n"
     ]
    },
    {
     "name": "stderr",
     "output_type": "stream",
     "text": [
      "/opt/conda/lib/python3.10/site-packages/xgboost/sklearn.py:835: UserWarning: `early_stopping_rounds` in `fit` method is deprecated for better compatibility with scikit-learn, use `early_stopping_rounds` in constructor or`set_params` instead.\n",
      "  warnings.warn(\n",
      " 72%|███████▏  | 72/100 [02:10<00:51,  1.86s/it]"
     ]
    },
    {
     "name": "stdout",
     "output_type": "stream",
     "text": [
      "SMAPE: 2.3547259883621723\n",
      "R2: 0.788860197681444\n",
      "===== < BUILDING NO.73 > =====\n"
     ]
    },
    {
     "name": "stderr",
     "output_type": "stream",
     "text": [
      "/opt/conda/lib/python3.10/site-packages/xgboost/sklearn.py:835: UserWarning: `early_stopping_rounds` in `fit` method is deprecated for better compatibility with scikit-learn, use `early_stopping_rounds` in constructor or`set_params` instead.\n",
      "  warnings.warn(\n",
      " 73%|███████▎  | 73/100 [02:11<00:48,  1.80s/it]"
     ]
    },
    {
     "name": "stdout",
     "output_type": "stream",
     "text": [
      "SMAPE: 1.6954986887964207\n",
      "R2: 0.8131771834720108\n",
      "===== < BUILDING NO.74 > =====\n"
     ]
    },
    {
     "name": "stderr",
     "output_type": "stream",
     "text": [
      "/opt/conda/lib/python3.10/site-packages/xgboost/sklearn.py:835: UserWarning: `early_stopping_rounds` in `fit` method is deprecated for better compatibility with scikit-learn, use `early_stopping_rounds` in constructor or`set_params` instead.\n",
      "  warnings.warn(\n",
      " 74%|███████▍  | 74/100 [02:13<00:49,  1.89s/it]"
     ]
    },
    {
     "name": "stdout",
     "output_type": "stream",
     "text": [
      "SMAPE: 3.181952948728036\n",
      "R2: 0.9189238392978\n",
      "===== < BUILDING NO.75 > =====\n"
     ]
    },
    {
     "name": "stderr",
     "output_type": "stream",
     "text": [
      "/opt/conda/lib/python3.10/site-packages/xgboost/sklearn.py:835: UserWarning: `early_stopping_rounds` in `fit` method is deprecated for better compatibility with scikit-learn, use `early_stopping_rounds` in constructor or`set_params` instead.\n",
      "  warnings.warn(\n",
      " 75%|███████▌  | 75/100 [02:15<00:44,  1.79s/it]"
     ]
    },
    {
     "name": "stdout",
     "output_type": "stream",
     "text": [
      "SMAPE: 1.7656772240774978\n",
      "R2: 0.9381620469863149\n",
      "===== < BUILDING NO.76 > =====\n"
     ]
    },
    {
     "name": "stderr",
     "output_type": "stream",
     "text": [
      "/opt/conda/lib/python3.10/site-packages/xgboost/sklearn.py:835: UserWarning: `early_stopping_rounds` in `fit` method is deprecated for better compatibility with scikit-learn, use `early_stopping_rounds` in constructor or`set_params` instead.\n",
      "  warnings.warn(\n",
      " 76%|███████▌  | 76/100 [02:16<00:41,  1.72s/it]"
     ]
    },
    {
     "name": "stdout",
     "output_type": "stream",
     "text": [
      "SMAPE: 2.4709027490552686\n",
      "R2: 0.7829026370287808\n",
      "===== < BUILDING NO.77 > =====\n"
     ]
    },
    {
     "name": "stderr",
     "output_type": "stream",
     "text": [
      "/opt/conda/lib/python3.10/site-packages/xgboost/sklearn.py:835: UserWarning: `early_stopping_rounds` in `fit` method is deprecated for better compatibility with scikit-learn, use `early_stopping_rounds` in constructor or`set_params` instead.\n",
      "  warnings.warn(\n",
      " 77%|███████▋  | 77/100 [02:18<00:39,  1.72s/it]"
     ]
    },
    {
     "name": "stdout",
     "output_type": "stream",
     "text": [
      "SMAPE: 1.2620726817927796\n",
      "R2: 0.9920637841574659\n",
      "===== < BUILDING NO.78 > =====\n"
     ]
    },
    {
     "name": "stderr",
     "output_type": "stream",
     "text": [
      "/opt/conda/lib/python3.10/site-packages/xgboost/sklearn.py:835: UserWarning: `early_stopping_rounds` in `fit` method is deprecated for better compatibility with scikit-learn, use `early_stopping_rounds` in constructor or`set_params` instead.\n",
      "  warnings.warn(\n",
      " 78%|███████▊  | 78/100 [02:20<00:40,  1.82s/it]"
     ]
    },
    {
     "name": "stdout",
     "output_type": "stream",
     "text": [
      "SMAPE: 1.5501687975698433\n",
      "R2: 0.993533370338121\n",
      "===== < BUILDING NO.79 > =====\n"
     ]
    },
    {
     "name": "stderr",
     "output_type": "stream",
     "text": [
      "/opt/conda/lib/python3.10/site-packages/xgboost/sklearn.py:835: UserWarning: `early_stopping_rounds` in `fit` method is deprecated for better compatibility with scikit-learn, use `early_stopping_rounds` in constructor or`set_params` instead.\n",
      "  warnings.warn(\n",
      " 79%|███████▉  | 79/100 [02:22<00:41,  1.96s/it]"
     ]
    },
    {
     "name": "stdout",
     "output_type": "stream",
     "text": [
      "SMAPE: 1.0436883340074417\n",
      "R2: 0.9911248490291023\n",
      "===== < BUILDING NO.80 > =====\n"
     ]
    },
    {
     "name": "stderr",
     "output_type": "stream",
     "text": [
      "/opt/conda/lib/python3.10/site-packages/xgboost/sklearn.py:835: UserWarning: `early_stopping_rounds` in `fit` method is deprecated for better compatibility with scikit-learn, use `early_stopping_rounds` in constructor or`set_params` instead.\n",
      "  warnings.warn(\n",
      " 80%|████████  | 80/100 [02:24<00:39,  1.98s/it]"
     ]
    },
    {
     "name": "stdout",
     "output_type": "stream",
     "text": [
      "SMAPE: 1.6852099716763582\n",
      "R2: 0.9945649161319271\n",
      "===== < BUILDING NO.81 > =====\n"
     ]
    },
    {
     "name": "stderr",
     "output_type": "stream",
     "text": [
      "/opt/conda/lib/python3.10/site-packages/xgboost/sklearn.py:835: UserWarning: `early_stopping_rounds` in `fit` method is deprecated for better compatibility with scikit-learn, use `early_stopping_rounds` in constructor or`set_params` instead.\n",
      "  warnings.warn(\n",
      " 81%|████████  | 81/100 [02:26<00:36,  1.94s/it]"
     ]
    },
    {
     "name": "stdout",
     "output_type": "stream",
     "text": [
      "SMAPE: 1.8448466598461641\n",
      "R2: 0.9912631340286862\n",
      "===== < BUILDING NO.82 > =====\n"
     ]
    },
    {
     "name": "stderr",
     "output_type": "stream",
     "text": [
      "/opt/conda/lib/python3.10/site-packages/xgboost/sklearn.py:835: UserWarning: `early_stopping_rounds` in `fit` method is deprecated for better compatibility with scikit-learn, use `early_stopping_rounds` in constructor or`set_params` instead.\n",
      "  warnings.warn(\n",
      " 82%|████████▏ | 82/100 [02:28<00:34,  1.90s/it]"
     ]
    },
    {
     "name": "stdout",
     "output_type": "stream",
     "text": [
      "SMAPE: 2.1228550962234487\n",
      "R2: 0.9920777946017227\n",
      "===== < BUILDING NO.83 > =====\n"
     ]
    },
    {
     "name": "stderr",
     "output_type": "stream",
     "text": [
      "/opt/conda/lib/python3.10/site-packages/xgboost/sklearn.py:835: UserWarning: `early_stopping_rounds` in `fit` method is deprecated for better compatibility with scikit-learn, use `early_stopping_rounds` in constructor or`set_params` instead.\n",
      "  warnings.warn(\n",
      " 83%|████████▎ | 83/100 [02:30<00:31,  1.86s/it]"
     ]
    },
    {
     "name": "stdout",
     "output_type": "stream",
     "text": [
      "SMAPE: 1.4764124214173946\n",
      "R2: 0.9935302051646853\n",
      "===== < BUILDING NO.84 > =====\n"
     ]
    },
    {
     "name": "stderr",
     "output_type": "stream",
     "text": [
      "/opt/conda/lib/python3.10/site-packages/xgboost/sklearn.py:835: UserWarning: `early_stopping_rounds` in `fit` method is deprecated for better compatibility with scikit-learn, use `early_stopping_rounds` in constructor or`set_params` instead.\n",
      "  warnings.warn(\n",
      " 84%|████████▍ | 84/100 [02:32<00:29,  1.83s/it]"
     ]
    },
    {
     "name": "stdout",
     "output_type": "stream",
     "text": [
      "SMAPE: 1.4184075224078103\n",
      "R2: 0.9911678050073048\n",
      "===== < BUILDING NO.85 > =====\n"
     ]
    },
    {
     "name": "stderr",
     "output_type": "stream",
     "text": [
      "/opt/conda/lib/python3.10/site-packages/xgboost/sklearn.py:835: UserWarning: `early_stopping_rounds` in `fit` method is deprecated for better compatibility with scikit-learn, use `early_stopping_rounds` in constructor or`set_params` instead.\n",
      "  warnings.warn(\n",
      " 85%|████████▌ | 85/100 [02:35<00:36,  2.41s/it]"
     ]
    },
    {
     "name": "stdout",
     "output_type": "stream",
     "text": [
      "SMAPE: 1.7766891378931844\n",
      "R2: 0.9554452075929176\n",
      "===== < BUILDING NO.86 > =====\n"
     ]
    },
    {
     "name": "stderr",
     "output_type": "stream",
     "text": [
      "/opt/conda/lib/python3.10/site-packages/xgboost/sklearn.py:835: UserWarning: `early_stopping_rounds` in `fit` method is deprecated for better compatibility with scikit-learn, use `early_stopping_rounds` in constructor or`set_params` instead.\n",
      "  warnings.warn(\n",
      " 86%|████████▌ | 86/100 [02:38<00:32,  2.34s/it]"
     ]
    },
    {
     "name": "stdout",
     "output_type": "stream",
     "text": [
      "SMAPE: 3.8742220810478485\n",
      "R2: 0.8744989436601363\n",
      "===== < BUILDING NO.87 > =====\n"
     ]
    },
    {
     "name": "stderr",
     "output_type": "stream",
     "text": [
      "/opt/conda/lib/python3.10/site-packages/xgboost/sklearn.py:835: UserWarning: `early_stopping_rounds` in `fit` method is deprecated for better compatibility with scikit-learn, use `early_stopping_rounds` in constructor or`set_params` instead.\n",
      "  warnings.warn(\n",
      " 87%|████████▋ | 87/100 [02:40<00:28,  2.22s/it]"
     ]
    },
    {
     "name": "stdout",
     "output_type": "stream",
     "text": [
      "SMAPE: 4.984363164766773\n",
      "R2: 0.8799899192668625\n",
      "===== < BUILDING NO.88 > =====\n"
     ]
    },
    {
     "name": "stderr",
     "output_type": "stream",
     "text": [
      "/opt/conda/lib/python3.10/site-packages/xgboost/sklearn.py:835: UserWarning: `early_stopping_rounds` in `fit` method is deprecated for better compatibility with scikit-learn, use `early_stopping_rounds` in constructor or`set_params` instead.\n",
      "  warnings.warn(\n",
      " 88%|████████▊ | 88/100 [02:41<00:25,  2.09s/it]"
     ]
    },
    {
     "name": "stdout",
     "output_type": "stream",
     "text": [
      "SMAPE: 2.891185437185699\n",
      "R2: 0.9259233720667035\n",
      "===== < BUILDING NO.89 > =====\n"
     ]
    },
    {
     "name": "stderr",
     "output_type": "stream",
     "text": [
      "/opt/conda/lib/python3.10/site-packages/xgboost/sklearn.py:835: UserWarning: `early_stopping_rounds` in `fit` method is deprecated for better compatibility with scikit-learn, use `early_stopping_rounds` in constructor or`set_params` instead.\n",
      "  warnings.warn(\n",
      " 89%|████████▉ | 89/100 [02:43<00:21,  1.93s/it]"
     ]
    },
    {
     "name": "stdout",
     "output_type": "stream",
     "text": [
      "SMAPE: 2.586491535349424\n",
      "R2: 0.9507338522500512\n",
      "===== < BUILDING NO.90 > =====\n"
     ]
    },
    {
     "name": "stderr",
     "output_type": "stream",
     "text": [
      "/opt/conda/lib/python3.10/site-packages/xgboost/sklearn.py:835: UserWarning: `early_stopping_rounds` in `fit` method is deprecated for better compatibility with scikit-learn, use `early_stopping_rounds` in constructor or`set_params` instead.\n",
      "  warnings.warn(\n",
      " 90%|█████████ | 90/100 [02:45<00:18,  1.87s/it]"
     ]
    },
    {
     "name": "stdout",
     "output_type": "stream",
     "text": [
      "SMAPE: 2.9521107797127164\n",
      "R2: 0.9701321600674983\n",
      "===== < BUILDING NO.91 > =====\n"
     ]
    },
    {
     "name": "stderr",
     "output_type": "stream",
     "text": [
      "/opt/conda/lib/python3.10/site-packages/xgboost/sklearn.py:835: UserWarning: `early_stopping_rounds` in `fit` method is deprecated for better compatibility with scikit-learn, use `early_stopping_rounds` in constructor or`set_params` instead.\n",
      "  warnings.warn(\n",
      " 91%|█████████ | 91/100 [02:46<00:16,  1.86s/it]"
     ]
    },
    {
     "name": "stdout",
     "output_type": "stream",
     "text": [
      "SMAPE: 6.481577375826742\n",
      "R2: 0.9529123507180252\n",
      "===== < BUILDING NO.92 > =====\n"
     ]
    },
    {
     "name": "stderr",
     "output_type": "stream",
     "text": [
      "/opt/conda/lib/python3.10/site-packages/xgboost/sklearn.py:835: UserWarning: `early_stopping_rounds` in `fit` method is deprecated for better compatibility with scikit-learn, use `early_stopping_rounds` in constructor or`set_params` instead.\n",
      "  warnings.warn(\n",
      " 92%|█████████▏| 92/100 [02:48<00:14,  1.82s/it]"
     ]
    },
    {
     "name": "stdout",
     "output_type": "stream",
     "text": [
      "SMAPE: 2.862682784417281\n",
      "R2: 0.9385937785090032\n",
      "===== < BUILDING NO.93 > =====\n"
     ]
    },
    {
     "name": "stderr",
     "output_type": "stream",
     "text": [
      "/opt/conda/lib/python3.10/site-packages/xgboost/sklearn.py:835: UserWarning: `early_stopping_rounds` in `fit` method is deprecated for better compatibility with scikit-learn, use `early_stopping_rounds` in constructor or`set_params` instead.\n",
      "  warnings.warn(\n",
      " 93%|█████████▎| 93/100 [02:50<00:12,  1.79s/it]"
     ]
    },
    {
     "name": "stdout",
     "output_type": "stream",
     "text": [
      "SMAPE: 3.373833828234354\n",
      "R2: 0.8689785795761118\n",
      "===== < BUILDING NO.94 > =====\n"
     ]
    },
    {
     "name": "stderr",
     "output_type": "stream",
     "text": [
      "/opt/conda/lib/python3.10/site-packages/xgboost/sklearn.py:835: UserWarning: `early_stopping_rounds` in `fit` method is deprecated for better compatibility with scikit-learn, use `early_stopping_rounds` in constructor or`set_params` instead.\n",
      "  warnings.warn(\n",
      " 94%|█████████▍| 94/100 [02:52<00:10,  1.79s/it]"
     ]
    },
    {
     "name": "stdout",
     "output_type": "stream",
     "text": [
      "SMAPE: 2.9929373345061463\n",
      "R2: 0.9160657067346847\n",
      "===== < BUILDING NO.95 > =====\n"
     ]
    },
    {
     "name": "stderr",
     "output_type": "stream",
     "text": [
      "/opt/conda/lib/python3.10/site-packages/xgboost/sklearn.py:835: UserWarning: `early_stopping_rounds` in `fit` method is deprecated for better compatibility with scikit-learn, use `early_stopping_rounds` in constructor or`set_params` instead.\n",
      "  warnings.warn(\n",
      " 95%|█████████▌| 95/100 [02:53<00:08,  1.62s/it]"
     ]
    },
    {
     "name": "stdout",
     "output_type": "stream",
     "text": [
      "SMAPE: 7.258248738455955\n",
      "R2: 0.6312822310967584\n",
      "===== < BUILDING NO.96 > =====\n"
     ]
    },
    {
     "name": "stderr",
     "output_type": "stream",
     "text": [
      "/opt/conda/lib/python3.10/site-packages/xgboost/sklearn.py:835: UserWarning: `early_stopping_rounds` in `fit` method is deprecated for better compatibility with scikit-learn, use `early_stopping_rounds` in constructor or`set_params` instead.\n",
      "  warnings.warn(\n",
      " 96%|█████████▌| 96/100 [02:55<00:06,  1.61s/it]"
     ]
    },
    {
     "name": "stdout",
     "output_type": "stream",
     "text": [
      "SMAPE: 1.491430100787991\n",
      "R2: 0.9651313111504027\n",
      "===== < BUILDING NO.97 > =====\n"
     ]
    },
    {
     "name": "stderr",
     "output_type": "stream",
     "text": [
      "/opt/conda/lib/python3.10/site-packages/xgboost/sklearn.py:835: UserWarning: `early_stopping_rounds` in `fit` method is deprecated for better compatibility with scikit-learn, use `early_stopping_rounds` in constructor or`set_params` instead.\n",
      "  warnings.warn(\n",
      " 97%|█████████▋| 97/100 [02:57<00:05,  1.82s/it]"
     ]
    },
    {
     "name": "stdout",
     "output_type": "stream",
     "text": [
      "SMAPE: 2.4080386121744386\n",
      "R2: 0.9334937482771224\n",
      "===== < BUILDING NO.98 > =====\n"
     ]
    },
    {
     "name": "stderr",
     "output_type": "stream",
     "text": [
      "/opt/conda/lib/python3.10/site-packages/xgboost/sklearn.py:835: UserWarning: `early_stopping_rounds` in `fit` method is deprecated for better compatibility with scikit-learn, use `early_stopping_rounds` in constructor or`set_params` instead.\n",
      "  warnings.warn(\n",
      " 98%|█████████▊| 98/100 [02:58<00:03,  1.70s/it]"
     ]
    },
    {
     "name": "stdout",
     "output_type": "stream",
     "text": [
      "SMAPE: 7.038908245544515\n",
      "R2: 0.8492584312608136\n",
      "===== < BUILDING NO.99 > =====\n"
     ]
    },
    {
     "name": "stderr",
     "output_type": "stream",
     "text": [
      "/opt/conda/lib/python3.10/site-packages/xgboost/sklearn.py:835: UserWarning: `early_stopping_rounds` in `fit` method is deprecated for better compatibility with scikit-learn, use `early_stopping_rounds` in constructor or`set_params` instead.\n",
      "  warnings.warn(\n",
      " 99%|█████████▉| 99/100 [03:00<00:01,  1.69s/it]"
     ]
    },
    {
     "name": "stdout",
     "output_type": "stream",
     "text": [
      "SMAPE: 1.6848495597962838\n",
      "R2: 0.9786802231329808\n",
      "===== < BUILDING NO.100 > =====\n"
     ]
    },
    {
     "name": "stderr",
     "output_type": "stream",
     "text": [
      "/opt/conda/lib/python3.10/site-packages/xgboost/sklearn.py:835: UserWarning: `early_stopping_rounds` in `fit` method is deprecated for better compatibility with scikit-learn, use `early_stopping_rounds` in constructor or`set_params` instead.\n",
      "  warnings.warn(\n",
      "100%|██████████| 100/100 [03:02<00:00,  1.82s/it]"
     ]
    },
    {
     "name": "stdout",
     "output_type": "stream",
     "text": [
      "SMAPE: 2.642659282172129\n",
      "R2: 0.9674120094300811\n"
     ]
    },
    {
     "name": "stderr",
     "output_type": "stream",
     "text": [
      "\n"
     ]
    }
   ],
   "source": [
    "pred_val_ens= []\n",
    "test_ens = []\n",
    "\n",
    "summary_list = []\n",
    "ans_val_list = []\n",
    "pred_val_list = []\n",
    "pred_test_list = []\n",
    "\n",
    "for i in tqdm(range(100)):\n",
    "    print(f\"===== < BUILDING NO.{i+1} > =====\")\n",
    "    summary_dict = {}\n",
    "\n",
    "    smape_val, r2_val, ans_val, pred_val, pred_test = fit_and_pred_XGB_with_weight(train, test, i+1, 100, seed=0)\n",
    "\n",
    "    summary_dict['건물번호'] = i+1\n",
    "    summary_dict['SMAPE'] = smape_val\n",
    "    summary_dict['R2'] = r2_val\n",
    "    summary_list.append(summary_dict)\n",
    "    ans_val_list.append(ans_val)\n",
    "    pred_val_list.append(pred_val)\n",
    "    pred_test_list.append(pred_test)\n",
    "\n",
    "ans_val_whole = np.concatenate(ans_val_list)\n",
    "pred_val_whole = np.concatenate(pred_val_list)\n",
    "pred_test_whole = np.concatenate(pred_test_list)\n",
    "smape_val =SMAPE(ans_val_whole, pred_val_whole)"
   ]
  },
  {
   "cell_type": "code",
   "execution_count": 45,
   "id": "632fcc91-0a4c-4937-aa2d-dbbb00b548bc",
   "metadata": {
    "scrolled": true
   },
   "outputs": [
    {
     "data": {
      "text/plain": [
       "[{'건물번호': 1, 'SMAPE': 3.883634407146668, 'R2': 0.9428148434678705},\n",
       " {'건물번호': 2, 'SMAPE': 5.256542311528698, 'R2': 0.8268383595313882},\n",
       " {'건물번호': 3, 'SMAPE': 5.545908115619256, 'R2': 0.8225081381620768},\n",
       " {'건물번호': 4, 'SMAPE': 2.0216084532929974, 'R2': 0.9738995748382593},\n",
       " {'건물번호': 5, 'SMAPE': 2.8028523787496087, 'R2': 0.9733667899879699},\n",
       " {'건물번호': 6, 'SMAPE': 1.861585193427125, 'R2': 0.981714605738076},\n",
       " {'건물번호': 7, 'SMAPE': 5.0474765252492375, 'R2': 0.8962074296471658},\n",
       " {'건물번호': 8, 'SMAPE': 2.5489555005401963, 'R2': 0.7355127209176974},\n",
       " {'건물번호': 9, 'SMAPE': 2.0478630548996173, 'R2': 0.975397976943655},\n",
       " {'건물번호': 10, 'SMAPE': 3.907172078032968, 'R2': 0.32611646656584903},\n",
       " {'건물번호': 11, 'SMAPE': 1.676392266013526, 'R2': 0.9014899611347567},\n",
       " {'건물번호': 12, 'SMAPE': 1.8723574629050932, 'R2': 0.9008362680544917},\n",
       " {'건물번호': 13, 'SMAPE': 3.0274657714415754, 'R2': 0.3797024654736437},\n",
       " {'건물번호': 14, 'SMAPE': 8.411099584140395, 'R2': 0.2536910586619444},\n",
       " {'건물번호': 15, 'SMAPE': 1.2548517916499227, 'R2': 0.9371161321264849},\n",
       " {'건물번호': 16, 'SMAPE': 2.2092638330705237, 'R2': 0.9848943403666937},\n",
       " {'건물번호': 17, 'SMAPE': 2.9155781243960273, 'R2': 0.9459348281219652},\n",
       " {'건물번호': 18, 'SMAPE': 3.3829864057136083, 'R2': 0.9332030692073239},\n",
       " {'건물번호': 19, 'SMAPE': 4.304075013735136, 'R2': 0.9364720115975896},\n",
       " {'건물번호': 20, 'SMAPE': 2.378545266421429, 'R2': 0.9764064401504943},\n",
       " {'건물번호': 21, 'SMAPE': 3.9669116215508895, 'R2': 0.933790666753363},\n",
       " {'건물번호': 22, 'SMAPE': 1.8200203037843907, 'R2': 0.9429240295041776},\n",
       " {'건물번호': 23, 'SMAPE': 0.9373158040898235, 'R2': 0.966113940778409},\n",
       " {'건물번호': 24, 'SMAPE': 1.288296737357208, 'R2': 0.9864269965196982},\n",
       " {'건물번호': 25, 'SMAPE': 1.0654398164794496, 'R2': 0.9887994766418751},\n",
       " {'건물번호': 26, 'SMAPE': 0.9936471600354451, 'R2': 0.9862221989284544},\n",
       " {'건물번호': 27, 'SMAPE': 0.8588802301263323, 'R2': 0.9817016980675318},\n",
       " {'건물번호': 28, 'SMAPE': 2.695373169555824, 'R2': 0.9583253430170969},\n",
       " {'건물번호': 29, 'SMAPE': 1.976031642209499, 'R2': 0.9524808637651322},\n",
       " {'건물번호': 30, 'SMAPE': 3.5546984752156083, 'R2': 0.8875174353264503},\n",
       " {'건물번호': 31, 'SMAPE': 2.56804945577574, 'R2': 0.9430689817703377},\n",
       " {'건물번호': 32, 'SMAPE': 0.19702161248468097, 'R2': 0.8575105699889993},\n",
       " {'건물번호': 33, 'SMAPE': 0.22625441905510688, 'R2': 0.664683287931862},\n",
       " {'건물번호': 34, 'SMAPE': 0.3245615439520965, 'R2': 0.8743641573149044},\n",
       " {'건물번호': 35, 'SMAPE': 0.1725662905282774, 'R2': 0.9231181475717967},\n",
       " {'건물번호': 36, 'SMAPE': 0.3293354963327888, 'R2': 0.6086908187486058},\n",
       " {'건물번호': 37, 'SMAPE': 2.156013386887052, 'R2': 0.9834896887299619},\n",
       " {'건물번호': 38, 'SMAPE': 1.79901744109431, 'R2': 0.997437075975758},\n",
       " {'건물번호': 39, 'SMAPE': 2.6661003736987903, 'R2': 0.9789087896318968},\n",
       " {'건물번호': 40, 'SMAPE': 4.45893690485189, 'R2': 0.9573252573751764},\n",
       " {'건물번호': 41, 'SMAPE': 2.5510663147591073, 'R2': 0.9930563582771769},\n",
       " {'건물번호': 42, 'SMAPE': 8.887439371539775, 'R2': 0.8210955033826771},\n",
       " {'건물번호': 43, 'SMAPE': 3.2731321691803545, 'R2': 0.9935898557260004},\n",
       " {'건물번호': 44, 'SMAPE': 2.0138184178735856, 'R2': 0.9963370546141956},\n",
       " {'건물번호': 45, 'SMAPE': 1.2292015666710925, 'R2': 0.9618127671900834},\n",
       " {'건물번호': 46, 'SMAPE': 2.262918598327897, 'R2': 0.9497221063116454},\n",
       " {'건물번호': 47, 'SMAPE': 2.163123832268895, 'R2': 0.9368352656382489},\n",
       " {'건물번호': 48, 'SMAPE': 1.0124164128796722, 'R2': 0.9867960252855252},\n",
       " {'건물번호': 49, 'SMAPE': 1.231602471054904, 'R2': 0.9518363003022309},\n",
       " {'건물번호': 50, 'SMAPE': 1.149476273028294, 'R2': 0.9402324357123669},\n",
       " {'건물번호': 51, 'SMAPE': 1.7940870821424981, 'R2': 0.9374935367784654},\n",
       " {'건물번호': 52, 'SMAPE': 1.7134989361480766, 'R2': 0.969279720743553},\n",
       " {'건물번호': 53, 'SMAPE': 5.7870331403832855, 'R2': 0.9500465530970634},\n",
       " {'건물번호': 54, 'SMAPE': 9.343993649103458, 'R2': 0.8290382764818288},\n",
       " {'건물번호': 55, 'SMAPE': 0.8002626858072206, 'R2': 0.9195686449786508},\n",
       " {'건물번호': 56, 'SMAPE': 0.372070315733699, 'R2': 0.9577856450595469},\n",
       " {'건물번호': 57, 'SMAPE': 2.582743473340681, 'R2': 0.9855450716287837},\n",
       " {'건물번호': 58, 'SMAPE': 0.2109516149812387, 'R2': 0.9415446081549514},\n",
       " {'건물번호': 59, 'SMAPE': 2.727613907355983, 'R2': 0.9804815904020056},\n",
       " {'건물번호': 60, 'SMAPE': 3.128806069117498, 'R2': 0.9440451782825701},\n",
       " {'건물번호': 61, 'SMAPE': 2.4695452930152224, 'R2': 0.9320376576270133},\n",
       " {'건물번호': 62, 'SMAPE': 2.800901630300211, 'R2': 0.9255194239196292},\n",
       " {'건물번호': 63, 'SMAPE': 3.237423712443478, 'R2': 0.9093444882521864},\n",
       " {'건물번호': 64, 'SMAPE': 1.983562546595305, 'R2': 0.9449119561229407},\n",
       " {'건물번호': 65, 'SMAPE': 4.087620852650325, 'R2': 0.8779487186996391},\n",
       " {'건물번호': 66, 'SMAPE': 2.1400472638820167, 'R2': 0.8596778515618013},\n",
       " {'건물번호': 67, 'SMAPE': 2.7280610479038323, 'R2': 0.8819381309576115},\n",
       " {'건물번호': 68, 'SMAPE': 2.4629394121129358, 'R2': 0.9323077167946682},\n",
       " {'건물번호': 69, 'SMAPE': 1.1647349083922025, 'R2': 0.9778160470628237},\n",
       " {'건물번호': 70, 'SMAPE': 2.7534337821495734, 'R2': 0.9469181421177187},\n",
       " {'건물번호': 71, 'SMAPE': 2.19866582767245, 'R2': 0.8921923890792537},\n",
       " {'건물번호': 72, 'SMAPE': 2.3547259883621723, 'R2': 0.788860197681444},\n",
       " {'건물번호': 73, 'SMAPE': 1.6954986887964207, 'R2': 0.8131771834720108},\n",
       " {'건물번호': 74, 'SMAPE': 3.181952948728036, 'R2': 0.9189238392978},\n",
       " {'건물번호': 75, 'SMAPE': 1.7656772240774978, 'R2': 0.9381620469863149},\n",
       " {'건물번호': 76, 'SMAPE': 2.4709027490552686, 'R2': 0.7829026370287808},\n",
       " {'건물번호': 77, 'SMAPE': 1.2620726817927796, 'R2': 0.9920637841574659},\n",
       " {'건물번호': 78, 'SMAPE': 1.5501687975698433, 'R2': 0.993533370338121},\n",
       " {'건물번호': 79, 'SMAPE': 1.0436883340074417, 'R2': 0.9911248490291023},\n",
       " {'건물번호': 80, 'SMAPE': 1.6852099716763582, 'R2': 0.9945649161319271},\n",
       " {'건물번호': 81, 'SMAPE': 1.8448466598461641, 'R2': 0.9912631340286862},\n",
       " {'건물번호': 82, 'SMAPE': 2.1228550962234487, 'R2': 0.9920777946017227},\n",
       " {'건물번호': 83, 'SMAPE': 1.4764124214173946, 'R2': 0.9935302051646853},\n",
       " {'건물번호': 84, 'SMAPE': 1.4184075224078103, 'R2': 0.9911678050073048},\n",
       " {'건물번호': 85, 'SMAPE': 1.7766891378931844, 'R2': 0.9554452075929176},\n",
       " {'건물번호': 86, 'SMAPE': 3.8742220810478485, 'R2': 0.8744989436601363},\n",
       " {'건물번호': 87, 'SMAPE': 4.984363164766773, 'R2': 0.8799899192668625},\n",
       " {'건물번호': 88, 'SMAPE': 2.891185437185699, 'R2': 0.9259233720667035},\n",
       " {'건물번호': 89, 'SMAPE': 2.586491535349424, 'R2': 0.9507338522500512},\n",
       " {'건물번호': 90, 'SMAPE': 2.9521107797127164, 'R2': 0.9701321600674983},\n",
       " {'건물번호': 91, 'SMAPE': 6.481577375826742, 'R2': 0.9529123507180252},\n",
       " {'건물번호': 92, 'SMAPE': 2.862682784417281, 'R2': 0.9385937785090032},\n",
       " {'건물번호': 93, 'SMAPE': 3.373833828234354, 'R2': 0.8689785795761118},\n",
       " {'건물번호': 94, 'SMAPE': 2.9929373345061463, 'R2': 0.9160657067346847},\n",
       " {'건물번호': 95, 'SMAPE': 7.258248738455955, 'R2': 0.6312822310967584},\n",
       " {'건물번호': 96, 'SMAPE': 1.491430100787991, 'R2': 0.9651313111504027},\n",
       " {'건물번호': 97, 'SMAPE': 2.4080386121744386, 'R2': 0.9334937482771224},\n",
       " {'건물번호': 98, 'SMAPE': 7.038908245544515, 'R2': 0.8492584312608136},\n",
       " {'건물번호': 99, 'SMAPE': 1.6848495597962838, 'R2': 0.9786802231329808},\n",
       " {'건물번호': 100, 'SMAPE': 2.642659282172129, 'R2': 0.9674120094300811}]"
      ]
     },
     "execution_count": 45,
     "metadata": {},
     "output_type": "execute_result"
    }
   ],
   "source": [
    "summary_list"
   ]
  },
  {
   "cell_type": "code",
   "execution_count": 46,
   "id": "272ad73a-3338-44ea-b329-c9e357ac58ed",
   "metadata": {},
   "outputs": [
    {
     "data": {
      "text/plain": [
       "2.638455250836857"
      ]
     },
     "execution_count": 46,
     "metadata": {},
     "output_type": "execute_result"
    }
   ],
   "source": [
    "smape_val"
   ]
  },
  {
   "cell_type": "code",
   "execution_count": 47,
   "id": "914acd66-3226-4d88-a34e-e6451210c58e",
   "metadata": {},
   "outputs": [],
   "source": [
    "sub = pd.read_csv('sample_submission.csv')\n",
    "sub['answer'] = pred_test_whole\n",
    "sub.to_csv('xgb_sub_21.csv', index=False)"
   ]
  },
  {
   "cell_type": "markdown",
   "id": "df52f9b6-013e-414f-9cf2-68916ee6a694",
   "metadata": {},
   "source": [
    "### Parameter Tuning - Grid Search CV"
   ]
  },
  {
   "cell_type": "code",
   "execution_count": 48,
   "id": "2d660703-78a6-4f60-b9e2-0665396be485",
   "metadata": {},
   "outputs": [],
   "source": [
    "from sklearn.model_selection import GridSearchCV, PredefinedSplit"
   ]
  },
  {
   "cell_type": "code",
   "execution_count": null,
   "id": "c418f912-7d37-4fdd-a9d7-49ab754c3eeb",
   "metadata": {
    "scrolled": true
   },
   "outputs": [
    {
     "name": "stderr",
     "output_type": "stream",
     "text": [
      "  0%|          | 0/100 [00:00<?, ?it/s]"
     ]
    },
    {
     "name": "stdout",
     "output_type": "stream",
     "text": [
      "===== < BUILDING NO.1 > =====\n",
      "Fitting 5 folds for each of 672 candidates, totalling 3360 fits\n"
     ]
    }
   ],
   "source": [
    "df = pd.DataFrame(columns = ['n_estimators', 'eta', 'min_child_weight', 'max_depth', 'colsample_bytree', 'subsample'])\n",
    "preds = np.array([])\n",
    "grid = {\n",
    "    'n_estimators':     [30, 50, 70, 100],\n",
    "    'eta':              [0.01],\n",
    "    'min_child_weight': np.arange(1, 8, 1),\n",
    "    'max_depth':        np.arange(3, 9, 1),\n",
    "    'colsample_bytree': np.arange(0.8, 1.0, 0.1),\n",
    "    'subsample':        np.arange(0.8, 1.0, 0.1)\n",
    "}\n",
    "\n",
    "for i in tqdm(range(100)):\n",
    "    print(f\"===== < BUILDING NO.{i+1} > =====\")\n",
    "    x_train, x_valid, y_train, y_valid = tr_ts_split(train, test, i+1, 7*24)\n",
    "    gcv = GridSearchCV(estimator=XGBRegressor(seed=0, gpu_id=0,\n",
    "                                              tree_method='gpu_hist', predictor='gpu_predictor'),\n",
    "                       param_grid=grid,\n",
    "                       scoring=make_scorer(SMAPE, greater_is_better=False),\n",
    "                       cv=5,\n",
    "                       refit=True,\n",
    "                       verbose=True)\n",
    "    gcv.fit(x_train, y_train)\n",
    "    best = gcv.best_estimator_\n",
    "    params = gcv.best_params_\n",
    "    print(params)\n",
    "    pred = best.predict(x_valid)\n",
    "    print(f'SMAPE: {SMAPE(y_valid, pred)}')\n",
    "    preds = np.append(preds, pred)\n",
    "    df = pd.concat([df, pd.DataFrame(params, index=[0])], axis=0)"
   ]
  },
  {
   "cell_type": "code",
   "execution_count": 133,
   "id": "67198aea-4e7f-4e7a-8686-33f0b0723132",
   "metadata": {},
   "outputs": [],
   "source": [
    "df.to_csv('hyperparameter_xgb.csv', index=False)"
   ]
  },
  {
   "cell_type": "code",
   "execution_count": null,
   "id": "e42b8fd9-72c4-4c3b-9982-d6ce8995e37c",
   "metadata": {},
   "outputs": [],
   "source": [
    "xgb_params = df"
   ]
  },
  {
   "cell_type": "code",
   "execution_count": null,
   "id": "232d9bfe-b8f4-42d7-8d2d-506c5eb1eb7c",
   "metadata": {
    "scrolled": true
   },
   "outputs": [],
   "source": [
    "scores = []\n",
    "best_iter = []\n",
    "\n",
    "for i in tqdm(range(100)):\n",
    "    x_train, x_valid, y_train, y_valid = tr_ts_split(train, test, i+1, 7*24)\n",
    "    xgb_reg = XGBRegressor(n_estimators=10000, eta=0.01, min_child_weight=xgb_params.iloc[i, 2],\n",
    "                            max_depth=xgb_params.iloc[i, 3], colsample_bytree=xgb_params.iloc[i, 4],\n",
    "                            subsample=xgb_params.iloc[i, 5], seed=0)\n",
    "    xgb_reg.set_params(**{'objective':weighted_mse(100)})\n",
    "    xgb_reg.set_params(early_stopping_rounds=300)\n",
    "    xgb_reg.fit(x_train, y_train, eval_set=[(x_train, y_train), (x_valid, y_valid)], verbose=False)\n",
    "    y_pred = xgb_reg.predict(x_valid)\n",
    "    pred = pd.Series(y_pred)\n",
    "    sm = SMAPE(y_valid, y_pred)\n",
    "    scores.append(sm)\n",
    "    best_iter.append(xgb_reg.best_iteration) # 실제 best iteration은 이 값에 +1"
   ]
  },
  {
   "cell_type": "code",
   "execution_count": null,
   "id": "d7e3b993-ff02-42e6-8fec-e4ffbc9ce766",
   "metadata": {
    "scrolled": true
   },
   "outputs": [],
   "source": [
    "alpha_list = []\n",
    "smape_list = []\n",
    "\n",
    "for i in tqdm(range(100)):\n",
    "    x_train, x_valid, y_train, y_valid = tr_ts_split(train, test, i+1, 7*24)\n",
    "    xgb = XGBRegressor(seed=0,\n",
    "                        n_estimators=best_iter[i], eta=0.01, min_child_weight=xgb_params.iloc[i, 2],\n",
    "                        max_depth=xgb_params.iloc[i, 3], colsample_bytree=xgb_params.iloc[i, 4], subsample=xgb_params.iloc[i, 5])\n",
    "    xgb.fit(x_train, y_train)\n",
    "    pred0 = xgb.predict(x_valid)\n",
    "    best_alpha = 0\n",
    "    score0 = SMAPE(y_valid, pred0)\n",
    "\n",
    "    for j in [1, 2, 5, 7, 10, 25, 50, 75, 100]:\n",
    "        xgb = XGBRegressor(seed=0,\n",
    "                        n_estimators=best_iter[i], eta=0.01, min_child_weight=xgb_params.iloc[i, 2],\n",
    "                        max_depth=xgb_params.iloc[i, 3], colsample_bytree=xgb_params.iloc[i, 4], subsample=xgb_params.iloc[i, 5])\n",
    "        xgb.set_params(**{'objective': weighted_mse(j)})\n",
    "        xgb.fit(x_train, y_train)\n",
    "        pred1 = xgb.predict(x_valid)\n",
    "        score1 = SMAPE(y_valid, pred1)\n",
    "        if score1 < score0:\n",
    "            best_alpha = j\n",
    "            score0 = score1\n",
    "\n",
    "    alpha_list.append(best_alpha)\n",
    "    smape_list.append(score0)\n",
    "    print(f\"building {i+1} || best score: {score0} || alpha: {best_alpha}\")"
   ]
  },
  {
   "cell_type": "code",
   "execution_count": null,
   "id": "d429c5a0-5a53-44fd-8b47-af7fc4b9c58c",
   "metadata": {},
   "outputs": [],
   "source": [
    "xgb_params['alpha'] = alpha_list\n",
    "xgb_params['best_iter'] = best_iter\n",
    "xgb_params.head()"
   ]
  },
  {
   "cell_type": "code",
   "execution_count": null,
   "id": "273b3ba9-026e-4bbd-968f-2e961811de78",
   "metadata": {},
   "outputs": [],
   "source": [
    "xgb_params.to_csv('hyperparameter_xgb_real_last_testing.csv', index=False)"
   ]
  },
  {
   "cell_type": "code",
   "execution_count": null,
   "id": "93643492-df91-45a7-bc42-9ca7ab819f4f",
   "metadata": {},
   "outputs": [],
   "source": [
    "best_iter = xgb_params['best_iter'].to_list()\n",
    "best_iter[0]"
   ]
  },
  {
   "cell_type": "code",
   "execution_count": 212,
   "id": "44acfc0c-f774-4859-9448-71f034d355a3",
   "metadata": {},
   "outputs": [
    {
     "data": {
      "text/html": [
       "<div>\n",
       "<style scoped>\n",
       "    .dataframe tbody tr th:only-of-type {\n",
       "        vertical-align: middle;\n",
       "    }\n",
       "\n",
       "    .dataframe tbody tr th {\n",
       "        vertical-align: top;\n",
       "    }\n",
       "\n",
       "    .dataframe thead th {\n",
       "        text-align: right;\n",
       "    }\n",
       "</style>\n",
       "<table border=\"1\" class=\"dataframe\">\n",
       "  <thead>\n",
       "    <tr style=\"text-align: right;\">\n",
       "      <th></th>\n",
       "      <th>건물번호</th>\n",
       "      <th>기온(C)</th>\n",
       "      <th>강수량(mm)</th>\n",
       "      <th>풍속(m/s)</th>\n",
       "      <th>습도(%)</th>\n",
       "      <th>month</th>\n",
       "      <th>day</th>\n",
       "      <th>week</th>\n",
       "      <th>holiday</th>\n",
       "      <th>sin_time</th>\n",
       "      <th>cos_time</th>\n",
       "      <th>DI</th>\n",
       "      <th>power</th>\n",
       "      <th>연면적(m2)</th>\n",
       "      <th>냉방면적(m2)</th>\n",
       "      <th>태양광용량(kW)</th>\n",
       "      <th>ESS저장용량(kWh)</th>\n",
       "      <th>PCS용량(kW)</th>\n",
       "      <th>건물유형_건물기타</th>\n",
       "      <th>건물유형_공공</th>\n",
       "      <th>건물유형_대학교</th>\n",
       "      <th>건물유형_데이터센터</th>\n",
       "      <th>건물유형_백화점및아울렛</th>\n",
       "      <th>건물유형_병원</th>\n",
       "      <th>건물유형_상용</th>\n",
       "      <th>건물유형_아파트</th>\n",
       "      <th>건물유형_연구소</th>\n",
       "      <th>건물유형_지식산업센터</th>\n",
       "      <th>건물유형_할인마트</th>\n",
       "      <th>건물유형_호텔및리조트</th>\n",
       "      <th>CDH</th>\n",
       "    </tr>\n",
       "  </thead>\n",
       "  <tbody>\n",
       "    <tr>\n",
       "      <th>0</th>\n",
       "      <td>1</td>\n",
       "      <td>18.6</td>\n",
       "      <td>0.0</td>\n",
       "      <td>0.9</td>\n",
       "      <td>42.0</td>\n",
       "      <td>6</td>\n",
       "      <td>2</td>\n",
       "      <td>22</td>\n",
       "      <td>0</td>\n",
       "      <td>0.000000</td>\n",
       "      <td>1.000000</td>\n",
       "      <td>234.154</td>\n",
       "      <td>1085.28</td>\n",
       "      <td>110634.0</td>\n",
       "      <td>39570.0</td>\n",
       "      <td>0.0</td>\n",
       "      <td>0.0</td>\n",
       "      <td>0.0</td>\n",
       "      <td>1</td>\n",
       "      <td>0</td>\n",
       "      <td>0</td>\n",
       "      <td>0</td>\n",
       "      <td>0</td>\n",
       "      <td>0</td>\n",
       "      <td>0</td>\n",
       "      <td>0</td>\n",
       "      <td>0</td>\n",
       "      <td>0</td>\n",
       "      <td>0</td>\n",
       "      <td>0</td>\n",
       "      <td>-7.4</td>\n",
       "    </tr>\n",
       "    <tr>\n",
       "      <th>1</th>\n",
       "      <td>1</td>\n",
       "      <td>18.0</td>\n",
       "      <td>0.0</td>\n",
       "      <td>1.1</td>\n",
       "      <td>45.0</td>\n",
       "      <td>6</td>\n",
       "      <td>2</td>\n",
       "      <td>22</td>\n",
       "      <td>0</td>\n",
       "      <td>0.258819</td>\n",
       "      <td>0.965926</td>\n",
       "      <td>219.280</td>\n",
       "      <td>1047.36</td>\n",
       "      <td>110634.0</td>\n",
       "      <td>39570.0</td>\n",
       "      <td>0.0</td>\n",
       "      <td>0.0</td>\n",
       "      <td>0.0</td>\n",
       "      <td>1</td>\n",
       "      <td>0</td>\n",
       "      <td>0</td>\n",
       "      <td>0</td>\n",
       "      <td>0</td>\n",
       "      <td>0</td>\n",
       "      <td>0</td>\n",
       "      <td>0</td>\n",
       "      <td>0</td>\n",
       "      <td>0</td>\n",
       "      <td>0</td>\n",
       "      <td>0</td>\n",
       "      <td>-15.4</td>\n",
       "    </tr>\n",
       "    <tr>\n",
       "      <th>2</th>\n",
       "      <td>1</td>\n",
       "      <td>17.7</td>\n",
       "      <td>0.0</td>\n",
       "      <td>1.5</td>\n",
       "      <td>45.0</td>\n",
       "      <td>6</td>\n",
       "      <td>2</td>\n",
       "      <td>22</td>\n",
       "      <td>0</td>\n",
       "      <td>0.500000</td>\n",
       "      <td>0.866025</td>\n",
       "      <td>205.672</td>\n",
       "      <td>974.88</td>\n",
       "      <td>110634.0</td>\n",
       "      <td>39570.0</td>\n",
       "      <td>0.0</td>\n",
       "      <td>0.0</td>\n",
       "      <td>0.0</td>\n",
       "      <td>1</td>\n",
       "      <td>0</td>\n",
       "      <td>0</td>\n",
       "      <td>0</td>\n",
       "      <td>0</td>\n",
       "      <td>0</td>\n",
       "      <td>0</td>\n",
       "      <td>0</td>\n",
       "      <td>0</td>\n",
       "      <td>0</td>\n",
       "      <td>0</td>\n",
       "      <td>0</td>\n",
       "      <td>-23.7</td>\n",
       "    </tr>\n",
       "    <tr>\n",
       "      <th>3</th>\n",
       "      <td>1</td>\n",
       "      <td>16.7</td>\n",
       "      <td>0.0</td>\n",
       "      <td>1.4</td>\n",
       "      <td>48.0</td>\n",
       "      <td>6</td>\n",
       "      <td>2</td>\n",
       "      <td>22</td>\n",
       "      <td>0</td>\n",
       "      <td>0.707107</td>\n",
       "      <td>0.707107</td>\n",
       "      <td>167.011</td>\n",
       "      <td>953.76</td>\n",
       "      <td>110634.0</td>\n",
       "      <td>39570.0</td>\n",
       "      <td>0.0</td>\n",
       "      <td>0.0</td>\n",
       "      <td>0.0</td>\n",
       "      <td>1</td>\n",
       "      <td>0</td>\n",
       "      <td>0</td>\n",
       "      <td>0</td>\n",
       "      <td>0</td>\n",
       "      <td>0</td>\n",
       "      <td>0</td>\n",
       "      <td>0</td>\n",
       "      <td>0</td>\n",
       "      <td>0</td>\n",
       "      <td>0</td>\n",
       "      <td>0</td>\n",
       "      <td>-33.0</td>\n",
       "    </tr>\n",
       "    <tr>\n",
       "      <th>4</th>\n",
       "      <td>1</td>\n",
       "      <td>18.4</td>\n",
       "      <td>0.0</td>\n",
       "      <td>2.8</td>\n",
       "      <td>43.0</td>\n",
       "      <td>6</td>\n",
       "      <td>2</td>\n",
       "      <td>22</td>\n",
       "      <td>0</td>\n",
       "      <td>0.866025</td>\n",
       "      <td>0.500000</td>\n",
       "      <td>229.592</td>\n",
       "      <td>986.40</td>\n",
       "      <td>110634.0</td>\n",
       "      <td>39570.0</td>\n",
       "      <td>0.0</td>\n",
       "      <td>0.0</td>\n",
       "      <td>0.0</td>\n",
       "      <td>1</td>\n",
       "      <td>0</td>\n",
       "      <td>0</td>\n",
       "      <td>0</td>\n",
       "      <td>0</td>\n",
       "      <td>0</td>\n",
       "      <td>0</td>\n",
       "      <td>0</td>\n",
       "      <td>0</td>\n",
       "      <td>0</td>\n",
       "      <td>0</td>\n",
       "      <td>0</td>\n",
       "      <td>-40.6</td>\n",
       "    </tr>\n",
       "  </tbody>\n",
       "</table>\n",
       "</div>"
      ],
      "text/plain": [
       "   건물번호  기온(C)  강수량(mm)  풍속(m/s)  ...  건물유형_지식산업센터  건물유형_할인마트  건물유형_호텔및리조트   CDH\n",
       "0     1   18.6      0.0      0.9  ...            0          0            0  -7.4\n",
       "1     1   18.0      0.0      1.1  ...            0          0            0 -15.4\n",
       "2     1   17.7      0.0      1.5  ...            0          0            0 -23.7\n",
       "3     1   16.7      0.0      1.4  ...            0          0            0 -33.0\n",
       "4     1   18.4      0.0      2.8  ...            0          0            0 -40.6\n",
       "\n",
       "[5 rows x 31 columns]"
      ]
     },
     "execution_count": 212,
     "metadata": {},
     "output_type": "execute_result"
    }
   ],
   "source": [
    "train.head()"
   ]
  },
  {
   "cell_type": "code",
   "execution_count": null,
   "id": "999ed75d-ae3d-4bbe-9089-35b9c140905c",
   "metadata": {},
   "outputs": [],
   "source": [
    "preds = np.array([])\n",
    "for i in tqdm(range(100)):\n",
    "    pred_df = pd.DataFrame()\n",
    "    for seed in range(0, 6):\n",
    "        x_train = train.loc[train['건물번호']==i+1,].drop(['건물번호', 'power'], axis=1)\n",
    "        y_train = train.loc[train['건물번호']==i+1, 'power']\n",
    "        x_test = test.loc[test['건물번호']==i+1,].drop('건물번호', axis=1)\n",
    "\n",
    "        xgb = XGBRegressor(seed=seed, n_estimators=best_iter[i], eta=0.01,\n",
    "                            min_child_weight=xgb_params.iloc[i, 2], max_depth=xgb_params.iloc[i, 3],\n",
    "                            colsample_bytree=xgb_params.iloc[i, 4], subsample=xgb_params.iloc[i, 5])\n",
    "        if xgb_params.iloc[i, 6] != 0:\n",
    "            xgb.set_params(**{'objective':weighted_mse(xgb_params.iloc[i, 6])})\n",
    "\n",
    "        xgb.fit(x_train, y_train)\n",
    "        y_pred = xgb.predict(x_test)\n",
    "        pred_df.loc[:, seed] = y_pred\n",
    "\n",
    "    pred = pred_df.mean(axis=1)\n",
    "    preds = np.append(preds, pred)"
   ]
  },
  {
   "cell_type": "code",
   "execution_count": null,
   "id": "8a94279f-8196-42ef-b232-04b14d3f9418",
   "metadata": {},
   "outputs": [],
   "source": [
    "sub = pd.read_csv('sample_submission.csv')\n",
    "sub['answer'] = preds\n",
    "sub.to_csv('xgb_sub_22.csv', index=False)"
   ]
  },
  {
   "cell_type": "code",
   "execution_count": 215,
   "id": "350267e0-c3b5-4d66-93c5-e785f8e25f4c",
   "metadata": {
    "scrolled": true
   },
   "outputs": [
    {
     "data": {
      "text/plain": [
       "[{'건물번호': 1, 'SMAPE': 3.5419388838477404, 'R2': 0.9563832166343148},\n",
       " {'건물번호': 2, 'SMAPE': 4.295780152455329, 'R2': 0.8651174662607124},\n",
       " {'건물번호': 3, 'SMAPE': 4.976127431146375, 'R2': 0.8282886548210623},\n",
       " {'건물번호': 4, 'SMAPE': 1.916974758959043, 'R2': 0.9749491993399805},\n",
       " {'건물번호': 5, 'SMAPE': 2.8188883844313564, 'R2': 0.972446435735248},\n",
       " {'건물번호': 6, 'SMAPE': 1.8247299710309055, 'R2': 0.9802984729616211},\n",
       " {'건물번호': 7, 'SMAPE': 4.181533402777831, 'R2': 0.906970899840581},\n",
       " {'건물번호': 8, 'SMAPE': 2.8739138223687473, 'R2': 0.6702282399188223},\n",
       " {'건물번호': 9, 'SMAPE': 1.8549493161639723, 'R2': 0.984736771457575},\n",
       " {'건물번호': 10, 'SMAPE': 3.5416225095446876, 'R2': 0.4322418016566194},\n",
       " {'건물번호': 11, 'SMAPE': 1.686647477272509, 'R2': 0.8955227858960689},\n",
       " {'건물번호': 12, 'SMAPE': 1.9311341180054387, 'R2': 0.8995117473179703},\n",
       " {'건물번호': 13, 'SMAPE': 3.004711373509035, 'R2': 0.3961679661426334},\n",
       " {'건물번호': 14, 'SMAPE': 7.909728524427743, 'R2': 0.34326299780211256},\n",
       " {'건물번호': 15, 'SMAPE': 1.8971932943063454, 'R2': 0.8458132584564995},\n",
       " {'건물번호': 16, 'SMAPE': 2.020895267248837, 'R2': 0.9855279166437871},\n",
       " {'건물번호': 17, 'SMAPE': 3.0345161593836227, 'R2': 0.9455755730715113},\n",
       " {'건물번호': 18, 'SMAPE': 3.5805708796288402, 'R2': 0.9046722159410551},\n",
       " {'건물번호': 19, 'SMAPE': 3.926657594482213, 'R2': 0.939612714103329},\n",
       " {'건물번호': 20, 'SMAPE': 4.505567909655219, 'R2': 0.7790902289158669},\n",
       " {'건물번호': 21, 'SMAPE': 4.278992383451455, 'R2': 0.9122880595171534},\n",
       " {'건물번호': 22, 'SMAPE': 1.714605236128287, 'R2': 0.9462697614433282},\n",
       " {'건물번호': 23, 'SMAPE': 1.9977630506533826, 'R2': 0.7118909379916054},\n",
       " {'건물번호': 24, 'SMAPE': 1.2147046751398998, 'R2': 0.9876692285042109},\n",
       " {'건물번호': 25, 'SMAPE': 1.071914519547852, 'R2': 0.9838502476852887},\n",
       " {'건물번호': 26, 'SMAPE': 1.2754434182491863, 'R2': 0.9526249517572365},\n",
       " {'건물번호': 27, 'SMAPE': 1.2089446938323858, 'R2': 0.9196695823152246},\n",
       " {'건물번호': 28, 'SMAPE': 2.3315863766342164, 'R2': 0.9464801178483762},\n",
       " {'건물번호': 29, 'SMAPE': 2.6397465527714137, 'R2': 0.893935316935024},\n",
       " {'건물번호': 30, 'SMAPE': 3.9998166322091757, 'R2': 0.8506247677458555},\n",
       " {'건물번호': 31, 'SMAPE': 2.404524493769024, 'R2': 0.9470255358159374},\n",
       " {'건물번호': 32, 'SMAPE': 0.20167359555235026, 'R2': 0.8627698561039703},\n",
       " {'건물번호': 33, 'SMAPE': 0.17276764974408107, 'R2': 0.8229450580971566},\n",
       " {'건물번호': 34, 'SMAPE': 0.29083416300093756, 'R2': 0.8981595130056876},\n",
       " {'건물번호': 35, 'SMAPE': 0.20213486317948995, 'R2': 0.9010597272573889},\n",
       " {'건물번호': 36, 'SMAPE': 0.22888851855130976, 'R2': 0.8347444701991675},\n",
       " {'건물번호': 37, 'SMAPE': 1.9402276172887187, 'R2': 0.9851492380233352},\n",
       " {'건물번호': 38, 'SMAPE': 1.9617611605591168, 'R2': 0.9943749284020462},\n",
       " {'건물번호': 39, 'SMAPE': 2.728407977794472, 'R2': 0.9885208059263002},\n",
       " {'건물번호': 40, 'SMAPE': 4.546766536131502, 'R2': 0.9656154457447984},\n",
       " {'건물번호': 41, 'SMAPE': 2.6815394639501484, 'R2': 0.9838264802312887},\n",
       " {'건물번호': 42, 'SMAPE': 8.269081357655107, 'R2': 0.8281778457904116},\n",
       " {'건물번호': 43, 'SMAPE': 2.755572977719789, 'R2': 0.994723176597687},\n",
       " {'건물번호': 44, 'SMAPE': 1.8201344384866398, 'R2': 0.9967343309116449},\n",
       " {'건물번호': 45, 'SMAPE': 1.031363070076244, 'R2': 0.9737000429866236},\n",
       " {'건물번호': 46, 'SMAPE': 2.6331329043994436, 'R2': 0.92278881387551},\n",
       " {'건물번호': 47, 'SMAPE': 2.2539981932224626, 'R2': 0.9370271337273428},\n",
       " {'건물번호': 48, 'SMAPE': 1.1154793572288213, 'R2': 0.9814344911305359},\n",
       " {'건물번호': 49, 'SMAPE': 1.2120048314692171, 'R2': 0.9532919655392368},\n",
       " {'건물번호': 50, 'SMAPE': 1.0199365813115648, 'R2': 0.9601624825442548},\n",
       " {'건물번호': 51, 'SMAPE': 2.0669342021532136, 'R2': 0.8991889464170111},\n",
       " {'건물번호': 52, 'SMAPE': 2.6000342771919813, 'R2': 0.9036673759514853},\n",
       " {'건물번호': 53, 'SMAPE': 6.854501133324095, 'R2': 0.9364671663465698},\n",
       " {'건물번호': 54, 'SMAPE': 15.395086816186549, 'R2': 0.49099037535994716},\n",
       " {'건물번호': 55, 'SMAPE': 0.9133351004211036, 'R2': 0.8675089182357368},\n",
       " {'건물번호': 56, 'SMAPE': 0.5136544276081201, 'R2': 0.9081687822234766},\n",
       " {'건물번호': 57, 'SMAPE': 2.5555318460320944, 'R2': 0.9844644443151935},\n",
       " {'건물번호': 58, 'SMAPE': 0.25820350743212367, 'R2': 0.8921785168651243},\n",
       " {'건물번호': 59, 'SMAPE': 2.6890831895609573, 'R2': 0.9830364479014171},\n",
       " {'건물번호': 60, 'SMAPE': 3.108999755320832, 'R2': 0.9513218358851899},\n",
       " {'건물번호': 61, 'SMAPE': 2.098628213842975, 'R2': 0.9361982912678116},\n",
       " {'건물번호': 62, 'SMAPE': 2.578592625332191, 'R2': 0.9294393834986527},\n",
       " {'건물번호': 63, 'SMAPE': 2.971701521957132, 'R2': 0.9287959839133162},\n",
       " {'건물번호': 64, 'SMAPE': 1.985596970855797, 'R2': 0.9568742246611621},\n",
       " {'건물번호': 65, 'SMAPE': 4.477452022680745, 'R2': 0.8716774757272846},\n",
       " {'건물번호': 66, 'SMAPE': 1.8075105650528174, 'R2': 0.8956864249497588},\n",
       " {'건물번호': 67, 'SMAPE': 2.4244448231708127, 'R2': 0.9204433840320086},\n",
       " {'건물번호': 68, 'SMAPE': 2.0780954476198916, 'R2': 0.9457956065829916},\n",
       " {'건물번호': 69, 'SMAPE': 1.3608021628841247, 'R2': 0.9763652402810177},\n",
       " {'건물번호': 70, 'SMAPE': 2.1535704873595076, 'R2': 0.9490361026829824},\n",
       " {'건물번호': 71, 'SMAPE': 1.9380533494838634, 'R2': 0.8843182552902552},\n",
       " {'건물번호': 72, 'SMAPE': 3.11790978159792, 'R2': 0.6752659005529251},\n",
       " {'건물번호': 73, 'SMAPE': 1.894932481017263, 'R2': 0.7765012765933019},\n",
       " {'건물번호': 74, 'SMAPE': 2.9064913642972994, 'R2': 0.9340450887680255},\n",
       " {'건물번호': 75, 'SMAPE': 1.8454658791086458, 'R2': 0.9271562141468898},\n",
       " {'건물번호': 76, 'SMAPE': 2.6014692289978596, 'R2': 0.7430607283602755},\n",
       " {'건물번호': 77, 'SMAPE': 2.01922110911595, 'R2': 0.9243078132874606},\n",
       " {'건물번호': 78, 'SMAPE': 1.973855662055632, 'R2': 0.9842392917365872},\n",
       " {'건물번호': 79, 'SMAPE': 1.701066369657164, 'R2': 0.9559524985782594},\n",
       " {'건물번호': 80, 'SMAPE': 2.124459802533189, 'R2': 0.9855431738335988},\n",
       " {'건물번호': 81, 'SMAPE': 1.791810368984323, 'R2': 0.9921057077506286},\n",
       " {'건물번호': 82, 'SMAPE': 2.2331208822734103, 'R2': 0.9791614753485487},\n",
       " {'건물번호': 83, 'SMAPE': 2.0530122898435006, 'R2': 0.9689341497362238},\n",
       " {'건물번호': 84, 'SMAPE': 1.5542968158928958, 'R2': 0.9811956709238533},\n",
       " {'건물번호': 85, 'SMAPE': 1.8305992084508518, 'R2': 0.9525778546733997},\n",
       " {'건물번호': 86, 'SMAPE': 3.2313918652357763, 'R2': 0.9409824975851684},\n",
       " {'건물번호': 87, 'SMAPE': 5.291645176902233, 'R2': 0.8432895618265352},\n",
       " {'건물번호': 88, 'SMAPE': 3.7365340906742253, 'R2': 0.8688590929058374},\n",
       " {'건물번호': 89, 'SMAPE': 3.7449668254633037, 'R2': 0.8604168252423186},\n",
       " {'건물번호': 90, 'SMAPE': 4.34946441335132, 'R2': 0.945437045071281},\n",
       " {'건물번호': 91, 'SMAPE': 6.43265018021721, 'R2': 0.9286566290153027},\n",
       " {'건물번호': 92, 'SMAPE': 3.913048284116499, 'R2': 0.8626063819152766},\n",
       " {'건물번호': 93, 'SMAPE': 3.2880901234526063, 'R2': 0.8776833565580425},\n",
       " {'건물번호': 94, 'SMAPE': 2.938023570863095, 'R2': 0.9149138873111788},\n",
       " {'건물번호': 95, 'SMAPE': 7.873954719913101, 'R2': 0.5904394760729672},\n",
       " {'건물번호': 96, 'SMAPE': 1.4553180409335444, 'R2': 0.9685772721403265},\n",
       " {'건물번호': 97, 'SMAPE': 2.4088445027411467, 'R2': 0.9322687034662536},\n",
       " {'건물번호': 98, 'SMAPE': 7.2588277284224985, 'R2': 0.8560677105509416},\n",
       " {'건물번호': 99, 'SMAPE': 1.5314447971624443, 'R2': 0.9820596675396264},\n",
       " {'건물번호': 100, 'SMAPE': 2.597097674198934, 'R2': 0.967838655132623}]"
      ]
     },
     "execution_count": 215,
     "metadata": {},
     "output_type": "execute_result"
    }
   ],
   "source": [
    "summary_list"
   ]
  },
  {
   "cell_type": "code",
   "execution_count": 57,
   "id": "be23ef2c-f938-4ae5-9a1e-c0810792d77b",
   "metadata": {},
   "outputs": [
    {
     "data": {
      "text/html": [
       "<div>\n",
       "<style scoped>\n",
       "    .dataframe tbody tr th:only-of-type {\n",
       "        vertical-align: middle;\n",
       "    }\n",
       "\n",
       "    .dataframe tbody tr th {\n",
       "        vertical-align: top;\n",
       "    }\n",
       "\n",
       "    .dataframe thead th {\n",
       "        text-align: right;\n",
       "    }\n",
       "</style>\n",
       "<table border=\"1\" class=\"dataframe\">\n",
       "  <thead>\n",
       "    <tr style=\"text-align: right;\">\n",
       "      <th></th>\n",
       "      <th>num_date_time</th>\n",
       "      <th>건물번호</th>\n",
       "      <th>일시</th>\n",
       "      <th>기온(C)</th>\n",
       "      <th>강수량(mm)</th>\n",
       "      <th>풍속(m/s)</th>\n",
       "      <th>습도(%)</th>\n",
       "      <th>일조(hr)</th>\n",
       "      <th>일사(MJ/m2)</th>\n",
       "      <th>전력소비량(kWh)</th>\n",
       "    </tr>\n",
       "  </thead>\n",
       "  <tbody>\n",
       "    <tr>\n",
       "      <th>108120</th>\n",
       "      <td>54_20220601 00</td>\n",
       "      <td>54</td>\n",
       "      <td>20220601 00</td>\n",
       "      <td>18.6</td>\n",
       "      <td>NaN</td>\n",
       "      <td>2.6</td>\n",
       "      <td>62.0</td>\n",
       "      <td>NaN</td>\n",
       "      <td>NaN</td>\n",
       "      <td>578.16</td>\n",
       "    </tr>\n",
       "    <tr>\n",
       "      <th>108121</th>\n",
       "      <td>54_20220601 01</td>\n",
       "      <td>54</td>\n",
       "      <td>20220601 01</td>\n",
       "      <td>18.8</td>\n",
       "      <td>NaN</td>\n",
       "      <td>0.4</td>\n",
       "      <td>62.0</td>\n",
       "      <td>NaN</td>\n",
       "      <td>NaN</td>\n",
       "      <td>408.24</td>\n",
       "    </tr>\n",
       "    <tr>\n",
       "      <th>108122</th>\n",
       "      <td>54_20220601 02</td>\n",
       "      <td>54</td>\n",
       "      <td>20220601 02</td>\n",
       "      <td>18.9</td>\n",
       "      <td>NaN</td>\n",
       "      <td>0.0</td>\n",
       "      <td>52.0</td>\n",
       "      <td>NaN</td>\n",
       "      <td>NaN</td>\n",
       "      <td>398.16</td>\n",
       "    </tr>\n",
       "    <tr>\n",
       "      <th>108123</th>\n",
       "      <td>54_20220601 03</td>\n",
       "      <td>54</td>\n",
       "      <td>20220601 03</td>\n",
       "      <td>20.2</td>\n",
       "      <td>NaN</td>\n",
       "      <td>2.4</td>\n",
       "      <td>38.0</td>\n",
       "      <td>NaN</td>\n",
       "      <td>NaN</td>\n",
       "      <td>387.36</td>\n",
       "    </tr>\n",
       "    <tr>\n",
       "      <th>108124</th>\n",
       "      <td>54_20220601 04</td>\n",
       "      <td>54</td>\n",
       "      <td>20220601 04</td>\n",
       "      <td>20.4</td>\n",
       "      <td>NaN</td>\n",
       "      <td>2.8</td>\n",
       "      <td>40.0</td>\n",
       "      <td>NaN</td>\n",
       "      <td>NaN</td>\n",
       "      <td>387.36</td>\n",
       "    </tr>\n",
       "    <tr>\n",
       "      <th>108125</th>\n",
       "      <td>54_20220601 05</td>\n",
       "      <td>54</td>\n",
       "      <td>20220601 05</td>\n",
       "      <td>20.0</td>\n",
       "      <td>NaN</td>\n",
       "      <td>1.7</td>\n",
       "      <td>41.0</td>\n",
       "      <td>NaN</td>\n",
       "      <td>NaN</td>\n",
       "      <td>419.76</td>\n",
       "    </tr>\n",
       "    <tr>\n",
       "      <th>108126</th>\n",
       "      <td>54_20220601 06</td>\n",
       "      <td>54</td>\n",
       "      <td>20220601 06</td>\n",
       "      <td>19.6</td>\n",
       "      <td>NaN</td>\n",
       "      <td>0.0</td>\n",
       "      <td>47.0</td>\n",
       "      <td>0.0</td>\n",
       "      <td>0.04</td>\n",
       "      <td>612.72</td>\n",
       "    </tr>\n",
       "    <tr>\n",
       "      <th>108127</th>\n",
       "      <td>54_20220601 07</td>\n",
       "      <td>54</td>\n",
       "      <td>20220601 07</td>\n",
       "      <td>21.2</td>\n",
       "      <td>NaN</td>\n",
       "      <td>2.0</td>\n",
       "      <td>38.0</td>\n",
       "      <td>0.0</td>\n",
       "      <td>0.29</td>\n",
       "      <td>661.68</td>\n",
       "    </tr>\n",
       "    <tr>\n",
       "      <th>108128</th>\n",
       "      <td>54_20220601 08</td>\n",
       "      <td>54</td>\n",
       "      <td>20220601 08</td>\n",
       "      <td>22.9</td>\n",
       "      <td>NaN</td>\n",
       "      <td>1.3</td>\n",
       "      <td>36.0</td>\n",
       "      <td>0.0</td>\n",
       "      <td>0.69</td>\n",
       "      <td>1210.32</td>\n",
       "    </tr>\n",
       "    <tr>\n",
       "      <th>108129</th>\n",
       "      <td>54_20220601 09</td>\n",
       "      <td>54</td>\n",
       "      <td>20220601 09</td>\n",
       "      <td>25.6</td>\n",
       "      <td>NaN</td>\n",
       "      <td>0.3</td>\n",
       "      <td>32.0</td>\n",
       "      <td>0.8</td>\n",
       "      <td>1.43</td>\n",
       "      <td>1901.16</td>\n",
       "    </tr>\n",
       "    <tr>\n",
       "      <th>108130</th>\n",
       "      <td>54_20220601 10</td>\n",
       "      <td>54</td>\n",
       "      <td>20220601 10</td>\n",
       "      <td>22.8</td>\n",
       "      <td>NaN</td>\n",
       "      <td>4.1</td>\n",
       "      <td>60.0</td>\n",
       "      <td>1.0</td>\n",
       "      <td>2.37</td>\n",
       "      <td>2460.60</td>\n",
       "    </tr>\n",
       "    <tr>\n",
       "      <th>108131</th>\n",
       "      <td>54_20220601 11</td>\n",
       "      <td>54</td>\n",
       "      <td>20220601 11</td>\n",
       "      <td>24.4</td>\n",
       "      <td>NaN</td>\n",
       "      <td>2.7</td>\n",
       "      <td>46.0</td>\n",
       "      <td>1.0</td>\n",
       "      <td>2.65</td>\n",
       "      <td>2768.40</td>\n",
       "    </tr>\n",
       "    <tr>\n",
       "      <th>108132</th>\n",
       "      <td>54_20220601 12</td>\n",
       "      <td>54</td>\n",
       "      <td>20220601 12</td>\n",
       "      <td>23.8</td>\n",
       "      <td>NaN</td>\n",
       "      <td>2.6</td>\n",
       "      <td>43.0</td>\n",
       "      <td>1.0</td>\n",
       "      <td>3.12</td>\n",
       "      <td>2823.84</td>\n",
       "    </tr>\n",
       "    <tr>\n",
       "      <th>108133</th>\n",
       "      <td>54_20220601 13</td>\n",
       "      <td>54</td>\n",
       "      <td>20220601 13</td>\n",
       "      <td>24.7</td>\n",
       "      <td>NaN</td>\n",
       "      <td>4.1</td>\n",
       "      <td>38.0</td>\n",
       "      <td>1.0</td>\n",
       "      <td>3.42</td>\n",
       "      <td>3227.40</td>\n",
       "    </tr>\n",
       "    <tr>\n",
       "      <th>108134</th>\n",
       "      <td>54_20220601 14</td>\n",
       "      <td>54</td>\n",
       "      <td>20220601 14</td>\n",
       "      <td>25.1</td>\n",
       "      <td>NaN</td>\n",
       "      <td>3.3</td>\n",
       "      <td>35.0</td>\n",
       "      <td>1.0</td>\n",
       "      <td>3.08</td>\n",
       "      <td>3123.00</td>\n",
       "    </tr>\n",
       "    <tr>\n",
       "      <th>108135</th>\n",
       "      <td>54_20220601 15</td>\n",
       "      <td>54</td>\n",
       "      <td>20220601 15</td>\n",
       "      <td>25.5</td>\n",
       "      <td>NaN</td>\n",
       "      <td>3.2</td>\n",
       "      <td>33.0</td>\n",
       "      <td>1.0</td>\n",
       "      <td>3.12</td>\n",
       "      <td>3101.76</td>\n",
       "    </tr>\n",
       "    <tr>\n",
       "      <th>108136</th>\n",
       "      <td>54_20220601 16</td>\n",
       "      <td>54</td>\n",
       "      <td>20220601 16</td>\n",
       "      <td>23.9</td>\n",
       "      <td>NaN</td>\n",
       "      <td>4.7</td>\n",
       "      <td>46.0</td>\n",
       "      <td>1.0</td>\n",
       "      <td>2.62</td>\n",
       "      <td>2899.08</td>\n",
       "    </tr>\n",
       "    <tr>\n",
       "      <th>108137</th>\n",
       "      <td>54_20220601 17</td>\n",
       "      <td>54</td>\n",
       "      <td>20220601 17</td>\n",
       "      <td>23.7</td>\n",
       "      <td>NaN</td>\n",
       "      <td>3.2</td>\n",
       "      <td>63.0</td>\n",
       "      <td>1.0</td>\n",
       "      <td>2.03</td>\n",
       "      <td>2721.96</td>\n",
       "    </tr>\n",
       "    <tr>\n",
       "      <th>108138</th>\n",
       "      <td>54_20220601 18</td>\n",
       "      <td>54</td>\n",
       "      <td>20220601 18</td>\n",
       "      <td>22.4</td>\n",
       "      <td>NaN</td>\n",
       "      <td>3.4</td>\n",
       "      <td>70.0</td>\n",
       "      <td>1.0</td>\n",
       "      <td>1.28</td>\n",
       "      <td>2694.60</td>\n",
       "    </tr>\n",
       "    <tr>\n",
       "      <th>108139</th>\n",
       "      <td>54_20220601 19</td>\n",
       "      <td>54</td>\n",
       "      <td>20220601 19</td>\n",
       "      <td>21.4</td>\n",
       "      <td>NaN</td>\n",
       "      <td>3.0</td>\n",
       "      <td>65.0</td>\n",
       "      <td>0.8</td>\n",
       "      <td>0.50</td>\n",
       "      <td>2587.32</td>\n",
       "    </tr>\n",
       "    <tr>\n",
       "      <th>108140</th>\n",
       "      <td>54_20220601 20</td>\n",
       "      <td>54</td>\n",
       "      <td>20220601 20</td>\n",
       "      <td>21.5</td>\n",
       "      <td>NaN</td>\n",
       "      <td>4.3</td>\n",
       "      <td>54.0</td>\n",
       "      <td>0.0</td>\n",
       "      <td>0.03</td>\n",
       "      <td>1672.20</td>\n",
       "    </tr>\n",
       "    <tr>\n",
       "      <th>108141</th>\n",
       "      <td>54_20220601 21</td>\n",
       "      <td>54</td>\n",
       "      <td>20220601 21</td>\n",
       "      <td>21.5</td>\n",
       "      <td>NaN</td>\n",
       "      <td>4.8</td>\n",
       "      <td>45.0</td>\n",
       "      <td>NaN</td>\n",
       "      <td>NaN</td>\n",
       "      <td>851.40</td>\n",
       "    </tr>\n",
       "    <tr>\n",
       "      <th>108142</th>\n",
       "      <td>54_20220601 22</td>\n",
       "      <td>54</td>\n",
       "      <td>20220601 22</td>\n",
       "      <td>20.3</td>\n",
       "      <td>NaN</td>\n",
       "      <td>4.0</td>\n",
       "      <td>67.0</td>\n",
       "      <td>NaN</td>\n",
       "      <td>NaN</td>\n",
       "      <td>741.24</td>\n",
       "    </tr>\n",
       "    <tr>\n",
       "      <th>108143</th>\n",
       "      <td>54_20220601 23</td>\n",
       "      <td>54</td>\n",
       "      <td>20220601 23</td>\n",
       "      <td>19.9</td>\n",
       "      <td>NaN</td>\n",
       "      <td>5.0</td>\n",
       "      <td>68.0</td>\n",
       "      <td>NaN</td>\n",
       "      <td>NaN</td>\n",
       "      <td>692.28</td>\n",
       "    </tr>\n",
       "  </tbody>\n",
       "</table>\n",
       "</div>"
      ],
      "text/plain": [
       "         num_date_time  건물번호           일시  기온(C)  강수량(mm)  풍속(m/s)  습도(%)  \\\n",
       "108120  54_20220601 00    54  20220601 00   18.6      NaN      2.6   62.0   \n",
       "108121  54_20220601 01    54  20220601 01   18.8      NaN      0.4   62.0   \n",
       "108122  54_20220601 02    54  20220601 02   18.9      NaN      0.0   52.0   \n",
       "108123  54_20220601 03    54  20220601 03   20.2      NaN      2.4   38.0   \n",
       "108124  54_20220601 04    54  20220601 04   20.4      NaN      2.8   40.0   \n",
       "108125  54_20220601 05    54  20220601 05   20.0      NaN      1.7   41.0   \n",
       "108126  54_20220601 06    54  20220601 06   19.6      NaN      0.0   47.0   \n",
       "108127  54_20220601 07    54  20220601 07   21.2      NaN      2.0   38.0   \n",
       "108128  54_20220601 08    54  20220601 08   22.9      NaN      1.3   36.0   \n",
       "108129  54_20220601 09    54  20220601 09   25.6      NaN      0.3   32.0   \n",
       "108130  54_20220601 10    54  20220601 10   22.8      NaN      4.1   60.0   \n",
       "108131  54_20220601 11    54  20220601 11   24.4      NaN      2.7   46.0   \n",
       "108132  54_20220601 12    54  20220601 12   23.8      NaN      2.6   43.0   \n",
       "108133  54_20220601 13    54  20220601 13   24.7      NaN      4.1   38.0   \n",
       "108134  54_20220601 14    54  20220601 14   25.1      NaN      3.3   35.0   \n",
       "108135  54_20220601 15    54  20220601 15   25.5      NaN      3.2   33.0   \n",
       "108136  54_20220601 16    54  20220601 16   23.9      NaN      4.7   46.0   \n",
       "108137  54_20220601 17    54  20220601 17   23.7      NaN      3.2   63.0   \n",
       "108138  54_20220601 18    54  20220601 18   22.4      NaN      3.4   70.0   \n",
       "108139  54_20220601 19    54  20220601 19   21.4      NaN      3.0   65.0   \n",
       "108140  54_20220601 20    54  20220601 20   21.5      NaN      4.3   54.0   \n",
       "108141  54_20220601 21    54  20220601 21   21.5      NaN      4.8   45.0   \n",
       "108142  54_20220601 22    54  20220601 22   20.3      NaN      4.0   67.0   \n",
       "108143  54_20220601 23    54  20220601 23   19.9      NaN      5.0   68.0   \n",
       "\n",
       "        일조(hr)  일사(MJ/m2)  전력소비량(kWh)  \n",
       "108120     NaN        NaN      578.16  \n",
       "108121     NaN        NaN      408.24  \n",
       "108122     NaN        NaN      398.16  \n",
       "108123     NaN        NaN      387.36  \n",
       "108124     NaN        NaN      387.36  \n",
       "108125     NaN        NaN      419.76  \n",
       "108126     0.0       0.04      612.72  \n",
       "108127     0.0       0.29      661.68  \n",
       "108128     0.0       0.69     1210.32  \n",
       "108129     0.8       1.43     1901.16  \n",
       "108130     1.0       2.37     2460.60  \n",
       "108131     1.0       2.65     2768.40  \n",
       "108132     1.0       3.12     2823.84  \n",
       "108133     1.0       3.42     3227.40  \n",
       "108134     1.0       3.08     3123.00  \n",
       "108135     1.0       3.12     3101.76  \n",
       "108136     1.0       2.62     2899.08  \n",
       "108137     1.0       2.03     2721.96  \n",
       "108138     1.0       1.28     2694.60  \n",
       "108139     0.8       0.50     2587.32  \n",
       "108140     0.0       0.03     1672.20  \n",
       "108141     NaN        NaN      851.40  \n",
       "108142     NaN        NaN      741.24  \n",
       "108143     NaN        NaN      692.28  "
      ]
     },
     "execution_count": 57,
     "metadata": {},
     "output_type": "execute_result"
    }
   ],
   "source": [
    "train[train['건물번호']==54].head(24)"
   ]
  },
  {
   "cell_type": "code",
   "execution_count": 52,
   "id": "351c4d4f-8be3-4b88-8b73-d4ab11fb5b1f",
   "metadata": {},
   "outputs": [],
   "source": [
    "bi = pd.read_csv('building_info.csv')"
   ]
  },
  {
   "cell_type": "code",
   "execution_count": 54,
   "id": "f8706ef3-cad3-47a4-b24e-8049a90ee3a0",
   "metadata": {},
   "outputs": [
    {
     "data": {
      "text/html": [
       "<div>\n",
       "<style scoped>\n",
       "    .dataframe tbody tr th:only-of-type {\n",
       "        vertical-align: middle;\n",
       "    }\n",
       "\n",
       "    .dataframe tbody tr th {\n",
       "        vertical-align: top;\n",
       "    }\n",
       "\n",
       "    .dataframe thead th {\n",
       "        text-align: right;\n",
       "    }\n",
       "</style>\n",
       "<table border=\"1\" class=\"dataframe\">\n",
       "  <thead>\n",
       "    <tr style=\"text-align: right;\">\n",
       "      <th></th>\n",
       "      <th>건물번호</th>\n",
       "      <th>건물유형</th>\n",
       "      <th>연면적(m2)</th>\n",
       "      <th>냉방면적(m2)</th>\n",
       "      <th>태양광용량(kW)</th>\n",
       "      <th>ESS저장용량(kWh)</th>\n",
       "      <th>PCS용량(kW)</th>\n",
       "    </tr>\n",
       "  </thead>\n",
       "  <tbody>\n",
       "    <tr>\n",
       "      <th>53</th>\n",
       "      <td>54</td>\n",
       "      <td>상용</td>\n",
       "      <td>109400.2</td>\n",
       "      <td>65803.57</td>\n",
       "      <td>-</td>\n",
       "      <td>-</td>\n",
       "      <td>-</td>\n",
       "    </tr>\n",
       "  </tbody>\n",
       "</table>\n",
       "</div>"
      ],
      "text/plain": [
       "    건물번호 건물유형   연면적(m2)  냉방면적(m2) 태양광용량(kW) ESS저장용량(kWh) PCS용량(kW)\n",
       "53    54   상용  109400.2  65803.57         -            -         -"
      ]
     },
     "execution_count": 54,
     "metadata": {},
     "output_type": "execute_result"
    }
   ],
   "source": [
    "bi[bi['건물번호']==54]"
   ]
  },
  {
   "cell_type": "markdown",
   "id": "5c0cf122-9f49-493a-9b95-02af1805b780",
   "metadata": {},
   "source": [
    "test와 train의 분포 차이 확인\n",
    "random forest 모델 확인\n",
    "과대 예측 잡기\n",
    "54번 건물 주의(튀는 애 발견, outlier 제거 후 시도 예를 들면 뒤에서 1000개 빼서 수행)\n",
    "feature selection 요망"
   ]
  },
  {
   "cell_type": "code",
   "execution_count": null,
   "id": "e8012194-9890-40f6-b8a3-ddbdc3b3e842",
   "metadata": {},
   "outputs": [],
   "source": []
  }
 ],
 "metadata": {
  "kernelspec": {
   "display_name": "Python 3 (ipykernel)",
   "language": "python",
   "name": "python3"
  },
  "language_info": {
   "codemirror_mode": {
    "name": "ipython",
    "version": 3
   },
   "file_extension": ".py",
   "mimetype": "text/x-python",
   "name": "python",
   "nbconvert_exporter": "python",
   "pygments_lexer": "ipython3",
   "version": "3.10.8"
  }
 },
 "nbformat": 4,
 "nbformat_minor": 5
}
