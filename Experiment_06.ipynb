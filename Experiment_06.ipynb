{
 "cells": [
  {
   "cell_type": "code",
   "execution_count": 1,
   "id": "eee281c2-960f-47f0-b8c7-596f2cc7c8ce",
   "metadata": {},
   "outputs": [],
   "source": [
    "import xgboost as xgb\n",
    "import tqdm as tq\n",
    "import matplotlib.pyplot as plt\n",
    "import seaborn as sns\n",
    "import sklearn\n",
    "import pandas as pd\n",
    "from tqdm import tqdm\n",
    "from xgboost import XGBRegressor\n",
    "import numpy as np"
   ]
  },
  {
   "cell_type": "markdown",
   "id": "be889fcb-95a8-40b4-b6a1-83183b4acce0",
   "metadata": {},
   "source": [
    "### Train Data Preprocessing"
   ]
  },
  {
   "cell_type": "code",
   "execution_count": 68,
   "id": "7f61b5e7-8f27-48a6-8cee-7d2ef8ef6bb5",
   "metadata": {},
   "outputs": [],
   "source": [
    "train = pd.read_csv('train.csv')"
   ]
  },
  {
   "cell_type": "code",
   "execution_count": 69,
   "id": "1cdf8a36-28d1-48cb-9d43-2016e6e84909",
   "metadata": {},
   "outputs": [
    {
     "data": {
      "text/html": [
       "<div>\n",
       "<style scoped>\n",
       "    .dataframe tbody tr th:only-of-type {\n",
       "        vertical-align: middle;\n",
       "    }\n",
       "\n",
       "    .dataframe tbody tr th {\n",
       "        vertical-align: top;\n",
       "    }\n",
       "\n",
       "    .dataframe thead th {\n",
       "        text-align: right;\n",
       "    }\n",
       "</style>\n",
       "<table border=\"1\" class=\"dataframe\">\n",
       "  <thead>\n",
       "    <tr style=\"text-align: right;\">\n",
       "      <th></th>\n",
       "      <th>num_date_time</th>\n",
       "      <th>건물번호</th>\n",
       "      <th>일시</th>\n",
       "      <th>기온(C)</th>\n",
       "      <th>강수량(mm)</th>\n",
       "      <th>풍속(m/s)</th>\n",
       "      <th>습도(%)</th>\n",
       "      <th>일조(hr)</th>\n",
       "      <th>일사(MJ/m2)</th>\n",
       "      <th>전력소비량(kWh)</th>\n",
       "    </tr>\n",
       "  </thead>\n",
       "  <tbody>\n",
       "    <tr>\n",
       "      <th>0</th>\n",
       "      <td>1_20220601 00</td>\n",
       "      <td>1</td>\n",
       "      <td>20220601 00</td>\n",
       "      <td>18.6</td>\n",
       "      <td>NaN</td>\n",
       "      <td>0.9</td>\n",
       "      <td>42.0</td>\n",
       "      <td>NaN</td>\n",
       "      <td>NaN</td>\n",
       "      <td>1085.28</td>\n",
       "    </tr>\n",
       "    <tr>\n",
       "      <th>1</th>\n",
       "      <td>1_20220601 01</td>\n",
       "      <td>1</td>\n",
       "      <td>20220601 01</td>\n",
       "      <td>18.0</td>\n",
       "      <td>NaN</td>\n",
       "      <td>1.1</td>\n",
       "      <td>45.0</td>\n",
       "      <td>NaN</td>\n",
       "      <td>NaN</td>\n",
       "      <td>1047.36</td>\n",
       "    </tr>\n",
       "    <tr>\n",
       "      <th>2</th>\n",
       "      <td>1_20220601 02</td>\n",
       "      <td>1</td>\n",
       "      <td>20220601 02</td>\n",
       "      <td>17.7</td>\n",
       "      <td>NaN</td>\n",
       "      <td>1.5</td>\n",
       "      <td>45.0</td>\n",
       "      <td>NaN</td>\n",
       "      <td>NaN</td>\n",
       "      <td>974.88</td>\n",
       "    </tr>\n",
       "    <tr>\n",
       "      <th>3</th>\n",
       "      <td>1_20220601 03</td>\n",
       "      <td>1</td>\n",
       "      <td>20220601 03</td>\n",
       "      <td>16.7</td>\n",
       "      <td>NaN</td>\n",
       "      <td>1.4</td>\n",
       "      <td>48.0</td>\n",
       "      <td>NaN</td>\n",
       "      <td>NaN</td>\n",
       "      <td>953.76</td>\n",
       "    </tr>\n",
       "    <tr>\n",
       "      <th>4</th>\n",
       "      <td>1_20220601 04</td>\n",
       "      <td>1</td>\n",
       "      <td>20220601 04</td>\n",
       "      <td>18.4</td>\n",
       "      <td>NaN</td>\n",
       "      <td>2.8</td>\n",
       "      <td>43.0</td>\n",
       "      <td>NaN</td>\n",
       "      <td>NaN</td>\n",
       "      <td>986.40</td>\n",
       "    </tr>\n",
       "  </tbody>\n",
       "</table>\n",
       "</div>"
      ],
      "text/plain": [
       "   num_date_time  건물번호           일시  기온(C)  강수량(mm)  풍속(m/s)  습도(%)  일조(hr)  \\\n",
       "0  1_20220601 00     1  20220601 00   18.6      NaN      0.9   42.0     NaN   \n",
       "1  1_20220601 01     1  20220601 01   18.0      NaN      1.1   45.0     NaN   \n",
       "2  1_20220601 02     1  20220601 02   17.7      NaN      1.5   45.0     NaN   \n",
       "3  1_20220601 03     1  20220601 03   16.7      NaN      1.4   48.0     NaN   \n",
       "4  1_20220601 04     1  20220601 04   18.4      NaN      2.8   43.0     NaN   \n",
       "\n",
       "   일사(MJ/m2)  전력소비량(kWh)  \n",
       "0        NaN     1085.28  \n",
       "1        NaN     1047.36  \n",
       "2        NaN      974.88  \n",
       "3        NaN      953.76  \n",
       "4        NaN      986.40  "
      ]
     },
     "execution_count": 69,
     "metadata": {},
     "output_type": "execute_result"
    }
   ],
   "source": [
    "train.head()"
   ]
  },
  {
   "cell_type": "code",
   "execution_count": 70,
   "id": "59de0470-210e-4c17-ba7d-434f9b126c1d",
   "metadata": {},
   "outputs": [],
   "source": [
    "train.pop('일조(hr)')\n",
    "train.pop('일사(MJ/m2)')\n",
    "\n",
    "train['일시'] = pd.to_datetime(train['일시'], format='%Y%m%d %H')\n",
    "train['month'] = train['일시'].dt.month\n",
    "train['day'] = train['일시'].dt.weekday\n",
    "train['hour'] = train['일시'].dt.hour\n",
    "train['holiday'] = train.apply(lambda x: 0 if x['day']<5 else 1, axis=1)\n",
    "train['sin_time'] = np.sin(2*np.pi*train.hour/24) # cyclical encoding\n",
    "train['cos_time'] = np.cos(2*np.pi*train.hour/24)\n",
    "train['DI'] = 1.8*train['기온(C)'] - 0.55*(1-train['습도(%)'])*(1.8*train['기온(C)']-26) + 32 # 불쾌지수\n",
    "\n",
    "train.pop('num_date_time')\n",
    "train.pop('일시')\n",
    "train.pop('hour')\n",
    "train['power'] = train['전력소비량(kWh)']\n",
    "train.pop('전력소비량(kWh)')\n",
    "train['강수량(mm)'] = train['강수량(mm)'].fillna(0)\n",
    "train['풍속(m/s)'] = train['풍속(m/s)'].fillna(0)\n",
    "train['습도(%)'] = train['습도(%)'].fillna(0)"
   ]
  },
  {
   "cell_type": "code",
   "execution_count": 71,
   "id": "1a8002f6-4dd7-4ba1-8b62-969ef3a3c198",
   "metadata": {},
   "outputs": [],
   "source": [
    "train.to_csv('train_preprocessed.csv', index=False)"
   ]
  },
  {
   "cell_type": "code",
   "execution_count": 72,
   "id": "a31c380d-3dd0-475f-bca0-80c0573d6b4e",
   "metadata": {},
   "outputs": [
    {
     "data": {
      "text/html": [
       "<div>\n",
       "<style scoped>\n",
       "    .dataframe tbody tr th:only-of-type {\n",
       "        vertical-align: middle;\n",
       "    }\n",
       "\n",
       "    .dataframe tbody tr th {\n",
       "        vertical-align: top;\n",
       "    }\n",
       "\n",
       "    .dataframe thead th {\n",
       "        text-align: right;\n",
       "    }\n",
       "</style>\n",
       "<table border=\"1\" class=\"dataframe\">\n",
       "  <thead>\n",
       "    <tr style=\"text-align: right;\">\n",
       "      <th></th>\n",
       "      <th>건물번호</th>\n",
       "      <th>기온(C)</th>\n",
       "      <th>강수량(mm)</th>\n",
       "      <th>풍속(m/s)</th>\n",
       "      <th>습도(%)</th>\n",
       "      <th>month</th>\n",
       "      <th>day</th>\n",
       "      <th>holiday</th>\n",
       "      <th>sin_time</th>\n",
       "      <th>cos_time</th>\n",
       "      <th>DI</th>\n",
       "      <th>power</th>\n",
       "    </tr>\n",
       "  </thead>\n",
       "  <tbody>\n",
       "    <tr>\n",
       "      <th>0</th>\n",
       "      <td>1</td>\n",
       "      <td>18.6</td>\n",
       "      <td>0.0</td>\n",
       "      <td>0.9</td>\n",
       "      <td>42.0</td>\n",
       "      <td>6</td>\n",
       "      <td>2</td>\n",
       "      <td>0</td>\n",
       "      <td>0.000000</td>\n",
       "      <td>1.000000</td>\n",
       "      <td>234.154</td>\n",
       "      <td>1085.28</td>\n",
       "    </tr>\n",
       "    <tr>\n",
       "      <th>1</th>\n",
       "      <td>1</td>\n",
       "      <td>18.0</td>\n",
       "      <td>0.0</td>\n",
       "      <td>1.1</td>\n",
       "      <td>45.0</td>\n",
       "      <td>6</td>\n",
       "      <td>2</td>\n",
       "      <td>0</td>\n",
       "      <td>0.258819</td>\n",
       "      <td>0.965926</td>\n",
       "      <td>219.280</td>\n",
       "      <td>1047.36</td>\n",
       "    </tr>\n",
       "    <tr>\n",
       "      <th>2</th>\n",
       "      <td>1</td>\n",
       "      <td>17.7</td>\n",
       "      <td>0.0</td>\n",
       "      <td>1.5</td>\n",
       "      <td>45.0</td>\n",
       "      <td>6</td>\n",
       "      <td>2</td>\n",
       "      <td>0</td>\n",
       "      <td>0.500000</td>\n",
       "      <td>0.866025</td>\n",
       "      <td>205.672</td>\n",
       "      <td>974.88</td>\n",
       "    </tr>\n",
       "    <tr>\n",
       "      <th>3</th>\n",
       "      <td>1</td>\n",
       "      <td>16.7</td>\n",
       "      <td>0.0</td>\n",
       "      <td>1.4</td>\n",
       "      <td>48.0</td>\n",
       "      <td>6</td>\n",
       "      <td>2</td>\n",
       "      <td>0</td>\n",
       "      <td>0.707107</td>\n",
       "      <td>0.707107</td>\n",
       "      <td>167.011</td>\n",
       "      <td>953.76</td>\n",
       "    </tr>\n",
       "    <tr>\n",
       "      <th>4</th>\n",
       "      <td>1</td>\n",
       "      <td>18.4</td>\n",
       "      <td>0.0</td>\n",
       "      <td>2.8</td>\n",
       "      <td>43.0</td>\n",
       "      <td>6</td>\n",
       "      <td>2</td>\n",
       "      <td>0</td>\n",
       "      <td>0.866025</td>\n",
       "      <td>0.500000</td>\n",
       "      <td>229.592</td>\n",
       "      <td>986.40</td>\n",
       "    </tr>\n",
       "  </tbody>\n",
       "</table>\n",
       "</div>"
      ],
      "text/plain": [
       "   건물번호  기온(C)  강수량(mm)  풍속(m/s)  습도(%)  month  day  holiday  sin_time  \\\n",
       "0     1   18.6      0.0      0.9   42.0      6    2        0  0.000000   \n",
       "1     1   18.0      0.0      1.1   45.0      6    2        0  0.258819   \n",
       "2     1   17.7      0.0      1.5   45.0      6    2        0  0.500000   \n",
       "3     1   16.7      0.0      1.4   48.0      6    2        0  0.707107   \n",
       "4     1   18.4      0.0      2.8   43.0      6    2        0  0.866025   \n",
       "\n",
       "   cos_time       DI    power  \n",
       "0  1.000000  234.154  1085.28  \n",
       "1  0.965926  219.280  1047.36  \n",
       "2  0.866025  205.672   974.88  \n",
       "3  0.707107  167.011   953.76  \n",
       "4  0.500000  229.592   986.40  "
      ]
     },
     "execution_count": 72,
     "metadata": {},
     "output_type": "execute_result"
    }
   ],
   "source": [
    "train.head()"
   ]
  },
  {
   "cell_type": "markdown",
   "id": "29f5e3d3-d033-4c9e-a57d-5db4b884662d",
   "metadata": {},
   "source": [
    "### Test Data Preprocessing"
   ]
  },
  {
   "cell_type": "code",
   "execution_count": 73,
   "id": "1bea4453-24e0-416d-a845-b5e7544362bb",
   "metadata": {},
   "outputs": [],
   "source": [
    "test = pd.read_csv('test.csv')"
   ]
  },
  {
   "cell_type": "code",
   "execution_count": 74,
   "id": "74e0fb28-df5b-4251-9d6a-f8aa511e4e77",
   "metadata": {},
   "outputs": [
    {
     "data": {
      "text/plain": [
       "0         0\n",
       "1         1\n",
       "2         2\n",
       "3         3\n",
       "4         4\n",
       "         ..\n",
       "16795    19\n",
       "16796    20\n",
       "16797    21\n",
       "16798    22\n",
       "16799    23\n",
       "Name: hour, Length: 16800, dtype: int64"
      ]
     },
     "execution_count": 74,
     "metadata": {},
     "output_type": "execute_result"
    }
   ],
   "source": [
    "test['일시'] = pd.to_datetime(test['일시'], format='%Y%m%d %H')\n",
    "test['month'] = test['일시'].dt.month\n",
    "test['day'] = test['일시'].dt.weekday\n",
    "test['hour'] = test['일시'].dt.hour\n",
    "test['holiday'] = test.apply(lambda x: 0 if x['day']<5 else 1, axis=1)\n",
    "test['sin_time'] = np.sin(2*np.pi*test.hour/24)\n",
    "test['cos_time'] = np.cos(2*np.pi*test.hour/24)\n",
    "test['DI'] = 1.8*test['기온(C)'] - 0.55*(1-test['습도(%)'])*(1.8*test['기온(C)']-26) + 32\n",
    "\n",
    "test.pop('num_date_time')\n",
    "test.pop('일시')\n",
    "test.pop('hour')"
   ]
  },
  {
   "cell_type": "code",
   "execution_count": 75,
   "id": "f8fdff53-b31c-4f97-9ea1-56cec17dfbb5",
   "metadata": {},
   "outputs": [],
   "source": [
    "test.to_csv('test_preprocessed.csv', index=False)"
   ]
  },
  {
   "cell_type": "code",
   "execution_count": 14,
   "id": "71d805d7-7688-4321-914f-d2f7cc149acb",
   "metadata": {},
   "outputs": [
    {
     "data": {
      "text/html": [
       "<div>\n",
       "<style scoped>\n",
       "    .dataframe tbody tr th:only-of-type {\n",
       "        vertical-align: middle;\n",
       "    }\n",
       "\n",
       "    .dataframe tbody tr th {\n",
       "        vertical-align: top;\n",
       "    }\n",
       "\n",
       "    .dataframe thead th {\n",
       "        text-align: right;\n",
       "    }\n",
       "</style>\n",
       "<table border=\"1\" class=\"dataframe\">\n",
       "  <thead>\n",
       "    <tr style=\"text-align: right;\">\n",
       "      <th></th>\n",
       "      <th>건물번호</th>\n",
       "      <th>기온(C)</th>\n",
       "      <th>강수량(mm)</th>\n",
       "      <th>풍속(m/s)</th>\n",
       "      <th>습도(%)</th>\n",
       "      <th>month</th>\n",
       "      <th>day</th>\n",
       "      <th>holiday</th>\n",
       "      <th>sin_time</th>\n",
       "      <th>cos_time</th>\n",
       "      <th>DI</th>\n",
       "    </tr>\n",
       "  </thead>\n",
       "  <tbody>\n",
       "    <tr>\n",
       "      <th>0</th>\n",
       "      <td>1</td>\n",
       "      <td>23.5</td>\n",
       "      <td>0.0</td>\n",
       "      <td>2.2</td>\n",
       "      <td>72</td>\n",
       "      <td>8</td>\n",
       "      <td>3</td>\n",
       "      <td>0</td>\n",
       "      <td>0.000000</td>\n",
       "      <td>1.000000</td>\n",
       "      <td>710.815</td>\n",
       "    </tr>\n",
       "    <tr>\n",
       "      <th>1</th>\n",
       "      <td>1</td>\n",
       "      <td>23.0</td>\n",
       "      <td>0.0</td>\n",
       "      <td>0.9</td>\n",
       "      <td>72</td>\n",
       "      <td>8</td>\n",
       "      <td>3</td>\n",
       "      <td>0</td>\n",
       "      <td>0.258819</td>\n",
       "      <td>0.965926</td>\n",
       "      <td>674.770</td>\n",
       "    </tr>\n",
       "    <tr>\n",
       "      <th>2</th>\n",
       "      <td>1</td>\n",
       "      <td>22.7</td>\n",
       "      <td>0.0</td>\n",
       "      <td>1.5</td>\n",
       "      <td>75</td>\n",
       "      <td>8</td>\n",
       "      <td>3</td>\n",
       "      <td>0</td>\n",
       "      <td>0.500000</td>\n",
       "      <td>0.866025</td>\n",
       "      <td>677.662</td>\n",
       "    </tr>\n",
       "    <tr>\n",
       "      <th>3</th>\n",
       "      <td>1</td>\n",
       "      <td>22.1</td>\n",
       "      <td>0.0</td>\n",
       "      <td>1.3</td>\n",
       "      <td>78</td>\n",
       "      <td>8</td>\n",
       "      <td>3</td>\n",
       "      <td>0</td>\n",
       "      <td>0.707107</td>\n",
       "      <td>0.707107</td>\n",
       "      <td>655.363</td>\n",
       "    </tr>\n",
       "    <tr>\n",
       "      <th>4</th>\n",
       "      <td>1</td>\n",
       "      <td>21.8</td>\n",
       "      <td>0.0</td>\n",
       "      <td>1.0</td>\n",
       "      <td>77</td>\n",
       "      <td>8</td>\n",
       "      <td>3</td>\n",
       "      <td>0</td>\n",
       "      <td>0.866025</td>\n",
       "      <td>0.500000</td>\n",
       "      <td>624.672</td>\n",
       "    </tr>\n",
       "  </tbody>\n",
       "</table>\n",
       "</div>"
      ],
      "text/plain": [
       "   건물번호  기온(C)  강수량(mm)  풍속(m/s)  습도(%)  month  day  holiday  sin_time  \\\n",
       "0     1   23.5      0.0      2.2     72      8    3        0  0.000000   \n",
       "1     1   23.0      0.0      0.9     72      8    3        0  0.258819   \n",
       "2     1   22.7      0.0      1.5     75      8    3        0  0.500000   \n",
       "3     1   22.1      0.0      1.3     78      8    3        0  0.707107   \n",
       "4     1   21.8      0.0      1.0     77      8    3        0  0.866025   \n",
       "\n",
       "   cos_time       DI  \n",
       "0  1.000000  710.815  \n",
       "1  0.965926  674.770  \n",
       "2  0.866025  677.662  \n",
       "3  0.707107  655.363  \n",
       "4  0.500000  624.672  "
      ]
     },
     "execution_count": 14,
     "metadata": {},
     "output_type": "execute_result"
    }
   ],
   "source": [
    "test.head()"
   ]
  },
  {
   "cell_type": "markdown",
   "id": "e2f9c074-d55a-4a36-9461-40139033a011",
   "metadata": {},
   "source": [
    "### Training"
   ]
  },
  {
   "cell_type": "code",
   "execution_count": 76,
   "id": "fab3d84e-949e-4b73-b830-09283bc10667",
   "metadata": {},
   "outputs": [],
   "source": [
    "import os\n",
    "from sklearn.metrics import make_scorer\n",
    "from sklearn.model_selection import GridSearchCV, train_test_split"
   ]
  },
  {
   "cell_type": "code",
   "execution_count": 77,
   "id": "6c71b83a-4ce1-4b65-9c31-a0e501f0201b",
   "metadata": {},
   "outputs": [],
   "source": [
    "def SMAPE(true, pred):\n",
    "    return np.mean((np.abs(true - pred))/(np.abs(true) + np.abs(pred))) * 100    "
   ]
  },
  {
   "cell_type": "code",
   "execution_count": 20,
   "id": "a68b9d34-0df2-4774-b766-09577950fb3f",
   "metadata": {},
   "outputs": [
    {
     "data": {
      "text/html": [
       "<div>\n",
       "<style scoped>\n",
       "    .dataframe tbody tr th:only-of-type {\n",
       "        vertical-align: middle;\n",
       "    }\n",
       "\n",
       "    .dataframe tbody tr th {\n",
       "        vertical-align: top;\n",
       "    }\n",
       "\n",
       "    .dataframe thead th {\n",
       "        text-align: right;\n",
       "    }\n",
       "</style>\n",
       "<table border=\"1\" class=\"dataframe\">\n",
       "  <thead>\n",
       "    <tr style=\"text-align: right;\">\n",
       "      <th></th>\n",
       "      <th>건물번호</th>\n",
       "      <th>기온(C)</th>\n",
       "      <th>강수량(mm)</th>\n",
       "      <th>풍속(m/s)</th>\n",
       "      <th>습도(%)</th>\n",
       "      <th>month</th>\n",
       "      <th>day</th>\n",
       "      <th>week</th>\n",
       "      <th>holiday</th>\n",
       "      <th>sin_time</th>\n",
       "      <th>cos_time</th>\n",
       "      <th>DI</th>\n",
       "      <th>power</th>\n",
       "    </tr>\n",
       "  </thead>\n",
       "  <tbody>\n",
       "    <tr>\n",
       "      <th>0</th>\n",
       "      <td>1</td>\n",
       "      <td>18.6</td>\n",
       "      <td>0.0</td>\n",
       "      <td>0.9</td>\n",
       "      <td>42.0</td>\n",
       "      <td>6</td>\n",
       "      <td>2</td>\n",
       "      <td>22</td>\n",
       "      <td>0</td>\n",
       "      <td>0.000000</td>\n",
       "      <td>1.000000</td>\n",
       "      <td>234.154</td>\n",
       "      <td>1085.28</td>\n",
       "    </tr>\n",
       "    <tr>\n",
       "      <th>1</th>\n",
       "      <td>1</td>\n",
       "      <td>18.0</td>\n",
       "      <td>0.0</td>\n",
       "      <td>1.1</td>\n",
       "      <td>45.0</td>\n",
       "      <td>6</td>\n",
       "      <td>2</td>\n",
       "      <td>22</td>\n",
       "      <td>0</td>\n",
       "      <td>0.258819</td>\n",
       "      <td>0.965926</td>\n",
       "      <td>219.280</td>\n",
       "      <td>1047.36</td>\n",
       "    </tr>\n",
       "    <tr>\n",
       "      <th>2</th>\n",
       "      <td>1</td>\n",
       "      <td>17.7</td>\n",
       "      <td>0.0</td>\n",
       "      <td>1.5</td>\n",
       "      <td>45.0</td>\n",
       "      <td>6</td>\n",
       "      <td>2</td>\n",
       "      <td>22</td>\n",
       "      <td>0</td>\n",
       "      <td>0.500000</td>\n",
       "      <td>0.866025</td>\n",
       "      <td>205.672</td>\n",
       "      <td>974.88</td>\n",
       "    </tr>\n",
       "    <tr>\n",
       "      <th>3</th>\n",
       "      <td>1</td>\n",
       "      <td>16.7</td>\n",
       "      <td>0.0</td>\n",
       "      <td>1.4</td>\n",
       "      <td>48.0</td>\n",
       "      <td>6</td>\n",
       "      <td>2</td>\n",
       "      <td>22</td>\n",
       "      <td>0</td>\n",
       "      <td>0.707107</td>\n",
       "      <td>0.707107</td>\n",
       "      <td>167.011</td>\n",
       "      <td>953.76</td>\n",
       "    </tr>\n",
       "    <tr>\n",
       "      <th>4</th>\n",
       "      <td>1</td>\n",
       "      <td>18.4</td>\n",
       "      <td>0.0</td>\n",
       "      <td>2.8</td>\n",
       "      <td>43.0</td>\n",
       "      <td>6</td>\n",
       "      <td>2</td>\n",
       "      <td>22</td>\n",
       "      <td>0</td>\n",
       "      <td>0.866025</td>\n",
       "      <td>0.500000</td>\n",
       "      <td>229.592</td>\n",
       "      <td>986.40</td>\n",
       "    </tr>\n",
       "  </tbody>\n",
       "</table>\n",
       "</div>"
      ],
      "text/plain": [
       "   건물번호  기온(C)  강수량(mm)  풍속(m/s)  ...  sin_time  cos_time       DI    power\n",
       "0     1   18.6      0.0      0.9  ...  0.000000  1.000000  234.154  1085.28\n",
       "1     1   18.0      0.0      1.1  ...  0.258819  0.965926  219.280  1047.36\n",
       "2     1   17.7      0.0      1.5  ...  0.500000  0.866025  205.672   974.88\n",
       "3     1   16.7      0.0      1.4  ...  0.707107  0.707107  167.011   953.76\n",
       "4     1   18.4      0.0      2.8  ...  0.866025  0.500000  229.592   986.40\n",
       "\n",
       "[5 rows x 13 columns]"
      ]
     },
     "execution_count": 20,
     "metadata": {},
     "output_type": "execute_result"
    }
   ],
   "source": [
    "train.head()"
   ]
  },
  {
   "cell_type": "code",
   "execution_count": 17,
   "id": "bb9bc997-ae40-4cad-87af-2447d5f1f426",
   "metadata": {},
   "outputs": [],
   "source": [
    "def tr_ts_split(train, test, number, val_hour):\n",
    "    x = train.loc[train['건물번호']==number].drop(['건물번호','power'], axis=1)\n",
    "    y = train.loc[train['건물번호']==number, 'power']\n",
    "\n",
    "    if val_hour == 0:\n",
    "        return x, None, y, None\n",
    "    else:\n",
    "        x_train, x_valid, y_train, y_valid = x[:-val_hour], x[-val_hour:], y[:-val_hour], y[-val_hour:]\n",
    "        return x_train, x_valid.reset_index(drop=True), y_train, y_valid.reset_index(drop=True)"
   ]
  },
  {
   "cell_type": "code",
   "execution_count": 18,
   "id": "1c799848-e452-487e-977b-17c3a381e72a",
   "metadata": {},
   "outputs": [],
   "source": [
    "def fit_and_pred_XGB(train, test, number, seed=0):\n",
    "    x_train, x_valid, y_train, y_valid = tr_ts_split(train, test, number, 7*24)\n",
    "\n",
    "    xgb_reg = XGBRegressor(n_estimators=10000, eta=0.01, seed=seed,\n",
    "                            gpu_id=0, tree_method='gpu_hist', predictor='gpu_predictor')\n",
    "    xgb_reg.fit(x_train, y_train, eval_set=[(x_train, y_train), (x_valid, y_valid)],\n",
    "                early_stopping_rounds=300, verbose=False)\n",
    "    pred = xgb_reg.predict(x_valid)\n",
    "    pred = pd.Series(pred)\n",
    "    \n",
    "    x_test = test[test['건물번호']==number]\n",
    "    y_test_pred = xgb_reg.predict(x_test.drop('건물번호', axis=1))\n",
    "\n",
    "    smape_val = SMAPE(y_valid, pred)\n",
    "    r2_val = sklearn.metrics.r2_score(y_valid, pred)\n",
    "    print(f'SMAPE: {smape_val}')\n",
    "    print(f'R2: {r2_val}')\n",
    "    return smape_val, r2_val, y_valid, pred, y_test_pred"
   ]
  },
  {
   "cell_type": "code",
   "execution_count": 193,
   "id": "38906c9e-e20c-41e4-b2d9-6db6ce363246",
   "metadata": {
    "scrolled": true
   },
   "outputs": [
    {
     "name": "stderr",
     "output_type": "stream",
     "text": [
      "  0%|          | 0/100 [00:00<?, ?it/s]/opt/conda/lib/python3.10/site-packages/xgboost/sklearn.py:835: UserWarning: `early_stopping_rounds` in `fit` method is deprecated for better compatibility with scikit-learn, use `early_stopping_rounds` in constructor or`set_params` instead.\n",
      "  warnings.warn(\n"
     ]
    },
    {
     "name": "stdout",
     "output_type": "stream",
     "text": [
      "===== < BUILDING NO.1 > =====\n"
     ]
    },
    {
     "name": "stderr",
     "output_type": "stream",
     "text": [
      "  1%|          | 1/100 [00:03<06:20,  3.84s/it]"
     ]
    },
    {
     "name": "stdout",
     "output_type": "stream",
     "text": [
      "SMAPE: 3.181562601718308\n",
      "R2: 0.9615178576544824\n",
      "===== < BUILDING NO.2 > =====\n"
     ]
    },
    {
     "name": "stderr",
     "output_type": "stream",
     "text": [
      "/opt/conda/lib/python3.10/site-packages/xgboost/sklearn.py:835: UserWarning: `early_stopping_rounds` in `fit` method is deprecated for better compatibility with scikit-learn, use `early_stopping_rounds` in constructor or`set_params` instead.\n",
      "  warnings.warn(\n",
      "  2%|▏         | 2/100 [00:05<03:44,  2.29s/it]"
     ]
    },
    {
     "name": "stdout",
     "output_type": "stream",
     "text": [
      "SMAPE: 4.984570757938752\n",
      "R2: 0.8430983047175616\n",
      "===== < BUILDING NO.3 > =====\n"
     ]
    },
    {
     "name": "stderr",
     "output_type": "stream",
     "text": [
      "/opt/conda/lib/python3.10/site-packages/xgboost/sklearn.py:835: UserWarning: `early_stopping_rounds` in `fit` method is deprecated for better compatibility with scikit-learn, use `early_stopping_rounds` in constructor or`set_params` instead.\n",
      "  warnings.warn(\n",
      "  3%|▎         | 3/100 [00:06<02:46,  1.71s/it]"
     ]
    },
    {
     "name": "stdout",
     "output_type": "stream",
     "text": [
      "SMAPE: 4.748388184464371\n",
      "R2: 0.8652680846533359\n",
      "===== < BUILDING NO.4 > =====\n"
     ]
    },
    {
     "name": "stderr",
     "output_type": "stream",
     "text": [
      "/opt/conda/lib/python3.10/site-packages/xgboost/sklearn.py:835: UserWarning: `early_stopping_rounds` in `fit` method is deprecated for better compatibility with scikit-learn, use `early_stopping_rounds` in constructor or`set_params` instead.\n",
      "  warnings.warn(\n",
      "  4%|▍         | 4/100 [00:07<02:21,  1.48s/it]"
     ]
    },
    {
     "name": "stdout",
     "output_type": "stream",
     "text": [
      "SMAPE: 1.9465192802099425\n",
      "R2: 0.9750096667872354\n",
      "===== < BUILDING NO.5 > =====\n"
     ]
    },
    {
     "name": "stderr",
     "output_type": "stream",
     "text": [
      "/opt/conda/lib/python3.10/site-packages/xgboost/sklearn.py:835: UserWarning: `early_stopping_rounds` in `fit` method is deprecated for better compatibility with scikit-learn, use `early_stopping_rounds` in constructor or`set_params` instead.\n",
      "  warnings.warn(\n",
      "  5%|▌         | 5/100 [00:09<02:50,  1.80s/it]"
     ]
    },
    {
     "name": "stdout",
     "output_type": "stream",
     "text": [
      "SMAPE: 3.6377630521333417\n",
      "R2: 0.9559777174391022\n",
      "===== < BUILDING NO.6 > =====\n"
     ]
    },
    {
     "name": "stderr",
     "output_type": "stream",
     "text": [
      "/opt/conda/lib/python3.10/site-packages/xgboost/sklearn.py:835: UserWarning: `early_stopping_rounds` in `fit` method is deprecated for better compatibility with scikit-learn, use `early_stopping_rounds` in constructor or`set_params` instead.\n",
      "  warnings.warn(\n",
      "  6%|▌         | 6/100 [00:11<02:42,  1.73s/it]"
     ]
    },
    {
     "name": "stdout",
     "output_type": "stream",
     "text": [
      "SMAPE: 2.4182941771967346\n",
      "R2: 0.9578611514086105\n",
      "===== < BUILDING NO.7 > =====\n"
     ]
    },
    {
     "name": "stderr",
     "output_type": "stream",
     "text": [
      "/opt/conda/lib/python3.10/site-packages/xgboost/sklearn.py:835: UserWarning: `early_stopping_rounds` in `fit` method is deprecated for better compatibility with scikit-learn, use `early_stopping_rounds` in constructor or`set_params` instead.\n",
      "  warnings.warn(\n",
      "  7%|▋         | 7/100 [00:12<02:31,  1.63s/it]"
     ]
    },
    {
     "name": "stdout",
     "output_type": "stream",
     "text": [
      "SMAPE: 4.307269667470138\n",
      "R2: 0.8993115864328871\n",
      "===== < BUILDING NO.8 > =====\n"
     ]
    },
    {
     "name": "stderr",
     "output_type": "stream",
     "text": [
      "/opt/conda/lib/python3.10/site-packages/xgboost/sklearn.py:835: UserWarning: `early_stopping_rounds` in `fit` method is deprecated for better compatibility with scikit-learn, use `early_stopping_rounds` in constructor or`set_params` instead.\n",
      "  warnings.warn(\n",
      "  8%|▊         | 8/100 [00:14<02:31,  1.65s/it]"
     ]
    },
    {
     "name": "stdout",
     "output_type": "stream",
     "text": [
      "SMAPE: 2.4014583106354452\n",
      "R2: 0.7386998076599489\n",
      "===== < BUILDING NO.9 > =====\n"
     ]
    },
    {
     "name": "stderr",
     "output_type": "stream",
     "text": [
      "/opt/conda/lib/python3.10/site-packages/xgboost/sklearn.py:835: UserWarning: `early_stopping_rounds` in `fit` method is deprecated for better compatibility with scikit-learn, use `early_stopping_rounds` in constructor or`set_params` instead.\n",
      "  warnings.warn(\n",
      "  9%|▉         | 9/100 [00:15<02:24,  1.59s/it]"
     ]
    },
    {
     "name": "stdout",
     "output_type": "stream",
     "text": [
      "SMAPE: 2.0614666848007412\n",
      "R2: 0.9704629056232329\n",
      "===== < BUILDING NO.10 > =====\n"
     ]
    },
    {
     "name": "stderr",
     "output_type": "stream",
     "text": [
      "/opt/conda/lib/python3.10/site-packages/xgboost/sklearn.py:835: UserWarning: `early_stopping_rounds` in `fit` method is deprecated for better compatibility with scikit-learn, use `early_stopping_rounds` in constructor or`set_params` instead.\n",
      "  warnings.warn(\n",
      " 10%|█         | 10/100 [00:16<02:08,  1.43s/it]"
     ]
    },
    {
     "name": "stdout",
     "output_type": "stream",
     "text": [
      "SMAPE: 3.3571069607198223\n",
      "R2: 0.5144255310690511\n",
      "===== < BUILDING NO.11 > =====\n"
     ]
    },
    {
     "name": "stderr",
     "output_type": "stream",
     "text": [
      "/opt/conda/lib/python3.10/site-packages/xgboost/sklearn.py:835: UserWarning: `early_stopping_rounds` in `fit` method is deprecated for better compatibility with scikit-learn, use `early_stopping_rounds` in constructor or`set_params` instead.\n",
      "  warnings.warn(\n",
      " 11%|█         | 11/100 [00:18<02:18,  1.55s/it]"
     ]
    },
    {
     "name": "stdout",
     "output_type": "stream",
     "text": [
      "SMAPE: 1.700174348810673\n",
      "R2: 0.8950997020083612\n",
      "===== < BUILDING NO.12 > =====\n"
     ]
    },
    {
     "name": "stderr",
     "output_type": "stream",
     "text": [
      "/opt/conda/lib/python3.10/site-packages/xgboost/sklearn.py:835: UserWarning: `early_stopping_rounds` in `fit` method is deprecated for better compatibility with scikit-learn, use `early_stopping_rounds` in constructor or`set_params` instead.\n",
      "  warnings.warn(\n",
      " 12%|█▏        | 12/100 [00:20<02:31,  1.72s/it]"
     ]
    },
    {
     "name": "stdout",
     "output_type": "stream",
     "text": [
      "SMAPE: 2.1180166920773233\n",
      "R2: 0.8906401719721289\n",
      "===== < BUILDING NO.13 > =====\n"
     ]
    },
    {
     "name": "stderr",
     "output_type": "stream",
     "text": [
      "/opt/conda/lib/python3.10/site-packages/xgboost/sklearn.py:835: UserWarning: `early_stopping_rounds` in `fit` method is deprecated for better compatibility with scikit-learn, use `early_stopping_rounds` in constructor or`set_params` instead.\n",
      "  warnings.warn(\n",
      " 13%|█▎        | 13/100 [00:22<02:26,  1.68s/it]"
     ]
    },
    {
     "name": "stdout",
     "output_type": "stream",
     "text": [
      "SMAPE: 3.6151650748380373\n",
      "R2: 0.17604522990899563\n",
      "===== < BUILDING NO.14 > =====\n"
     ]
    },
    {
     "name": "stderr",
     "output_type": "stream",
     "text": [
      "/opt/conda/lib/python3.10/site-packages/xgboost/sklearn.py:835: UserWarning: `early_stopping_rounds` in `fit` method is deprecated for better compatibility with scikit-learn, use `early_stopping_rounds` in constructor or`set_params` instead.\n",
      "  warnings.warn(\n",
      " 14%|█▍        | 14/100 [00:23<02:06,  1.47s/it]"
     ]
    },
    {
     "name": "stdout",
     "output_type": "stream",
     "text": [
      "SMAPE: 8.198120578755367\n",
      "R2: 0.29742151307643383\n",
      "===== < BUILDING NO.15 > =====\n"
     ]
    },
    {
     "name": "stderr",
     "output_type": "stream",
     "text": [
      "/opt/conda/lib/python3.10/site-packages/xgboost/sklearn.py:835: UserWarning: `early_stopping_rounds` in `fit` method is deprecated for better compatibility with scikit-learn, use `early_stopping_rounds` in constructor or`set_params` instead.\n",
      "  warnings.warn(\n",
      " 15%|█▌        | 15/100 [00:24<02:05,  1.48s/it]"
     ]
    },
    {
     "name": "stdout",
     "output_type": "stream",
     "text": [
      "SMAPE: 1.962666640803192\n",
      "R2: 0.8051796262696933\n",
      "===== < BUILDING NO.16 > =====\n"
     ]
    },
    {
     "name": "stderr",
     "output_type": "stream",
     "text": [
      "/opt/conda/lib/python3.10/site-packages/xgboost/sklearn.py:835: UserWarning: `early_stopping_rounds` in `fit` method is deprecated for better compatibility with scikit-learn, use `early_stopping_rounds` in constructor or`set_params` instead.\n",
      "  warnings.warn(\n",
      " 16%|█▌        | 16/100 [00:25<01:56,  1.39s/it]"
     ]
    },
    {
     "name": "stdout",
     "output_type": "stream",
     "text": [
      "SMAPE: 2.125165321171025\n",
      "R2: 0.9838213966223212\n",
      "===== < BUILDING NO.17 > =====\n"
     ]
    },
    {
     "name": "stderr",
     "output_type": "stream",
     "text": [
      "/opt/conda/lib/python3.10/site-packages/xgboost/sklearn.py:835: UserWarning: `early_stopping_rounds` in `fit` method is deprecated for better compatibility with scikit-learn, use `early_stopping_rounds` in constructor or`set_params` instead.\n",
      "  warnings.warn(\n",
      " 17%|█▋        | 17/100 [00:27<02:09,  1.56s/it]"
     ]
    },
    {
     "name": "stdout",
     "output_type": "stream",
     "text": [
      "SMAPE: 3.7827099578038905\n",
      "R2: 0.9210108161974975\n",
      "===== < BUILDING NO.18 > =====\n"
     ]
    },
    {
     "name": "stderr",
     "output_type": "stream",
     "text": [
      "/opt/conda/lib/python3.10/site-packages/xgboost/sklearn.py:835: UserWarning: `early_stopping_rounds` in `fit` method is deprecated for better compatibility with scikit-learn, use `early_stopping_rounds` in constructor or`set_params` instead.\n",
      "  warnings.warn(\n",
      " 18%|█▊        | 18/100 [00:30<02:22,  1.73s/it]"
     ]
    },
    {
     "name": "stdout",
     "output_type": "stream",
     "text": [
      "SMAPE: 4.255991803243023\n",
      "R2: 0.8145821532694238\n",
      "===== < BUILDING NO.19 > =====\n"
     ]
    },
    {
     "name": "stderr",
     "output_type": "stream",
     "text": [
      "/opt/conda/lib/python3.10/site-packages/xgboost/sklearn.py:835: UserWarning: `early_stopping_rounds` in `fit` method is deprecated for better compatibility with scikit-learn, use `early_stopping_rounds` in constructor or`set_params` instead.\n",
      "  warnings.warn(\n",
      " 19%|█▉        | 19/100 [00:33<02:58,  2.20s/it]"
     ]
    },
    {
     "name": "stdout",
     "output_type": "stream",
     "text": [
      "SMAPE: 4.627560568110455\n",
      "R2: 0.9043691990560375\n",
      "===== < BUILDING NO.20 > =====\n"
     ]
    },
    {
     "name": "stderr",
     "output_type": "stream",
     "text": [
      "/opt/conda/lib/python3.10/site-packages/xgboost/sklearn.py:835: UserWarning: `early_stopping_rounds` in `fit` method is deprecated for better compatibility with scikit-learn, use `early_stopping_rounds` in constructor or`set_params` instead.\n",
      "  warnings.warn(\n",
      " 20%|██        | 20/100 [00:34<02:33,  1.91s/it]"
     ]
    },
    {
     "name": "stdout",
     "output_type": "stream",
     "text": [
      "SMAPE: 4.990809199318701\n",
      "R2: 0.807362377328918\n",
      "===== < BUILDING NO.21 > =====\n"
     ]
    },
    {
     "name": "stderr",
     "output_type": "stream",
     "text": [
      "/opt/conda/lib/python3.10/site-packages/xgboost/sklearn.py:835: UserWarning: `early_stopping_rounds` in `fit` method is deprecated for better compatibility with scikit-learn, use `early_stopping_rounds` in constructor or`set_params` instead.\n",
      "  warnings.warn(\n",
      " 21%|██        | 21/100 [00:38<03:06,  2.36s/it]"
     ]
    },
    {
     "name": "stdout",
     "output_type": "stream",
     "text": [
      "SMAPE: 4.5053437760271775\n",
      "R2: 0.8867790665838836\n",
      "===== < BUILDING NO.22 > =====\n"
     ]
    },
    {
     "name": "stderr",
     "output_type": "stream",
     "text": [
      "/opt/conda/lib/python3.10/site-packages/xgboost/sklearn.py:835: UserWarning: `early_stopping_rounds` in `fit` method is deprecated for better compatibility with scikit-learn, use `early_stopping_rounds` in constructor or`set_params` instead.\n",
      "  warnings.warn(\n",
      " 22%|██▏       | 22/100 [00:39<02:46,  2.14s/it]"
     ]
    },
    {
     "name": "stdout",
     "output_type": "stream",
     "text": [
      "SMAPE: 1.7310447332074246\n",
      "R2: 0.9432956580474308\n",
      "===== < BUILDING NO.23 > =====\n"
     ]
    },
    {
     "name": "stderr",
     "output_type": "stream",
     "text": [
      "/opt/conda/lib/python3.10/site-packages/xgboost/sklearn.py:835: UserWarning: `early_stopping_rounds` in `fit` method is deprecated for better compatibility with scikit-learn, use `early_stopping_rounds` in constructor or`set_params` instead.\n",
      "  warnings.warn(\n",
      " 23%|██▎       | 23/100 [00:40<02:24,  1.87s/it]"
     ]
    },
    {
     "name": "stdout",
     "output_type": "stream",
     "text": [
      "SMAPE: 2.2610481582582374\n",
      "R2: 0.726023593971761\n",
      "===== < BUILDING NO.24 > =====\n"
     ]
    },
    {
     "name": "stderr",
     "output_type": "stream",
     "text": [
      "/opt/conda/lib/python3.10/site-packages/xgboost/sklearn.py:835: UserWarning: `early_stopping_rounds` in `fit` method is deprecated for better compatibility with scikit-learn, use `early_stopping_rounds` in constructor or`set_params` instead.\n",
      "  warnings.warn(\n",
      " 24%|██▍       | 24/100 [00:45<03:24,  2.69s/it]"
     ]
    },
    {
     "name": "stdout",
     "output_type": "stream",
     "text": [
      "SMAPE: 1.384424148909194\n",
      "R2: 0.980931285114505\n",
      "===== < BUILDING NO.25 > =====\n"
     ]
    },
    {
     "name": "stderr",
     "output_type": "stream",
     "text": [
      "/opt/conda/lib/python3.10/site-packages/xgboost/sklearn.py:835: UserWarning: `early_stopping_rounds` in `fit` method is deprecated for better compatibility with scikit-learn, use `early_stopping_rounds` in constructor or`set_params` instead.\n",
      "  warnings.warn(\n",
      " 25%|██▌       | 25/100 [00:48<03:34,  2.86s/it]"
     ]
    },
    {
     "name": "stdout",
     "output_type": "stream",
     "text": [
      "SMAPE: 1.171651714774279\n",
      "R2: 0.9777454087526165\n",
      "===== < BUILDING NO.26 > =====\n"
     ]
    },
    {
     "name": "stderr",
     "output_type": "stream",
     "text": [
      "/opt/conda/lib/python3.10/site-packages/xgboost/sklearn.py:835: UserWarning: `early_stopping_rounds` in `fit` method is deprecated for better compatibility with scikit-learn, use `early_stopping_rounds` in constructor or`set_params` instead.\n",
      "  warnings.warn(\n",
      " 26%|██▌       | 26/100 [00:50<03:06,  2.53s/it]"
     ]
    },
    {
     "name": "stdout",
     "output_type": "stream",
     "text": [
      "SMAPE: 1.7684391038232175\n",
      "R2: 0.880767977180326\n",
      "===== < BUILDING NO.27 > =====\n"
     ]
    },
    {
     "name": "stderr",
     "output_type": "stream",
     "text": [
      "/opt/conda/lib/python3.10/site-packages/xgboost/sklearn.py:835: UserWarning: `early_stopping_rounds` in `fit` method is deprecated for better compatibility with scikit-learn, use `early_stopping_rounds` in constructor or`set_params` instead.\n",
      "  warnings.warn(\n",
      " 27%|██▋       | 27/100 [00:52<02:58,  2.45s/it]"
     ]
    },
    {
     "name": "stdout",
     "output_type": "stream",
     "text": [
      "SMAPE: 1.305445028401994\n",
      "R2: 0.8993590587439956\n",
      "===== < BUILDING NO.28 > =====\n"
     ]
    },
    {
     "name": "stderr",
     "output_type": "stream",
     "text": [
      "/opt/conda/lib/python3.10/site-packages/xgboost/sklearn.py:835: UserWarning: `early_stopping_rounds` in `fit` method is deprecated for better compatibility with scikit-learn, use `early_stopping_rounds` in constructor or`set_params` instead.\n",
      "  warnings.warn(\n",
      " 28%|██▊       | 28/100 [00:54<02:35,  2.16s/it]"
     ]
    },
    {
     "name": "stdout",
     "output_type": "stream",
     "text": [
      "SMAPE: 2.5874040167677412\n",
      "R2: 0.9379539955620609\n",
      "===== < BUILDING NO.29 > =====\n"
     ]
    },
    {
     "name": "stderr",
     "output_type": "stream",
     "text": [
      "/opt/conda/lib/python3.10/site-packages/xgboost/sklearn.py:835: UserWarning: `early_stopping_rounds` in `fit` method is deprecated for better compatibility with scikit-learn, use `early_stopping_rounds` in constructor or`set_params` instead.\n",
      "  warnings.warn(\n",
      " 29%|██▉       | 29/100 [00:56<02:25,  2.05s/it]"
     ]
    },
    {
     "name": "stdout",
     "output_type": "stream",
     "text": [
      "SMAPE: 3.1934854742388294\n",
      "R2: 0.7764724231780415\n",
      "===== < BUILDING NO.30 > =====\n"
     ]
    },
    {
     "name": "stderr",
     "output_type": "stream",
     "text": [
      "/opt/conda/lib/python3.10/site-packages/xgboost/sklearn.py:835: UserWarning: `early_stopping_rounds` in `fit` method is deprecated for better compatibility with scikit-learn, use `early_stopping_rounds` in constructor or`set_params` instead.\n",
      "  warnings.warn(\n",
      " 30%|███       | 30/100 [00:57<02:21,  2.01s/it]"
     ]
    },
    {
     "name": "stdout",
     "output_type": "stream",
     "text": [
      "SMAPE: 4.884202910135106\n",
      "R2: 0.6590359638222282\n",
      "===== < BUILDING NO.31 > =====\n"
     ]
    },
    {
     "name": "stderr",
     "output_type": "stream",
     "text": [
      "/opt/conda/lib/python3.10/site-packages/xgboost/sklearn.py:835: UserWarning: `early_stopping_rounds` in `fit` method is deprecated for better compatibility with scikit-learn, use `early_stopping_rounds` in constructor or`set_params` instead.\n",
      "  warnings.warn(\n",
      " 31%|███       | 31/100 [00:59<02:02,  1.77s/it]"
     ]
    },
    {
     "name": "stdout",
     "output_type": "stream",
     "text": [
      "SMAPE: 2.438287067571604\n",
      "R2: 0.9265729976617417\n",
      "===== < BUILDING NO.32 > =====\n"
     ]
    },
    {
     "name": "stderr",
     "output_type": "stream",
     "text": [
      "/opt/conda/lib/python3.10/site-packages/xgboost/sklearn.py:835: UserWarning: `early_stopping_rounds` in `fit` method is deprecated for better compatibility with scikit-learn, use `early_stopping_rounds` in constructor or`set_params` instead.\n",
      "  warnings.warn(\n",
      " 32%|███▏      | 32/100 [01:01<02:14,  1.98s/it]"
     ]
    },
    {
     "name": "stdout",
     "output_type": "stream",
     "text": [
      "SMAPE: 0.18972787638685584\n",
      "R2: 0.8678953457361558\n",
      "===== < BUILDING NO.33 > =====\n"
     ]
    },
    {
     "name": "stderr",
     "output_type": "stream",
     "text": [
      "/opt/conda/lib/python3.10/site-packages/xgboost/sklearn.py:835: UserWarning: `early_stopping_rounds` in `fit` method is deprecated for better compatibility with scikit-learn, use `early_stopping_rounds` in constructor or`set_params` instead.\n",
      "  warnings.warn(\n",
      " 33%|███▎      | 33/100 [01:05<02:43,  2.43s/it]"
     ]
    },
    {
     "name": "stdout",
     "output_type": "stream",
     "text": [
      "SMAPE: 0.1408979959397814\n",
      "R2: 0.8670570694537042\n",
      "===== < BUILDING NO.34 > =====\n"
     ]
    },
    {
     "name": "stderr",
     "output_type": "stream",
     "text": [
      "/opt/conda/lib/python3.10/site-packages/xgboost/sklearn.py:835: UserWarning: `early_stopping_rounds` in `fit` method is deprecated for better compatibility with scikit-learn, use `early_stopping_rounds` in constructor or`set_params` instead.\n",
      "  warnings.warn(\n",
      " 34%|███▍      | 34/100 [01:08<03:01,  2.75s/it]"
     ]
    },
    {
     "name": "stdout",
     "output_type": "stream",
     "text": [
      "SMAPE: 0.44838998614366005\n",
      "R2: 0.7773076086029878\n",
      "===== < BUILDING NO.35 > =====\n"
     ]
    },
    {
     "name": "stderr",
     "output_type": "stream",
     "text": [
      "/opt/conda/lib/python3.10/site-packages/xgboost/sklearn.py:835: UserWarning: `early_stopping_rounds` in `fit` method is deprecated for better compatibility with scikit-learn, use `early_stopping_rounds` in constructor or`set_params` instead.\n",
      "  warnings.warn(\n",
      " 35%|███▌      | 35/100 [01:10<02:44,  2.53s/it]"
     ]
    },
    {
     "name": "stdout",
     "output_type": "stream",
     "text": [
      "SMAPE: 0.23867449466726\n",
      "R2: 0.8647057581554892\n",
      "===== < BUILDING NO.36 > =====\n"
     ]
    },
    {
     "name": "stderr",
     "output_type": "stream",
     "text": [
      "/opt/conda/lib/python3.10/site-packages/xgboost/sklearn.py:835: UserWarning: `early_stopping_rounds` in `fit` method is deprecated for better compatibility with scikit-learn, use `early_stopping_rounds` in constructor or`set_params` instead.\n",
      "  warnings.warn(\n",
      " 36%|███▌      | 36/100 [01:12<02:34,  2.42s/it]"
     ]
    },
    {
     "name": "stdout",
     "output_type": "stream",
     "text": [
      "SMAPE: 0.222129844441478\n",
      "R2: 0.8398184822359824\n",
      "===== < BUILDING NO.37 > =====\n"
     ]
    },
    {
     "name": "stderr",
     "output_type": "stream",
     "text": [
      "/opt/conda/lib/python3.10/site-packages/xgboost/sklearn.py:835: UserWarning: `early_stopping_rounds` in `fit` method is deprecated for better compatibility with scikit-learn, use `early_stopping_rounds` in constructor or`set_params` instead.\n",
      "  warnings.warn(\n",
      " 37%|███▋      | 37/100 [01:15<02:32,  2.43s/it]"
     ]
    },
    {
     "name": "stdout",
     "output_type": "stream",
     "text": [
      "SMAPE: 2.563431147909792\n",
      "R2: 0.9719493249262493\n",
      "===== < BUILDING NO.38 > =====\n"
     ]
    },
    {
     "name": "stderr",
     "output_type": "stream",
     "text": [
      "/opt/conda/lib/python3.10/site-packages/xgboost/sklearn.py:835: UserWarning: `early_stopping_rounds` in `fit` method is deprecated for better compatibility with scikit-learn, use `early_stopping_rounds` in constructor or`set_params` instead.\n",
      "  warnings.warn(\n",
      " 38%|███▊      | 38/100 [01:16<02:09,  2.10s/it]"
     ]
    },
    {
     "name": "stdout",
     "output_type": "stream",
     "text": [
      "SMAPE: 2.3995481757433974\n",
      "R2: 0.9783486811545055\n",
      "===== < BUILDING NO.39 > =====\n"
     ]
    },
    {
     "name": "stderr",
     "output_type": "stream",
     "text": [
      "/opt/conda/lib/python3.10/site-packages/xgboost/sklearn.py:835: UserWarning: `early_stopping_rounds` in `fit` method is deprecated for better compatibility with scikit-learn, use `early_stopping_rounds` in constructor or`set_params` instead.\n",
      "  warnings.warn(\n",
      " 39%|███▉      | 39/100 [01:18<01:59,  1.95s/it]"
     ]
    },
    {
     "name": "stdout",
     "output_type": "stream",
     "text": [
      "SMAPE: 2.5429887715918356\n",
      "R2: 0.9875325363090149\n",
      "===== < BUILDING NO.40 > =====\n"
     ]
    },
    {
     "name": "stderr",
     "output_type": "stream",
     "text": [
      "/opt/conda/lib/python3.10/site-packages/xgboost/sklearn.py:835: UserWarning: `early_stopping_rounds` in `fit` method is deprecated for better compatibility with scikit-learn, use `early_stopping_rounds` in constructor or`set_params` instead.\n",
      "  warnings.warn(\n",
      " 40%|████      | 40/100 [01:19<01:43,  1.72s/it]"
     ]
    },
    {
     "name": "stdout",
     "output_type": "stream",
     "text": [
      "SMAPE: 4.949725375083061\n",
      "R2: 0.9361800487246348\n",
      "===== < BUILDING NO.41 > =====\n"
     ]
    },
    {
     "name": "stderr",
     "output_type": "stream",
     "text": [
      "/opt/conda/lib/python3.10/site-packages/xgboost/sklearn.py:835: UserWarning: `early_stopping_rounds` in `fit` method is deprecated for better compatibility with scikit-learn, use `early_stopping_rounds` in constructor or`set_params` instead.\n",
      "  warnings.warn(\n",
      " 41%|████      | 41/100 [01:20<01:36,  1.64s/it]"
     ]
    },
    {
     "name": "stdout",
     "output_type": "stream",
     "text": [
      "SMAPE: 2.7871658388209255\n",
      "R2: 0.9687369284261115\n",
      "===== < BUILDING NO.42 > =====\n"
     ]
    },
    {
     "name": "stderr",
     "output_type": "stream",
     "text": [
      "/opt/conda/lib/python3.10/site-packages/xgboost/sklearn.py:835: UserWarning: `early_stopping_rounds` in `fit` method is deprecated for better compatibility with scikit-learn, use `early_stopping_rounds` in constructor or`set_params` instead.\n",
      "  warnings.warn(\n",
      " 42%|████▏     | 42/100 [01:21<01:23,  1.44s/it]"
     ]
    },
    {
     "name": "stdout",
     "output_type": "stream",
     "text": [
      "SMAPE: 8.490695677002906\n",
      "R2: 0.8312136913827755\n",
      "===== < BUILDING NO.43 > =====\n"
     ]
    },
    {
     "name": "stderr",
     "output_type": "stream",
     "text": [
      "/opt/conda/lib/python3.10/site-packages/xgboost/sklearn.py:835: UserWarning: `early_stopping_rounds` in `fit` method is deprecated for better compatibility with scikit-learn, use `early_stopping_rounds` in constructor or`set_params` instead.\n",
      "  warnings.warn(\n",
      " 43%|████▎     | 43/100 [01:24<01:42,  1.80s/it]"
     ]
    },
    {
     "name": "stdout",
     "output_type": "stream",
     "text": [
      "SMAPE: 2.5765757671732827\n",
      "R2: 0.9963097008519095\n",
      "===== < BUILDING NO.44 > =====\n"
     ]
    },
    {
     "name": "stderr",
     "output_type": "stream",
     "text": [
      "/opt/conda/lib/python3.10/site-packages/xgboost/sklearn.py:835: UserWarning: `early_stopping_rounds` in `fit` method is deprecated for better compatibility with scikit-learn, use `early_stopping_rounds` in constructor or`set_params` instead.\n",
      "  warnings.warn(\n",
      " 44%|████▍     | 44/100 [01:25<01:31,  1.63s/it]"
     ]
    },
    {
     "name": "stdout",
     "output_type": "stream",
     "text": [
      "SMAPE: 2.0206921131093116\n",
      "R2: 0.9956542300579928\n",
      "===== < BUILDING NO.45 > =====\n"
     ]
    },
    {
     "name": "stderr",
     "output_type": "stream",
     "text": [
      "/opt/conda/lib/python3.10/site-packages/xgboost/sklearn.py:835: UserWarning: `early_stopping_rounds` in `fit` method is deprecated for better compatibility with scikit-learn, use `early_stopping_rounds` in constructor or`set_params` instead.\n",
      "  warnings.warn(\n",
      " 45%|████▌     | 45/100 [01:27<01:32,  1.68s/it]"
     ]
    },
    {
     "name": "stdout",
     "output_type": "stream",
     "text": [
      "SMAPE: 0.9636166481882197\n",
      "R2: 0.9741663176568942\n",
      "===== < BUILDING NO.46 > =====\n"
     ]
    },
    {
     "name": "stderr",
     "output_type": "stream",
     "text": [
      "/opt/conda/lib/python3.10/site-packages/xgboost/sklearn.py:835: UserWarning: `early_stopping_rounds` in `fit` method is deprecated for better compatibility with scikit-learn, use `early_stopping_rounds` in constructor or`set_params` instead.\n",
      "  warnings.warn(\n",
      " 46%|████▌     | 46/100 [01:28<01:26,  1.61s/it]"
     ]
    },
    {
     "name": "stdout",
     "output_type": "stream",
     "text": [
      "SMAPE: 2.9152820214674375\n",
      "R2: 0.9089364609915891\n",
      "===== < BUILDING NO.47 > =====\n"
     ]
    },
    {
     "name": "stderr",
     "output_type": "stream",
     "text": [
      "/opt/conda/lib/python3.10/site-packages/xgboost/sklearn.py:835: UserWarning: `early_stopping_rounds` in `fit` method is deprecated for better compatibility with scikit-learn, use `early_stopping_rounds` in constructor or`set_params` instead.\n",
      "  warnings.warn(\n",
      " 47%|████▋     | 47/100 [01:30<01:32,  1.75s/it]"
     ]
    },
    {
     "name": "stdout",
     "output_type": "stream",
     "text": [
      "SMAPE: 2.44199562420449\n",
      "R2: 0.9081604303723686\n",
      "===== < BUILDING NO.48 > =====\n"
     ]
    },
    {
     "name": "stderr",
     "output_type": "stream",
     "text": [
      "/opt/conda/lib/python3.10/site-packages/xgboost/sklearn.py:835: UserWarning: `early_stopping_rounds` in `fit` method is deprecated for better compatibility with scikit-learn, use `early_stopping_rounds` in constructor or`set_params` instead.\n",
      "  warnings.warn(\n",
      " 48%|████▊     | 48/100 [01:34<02:04,  2.39s/it]"
     ]
    },
    {
     "name": "stdout",
     "output_type": "stream",
     "text": [
      "SMAPE: 1.2924359762110216\n",
      "R2: 0.9624260302021126\n",
      "===== < BUILDING NO.49 > =====\n"
     ]
    },
    {
     "name": "stderr",
     "output_type": "stream",
     "text": [
      "/opt/conda/lib/python3.10/site-packages/xgboost/sklearn.py:835: UserWarning: `early_stopping_rounds` in `fit` method is deprecated for better compatibility with scikit-learn, use `early_stopping_rounds` in constructor or`set_params` instead.\n",
      "  warnings.warn(\n",
      " 49%|████▉     | 49/100 [01:37<02:11,  2.57s/it]"
     ]
    },
    {
     "name": "stdout",
     "output_type": "stream",
     "text": [
      "SMAPE: 1.2044399453935408\n",
      "R2: 0.9477899374860153\n",
      "===== < BUILDING NO.50 > =====\n"
     ]
    },
    {
     "name": "stderr",
     "output_type": "stream",
     "text": [
      "/opt/conda/lib/python3.10/site-packages/xgboost/sklearn.py:835: UserWarning: `early_stopping_rounds` in `fit` method is deprecated for better compatibility with scikit-learn, use `early_stopping_rounds` in constructor or`set_params` instead.\n",
      "  warnings.warn(\n",
      " 50%|█████     | 50/100 [01:39<01:52,  2.25s/it]"
     ]
    },
    {
     "name": "stdout",
     "output_type": "stream",
     "text": [
      "SMAPE: 1.3424754879558616\n",
      "R2: 0.9181100279667055\n",
      "===== < BUILDING NO.51 > =====\n"
     ]
    },
    {
     "name": "stderr",
     "output_type": "stream",
     "text": [
      "/opt/conda/lib/python3.10/site-packages/xgboost/sklearn.py:835: UserWarning: `early_stopping_rounds` in `fit` method is deprecated for better compatibility with scikit-learn, use `early_stopping_rounds` in constructor or`set_params` instead.\n",
      "  warnings.warn(\n",
      " 51%|█████     | 51/100 [01:42<02:03,  2.51s/it]"
     ]
    },
    {
     "name": "stdout",
     "output_type": "stream",
     "text": [
      "SMAPE: 2.3069110202240872\n",
      "R2: 0.860093590649482\n",
      "===== < BUILDING NO.52 > =====\n"
     ]
    },
    {
     "name": "stderr",
     "output_type": "stream",
     "text": [
      "/opt/conda/lib/python3.10/site-packages/xgboost/sklearn.py:835: UserWarning: `early_stopping_rounds` in `fit` method is deprecated for better compatibility with scikit-learn, use `early_stopping_rounds` in constructor or`set_params` instead.\n",
      "  warnings.warn(\n",
      " 52%|█████▏    | 52/100 [01:47<02:33,  3.21s/it]"
     ]
    },
    {
     "name": "stdout",
     "output_type": "stream",
     "text": [
      "SMAPE: 3.0851602584690085\n",
      "R2: 0.8374973787372814\n",
      "===== < BUILDING NO.53 > =====\n"
     ]
    },
    {
     "name": "stderr",
     "output_type": "stream",
     "text": [
      "/opt/conda/lib/python3.10/site-packages/xgboost/sklearn.py:835: UserWarning: `early_stopping_rounds` in `fit` method is deprecated for better compatibility with scikit-learn, use `early_stopping_rounds` in constructor or`set_params` instead.\n",
      "  warnings.warn(\n",
      " 53%|█████▎    | 53/100 [01:48<02:02,  2.62s/it]"
     ]
    },
    {
     "name": "stdout",
     "output_type": "stream",
     "text": [
      "SMAPE: 7.2648417156493545\n",
      "R2: 0.9203205423613228\n",
      "===== < BUILDING NO.54 > =====\n"
     ]
    },
    {
     "name": "stderr",
     "output_type": "stream",
     "text": [
      "/opt/conda/lib/python3.10/site-packages/xgboost/sklearn.py:835: UserWarning: `early_stopping_rounds` in `fit` method is deprecated for better compatibility with scikit-learn, use `early_stopping_rounds` in constructor or`set_params` instead.\n",
      "  warnings.warn(\n",
      " 54%|█████▍    | 54/100 [01:49<01:42,  2.23s/it]"
     ]
    },
    {
     "name": "stdout",
     "output_type": "stream",
     "text": [
      "SMAPE: 16.030845208983116\n",
      "R2: 0.37587593521080953\n",
      "===== < BUILDING NO.55 > =====\n"
     ]
    },
    {
     "name": "stderr",
     "output_type": "stream",
     "text": [
      "/opt/conda/lib/python3.10/site-packages/xgboost/sklearn.py:835: UserWarning: `early_stopping_rounds` in `fit` method is deprecated for better compatibility with scikit-learn, use `early_stopping_rounds` in constructor or`set_params` instead.\n",
      "  warnings.warn(\n",
      " 55%|█████▌    | 55/100 [01:51<01:36,  2.15s/it]"
     ]
    },
    {
     "name": "stdout",
     "output_type": "stream",
     "text": [
      "SMAPE: 1.0556024170338933\n",
      "R2: 0.8405256840114026\n",
      "===== < BUILDING NO.56 > =====\n"
     ]
    },
    {
     "name": "stderr",
     "output_type": "stream",
     "text": [
      "/opt/conda/lib/python3.10/site-packages/xgboost/sklearn.py:835: UserWarning: `early_stopping_rounds` in `fit` method is deprecated for better compatibility with scikit-learn, use `early_stopping_rounds` in constructor or`set_params` instead.\n",
      "  warnings.warn(\n",
      " 56%|█████▌    | 56/100 [01:54<01:37,  2.21s/it]"
     ]
    },
    {
     "name": "stdout",
     "output_type": "stream",
     "text": [
      "SMAPE: 0.3995891138595821\n",
      "R2: 0.9383633046815822\n",
      "===== < BUILDING NO.57 > =====\n"
     ]
    },
    {
     "name": "stderr",
     "output_type": "stream",
     "text": [
      "/opt/conda/lib/python3.10/site-packages/xgboost/sklearn.py:835: UserWarning: `early_stopping_rounds` in `fit` method is deprecated for better compatibility with scikit-learn, use `early_stopping_rounds` in constructor or`set_params` instead.\n",
      "  warnings.warn(\n",
      " 57%|█████▋    | 57/100 [01:55<01:24,  1.97s/it]"
     ]
    },
    {
     "name": "stdout",
     "output_type": "stream",
     "text": [
      "SMAPE: 2.5823510572322594\n",
      "R2: 0.982983988705182\n",
      "===== < BUILDING NO.58 > =====\n"
     ]
    },
    {
     "name": "stderr",
     "output_type": "stream",
     "text": [
      "/opt/conda/lib/python3.10/site-packages/xgboost/sklearn.py:835: UserWarning: `early_stopping_rounds` in `fit` method is deprecated for better compatibility with scikit-learn, use `early_stopping_rounds` in constructor or`set_params` instead.\n",
      "  warnings.warn(\n",
      " 58%|█████▊    | 58/100 [01:57<01:27,  2.07s/it]"
     ]
    },
    {
     "name": "stdout",
     "output_type": "stream",
     "text": [
      "SMAPE: 0.23519363397504034\n",
      "R2: 0.9228203340448847\n",
      "===== < BUILDING NO.59 > =====\n"
     ]
    },
    {
     "name": "stderr",
     "output_type": "stream",
     "text": [
      "/opt/conda/lib/python3.10/site-packages/xgboost/sklearn.py:835: UserWarning: `early_stopping_rounds` in `fit` method is deprecated for better compatibility with scikit-learn, use `early_stopping_rounds` in constructor or`set_params` instead.\n",
      "  warnings.warn(\n",
      " 59%|█████▉    | 59/100 [01:59<01:19,  1.94s/it]"
     ]
    },
    {
     "name": "stdout",
     "output_type": "stream",
     "text": [
      "SMAPE: 2.5619438538110715\n",
      "R2: 0.9815368789764827\n",
      "===== < BUILDING NO.60 > =====\n"
     ]
    },
    {
     "name": "stderr",
     "output_type": "stream",
     "text": [
      "/opt/conda/lib/python3.10/site-packages/xgboost/sklearn.py:835: UserWarning: `early_stopping_rounds` in `fit` method is deprecated for better compatibility with scikit-learn, use `early_stopping_rounds` in constructor or`set_params` instead.\n",
      "  warnings.warn(\n",
      " 60%|██████    | 60/100 [02:00<01:09,  1.75s/it]"
     ]
    },
    {
     "name": "stdout",
     "output_type": "stream",
     "text": [
      "SMAPE: 2.8110172926551833\n",
      "R2: 0.9583870172442827\n",
      "===== < BUILDING NO.61 > =====\n"
     ]
    },
    {
     "name": "stderr",
     "output_type": "stream",
     "text": [
      "/opt/conda/lib/python3.10/site-packages/xgboost/sklearn.py:835: UserWarning: `early_stopping_rounds` in `fit` method is deprecated for better compatibility with scikit-learn, use `early_stopping_rounds` in constructor or`set_params` instead.\n",
      "  warnings.warn(\n",
      " 61%|██████    | 61/100 [02:02<01:05,  1.68s/it]"
     ]
    },
    {
     "name": "stdout",
     "output_type": "stream",
     "text": [
      "SMAPE: 2.340201478988097\n",
      "R2: 0.9269577009344832\n",
      "===== < BUILDING NO.62 > =====\n"
     ]
    },
    {
     "name": "stderr",
     "output_type": "stream",
     "text": [
      "/opt/conda/lib/python3.10/site-packages/xgboost/sklearn.py:835: UserWarning: `early_stopping_rounds` in `fit` method is deprecated for better compatibility with scikit-learn, use `early_stopping_rounds` in constructor or`set_params` instead.\n",
      "  warnings.warn(\n",
      " 62%|██████▏   | 62/100 [02:03<01:00,  1.60s/it]"
     ]
    },
    {
     "name": "stdout",
     "output_type": "stream",
     "text": [
      "SMAPE: 2.82218449337234\n",
      "R2: 0.9096282895017103\n",
      "===== < BUILDING NO.63 > =====\n"
     ]
    },
    {
     "name": "stderr",
     "output_type": "stream",
     "text": [
      "/opt/conda/lib/python3.10/site-packages/xgboost/sklearn.py:835: UserWarning: `early_stopping_rounds` in `fit` method is deprecated for better compatibility with scikit-learn, use `early_stopping_rounds` in constructor or`set_params` instead.\n",
      "  warnings.warn(\n",
      " 63%|██████▎   | 63/100 [02:05<00:57,  1.56s/it]"
     ]
    },
    {
     "name": "stdout",
     "output_type": "stream",
     "text": [
      "SMAPE: 3.3329194240853175\n",
      "R2: 0.9043018344864934\n",
      "===== < BUILDING NO.64 > =====\n"
     ]
    },
    {
     "name": "stderr",
     "output_type": "stream",
     "text": [
      "/opt/conda/lib/python3.10/site-packages/xgboost/sklearn.py:835: UserWarning: `early_stopping_rounds` in `fit` method is deprecated for better compatibility with scikit-learn, use `early_stopping_rounds` in constructor or`set_params` instead.\n",
      "  warnings.warn(\n",
      " 64%|██████▍   | 64/100 [02:06<00:56,  1.56s/it]"
     ]
    },
    {
     "name": "stdout",
     "output_type": "stream",
     "text": [
      "SMAPE: 2.187868446437268\n",
      "R2: 0.9424236575325887\n",
      "===== < BUILDING NO.65 > =====\n"
     ]
    },
    {
     "name": "stderr",
     "output_type": "stream",
     "text": [
      "/opt/conda/lib/python3.10/site-packages/xgboost/sklearn.py:835: UserWarning: `early_stopping_rounds` in `fit` method is deprecated for better compatibility with scikit-learn, use `early_stopping_rounds` in constructor or`set_params` instead.\n",
      "  warnings.warn(\n",
      " 65%|██████▌   | 65/100 [02:08<00:51,  1.48s/it]"
     ]
    },
    {
     "name": "stdout",
     "output_type": "stream",
     "text": [
      "SMAPE: 4.189424806271382\n",
      "R2: 0.8776450394994727\n",
      "===== < BUILDING NO.66 > =====\n"
     ]
    },
    {
     "name": "stderr",
     "output_type": "stream",
     "text": [
      "/opt/conda/lib/python3.10/site-packages/xgboost/sklearn.py:835: UserWarning: `early_stopping_rounds` in `fit` method is deprecated for better compatibility with scikit-learn, use `early_stopping_rounds` in constructor or`set_params` instead.\n",
      "  warnings.warn(\n",
      " 66%|██████▌   | 66/100 [02:09<00:52,  1.55s/it]"
     ]
    },
    {
     "name": "stdout",
     "output_type": "stream",
     "text": [
      "SMAPE: 1.9520773827079756\n",
      "R2: 0.8716987879378835\n",
      "===== < BUILDING NO.67 > =====\n"
     ]
    },
    {
     "name": "stderr",
     "output_type": "stream",
     "text": [
      "/opt/conda/lib/python3.10/site-packages/xgboost/sklearn.py:835: UserWarning: `early_stopping_rounds` in `fit` method is deprecated for better compatibility with scikit-learn, use `early_stopping_rounds` in constructor or`set_params` instead.\n",
      "  warnings.warn(\n",
      " 67%|██████▋   | 67/100 [02:10<00:46,  1.41s/it]"
     ]
    },
    {
     "name": "stdout",
     "output_type": "stream",
     "text": [
      "SMAPE: 2.763659889478162\n",
      "R2: 0.8891725918174914\n",
      "===== < BUILDING NO.68 > =====\n"
     ]
    },
    {
     "name": "stderr",
     "output_type": "stream",
     "text": [
      "/opt/conda/lib/python3.10/site-packages/xgboost/sklearn.py:835: UserWarning: `early_stopping_rounds` in `fit` method is deprecated for better compatibility with scikit-learn, use `early_stopping_rounds` in constructor or`set_params` instead.\n",
      "  warnings.warn(\n",
      " 68%|██████▊   | 68/100 [02:12<00:43,  1.36s/it]"
     ]
    },
    {
     "name": "stdout",
     "output_type": "stream",
     "text": [
      "SMAPE: 2.3269845074066002\n",
      "R2: 0.9385765657446611\n",
      "===== < BUILDING NO.69 > =====\n"
     ]
    },
    {
     "name": "stderr",
     "output_type": "stream",
     "text": [
      "/opt/conda/lib/python3.10/site-packages/xgboost/sklearn.py:835: UserWarning: `early_stopping_rounds` in `fit` method is deprecated for better compatibility with scikit-learn, use `early_stopping_rounds` in constructor or`set_params` instead.\n",
      "  warnings.warn(\n",
      " 69%|██████▉   | 69/100 [02:13<00:43,  1.40s/it]"
     ]
    },
    {
     "name": "stdout",
     "output_type": "stream",
     "text": [
      "SMAPE: 1.2487747471581605\n",
      "R2: 0.9804228682897063\n",
      "===== < BUILDING NO.70 > =====\n"
     ]
    },
    {
     "name": "stderr",
     "output_type": "stream",
     "text": [
      "/opt/conda/lib/python3.10/site-packages/xgboost/sklearn.py:835: UserWarning: `early_stopping_rounds` in `fit` method is deprecated for better compatibility with scikit-learn, use `early_stopping_rounds` in constructor or`set_params` instead.\n",
      "  warnings.warn(\n",
      " 70%|███████   | 70/100 [02:14<00:41,  1.38s/it]"
     ]
    },
    {
     "name": "stdout",
     "output_type": "stream",
     "text": [
      "SMAPE: 2.9096000798126633\n",
      "R2: 0.8945569984264621\n",
      "===== < BUILDING NO.71 > =====\n"
     ]
    },
    {
     "name": "stderr",
     "output_type": "stream",
     "text": [
      "/opt/conda/lib/python3.10/site-packages/xgboost/sklearn.py:835: UserWarning: `early_stopping_rounds` in `fit` method is deprecated for better compatibility with scikit-learn, use `early_stopping_rounds` in constructor or`set_params` instead.\n",
      "  warnings.warn(\n",
      " 71%|███████   | 71/100 [02:16<00:40,  1.40s/it]"
     ]
    },
    {
     "name": "stdout",
     "output_type": "stream",
     "text": [
      "SMAPE: 2.5240245149183576\n",
      "R2: 0.7733786922239123\n",
      "===== < BUILDING NO.72 > =====\n"
     ]
    },
    {
     "name": "stderr",
     "output_type": "stream",
     "text": [
      "/opt/conda/lib/python3.10/site-packages/xgboost/sklearn.py:835: UserWarning: `early_stopping_rounds` in `fit` method is deprecated for better compatibility with scikit-learn, use `early_stopping_rounds` in constructor or`set_params` instead.\n",
      "  warnings.warn(\n",
      " 72%|███████▏  | 72/100 [02:18<00:41,  1.50s/it]"
     ]
    },
    {
     "name": "stdout",
     "output_type": "stream",
     "text": [
      "SMAPE: 3.8508366997362655\n",
      "R2: 0.5049414960821738\n",
      "===== < BUILDING NO.73 > =====\n"
     ]
    },
    {
     "name": "stderr",
     "output_type": "stream",
     "text": [
      "/opt/conda/lib/python3.10/site-packages/xgboost/sklearn.py:835: UserWarning: `early_stopping_rounds` in `fit` method is deprecated for better compatibility with scikit-learn, use `early_stopping_rounds` in constructor or`set_params` instead.\n",
      "  warnings.warn(\n",
      " 73%|███████▎  | 73/100 [02:19<00:38,  1.44s/it]"
     ]
    },
    {
     "name": "stdout",
     "output_type": "stream",
     "text": [
      "SMAPE: 1.7260449595208565\n",
      "R2: 0.803513176762261\n",
      "===== < BUILDING NO.74 > =====\n"
     ]
    },
    {
     "name": "stderr",
     "output_type": "stream",
     "text": [
      "/opt/conda/lib/python3.10/site-packages/xgboost/sklearn.py:835: UserWarning: `early_stopping_rounds` in `fit` method is deprecated for better compatibility with scikit-learn, use `early_stopping_rounds` in constructor or`set_params` instead.\n",
      "  warnings.warn(\n",
      " 74%|███████▍  | 74/100 [02:21<00:45,  1.76s/it]"
     ]
    },
    {
     "name": "stdout",
     "output_type": "stream",
     "text": [
      "SMAPE: 3.6117350538550523\n",
      "R2: 0.9113554135344053\n",
      "===== < BUILDING NO.75 > =====\n"
     ]
    },
    {
     "name": "stderr",
     "output_type": "stream",
     "text": [
      "/opt/conda/lib/python3.10/site-packages/xgboost/sklearn.py:835: UserWarning: `early_stopping_rounds` in `fit` method is deprecated for better compatibility with scikit-learn, use `early_stopping_rounds` in constructor or`set_params` instead.\n",
      "  warnings.warn(\n",
      " 75%|███████▌  | 75/100 [02:23<00:42,  1.70s/it]"
     ]
    },
    {
     "name": "stdout",
     "output_type": "stream",
     "text": [
      "SMAPE: 2.207682379403786\n",
      "R2: 0.8886641200872789\n",
      "===== < BUILDING NO.76 > =====\n"
     ]
    },
    {
     "name": "stderr",
     "output_type": "stream",
     "text": [
      "/opt/conda/lib/python3.10/site-packages/xgboost/sklearn.py:835: UserWarning: `early_stopping_rounds` in `fit` method is deprecated for better compatibility with scikit-learn, use `early_stopping_rounds` in constructor or`set_params` instead.\n",
      "  warnings.warn(\n",
      " 76%|███████▌  | 76/100 [02:25<00:40,  1.69s/it]"
     ]
    },
    {
     "name": "stdout",
     "output_type": "stream",
     "text": [
      "SMAPE: 2.922708453346419\n",
      "R2: 0.5843763343133019\n",
      "===== < BUILDING NO.77 > =====\n"
     ]
    },
    {
     "name": "stderr",
     "output_type": "stream",
     "text": [
      "/opt/conda/lib/python3.10/site-packages/xgboost/sklearn.py:835: UserWarning: `early_stopping_rounds` in `fit` method is deprecated for better compatibility with scikit-learn, use `early_stopping_rounds` in constructor or`set_params` instead.\n",
      "  warnings.warn(\n",
      " 77%|███████▋  | 77/100 [02:26<00:36,  1.60s/it]"
     ]
    },
    {
     "name": "stdout",
     "output_type": "stream",
     "text": [
      "SMAPE: 1.9178124448321017\n",
      "R2: 0.9230691455808102\n",
      "===== < BUILDING NO.78 > =====\n"
     ]
    },
    {
     "name": "stderr",
     "output_type": "stream",
     "text": [
      "/opt/conda/lib/python3.10/site-packages/xgboost/sklearn.py:835: UserWarning: `early_stopping_rounds` in `fit` method is deprecated for better compatibility with scikit-learn, use `early_stopping_rounds` in constructor or`set_params` instead.\n",
      "  warnings.warn(\n",
      " 78%|███████▊  | 78/100 [02:28<00:36,  1.65s/it]"
     ]
    },
    {
     "name": "stdout",
     "output_type": "stream",
     "text": [
      "SMAPE: 2.3627014417844427\n",
      "R2: 0.9345048024428463\n",
      "===== < BUILDING NO.79 > =====\n"
     ]
    },
    {
     "name": "stderr",
     "output_type": "stream",
     "text": [
      "/opt/conda/lib/python3.10/site-packages/xgboost/sklearn.py:835: UserWarning: `early_stopping_rounds` in `fit` method is deprecated for better compatibility with scikit-learn, use `early_stopping_rounds` in constructor or`set_params` instead.\n",
      "  warnings.warn(\n",
      " 79%|███████▉  | 79/100 [02:29<00:34,  1.66s/it]"
     ]
    },
    {
     "name": "stdout",
     "output_type": "stream",
     "text": [
      "SMAPE: 2.672002629682452\n",
      "R2: 0.8633319200457426\n",
      "===== < BUILDING NO.80 > =====\n"
     ]
    },
    {
     "name": "stderr",
     "output_type": "stream",
     "text": [
      "/opt/conda/lib/python3.10/site-packages/xgboost/sklearn.py:835: UserWarning: `early_stopping_rounds` in `fit` method is deprecated for better compatibility with scikit-learn, use `early_stopping_rounds` in constructor or`set_params` instead.\n",
      "  warnings.warn(\n",
      " 80%|████████  | 80/100 [02:33<00:46,  2.31s/it]"
     ]
    },
    {
     "name": "stdout",
     "output_type": "stream",
     "text": [
      "SMAPE: 1.9637180950969766\n",
      "R2: 0.9922439708420913\n",
      "===== < BUILDING NO.81 > =====\n"
     ]
    },
    {
     "name": "stderr",
     "output_type": "stream",
     "text": [
      "/opt/conda/lib/python3.10/site-packages/xgboost/sklearn.py:835: UserWarning: `early_stopping_rounds` in `fit` method is deprecated for better compatibility with scikit-learn, use `early_stopping_rounds` in constructor or`set_params` instead.\n",
      "  warnings.warn(\n",
      " 81%|████████  | 81/100 [02:35<00:40,  2.14s/it]"
     ]
    },
    {
     "name": "stdout",
     "output_type": "stream",
     "text": [
      "SMAPE: 1.721184324954292\n",
      "R2: 0.9920629233961014\n",
      "===== < BUILDING NO.82 > =====\n"
     ]
    },
    {
     "name": "stderr",
     "output_type": "stream",
     "text": [
      "/opt/conda/lib/python3.10/site-packages/xgboost/sklearn.py:835: UserWarning: `early_stopping_rounds` in `fit` method is deprecated for better compatibility with scikit-learn, use `early_stopping_rounds` in constructor or`set_params` instead.\n",
      "  warnings.warn(\n",
      " 82%|████████▏ | 82/100 [02:37<00:35,  1.97s/it]"
     ]
    },
    {
     "name": "stdout",
     "output_type": "stream",
     "text": [
      "SMAPE: 2.784366406978639\n",
      "R2: 0.9588340437684703\n",
      "===== < BUILDING NO.83 > =====\n"
     ]
    },
    {
     "name": "stderr",
     "output_type": "stream",
     "text": [
      "/opt/conda/lib/python3.10/site-packages/xgboost/sklearn.py:835: UserWarning: `early_stopping_rounds` in `fit` method is deprecated for better compatibility with scikit-learn, use `early_stopping_rounds` in constructor or`set_params` instead.\n",
      "  warnings.warn(\n",
      " 83%|████████▎ | 83/100 [02:40<00:38,  2.29s/it]"
     ]
    },
    {
     "name": "stdout",
     "output_type": "stream",
     "text": [
      "SMAPE: 2.5503571201544255\n",
      "R2: 0.9171166009511168\n",
      "===== < BUILDING NO.84 > =====\n"
     ]
    },
    {
     "name": "stderr",
     "output_type": "stream",
     "text": [
      "/opt/conda/lib/python3.10/site-packages/xgboost/sklearn.py:835: UserWarning: `early_stopping_rounds` in `fit` method is deprecated for better compatibility with scikit-learn, use `early_stopping_rounds` in constructor or`set_params` instead.\n",
      "  warnings.warn(\n",
      " 84%|████████▍ | 84/100 [02:41<00:31,  2.00s/it]"
     ]
    },
    {
     "name": "stdout",
     "output_type": "stream",
     "text": [
      "SMAPE: 2.6010763764852443\n",
      "R2: 0.8944995026867417\n",
      "===== < BUILDING NO.85 > =====\n"
     ]
    },
    {
     "name": "stderr",
     "output_type": "stream",
     "text": [
      "/opt/conda/lib/python3.10/site-packages/xgboost/sklearn.py:835: UserWarning: `early_stopping_rounds` in `fit` method is deprecated for better compatibility with scikit-learn, use `early_stopping_rounds` in constructor or`set_params` instead.\n",
      "  warnings.warn(\n",
      " 85%|████████▌ | 85/100 [02:43<00:30,  2.03s/it]"
     ]
    },
    {
     "name": "stdout",
     "output_type": "stream",
     "text": [
      "SMAPE: 1.9473509361905856\n",
      "R2: 0.9406841112684394\n",
      "===== < BUILDING NO.86 > =====\n"
     ]
    },
    {
     "name": "stderr",
     "output_type": "stream",
     "text": [
      "/opt/conda/lib/python3.10/site-packages/xgboost/sklearn.py:835: UserWarning: `early_stopping_rounds` in `fit` method is deprecated for better compatibility with scikit-learn, use `early_stopping_rounds` in constructor or`set_params` instead.\n",
      "  warnings.warn(\n",
      " 86%|████████▌ | 86/100 [02:45<00:26,  1.86s/it]"
     ]
    },
    {
     "name": "stdout",
     "output_type": "stream",
     "text": [
      "SMAPE: 3.9845723824046284\n",
      "R2: 0.894860727209134\n",
      "===== < BUILDING NO.87 > =====\n"
     ]
    },
    {
     "name": "stderr",
     "output_type": "stream",
     "text": [
      "/opt/conda/lib/python3.10/site-packages/xgboost/sklearn.py:835: UserWarning: `early_stopping_rounds` in `fit` method is deprecated for better compatibility with scikit-learn, use `early_stopping_rounds` in constructor or`set_params` instead.\n",
      "  warnings.warn(\n",
      " 87%|████████▋ | 87/100 [02:47<00:26,  2.05s/it]"
     ]
    },
    {
     "name": "stdout",
     "output_type": "stream",
     "text": [
      "SMAPE: 5.201036249472348\n",
      "R2: 0.8438980424875884\n",
      "===== < BUILDING NO.88 > =====\n"
     ]
    },
    {
     "name": "stderr",
     "output_type": "stream",
     "text": [
      "/opt/conda/lib/python3.10/site-packages/xgboost/sklearn.py:835: UserWarning: `early_stopping_rounds` in `fit` method is deprecated for better compatibility with scikit-learn, use `early_stopping_rounds` in constructor or`set_params` instead.\n",
      "  warnings.warn(\n",
      " 88%|████████▊ | 88/100 [02:48<00:22,  1.85s/it]"
     ]
    },
    {
     "name": "stdout",
     "output_type": "stream",
     "text": [
      "SMAPE: 4.864697881141088\n",
      "R2: 0.7454113087640606\n",
      "===== < BUILDING NO.89 > =====\n"
     ]
    },
    {
     "name": "stderr",
     "output_type": "stream",
     "text": [
      "/opt/conda/lib/python3.10/site-packages/xgboost/sklearn.py:835: UserWarning: `early_stopping_rounds` in `fit` method is deprecated for better compatibility with scikit-learn, use `early_stopping_rounds` in constructor or`set_params` instead.\n",
      "  warnings.warn(\n",
      " 89%|████████▉ | 89/100 [02:50<00:18,  1.68s/it]"
     ]
    },
    {
     "name": "stdout",
     "output_type": "stream",
     "text": [
      "SMAPE: 4.656762722955426\n",
      "R2: 0.7780055483680671\n",
      "===== < BUILDING NO.90 > =====\n"
     ]
    },
    {
     "name": "stderr",
     "output_type": "stream",
     "text": [
      "/opt/conda/lib/python3.10/site-packages/xgboost/sklearn.py:835: UserWarning: `early_stopping_rounds` in `fit` method is deprecated for better compatibility with scikit-learn, use `early_stopping_rounds` in constructor or`set_params` instead.\n",
      "  warnings.warn(\n",
      " 90%|█████████ | 90/100 [02:51<00:15,  1.57s/it]"
     ]
    },
    {
     "name": "stdout",
     "output_type": "stream",
     "text": [
      "SMAPE: 5.712615462814688\n",
      "R2: 0.8086298772439142\n",
      "===== < BUILDING NO.91 > =====\n"
     ]
    },
    {
     "name": "stderr",
     "output_type": "stream",
     "text": [
      "/opt/conda/lib/python3.10/site-packages/xgboost/sklearn.py:835: UserWarning: `early_stopping_rounds` in `fit` method is deprecated for better compatibility with scikit-learn, use `early_stopping_rounds` in constructor or`set_params` instead.\n",
      "  warnings.warn(\n",
      " 91%|█████████ | 91/100 [02:53<00:16,  1.78s/it]"
     ]
    },
    {
     "name": "stdout",
     "output_type": "stream",
     "text": [
      "SMAPE: 6.040108479397927\n",
      "R2: 0.922162363730947\n",
      "===== < BUILDING NO.92 > =====\n"
     ]
    },
    {
     "name": "stderr",
     "output_type": "stream",
     "text": [
      "/opt/conda/lib/python3.10/site-packages/xgboost/sklearn.py:835: UserWarning: `early_stopping_rounds` in `fit` method is deprecated for better compatibility with scikit-learn, use `early_stopping_rounds` in constructor or`set_params` instead.\n",
      "  warnings.warn(\n",
      " 92%|█████████▏| 92/100 [02:55<00:13,  1.74s/it]"
     ]
    },
    {
     "name": "stdout",
     "output_type": "stream",
     "text": [
      "SMAPE: 4.074109230995168\n",
      "R2: 0.8075872633607586\n",
      "===== < BUILDING NO.93 > =====\n"
     ]
    },
    {
     "name": "stderr",
     "output_type": "stream",
     "text": [
      "/opt/conda/lib/python3.10/site-packages/xgboost/sklearn.py:835: UserWarning: `early_stopping_rounds` in `fit` method is deprecated for better compatibility with scikit-learn, use `early_stopping_rounds` in constructor or`set_params` instead.\n",
      "  warnings.warn(\n",
      " 93%|█████████▎| 93/100 [02:59<00:17,  2.46s/it]"
     ]
    },
    {
     "name": "stdout",
     "output_type": "stream",
     "text": [
      "SMAPE: 3.2030708810387942\n",
      "R2: 0.8803605761426699\n",
      "===== < BUILDING NO.94 > =====\n"
     ]
    },
    {
     "name": "stderr",
     "output_type": "stream",
     "text": [
      "/opt/conda/lib/python3.10/site-packages/xgboost/sklearn.py:835: UserWarning: `early_stopping_rounds` in `fit` method is deprecated for better compatibility with scikit-learn, use `early_stopping_rounds` in constructor or`set_params` instead.\n",
      "  warnings.warn(\n",
      " 94%|█████████▍| 94/100 [03:01<00:13,  2.19s/it]"
     ]
    },
    {
     "name": "stdout",
     "output_type": "stream",
     "text": [
      "SMAPE: 2.8951465349696477\n",
      "R2: 0.9082408079583276\n",
      "===== < BUILDING NO.95 > =====\n"
     ]
    },
    {
     "name": "stderr",
     "output_type": "stream",
     "text": [
      "/opt/conda/lib/python3.10/site-packages/xgboost/sklearn.py:835: UserWarning: `early_stopping_rounds` in `fit` method is deprecated for better compatibility with scikit-learn, use `early_stopping_rounds` in constructor or`set_params` instead.\n",
      "  warnings.warn(\n",
      " 95%|█████████▌| 95/100 [03:02<00:09,  1.88s/it]"
     ]
    },
    {
     "name": "stdout",
     "output_type": "stream",
     "text": [
      "SMAPE: 7.599879934805201\n",
      "R2: 0.5946891859570982\n",
      "===== < BUILDING NO.96 > =====\n"
     ]
    },
    {
     "name": "stderr",
     "output_type": "stream",
     "text": [
      "/opt/conda/lib/python3.10/site-packages/xgboost/sklearn.py:835: UserWarning: `early_stopping_rounds` in `fit` method is deprecated for better compatibility with scikit-learn, use `early_stopping_rounds` in constructor or`set_params` instead.\n",
      "  warnings.warn(\n",
      " 96%|█████████▌| 96/100 [03:03<00:06,  1.69s/it]"
     ]
    },
    {
     "name": "stdout",
     "output_type": "stream",
     "text": [
      "SMAPE: 1.3017287518895497\n",
      "R2: 0.9758914129490925\n",
      "===== < BUILDING NO.97 > =====\n"
     ]
    },
    {
     "name": "stderr",
     "output_type": "stream",
     "text": [
      "/opt/conda/lib/python3.10/site-packages/xgboost/sklearn.py:835: UserWarning: `early_stopping_rounds` in `fit` method is deprecated for better compatibility with scikit-learn, use `early_stopping_rounds` in constructor or`set_params` instead.\n",
      "  warnings.warn(\n",
      " 97%|█████████▋| 97/100 [03:07<00:06,  2.27s/it]"
     ]
    },
    {
     "name": "stdout",
     "output_type": "stream",
     "text": [
      "SMAPE: 2.2995340423161235\n",
      "R2: 0.9373195927146769\n",
      "===== < BUILDING NO.98 > =====\n"
     ]
    },
    {
     "name": "stderr",
     "output_type": "stream",
     "text": [
      "/opt/conda/lib/python3.10/site-packages/xgboost/sklearn.py:835: UserWarning: `early_stopping_rounds` in `fit` method is deprecated for better compatibility with scikit-learn, use `early_stopping_rounds` in constructor or`set_params` instead.\n",
      "  warnings.warn(\n",
      " 98%|█████████▊| 98/100 [03:08<00:03,  2.00s/it]"
     ]
    },
    {
     "name": "stdout",
     "output_type": "stream",
     "text": [
      "SMAPE: 6.382029092092538\n",
      "R2: 0.8734307128116495\n",
      "===== < BUILDING NO.99 > =====\n"
     ]
    },
    {
     "name": "stderr",
     "output_type": "stream",
     "text": [
      "/opt/conda/lib/python3.10/site-packages/xgboost/sklearn.py:835: UserWarning: `early_stopping_rounds` in `fit` method is deprecated for better compatibility with scikit-learn, use `early_stopping_rounds` in constructor or`set_params` instead.\n",
      "  warnings.warn(\n",
      " 99%|█████████▉| 99/100 [03:09<00:01,  1.80s/it]"
     ]
    },
    {
     "name": "stdout",
     "output_type": "stream",
     "text": [
      "SMAPE: 1.675374801219525\n",
      "R2: 0.9784401189489322\n",
      "===== < BUILDING NO.100 > =====\n"
     ]
    },
    {
     "name": "stderr",
     "output_type": "stream",
     "text": [
      "/opt/conda/lib/python3.10/site-packages/xgboost/sklearn.py:835: UserWarning: `early_stopping_rounds` in `fit` method is deprecated for better compatibility with scikit-learn, use `early_stopping_rounds` in constructor or`set_params` instead.\n",
      "  warnings.warn(\n",
      "100%|██████████| 100/100 [03:12<00:00,  1.92s/it]"
     ]
    },
    {
     "name": "stdout",
     "output_type": "stream",
     "text": [
      "SMAPE: 2.7178215831385364\n",
      "R2: 0.9645943448462445\n"
     ]
    },
    {
     "name": "stderr",
     "output_type": "stream",
     "text": [
      "\n"
     ]
    }
   ],
   "source": [
    "pred_val_ens= []\n",
    "test_ens = []\n",
    "\n",
    "summary_list = []\n",
    "ans_val_list = []\n",
    "pred_val_list = []\n",
    "pred_test_list = []\n",
    "\n",
    "for i in tqdm(range(100)):\n",
    "    print(f\"===== < BUILDING NO.{i+1} > =====\")\n",
    "    summary_dict = {}\n",
    "\n",
    "    smape_val, r2_val, ans_val, pred_val, pred_test = fit_and_pred_XGB(train, test, i+1, seed=0)\n",
    "\n",
    "    summary_dict['건물번호'] = i+1\n",
    "    summary_dict['SMAPE'] = smape_val\n",
    "    summary_dict['R2'] = r2_val\n",
    "    summary_list.append(summary_dict)\n",
    "    ans_val_list.append(ans_val)\n",
    "    pred_val_list.append(pred_val)\n",
    "    pred_test_list.append(pred_test)\n",
    "\n",
    "ans_val_whole = np.concatenate(ans_val_list)\n",
    "pred_val_whole = np.concatenate(pred_val_list)\n",
    "pred_test_whole = np.concatenate(pred_test_list)\n",
    "smape_val =SMAPE(ans_val_whole, pred_val_whole)"
   ]
  },
  {
   "cell_type": "code",
   "execution_count": 194,
   "id": "c2f36727-3c6e-47bb-9308-6f4ab54b016d",
   "metadata": {
    "scrolled": true
   },
   "outputs": [
    {
     "data": {
      "text/plain": [
       "[{'건물번호': 1, 'SMAPE': 3.181562601718308, 'R2': 0.9615178576544824},\n",
       " {'건물번호': 2, 'SMAPE': 4.984570757938752, 'R2': 0.8430983047175616},\n",
       " {'건물번호': 3, 'SMAPE': 4.748388184464371, 'R2': 0.8652680846533359},\n",
       " {'건물번호': 4, 'SMAPE': 1.9465192802099425, 'R2': 0.9750096667872354},\n",
       " {'건물번호': 5, 'SMAPE': 3.6377630521333417, 'R2': 0.9559777174391022},\n",
       " {'건물번호': 6, 'SMAPE': 2.4182941771967346, 'R2': 0.9578611514086105},\n",
       " {'건물번호': 7, 'SMAPE': 4.307269667470138, 'R2': 0.8993115864328871},\n",
       " {'건물번호': 8, 'SMAPE': 2.4014583106354452, 'R2': 0.7386998076599489},\n",
       " {'건물번호': 9, 'SMAPE': 2.0614666848007412, 'R2': 0.9704629056232329},\n",
       " {'건물번호': 10, 'SMAPE': 3.3571069607198223, 'R2': 0.5144255310690511},\n",
       " {'건물번호': 11, 'SMAPE': 1.700174348810673, 'R2': 0.8950997020083612},\n",
       " {'건물번호': 12, 'SMAPE': 2.1180166920773233, 'R2': 0.8906401719721289},\n",
       " {'건물번호': 13, 'SMAPE': 3.6151650748380373, 'R2': 0.17604522990899563},\n",
       " {'건물번호': 14, 'SMAPE': 8.198120578755367, 'R2': 0.29742151307643383},\n",
       " {'건물번호': 15, 'SMAPE': 1.962666640803192, 'R2': 0.8051796262696933},\n",
       " {'건물번호': 16, 'SMAPE': 2.125165321171025, 'R2': 0.9838213966223212},\n",
       " {'건물번호': 17, 'SMAPE': 3.7827099578038905, 'R2': 0.9210108161974975},\n",
       " {'건물번호': 18, 'SMAPE': 4.255991803243023, 'R2': 0.8145821532694238},\n",
       " {'건물번호': 19, 'SMAPE': 4.627560568110455, 'R2': 0.9043691990560375},\n",
       " {'건물번호': 20, 'SMAPE': 4.990809199318701, 'R2': 0.807362377328918},\n",
       " {'건물번호': 21, 'SMAPE': 4.5053437760271775, 'R2': 0.8867790665838836},\n",
       " {'건물번호': 22, 'SMAPE': 1.7310447332074246, 'R2': 0.9432956580474308},\n",
       " {'건물번호': 23, 'SMAPE': 2.2610481582582374, 'R2': 0.726023593971761},\n",
       " {'건물번호': 24, 'SMAPE': 1.384424148909194, 'R2': 0.980931285114505},\n",
       " {'건물번호': 25, 'SMAPE': 1.171651714774279, 'R2': 0.9777454087526165},\n",
       " {'건물번호': 26, 'SMAPE': 1.7684391038232175, 'R2': 0.880767977180326},\n",
       " {'건물번호': 27, 'SMAPE': 1.305445028401994, 'R2': 0.8993590587439956},\n",
       " {'건물번호': 28, 'SMAPE': 2.5874040167677412, 'R2': 0.9379539955620609},\n",
       " {'건물번호': 29, 'SMAPE': 3.1934854742388294, 'R2': 0.7764724231780415},\n",
       " {'건물번호': 30, 'SMAPE': 4.884202910135106, 'R2': 0.6590359638222282},\n",
       " {'건물번호': 31, 'SMAPE': 2.438287067571604, 'R2': 0.9265729976617417},\n",
       " {'건물번호': 32, 'SMAPE': 0.18972787638685584, 'R2': 0.8678953457361558},\n",
       " {'건물번호': 33, 'SMAPE': 0.1408979959397814, 'R2': 0.8670570694537042},\n",
       " {'건물번호': 34, 'SMAPE': 0.44838998614366005, 'R2': 0.7773076086029878},\n",
       " {'건물번호': 35, 'SMAPE': 0.23867449466726, 'R2': 0.8647057581554892},\n",
       " {'건물번호': 36, 'SMAPE': 0.222129844441478, 'R2': 0.8398184822359824},\n",
       " {'건물번호': 37, 'SMAPE': 2.563431147909792, 'R2': 0.9719493249262493},\n",
       " {'건물번호': 38, 'SMAPE': 2.3995481757433974, 'R2': 0.9783486811545055},\n",
       " {'건물번호': 39, 'SMAPE': 2.5429887715918356, 'R2': 0.9875325363090149},\n",
       " {'건물번호': 40, 'SMAPE': 4.949725375083061, 'R2': 0.9361800487246348},\n",
       " {'건물번호': 41, 'SMAPE': 2.7871658388209255, 'R2': 0.9687369284261115},\n",
       " {'건물번호': 42, 'SMAPE': 8.490695677002906, 'R2': 0.8312136913827755},\n",
       " {'건물번호': 43, 'SMAPE': 2.5765757671732827, 'R2': 0.9963097008519095},\n",
       " {'건물번호': 44, 'SMAPE': 2.0206921131093116, 'R2': 0.9956542300579928},\n",
       " {'건물번호': 45, 'SMAPE': 0.9636166481882197, 'R2': 0.9741663176568942},\n",
       " {'건물번호': 46, 'SMAPE': 2.9152820214674375, 'R2': 0.9089364609915891},\n",
       " {'건물번호': 47, 'SMAPE': 2.44199562420449, 'R2': 0.9081604303723686},\n",
       " {'건물번호': 48, 'SMAPE': 1.2924359762110216, 'R2': 0.9624260302021126},\n",
       " {'건물번호': 49, 'SMAPE': 1.2044399453935408, 'R2': 0.9477899374860153},\n",
       " {'건물번호': 50, 'SMAPE': 1.3424754879558616, 'R2': 0.9181100279667055},\n",
       " {'건물번호': 51, 'SMAPE': 2.3069110202240872, 'R2': 0.860093590649482},\n",
       " {'건물번호': 52, 'SMAPE': 3.0851602584690085, 'R2': 0.8374973787372814},\n",
       " {'건물번호': 53, 'SMAPE': 7.2648417156493545, 'R2': 0.9203205423613228},\n",
       " {'건물번호': 54, 'SMAPE': 16.030845208983116, 'R2': 0.37587593521080953},\n",
       " {'건물번호': 55, 'SMAPE': 1.0556024170338933, 'R2': 0.8405256840114026},\n",
       " {'건물번호': 56, 'SMAPE': 0.3995891138595821, 'R2': 0.9383633046815822},\n",
       " {'건물번호': 57, 'SMAPE': 2.5823510572322594, 'R2': 0.982983988705182},\n",
       " {'건물번호': 58, 'SMAPE': 0.23519363397504034, 'R2': 0.9228203340448847},\n",
       " {'건물번호': 59, 'SMAPE': 2.5619438538110715, 'R2': 0.9815368789764827},\n",
       " {'건물번호': 60, 'SMAPE': 2.8110172926551833, 'R2': 0.9583870172442827},\n",
       " {'건물번호': 61, 'SMAPE': 2.340201478988097, 'R2': 0.9269577009344832},\n",
       " {'건물번호': 62, 'SMAPE': 2.82218449337234, 'R2': 0.9096282895017103},\n",
       " {'건물번호': 63, 'SMAPE': 3.3329194240853175, 'R2': 0.9043018344864934},\n",
       " {'건물번호': 64, 'SMAPE': 2.187868446437268, 'R2': 0.9424236575325887},\n",
       " {'건물번호': 65, 'SMAPE': 4.189424806271382, 'R2': 0.8776450394994727},\n",
       " {'건물번호': 66, 'SMAPE': 1.9520773827079756, 'R2': 0.8716987879378835},\n",
       " {'건물번호': 67, 'SMAPE': 2.763659889478162, 'R2': 0.8891725918174914},\n",
       " {'건물번호': 68, 'SMAPE': 2.3269845074066002, 'R2': 0.9385765657446611},\n",
       " {'건물번호': 69, 'SMAPE': 1.2487747471581605, 'R2': 0.9804228682897063},\n",
       " {'건물번호': 70, 'SMAPE': 2.9096000798126633, 'R2': 0.8945569984264621},\n",
       " {'건물번호': 71, 'SMAPE': 2.5240245149183576, 'R2': 0.7733786922239123},\n",
       " {'건물번호': 72, 'SMAPE': 3.8508366997362655, 'R2': 0.5049414960821738},\n",
       " {'건물번호': 73, 'SMAPE': 1.7260449595208565, 'R2': 0.803513176762261},\n",
       " {'건물번호': 74, 'SMAPE': 3.6117350538550523, 'R2': 0.9113554135344053},\n",
       " {'건물번호': 75, 'SMAPE': 2.207682379403786, 'R2': 0.8886641200872789},\n",
       " {'건물번호': 76, 'SMAPE': 2.922708453346419, 'R2': 0.5843763343133019},\n",
       " {'건물번호': 77, 'SMAPE': 1.9178124448321017, 'R2': 0.9230691455808102},\n",
       " {'건물번호': 78, 'SMAPE': 2.3627014417844427, 'R2': 0.9345048024428463},\n",
       " {'건물번호': 79, 'SMAPE': 2.672002629682452, 'R2': 0.8633319200457426},\n",
       " {'건물번호': 80, 'SMAPE': 1.9637180950969766, 'R2': 0.9922439708420913},\n",
       " {'건물번호': 81, 'SMAPE': 1.721184324954292, 'R2': 0.9920629233961014},\n",
       " {'건물번호': 82, 'SMAPE': 2.784366406978639, 'R2': 0.9588340437684703},\n",
       " {'건물번호': 83, 'SMAPE': 2.5503571201544255, 'R2': 0.9171166009511168},\n",
       " {'건물번호': 84, 'SMAPE': 2.6010763764852443, 'R2': 0.8944995026867417},\n",
       " {'건물번호': 85, 'SMAPE': 1.9473509361905856, 'R2': 0.9406841112684394},\n",
       " {'건물번호': 86, 'SMAPE': 3.9845723824046284, 'R2': 0.894860727209134},\n",
       " {'건물번호': 87, 'SMAPE': 5.201036249472348, 'R2': 0.8438980424875884},\n",
       " {'건물번호': 88, 'SMAPE': 4.864697881141088, 'R2': 0.7454113087640606},\n",
       " {'건물번호': 89, 'SMAPE': 4.656762722955426, 'R2': 0.7780055483680671},\n",
       " {'건물번호': 90, 'SMAPE': 5.712615462814688, 'R2': 0.8086298772439142},\n",
       " {'건물번호': 91, 'SMAPE': 6.040108479397927, 'R2': 0.922162363730947},\n",
       " {'건물번호': 92, 'SMAPE': 4.074109230995168, 'R2': 0.8075872633607586},\n",
       " {'건물번호': 93, 'SMAPE': 3.2030708810387942, 'R2': 0.8803605761426699},\n",
       " {'건물번호': 94, 'SMAPE': 2.8951465349696477, 'R2': 0.9082408079583276},\n",
       " {'건물번호': 95, 'SMAPE': 7.599879934805201, 'R2': 0.5946891859570982},\n",
       " {'건물번호': 96, 'SMAPE': 1.3017287518895497, 'R2': 0.9758914129490925},\n",
       " {'건물번호': 97, 'SMAPE': 2.2995340423161235, 'R2': 0.9373195927146769},\n",
       " {'건물번호': 98, 'SMAPE': 6.382029092092538, 'R2': 0.8734307128116495},\n",
       " {'건물번호': 99, 'SMAPE': 1.675374801219525, 'R2': 0.9784401189489322},\n",
       " {'건물번호': 100, 'SMAPE': 2.7178215831385364, 'R2': 0.9645943448462445}]"
      ]
     },
     "execution_count": 194,
     "metadata": {},
     "output_type": "execute_result"
    }
   ],
   "source": [
    "summary_list"
   ]
  },
  {
   "cell_type": "code",
   "execution_count": 195,
   "id": "9acb0323-98e5-46f1-9376-c42f45301037",
   "metadata": {},
   "outputs": [
    {
     "data": {
      "text/plain": [
       "3.0176168545696984"
      ]
     },
     "execution_count": 195,
     "metadata": {},
     "output_type": "execute_result"
    }
   ],
   "source": [
    "smape_val"
   ]
  },
  {
   "cell_type": "code",
   "execution_count": 71,
   "id": "6b4a9857-1140-42b3-9816-cf476903ad72",
   "metadata": {},
   "outputs": [],
   "source": [
    "sub = pd.read_csv('sample_submission.csv')\n",
    "sub['answer'] = pred_test_whole\n",
    "sub.to_csv('xgb_sub_15.csv', index=False)"
   ]
  },
  {
   "cell_type": "markdown",
   "id": "5364f5ef-42ce-4735-84eb-2bda4490e530",
   "metadata": {},
   "source": [
    "### Improvement"
   ]
  },
  {
   "cell_type": "code",
   "execution_count": 78,
   "id": "9322016f-b3d8-4efe-b92b-ca65bfd6fdea",
   "metadata": {},
   "outputs": [],
   "source": [
    "train['적정온도차이'] = train['기온(C)'] - 26"
   ]
  },
  {
   "cell_type": "code",
   "execution_count": 79,
   "id": "ae38640c-64c3-4b3b-82fa-f944ae094edd",
   "metadata": {},
   "outputs": [],
   "source": [
    "test['적정온도차이'] = test['기온(C)'] - 26"
   ]
  },
  {
   "cell_type": "code",
   "execution_count": 34,
   "id": "dd2200c1-342a-4409-ab51-3b7f3b0cfb34",
   "metadata": {},
   "outputs": [
    {
     "data": {
      "text/html": [
       "<div>\n",
       "<style scoped>\n",
       "    .dataframe tbody tr th:only-of-type {\n",
       "        vertical-align: middle;\n",
       "    }\n",
       "\n",
       "    .dataframe tbody tr th {\n",
       "        vertical-align: top;\n",
       "    }\n",
       "\n",
       "    .dataframe thead th {\n",
       "        text-align: right;\n",
       "    }\n",
       "</style>\n",
       "<table border=\"1\" class=\"dataframe\">\n",
       "  <thead>\n",
       "    <tr style=\"text-align: right;\">\n",
       "      <th></th>\n",
       "      <th>건물번호</th>\n",
       "      <th>기온(C)</th>\n",
       "      <th>강수량(mm)</th>\n",
       "      <th>풍속(m/s)</th>\n",
       "      <th>습도(%)</th>\n",
       "      <th>month</th>\n",
       "      <th>day</th>\n",
       "      <th>holiday</th>\n",
       "      <th>sin_time</th>\n",
       "      <th>cos_time</th>\n",
       "      <th>DI</th>\n",
       "      <th>power</th>\n",
       "      <th>적정온도차이</th>\n",
       "    </tr>\n",
       "  </thead>\n",
       "  <tbody>\n",
       "    <tr>\n",
       "      <th>0</th>\n",
       "      <td>1</td>\n",
       "      <td>18.6</td>\n",
       "      <td>0.0</td>\n",
       "      <td>0.9</td>\n",
       "      <td>42.0</td>\n",
       "      <td>6</td>\n",
       "      <td>2</td>\n",
       "      <td>0</td>\n",
       "      <td>0.000000</td>\n",
       "      <td>1.000000</td>\n",
       "      <td>234.154</td>\n",
       "      <td>1085.28</td>\n",
       "      <td>-7.4</td>\n",
       "    </tr>\n",
       "    <tr>\n",
       "      <th>1</th>\n",
       "      <td>1</td>\n",
       "      <td>18.0</td>\n",
       "      <td>0.0</td>\n",
       "      <td>1.1</td>\n",
       "      <td>45.0</td>\n",
       "      <td>6</td>\n",
       "      <td>2</td>\n",
       "      <td>0</td>\n",
       "      <td>0.258819</td>\n",
       "      <td>0.965926</td>\n",
       "      <td>219.280</td>\n",
       "      <td>1047.36</td>\n",
       "      <td>-8.0</td>\n",
       "    </tr>\n",
       "    <tr>\n",
       "      <th>2</th>\n",
       "      <td>1</td>\n",
       "      <td>17.7</td>\n",
       "      <td>0.0</td>\n",
       "      <td>1.5</td>\n",
       "      <td>45.0</td>\n",
       "      <td>6</td>\n",
       "      <td>2</td>\n",
       "      <td>0</td>\n",
       "      <td>0.500000</td>\n",
       "      <td>0.866025</td>\n",
       "      <td>205.672</td>\n",
       "      <td>974.88</td>\n",
       "      <td>-8.3</td>\n",
       "    </tr>\n",
       "    <tr>\n",
       "      <th>3</th>\n",
       "      <td>1</td>\n",
       "      <td>16.7</td>\n",
       "      <td>0.0</td>\n",
       "      <td>1.4</td>\n",
       "      <td>48.0</td>\n",
       "      <td>6</td>\n",
       "      <td>2</td>\n",
       "      <td>0</td>\n",
       "      <td>0.707107</td>\n",
       "      <td>0.707107</td>\n",
       "      <td>167.011</td>\n",
       "      <td>953.76</td>\n",
       "      <td>-9.3</td>\n",
       "    </tr>\n",
       "    <tr>\n",
       "      <th>4</th>\n",
       "      <td>1</td>\n",
       "      <td>18.4</td>\n",
       "      <td>0.0</td>\n",
       "      <td>2.8</td>\n",
       "      <td>43.0</td>\n",
       "      <td>6</td>\n",
       "      <td>2</td>\n",
       "      <td>0</td>\n",
       "      <td>0.866025</td>\n",
       "      <td>0.500000</td>\n",
       "      <td>229.592</td>\n",
       "      <td>986.40</td>\n",
       "      <td>-7.6</td>\n",
       "    </tr>\n",
       "  </tbody>\n",
       "</table>\n",
       "</div>"
      ],
      "text/plain": [
       "   건물번호  기온(C)  강수량(mm)  풍속(m/s)  습도(%)  month  day  holiday  sin_time  \\\n",
       "0     1   18.6      0.0      0.9   42.0      6    2        0  0.000000   \n",
       "1     1   18.0      0.0      1.1   45.0      6    2        0  0.258819   \n",
       "2     1   17.7      0.0      1.5   45.0      6    2        0  0.500000   \n",
       "3     1   16.7      0.0      1.4   48.0      6    2        0  0.707107   \n",
       "4     1   18.4      0.0      2.8   43.0      6    2        0  0.866025   \n",
       "\n",
       "   cos_time       DI    power  적정온도차이  \n",
       "0  1.000000  234.154  1085.28    -7.4  \n",
       "1  0.965926  219.280  1047.36    -8.0  \n",
       "2  0.866025  205.672   974.88    -8.3  \n",
       "3  0.707107  167.011   953.76    -9.3  \n",
       "4  0.500000  229.592   986.40    -7.6  "
      ]
     },
     "execution_count": 34,
     "metadata": {},
     "output_type": "execute_result"
    }
   ],
   "source": [
    "train.head()"
   ]
  },
  {
   "cell_type": "code",
   "execution_count": 35,
   "id": "2018f85a-5c5f-4cb0-9506-f616f962d16a",
   "metadata": {},
   "outputs": [],
   "source": [
    "def weighted_mse(alpha = 1):\n",
    "    def weighted_mse_fixed(label, pred):\n",
    "        residual = (label - pred).astype(\"float\")\n",
    "        grad = np.where(residual>0, -2*alpha*residual, -2*residual)\n",
    "        hess = np.where(residual>0, 2*alpha, 2.0)\n",
    "        return grad, hess\n",
    "    return weighted_mse_fixed"
   ]
  },
  {
   "cell_type": "code",
   "execution_count": 36,
   "id": "b060a2f4-0bce-434c-96a8-b40f6b6058ff",
   "metadata": {},
   "outputs": [],
   "source": [
    "def fit_and_pred_XGB_with_weight(train, test, number, weight, seed=0):\n",
    "    x_train, x_valid, y_train, y_valid = tr_ts_split(train, test, number, 7*24)\n",
    "\n",
    "    xgb_reg = XGBRegressor(n_estimators=10000, eta=0.01, seed=seed,\n",
    "                            gpu_id=0, tree_method='gpu_hist', predictor='gpu_predictor')\n",
    "    xgb_reg.set_params(**{'objective':weighted_mse(weight)})\n",
    "    xgb_reg.fit(x_train, y_train, eval_set=[(x_train, y_train), (x_valid, y_valid)],\n",
    "                early_stopping_rounds=300, verbose=False)\n",
    "    pred = xgb_reg.predict(x_valid)\n",
    "    pred = pd.Series(pred)\n",
    "    \n",
    "    x_test = test[test['건물번호']==number]\n",
    "    y_test_pred = xgb_reg.predict(x_test.drop('건물번호', axis=1))\n",
    "\n",
    "    smape_val = SMAPE(y_valid, pred)\n",
    "    r2_val = sklearn.metrics.r2_score(y_valid, pred)\n",
    "    print(f'SMAPE: {smape_val}')\n",
    "    print(f'R2: {r2_val}')\n",
    "    return smape_val, r2_val, y_valid, pred, y_test_pred"
   ]
  },
  {
   "cell_type": "code",
   "execution_count": 203,
   "id": "a5c5d280-1e96-469e-8f6d-7133e8c4aa95",
   "metadata": {
    "scrolled": true
   },
   "outputs": [
    {
     "name": "stderr",
     "output_type": "stream",
     "text": [
      "  0%|          | 0/100 [00:00<?, ?it/s]/opt/conda/lib/python3.10/site-packages/xgboost/sklearn.py:835: UserWarning: `early_stopping_rounds` in `fit` method is deprecated for better compatibility with scikit-learn, use `early_stopping_rounds` in constructor or`set_params` instead.\n",
      "  warnings.warn(\n"
     ]
    },
    {
     "name": "stdout",
     "output_type": "stream",
     "text": [
      "===== < BUILDING NO.1 > =====\n"
     ]
    },
    {
     "name": "stderr",
     "output_type": "stream",
     "text": [
      "  1%|          | 1/100 [00:01<03:12,  1.94s/it]"
     ]
    },
    {
     "name": "stdout",
     "output_type": "stream",
     "text": [
      "SMAPE: 3.5419388838477404\n",
      "R2: 0.9563832166343148\n",
      "===== < BUILDING NO.2 > =====\n"
     ]
    },
    {
     "name": "stderr",
     "output_type": "stream",
     "text": [
      "/opt/conda/lib/python3.10/site-packages/xgboost/sklearn.py:835: UserWarning: `early_stopping_rounds` in `fit` method is deprecated for better compatibility with scikit-learn, use `early_stopping_rounds` in constructor or`set_params` instead.\n",
      "  warnings.warn(\n",
      "  2%|▏         | 2/100 [00:03<02:52,  1.76s/it]"
     ]
    },
    {
     "name": "stdout",
     "output_type": "stream",
     "text": [
      "SMAPE: 4.295780152455329\n",
      "R2: 0.8651174662607124\n",
      "===== < BUILDING NO.3 > =====\n"
     ]
    },
    {
     "name": "stderr",
     "output_type": "stream",
     "text": [
      "/opt/conda/lib/python3.10/site-packages/xgboost/sklearn.py:835: UserWarning: `early_stopping_rounds` in `fit` method is deprecated for better compatibility with scikit-learn, use `early_stopping_rounds` in constructor or`set_params` instead.\n",
      "  warnings.warn(\n",
      "  3%|▎         | 3/100 [00:05<02:37,  1.62s/it]"
     ]
    },
    {
     "name": "stdout",
     "output_type": "stream",
     "text": [
      "SMAPE: 4.976127431146375\n",
      "R2: 0.8282886548210623\n",
      "===== < BUILDING NO.4 > =====\n"
     ]
    },
    {
     "name": "stderr",
     "output_type": "stream",
     "text": [
      "/opt/conda/lib/python3.10/site-packages/xgboost/sklearn.py:835: UserWarning: `early_stopping_rounds` in `fit` method is deprecated for better compatibility with scikit-learn, use `early_stopping_rounds` in constructor or`set_params` instead.\n",
      "  warnings.warn(\n",
      "  4%|▍         | 4/100 [00:06<02:38,  1.65s/it]"
     ]
    },
    {
     "name": "stdout",
     "output_type": "stream",
     "text": [
      "SMAPE: 1.916974758959043\n",
      "R2: 0.9749491993399805\n",
      "===== < BUILDING NO.5 > =====\n"
     ]
    },
    {
     "name": "stderr",
     "output_type": "stream",
     "text": [
      "/opt/conda/lib/python3.10/site-packages/xgboost/sklearn.py:835: UserWarning: `early_stopping_rounds` in `fit` method is deprecated for better compatibility with scikit-learn, use `early_stopping_rounds` in constructor or`set_params` instead.\n",
      "  warnings.warn(\n",
      "  5%|▌         | 5/100 [00:09<03:23,  2.14s/it]"
     ]
    },
    {
     "name": "stdout",
     "output_type": "stream",
     "text": [
      "SMAPE: 2.8188883844313564\n",
      "R2: 0.972446435735248\n",
      "===== < BUILDING NO.6 > =====\n"
     ]
    },
    {
     "name": "stderr",
     "output_type": "stream",
     "text": [
      "/opt/conda/lib/python3.10/site-packages/xgboost/sklearn.py:835: UserWarning: `early_stopping_rounds` in `fit` method is deprecated for better compatibility with scikit-learn, use `early_stopping_rounds` in constructor or`set_params` instead.\n",
      "  warnings.warn(\n",
      "  6%|▌         | 6/100 [00:11<03:21,  2.14s/it]"
     ]
    },
    {
     "name": "stdout",
     "output_type": "stream",
     "text": [
      "SMAPE: 1.8247299710309055\n",
      "R2: 0.9802984729616211\n",
      "===== < BUILDING NO.7 > =====\n"
     ]
    },
    {
     "name": "stderr",
     "output_type": "stream",
     "text": [
      "/opt/conda/lib/python3.10/site-packages/xgboost/sklearn.py:835: UserWarning: `early_stopping_rounds` in `fit` method is deprecated for better compatibility with scikit-learn, use `early_stopping_rounds` in constructor or`set_params` instead.\n",
      "  warnings.warn(\n",
      "  7%|▋         | 7/100 [00:13<03:09,  2.04s/it]"
     ]
    },
    {
     "name": "stdout",
     "output_type": "stream",
     "text": [
      "SMAPE: 4.181533402777831\n",
      "R2: 0.906970899840581\n",
      "===== < BUILDING NO.8 > =====\n"
     ]
    },
    {
     "name": "stderr",
     "output_type": "stream",
     "text": [
      "/opt/conda/lib/python3.10/site-packages/xgboost/sklearn.py:835: UserWarning: `early_stopping_rounds` in `fit` method is deprecated for better compatibility with scikit-learn, use `early_stopping_rounds` in constructor or`set_params` instead.\n",
      "  warnings.warn(\n",
      "  8%|▊         | 8/100 [00:15<03:03,  2.00s/it]"
     ]
    },
    {
     "name": "stdout",
     "output_type": "stream",
     "text": [
      "SMAPE: 2.8739138223687473\n",
      "R2: 0.6702282399188223\n",
      "===== < BUILDING NO.9 > =====\n"
     ]
    },
    {
     "name": "stderr",
     "output_type": "stream",
     "text": [
      "/opt/conda/lib/python3.10/site-packages/xgboost/sklearn.py:835: UserWarning: `early_stopping_rounds` in `fit` method is deprecated for better compatibility with scikit-learn, use `early_stopping_rounds` in constructor or`set_params` instead.\n",
      "  warnings.warn(\n",
      "  9%|▉         | 9/100 [00:17<03:05,  2.04s/it]"
     ]
    },
    {
     "name": "stdout",
     "output_type": "stream",
     "text": [
      "SMAPE: 1.8549493161639723\n",
      "R2: 0.984736771457575\n",
      "===== < BUILDING NO.10 > =====\n"
     ]
    },
    {
     "name": "stderr",
     "output_type": "stream",
     "text": [
      "/opt/conda/lib/python3.10/site-packages/xgboost/sklearn.py:835: UserWarning: `early_stopping_rounds` in `fit` method is deprecated for better compatibility with scikit-learn, use `early_stopping_rounds` in constructor or`set_params` instead.\n",
      "  warnings.warn(\n",
      " 10%|█         | 10/100 [00:19<02:50,  1.89s/it]"
     ]
    },
    {
     "name": "stdout",
     "output_type": "stream",
     "text": [
      "SMAPE: 3.5416225095446876\n",
      "R2: 0.4322418016566194\n",
      "===== < BUILDING NO.11 > =====\n"
     ]
    },
    {
     "name": "stderr",
     "output_type": "stream",
     "text": [
      "/opt/conda/lib/python3.10/site-packages/xgboost/sklearn.py:835: UserWarning: `early_stopping_rounds` in `fit` method is deprecated for better compatibility with scikit-learn, use `early_stopping_rounds` in constructor or`set_params` instead.\n",
      "  warnings.warn(\n",
      " 11%|█         | 11/100 [00:21<02:53,  1.95s/it]"
     ]
    },
    {
     "name": "stdout",
     "output_type": "stream",
     "text": [
      "SMAPE: 1.686647477272509\n",
      "R2: 0.8955227858960689\n",
      "===== < BUILDING NO.12 > =====\n"
     ]
    },
    {
     "name": "stderr",
     "output_type": "stream",
     "text": [
      "/opt/conda/lib/python3.10/site-packages/xgboost/sklearn.py:835: UserWarning: `early_stopping_rounds` in `fit` method is deprecated for better compatibility with scikit-learn, use `early_stopping_rounds` in constructor or`set_params` instead.\n",
      "  warnings.warn(\n",
      " 12%|█▏        | 12/100 [00:24<03:14,  2.21s/it]"
     ]
    },
    {
     "name": "stdout",
     "output_type": "stream",
     "text": [
      "SMAPE: 1.9311341180054387\n",
      "R2: 0.8995117473179703\n",
      "===== < BUILDING NO.13 > =====\n"
     ]
    },
    {
     "name": "stderr",
     "output_type": "stream",
     "text": [
      "/opt/conda/lib/python3.10/site-packages/xgboost/sklearn.py:835: UserWarning: `early_stopping_rounds` in `fit` method is deprecated for better compatibility with scikit-learn, use `early_stopping_rounds` in constructor or`set_params` instead.\n",
      "  warnings.warn(\n",
      " 13%|█▎        | 13/100 [00:26<03:04,  2.12s/it]"
     ]
    },
    {
     "name": "stdout",
     "output_type": "stream",
     "text": [
      "SMAPE: 3.004711373509035\n",
      "R2: 0.3961679661426334\n",
      "===== < BUILDING NO.14 > =====\n"
     ]
    },
    {
     "name": "stderr",
     "output_type": "stream",
     "text": [
      "/opt/conda/lib/python3.10/site-packages/xgboost/sklearn.py:835: UserWarning: `early_stopping_rounds` in `fit` method is deprecated for better compatibility with scikit-learn, use `early_stopping_rounds` in constructor or`set_params` instead.\n",
      "  warnings.warn(\n",
      " 14%|█▍        | 14/100 [00:27<02:43,  1.91s/it]"
     ]
    },
    {
     "name": "stdout",
     "output_type": "stream",
     "text": [
      "SMAPE: 7.909728524427743\n",
      "R2: 0.34326299780211256\n",
      "===== < BUILDING NO.15 > =====\n"
     ]
    },
    {
     "name": "stderr",
     "output_type": "stream",
     "text": [
      "/opt/conda/lib/python3.10/site-packages/xgboost/sklearn.py:835: UserWarning: `early_stopping_rounds` in `fit` method is deprecated for better compatibility with scikit-learn, use `early_stopping_rounds` in constructor or`set_params` instead.\n",
      "  warnings.warn(\n",
      " 15%|█▌        | 15/100 [00:29<02:50,  2.00s/it]"
     ]
    },
    {
     "name": "stdout",
     "output_type": "stream",
     "text": [
      "SMAPE: 1.8971932943063454\n",
      "R2: 0.8458132584564995\n",
      "===== < BUILDING NO.16 > =====\n"
     ]
    },
    {
     "name": "stderr",
     "output_type": "stream",
     "text": [
      "/opt/conda/lib/python3.10/site-packages/xgboost/sklearn.py:835: UserWarning: `early_stopping_rounds` in `fit` method is deprecated for better compatibility with scikit-learn, use `early_stopping_rounds` in constructor or`set_params` instead.\n",
      "  warnings.warn(\n",
      " 16%|█▌        | 16/100 [00:31<02:40,  1.92s/it]"
     ]
    },
    {
     "name": "stdout",
     "output_type": "stream",
     "text": [
      "SMAPE: 2.020895267248837\n",
      "R2: 0.9855279166437871\n",
      "===== < BUILDING NO.17 > =====\n"
     ]
    },
    {
     "name": "stderr",
     "output_type": "stream",
     "text": [
      "/opt/conda/lib/python3.10/site-packages/xgboost/sklearn.py:835: UserWarning: `early_stopping_rounds` in `fit` method is deprecated for better compatibility with scikit-learn, use `early_stopping_rounds` in constructor or`set_params` instead.\n",
      "  warnings.warn(\n",
      " 17%|█▋        | 17/100 [00:33<02:46,  2.01s/it]"
     ]
    },
    {
     "name": "stdout",
     "output_type": "stream",
     "text": [
      "SMAPE: 3.0345161593836227\n",
      "R2: 0.9455755730715113\n",
      "===== < BUILDING NO.18 > =====\n"
     ]
    },
    {
     "name": "stderr",
     "output_type": "stream",
     "text": [
      "/opt/conda/lib/python3.10/site-packages/xgboost/sklearn.py:835: UserWarning: `early_stopping_rounds` in `fit` method is deprecated for better compatibility with scikit-learn, use `early_stopping_rounds` in constructor or`set_params` instead.\n",
      "  warnings.warn(\n",
      " 18%|█▊        | 18/100 [00:36<03:06,  2.27s/it]"
     ]
    },
    {
     "name": "stdout",
     "output_type": "stream",
     "text": [
      "SMAPE: 3.5805708796288402\n",
      "R2: 0.9046722159410551\n",
      "===== < BUILDING NO.19 > =====\n"
     ]
    },
    {
     "name": "stderr",
     "output_type": "stream",
     "text": [
      "/opt/conda/lib/python3.10/site-packages/xgboost/sklearn.py:835: UserWarning: `early_stopping_rounds` in `fit` method is deprecated for better compatibility with scikit-learn, use `early_stopping_rounds` in constructor or`set_params` instead.\n",
      "  warnings.warn(\n",
      " 19%|█▉        | 19/100 [00:39<03:11,  2.37s/it]"
     ]
    },
    {
     "name": "stdout",
     "output_type": "stream",
     "text": [
      "SMAPE: 3.926657594482213\n",
      "R2: 0.939612714103329\n",
      "===== < BUILDING NO.20 > =====\n"
     ]
    },
    {
     "name": "stderr",
     "output_type": "stream",
     "text": [
      "/opt/conda/lib/python3.10/site-packages/xgboost/sklearn.py:835: UserWarning: `early_stopping_rounds` in `fit` method is deprecated for better compatibility with scikit-learn, use `early_stopping_rounds` in constructor or`set_params` instead.\n",
      "  warnings.warn(\n",
      " 20%|██        | 20/100 [00:41<03:13,  2.42s/it]"
     ]
    },
    {
     "name": "stdout",
     "output_type": "stream",
     "text": [
      "SMAPE: 4.505567909655219\n",
      "R2: 0.7790902289158669\n",
      "===== < BUILDING NO.21 > =====\n"
     ]
    },
    {
     "name": "stderr",
     "output_type": "stream",
     "text": [
      "/opt/conda/lib/python3.10/site-packages/xgboost/sklearn.py:835: UserWarning: `early_stopping_rounds` in `fit` method is deprecated for better compatibility with scikit-learn, use `early_stopping_rounds` in constructor or`set_params` instead.\n",
      "  warnings.warn(\n",
      " 21%|██        | 21/100 [00:43<03:05,  2.35s/it]"
     ]
    },
    {
     "name": "stdout",
     "output_type": "stream",
     "text": [
      "SMAPE: 4.278992383451455\n",
      "R2: 0.9122880595171534\n",
      "===== < BUILDING NO.22 > =====\n"
     ]
    },
    {
     "name": "stderr",
     "output_type": "stream",
     "text": [
      "/opt/conda/lib/python3.10/site-packages/xgboost/sklearn.py:835: UserWarning: `early_stopping_rounds` in `fit` method is deprecated for better compatibility with scikit-learn, use `early_stopping_rounds` in constructor or`set_params` instead.\n",
      "  warnings.warn(\n",
      " 22%|██▏       | 22/100 [00:45<02:55,  2.25s/it]"
     ]
    },
    {
     "name": "stdout",
     "output_type": "stream",
     "text": [
      "SMAPE: 1.714605236128287\n",
      "R2: 0.9462697614433282\n",
      "===== < BUILDING NO.23 > =====\n"
     ]
    },
    {
     "name": "stderr",
     "output_type": "stream",
     "text": [
      "/opt/conda/lib/python3.10/site-packages/xgboost/sklearn.py:835: UserWarning: `early_stopping_rounds` in `fit` method is deprecated for better compatibility with scikit-learn, use `early_stopping_rounds` in constructor or`set_params` instead.\n",
      "  warnings.warn(\n",
      " 23%|██▎       | 23/100 [00:48<03:01,  2.35s/it]"
     ]
    },
    {
     "name": "stdout",
     "output_type": "stream",
     "text": [
      "SMAPE: 1.9977630506533826\n",
      "R2: 0.7118909379916054\n",
      "===== < BUILDING NO.24 > =====\n"
     ]
    },
    {
     "name": "stderr",
     "output_type": "stream",
     "text": [
      "/opt/conda/lib/python3.10/site-packages/xgboost/sklearn.py:835: UserWarning: `early_stopping_rounds` in `fit` method is deprecated for better compatibility with scikit-learn, use `early_stopping_rounds` in constructor or`set_params` instead.\n",
      "  warnings.warn(\n",
      " 24%|██▍       | 24/100 [00:51<03:13,  2.55s/it]"
     ]
    },
    {
     "name": "stdout",
     "output_type": "stream",
     "text": [
      "SMAPE: 1.2147046751398998\n",
      "R2: 0.9876692285042109\n",
      "===== < BUILDING NO.25 > =====\n"
     ]
    },
    {
     "name": "stderr",
     "output_type": "stream",
     "text": [
      "/opt/conda/lib/python3.10/site-packages/xgboost/sklearn.py:835: UserWarning: `early_stopping_rounds` in `fit` method is deprecated for better compatibility with scikit-learn, use `early_stopping_rounds` in constructor or`set_params` instead.\n",
      "  warnings.warn(\n",
      " 25%|██▌       | 25/100 [00:54<03:14,  2.59s/it]"
     ]
    },
    {
     "name": "stdout",
     "output_type": "stream",
     "text": [
      "SMAPE: 1.071914519547852\n",
      "R2: 0.9838502476852887\n",
      "===== < BUILDING NO.26 > =====\n"
     ]
    },
    {
     "name": "stderr",
     "output_type": "stream",
     "text": [
      "/opt/conda/lib/python3.10/site-packages/xgboost/sklearn.py:835: UserWarning: `early_stopping_rounds` in `fit` method is deprecated for better compatibility with scikit-learn, use `early_stopping_rounds` in constructor or`set_params` instead.\n",
      "  warnings.warn(\n",
      " 26%|██▌       | 26/100 [00:56<03:02,  2.46s/it]"
     ]
    },
    {
     "name": "stdout",
     "output_type": "stream",
     "text": [
      "SMAPE: 1.2754434182491863\n",
      "R2: 0.9526249517572365\n",
      "===== < BUILDING NO.27 > =====\n"
     ]
    },
    {
     "name": "stderr",
     "output_type": "stream",
     "text": [
      "/opt/conda/lib/python3.10/site-packages/xgboost/sklearn.py:835: UserWarning: `early_stopping_rounds` in `fit` method is deprecated for better compatibility with scikit-learn, use `early_stopping_rounds` in constructor or`set_params` instead.\n",
      "  warnings.warn(\n",
      " 27%|██▋       | 27/100 [00:58<02:53,  2.38s/it]"
     ]
    },
    {
     "name": "stdout",
     "output_type": "stream",
     "text": [
      "SMAPE: 1.2089446938323858\n",
      "R2: 0.9196695823152246\n",
      "===== < BUILDING NO.28 > =====\n"
     ]
    },
    {
     "name": "stderr",
     "output_type": "stream",
     "text": [
      "/opt/conda/lib/python3.10/site-packages/xgboost/sklearn.py:835: UserWarning: `early_stopping_rounds` in `fit` method is deprecated for better compatibility with scikit-learn, use `early_stopping_rounds` in constructor or`set_params` instead.\n",
      "  warnings.warn(\n",
      " 28%|██▊       | 28/100 [01:00<02:40,  2.23s/it]"
     ]
    },
    {
     "name": "stdout",
     "output_type": "stream",
     "text": [
      "SMAPE: 2.3315863766342164\n",
      "R2: 0.9464801178483762\n",
      "===== < BUILDING NO.29 > =====\n"
     ]
    },
    {
     "name": "stderr",
     "output_type": "stream",
     "text": [
      "/opt/conda/lib/python3.10/site-packages/xgboost/sklearn.py:835: UserWarning: `early_stopping_rounds` in `fit` method is deprecated for better compatibility with scikit-learn, use `early_stopping_rounds` in constructor or`set_params` instead.\n",
      "  warnings.warn(\n",
      " 29%|██▉       | 29/100 [01:02<02:40,  2.26s/it]"
     ]
    },
    {
     "name": "stdout",
     "output_type": "stream",
     "text": [
      "SMAPE: 2.6397465527714137\n",
      "R2: 0.893935316935024\n",
      "===== < BUILDING NO.30 > =====\n"
     ]
    },
    {
     "name": "stderr",
     "output_type": "stream",
     "text": [
      "/opt/conda/lib/python3.10/site-packages/xgboost/sklearn.py:835: UserWarning: `early_stopping_rounds` in `fit` method is deprecated for better compatibility with scikit-learn, use `early_stopping_rounds` in constructor or`set_params` instead.\n",
      "  warnings.warn(\n",
      " 30%|███       | 30/100 [01:05<02:45,  2.36s/it]"
     ]
    },
    {
     "name": "stdout",
     "output_type": "stream",
     "text": [
      "SMAPE: 3.9998166322091757\n",
      "R2: 0.8506247677458555\n",
      "===== < BUILDING NO.31 > =====\n"
     ]
    },
    {
     "name": "stderr",
     "output_type": "stream",
     "text": [
      "/opt/conda/lib/python3.10/site-packages/xgboost/sklearn.py:835: UserWarning: `early_stopping_rounds` in `fit` method is deprecated for better compatibility with scikit-learn, use `early_stopping_rounds` in constructor or`set_params` instead.\n",
      "  warnings.warn(\n",
      " 31%|███       | 31/100 [01:06<02:27,  2.14s/it]"
     ]
    },
    {
     "name": "stdout",
     "output_type": "stream",
     "text": [
      "SMAPE: 2.404524493769024\n",
      "R2: 0.9470255358159374\n",
      "===== < BUILDING NO.32 > =====\n"
     ]
    },
    {
     "name": "stderr",
     "output_type": "stream",
     "text": [
      "/opt/conda/lib/python3.10/site-packages/xgboost/sklearn.py:835: UserWarning: `early_stopping_rounds` in `fit` method is deprecated for better compatibility with scikit-learn, use `early_stopping_rounds` in constructor or`set_params` instead.\n",
      "  warnings.warn(\n",
      " 32%|███▏      | 32/100 [01:10<02:56,  2.60s/it]"
     ]
    },
    {
     "name": "stdout",
     "output_type": "stream",
     "text": [
      "SMAPE: 0.20167359555235026\n",
      "R2: 0.8627698561039703\n",
      "===== < BUILDING NO.33 > =====\n"
     ]
    },
    {
     "name": "stderr",
     "output_type": "stream",
     "text": [
      "/opt/conda/lib/python3.10/site-packages/xgboost/sklearn.py:835: UserWarning: `early_stopping_rounds` in `fit` method is deprecated for better compatibility with scikit-learn, use `early_stopping_rounds` in constructor or`set_params` instead.\n",
      "  warnings.warn(\n",
      " 33%|███▎      | 33/100 [01:14<03:25,  3.07s/it]"
     ]
    },
    {
     "name": "stdout",
     "output_type": "stream",
     "text": [
      "SMAPE: 0.17276764974408107\n",
      "R2: 0.8229450580971566\n",
      "===== < BUILDING NO.34 > =====\n"
     ]
    },
    {
     "name": "stderr",
     "output_type": "stream",
     "text": [
      "/opt/conda/lib/python3.10/site-packages/xgboost/sklearn.py:835: UserWarning: `early_stopping_rounds` in `fit` method is deprecated for better compatibility with scikit-learn, use `early_stopping_rounds` in constructor or`set_params` instead.\n",
      "  warnings.warn(\n",
      " 34%|███▍      | 34/100 [01:18<03:29,  3.17s/it]"
     ]
    },
    {
     "name": "stdout",
     "output_type": "stream",
     "text": [
      "SMAPE: 0.29083416300093756\n",
      "R2: 0.8981595130056876\n",
      "===== < BUILDING NO.35 > =====\n"
     ]
    },
    {
     "name": "stderr",
     "output_type": "stream",
     "text": [
      "/opt/conda/lib/python3.10/site-packages/xgboost/sklearn.py:835: UserWarning: `early_stopping_rounds` in `fit` method is deprecated for better compatibility with scikit-learn, use `early_stopping_rounds` in constructor or`set_params` instead.\n",
      "  warnings.warn(\n",
      " 35%|███▌      | 35/100 [01:21<03:23,  3.13s/it]"
     ]
    },
    {
     "name": "stdout",
     "output_type": "stream",
     "text": [
      "SMAPE: 0.20213486317948995\n",
      "R2: 0.9010597272573889\n",
      "===== < BUILDING NO.36 > =====\n"
     ]
    },
    {
     "name": "stderr",
     "output_type": "stream",
     "text": [
      "/opt/conda/lib/python3.10/site-packages/xgboost/sklearn.py:835: UserWarning: `early_stopping_rounds` in `fit` method is deprecated for better compatibility with scikit-learn, use `early_stopping_rounds` in constructor or`set_params` instead.\n",
      "  warnings.warn(\n",
      " 36%|███▌      | 36/100 [01:24<03:25,  3.21s/it]"
     ]
    },
    {
     "name": "stdout",
     "output_type": "stream",
     "text": [
      "SMAPE: 0.22888851855130976\n",
      "R2: 0.8347444701991675\n",
      "===== < BUILDING NO.37 > =====\n"
     ]
    },
    {
     "name": "stderr",
     "output_type": "stream",
     "text": [
      "/opt/conda/lib/python3.10/site-packages/xgboost/sklearn.py:835: UserWarning: `early_stopping_rounds` in `fit` method is deprecated for better compatibility with scikit-learn, use `early_stopping_rounds` in constructor or`set_params` instead.\n",
      "  warnings.warn(\n",
      " 37%|███▋      | 37/100 [01:26<03:02,  2.89s/it]"
     ]
    },
    {
     "name": "stdout",
     "output_type": "stream",
     "text": [
      "SMAPE: 1.9402276172887187\n",
      "R2: 0.9851492380233352\n",
      "===== < BUILDING NO.38 > =====\n"
     ]
    },
    {
     "name": "stderr",
     "output_type": "stream",
     "text": [
      "/opt/conda/lib/python3.10/site-packages/xgboost/sklearn.py:835: UserWarning: `early_stopping_rounds` in `fit` method is deprecated for better compatibility with scikit-learn, use `early_stopping_rounds` in constructor or`set_params` instead.\n",
      "  warnings.warn(\n",
      " 38%|███▊      | 38/100 [01:30<03:20,  3.24s/it]"
     ]
    },
    {
     "name": "stdout",
     "output_type": "stream",
     "text": [
      "SMAPE: 1.9617611605591168\n",
      "R2: 0.9943749284020462\n",
      "===== < BUILDING NO.39 > =====\n"
     ]
    },
    {
     "name": "stderr",
     "output_type": "stream",
     "text": [
      "/opt/conda/lib/python3.10/site-packages/xgboost/sklearn.py:835: UserWarning: `early_stopping_rounds` in `fit` method is deprecated for better compatibility with scikit-learn, use `early_stopping_rounds` in constructor or`set_params` instead.\n",
      "  warnings.warn(\n",
      " 39%|███▉      | 39/100 [01:33<03:13,  3.17s/it]"
     ]
    },
    {
     "name": "stdout",
     "output_type": "stream",
     "text": [
      "SMAPE: 2.728407977794472\n",
      "R2: 0.9885208059263002\n",
      "===== < BUILDING NO.40 > =====\n"
     ]
    },
    {
     "name": "stderr",
     "output_type": "stream",
     "text": [
      "/opt/conda/lib/python3.10/site-packages/xgboost/sklearn.py:835: UserWarning: `early_stopping_rounds` in `fit` method is deprecated for better compatibility with scikit-learn, use `early_stopping_rounds` in constructor or`set_params` instead.\n",
      "  warnings.warn(\n",
      " 40%|████      | 40/100 [01:35<02:44,  2.75s/it]"
     ]
    },
    {
     "name": "stdout",
     "output_type": "stream",
     "text": [
      "SMAPE: 4.546766536131502\n",
      "R2: 0.9656154457447984\n",
      "===== < BUILDING NO.41 > =====\n"
     ]
    },
    {
     "name": "stderr",
     "output_type": "stream",
     "text": [
      "/opt/conda/lib/python3.10/site-packages/xgboost/sklearn.py:835: UserWarning: `early_stopping_rounds` in `fit` method is deprecated for better compatibility with scikit-learn, use `early_stopping_rounds` in constructor or`set_params` instead.\n",
      "  warnings.warn(\n",
      " 41%|████      | 41/100 [01:38<02:46,  2.82s/it]"
     ]
    },
    {
     "name": "stdout",
     "output_type": "stream",
     "text": [
      "SMAPE: 2.6815394639501484\n",
      "R2: 0.9838264802312887\n",
      "===== < BUILDING NO.42 > =====\n"
     ]
    },
    {
     "name": "stderr",
     "output_type": "stream",
     "text": [
      "/opt/conda/lib/python3.10/site-packages/xgboost/sklearn.py:835: UserWarning: `early_stopping_rounds` in `fit` method is deprecated for better compatibility with scikit-learn, use `early_stopping_rounds` in constructor or`set_params` instead.\n",
      "  warnings.warn(\n",
      " 42%|████▏     | 42/100 [01:40<02:20,  2.42s/it]"
     ]
    },
    {
     "name": "stdout",
     "output_type": "stream",
     "text": [
      "SMAPE: 8.269081357655107\n",
      "R2: 0.8281778457904116\n",
      "===== < BUILDING NO.43 > =====\n"
     ]
    },
    {
     "name": "stderr",
     "output_type": "stream",
     "text": [
      "/opt/conda/lib/python3.10/site-packages/xgboost/sklearn.py:835: UserWarning: `early_stopping_rounds` in `fit` method is deprecated for better compatibility with scikit-learn, use `early_stopping_rounds` in constructor or`set_params` instead.\n",
      "  warnings.warn(\n",
      " 43%|████▎     | 43/100 [01:42<02:13,  2.35s/it]"
     ]
    },
    {
     "name": "stdout",
     "output_type": "stream",
     "text": [
      "SMAPE: 2.755572977719789\n",
      "R2: 0.994723176597687\n",
      "===== < BUILDING NO.44 > =====\n"
     ]
    },
    {
     "name": "stderr",
     "output_type": "stream",
     "text": [
      "/opt/conda/lib/python3.10/site-packages/xgboost/sklearn.py:835: UserWarning: `early_stopping_rounds` in `fit` method is deprecated for better compatibility with scikit-learn, use `early_stopping_rounds` in constructor or`set_params` instead.\n",
      "  warnings.warn(\n",
      " 44%|████▍     | 44/100 [01:44<02:02,  2.19s/it]"
     ]
    },
    {
     "name": "stdout",
     "output_type": "stream",
     "text": [
      "SMAPE: 1.8201344384866398\n",
      "R2: 0.9967343309116449\n",
      "===== < BUILDING NO.45 > =====\n"
     ]
    },
    {
     "name": "stderr",
     "output_type": "stream",
     "text": [
      "/opt/conda/lib/python3.10/site-packages/xgboost/sklearn.py:835: UserWarning: `early_stopping_rounds` in `fit` method is deprecated for better compatibility with scikit-learn, use `early_stopping_rounds` in constructor or`set_params` instead.\n",
      "  warnings.warn(\n",
      " 45%|████▌     | 45/100 [01:46<02:02,  2.23s/it]"
     ]
    },
    {
     "name": "stdout",
     "output_type": "stream",
     "text": [
      "SMAPE: 1.031363070076244\n",
      "R2: 0.9737000429866236\n",
      "===== < BUILDING NO.46 > =====\n"
     ]
    },
    {
     "name": "stderr",
     "output_type": "stream",
     "text": [
      "/opt/conda/lib/python3.10/site-packages/xgboost/sklearn.py:835: UserWarning: `early_stopping_rounds` in `fit` method is deprecated for better compatibility with scikit-learn, use `early_stopping_rounds` in constructor or`set_params` instead.\n",
      "  warnings.warn(\n",
      " 46%|████▌     | 46/100 [01:48<01:58,  2.19s/it]"
     ]
    },
    {
     "name": "stdout",
     "output_type": "stream",
     "text": [
      "SMAPE: 2.6331329043994436\n",
      "R2: 0.92278881387551\n",
      "===== < BUILDING NO.47 > =====\n"
     ]
    },
    {
     "name": "stderr",
     "output_type": "stream",
     "text": [
      "/opt/conda/lib/python3.10/site-packages/xgboost/sklearn.py:835: UserWarning: `early_stopping_rounds` in `fit` method is deprecated for better compatibility with scikit-learn, use `early_stopping_rounds` in constructor or`set_params` instead.\n",
      "  warnings.warn(\n",
      " 47%|████▋     | 47/100 [01:50<01:54,  2.16s/it]"
     ]
    },
    {
     "name": "stdout",
     "output_type": "stream",
     "text": [
      "SMAPE: 2.2539981932224626\n",
      "R2: 0.9370271337273428\n",
      "===== < BUILDING NO.48 > =====\n"
     ]
    },
    {
     "name": "stderr",
     "output_type": "stream",
     "text": [
      "/opt/conda/lib/python3.10/site-packages/xgboost/sklearn.py:835: UserWarning: `early_stopping_rounds` in `fit` method is deprecated for better compatibility with scikit-learn, use `early_stopping_rounds` in constructor or`set_params` instead.\n",
      "  warnings.warn(\n",
      " 48%|████▊     | 48/100 [01:52<01:55,  2.23s/it]"
     ]
    },
    {
     "name": "stdout",
     "output_type": "stream",
     "text": [
      "SMAPE: 1.1154793572288213\n",
      "R2: 0.9814344911305359\n",
      "===== < BUILDING NO.49 > =====\n"
     ]
    },
    {
     "name": "stderr",
     "output_type": "stream",
     "text": [
      "/opt/conda/lib/python3.10/site-packages/xgboost/sklearn.py:835: UserWarning: `early_stopping_rounds` in `fit` method is deprecated for better compatibility with scikit-learn, use `early_stopping_rounds` in constructor or`set_params` instead.\n",
      "  warnings.warn(\n",
      " 49%|████▉     | 49/100 [01:55<01:57,  2.31s/it]"
     ]
    },
    {
     "name": "stdout",
     "output_type": "stream",
     "text": [
      "SMAPE: 1.2120048314692171\n",
      "R2: 0.9532919655392368\n",
      "===== < BUILDING NO.50 > =====\n"
     ]
    },
    {
     "name": "stderr",
     "output_type": "stream",
     "text": [
      "/opt/conda/lib/python3.10/site-packages/xgboost/sklearn.py:835: UserWarning: `early_stopping_rounds` in `fit` method is deprecated for better compatibility with scikit-learn, use `early_stopping_rounds` in constructor or`set_params` instead.\n",
      "  warnings.warn(\n",
      " 50%|█████     | 50/100 [01:57<01:51,  2.22s/it]"
     ]
    },
    {
     "name": "stdout",
     "output_type": "stream",
     "text": [
      "SMAPE: 1.0199365813115648\n",
      "R2: 0.9601624825442548\n",
      "===== < BUILDING NO.51 > =====\n"
     ]
    },
    {
     "name": "stderr",
     "output_type": "stream",
     "text": [
      "/opt/conda/lib/python3.10/site-packages/xgboost/sklearn.py:835: UserWarning: `early_stopping_rounds` in `fit` method is deprecated for better compatibility with scikit-learn, use `early_stopping_rounds` in constructor or`set_params` instead.\n",
      "  warnings.warn(\n",
      " 51%|█████     | 51/100 [01:59<01:51,  2.29s/it]"
     ]
    },
    {
     "name": "stdout",
     "output_type": "stream",
     "text": [
      "SMAPE: 2.0669342021532136\n",
      "R2: 0.8991889464170111\n",
      "===== < BUILDING NO.52 > =====\n"
     ]
    },
    {
     "name": "stderr",
     "output_type": "stream",
     "text": [
      "/opt/conda/lib/python3.10/site-packages/xgboost/sklearn.py:835: UserWarning: `early_stopping_rounds` in `fit` method is deprecated for better compatibility with scikit-learn, use `early_stopping_rounds` in constructor or`set_params` instead.\n",
      "  warnings.warn(\n",
      " 52%|█████▏    | 52/100 [02:02<01:54,  2.39s/it]"
     ]
    },
    {
     "name": "stdout",
     "output_type": "stream",
     "text": [
      "SMAPE: 2.6000342771919813\n",
      "R2: 0.9036673759514853\n",
      "===== < BUILDING NO.53 > =====\n"
     ]
    },
    {
     "name": "stderr",
     "output_type": "stream",
     "text": [
      "/opt/conda/lib/python3.10/site-packages/xgboost/sklearn.py:835: UserWarning: `early_stopping_rounds` in `fit` method is deprecated for better compatibility with scikit-learn, use `early_stopping_rounds` in constructor or`set_params` instead.\n",
      "  warnings.warn(\n",
      " 53%|█████▎    | 53/100 [02:04<01:42,  2.17s/it]"
     ]
    },
    {
     "name": "stdout",
     "output_type": "stream",
     "text": [
      "SMAPE: 6.854501133324095\n",
      "R2: 0.9364671663465698\n",
      "===== < BUILDING NO.54 > =====\n"
     ]
    },
    {
     "name": "stderr",
     "output_type": "stream",
     "text": [
      "/opt/conda/lib/python3.10/site-packages/xgboost/sklearn.py:835: UserWarning: `early_stopping_rounds` in `fit` method is deprecated for better compatibility with scikit-learn, use `early_stopping_rounds` in constructor or`set_params` instead.\n",
      "  warnings.warn(\n",
      " 54%|█████▍    | 54/100 [02:06<01:45,  2.30s/it]"
     ]
    },
    {
     "name": "stdout",
     "output_type": "stream",
     "text": [
      "SMAPE: 15.395086816186549\n",
      "R2: 0.49099037535994716\n",
      "===== < BUILDING NO.55 > =====\n"
     ]
    },
    {
     "name": "stderr",
     "output_type": "stream",
     "text": [
      "/opt/conda/lib/python3.10/site-packages/xgboost/sklearn.py:835: UserWarning: `early_stopping_rounds` in `fit` method is deprecated for better compatibility with scikit-learn, use `early_stopping_rounds` in constructor or`set_params` instead.\n",
      "  warnings.warn(\n",
      " 55%|█████▌    | 55/100 [02:09<01:46,  2.36s/it]"
     ]
    },
    {
     "name": "stdout",
     "output_type": "stream",
     "text": [
      "SMAPE: 0.9133351004211036\n",
      "R2: 0.8675089182357368\n",
      "===== < BUILDING NO.56 > =====\n"
     ]
    },
    {
     "name": "stderr",
     "output_type": "stream",
     "text": [
      "/opt/conda/lib/python3.10/site-packages/xgboost/sklearn.py:835: UserWarning: `early_stopping_rounds` in `fit` method is deprecated for better compatibility with scikit-learn, use `early_stopping_rounds` in constructor or`set_params` instead.\n",
      "  warnings.warn(\n",
      " 56%|█████▌    | 56/100 [02:12<01:56,  2.64s/it]"
     ]
    },
    {
     "name": "stdout",
     "output_type": "stream",
     "text": [
      "SMAPE: 0.5136544276081201\n",
      "R2: 0.9081687822234766\n",
      "===== < BUILDING NO.57 > =====\n"
     ]
    },
    {
     "name": "stderr",
     "output_type": "stream",
     "text": [
      "/opt/conda/lib/python3.10/site-packages/xgboost/sklearn.py:835: UserWarning: `early_stopping_rounds` in `fit` method is deprecated for better compatibility with scikit-learn, use `early_stopping_rounds` in constructor or`set_params` instead.\n",
      "  warnings.warn(\n",
      " 57%|█████▋    | 57/100 [02:14<01:44,  2.43s/it]"
     ]
    },
    {
     "name": "stdout",
     "output_type": "stream",
     "text": [
      "SMAPE: 2.5555318460320944\n",
      "R2: 0.9844644443151935\n",
      "===== < BUILDING NO.58 > =====\n"
     ]
    },
    {
     "name": "stderr",
     "output_type": "stream",
     "text": [
      "/opt/conda/lib/python3.10/site-packages/xgboost/sklearn.py:835: UserWarning: `early_stopping_rounds` in `fit` method is deprecated for better compatibility with scikit-learn, use `early_stopping_rounds` in constructor or`set_params` instead.\n",
      "  warnings.warn(\n",
      " 58%|█████▊    | 58/100 [02:18<01:55,  2.76s/it]"
     ]
    },
    {
     "name": "stdout",
     "output_type": "stream",
     "text": [
      "SMAPE: 0.25820350743212367\n",
      "R2: 0.8921785168651243\n",
      "===== < BUILDING NO.59 > =====\n"
     ]
    },
    {
     "name": "stderr",
     "output_type": "stream",
     "text": [
      "/opt/conda/lib/python3.10/site-packages/xgboost/sklearn.py:835: UserWarning: `early_stopping_rounds` in `fit` method is deprecated for better compatibility with scikit-learn, use `early_stopping_rounds` in constructor or`set_params` instead.\n",
      "  warnings.warn(\n",
      " 59%|█████▉    | 59/100 [02:20<01:43,  2.53s/it]"
     ]
    },
    {
     "name": "stdout",
     "output_type": "stream",
     "text": [
      "SMAPE: 2.6890831895609573\n",
      "R2: 0.9830364479014171\n",
      "===== < BUILDING NO.60 > =====\n"
     ]
    },
    {
     "name": "stderr",
     "output_type": "stream",
     "text": [
      "/opt/conda/lib/python3.10/site-packages/xgboost/sklearn.py:835: UserWarning: `early_stopping_rounds` in `fit` method is deprecated for better compatibility with scikit-learn, use `early_stopping_rounds` in constructor or`set_params` instead.\n",
      "  warnings.warn(\n",
      " 60%|██████    | 60/100 [02:22<01:33,  2.34s/it]"
     ]
    },
    {
     "name": "stdout",
     "output_type": "stream",
     "text": [
      "SMAPE: 3.108999755320832\n",
      "R2: 0.9513218358851899\n",
      "===== < BUILDING NO.61 > =====\n"
     ]
    },
    {
     "name": "stderr",
     "output_type": "stream",
     "text": [
      "/opt/conda/lib/python3.10/site-packages/xgboost/sklearn.py:835: UserWarning: `early_stopping_rounds` in `fit` method is deprecated for better compatibility with scikit-learn, use `early_stopping_rounds` in constructor or`set_params` instead.\n",
      "  warnings.warn(\n",
      " 61%|██████    | 61/100 [02:24<01:27,  2.24s/it]"
     ]
    },
    {
     "name": "stdout",
     "output_type": "stream",
     "text": [
      "SMAPE: 2.098628213842975\n",
      "R2: 0.9361982912678116\n",
      "===== < BUILDING NO.62 > =====\n"
     ]
    },
    {
     "name": "stderr",
     "output_type": "stream",
     "text": [
      "/opt/conda/lib/python3.10/site-packages/xgboost/sklearn.py:835: UserWarning: `early_stopping_rounds` in `fit` method is deprecated for better compatibility with scikit-learn, use `early_stopping_rounds` in constructor or`set_params` instead.\n",
      "  warnings.warn(\n",
      " 62%|██████▏   | 62/100 [02:25<01:20,  2.13s/it]"
     ]
    },
    {
     "name": "stdout",
     "output_type": "stream",
     "text": [
      "SMAPE: 2.578592625332191\n",
      "R2: 0.9294393834986527\n",
      "===== < BUILDING NO.63 > =====\n"
     ]
    },
    {
     "name": "stderr",
     "output_type": "stream",
     "text": [
      "/opt/conda/lib/python3.10/site-packages/xgboost/sklearn.py:835: UserWarning: `early_stopping_rounds` in `fit` method is deprecated for better compatibility with scikit-learn, use `early_stopping_rounds` in constructor or`set_params` instead.\n",
      "  warnings.warn(\n",
      " 63%|██████▎   | 63/100 [02:27<01:17,  2.10s/it]"
     ]
    },
    {
     "name": "stdout",
     "output_type": "stream",
     "text": [
      "SMAPE: 2.971701521957132\n",
      "R2: 0.9287959839133162\n",
      "===== < BUILDING NO.64 > =====\n"
     ]
    },
    {
     "name": "stderr",
     "output_type": "stream",
     "text": [
      "/opt/conda/lib/python3.10/site-packages/xgboost/sklearn.py:835: UserWarning: `early_stopping_rounds` in `fit` method is deprecated for better compatibility with scikit-learn, use `early_stopping_rounds` in constructor or`set_params` instead.\n",
      "  warnings.warn(\n",
      " 64%|██████▍   | 64/100 [02:29<01:13,  2.05s/it]"
     ]
    },
    {
     "name": "stdout",
     "output_type": "stream",
     "text": [
      "SMAPE: 1.985596970855797\n",
      "R2: 0.9568742246611621\n",
      "===== < BUILDING NO.65 > =====\n"
     ]
    },
    {
     "name": "stderr",
     "output_type": "stream",
     "text": [
      "/opt/conda/lib/python3.10/site-packages/xgboost/sklearn.py:835: UserWarning: `early_stopping_rounds` in `fit` method is deprecated for better compatibility with scikit-learn, use `early_stopping_rounds` in constructor or`set_params` instead.\n",
      "  warnings.warn(\n",
      " 65%|██████▌   | 65/100 [02:31<01:08,  1.95s/it]"
     ]
    },
    {
     "name": "stdout",
     "output_type": "stream",
     "text": [
      "SMAPE: 4.477452022680745\n",
      "R2: 0.8716774757272846\n",
      "===== < BUILDING NO.66 > =====\n"
     ]
    },
    {
     "name": "stderr",
     "output_type": "stream",
     "text": [
      "/opt/conda/lib/python3.10/site-packages/xgboost/sklearn.py:835: UserWarning: `early_stopping_rounds` in `fit` method is deprecated for better compatibility with scikit-learn, use `early_stopping_rounds` in constructor or`set_params` instead.\n",
      "  warnings.warn(\n",
      " 66%|██████▌   | 66/100 [02:33<01:09,  2.03s/it]"
     ]
    },
    {
     "name": "stdout",
     "output_type": "stream",
     "text": [
      "SMAPE: 1.8075105650528174\n",
      "R2: 0.8956864249497588\n",
      "===== < BUILDING NO.67 > =====\n"
     ]
    },
    {
     "name": "stderr",
     "output_type": "stream",
     "text": [
      "/opt/conda/lib/python3.10/site-packages/xgboost/sklearn.py:835: UserWarning: `early_stopping_rounds` in `fit` method is deprecated for better compatibility with scikit-learn, use `early_stopping_rounds` in constructor or`set_params` instead.\n",
      "  warnings.warn(\n",
      " 67%|██████▋   | 67/100 [02:35<01:03,  1.92s/it]"
     ]
    },
    {
     "name": "stdout",
     "output_type": "stream",
     "text": [
      "SMAPE: 2.4244448231708127\n",
      "R2: 0.9204433840320086\n",
      "===== < BUILDING NO.68 > =====\n"
     ]
    },
    {
     "name": "stderr",
     "output_type": "stream",
     "text": [
      "/opt/conda/lib/python3.10/site-packages/xgboost/sklearn.py:835: UserWarning: `early_stopping_rounds` in `fit` method is deprecated for better compatibility with scikit-learn, use `early_stopping_rounds` in constructor or`set_params` instead.\n",
      "  warnings.warn(\n",
      " 68%|██████▊   | 68/100 [02:37<01:01,  1.91s/it]"
     ]
    },
    {
     "name": "stdout",
     "output_type": "stream",
     "text": [
      "SMAPE: 2.0780954476198916\n",
      "R2: 0.9457956065829916\n",
      "===== < BUILDING NO.69 > =====\n"
     ]
    },
    {
     "name": "stderr",
     "output_type": "stream",
     "text": [
      "/opt/conda/lib/python3.10/site-packages/xgboost/sklearn.py:835: UserWarning: `early_stopping_rounds` in `fit` method is deprecated for better compatibility with scikit-learn, use `early_stopping_rounds` in constructor or`set_params` instead.\n",
      "  warnings.warn(\n",
      " 69%|██████▉   | 69/100 [02:39<01:00,  1.95s/it]"
     ]
    },
    {
     "name": "stdout",
     "output_type": "stream",
     "text": [
      "SMAPE: 1.3608021628841247\n",
      "R2: 0.9763652402810177\n",
      "===== < BUILDING NO.70 > =====\n"
     ]
    },
    {
     "name": "stderr",
     "output_type": "stream",
     "text": [
      "/opt/conda/lib/python3.10/site-packages/xgboost/sklearn.py:835: UserWarning: `early_stopping_rounds` in `fit` method is deprecated for better compatibility with scikit-learn, use `early_stopping_rounds` in constructor or`set_params` instead.\n",
      "  warnings.warn(\n",
      " 70%|███████   | 70/100 [02:41<00:58,  1.94s/it]"
     ]
    },
    {
     "name": "stdout",
     "output_type": "stream",
     "text": [
      "SMAPE: 2.1535704873595076\n",
      "R2: 0.9490361026829824\n",
      "===== < BUILDING NO.71 > =====\n"
     ]
    },
    {
     "name": "stderr",
     "output_type": "stream",
     "text": [
      "/opt/conda/lib/python3.10/site-packages/xgboost/sklearn.py:835: UserWarning: `early_stopping_rounds` in `fit` method is deprecated for better compatibility with scikit-learn, use `early_stopping_rounds` in constructor or`set_params` instead.\n",
      "  warnings.warn(\n",
      " 71%|███████   | 71/100 [02:43<00:59,  2.04s/it]"
     ]
    },
    {
     "name": "stdout",
     "output_type": "stream",
     "text": [
      "SMAPE: 1.9380533494838634\n",
      "R2: 0.8843182552902552\n",
      "===== < BUILDING NO.72 > =====\n"
     ]
    },
    {
     "name": "stderr",
     "output_type": "stream",
     "text": [
      "/opt/conda/lib/python3.10/site-packages/xgboost/sklearn.py:835: UserWarning: `early_stopping_rounds` in `fit` method is deprecated for better compatibility with scikit-learn, use `early_stopping_rounds` in constructor or`set_params` instead.\n",
      "  warnings.warn(\n",
      " 72%|███████▏  | 72/100 [02:46<01:03,  2.27s/it]"
     ]
    },
    {
     "name": "stdout",
     "output_type": "stream",
     "text": [
      "SMAPE: 3.11790978159792\n",
      "R2: 0.6752659005529251\n",
      "===== < BUILDING NO.73 > =====\n"
     ]
    },
    {
     "name": "stderr",
     "output_type": "stream",
     "text": [
      "/opt/conda/lib/python3.10/site-packages/xgboost/sklearn.py:835: UserWarning: `early_stopping_rounds` in `fit` method is deprecated for better compatibility with scikit-learn, use `early_stopping_rounds` in constructor or`set_params` instead.\n",
      "  warnings.warn(\n",
      " 73%|███████▎  | 73/100 [02:48<00:58,  2.17s/it]"
     ]
    },
    {
     "name": "stdout",
     "output_type": "stream",
     "text": [
      "SMAPE: 1.894932481017263\n",
      "R2: 0.7765012765933019\n",
      "===== < BUILDING NO.74 > =====\n"
     ]
    },
    {
     "name": "stderr",
     "output_type": "stream",
     "text": [
      "/opt/conda/lib/python3.10/site-packages/xgboost/sklearn.py:835: UserWarning: `early_stopping_rounds` in `fit` method is deprecated for better compatibility with scikit-learn, use `early_stopping_rounds` in constructor or`set_params` instead.\n",
      "  warnings.warn(\n",
      " 74%|███████▍  | 74/100 [02:50<00:56,  2.15s/it]"
     ]
    },
    {
     "name": "stdout",
     "output_type": "stream",
     "text": [
      "SMAPE: 2.9064913642972994\n",
      "R2: 0.9340450887680255\n",
      "===== < BUILDING NO.75 > =====\n"
     ]
    },
    {
     "name": "stderr",
     "output_type": "stream",
     "text": [
      "/opt/conda/lib/python3.10/site-packages/xgboost/sklearn.py:835: UserWarning: `early_stopping_rounds` in `fit` method is deprecated for better compatibility with scikit-learn, use `early_stopping_rounds` in constructor or`set_params` instead.\n",
      "  warnings.warn(\n",
      " 75%|███████▌  | 75/100 [02:52<00:52,  2.11s/it]"
     ]
    },
    {
     "name": "stdout",
     "output_type": "stream",
     "text": [
      "SMAPE: 1.8454658791086458\n",
      "R2: 0.9271562141468898\n",
      "===== < BUILDING NO.76 > =====\n"
     ]
    },
    {
     "name": "stderr",
     "output_type": "stream",
     "text": [
      "/opt/conda/lib/python3.10/site-packages/xgboost/sklearn.py:835: UserWarning: `early_stopping_rounds` in `fit` method is deprecated for better compatibility with scikit-learn, use `early_stopping_rounds` in constructor or`set_params` instead.\n",
      "  warnings.warn(\n",
      " 76%|███████▌  | 76/100 [02:54<00:50,  2.10s/it]"
     ]
    },
    {
     "name": "stdout",
     "output_type": "stream",
     "text": [
      "SMAPE: 2.6014692289978596\n",
      "R2: 0.7430607283602755\n",
      "===== < BUILDING NO.77 > =====\n"
     ]
    },
    {
     "name": "stderr",
     "output_type": "stream",
     "text": [
      "/opt/conda/lib/python3.10/site-packages/xgboost/sklearn.py:835: UserWarning: `early_stopping_rounds` in `fit` method is deprecated for better compatibility with scikit-learn, use `early_stopping_rounds` in constructor or`set_params` instead.\n",
      "  warnings.warn(\n",
      " 77%|███████▋  | 77/100 [02:56<00:49,  2.14s/it]"
     ]
    },
    {
     "name": "stdout",
     "output_type": "stream",
     "text": [
      "SMAPE: 2.01922110911595\n",
      "R2: 0.9243078132874606\n",
      "===== < BUILDING NO.78 > =====\n"
     ]
    },
    {
     "name": "stderr",
     "output_type": "stream",
     "text": [
      "/opt/conda/lib/python3.10/site-packages/xgboost/sklearn.py:835: UserWarning: `early_stopping_rounds` in `fit` method is deprecated for better compatibility with scikit-learn, use `early_stopping_rounds` in constructor or`set_params` instead.\n",
      "  warnings.warn(\n",
      " 78%|███████▊  | 78/100 [02:58<00:46,  2.09s/it]"
     ]
    },
    {
     "name": "stdout",
     "output_type": "stream",
     "text": [
      "SMAPE: 1.973855662055632\n",
      "R2: 0.9842392917365872\n",
      "===== < BUILDING NO.79 > =====\n"
     ]
    },
    {
     "name": "stderr",
     "output_type": "stream",
     "text": [
      "/opt/conda/lib/python3.10/site-packages/xgboost/sklearn.py:835: UserWarning: `early_stopping_rounds` in `fit` method is deprecated for better compatibility with scikit-learn, use `early_stopping_rounds` in constructor or`set_params` instead.\n",
      "  warnings.warn(\n",
      " 79%|███████▉  | 79/100 [03:01<00:48,  2.29s/it]"
     ]
    },
    {
     "name": "stdout",
     "output_type": "stream",
     "text": [
      "SMAPE: 1.701066369657164\n",
      "R2: 0.9559524985782594\n",
      "===== < BUILDING NO.80 > =====\n"
     ]
    },
    {
     "name": "stderr",
     "output_type": "stream",
     "text": [
      "/opt/conda/lib/python3.10/site-packages/xgboost/sklearn.py:835: UserWarning: `early_stopping_rounds` in `fit` method is deprecated for better compatibility with scikit-learn, use `early_stopping_rounds` in constructor or`set_params` instead.\n",
      "  warnings.warn(\n",
      " 80%|████████  | 80/100 [03:04<00:47,  2.37s/it]"
     ]
    },
    {
     "name": "stdout",
     "output_type": "stream",
     "text": [
      "SMAPE: 2.124459802533189\n",
      "R2: 0.9855431738335988\n",
      "===== < BUILDING NO.81 > =====\n"
     ]
    },
    {
     "name": "stderr",
     "output_type": "stream",
     "text": [
      "/opt/conda/lib/python3.10/site-packages/xgboost/sklearn.py:835: UserWarning: `early_stopping_rounds` in `fit` method is deprecated for better compatibility with scikit-learn, use `early_stopping_rounds` in constructor or`set_params` instead.\n",
      "  warnings.warn(\n",
      " 81%|████████  | 81/100 [03:06<00:43,  2.29s/it]"
     ]
    },
    {
     "name": "stdout",
     "output_type": "stream",
     "text": [
      "SMAPE: 1.791810368984323\n",
      "R2: 0.9921057077506286\n",
      "===== < BUILDING NO.82 > =====\n"
     ]
    },
    {
     "name": "stderr",
     "output_type": "stream",
     "text": [
      "/opt/conda/lib/python3.10/site-packages/xgboost/sklearn.py:835: UserWarning: `early_stopping_rounds` in `fit` method is deprecated for better compatibility with scikit-learn, use `early_stopping_rounds` in constructor or`set_params` instead.\n",
      "  warnings.warn(\n",
      " 82%|████████▏ | 82/100 [03:08<00:39,  2.21s/it]"
     ]
    },
    {
     "name": "stdout",
     "output_type": "stream",
     "text": [
      "SMAPE: 2.2331208822734103\n",
      "R2: 0.9791614753485487\n",
      "===== < BUILDING NO.83 > =====\n"
     ]
    },
    {
     "name": "stderr",
     "output_type": "stream",
     "text": [
      "/opt/conda/lib/python3.10/site-packages/xgboost/sklearn.py:835: UserWarning: `early_stopping_rounds` in `fit` method is deprecated for better compatibility with scikit-learn, use `early_stopping_rounds` in constructor or`set_params` instead.\n",
      "  warnings.warn(\n",
      " 83%|████████▎ | 83/100 [03:09<00:35,  2.10s/it]"
     ]
    },
    {
     "name": "stdout",
     "output_type": "stream",
     "text": [
      "SMAPE: 2.0530122898435006\n",
      "R2: 0.9689341497362238\n",
      "===== < BUILDING NO.84 > =====\n"
     ]
    },
    {
     "name": "stderr",
     "output_type": "stream",
     "text": [
      "/opt/conda/lib/python3.10/site-packages/xgboost/sklearn.py:835: UserWarning: `early_stopping_rounds` in `fit` method is deprecated for better compatibility with scikit-learn, use `early_stopping_rounds` in constructor or`set_params` instead.\n",
      "  warnings.warn(\n",
      " 84%|████████▍ | 84/100 [03:12<00:37,  2.32s/it]"
     ]
    },
    {
     "name": "stdout",
     "output_type": "stream",
     "text": [
      "SMAPE: 1.5542968158928958\n",
      "R2: 0.9811956709238533\n",
      "===== < BUILDING NO.85 > =====\n"
     ]
    },
    {
     "name": "stderr",
     "output_type": "stream",
     "text": [
      "/opt/conda/lib/python3.10/site-packages/xgboost/sklearn.py:835: UserWarning: `early_stopping_rounds` in `fit` method is deprecated for better compatibility with scikit-learn, use `early_stopping_rounds` in constructor or`set_params` instead.\n",
      "  warnings.warn(\n",
      " 85%|████████▌ | 85/100 [03:16<00:41,  2.79s/it]"
     ]
    },
    {
     "name": "stdout",
     "output_type": "stream",
     "text": [
      "SMAPE: 1.8305992084508518\n",
      "R2: 0.9525778546733997\n",
      "===== < BUILDING NO.86 > =====\n"
     ]
    },
    {
     "name": "stderr",
     "output_type": "stream",
     "text": [
      "/opt/conda/lib/python3.10/site-packages/xgboost/sklearn.py:835: UserWarning: `early_stopping_rounds` in `fit` method is deprecated for better compatibility with scikit-learn, use `early_stopping_rounds` in constructor or`set_params` instead.\n",
      "  warnings.warn(\n",
      " 86%|████████▌ | 86/100 [03:19<00:37,  2.65s/it]"
     ]
    },
    {
     "name": "stdout",
     "output_type": "stream",
     "text": [
      "SMAPE: 3.2313918652357763\n",
      "R2: 0.9409824975851684\n",
      "===== < BUILDING NO.87 > =====\n"
     ]
    },
    {
     "name": "stderr",
     "output_type": "stream",
     "text": [
      "/opt/conda/lib/python3.10/site-packages/xgboost/sklearn.py:835: UserWarning: `early_stopping_rounds` in `fit` method is deprecated for better compatibility with scikit-learn, use `early_stopping_rounds` in constructor or`set_params` instead.\n",
      "  warnings.warn(\n",
      " 87%|████████▋ | 87/100 [03:21<00:31,  2.45s/it]"
     ]
    },
    {
     "name": "stdout",
     "output_type": "stream",
     "text": [
      "SMAPE: 5.291645176902233\n",
      "R2: 0.8432895618265352\n",
      "===== < BUILDING NO.88 > =====\n"
     ]
    },
    {
     "name": "stderr",
     "output_type": "stream",
     "text": [
      "/opt/conda/lib/python3.10/site-packages/xgboost/sklearn.py:835: UserWarning: `early_stopping_rounds` in `fit` method is deprecated for better compatibility with scikit-learn, use `early_stopping_rounds` in constructor or`set_params` instead.\n",
      "  warnings.warn(\n",
      " 88%|████████▊ | 88/100 [03:22<00:27,  2.25s/it]"
     ]
    },
    {
     "name": "stdout",
     "output_type": "stream",
     "text": [
      "SMAPE: 3.7365340906742253\n",
      "R2: 0.8688590929058374\n",
      "===== < BUILDING NO.89 > =====\n"
     ]
    },
    {
     "name": "stderr",
     "output_type": "stream",
     "text": [
      "/opt/conda/lib/python3.10/site-packages/xgboost/sklearn.py:835: UserWarning: `early_stopping_rounds` in `fit` method is deprecated for better compatibility with scikit-learn, use `early_stopping_rounds` in constructor or`set_params` instead.\n",
      "  warnings.warn(\n",
      " 89%|████████▉ | 89/100 [03:24<00:23,  2.15s/it]"
     ]
    },
    {
     "name": "stdout",
     "output_type": "stream",
     "text": [
      "SMAPE: 3.7449668254633037\n",
      "R2: 0.8604168252423186\n",
      "===== < BUILDING NO.90 > =====\n"
     ]
    },
    {
     "name": "stderr",
     "output_type": "stream",
     "text": [
      "/opt/conda/lib/python3.10/site-packages/xgboost/sklearn.py:835: UserWarning: `early_stopping_rounds` in `fit` method is deprecated for better compatibility with scikit-learn, use `early_stopping_rounds` in constructor or`set_params` instead.\n",
      "  warnings.warn(\n",
      " 90%|█████████ | 90/100 [03:26<00:19,  1.99s/it]"
     ]
    },
    {
     "name": "stdout",
     "output_type": "stream",
     "text": [
      "SMAPE: 4.34946441335132\n",
      "R2: 0.945437045071281\n",
      "===== < BUILDING NO.91 > =====\n"
     ]
    },
    {
     "name": "stderr",
     "output_type": "stream",
     "text": [
      "/opt/conda/lib/python3.10/site-packages/xgboost/sklearn.py:835: UserWarning: `early_stopping_rounds` in `fit` method is deprecated for better compatibility with scikit-learn, use `early_stopping_rounds` in constructor or`set_params` instead.\n",
      "  warnings.warn(\n",
      " 91%|█████████ | 91/100 [03:28<00:17,  1.90s/it]"
     ]
    },
    {
     "name": "stdout",
     "output_type": "stream",
     "text": [
      "SMAPE: 6.43265018021721\n",
      "R2: 0.9286566290153027\n",
      "===== < BUILDING NO.92 > =====\n"
     ]
    },
    {
     "name": "stderr",
     "output_type": "stream",
     "text": [
      "/opt/conda/lib/python3.10/site-packages/xgboost/sklearn.py:835: UserWarning: `early_stopping_rounds` in `fit` method is deprecated for better compatibility with scikit-learn, use `early_stopping_rounds` in constructor or`set_params` instead.\n",
      "  warnings.warn(\n",
      " 92%|█████████▏| 92/100 [03:30<00:16,  2.07s/it]"
     ]
    },
    {
     "name": "stdout",
     "output_type": "stream",
     "text": [
      "SMAPE: 3.913048284116499\n",
      "R2: 0.8626063819152766\n",
      "===== < BUILDING NO.93 > =====\n"
     ]
    },
    {
     "name": "stderr",
     "output_type": "stream",
     "text": [
      "/opt/conda/lib/python3.10/site-packages/xgboost/sklearn.py:835: UserWarning: `early_stopping_rounds` in `fit` method is deprecated for better compatibility with scikit-learn, use `early_stopping_rounds` in constructor or`set_params` instead.\n",
      "  warnings.warn(\n",
      " 93%|█████████▎| 93/100 [03:36<00:23,  3.34s/it]"
     ]
    },
    {
     "name": "stdout",
     "output_type": "stream",
     "text": [
      "SMAPE: 3.2880901234526063\n",
      "R2: 0.8776833565580425\n",
      "===== < BUILDING NO.94 > =====\n"
     ]
    },
    {
     "name": "stderr",
     "output_type": "stream",
     "text": [
      "/opt/conda/lib/python3.10/site-packages/xgboost/sklearn.py:835: UserWarning: `early_stopping_rounds` in `fit` method is deprecated for better compatibility with scikit-learn, use `early_stopping_rounds` in constructor or`set_params` instead.\n",
      "  warnings.warn(\n",
      " 94%|█████████▍| 94/100 [03:38<00:17,  2.99s/it]"
     ]
    },
    {
     "name": "stdout",
     "output_type": "stream",
     "text": [
      "SMAPE: 2.938023570863095\n",
      "R2: 0.9149138873111788\n",
      "===== < BUILDING NO.95 > =====\n"
     ]
    },
    {
     "name": "stderr",
     "output_type": "stream",
     "text": [
      "/opt/conda/lib/python3.10/site-packages/xgboost/sklearn.py:835: UserWarning: `early_stopping_rounds` in `fit` method is deprecated for better compatibility with scikit-learn, use `early_stopping_rounds` in constructor or`set_params` instead.\n",
      "  warnings.warn(\n",
      " 95%|█████████▌| 95/100 [03:40<00:12,  2.55s/it]"
     ]
    },
    {
     "name": "stdout",
     "output_type": "stream",
     "text": [
      "SMAPE: 7.873954719913101\n",
      "R2: 0.5904394760729672\n",
      "===== < BUILDING NO.96 > =====\n"
     ]
    },
    {
     "name": "stderr",
     "output_type": "stream",
     "text": [
      "/opt/conda/lib/python3.10/site-packages/xgboost/sklearn.py:835: UserWarning: `early_stopping_rounds` in `fit` method is deprecated for better compatibility with scikit-learn, use `early_stopping_rounds` in constructor or`set_params` instead.\n",
      "  warnings.warn(\n",
      " 96%|█████████▌| 96/100 [03:42<00:09,  2.33s/it]"
     ]
    },
    {
     "name": "stdout",
     "output_type": "stream",
     "text": [
      "SMAPE: 1.4553180409335444\n",
      "R2: 0.9685772721403265\n",
      "===== < BUILDING NO.97 > =====\n"
     ]
    },
    {
     "name": "stderr",
     "output_type": "stream",
     "text": [
      "/opt/conda/lib/python3.10/site-packages/xgboost/sklearn.py:835: UserWarning: `early_stopping_rounds` in `fit` method is deprecated for better compatibility with scikit-learn, use `early_stopping_rounds` in constructor or`set_params` instead.\n",
      "  warnings.warn(\n",
      " 97%|█████████▋| 97/100 [03:44<00:07,  2.36s/it]"
     ]
    },
    {
     "name": "stdout",
     "output_type": "stream",
     "text": [
      "SMAPE: 2.4088445027411467\n",
      "R2: 0.9322687034662536\n",
      "===== < BUILDING NO.98 > =====\n"
     ]
    },
    {
     "name": "stderr",
     "output_type": "stream",
     "text": [
      "/opt/conda/lib/python3.10/site-packages/xgboost/sklearn.py:835: UserWarning: `early_stopping_rounds` in `fit` method is deprecated for better compatibility with scikit-learn, use `early_stopping_rounds` in constructor or`set_params` instead.\n",
      "  warnings.warn(\n",
      " 98%|█████████▊| 98/100 [03:46<00:04,  2.18s/it]"
     ]
    },
    {
     "name": "stdout",
     "output_type": "stream",
     "text": [
      "SMAPE: 7.2588277284224985\n",
      "R2: 0.8560677105509416\n",
      "===== < BUILDING NO.99 > =====\n"
     ]
    },
    {
     "name": "stderr",
     "output_type": "stream",
     "text": [
      "/opt/conda/lib/python3.10/site-packages/xgboost/sklearn.py:835: UserWarning: `early_stopping_rounds` in `fit` method is deprecated for better compatibility with scikit-learn, use `early_stopping_rounds` in constructor or`set_params` instead.\n",
      "  warnings.warn(\n",
      " 99%|█████████▉| 99/100 [03:48<00:02,  2.10s/it]"
     ]
    },
    {
     "name": "stdout",
     "output_type": "stream",
     "text": [
      "SMAPE: 1.5314447971624443\n",
      "R2: 0.9820596675396264\n",
      "===== < BUILDING NO.100 > =====\n"
     ]
    },
    {
     "name": "stderr",
     "output_type": "stream",
     "text": [
      "/opt/conda/lib/python3.10/site-packages/xgboost/sklearn.py:835: UserWarning: `early_stopping_rounds` in `fit` method is deprecated for better compatibility with scikit-learn, use `early_stopping_rounds` in constructor or`set_params` instead.\n",
      "  warnings.warn(\n",
      "100%|██████████| 100/100 [03:50<00:00,  2.31s/it]"
     ]
    },
    {
     "name": "stdout",
     "output_type": "stream",
     "text": [
      "SMAPE: 2.597097674198934\n",
      "R2: 0.967838655132623\n"
     ]
    },
    {
     "name": "stderr",
     "output_type": "stream",
     "text": [
      "\n"
     ]
    }
   ],
   "source": [
    "pred_val_ens= []\n",
    "test_ens = []\n",
    "\n",
    "summary_list = []\n",
    "ans_val_list = []\n",
    "pred_val_list = []\n",
    "pred_test_list = []\n",
    "\n",
    "for i in tqdm(range(100)):\n",
    "    print(f\"===== < BUILDING NO.{i+1} > =====\")\n",
    "    summary_dict = {}\n",
    "\n",
    "    smape_val, r2_val, ans_val, pred_val, pred_test = fit_and_pred_XGB_with_weight(train, test, i+1, 100, seed=0)\n",
    "\n",
    "    summary_dict['건물번호'] = i+1\n",
    "    summary_dict['SMAPE'] = smape_val\n",
    "    summary_dict['R2'] = r2_val\n",
    "    summary_list.append(summary_dict)\n",
    "    ans_val_list.append(ans_val)\n",
    "    pred_val_list.append(pred_val)\n",
    "    pred_test_list.append(pred_test)\n",
    "\n",
    "ans_val_whole = np.concatenate(ans_val_list)\n",
    "pred_val_whole = np.concatenate(pred_val_list)\n",
    "pred_test_whole = np.concatenate(pred_test_list)\n",
    "smape_val =SMAPE(ans_val_whole, pred_val_whole)"
   ]
  },
  {
   "cell_type": "code",
   "execution_count": 204,
   "id": "632fcc91-0a4c-4937-aa2d-dbbb00b548bc",
   "metadata": {
    "scrolled": true
   },
   "outputs": [
    {
     "data": {
      "text/plain": [
       "[{'건물번호': 1, 'SMAPE': 3.5419388838477404, 'R2': 0.9563832166343148},\n",
       " {'건물번호': 2, 'SMAPE': 4.295780152455329, 'R2': 0.8651174662607124},\n",
       " {'건물번호': 3, 'SMAPE': 4.976127431146375, 'R2': 0.8282886548210623},\n",
       " {'건물번호': 4, 'SMAPE': 1.916974758959043, 'R2': 0.9749491993399805},\n",
       " {'건물번호': 5, 'SMAPE': 2.8188883844313564, 'R2': 0.972446435735248},\n",
       " {'건물번호': 6, 'SMAPE': 1.8247299710309055, 'R2': 0.9802984729616211},\n",
       " {'건물번호': 7, 'SMAPE': 4.181533402777831, 'R2': 0.906970899840581},\n",
       " {'건물번호': 8, 'SMAPE': 2.8739138223687473, 'R2': 0.6702282399188223},\n",
       " {'건물번호': 9, 'SMAPE': 1.8549493161639723, 'R2': 0.984736771457575},\n",
       " {'건물번호': 10, 'SMAPE': 3.5416225095446876, 'R2': 0.4322418016566194},\n",
       " {'건물번호': 11, 'SMAPE': 1.686647477272509, 'R2': 0.8955227858960689},\n",
       " {'건물번호': 12, 'SMAPE': 1.9311341180054387, 'R2': 0.8995117473179703},\n",
       " {'건물번호': 13, 'SMAPE': 3.004711373509035, 'R2': 0.3961679661426334},\n",
       " {'건물번호': 14, 'SMAPE': 7.909728524427743, 'R2': 0.34326299780211256},\n",
       " {'건물번호': 15, 'SMAPE': 1.8971932943063454, 'R2': 0.8458132584564995},\n",
       " {'건물번호': 16, 'SMAPE': 2.020895267248837, 'R2': 0.9855279166437871},\n",
       " {'건물번호': 17, 'SMAPE': 3.0345161593836227, 'R2': 0.9455755730715113},\n",
       " {'건물번호': 18, 'SMAPE': 3.5805708796288402, 'R2': 0.9046722159410551},\n",
       " {'건물번호': 19, 'SMAPE': 3.926657594482213, 'R2': 0.939612714103329},\n",
       " {'건물번호': 20, 'SMAPE': 4.505567909655219, 'R2': 0.7790902289158669},\n",
       " {'건물번호': 21, 'SMAPE': 4.278992383451455, 'R2': 0.9122880595171534},\n",
       " {'건물번호': 22, 'SMAPE': 1.714605236128287, 'R2': 0.9462697614433282},\n",
       " {'건물번호': 23, 'SMAPE': 1.9977630506533826, 'R2': 0.7118909379916054},\n",
       " {'건물번호': 24, 'SMAPE': 1.2147046751398998, 'R2': 0.9876692285042109},\n",
       " {'건물번호': 25, 'SMAPE': 1.071914519547852, 'R2': 0.9838502476852887},\n",
       " {'건물번호': 26, 'SMAPE': 1.2754434182491863, 'R2': 0.9526249517572365},\n",
       " {'건물번호': 27, 'SMAPE': 1.2089446938323858, 'R2': 0.9196695823152246},\n",
       " {'건물번호': 28, 'SMAPE': 2.3315863766342164, 'R2': 0.9464801178483762},\n",
       " {'건물번호': 29, 'SMAPE': 2.6397465527714137, 'R2': 0.893935316935024},\n",
       " {'건물번호': 30, 'SMAPE': 3.9998166322091757, 'R2': 0.8506247677458555},\n",
       " {'건물번호': 31, 'SMAPE': 2.404524493769024, 'R2': 0.9470255358159374},\n",
       " {'건물번호': 32, 'SMAPE': 0.20167359555235026, 'R2': 0.8627698561039703},\n",
       " {'건물번호': 33, 'SMAPE': 0.17276764974408107, 'R2': 0.8229450580971566},\n",
       " {'건물번호': 34, 'SMAPE': 0.29083416300093756, 'R2': 0.8981595130056876},\n",
       " {'건물번호': 35, 'SMAPE': 0.20213486317948995, 'R2': 0.9010597272573889},\n",
       " {'건물번호': 36, 'SMAPE': 0.22888851855130976, 'R2': 0.8347444701991675},\n",
       " {'건물번호': 37, 'SMAPE': 1.9402276172887187, 'R2': 0.9851492380233352},\n",
       " {'건물번호': 38, 'SMAPE': 1.9617611605591168, 'R2': 0.9943749284020462},\n",
       " {'건물번호': 39, 'SMAPE': 2.728407977794472, 'R2': 0.9885208059263002},\n",
       " {'건물번호': 40, 'SMAPE': 4.546766536131502, 'R2': 0.9656154457447984},\n",
       " {'건물번호': 41, 'SMAPE': 2.6815394639501484, 'R2': 0.9838264802312887},\n",
       " {'건물번호': 42, 'SMAPE': 8.269081357655107, 'R2': 0.8281778457904116},\n",
       " {'건물번호': 43, 'SMAPE': 2.755572977719789, 'R2': 0.994723176597687},\n",
       " {'건물번호': 44, 'SMAPE': 1.8201344384866398, 'R2': 0.9967343309116449},\n",
       " {'건물번호': 45, 'SMAPE': 1.031363070076244, 'R2': 0.9737000429866236},\n",
       " {'건물번호': 46, 'SMAPE': 2.6331329043994436, 'R2': 0.92278881387551},\n",
       " {'건물번호': 47, 'SMAPE': 2.2539981932224626, 'R2': 0.9370271337273428},\n",
       " {'건물번호': 48, 'SMAPE': 1.1154793572288213, 'R2': 0.9814344911305359},\n",
       " {'건물번호': 49, 'SMAPE': 1.2120048314692171, 'R2': 0.9532919655392368},\n",
       " {'건물번호': 50, 'SMAPE': 1.0199365813115648, 'R2': 0.9601624825442548},\n",
       " {'건물번호': 51, 'SMAPE': 2.0669342021532136, 'R2': 0.8991889464170111},\n",
       " {'건물번호': 52, 'SMAPE': 2.6000342771919813, 'R2': 0.9036673759514853},\n",
       " {'건물번호': 53, 'SMAPE': 6.854501133324095, 'R2': 0.9364671663465698},\n",
       " {'건물번호': 54, 'SMAPE': 15.395086816186549, 'R2': 0.49099037535994716},\n",
       " {'건물번호': 55, 'SMAPE': 0.9133351004211036, 'R2': 0.8675089182357368},\n",
       " {'건물번호': 56, 'SMAPE': 0.5136544276081201, 'R2': 0.9081687822234766},\n",
       " {'건물번호': 57, 'SMAPE': 2.5555318460320944, 'R2': 0.9844644443151935},\n",
       " {'건물번호': 58, 'SMAPE': 0.25820350743212367, 'R2': 0.8921785168651243},\n",
       " {'건물번호': 59, 'SMAPE': 2.6890831895609573, 'R2': 0.9830364479014171},\n",
       " {'건물번호': 60, 'SMAPE': 3.108999755320832, 'R2': 0.9513218358851899},\n",
       " {'건물번호': 61, 'SMAPE': 2.098628213842975, 'R2': 0.9361982912678116},\n",
       " {'건물번호': 62, 'SMAPE': 2.578592625332191, 'R2': 0.9294393834986527},\n",
       " {'건물번호': 63, 'SMAPE': 2.971701521957132, 'R2': 0.9287959839133162},\n",
       " {'건물번호': 64, 'SMAPE': 1.985596970855797, 'R2': 0.9568742246611621},\n",
       " {'건물번호': 65, 'SMAPE': 4.477452022680745, 'R2': 0.8716774757272846},\n",
       " {'건물번호': 66, 'SMAPE': 1.8075105650528174, 'R2': 0.8956864249497588},\n",
       " {'건물번호': 67, 'SMAPE': 2.4244448231708127, 'R2': 0.9204433840320086},\n",
       " {'건물번호': 68, 'SMAPE': 2.0780954476198916, 'R2': 0.9457956065829916},\n",
       " {'건물번호': 69, 'SMAPE': 1.3608021628841247, 'R2': 0.9763652402810177},\n",
       " {'건물번호': 70, 'SMAPE': 2.1535704873595076, 'R2': 0.9490361026829824},\n",
       " {'건물번호': 71, 'SMAPE': 1.9380533494838634, 'R2': 0.8843182552902552},\n",
       " {'건물번호': 72, 'SMAPE': 3.11790978159792, 'R2': 0.6752659005529251},\n",
       " {'건물번호': 73, 'SMAPE': 1.894932481017263, 'R2': 0.7765012765933019},\n",
       " {'건물번호': 74, 'SMAPE': 2.9064913642972994, 'R2': 0.9340450887680255},\n",
       " {'건물번호': 75, 'SMAPE': 1.8454658791086458, 'R2': 0.9271562141468898},\n",
       " {'건물번호': 76, 'SMAPE': 2.6014692289978596, 'R2': 0.7430607283602755},\n",
       " {'건물번호': 77, 'SMAPE': 2.01922110911595, 'R2': 0.9243078132874606},\n",
       " {'건물번호': 78, 'SMAPE': 1.973855662055632, 'R2': 0.9842392917365872},\n",
       " {'건물번호': 79, 'SMAPE': 1.701066369657164, 'R2': 0.9559524985782594},\n",
       " {'건물번호': 80, 'SMAPE': 2.124459802533189, 'R2': 0.9855431738335988},\n",
       " {'건물번호': 81, 'SMAPE': 1.791810368984323, 'R2': 0.9921057077506286},\n",
       " {'건물번호': 82, 'SMAPE': 2.2331208822734103, 'R2': 0.9791614753485487},\n",
       " {'건물번호': 83, 'SMAPE': 2.0530122898435006, 'R2': 0.9689341497362238},\n",
       " {'건물번호': 84, 'SMAPE': 1.5542968158928958, 'R2': 0.9811956709238533},\n",
       " {'건물번호': 85, 'SMAPE': 1.8305992084508518, 'R2': 0.9525778546733997},\n",
       " {'건물번호': 86, 'SMAPE': 3.2313918652357763, 'R2': 0.9409824975851684},\n",
       " {'건물번호': 87, 'SMAPE': 5.291645176902233, 'R2': 0.8432895618265352},\n",
       " {'건물번호': 88, 'SMAPE': 3.7365340906742253, 'R2': 0.8688590929058374},\n",
       " {'건물번호': 89, 'SMAPE': 3.7449668254633037, 'R2': 0.8604168252423186},\n",
       " {'건물번호': 90, 'SMAPE': 4.34946441335132, 'R2': 0.945437045071281},\n",
       " {'건물번호': 91, 'SMAPE': 6.43265018021721, 'R2': 0.9286566290153027},\n",
       " {'건물번호': 92, 'SMAPE': 3.913048284116499, 'R2': 0.8626063819152766},\n",
       " {'건물번호': 93, 'SMAPE': 3.2880901234526063, 'R2': 0.8776833565580425},\n",
       " {'건물번호': 94, 'SMAPE': 2.938023570863095, 'R2': 0.9149138873111788},\n",
       " {'건물번호': 95, 'SMAPE': 7.873954719913101, 'R2': 0.5904394760729672},\n",
       " {'건물번호': 96, 'SMAPE': 1.4553180409335444, 'R2': 0.9685772721403265},\n",
       " {'건물번호': 97, 'SMAPE': 2.4088445027411467, 'R2': 0.9322687034662536},\n",
       " {'건물번호': 98, 'SMAPE': 7.2588277284224985, 'R2': 0.8560677105509416},\n",
       " {'건물번호': 99, 'SMAPE': 1.5314447971624443, 'R2': 0.9820596675396264},\n",
       " {'건물번호': 100, 'SMAPE': 2.597097674198934, 'R2': 0.967838655132623}]"
      ]
     },
     "execution_count": 204,
     "metadata": {},
     "output_type": "execute_result"
    }
   ],
   "source": [
    "summary_list"
   ]
  },
  {
   "cell_type": "code",
   "execution_count": 205,
   "id": "272ad73a-3338-44ea-b329-c9e357ac58ed",
   "metadata": {},
   "outputs": [
    {
     "data": {
      "text/plain": [
       "2.790566542032983"
      ]
     },
     "execution_count": 205,
     "metadata": {},
     "output_type": "execute_result"
    }
   ],
   "source": [
    "smape_val"
   ]
  },
  {
   "cell_type": "code",
   "execution_count": 93,
   "id": "914acd66-3226-4d88-a34e-e6451210c58e",
   "metadata": {},
   "outputs": [],
   "source": [
    "sub['answer'] = pred_test_whole\n",
    "sub.to_csv('xgb_sub_16.csv', index=False)"
   ]
  },
  {
   "cell_type": "markdown",
   "id": "df52f9b6-013e-414f-9cf2-68916ee6a694",
   "metadata": {},
   "source": [
    "### Parameter Tuning - Grid Search CV"
   ]
  },
  {
   "cell_type": "code",
   "execution_count": 37,
   "id": "2d660703-78a6-4f60-b9e2-0665396be485",
   "metadata": {},
   "outputs": [],
   "source": [
    "from sklearn.model_selection import GridSearchCV, PredefinedSplit"
   ]
  },
  {
   "cell_type": "code",
   "execution_count": null,
   "id": "c418f912-7d37-4fdd-a9d7-49ab754c3eeb",
   "metadata": {
    "scrolled": true
   },
   "outputs": [
    {
     "name": "stderr",
     "output_type": "stream",
     "text": [
      "  0%|          | 0/100 [00:00<?, ?it/s]"
     ]
    },
    {
     "name": "stdout",
     "output_type": "stream",
     "text": [
      "===== < BUILDING NO.1 > =====\n",
      "Fitting 5 folds for each of 672 candidates, totalling 3360 fits\n"
     ]
    }
   ],
   "source": [
    "df = pd.DataFrame(columns = ['n_estimators', 'eta', 'min_child_weight', 'max_depth', 'colsample_bytree', 'subsample'])\n",
    "preds = np.array([])\n",
    "grid = {\n",
    "    'n_estimators':     [30, 50, 70, 100],\n",
    "    'eta':              [0.01],\n",
    "    'min_child_weight': np.arange(1, 8, 1),\n",
    "    'max_depth':        np.arange(3, 9, 1),\n",
    "    'colsample_bytree': np.arange(0.8, 1.0, 0.1),\n",
    "    'subsample':        np.arange(0.8, 1.0, 0.1)\n",
    "}\n",
    "\n",
    "for i in tqdm(range(100)):\n",
    "    print(f\"===== < BUILDING NO.{i+1} > =====\")\n",
    "    x_train, x_valid, y_train, y_valid = tr_ts_split(train, test, i+1, 7*24)\n",
    "    gcv = GridSearchCV(estimator=XGBRegressor(seed=0, gpu_id=0,\n",
    "                                              tree_method='gpu_hist', predictor='gpu_predictor'),\n",
    "                       param_grid=grid,\n",
    "                       scoring=make_scorer(SMAPE, greater_is_better=False),\n",
    "                       cv=5,\n",
    "                       refit=True,\n",
    "                       verbose=True)\n",
    "    gcv.fit(x_train, y_train)\n",
    "    best = gcv.best_estimator_\n",
    "    params = gcv.best_params_\n",
    "    print(params)\n",
    "    pred = best.predict(x_valid)\n",
    "    print(f'SMAPE: {SMAPE(y_valid, pred)}')\n",
    "    preds = np.append(preds, pred)\n",
    "    df = pd.concat([df, pd.DataFrame(params, index=[0])], axis=0)"
   ]
  },
  {
   "cell_type": "code",
   "execution_count": 133,
   "id": "67198aea-4e7f-4e7a-8686-33f0b0723132",
   "metadata": {},
   "outputs": [],
   "source": [
    "df.to_csv('hyperparameter_xgb.csv', index=False)"
   ]
  },
  {
   "cell_type": "code",
   "execution_count": null,
   "id": "e42b8fd9-72c4-4c3b-9982-d6ce8995e37c",
   "metadata": {},
   "outputs": [],
   "source": [
    "xgb_params = df"
   ]
  },
  {
   "cell_type": "code",
   "execution_count": null,
   "id": "232d9bfe-b8f4-42d7-8d2d-506c5eb1eb7c",
   "metadata": {
    "scrolled": true
   },
   "outputs": [],
   "source": [
    "scores = []\n",
    "best_iter = []\n",
    "\n",
    "for i in tqdm(range(100)):\n",
    "    x_train, x_valid, y_train, y_valid = tr_ts_split(train, test, i+1, 7*24)\n",
    "    xgb_reg = XGBRegressor(n_estimators=10000, eta=0.01, min_child_weight=xgb_params.iloc[i, 2],\n",
    "                            max_depth=xgb_params.iloc[i, 3], colsample_bytree=xgb_params.iloc[i, 4],\n",
    "                            subsample=xgb_params.iloc[i, 5], seed=0)\n",
    "    xgb_reg.set_params(**{'objective':weighted_mse(100)})\n",
    "    xgb_reg.set_params(early_stopping_rounds=300)\n",
    "    xgb_reg.fit(x_train, y_train, eval_set=[(x_train, y_train), (x_valid, y_valid)], verbose=False)\n",
    "    y_pred = xgb_reg.predict(x_valid)\n",
    "    pred = pd.Series(y_pred)\n",
    "    sm = SMAPE(y_valid, y_pred)\n",
    "    scores.append(sm)\n",
    "    best_iter.append(xgb_reg.best_iteration) # 실제 best iteration은 이 값에 +1"
   ]
  },
  {
   "cell_type": "code",
   "execution_count": null,
   "id": "d7e3b993-ff02-42e6-8fec-e4ffbc9ce766",
   "metadata": {
    "scrolled": true
   },
   "outputs": [],
   "source": [
    "alpha_list = []\n",
    "smape_list = []\n",
    "\n",
    "for i in tqdm(range(100)):\n",
    "    x_train, x_valid, y_train, y_valid = tr_ts_split(train, test, i+1, 7*24)\n",
    "    xgb = XGBRegressor(seed=0,\n",
    "                        n_estimators=best_iter[i], eta=0.01, min_child_weight=xgb_params.iloc[i, 2],\n",
    "                        max_depth=xgb_params.iloc[i, 3], colsample_bytree=xgb_params.iloc[i, 4], subsample=xgb_params.iloc[i, 5])\n",
    "    xgb.fit(x_train, y_train)\n",
    "    pred0 = xgb.predict(x_valid)\n",
    "    best_alpha = 0\n",
    "    score0 = SMAPE(y_valid, pred0)\n",
    "\n",
    "    for j in [1, 2, 5, 7, 10, 25, 50, 75, 100]:\n",
    "        xgb = XGBRegressor(seed=0,\n",
    "                        n_estimators=best_iter[i], eta=0.01, min_child_weight=xgb_params.iloc[i, 2],\n",
    "                        max_depth=xgb_params.iloc[i, 3], colsample_bytree=xgb_params.iloc[i, 4], subsample=xgb_params.iloc[i, 5])\n",
    "        xgb.set_params(**{'objective': weighted_mse(j)})\n",
    "        xgb.fit(x_train, y_train)\n",
    "        pred1 = xgb.predict(x_valid)\n",
    "        score1 = SMAPE(y_valid, pred1)\n",
    "        if score1 < score0:\n",
    "            best_alpha = j\n",
    "            score0 = score1\n",
    "\n",
    "    alpha_list.append(best_alpha)\n",
    "    smape_list.append(score0)\n",
    "    print(f\"building {i+1} || best score: {score0} || alpha: {best_alpha}\")"
   ]
  },
  {
   "cell_type": "code",
   "execution_count": null,
   "id": "d429c5a0-5a53-44fd-8b47-af7fc4b9c58c",
   "metadata": {},
   "outputs": [],
   "source": [
    "xgb_params['alpha'] = alpha_list\n",
    "xgb_params['best_iter'] = best_iter\n",
    "xgb_params.head()"
   ]
  },
  {
   "cell_type": "code",
   "execution_count": null,
   "id": "273b3ba9-026e-4bbd-968f-2e961811de78",
   "metadata": {},
   "outputs": [],
   "source": [
    "xgb_params.to_csv('hyperparameter_xgb_last_testing.csv', index=False)"
   ]
  },
  {
   "cell_type": "code",
   "execution_count": null,
   "id": "93643492-df91-45a7-bc42-9ca7ab819f4f",
   "metadata": {},
   "outputs": [],
   "source": [
    "best_iter = xgb_params['best_iter'].to_list()\n",
    "best_iter[0]"
   ]
  },
  {
   "cell_type": "code",
   "execution_count": 212,
   "id": "44acfc0c-f774-4859-9448-71f034d355a3",
   "metadata": {},
   "outputs": [
    {
     "data": {
      "text/html": [
       "<div>\n",
       "<style scoped>\n",
       "    .dataframe tbody tr th:only-of-type {\n",
       "        vertical-align: middle;\n",
       "    }\n",
       "\n",
       "    .dataframe tbody tr th {\n",
       "        vertical-align: top;\n",
       "    }\n",
       "\n",
       "    .dataframe thead th {\n",
       "        text-align: right;\n",
       "    }\n",
       "</style>\n",
       "<table border=\"1\" class=\"dataframe\">\n",
       "  <thead>\n",
       "    <tr style=\"text-align: right;\">\n",
       "      <th></th>\n",
       "      <th>건물번호</th>\n",
       "      <th>기온(C)</th>\n",
       "      <th>강수량(mm)</th>\n",
       "      <th>풍속(m/s)</th>\n",
       "      <th>습도(%)</th>\n",
       "      <th>month</th>\n",
       "      <th>day</th>\n",
       "      <th>week</th>\n",
       "      <th>holiday</th>\n",
       "      <th>sin_time</th>\n",
       "      <th>cos_time</th>\n",
       "      <th>DI</th>\n",
       "      <th>power</th>\n",
       "      <th>연면적(m2)</th>\n",
       "      <th>냉방면적(m2)</th>\n",
       "      <th>태양광용량(kW)</th>\n",
       "      <th>ESS저장용량(kWh)</th>\n",
       "      <th>PCS용량(kW)</th>\n",
       "      <th>건물유형_건물기타</th>\n",
       "      <th>건물유형_공공</th>\n",
       "      <th>건물유형_대학교</th>\n",
       "      <th>건물유형_데이터센터</th>\n",
       "      <th>건물유형_백화점및아울렛</th>\n",
       "      <th>건물유형_병원</th>\n",
       "      <th>건물유형_상용</th>\n",
       "      <th>건물유형_아파트</th>\n",
       "      <th>건물유형_연구소</th>\n",
       "      <th>건물유형_지식산업센터</th>\n",
       "      <th>건물유형_할인마트</th>\n",
       "      <th>건물유형_호텔및리조트</th>\n",
       "      <th>CDH</th>\n",
       "    </tr>\n",
       "  </thead>\n",
       "  <tbody>\n",
       "    <tr>\n",
       "      <th>0</th>\n",
       "      <td>1</td>\n",
       "      <td>18.6</td>\n",
       "      <td>0.0</td>\n",
       "      <td>0.9</td>\n",
       "      <td>42.0</td>\n",
       "      <td>6</td>\n",
       "      <td>2</td>\n",
       "      <td>22</td>\n",
       "      <td>0</td>\n",
       "      <td>0.000000</td>\n",
       "      <td>1.000000</td>\n",
       "      <td>234.154</td>\n",
       "      <td>1085.28</td>\n",
       "      <td>110634.0</td>\n",
       "      <td>39570.0</td>\n",
       "      <td>0.0</td>\n",
       "      <td>0.0</td>\n",
       "      <td>0.0</td>\n",
       "      <td>1</td>\n",
       "      <td>0</td>\n",
       "      <td>0</td>\n",
       "      <td>0</td>\n",
       "      <td>0</td>\n",
       "      <td>0</td>\n",
       "      <td>0</td>\n",
       "      <td>0</td>\n",
       "      <td>0</td>\n",
       "      <td>0</td>\n",
       "      <td>0</td>\n",
       "      <td>0</td>\n",
       "      <td>-7.4</td>\n",
       "    </tr>\n",
       "    <tr>\n",
       "      <th>1</th>\n",
       "      <td>1</td>\n",
       "      <td>18.0</td>\n",
       "      <td>0.0</td>\n",
       "      <td>1.1</td>\n",
       "      <td>45.0</td>\n",
       "      <td>6</td>\n",
       "      <td>2</td>\n",
       "      <td>22</td>\n",
       "      <td>0</td>\n",
       "      <td>0.258819</td>\n",
       "      <td>0.965926</td>\n",
       "      <td>219.280</td>\n",
       "      <td>1047.36</td>\n",
       "      <td>110634.0</td>\n",
       "      <td>39570.0</td>\n",
       "      <td>0.0</td>\n",
       "      <td>0.0</td>\n",
       "      <td>0.0</td>\n",
       "      <td>1</td>\n",
       "      <td>0</td>\n",
       "      <td>0</td>\n",
       "      <td>0</td>\n",
       "      <td>0</td>\n",
       "      <td>0</td>\n",
       "      <td>0</td>\n",
       "      <td>0</td>\n",
       "      <td>0</td>\n",
       "      <td>0</td>\n",
       "      <td>0</td>\n",
       "      <td>0</td>\n",
       "      <td>-15.4</td>\n",
       "    </tr>\n",
       "    <tr>\n",
       "      <th>2</th>\n",
       "      <td>1</td>\n",
       "      <td>17.7</td>\n",
       "      <td>0.0</td>\n",
       "      <td>1.5</td>\n",
       "      <td>45.0</td>\n",
       "      <td>6</td>\n",
       "      <td>2</td>\n",
       "      <td>22</td>\n",
       "      <td>0</td>\n",
       "      <td>0.500000</td>\n",
       "      <td>0.866025</td>\n",
       "      <td>205.672</td>\n",
       "      <td>974.88</td>\n",
       "      <td>110634.0</td>\n",
       "      <td>39570.0</td>\n",
       "      <td>0.0</td>\n",
       "      <td>0.0</td>\n",
       "      <td>0.0</td>\n",
       "      <td>1</td>\n",
       "      <td>0</td>\n",
       "      <td>0</td>\n",
       "      <td>0</td>\n",
       "      <td>0</td>\n",
       "      <td>0</td>\n",
       "      <td>0</td>\n",
       "      <td>0</td>\n",
       "      <td>0</td>\n",
       "      <td>0</td>\n",
       "      <td>0</td>\n",
       "      <td>0</td>\n",
       "      <td>-23.7</td>\n",
       "    </tr>\n",
       "    <tr>\n",
       "      <th>3</th>\n",
       "      <td>1</td>\n",
       "      <td>16.7</td>\n",
       "      <td>0.0</td>\n",
       "      <td>1.4</td>\n",
       "      <td>48.0</td>\n",
       "      <td>6</td>\n",
       "      <td>2</td>\n",
       "      <td>22</td>\n",
       "      <td>0</td>\n",
       "      <td>0.707107</td>\n",
       "      <td>0.707107</td>\n",
       "      <td>167.011</td>\n",
       "      <td>953.76</td>\n",
       "      <td>110634.0</td>\n",
       "      <td>39570.0</td>\n",
       "      <td>0.0</td>\n",
       "      <td>0.0</td>\n",
       "      <td>0.0</td>\n",
       "      <td>1</td>\n",
       "      <td>0</td>\n",
       "      <td>0</td>\n",
       "      <td>0</td>\n",
       "      <td>0</td>\n",
       "      <td>0</td>\n",
       "      <td>0</td>\n",
       "      <td>0</td>\n",
       "      <td>0</td>\n",
       "      <td>0</td>\n",
       "      <td>0</td>\n",
       "      <td>0</td>\n",
       "      <td>-33.0</td>\n",
       "    </tr>\n",
       "    <tr>\n",
       "      <th>4</th>\n",
       "      <td>1</td>\n",
       "      <td>18.4</td>\n",
       "      <td>0.0</td>\n",
       "      <td>2.8</td>\n",
       "      <td>43.0</td>\n",
       "      <td>6</td>\n",
       "      <td>2</td>\n",
       "      <td>22</td>\n",
       "      <td>0</td>\n",
       "      <td>0.866025</td>\n",
       "      <td>0.500000</td>\n",
       "      <td>229.592</td>\n",
       "      <td>986.40</td>\n",
       "      <td>110634.0</td>\n",
       "      <td>39570.0</td>\n",
       "      <td>0.0</td>\n",
       "      <td>0.0</td>\n",
       "      <td>0.0</td>\n",
       "      <td>1</td>\n",
       "      <td>0</td>\n",
       "      <td>0</td>\n",
       "      <td>0</td>\n",
       "      <td>0</td>\n",
       "      <td>0</td>\n",
       "      <td>0</td>\n",
       "      <td>0</td>\n",
       "      <td>0</td>\n",
       "      <td>0</td>\n",
       "      <td>0</td>\n",
       "      <td>0</td>\n",
       "      <td>-40.6</td>\n",
       "    </tr>\n",
       "  </tbody>\n",
       "</table>\n",
       "</div>"
      ],
      "text/plain": [
       "   건물번호  기온(C)  강수량(mm)  풍속(m/s)  ...  건물유형_지식산업센터  건물유형_할인마트  건물유형_호텔및리조트   CDH\n",
       "0     1   18.6      0.0      0.9  ...            0          0            0  -7.4\n",
       "1     1   18.0      0.0      1.1  ...            0          0            0 -15.4\n",
       "2     1   17.7      0.0      1.5  ...            0          0            0 -23.7\n",
       "3     1   16.7      0.0      1.4  ...            0          0            0 -33.0\n",
       "4     1   18.4      0.0      2.8  ...            0          0            0 -40.6\n",
       "\n",
       "[5 rows x 31 columns]"
      ]
     },
     "execution_count": 212,
     "metadata": {},
     "output_type": "execute_result"
    }
   ],
   "source": [
    "train.head()"
   ]
  },
  {
   "cell_type": "code",
   "execution_count": null,
   "id": "999ed75d-ae3d-4bbe-9089-35b9c140905c",
   "metadata": {},
   "outputs": [],
   "source": [
    "preds = np.array([])\n",
    "for i in tqdm(range(100)):\n",
    "    pred_df = pd.DataFrame()\n",
    "    for seed in range(0, 6):\n",
    "        x_train = train.loc[train['건물번호']==i+1,].drop(['건물번호', 'power'], axis=1)\n",
    "        y_train = train.loc[train['건물번호']==i+1, 'power']\n",
    "        x_test = test.loc[test['건물번호']==i+1,].drop('건물번호', axis=1)\n",
    "\n",
    "        xgb = XGBRegressor(seed=seed, n_estimators=best_iter[i], eta=0.01,\n",
    "                            min_child_weight=xgb_params.iloc[i, 2], max_depth=xgb_params.iloc[i, 3],\n",
    "                            colsample_bytree=xgb_params.iloc[i, 4], subsample=xgb_params.iloc[i, 5])\n",
    "        if xgb_params.iloc[i, 6] != 0:\n",
    "            xgb.set_params(**{'objective':weighted_mse(xgb_params.iloc[i, 6])})\n",
    "\n",
    "        xgb.fit(x_train, y_train)\n",
    "        y_pred = xgb.predict(x_test)\n",
    "        pred_df.loc[:, seed] = y_pred\n",
    "\n",
    "    pred = pred_df.mean(axis=1)\n",
    "    preds = np.append(preds, pred)"
   ]
  },
  {
   "cell_type": "code",
   "execution_count": null,
   "id": "8a94279f-8196-42ef-b232-04b14d3f9418",
   "metadata": {},
   "outputs": [],
   "source": [
    "sub = pd.read_csv('sample_submission.csv')\n",
    "sub['answer'] = preds\n",
    "sub.to_csv('xgb_sub_19.csv', index=False)"
   ]
  },
  {
   "cell_type": "code",
   "execution_count": 215,
   "id": "350267e0-c3b5-4d66-93c5-e785f8e25f4c",
   "metadata": {
    "scrolled": true
   },
   "outputs": [
    {
     "data": {
      "text/plain": [
       "[{'건물번호': 1, 'SMAPE': 3.5419388838477404, 'R2': 0.9563832166343148},\n",
       " {'건물번호': 2, 'SMAPE': 4.295780152455329, 'R2': 0.8651174662607124},\n",
       " {'건물번호': 3, 'SMAPE': 4.976127431146375, 'R2': 0.8282886548210623},\n",
       " {'건물번호': 4, 'SMAPE': 1.916974758959043, 'R2': 0.9749491993399805},\n",
       " {'건물번호': 5, 'SMAPE': 2.8188883844313564, 'R2': 0.972446435735248},\n",
       " {'건물번호': 6, 'SMAPE': 1.8247299710309055, 'R2': 0.9802984729616211},\n",
       " {'건물번호': 7, 'SMAPE': 4.181533402777831, 'R2': 0.906970899840581},\n",
       " {'건물번호': 8, 'SMAPE': 2.8739138223687473, 'R2': 0.6702282399188223},\n",
       " {'건물번호': 9, 'SMAPE': 1.8549493161639723, 'R2': 0.984736771457575},\n",
       " {'건물번호': 10, 'SMAPE': 3.5416225095446876, 'R2': 0.4322418016566194},\n",
       " {'건물번호': 11, 'SMAPE': 1.686647477272509, 'R2': 0.8955227858960689},\n",
       " {'건물번호': 12, 'SMAPE': 1.9311341180054387, 'R2': 0.8995117473179703},\n",
       " {'건물번호': 13, 'SMAPE': 3.004711373509035, 'R2': 0.3961679661426334},\n",
       " {'건물번호': 14, 'SMAPE': 7.909728524427743, 'R2': 0.34326299780211256},\n",
       " {'건물번호': 15, 'SMAPE': 1.8971932943063454, 'R2': 0.8458132584564995},\n",
       " {'건물번호': 16, 'SMAPE': 2.020895267248837, 'R2': 0.9855279166437871},\n",
       " {'건물번호': 17, 'SMAPE': 3.0345161593836227, 'R2': 0.9455755730715113},\n",
       " {'건물번호': 18, 'SMAPE': 3.5805708796288402, 'R2': 0.9046722159410551},\n",
       " {'건물번호': 19, 'SMAPE': 3.926657594482213, 'R2': 0.939612714103329},\n",
       " {'건물번호': 20, 'SMAPE': 4.505567909655219, 'R2': 0.7790902289158669},\n",
       " {'건물번호': 21, 'SMAPE': 4.278992383451455, 'R2': 0.9122880595171534},\n",
       " {'건물번호': 22, 'SMAPE': 1.714605236128287, 'R2': 0.9462697614433282},\n",
       " {'건물번호': 23, 'SMAPE': 1.9977630506533826, 'R2': 0.7118909379916054},\n",
       " {'건물번호': 24, 'SMAPE': 1.2147046751398998, 'R2': 0.9876692285042109},\n",
       " {'건물번호': 25, 'SMAPE': 1.071914519547852, 'R2': 0.9838502476852887},\n",
       " {'건물번호': 26, 'SMAPE': 1.2754434182491863, 'R2': 0.9526249517572365},\n",
       " {'건물번호': 27, 'SMAPE': 1.2089446938323858, 'R2': 0.9196695823152246},\n",
       " {'건물번호': 28, 'SMAPE': 2.3315863766342164, 'R2': 0.9464801178483762},\n",
       " {'건물번호': 29, 'SMAPE': 2.6397465527714137, 'R2': 0.893935316935024},\n",
       " {'건물번호': 30, 'SMAPE': 3.9998166322091757, 'R2': 0.8506247677458555},\n",
       " {'건물번호': 31, 'SMAPE': 2.404524493769024, 'R2': 0.9470255358159374},\n",
       " {'건물번호': 32, 'SMAPE': 0.20167359555235026, 'R2': 0.8627698561039703},\n",
       " {'건물번호': 33, 'SMAPE': 0.17276764974408107, 'R2': 0.8229450580971566},\n",
       " {'건물번호': 34, 'SMAPE': 0.29083416300093756, 'R2': 0.8981595130056876},\n",
       " {'건물번호': 35, 'SMAPE': 0.20213486317948995, 'R2': 0.9010597272573889},\n",
       " {'건물번호': 36, 'SMAPE': 0.22888851855130976, 'R2': 0.8347444701991675},\n",
       " {'건물번호': 37, 'SMAPE': 1.9402276172887187, 'R2': 0.9851492380233352},\n",
       " {'건물번호': 38, 'SMAPE': 1.9617611605591168, 'R2': 0.9943749284020462},\n",
       " {'건물번호': 39, 'SMAPE': 2.728407977794472, 'R2': 0.9885208059263002},\n",
       " {'건물번호': 40, 'SMAPE': 4.546766536131502, 'R2': 0.9656154457447984},\n",
       " {'건물번호': 41, 'SMAPE': 2.6815394639501484, 'R2': 0.9838264802312887},\n",
       " {'건물번호': 42, 'SMAPE': 8.269081357655107, 'R2': 0.8281778457904116},\n",
       " {'건물번호': 43, 'SMAPE': 2.755572977719789, 'R2': 0.994723176597687},\n",
       " {'건물번호': 44, 'SMAPE': 1.8201344384866398, 'R2': 0.9967343309116449},\n",
       " {'건물번호': 45, 'SMAPE': 1.031363070076244, 'R2': 0.9737000429866236},\n",
       " {'건물번호': 46, 'SMAPE': 2.6331329043994436, 'R2': 0.92278881387551},\n",
       " {'건물번호': 47, 'SMAPE': 2.2539981932224626, 'R2': 0.9370271337273428},\n",
       " {'건물번호': 48, 'SMAPE': 1.1154793572288213, 'R2': 0.9814344911305359},\n",
       " {'건물번호': 49, 'SMAPE': 1.2120048314692171, 'R2': 0.9532919655392368},\n",
       " {'건물번호': 50, 'SMAPE': 1.0199365813115648, 'R2': 0.9601624825442548},\n",
       " {'건물번호': 51, 'SMAPE': 2.0669342021532136, 'R2': 0.8991889464170111},\n",
       " {'건물번호': 52, 'SMAPE': 2.6000342771919813, 'R2': 0.9036673759514853},\n",
       " {'건물번호': 53, 'SMAPE': 6.854501133324095, 'R2': 0.9364671663465698},\n",
       " {'건물번호': 54, 'SMAPE': 15.395086816186549, 'R2': 0.49099037535994716},\n",
       " {'건물번호': 55, 'SMAPE': 0.9133351004211036, 'R2': 0.8675089182357368},\n",
       " {'건물번호': 56, 'SMAPE': 0.5136544276081201, 'R2': 0.9081687822234766},\n",
       " {'건물번호': 57, 'SMAPE': 2.5555318460320944, 'R2': 0.9844644443151935},\n",
       " {'건물번호': 58, 'SMAPE': 0.25820350743212367, 'R2': 0.8921785168651243},\n",
       " {'건물번호': 59, 'SMAPE': 2.6890831895609573, 'R2': 0.9830364479014171},\n",
       " {'건물번호': 60, 'SMAPE': 3.108999755320832, 'R2': 0.9513218358851899},\n",
       " {'건물번호': 61, 'SMAPE': 2.098628213842975, 'R2': 0.9361982912678116},\n",
       " {'건물번호': 62, 'SMAPE': 2.578592625332191, 'R2': 0.9294393834986527},\n",
       " {'건물번호': 63, 'SMAPE': 2.971701521957132, 'R2': 0.9287959839133162},\n",
       " {'건물번호': 64, 'SMAPE': 1.985596970855797, 'R2': 0.9568742246611621},\n",
       " {'건물번호': 65, 'SMAPE': 4.477452022680745, 'R2': 0.8716774757272846},\n",
       " {'건물번호': 66, 'SMAPE': 1.8075105650528174, 'R2': 0.8956864249497588},\n",
       " {'건물번호': 67, 'SMAPE': 2.4244448231708127, 'R2': 0.9204433840320086},\n",
       " {'건물번호': 68, 'SMAPE': 2.0780954476198916, 'R2': 0.9457956065829916},\n",
       " {'건물번호': 69, 'SMAPE': 1.3608021628841247, 'R2': 0.9763652402810177},\n",
       " {'건물번호': 70, 'SMAPE': 2.1535704873595076, 'R2': 0.9490361026829824},\n",
       " {'건물번호': 71, 'SMAPE': 1.9380533494838634, 'R2': 0.8843182552902552},\n",
       " {'건물번호': 72, 'SMAPE': 3.11790978159792, 'R2': 0.6752659005529251},\n",
       " {'건물번호': 73, 'SMAPE': 1.894932481017263, 'R2': 0.7765012765933019},\n",
       " {'건물번호': 74, 'SMAPE': 2.9064913642972994, 'R2': 0.9340450887680255},\n",
       " {'건물번호': 75, 'SMAPE': 1.8454658791086458, 'R2': 0.9271562141468898},\n",
       " {'건물번호': 76, 'SMAPE': 2.6014692289978596, 'R2': 0.7430607283602755},\n",
       " {'건물번호': 77, 'SMAPE': 2.01922110911595, 'R2': 0.9243078132874606},\n",
       " {'건물번호': 78, 'SMAPE': 1.973855662055632, 'R2': 0.9842392917365872},\n",
       " {'건물번호': 79, 'SMAPE': 1.701066369657164, 'R2': 0.9559524985782594},\n",
       " {'건물번호': 80, 'SMAPE': 2.124459802533189, 'R2': 0.9855431738335988},\n",
       " {'건물번호': 81, 'SMAPE': 1.791810368984323, 'R2': 0.9921057077506286},\n",
       " {'건물번호': 82, 'SMAPE': 2.2331208822734103, 'R2': 0.9791614753485487},\n",
       " {'건물번호': 83, 'SMAPE': 2.0530122898435006, 'R2': 0.9689341497362238},\n",
       " {'건물번호': 84, 'SMAPE': 1.5542968158928958, 'R2': 0.9811956709238533},\n",
       " {'건물번호': 85, 'SMAPE': 1.8305992084508518, 'R2': 0.9525778546733997},\n",
       " {'건물번호': 86, 'SMAPE': 3.2313918652357763, 'R2': 0.9409824975851684},\n",
       " {'건물번호': 87, 'SMAPE': 5.291645176902233, 'R2': 0.8432895618265352},\n",
       " {'건물번호': 88, 'SMAPE': 3.7365340906742253, 'R2': 0.8688590929058374},\n",
       " {'건물번호': 89, 'SMAPE': 3.7449668254633037, 'R2': 0.8604168252423186},\n",
       " {'건물번호': 90, 'SMAPE': 4.34946441335132, 'R2': 0.945437045071281},\n",
       " {'건물번호': 91, 'SMAPE': 6.43265018021721, 'R2': 0.9286566290153027},\n",
       " {'건물번호': 92, 'SMAPE': 3.913048284116499, 'R2': 0.8626063819152766},\n",
       " {'건물번호': 93, 'SMAPE': 3.2880901234526063, 'R2': 0.8776833565580425},\n",
       " {'건물번호': 94, 'SMAPE': 2.938023570863095, 'R2': 0.9149138873111788},\n",
       " {'건물번호': 95, 'SMAPE': 7.873954719913101, 'R2': 0.5904394760729672},\n",
       " {'건물번호': 96, 'SMAPE': 1.4553180409335444, 'R2': 0.9685772721403265},\n",
       " {'건물번호': 97, 'SMAPE': 2.4088445027411467, 'R2': 0.9322687034662536},\n",
       " {'건물번호': 98, 'SMAPE': 7.2588277284224985, 'R2': 0.8560677105509416},\n",
       " {'건물번호': 99, 'SMAPE': 1.5314447971624443, 'R2': 0.9820596675396264},\n",
       " {'건물번호': 100, 'SMAPE': 2.597097674198934, 'R2': 0.967838655132623}]"
      ]
     },
     "execution_count": 215,
     "metadata": {},
     "output_type": "execute_result"
    }
   ],
   "source": [
    "summary_list"
   ]
  },
  {
   "cell_type": "code",
   "execution_count": 57,
   "id": "be23ef2c-f938-4ae5-9a1e-c0810792d77b",
   "metadata": {},
   "outputs": [
    {
     "data": {
      "text/html": [
       "<div>\n",
       "<style scoped>\n",
       "    .dataframe tbody tr th:only-of-type {\n",
       "        vertical-align: middle;\n",
       "    }\n",
       "\n",
       "    .dataframe tbody tr th {\n",
       "        vertical-align: top;\n",
       "    }\n",
       "\n",
       "    .dataframe thead th {\n",
       "        text-align: right;\n",
       "    }\n",
       "</style>\n",
       "<table border=\"1\" class=\"dataframe\">\n",
       "  <thead>\n",
       "    <tr style=\"text-align: right;\">\n",
       "      <th></th>\n",
       "      <th>num_date_time</th>\n",
       "      <th>건물번호</th>\n",
       "      <th>일시</th>\n",
       "      <th>기온(C)</th>\n",
       "      <th>강수량(mm)</th>\n",
       "      <th>풍속(m/s)</th>\n",
       "      <th>습도(%)</th>\n",
       "      <th>일조(hr)</th>\n",
       "      <th>일사(MJ/m2)</th>\n",
       "      <th>전력소비량(kWh)</th>\n",
       "    </tr>\n",
       "  </thead>\n",
       "  <tbody>\n",
       "    <tr>\n",
       "      <th>108120</th>\n",
       "      <td>54_20220601 00</td>\n",
       "      <td>54</td>\n",
       "      <td>20220601 00</td>\n",
       "      <td>18.6</td>\n",
       "      <td>NaN</td>\n",
       "      <td>2.6</td>\n",
       "      <td>62.0</td>\n",
       "      <td>NaN</td>\n",
       "      <td>NaN</td>\n",
       "      <td>578.16</td>\n",
       "    </tr>\n",
       "    <tr>\n",
       "      <th>108121</th>\n",
       "      <td>54_20220601 01</td>\n",
       "      <td>54</td>\n",
       "      <td>20220601 01</td>\n",
       "      <td>18.8</td>\n",
       "      <td>NaN</td>\n",
       "      <td>0.4</td>\n",
       "      <td>62.0</td>\n",
       "      <td>NaN</td>\n",
       "      <td>NaN</td>\n",
       "      <td>408.24</td>\n",
       "    </tr>\n",
       "    <tr>\n",
       "      <th>108122</th>\n",
       "      <td>54_20220601 02</td>\n",
       "      <td>54</td>\n",
       "      <td>20220601 02</td>\n",
       "      <td>18.9</td>\n",
       "      <td>NaN</td>\n",
       "      <td>0.0</td>\n",
       "      <td>52.0</td>\n",
       "      <td>NaN</td>\n",
       "      <td>NaN</td>\n",
       "      <td>398.16</td>\n",
       "    </tr>\n",
       "    <tr>\n",
       "      <th>108123</th>\n",
       "      <td>54_20220601 03</td>\n",
       "      <td>54</td>\n",
       "      <td>20220601 03</td>\n",
       "      <td>20.2</td>\n",
       "      <td>NaN</td>\n",
       "      <td>2.4</td>\n",
       "      <td>38.0</td>\n",
       "      <td>NaN</td>\n",
       "      <td>NaN</td>\n",
       "      <td>387.36</td>\n",
       "    </tr>\n",
       "    <tr>\n",
       "      <th>108124</th>\n",
       "      <td>54_20220601 04</td>\n",
       "      <td>54</td>\n",
       "      <td>20220601 04</td>\n",
       "      <td>20.4</td>\n",
       "      <td>NaN</td>\n",
       "      <td>2.8</td>\n",
       "      <td>40.0</td>\n",
       "      <td>NaN</td>\n",
       "      <td>NaN</td>\n",
       "      <td>387.36</td>\n",
       "    </tr>\n",
       "    <tr>\n",
       "      <th>108125</th>\n",
       "      <td>54_20220601 05</td>\n",
       "      <td>54</td>\n",
       "      <td>20220601 05</td>\n",
       "      <td>20.0</td>\n",
       "      <td>NaN</td>\n",
       "      <td>1.7</td>\n",
       "      <td>41.0</td>\n",
       "      <td>NaN</td>\n",
       "      <td>NaN</td>\n",
       "      <td>419.76</td>\n",
       "    </tr>\n",
       "    <tr>\n",
       "      <th>108126</th>\n",
       "      <td>54_20220601 06</td>\n",
       "      <td>54</td>\n",
       "      <td>20220601 06</td>\n",
       "      <td>19.6</td>\n",
       "      <td>NaN</td>\n",
       "      <td>0.0</td>\n",
       "      <td>47.0</td>\n",
       "      <td>0.0</td>\n",
       "      <td>0.04</td>\n",
       "      <td>612.72</td>\n",
       "    </tr>\n",
       "    <tr>\n",
       "      <th>108127</th>\n",
       "      <td>54_20220601 07</td>\n",
       "      <td>54</td>\n",
       "      <td>20220601 07</td>\n",
       "      <td>21.2</td>\n",
       "      <td>NaN</td>\n",
       "      <td>2.0</td>\n",
       "      <td>38.0</td>\n",
       "      <td>0.0</td>\n",
       "      <td>0.29</td>\n",
       "      <td>661.68</td>\n",
       "    </tr>\n",
       "    <tr>\n",
       "      <th>108128</th>\n",
       "      <td>54_20220601 08</td>\n",
       "      <td>54</td>\n",
       "      <td>20220601 08</td>\n",
       "      <td>22.9</td>\n",
       "      <td>NaN</td>\n",
       "      <td>1.3</td>\n",
       "      <td>36.0</td>\n",
       "      <td>0.0</td>\n",
       "      <td>0.69</td>\n",
       "      <td>1210.32</td>\n",
       "    </tr>\n",
       "    <tr>\n",
       "      <th>108129</th>\n",
       "      <td>54_20220601 09</td>\n",
       "      <td>54</td>\n",
       "      <td>20220601 09</td>\n",
       "      <td>25.6</td>\n",
       "      <td>NaN</td>\n",
       "      <td>0.3</td>\n",
       "      <td>32.0</td>\n",
       "      <td>0.8</td>\n",
       "      <td>1.43</td>\n",
       "      <td>1901.16</td>\n",
       "    </tr>\n",
       "    <tr>\n",
       "      <th>108130</th>\n",
       "      <td>54_20220601 10</td>\n",
       "      <td>54</td>\n",
       "      <td>20220601 10</td>\n",
       "      <td>22.8</td>\n",
       "      <td>NaN</td>\n",
       "      <td>4.1</td>\n",
       "      <td>60.0</td>\n",
       "      <td>1.0</td>\n",
       "      <td>2.37</td>\n",
       "      <td>2460.60</td>\n",
       "    </tr>\n",
       "    <tr>\n",
       "      <th>108131</th>\n",
       "      <td>54_20220601 11</td>\n",
       "      <td>54</td>\n",
       "      <td>20220601 11</td>\n",
       "      <td>24.4</td>\n",
       "      <td>NaN</td>\n",
       "      <td>2.7</td>\n",
       "      <td>46.0</td>\n",
       "      <td>1.0</td>\n",
       "      <td>2.65</td>\n",
       "      <td>2768.40</td>\n",
       "    </tr>\n",
       "    <tr>\n",
       "      <th>108132</th>\n",
       "      <td>54_20220601 12</td>\n",
       "      <td>54</td>\n",
       "      <td>20220601 12</td>\n",
       "      <td>23.8</td>\n",
       "      <td>NaN</td>\n",
       "      <td>2.6</td>\n",
       "      <td>43.0</td>\n",
       "      <td>1.0</td>\n",
       "      <td>3.12</td>\n",
       "      <td>2823.84</td>\n",
       "    </tr>\n",
       "    <tr>\n",
       "      <th>108133</th>\n",
       "      <td>54_20220601 13</td>\n",
       "      <td>54</td>\n",
       "      <td>20220601 13</td>\n",
       "      <td>24.7</td>\n",
       "      <td>NaN</td>\n",
       "      <td>4.1</td>\n",
       "      <td>38.0</td>\n",
       "      <td>1.0</td>\n",
       "      <td>3.42</td>\n",
       "      <td>3227.40</td>\n",
       "    </tr>\n",
       "    <tr>\n",
       "      <th>108134</th>\n",
       "      <td>54_20220601 14</td>\n",
       "      <td>54</td>\n",
       "      <td>20220601 14</td>\n",
       "      <td>25.1</td>\n",
       "      <td>NaN</td>\n",
       "      <td>3.3</td>\n",
       "      <td>35.0</td>\n",
       "      <td>1.0</td>\n",
       "      <td>3.08</td>\n",
       "      <td>3123.00</td>\n",
       "    </tr>\n",
       "    <tr>\n",
       "      <th>108135</th>\n",
       "      <td>54_20220601 15</td>\n",
       "      <td>54</td>\n",
       "      <td>20220601 15</td>\n",
       "      <td>25.5</td>\n",
       "      <td>NaN</td>\n",
       "      <td>3.2</td>\n",
       "      <td>33.0</td>\n",
       "      <td>1.0</td>\n",
       "      <td>3.12</td>\n",
       "      <td>3101.76</td>\n",
       "    </tr>\n",
       "    <tr>\n",
       "      <th>108136</th>\n",
       "      <td>54_20220601 16</td>\n",
       "      <td>54</td>\n",
       "      <td>20220601 16</td>\n",
       "      <td>23.9</td>\n",
       "      <td>NaN</td>\n",
       "      <td>4.7</td>\n",
       "      <td>46.0</td>\n",
       "      <td>1.0</td>\n",
       "      <td>2.62</td>\n",
       "      <td>2899.08</td>\n",
       "    </tr>\n",
       "    <tr>\n",
       "      <th>108137</th>\n",
       "      <td>54_20220601 17</td>\n",
       "      <td>54</td>\n",
       "      <td>20220601 17</td>\n",
       "      <td>23.7</td>\n",
       "      <td>NaN</td>\n",
       "      <td>3.2</td>\n",
       "      <td>63.0</td>\n",
       "      <td>1.0</td>\n",
       "      <td>2.03</td>\n",
       "      <td>2721.96</td>\n",
       "    </tr>\n",
       "    <tr>\n",
       "      <th>108138</th>\n",
       "      <td>54_20220601 18</td>\n",
       "      <td>54</td>\n",
       "      <td>20220601 18</td>\n",
       "      <td>22.4</td>\n",
       "      <td>NaN</td>\n",
       "      <td>3.4</td>\n",
       "      <td>70.0</td>\n",
       "      <td>1.0</td>\n",
       "      <td>1.28</td>\n",
       "      <td>2694.60</td>\n",
       "    </tr>\n",
       "    <tr>\n",
       "      <th>108139</th>\n",
       "      <td>54_20220601 19</td>\n",
       "      <td>54</td>\n",
       "      <td>20220601 19</td>\n",
       "      <td>21.4</td>\n",
       "      <td>NaN</td>\n",
       "      <td>3.0</td>\n",
       "      <td>65.0</td>\n",
       "      <td>0.8</td>\n",
       "      <td>0.50</td>\n",
       "      <td>2587.32</td>\n",
       "    </tr>\n",
       "    <tr>\n",
       "      <th>108140</th>\n",
       "      <td>54_20220601 20</td>\n",
       "      <td>54</td>\n",
       "      <td>20220601 20</td>\n",
       "      <td>21.5</td>\n",
       "      <td>NaN</td>\n",
       "      <td>4.3</td>\n",
       "      <td>54.0</td>\n",
       "      <td>0.0</td>\n",
       "      <td>0.03</td>\n",
       "      <td>1672.20</td>\n",
       "    </tr>\n",
       "    <tr>\n",
       "      <th>108141</th>\n",
       "      <td>54_20220601 21</td>\n",
       "      <td>54</td>\n",
       "      <td>20220601 21</td>\n",
       "      <td>21.5</td>\n",
       "      <td>NaN</td>\n",
       "      <td>4.8</td>\n",
       "      <td>45.0</td>\n",
       "      <td>NaN</td>\n",
       "      <td>NaN</td>\n",
       "      <td>851.40</td>\n",
       "    </tr>\n",
       "    <tr>\n",
       "      <th>108142</th>\n",
       "      <td>54_20220601 22</td>\n",
       "      <td>54</td>\n",
       "      <td>20220601 22</td>\n",
       "      <td>20.3</td>\n",
       "      <td>NaN</td>\n",
       "      <td>4.0</td>\n",
       "      <td>67.0</td>\n",
       "      <td>NaN</td>\n",
       "      <td>NaN</td>\n",
       "      <td>741.24</td>\n",
       "    </tr>\n",
       "    <tr>\n",
       "      <th>108143</th>\n",
       "      <td>54_20220601 23</td>\n",
       "      <td>54</td>\n",
       "      <td>20220601 23</td>\n",
       "      <td>19.9</td>\n",
       "      <td>NaN</td>\n",
       "      <td>5.0</td>\n",
       "      <td>68.0</td>\n",
       "      <td>NaN</td>\n",
       "      <td>NaN</td>\n",
       "      <td>692.28</td>\n",
       "    </tr>\n",
       "  </tbody>\n",
       "</table>\n",
       "</div>"
      ],
      "text/plain": [
       "         num_date_time  건물번호           일시  기온(C)  강수량(mm)  풍속(m/s)  습도(%)  \\\n",
       "108120  54_20220601 00    54  20220601 00   18.6      NaN      2.6   62.0   \n",
       "108121  54_20220601 01    54  20220601 01   18.8      NaN      0.4   62.0   \n",
       "108122  54_20220601 02    54  20220601 02   18.9      NaN      0.0   52.0   \n",
       "108123  54_20220601 03    54  20220601 03   20.2      NaN      2.4   38.0   \n",
       "108124  54_20220601 04    54  20220601 04   20.4      NaN      2.8   40.0   \n",
       "108125  54_20220601 05    54  20220601 05   20.0      NaN      1.7   41.0   \n",
       "108126  54_20220601 06    54  20220601 06   19.6      NaN      0.0   47.0   \n",
       "108127  54_20220601 07    54  20220601 07   21.2      NaN      2.0   38.0   \n",
       "108128  54_20220601 08    54  20220601 08   22.9      NaN      1.3   36.0   \n",
       "108129  54_20220601 09    54  20220601 09   25.6      NaN      0.3   32.0   \n",
       "108130  54_20220601 10    54  20220601 10   22.8      NaN      4.1   60.0   \n",
       "108131  54_20220601 11    54  20220601 11   24.4      NaN      2.7   46.0   \n",
       "108132  54_20220601 12    54  20220601 12   23.8      NaN      2.6   43.0   \n",
       "108133  54_20220601 13    54  20220601 13   24.7      NaN      4.1   38.0   \n",
       "108134  54_20220601 14    54  20220601 14   25.1      NaN      3.3   35.0   \n",
       "108135  54_20220601 15    54  20220601 15   25.5      NaN      3.2   33.0   \n",
       "108136  54_20220601 16    54  20220601 16   23.9      NaN      4.7   46.0   \n",
       "108137  54_20220601 17    54  20220601 17   23.7      NaN      3.2   63.0   \n",
       "108138  54_20220601 18    54  20220601 18   22.4      NaN      3.4   70.0   \n",
       "108139  54_20220601 19    54  20220601 19   21.4      NaN      3.0   65.0   \n",
       "108140  54_20220601 20    54  20220601 20   21.5      NaN      4.3   54.0   \n",
       "108141  54_20220601 21    54  20220601 21   21.5      NaN      4.8   45.0   \n",
       "108142  54_20220601 22    54  20220601 22   20.3      NaN      4.0   67.0   \n",
       "108143  54_20220601 23    54  20220601 23   19.9      NaN      5.0   68.0   \n",
       "\n",
       "        일조(hr)  일사(MJ/m2)  전력소비량(kWh)  \n",
       "108120     NaN        NaN      578.16  \n",
       "108121     NaN        NaN      408.24  \n",
       "108122     NaN        NaN      398.16  \n",
       "108123     NaN        NaN      387.36  \n",
       "108124     NaN        NaN      387.36  \n",
       "108125     NaN        NaN      419.76  \n",
       "108126     0.0       0.04      612.72  \n",
       "108127     0.0       0.29      661.68  \n",
       "108128     0.0       0.69     1210.32  \n",
       "108129     0.8       1.43     1901.16  \n",
       "108130     1.0       2.37     2460.60  \n",
       "108131     1.0       2.65     2768.40  \n",
       "108132     1.0       3.12     2823.84  \n",
       "108133     1.0       3.42     3227.40  \n",
       "108134     1.0       3.08     3123.00  \n",
       "108135     1.0       3.12     3101.76  \n",
       "108136     1.0       2.62     2899.08  \n",
       "108137     1.0       2.03     2721.96  \n",
       "108138     1.0       1.28     2694.60  \n",
       "108139     0.8       0.50     2587.32  \n",
       "108140     0.0       0.03     1672.20  \n",
       "108141     NaN        NaN      851.40  \n",
       "108142     NaN        NaN      741.24  \n",
       "108143     NaN        NaN      692.28  "
      ]
     },
     "execution_count": 57,
     "metadata": {},
     "output_type": "execute_result"
    }
   ],
   "source": [
    "train[train['건물번호']==54].head(24)"
   ]
  },
  {
   "cell_type": "code",
   "execution_count": 52,
   "id": "351c4d4f-8be3-4b88-8b73-d4ab11fb5b1f",
   "metadata": {},
   "outputs": [],
   "source": [
    "bi = pd.read_csv('building_info.csv')"
   ]
  },
  {
   "cell_type": "code",
   "execution_count": 54,
   "id": "f8706ef3-cad3-47a4-b24e-8049a90ee3a0",
   "metadata": {},
   "outputs": [
    {
     "data": {
      "text/html": [
       "<div>\n",
       "<style scoped>\n",
       "    .dataframe tbody tr th:only-of-type {\n",
       "        vertical-align: middle;\n",
       "    }\n",
       "\n",
       "    .dataframe tbody tr th {\n",
       "        vertical-align: top;\n",
       "    }\n",
       "\n",
       "    .dataframe thead th {\n",
       "        text-align: right;\n",
       "    }\n",
       "</style>\n",
       "<table border=\"1\" class=\"dataframe\">\n",
       "  <thead>\n",
       "    <tr style=\"text-align: right;\">\n",
       "      <th></th>\n",
       "      <th>건물번호</th>\n",
       "      <th>건물유형</th>\n",
       "      <th>연면적(m2)</th>\n",
       "      <th>냉방면적(m2)</th>\n",
       "      <th>태양광용량(kW)</th>\n",
       "      <th>ESS저장용량(kWh)</th>\n",
       "      <th>PCS용량(kW)</th>\n",
       "    </tr>\n",
       "  </thead>\n",
       "  <tbody>\n",
       "    <tr>\n",
       "      <th>53</th>\n",
       "      <td>54</td>\n",
       "      <td>상용</td>\n",
       "      <td>109400.2</td>\n",
       "      <td>65803.57</td>\n",
       "      <td>-</td>\n",
       "      <td>-</td>\n",
       "      <td>-</td>\n",
       "    </tr>\n",
       "  </tbody>\n",
       "</table>\n",
       "</div>"
      ],
      "text/plain": [
       "    건물번호 건물유형   연면적(m2)  냉방면적(m2) 태양광용량(kW) ESS저장용량(kWh) PCS용량(kW)\n",
       "53    54   상용  109400.2  65803.57         -            -         -"
      ]
     },
     "execution_count": 54,
     "metadata": {},
     "output_type": "execute_result"
    }
   ],
   "source": [
    "bi[bi['건물번호']==54]"
   ]
  },
  {
   "cell_type": "markdown",
   "id": "5c0cf122-9f49-493a-9b95-02af1805b780",
   "metadata": {},
   "source": [
    "test와 train의 분포 차이 확인  \n",
    "random forest 모델 확인  \n",
    "과대 예측 잡기  \n",
    "54번 건물 주의(튀는 애 발견, outlier 제거 후 시도 예를 들면 뒤에서 1000개 빼서 수행)  \n",
    "feature selection 요망  "
   ]
  },
  {
   "cell_type": "code",
   "execution_count": null,
   "id": "e8012194-9890-40f6-b8a3-ddbdc3b3e842",
   "metadata": {},
   "outputs": [],
   "source": []
  }
 ],
 "metadata": {
  "kernelspec": {
   "display_name": "Python 3 (ipykernel)",
   "language": "python",
   "name": "python3"
  },
  "language_info": {
   "codemirror_mode": {
    "name": "ipython",
    "version": 3
   },
   "file_extension": ".py",
   "mimetype": "text/x-python",
   "name": "python",
   "nbconvert_exporter": "python",
   "pygments_lexer": "ipython3",
   "version": "3.10.8"
  }
 },
 "nbformat": 4,
 "nbformat_minor": 5
}
